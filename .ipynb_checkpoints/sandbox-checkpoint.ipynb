{
 "cells": [
  {
   "cell_type": "code",
   "execution_count": 1,
   "id": "0a0b8858-e530-4f24-979a-eda8295481ff",
   "metadata": {},
   "outputs": [
    {
     "name": "stderr",
     "output_type": "stream",
     "text": [
      "\u001b[32m\u001b[1m  Activating\u001b[22m\u001b[39m environment at `~/Desktop/SelectivelyAdaptiveLasso/Project.toml`\n"
     ]
    }
   ],
   "source": [
    "using Pkg, Revise\n",
    "Pkg.activate(\".\")"
   ]
  },
  {
   "cell_type": "code",
   "execution_count": 4,
   "id": "cc871c5c-b1f4-4da9-b74b-ddec089c413a",
   "metadata": {},
   "outputs": [
    {
     "name": "stderr",
     "output_type": "stream",
     "text": [
      "┌ Info: Precompiling SelectivelyAdaptiveLasso [52f33b2b-83b2-4cfe-8aa4-4763af86ef4f]\n",
      "└ @ Base loading.jl:1342\n",
      "\u001b[33m\u001b[1m┌ \u001b[22m\u001b[39m\u001b[33m\u001b[1mWarning: \u001b[22m\u001b[39mPackage SelectivelyAdaptiveLasso does not have Combinatorics in its dependencies:\n",
      "\u001b[33m\u001b[1m│ \u001b[22m\u001b[39m- If you have SelectivelyAdaptiveLasso checked out for development and have\n",
      "\u001b[33m\u001b[1m│ \u001b[22m\u001b[39m  added Combinatorics as a dependency but haven't updated your primary\n",
      "\u001b[33m\u001b[1m│ \u001b[22m\u001b[39m  environment's manifest file, try `Pkg.resolve()`.\n",
      "\u001b[33m\u001b[1m│ \u001b[22m\u001b[39m- Otherwise you may need to report an issue with SelectivelyAdaptiveLasso\n",
      "\u001b[33m\u001b[1m└ \u001b[22m\u001b[39mLoading Combinatorics into SelectivelyAdaptiveLasso from project dependency, future warnings for SelectivelyAdaptiveLasso are suppressed.\n"
     ]
    }
   ],
   "source": [
    "import SelectivelyAdaptiveLasso as SAL"
   ]
  },
  {
   "cell_type": "code",
   "execution_count": 110,
   "id": "ca93938e-0ecf-44fe-983f-95d7060797c8",
   "metadata": {
    "tags": []
   },
   "outputs": [
    {
     "data": {
      "text/plain": [
       "0.046957076042170864"
      ]
     },
     "execution_count": 110,
     "metadata": {},
     "output_type": "execute_result"
    }
   ],
   "source": [
    "import Statistics: mean\n",
    "import Distributions as Dist\n",
    "import LinearAlgebra: diagm\n",
    "\n",
    "n, p = 5000, 50\n",
    "\n",
    "X_dist = Dist.reshape(\n",
    "    Dist.MvNormal(zeros(p), 0.1ones(p,p) + 0.9diagm(ones(p))), \n",
    "    (1,p)\n",
    ")\n",
    "\n",
    "X = vcat(rand(X_dist, n)...);\n",
    "# Y = rand(n)\n",
    "Y = 5X[:,1] + X[:,2].^2 - 3X[:,3].*X[:,4]\n",
    "Y = Y .- mean(Y)\n",
    "Y = Y / max(abs.(Y)...)\n",
    "\n",
    "mean((Y .- mean(Y)).^2)"
   ]
  },
  {
   "cell_type": "code",
   "execution_count": 111,
   "id": "7c27b23b-58c5-4dbc-87d4-9d0e9d8ed300",
   "metadata": {},
   "outputs": [
    {
     "name": "stdout",
     "output_type": "stream",
     "text": [
      " 26.478814 seconds (50.06 k allocations: 5.867 GiB, 1.71% gc time)\n",
      "  0.000307 seconds (43 allocations: 316.047 KiB)\n",
      "(1, 0.046957076042170864)\n"
     ]
    }
   ],
   "source": [
    "@time bases = SAL.Bases(\n",
    "    X, \n",
    "    # sections = Set([\n",
    "    #     Set([1]),\n",
    "    #     Set([3,4]),\n",
    "    # ])\n",
    ")\n",
    "\n",
    "λ = 1\n",
    "@time β, R, l = SAL.coordinate_descent(bases, Y, λ=λ)\n",
    "print((λ, mean(R.^2)))\n",
    "print(\"\\n\")"
   ]
  },
  {
   "cell_type": "code",
   "execution_count": 112,
   "id": "49b3302d-4dba-45a7-a96b-ed313856d5d2",
   "metadata": {},
   "outputs": [
    {
     "name": "stdout",
     "output_type": "stream",
     "text": [
      "  0.298144 seconds (56 allocations: 197.019 MiB, 4.17% gc time)\n",
      "  2.139647 seconds (40.08 k allocations: 63.545 MiB, 2.17% gc time)\n",
      "  0.155671 seconds (33 allocations: 314.844 KiB)\n",
      "(1, Set([1]), 0.046957076042170864)\n",
      "  0.653666 seconds (74 allocations: 293.010 MiB, 59.15% gc time)\n",
      "  2.663245 seconds (40.04 k allocations: 77.924 MiB)\n",
      "  0.322776 seconds (33 allocations: 314.844 KiB)\n",
      "(1, Set([4, 24]), 0.046957076042170864)\n",
      "  0.212106 seconds (56 allocations: 197.019 MiB)\n",
      "  1.911100 seconds (40.02 k allocations: 62.312 MiB, 2.25% gc time)\n",
      "  0.478515 seconds (33 allocations: 314.844 KiB)\n",
      "(1, Set([13]), 0.046957076042170864)\n",
      "  0.262239 seconds (74 allocations: 293.006 MiB)\n",
      "  2.190647 seconds (40.02 k allocations: 74.230 MiB)\n",
      "  0.638033 seconds (33 allocations: 314.844 KiB)\n",
      "(1, Set([5, 4]), 0.046957076042170864)\n",
      "  0.231955 seconds (56 allocations: 197.018 MiB, 16.44% gc time)\n",
      "  0.641832 seconds (33 allocations: 314.844 KiB)\n",
      "(0.6666666666666666, Set([1]), 0.046957076042170864)\n",
      "  0.215822 seconds (56 allocations: 197.018 MiB)\n",
      "  3.747642 seconds (40.04 k allocations: 77.062 MiB)\n",
      "  0.782902 seconds (33 allocations: 314.844 KiB)\n",
      "(0.6666666666666666, Set([26]), 0.046957076042170864)\n",
      "  0.234484 seconds (56 allocations: 197.018 MiB, 21.22% gc time)\n",
      "  1.908982 seconds (40.02 k allocations: 62.312 MiB)\n",
      "  0.973150 seconds (33 allocations: 314.844 KiB)\n",
      "(0.6666666666666666, Set([47]), 0.046957076042170864)\n",
      "  0.329894 seconds (74 allocations: 293.004 MiB)\n",
      "  2.314240 seconds (39.97 k allocations: 74.198 MiB, 2.34% gc time)\n",
      "  1.143019 seconds (33 allocations: 314.844 KiB)\n",
      "(0.6666666666666666, Set([3, 1]), 0.046957076042170864)\n",
      "  0.267322 seconds (74 allocations: 293.006 MiB)\n",
      "  1.131320 seconds (33 allocations: 314.844 KiB)\n",
      "(0.4444444444444444, Set([5, 4]), 0.046957076042170864)\n",
      "  0.262003 seconds (56 allocations: 197.020 MiB, 17.08% gc time)\n",
      "  1.949590 seconds (40.02 k allocations: 62.312 MiB)\n",
      "  1.302856 seconds (33 allocations: 314.844 KiB)\n",
      "(0.4444444444444444, Set([14]), 0.046957076042170864)\n",
      "  0.179817 seconds (56 allocations: 197.019 MiB)\n",
      "  1.969584 seconds (39.99 k allocations: 62.290 MiB)\n",
      "  1.423876 seconds (33 allocations: 314.844 KiB)\n",
      "(0.4444444444444444, Set([5]), 0.046957076042170864)\n",
      "  0.347494 seconds (74 allocations: 293.008 MiB, 14.36% gc time)\n",
      "  2.247814 seconds (39.99 k allocations: 74.212 MiB)\n",
      "  1.631669 seconds (33 allocations: 314.844 KiB)\n",
      "(0.4444444444444444, Set([35, 1]), 0.046957076042170864)\n",
      "  0.491744 seconds (92 allocations: 389.003 MiB, 10.96% gc time)\n",
      "  2.513391 seconds (39.99 k allocations: 86.132 MiB)\n",
      "  1.779720 seconds (33 allocations: 314.844 KiB)\n",
      "(0.4444444444444444, Set([4, 47, 1]), 0.046957076042170864)\n",
      "  0.152149 seconds (56 allocations: 197.018 MiB)\n",
      "  1.799169 seconds (33 allocations: 314.844 KiB)\n",
      "(0.2962962962962963, Set([1]), 0.046957076042170864)\n",
      "  0.209526 seconds (56 allocations: 197.019 MiB)\n",
      "  2.059242 seconds (40.02 k allocations: 62.312 MiB, 3.06% gc time)\n",
      "  1.946450 seconds (33 allocations: 314.844 KiB)\n",
      "(0.2962962962962963, Set([38]), 0.046957076042170864)\n",
      "  0.304213 seconds (74 allocations: 293.005 MiB)\n",
      "  2.284222 seconds (39.96 k allocations: 74.193 MiB)\n",
      "  2.140391 seconds (33 allocations: 314.844 KiB)\n",
      "(0.2962962962962963, Set([2, 1]), 0.046957076042170864)\n",
      "  0.361865 seconds (74 allocations: 293.005 MiB, 14.40% gc time)\n",
      "  2.156361 seconds (33 allocations: 314.844 KiB)\n",
      "(0.19753086419753085, Set([2, 1]), 0.046957076042170864)\n",
      "  0.213807 seconds (56 allocations: 197.018 MiB)\n",
      "  1.997669 seconds (40.02 k allocations: 62.312 MiB)\n",
      "  2.292242 seconds (33 allocations: 314.844 KiB)\n",
      "(0.19753086419753085, Set([28]), 0.046957076042170864)\n",
      "  0.356325 seconds (74 allocations: 293.009 MiB, 14.77% gc time)\n",
      "  2.334834 seconds (39.96 k allocations: 74.195 MiB)\n",
      "  2.465942 seconds (33 allocations: 314.844 KiB)\n",
      "(0.19753086419753085, Set([41, 1]), 0.046957076042170864)\n",
      "  0.183290 seconds (56 allocations: 197.020 MiB)\n",
      "  2.025379 seconds (39.95 k allocations: 62.269 MiB)\n",
      "  2.647965 seconds (33 allocations: 314.844 KiB)\n",
      "(0.19753086419753085, Set([24]), 0.046957076042170864)\n"
     ]
    }
   ],
   "source": [
    "for i in 1:20\n",
    "    @time section = SAL.section_search(\n",
    "        bases, R, \n",
    "        n_subsample=500, \n",
    "        m_subsample=500\n",
    "    )\n",
    "    if section in bases.sections\n",
    "        λ /= 1.5\n",
    "    else\n",
    "        @time SAL.add_section!(bases, section)\n",
    "    end\n",
    "    @time β, R, l = SAL.coordinate_descent(bases, Y, λ=λ, β=β)\n",
    "    \n",
    "    print((λ, section, mean(R.^2)))\n",
    "    print(\"\\n\")\n",
    "end"
   ]
  },
  {
   "cell_type": "code",
   "execution_count": 81,
   "id": "6774f6ee-7097-4ed1-9972-6edd26ea9589",
   "metadata": {},
   "outputs": [
    {
     "data": {
      "text/plain": [
       "214338"
      ]
     },
     "execution_count": 81,
     "metadata": {},
     "output_type": "execute_result"
    }
   ],
   "source": [
    "length(bases.dict)"
   ]
  },
  {
   "cell_type": "code",
   "execution_count": 80,
   "id": "9b751960-da80-438f-9ed2-415bee1ac04e",
   "metadata": {},
   "outputs": [
    {
     "data": {
      "text/plain": [
       "2328"
      ]
     },
     "execution_count": 80,
     "metadata": {},
     "output_type": "execute_result"
    }
   ],
   "source": [
    "length(β)"
   ]
  },
  {
   "cell_type": "code",
   "execution_count": 79,
   "id": "3118a173-b9dd-4c42-b77a-0fe6fa01602f",
   "metadata": {},
   "outputs": [
    {
     "data": {
      "text/plain": [
       "1343"
      ]
     },
     "execution_count": 79,
     "metadata": {},
     "output_type": "execute_result"
    }
   ],
   "source": [
    "length(Dict(b=>βb for (b,βb) in β if βb ≥ 1e-16))"
   ]
  },
  {
   "cell_type": "code",
   "execution_count": 75,
   "id": "f9766dfd-8431-4dfc-aae7-0b32cc413eb8",
   "metadata": {},
   "outputs": [
    {
     "data": {
      "text/plain": [
       "Set{Set{Int64}} with 44 elements:\n",
       "  Set([2, 12])\n",
       "  Set([5, 1])\n",
       "  Set([34])\n",
       "  Set([4, 11, 3])\n",
       "  Set([1])\n",
       "  Set([5])\n",
       "  Set([14, 37])\n",
       "  Set([4, 35])\n",
       "  Set([37])\n",
       "  Set([18, 1])\n",
       "  Set([46])\n",
       "  Set([13, 6, 2, 1])\n",
       "  Set([2, 3])\n",
       "  Set([3])\n",
       "  Set([7, 1])\n",
       "  Set([39, 3])\n",
       "  Set([23])\n",
       "  Set([16, 1])\n",
       "  Set([4])\n",
       "  Set([16, 2, 3])\n",
       "  Set([33])\n",
       "  Set([6, 2])\n",
       "  Set([31, 1])\n",
       "  Set([4, 3, 37])\n",
       "  Set([4, 1])\n",
       "  ⋮ "
      ]
     },
     "execution_count": 75,
     "metadata": {},
     "output_type": "execute_result"
    }
   ],
   "source": [
    "bases.sections"
   ]
  },
  {
   "cell_type": "code",
   "execution_count": 60,
   "id": "0953db19-de6d-428b-8673-2d921e46dc26",
   "metadata": {},
   "outputs": [
    {
     "ename": "LoadError",
     "evalue": "MethodError: no method matching sortperm(::Matrix{Float64})\n\u001b[0mClosest candidates are:\n\u001b[0m  sortperm(\u001b[91m::AbstractUnitRange\u001b[39m) at range.jl:1065\n\u001b[0m  sortperm(\u001b[91m::AbstractRange\u001b[39m) at range.jl:1066\n\u001b[0m  sortperm(\u001b[91m::AbstractVector{T} where T\u001b[39m; alg, lt, by, rev, order) at sort.jl:899",
     "output_type": "error",
     "traceback": [
      "MethodError: no method matching sortperm(::Matrix{Float64})\n\u001b[0mClosest candidates are:\n\u001b[0m  sortperm(\u001b[91m::AbstractUnitRange\u001b[39m) at range.jl:1065\n\u001b[0m  sortperm(\u001b[91m::AbstractRange\u001b[39m) at range.jl:1066\n\u001b[0m  sortperm(\u001b[91m::AbstractVector{T} where T\u001b[39m; alg, lt, by, rev, order) at sort.jl:899",
      "",
      "Stacktrace:",
      " [1] top-level scope",
      "   @ In[60]:1",
      " [2] eval",
      "   @ ./boot.jl:360 [inlined]",
      " [3] include_string(mapexpr::typeof(REPL.softscope), mod::Module, code::String, filename::String)",
      "   @ Base ./loading.jl:1116"
     ]
    }
   ],
   "source": [
    "sortperm(rand(5,4))"
   ]
  },
  {
   "cell_type": "code",
   "execution_count": 53,
   "id": "f78a9d1e-99b8-4d1f-8388-bc4c41f90b33",
   "metadata": {},
   "outputs": [
    {
     "data": {
      "text/plain": [
       "Set{Set{Int64}} with 13 elements:\n",
       "  Set([4, 10, 3])\n",
       "  Set([5, 4, 6, 2, 10, 9, 8, 3, 1])\n",
       "  Set([2, 3, 1])\n",
       "  Set([7, 2, 10, 8, 3])\n",
       "  Set([10, 8, 3, 1])\n",
       "  Set([2, 8, 3])\n",
       "  Set([2, 1])\n",
       "  Set([8, 3, 1])\n",
       "  Set([4, 7, 10, 8, 3, 1])\n",
       "  Set{Int64}()\n",
       "  Set([10, 9, 8, 3, 1])\n",
       "  Set([3, 1])\n",
       "  Set([7, 10, 8, 3, 1])"
      ]
     },
     "execution_count": 53,
     "metadata": {},
     "output_type": "execute_result"
    }
   ],
   "source": [
    "bases.sections"
   ]
  },
  {
   "cell_type": "code",
   "execution_count": 11,
   "id": "b3004444-8e48-4f06-b1a2-5d515f54e344",
   "metadata": {
    "tags": []
   },
   "outputs": [
    {
     "name": "stderr",
     "output_type": "stream",
     "text": [
      "┌ Warning: /Users/aschuler/Desktop/SelectivelyAdaptiveLasso/src/fit.jl no longer exists, deleted all methods\n",
      "└ @ Revise /Users/aschuler/.julia/packages/Revise/3RMhb/src/packagedef.jl:657\n"
     ]
    }
   ],
   "source": [
    "# @time β, cycle_loss, iter_loss = SAL.lasso_coordinate_descent(hcat(X,ones(n)), Y, λ=0.02)\n",
    "# length(iter_loss), length(cycle_loss), cycle_loss[end], length(β[β.>1e-14])"
   ]
  },
  {
   "cell_type": "code",
   "execution_count": 77,
   "id": "3159d5cc-c688-4a08-986a-0d975caf7219",
   "metadata": {
    "tags": []
   },
   "outputs": [
    {
     "name": "stdout",
     "output_type": "stream",
     "text": [
      "  0.455517 seconds (840.59 k allocations: 50.132 MiB, 99.64% compilation time)\n"
     ]
    },
    {
     "data": {
      "text/plain": [
       "(2, 0.024240977106518288, 0)"
      ]
     },
     "execution_count": 77,
     "metadata": {},
     "output_type": "execute_result"
    }
   ],
   "source": [
    "@time β, cycle_loss = SAL.coordinate_descent(bases, Y, λ=0.001)\n",
    "length(cycle_loss), cycle_loss[end], length(β)"
   ]
  },
  {
   "cell_type": "code",
   "execution_count": 88,
   "id": "c1475196-479d-470f-9666-3952f8a13a14",
   "metadata": {},
   "outputs": [
    {
     "data": {
      "text/plain": [
       "predict (generic function with 1 method)"
      ]
     },
     "execution_count": 88,
     "metadata": {},
     "output_type": "execute_result"
    }
   ],
   "source": [
    "Section = Set{Int}\n",
    "mutable struct SelectivelyAdaptiveLasso    \n",
    "    # stopping hyperparameters\n",
    "    λ::Float64 # minimum desired regularization strength \n",
    "    B::Int # maximum number of sections to adaptively select and use\n",
    "    max_iter::Int # maximum iterations to step through\n",
    "    \n",
    "    # fitting hyperparameters\n",
    "    sections::Set{Section} # sections to always include \n",
    "    λ_ratio::Float64 # multiplicative increment between regularization: λₖ₊₁ = rλₖ \n",
    "    m_knots::Int # number of data points from training data to use as knots\n",
    "    n_subsample::Int # number of observations to use in section selection\n",
    "    m_subsample::Int # number of knots to use in section selection\n",
    "end\n",
    "\n",
    "mutable struct SALFit\n",
    "    knots::Matrix{Float64} # (m x p) matrix, each row is a knot\n",
    "    sections::Set{Section}\n",
    "    β::Dict{Tuple{Int, Section}, Float64} # maps (knot, section) => coefficient\n",
    "end\n",
    "\n",
    "function SelectivelyAdaptiveLasso(;\n",
    "        λ::Real = 0,\n",
    "        B::Int = typemax(Int),\n",
    "        max_iter::Int = typemax(Int),\n",
    "        sections::Set{Section} = Set([Section()]),\n",
    "        λ_ratio::Real = 2/3,\n",
    "        m_knots::Int = -1, # let the data choose\n",
    "        n_subsample::Int = 500,\n",
    "        m_subsample::Int = 500,\n",
    "    )\n",
    "    if (λ==0) & B==typemax(Int) & max_iter==typemax(Int)\n",
    "        error(\"One of λ, B, or max_iter must be provided\")\n",
    "    end\n",
    "\n",
    "    if (λ < 0) | (1 ≤ λ)\n",
    "        error(\"requires λ ∈ [0,1)\")\n",
    "    end        \n",
    "    \n",
    "    if (λ_ratio ≤ 0) | (1 ≤ λ_ratio)\n",
    "        error(\"requires λ_ratio ∈ (0,1)\")\n",
    "    end\n",
    "    \n",
    "    return SelectivelyAdaptiveLasso(\n",
    "        float(λ), B, max_iterations, \n",
    "        sections, λ_ratio,\n",
    "        m_knots, n_subsample, m_subsample\n",
    "    )\n",
    "end\n",
    "\n",
    "function predict(sal_fit::SALFit, X::Matrix{Float64})\n",
    "    bases = Bases(X, knots=sal_fit.knots, sections=sal_fit.sections)\n",
    "    return bases * sal_fit.β\n",
    "end"
   ]
  },
  {
   "cell_type": "code",
   "execution_count": null,
   "id": "d74c3001-ae30-4214-8809-0e3519a47ae4",
   "metadata": {},
   "outputs": [],
   "source": [
    "function fit(\n",
    "    # model object and hyperparameters\n",
    "        sal::SelectivelyAdaptiveLasso\n",
    "    # training data\n",
    "        X::Matrix{Float64}, \n",
    "        Y::Matrix{Flloat64};\n",
    "    # validation data for early stopping\n",
    "        X_val::Union{Nothing, Matrix{Float64}} = nothing, \n",
    "        Y_val::Union{Nothing, Matrix{Float64}} = nothing,\n",
    "    )::SALFit\n",
    "    #= \n",
    "    Fits the selectively adaptive lasso\n",
    "    =#\n",
    "    if !isnothing(X_val) & !isnothing(Y_val)\n",
    "        val = true\n",
    "    end\n",
    "    \n",
    "    n,p = size(X)\n",
    "    m = min(n, sal.m_knots)\n",
    "    knots = X[sample(1:n, m, replace=false),:]\n",
    "    bases = SAL.Bases(X, knots, sal.sections)\n",
    "    λ = (n*max(Y...)) # pick initial λ so that |Yᵢ| ≤ max(Y) => β=0\n",
    "    \n",
    "    β, R, _ = SAL.coordinate_descent(bases, Y, λ=λ)\n",
    "    loss = [mean(R.^2)] \n",
    "    if val\n",
    "        bases_val = SAL.Bases(X_val, bases.knots, bases.sections)\n",
    "        R_val = bases_val*β\n",
    "        loss_val = [mean(R_val.^2)]\n",
    "    end\n",
    "    \n",
    "    for i in 0:sal.max_iter\n",
    "        if (λ < sal.λ) | length(bases.sections ≥ sal.B)\n",
    "            break\n",
    "        end\n",
    "        \n",
    "        section = SAL.section_search(\n",
    "            bases, R, \n",
    "            n_subsample=sal.n_subsample, \n",
    "            m_subsample=sal.m_subsample,\n",
    "        )\n",
    "        if section in bases.sections\n",
    "            λ *= sal.λ_ratio\n",
    "        else\n",
    "            SAL.add_section!(bases, section)\n",
    "            if val # can optimize this to just add the bases needed for β later: add function to Bases\n",
    "                SAL.add_section!(bases_val, section)\n",
    "            end\n",
    "        end\n",
    "        \n",
    "        β, R, l = SAL.coordinate_descent(bases, Y, λ=λ, β=β)\n",
    "        push!(loss, mean(R.^2))\n",
    "        if val\n",
    "            R_val = bases_val*β\n",
    "            loss_val = [mean(R_val.^2)]\n",
    "        end\n",
    "        \n",
    "        print((λ, section, mean(R.^2)))\n",
    "        print(\"\\n\")\n",
    "    end\n",
    "        \n",
    "    end\n",
    "    \n",
    "    # λ_max = n makes sense if y ∈ [-1,1] (center and then scale)\n",
    "    \n",
    "end"
   ]
  },
  {
   "cell_type": "markdown",
   "id": "9e4aa88d-9c92-4fe5-b45e-9fec029decf3",
   "metadata": {},
   "source": [
    "accept train/val data, max lambda\n",
    "\n",
    "    create initial bases for train/val (use train knots for val)\n",
    "    \n",
    "    pick first section using train\n",
    "    add these bases to the fitting set, construct them for the validation set (use same dict structure)\n",
    "\n",
    "    loop:\n",
    "        fit lasso on training set\n",
    "        calculate val mse and add to record (train mse, val mse, section, lambda)\n",
    "        decide: \n",
    "            1. new section (repeat above block)\n",
    "            2. decrease lambda (unless min or 2nd time in a row)"
   ]
  },
  {
   "cell_type": "code",
   "execution_count": 65,
   "id": "6255a2cf-17b5-4558-acde-fb9a32d96e1a",
   "metadata": {
    "tags": []
   },
   "outputs": [
    {
     "name": "stdout",
     "output_type": "stream",
     "text": [
      "0.0\n",
      "392.256850549578\n",
      "505.06678751022395\n",
      "  1.414116 seconds (240 allocations: 1.121 GiB, 3.95% gc time)\n"
     ]
    },
    {
     "data": {
      "text/plain": [
       "2-element Vector{Int64}:\n",
       " 2\n",
       " 3"
      ]
     },
     "execution_count": 65,
     "metadata": {},
     "output_type": "execute_result"
    }
   ],
   "source": [
    "@time next_bases, section = bases_tree_loop(Y, bases);\n",
    "section"
   ]
  },
  {
   "cell_type": "code",
   "execution_count": 38,
   "id": "91ab0267-ce9d-4ed1-af9f-9290dc44c983",
   "metadata": {},
   "outputs": [
    {
     "name": "stdout",
     "output_type": "stream",
     "text": [
      "  9.732577 seconds (2.43 M allocations: 18.409 GiB, 36.88% gc time)\n"
     ]
    },
    {
     "data": {
      "text/plain": [
       "DefaultDict{Tuple{Int64, Int64}, Float64, Int64} with 6634 entries:\n",
       "  (423, 30) => 0.00602341\n",
       "  (547, 32) => 0.0\n",
       "  (411, 1)  => 0.0\n",
       "  (990, 9)  => -9.26322e-5\n",
       "  (141, 20) => -0.0829121\n",
       "  (332, 33) => -0.000118015\n",
       "  (210, 30) => -0.000636054\n",
       "  (229, 33) => 0.0126294\n",
       "  (820, 33) => 0.0\n",
       "  (981, 33) => 0.00241622\n",
       "  (605, 42) => -0.00156275\n",
       "  (779, 8)  => 0.0\n",
       "  (743, 1)  => 0.000993445\n",
       "  (442, 22) => 0.0\n",
       "  (245, 28) => 0.00925831\n",
       "  (52, 32)  => -0.0104064\n",
       "  (506, 39) => 0.00117442\n",
       "  (369, 32) => 0.00062154\n",
       "  (147, 18) => 0.0\n",
       "  (752, 10) => 0.0\n",
       "  (824, 22) => 0.0\n",
       "  (91, 30)  => 0.0269337\n",
       "  (100, 10) => 0.0\n",
       "  (357, 48) => 0.0\n",
       "  (724, 23) => 0.0\n",
       "  ⋮         => ⋮"
      ]
     },
     "execution_count": 38,
     "metadata": {},
     "output_type": "execute_result"
    }
   ],
   "source": [
    "@time β = coordinate_descent(bases_dict, Y, λ=1)"
   ]
  },
  {
   "cell_type": "code",
   "execution_count": 104,
   "id": "a6d4f0bb-dbe5-4bae-81c1-9860ad05c497",
   "metadata": {},
   "outputs": [
    {
     "data": {
      "text/plain": [
       "54190.47"
      ]
     },
     "execution_count": 104,
     "metadata": {},
     "output_type": "execute_result"
    }
   ],
   "source": [
    "3345.29*2 + (3345.3+5057.58) + (3347.38+3559.22) + 3695.27*2 + 3842.43*2 + 3761.67*2 + 3761.67*2 + 2068.33"
   ]
  },
  {
   "cell_type": "code",
   "execution_count": 14,
   "id": "075cb354-a16a-48d2-96e2-841c33c764d9",
   "metadata": {},
   "outputs": [
    {
     "data": {
      "text/plain": [
       "DefaultDict{Tuple{Int64, Int64}, Float64, Int64} with 14087 entries:\n",
       "  (423, 30) => 0.00458607\n",
       "  (141, 20) => -0.00115403\n",
       "  (266, 14) => 0.0\n",
       "  (229, 33) => -0.0176731\n",
       "  (719, 11) => -0.000859735\n",
       "  (40, 28)  => -0.000991317\n",
       "  (779, 8)  => -0.000860537\n",
       "  (107, 3)  => 0.0\n",
       "  (447, 15) => 0.000345992\n",
       "  (442, 22) => -0.00356439\n",
       "  (91, 30)  => 0.000592763\n",
       "  (100, 10) => 0.00426158\n",
       "  (403, 48) => 0.00129259\n",
       "  (866, 30) => -0.00016538\n",
       "  (978, 9)  => 0.0\n",
       "  (411, 6)  => -0.00503935\n",
       "  (725, 40) => 0.00087678\n",
       "  (333, 5)  => 0.000260004\n",
       "  (278, 2)  => 0.00291205\n",
       "  (309, 9)  => 0.00275902\n",
       "  (153, 29) => 0.000497848\n",
       "  (264, 21) => 0.0\n",
       "  (625, 13) => 0.000532021\n",
       "  (826, 40) => -0.00286204\n",
       "  (757, 48) => 0.00251887\n",
       "  ⋮         => ⋮"
      ]
     },
     "execution_count": 14,
     "metadata": {},
     "output_type": "execute_result"
    }
   ],
   "source": [
    "β"
   ]
  },
  {
   "cell_type": "code",
   "execution_count": 153,
   "id": "9c8f26e2-a9d1-47bd-b89a-a6c706342e57",
   "metadata": {},
   "outputs": [
    {
     "data": {
      "text/plain": [
       "0.06984108046984915"
      ]
     },
     "execution_count": 153,
     "metadata": {},
     "output_type": "execute_result"
    }
   ],
   "source": [
    "mse(Y,Ŷ)/length(Y)"
   ]
  },
  {
   "cell_type": "code",
   "execution_count": 146,
   "id": "87d5dc40-7c11-4723-8518-932a1c2a4593",
   "metadata": {},
   "outputs": [
    {
     "data": {
      "text/plain": [
       "2.0539125955565396e-17"
      ]
     },
     "execution_count": 146,
     "metadata": {},
     "output_type": "execute_result"
    }
   ],
   "source": [
    "Stat.mean(Y)"
   ]
  },
  {
   "cell_type": "code",
   "execution_count": 147,
   "id": "d9579b22-e083-4a23-adec-53a8c392450b",
   "metadata": {},
   "outputs": [
    {
     "data": {
      "text/plain": [
       "0.001115331680277078"
      ]
     },
     "execution_count": 147,
     "metadata": {},
     "output_type": "execute_result"
    }
   ],
   "source": [
    "Stat.mean(Ŷ)"
   ]
  },
  {
   "cell_type": "code",
   "execution_count": 98,
   "id": "c71f48c0-3735-4917-bef1-dbec2739208d",
   "metadata": {},
   "outputs": [
    {
     "data": {
      "text/plain": [
       "1.6765763880704447"
      ]
     },
     "execution_count": 98,
     "metadata": {},
     "output_type": "execute_result"
    }
   ],
   "source": [
    "max(Ŷ...)"
   ]
  },
  {
   "cell_type": "code",
   "execution_count": 27,
   "id": "340eb369-92a0-4299-b00b-07c250fda892",
   "metadata": {},
   "outputs": [
    {
     "data": {
      "text/plain": [
       "0.2038664658255553"
      ]
     },
     "execution_count": 27,
     "metadata": {},
     "output_type": "execute_result"
    }
   ],
   "source": [
    "βvec = [beta for beta in values(β)]\n",
    "max(βvec...)"
   ]
  }
 ],
 "metadata": {
  "kernelspec": {
   "display_name": "Julia 1.6.3",
   "language": "julia",
   "name": "julia-1.6"
  },
  "language_info": {
   "file_extension": ".jl",
   "mimetype": "application/julia",
   "name": "julia",
   "version": "1.6.3"
  }
 },
 "nbformat": 4,
 "nbformat_minor": 5
}
