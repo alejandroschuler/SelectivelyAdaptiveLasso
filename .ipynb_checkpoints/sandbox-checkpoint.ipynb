{
 "cells": [
  {
   "cell_type": "code",
   "execution_count": 1,
   "id": "0a0b8858-e530-4f24-979a-eda8295481ff",
   "metadata": {},
   "outputs": [
    {
     "name": "stderr",
     "output_type": "stream",
     "text": [
      "\u001b[32m\u001b[1m  Activating\u001b[22m\u001b[39m environment at `~/Desktop/SelectivelyAdaptiveLasso/Project.toml`\n"
     ]
    }
   ],
   "source": [
    "using Pkg, Revise\n",
    "Pkg.activate(\".\")"
   ]
  },
  {
   "cell_type": "code",
   "execution_count": 2,
   "id": "cc871c5c-b1f4-4da9-b74b-ddec089c413a",
   "metadata": {},
   "outputs": [
    {
     "name": "stderr",
     "output_type": "stream",
     "text": [
      "┌ Info: Precompiling SelectivelyAdaptiveLasso [52f33b2b-83b2-4cfe-8aa4-4763af86ef4f]\n",
      "└ @ Base loading.jl:1342\n"
     ]
    }
   ],
   "source": [
    "import SelectivelyAdaptiveLasso as SAL"
   ]
  },
  {
   "cell_type": "code",
   "execution_count": 44,
   "id": "ca93938e-0ecf-44fe-983f-95d7060797c8",
   "metadata": {},
   "outputs": [],
   "source": [
    "import Statistics: mean\n",
    "import Distributions as Dist\n",
    "import LinearAlgebra: diagm\n",
    "\n",
    "n, p = 5000, 10\n",
    "\n",
    "X_dist = Dist.reshape(\n",
    "    Dist.MvNormal(zeros(p), 0.1ones(p,p) + 0.9diagm(ones(p))), \n",
    "    (1,p)\n",
    ")\n",
    "\n",
    "X = vcat(rand(X_dist, n)...);\n",
    "# Y = rand(n)\n",
    "Y = 5X[:,1] + X[:,2].^2 - 3X[:,3].*X[:,4]\n",
    "Y = Y .- mean(Y)\n",
    "\n",
    "n_val = Int(round(n/2))\n",
    "X_val, Y_val = X[1:n_val,:], Y[1:n_val]\n",
    "X, Y = X[(n_val+1):end,:], Y[(n_val+1):end];"
   ]
  },
  {
   "cell_type": "code",
   "execution_count": 72,
   "id": "c4aea174-511c-4e4f-bd2d-2bec3998cc78",
   "metadata": {
    "tags": []
   },
   "outputs": [
    {
     "ename": "LoadError",
     "evalue": "InterruptException:",
     "output_type": "error",
     "traceback": [
      "InterruptException:",
      "",
      "Stacktrace:",
      "  [1] Array",
      "    @ ./boot.jl:448 [inlined]",
      "  [2] Array",
      "    @ ./boot.jl:457 [inlined]",
      "  [3] Array",
      "    @ ./boot.jl:465 [inlined]",
      "  [4] similar",
      "    @ ./abstractarray.jl:785 [inlined]",
      "  [5] similar",
      "    @ ./abstractarray.jl:784 [inlined]",
      "  [6] similar",
      "    @ ./broadcast.jl:197 [inlined]",
      "  [7] similar",
      "    @ ./broadcast.jl:196 [inlined]",
      "  [8] copy",
      "    @ ./broadcast.jl:908 [inlined]",
      "  [9] materialize",
      "    @ ./broadcast.jl:883 [inlined]",
      " [10] broadcast_preserving_zero_d",
      "    @ ./broadcast.jl:872 [inlined]",
      " [11] *(A::BitVector, B::Float64)",
      "    @ Base ./arraymath.jl:55",
      " [12] coordinate_descent(X::SelectivelyAdaptiveLasso.Bases, Y::Vector{Float64}; λ::Float64, β::Dict{Set{CartesianIndex{2}}, Float64}, tol::Float64)",
      "    @ SelectivelyAdaptiveLasso ~/Desktop/SelectivelyAdaptiveLasso/src/ccd.jl:57",
      " [13] fit(sal::SelectivelyAdaptiveLasso.SALSpec, X::Matrix{Float64}, Y::Vector{Float64}; X_val::Matrix{Float64}, Y_val::Vector{Float64})",
      "    @ SelectivelyAdaptiveLasso ~/Desktop/SelectivelyAdaptiveLasso/src/SelectivelyAdaptiveLasso.jl:127",
      " [14] top-level scope",
      "    @ In[72]:7",
      " [15] eval",
      "    @ ./boot.jl:360 [inlined]",
      " [16] include_string(mapexpr::typeof(REPL.softscope), mod::Module, code::String, filename::String)",
      "    @ Base ./loading.jl:1116"
     ]
    }
   ],
   "source": [
    "sal_spec = SAL.SALSpec(\n",
    "    max_iter=1000,\n",
    "    λ_max = 0.01,\n",
    "    m_subsample=400,\n",
    "    n_subsample=400\n",
    ")\n",
    "sal_fit, log = SAL.fit(\n",
    "    sal_spec, \n",
    "    X, Y, \n",
    "    X_val=X_val, Y_val=Y_val\n",
    ")\n",
    "loss, loss_val, _, _ = log;"
   ]
  },
  {
   "cell_type": "code",
   "execution_count": 67,
   "id": "b4f5c783-d1dd-4199-8bb5-f261a90f070e",
   "metadata": {},
   "outputs": [
    {
     "data": {
      "text/plain": [
       "Dict{Set{CartesianIndex{2}}, Float64} with 16 entries:\n",
       "  Set([CartesianIndex(0, 0), CartesianIndex(44, 2)])                => -0.779182\n",
       "  Set([CartesianIndex(0, 0), CartesianIndex(161, 1)])               => 1.54462\n",
       "  Set([CartesianIndex(0, 0), CartesianIndex(16, 1)])                => 0.900452\n",
       "  Set([CartesianIndex(0, 0), CartesianIndex(193, 1)])               => 1.73651\n",
       "  Set([CartesianIndex(0, 0), CartesianIndex(339, 1)])               => 0.351383\n",
       "  Set([CartesianIndex(0, 0), CartesianIndex(287, 2)])               => -2.21254\n",
       "  Set([CartesianIndex(0, 0)])                                       => -1.33885\n",
       "  Set([CartesianIndex(0, 0), CartesianIndex(7, 4), CartesianIndex(… => 0.201774\n",
       "  Set([CartesianIndex(0, 0), CartesianIndex(304, 1)])               => 2.12737\n",
       "  Set([CartesianIndex(0, 0), CartesianIndex(144, 1)])               => 1.77144\n",
       "  Set([CartesianIndex(0, 0), CartesianIndex(131, 2)])               => -0.150409\n",
       "  Set([CartesianIndex(0, 0), CartesianIndex(366, 1), CartesianInde… => 0.260975\n",
       "  Set([CartesianIndex(0, 0), CartesianIndex(2, 4), CartesianIndex(… => 0.348318\n",
       "  Set([CartesianIndex(0, 0), CartesianIndex(201, 1)])               => 0.606713\n",
       "  Set([CartesianIndex(0, 0), CartesianIndex(30, 4), CartesianIndex… => -0.234997\n",
       "  Set([CartesianIndex(0, 0), CartesianIndex(6, 3), CartesianIndex(… => 0.54469"
      ]
     },
     "execution_count": 67,
     "metadata": {},
     "output_type": "execute_result"
    }
   ],
   "source": [
    "sal_fit.β"
   ]
  },
  {
   "cell_type": "code",
   "execution_count": 70,
   "id": "8c715a52-4543-40ba-8052-a63940a9fcac",
   "metadata": {},
   "outputs": [
    {
     "data": {
      "text/plain": [
       "14.233816761679439"
      ]
     },
     "execution_count": 70,
     "metadata": {},
     "output_type": "execute_result"
    }
   ],
   "source": [
    "Ŷ = SAL.predict(sal_fit, X_val)\n",
    "mean((Y_val - Ŷ).^2)"
   ]
  },
  {
   "cell_type": "code",
   "execution_count": 13,
   "id": "ed9036c3-17ef-4718-9b8f-a6a42cd0ca22",
   "metadata": {},
   "outputs": [],
   "source": [
    "using XGBoost"
   ]
  },
  {
   "cell_type": "code",
   "execution_count": 14,
   "id": "36c88d86-4ab5-4a47-bf31-18a880f0d502",
   "metadata": {
    "collapsed": true,
    "jupyter": {
     "outputs_hidden": true
    },
    "tags": []
   },
   "outputs": [
    {
     "name": "stderr",
     "output_type": "stream",
     "text": [
      "[1]\ttrain-rmse:5.667721\n",
      "[2]\ttrain-rmse:5.306073\n",
      "[3]\ttrain-rmse:4.987460\n",
      "[4]\ttrain-rmse:4.705669\n",
      "[5]\ttrain-rmse:4.462399\n",
      "[6]\ttrain-rmse:4.246899\n",
      "[7]\ttrain-rmse:4.056801\n",
      "[8]\ttrain-rmse:3.888477\n",
      "[9]\ttrain-rmse:3.748150\n",
      "[10]\ttrain-rmse:3.620879\n",
      "[11]\ttrain-rmse:3.513781\n",
      "[12]\ttrain-rmse:3.416229\n",
      "[13]\ttrain-rmse:3.314048\n",
      "[14]\ttrain-rmse:3.229013\n",
      "[15]\ttrain-rmse:3.148196\n",
      "[16]\ttrain-rmse:3.089708\n",
      "[17]\ttrain-rmse:3.038271\n",
      "[18]\ttrain-rmse:2.968949\n",
      "[19]\ttrain-rmse:2.920964\n",
      "[20]\ttrain-rmse:2.856219\n",
      "[21]\ttrain-rmse:2.822420\n",
      "[22]\ttrain-rmse:2.780844\n",
      "[23]\ttrain-rmse:2.751428\n",
      "[24]\ttrain-rmse:2.726351\n",
      "[25]\ttrain-rmse:2.691620\n",
      "[26]\ttrain-rmse:2.619180\n",
      "[27]\ttrain-rmse:2.601338\n",
      "[28]\ttrain-rmse:2.487532\n",
      "[29]\ttrain-rmse:2.472124\n",
      "[30]\ttrain-rmse:2.447840\n",
      "[31]\ttrain-rmse:2.431276\n",
      "[32]\ttrain-rmse:2.413248\n",
      "[33]\ttrain-rmse:2.395501\n",
      "[34]\ttrain-rmse:2.374310\n",
      "[35]\ttrain-rmse:2.359915\n",
      "[36]\ttrain-rmse:2.341735\n",
      "[37]\ttrain-rmse:2.324453\n",
      "[38]\ttrain-rmse:2.311752\n",
      "[39]\ttrain-rmse:2.214253\n",
      "[40]\ttrain-rmse:2.180028\n",
      "[41]\ttrain-rmse:2.163296\n",
      "[42]\ttrain-rmse:2.136703\n",
      "[43]\ttrain-rmse:2.052886\n",
      "[44]\ttrain-rmse:2.042864\n",
      "[45]\ttrain-rmse:2.036436\n",
      "[46]\ttrain-rmse:2.027131\n",
      "[47]\ttrain-rmse:1.998787\n",
      "[48]\ttrain-rmse:1.983480\n",
      "[49]\ttrain-rmse:1.977534\n",
      "[50]\ttrain-rmse:1.963118\n",
      "[51]\ttrain-rmse:1.958960\n",
      "[52]\ttrain-rmse:1.943568\n",
      "[53]\ttrain-rmse:1.936306\n",
      "[54]\ttrain-rmse:1.930448\n",
      "[55]\ttrain-rmse:1.918018\n",
      "[56]\ttrain-rmse:1.868377\n",
      "[57]\ttrain-rmse:1.863877\n",
      "[58]\ttrain-rmse:1.860650\n",
      "[59]\ttrain-rmse:1.810272\n",
      "[60]\ttrain-rmse:1.792020\n",
      "[61]\ttrain-rmse:1.789896\n",
      "[62]\ttrain-rmse:1.784906\n",
      "[63]\ttrain-rmse:1.781312\n",
      "[64]\ttrain-rmse:1.773875\n",
      "[65]\ttrain-rmse:1.754253\n",
      "[66]\ttrain-rmse:1.749483\n",
      "[67]\ttrain-rmse:1.743857\n",
      "[68]\ttrain-rmse:1.692254\n",
      "[69]\ttrain-rmse:1.688961\n",
      "[70]\ttrain-rmse:1.687281\n",
      "[71]\ttrain-rmse:1.667055\n",
      "[72]\ttrain-rmse:1.606518\n",
      "[73]\ttrain-rmse:1.601333\n",
      "[74]\ttrain-rmse:1.599821\n",
      "[75]\ttrain-rmse:1.598400\n",
      "[76]\ttrain-rmse:1.596328\n",
      "[77]\ttrain-rmse:1.594103\n",
      "[78]\ttrain-rmse:1.527022\n",
      "[79]\ttrain-rmse:1.523156\n",
      "[80]\ttrain-rmse:1.521823\n",
      "[81]\ttrain-rmse:1.472367\n",
      "[82]\ttrain-rmse:1.467098\n",
      "[83]\ttrain-rmse:1.465356\n",
      "[84]\ttrain-rmse:1.443466\n",
      "[85]\ttrain-rmse:1.440124\n",
      "[86]\ttrain-rmse:1.436332\n",
      "[87]\ttrain-rmse:1.426383\n",
      "[88]\ttrain-rmse:1.425456\n",
      "[89]\ttrain-rmse:1.415918\n",
      "[90]\ttrain-rmse:1.408589\n",
      "[91]\ttrain-rmse:1.369232\n",
      "[92]\ttrain-rmse:1.365943\n",
      "[93]\ttrain-rmse:1.364551\n",
      "[94]\ttrain-rmse:1.352206\n",
      "[95]\ttrain-rmse:1.349060\n",
      "[96]\ttrain-rmse:1.273371\n",
      "[97]\ttrain-rmse:1.271608\n",
      "[98]\ttrain-rmse:1.268994\n",
      "[99]\ttrain-rmse:1.267252\n",
      "[100]\ttrain-rmse:1.255012\n"
     ]
    },
    {
     "data": {
      "text/plain": [
       "2500-element Vector{Float32}:\n",
       "  2.125951\n",
       " -0.8188777\n",
       "  1.3464571\n",
       "  1.9144443\n",
       "  1.0231552\n",
       " -1.1149218\n",
       " -5.366417\n",
       "  1.8568602\n",
       " -4.266981\n",
       " -5.026776\n",
       "  1.9554496\n",
       "  1.887693\n",
       " -9.90477\n",
       "  ⋮\n",
       "  1.2130193\n",
       " -5.3429523\n",
       " -5.8551846\n",
       " -2.3047516\n",
       " -4.913264\n",
       "  6.933373\n",
       " -1.7384822\n",
       " -4.6576014\n",
       "  0.6591926\n",
       "  3.2764697\n",
       "  7.2495575\n",
       "  1.667335"
      ]
     },
     "execution_count": 14,
     "metadata": {},
     "output_type": "execute_result"
    }
   ],
   "source": [
    "bst = xgboost(X, 100, label = Y, eta = 0.1, max_depth = 4)\n",
    "Ŷ = predict(bst, X_val)"
   ]
  },
  {
   "cell_type": "code",
   "execution_count": 15,
   "id": "65c85585-ff6e-4627-8cf0-d16e053bf6e5",
   "metadata": {},
   "outputs": [
    {
     "data": {
      "text/plain": [
       "2.850314579614823"
      ]
     },
     "execution_count": 15,
     "metadata": {},
     "output_type": "execute_result"
    }
   ],
   "source": [
    "mean((Y_val - Ŷ).^2)"
   ]
  },
  {
   "cell_type": "code",
   "execution_count": 16,
   "id": "8a28bfa5-08c7-45ee-95c3-9294e4e9be4e",
   "metadata": {},
   "outputs": [
    {
     "data": {
      "text/plain": [
       "Set{Tuple{Int64, Int64}}"
      ]
     },
     "execution_count": 16,
     "metadata": {},
     "output_type": "execute_result"
    }
   ],
   "source": [
    "BasisIndex = Set{Tuple{Int, Int}}"
   ]
  },
  {
   "cell_type": "code",
   "execution_count": 18,
   "id": "744674a4-e9ae-4be4-9732-190ed333f419",
   "metadata": {},
   "outputs": [
    {
     "data": {
      "text/plain": [
       "Set{Tuple{Int64, Int64}} with 1 element:\n",
       "  (0, 0)"
      ]
     },
     "execution_count": 18,
     "metadata": {},
     "output_type": "execute_result"
    }
   ],
   "source": [
    "BasisIndex([(0,0)])"
   ]
  },
  {
   "cell_type": "code",
   "execution_count": 20,
   "id": "7c584b8d-5ad0-4c3e-b543-35f271934c94",
   "metadata": {},
   "outputs": [
    {
     "name": "stdout",
     "output_type": "stream",
     "text": [
      "search: \u001b[0m\u001b[1mC\u001b[22m\u001b[0m\u001b[1ma\u001b[22m\u001b[0m\u001b[1mr\u001b[22m\u001b[0m\u001b[1mt\u001b[22m\u001b[0m\u001b[1me\u001b[22m\u001b[0m\u001b[1ms\u001b[22m\u001b[0m\u001b[1mi\u001b[22m\u001b[0m\u001b[1ma\u001b[22m\u001b[0m\u001b[1mn\u001b[22m\u001b[0m\u001b[1mI\u001b[22m\u001b[0m\u001b[1mn\u001b[22m\u001b[0m\u001b[1md\u001b[22m\u001b[0m\u001b[1me\u001b[22m\u001b[0m\u001b[1mx\u001b[22m \u001b[0m\u001b[1mC\u001b[22m\u001b[0m\u001b[1ma\u001b[22m\u001b[0m\u001b[1mr\u001b[22m\u001b[0m\u001b[1mt\u001b[22m\u001b[0m\u001b[1me\u001b[22m\u001b[0m\u001b[1ms\u001b[22m\u001b[0m\u001b[1mi\u001b[22m\u001b[0m\u001b[1ma\u001b[22m\u001b[0m\u001b[1mn\u001b[22m\u001b[0m\u001b[1mI\u001b[22m\u001b[0m\u001b[1mn\u001b[22m\u001b[0m\u001b[1md\u001b[22mic\u001b[0m\u001b[1me\u001b[22ms\n",
      "\n"
     ]
    },
    {
     "data": {
      "text/latex": [
       "\\begin{verbatim}\n",
       "CartesianIndex(i, j, k...)   -> I\n",
       "CartesianIndex((i, j, k...)) -> I\n",
       "\\end{verbatim}\n",
       "Create a multidimensional index \\texttt{I}, which can be used for indexing a multidimensional array \\texttt{A}.  In particular, \\texttt{A[I]} is equivalent to \\texttt{A[i,j,k...]}.  One can freely mix integer and \\texttt{CartesianIndex} indices; for example, \\texttt{A[Ipre, i, Ipost]} (where \\texttt{Ipre} and \\texttt{Ipost} are \\texttt{CartesianIndex} indices and \\texttt{i} is an \\texttt{Int}) can be a useful expression when writing algorithms that work along a single dimension of an array of arbitrary dimensionality.\n",
       "\n",
       "A \\texttt{CartesianIndex} is sometimes produced by \\href{@ref}{\\texttt{eachindex}}, and always when iterating with an explicit \\href{@ref}{\\texttt{CartesianIndices}}.\n",
       "\n",
       "\\section{Examples}\n",
       "\\begin{verbatim}\n",
       "julia> A = reshape(Vector(1:16), (2, 2, 2, 2))\n",
       "2×2×2×2 Array{Int64, 4}:\n",
       "[:, :, 1, 1] =\n",
       " 1  3\n",
       " 2  4\n",
       "\n",
       "[:, :, 2, 1] =\n",
       " 5  7\n",
       " 6  8\n",
       "\n",
       "[:, :, 1, 2] =\n",
       "  9  11\n",
       " 10  12\n",
       "\n",
       "[:, :, 2, 2] =\n",
       " 13  15\n",
       " 14  16\n",
       "\n",
       "julia> A[CartesianIndex((1, 1, 1, 1))]\n",
       "1\n",
       "\n",
       "julia> A[CartesianIndex((1, 1, 1, 2))]\n",
       "9\n",
       "\n",
       "julia> A[CartesianIndex((1, 1, 2, 1))]\n",
       "5\n",
       "\\end{verbatim}\n"
      ],
      "text/markdown": [
       "```\n",
       "CartesianIndex(i, j, k...)   -> I\n",
       "CartesianIndex((i, j, k...)) -> I\n",
       "```\n",
       "\n",
       "Create a multidimensional index `I`, which can be used for indexing a multidimensional array `A`.  In particular, `A[I]` is equivalent to `A[i,j,k...]`.  One can freely mix integer and `CartesianIndex` indices; for example, `A[Ipre, i, Ipost]` (where `Ipre` and `Ipost` are `CartesianIndex` indices and `i` is an `Int`) can be a useful expression when writing algorithms that work along a single dimension of an array of arbitrary dimensionality.\n",
       "\n",
       "A `CartesianIndex` is sometimes produced by [`eachindex`](@ref), and always when iterating with an explicit [`CartesianIndices`](@ref).\n",
       "\n",
       "# Examples\n",
       "\n",
       "```jldoctest\n",
       "julia> A = reshape(Vector(1:16), (2, 2, 2, 2))\n",
       "2×2×2×2 Array{Int64, 4}:\n",
       "[:, :, 1, 1] =\n",
       " 1  3\n",
       " 2  4\n",
       "\n",
       "[:, :, 2, 1] =\n",
       " 5  7\n",
       " 6  8\n",
       "\n",
       "[:, :, 1, 2] =\n",
       "  9  11\n",
       " 10  12\n",
       "\n",
       "[:, :, 2, 2] =\n",
       " 13  15\n",
       " 14  16\n",
       "\n",
       "julia> A[CartesianIndex((1, 1, 1, 1))]\n",
       "1\n",
       "\n",
       "julia> A[CartesianIndex((1, 1, 1, 2))]\n",
       "9\n",
       "\n",
       "julia> A[CartesianIndex((1, 1, 2, 1))]\n",
       "5\n",
       "```\n"
      ],
      "text/plain": [
       "\u001b[36m  CartesianIndex(i, j, k...)   -> I\u001b[39m\n",
       "\u001b[36m  CartesianIndex((i, j, k...)) -> I\u001b[39m\n",
       "\n",
       "  Create a multidimensional index \u001b[36mI\u001b[39m, which can be used for indexing a\n",
       "  multidimensional array \u001b[36mA\u001b[39m. In particular, \u001b[36mA[I]\u001b[39m is equivalent to \u001b[36mA[i,j,k...]\u001b[39m.\n",
       "  One can freely mix integer and \u001b[36mCartesianIndex\u001b[39m indices; for example, \u001b[36mA[Ipre,\n",
       "  i, Ipost]\u001b[39m (where \u001b[36mIpre\u001b[39m and \u001b[36mIpost\u001b[39m are \u001b[36mCartesianIndex\u001b[39m indices and \u001b[36mi\u001b[39m is an \u001b[36mInt\u001b[39m)\n",
       "  can be a useful expression when writing algorithms that work along a single\n",
       "  dimension of an array of arbitrary dimensionality.\n",
       "\n",
       "  A \u001b[36mCartesianIndex\u001b[39m is sometimes produced by \u001b[36meachindex\u001b[39m, and always when\n",
       "  iterating with an explicit \u001b[36mCartesianIndices\u001b[39m.\n",
       "\n",
       "\u001b[1m  Examples\u001b[22m\n",
       "\u001b[1m  ≡≡≡≡≡≡≡≡≡≡\u001b[22m\n",
       "\n",
       "\u001b[36m  julia> A = reshape(Vector(1:16), (2, 2, 2, 2))\u001b[39m\n",
       "\u001b[36m  2×2×2×2 Array{Int64, 4}:\u001b[39m\n",
       "\u001b[36m  [:, :, 1, 1] =\u001b[39m\n",
       "\u001b[36m   1  3\u001b[39m\n",
       "\u001b[36m   2  4\u001b[39m\n",
       "\u001b[36m  \u001b[39m\n",
       "\u001b[36m  [:, :, 2, 1] =\u001b[39m\n",
       "\u001b[36m   5  7\u001b[39m\n",
       "\u001b[36m   6  8\u001b[39m\n",
       "\u001b[36m  \u001b[39m\n",
       "\u001b[36m  [:, :, 1, 2] =\u001b[39m\n",
       "\u001b[36m    9  11\u001b[39m\n",
       "\u001b[36m   10  12\u001b[39m\n",
       "\u001b[36m  \u001b[39m\n",
       "\u001b[36m  [:, :, 2, 2] =\u001b[39m\n",
       "\u001b[36m   13  15\u001b[39m\n",
       "\u001b[36m   14  16\u001b[39m\n",
       "\u001b[36m  \u001b[39m\n",
       "\u001b[36m  julia> A[CartesianIndex((1, 1, 1, 1))]\u001b[39m\n",
       "\u001b[36m  1\u001b[39m\n",
       "\u001b[36m  \u001b[39m\n",
       "\u001b[36m  julia> A[CartesianIndex((1, 1, 1, 2))]\u001b[39m\n",
       "\u001b[36m  9\u001b[39m\n",
       "\u001b[36m  \u001b[39m\n",
       "\u001b[36m  julia> A[CartesianIndex((1, 1, 2, 1))]\u001b[39m\n",
       "\u001b[36m  5\u001b[39m"
      ]
     },
     "execution_count": 20,
     "metadata": {},
     "output_type": "execute_result"
    }
   ],
   "source": [
    "?CartesianIndex"
   ]
  },
  {
   "cell_type": "code",
   "execution_count": 22,
   "id": "98e8d4b4-6446-49a0-869d-976680eab735",
   "metadata": {},
   "outputs": [
    {
     "data": {
      "text/plain": [
       "Set{CartesianIndex{2}} with 2 elements:\n",
       "  CartesianIndex(2, 1)\n",
       "  CartesianIndex(1, 2)"
      ]
     },
     "execution_count": 22,
     "metadata": {},
     "output_type": "execute_result"
    }
   ],
   "source": [
    "derpidx = Set([CartesianIndex(2,1), CartesianIndex(1,2)])"
   ]
  },
  {
   "cell_type": "code",
   "execution_count": 30,
   "id": "8d31ede4-5b31-46df-9103-3936520d38f4",
   "metadata": {},
   "outputs": [
    {
     "data": {
      "text/plain": [
       "10×2×2 Array{Float64, 3}:\n",
       "[:, :, 1] =\n",
       " 0.593408  0.820085\n",
       " 0.84067   0.618129\n",
       " 0.592314  0.118786\n",
       " 0.340206  0.155653\n",
       " 0.973213  0.769094\n",
       " 0.829289  0.735042\n",
       " 0.685964  0.535363\n",
       " 0.100297  0.228542\n",
       " 0.431073  0.93619\n",
       " 0.693552  0.127805\n",
       "\n",
       "[:, :, 2] =\n",
       " 0.119806   0.619967\n",
       " 0.353965   0.225389\n",
       " 0.888493   0.946976\n",
       " 0.9949     0.989663\n",
       " 0.19066    0.680088\n",
       " 0.0793931  0.495023\n",
       " 0.177553   0.76208\n",
       " 0.884334   0.860417\n",
       " 0.789164   0.762087\n",
       " 0.230166   0.752132"
      ]
     },
     "execution_count": 30,
     "metadata": {},
     "output_type": "execute_result"
    }
   ],
   "source": [
    "A = rand(10,2,2)"
   ]
  },
  {
   "cell_type": "code",
   "execution_count": 33,
   "id": "01bc10b2-aa29-4f14-8490-9badc00ec783",
   "metadata": {},
   "outputs": [
    {
     "data": {
      "text/plain": [
       "10-element Vector{Float64}:\n",
       " 0.09825128482140733\n",
       " 0.21879612334162674\n",
       " 0.10554059350350542\n",
       " 0.1548587356342069\n",
       " 0.14663578004130753\n",
       " 0.05835721670246334\n",
       " 0.09505540576799612\n",
       " 0.2021077208753243\n",
       " 0.7388067823837791\n",
       " 0.02941631891154574"
      ]
     },
     "execution_count": 33,
     "metadata": {},
     "output_type": "execute_result"
    }
   ],
   "source": [
    "prod(A[:,[derpidx...]], dims=2)[:,1]"
   ]
  },
  {
   "cell_type": "code",
   "execution_count": null,
   "id": "66011a8b-c773-4273-8cde-df3ae57c49c5",
   "metadata": {},
   "outputs": [],
   "source": []
  }
 ],
 "metadata": {
  "kernelspec": {
   "display_name": "Julia 1.6.3",
   "language": "julia",
   "name": "julia-1.6"
  },
  "language_info": {
   "file_extension": ".jl",
   "mimetype": "application/julia",
   "name": "julia",
   "version": "1.6.3"
  }
 },
 "nbformat": 4,
 "nbformat_minor": 5
}
