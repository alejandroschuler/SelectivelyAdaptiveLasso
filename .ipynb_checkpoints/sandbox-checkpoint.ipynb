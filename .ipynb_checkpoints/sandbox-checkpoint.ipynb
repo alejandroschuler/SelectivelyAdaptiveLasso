{
 "cells": [
  {
   "cell_type": "markdown",
   "id": "fa377c42-6291-4bd3-83d3-2f534e4b9060",
   "metadata": {},
   "source": [
    "to do:\n",
    "- `add_section` method\n",
    "- enhance `getindex` so noninstantiated bases can be pulled on-the-fly\n",
    "- rm `bases_to_dict` and `HALBasesDict` if performance is worse"
   ]
  },
  {
   "cell_type": "code",
   "execution_count": 3,
   "id": "0a0b8858-e530-4f24-979a-eda8295481ff",
   "metadata": {},
   "outputs": [
    {
     "name": "stderr",
     "output_type": "stream",
     "text": [
      "\u001b[32m\u001b[1m  Activating\u001b[22m\u001b[39m environment at `~/Desktop/SelectivelyAdaptiveLasso/Project.toml`\n"
     ]
    }
   ],
   "source": [
    "using Pkg, Revise\n",
    "Pkg.activate(\".\")"
   ]
  },
  {
   "cell_type": "code",
   "execution_count": 5,
   "id": "cc871c5c-b1f4-4da9-b74b-ddec089c413a",
   "metadata": {},
   "outputs": [
    {
     "name": "stderr",
     "output_type": "stream",
     "text": [
      "┌ Info: Precompiling SelectivelyAdaptiveLasso [52f33b2b-83b2-4cfe-8aa4-4763af86ef4f]\n",
      "└ @ Base loading.jl:1342\n"
     ]
    }
   ],
   "source": [
    "import SelectivelyAdaptiveLasso as SAL"
   ]
  },
  {
   "cell_type": "code",
   "execution_count": 6,
   "id": "ca93938e-0ecf-44fe-983f-95d7060797c8",
   "metadata": {
    "tags": []
   },
   "outputs": [
    {
     "data": {
      "text/plain": [
       "0.060447726144800214"
      ]
     },
     "execution_count": 6,
     "metadata": {},
     "output_type": "execute_result"
    }
   ],
   "source": [
    "import Statistics: mean\n",
    "import Distributions as Dist\n",
    "import LinearAlgebra: diagm\n",
    "\n",
    "n, p = 1000, 50\n",
    "\n",
    "X_dist = Dist.reshape(\n",
    "    Dist.MvNormal(zeros(p), 0.1ones(p,p) + 0.9diagm(ones(p))), \n",
    "    (1,p)\n",
    ")\n",
    "\n",
    "X = vcat(rand(X_dist, n)...);\n",
    "# Y = rand(n)\n",
    "Y = 5X[:,1] + X[:,2].^2 - X[:,3].*X[:,4]\n",
    "Y = Y .- mean(Y)\n",
    "Y = Y / max(abs.(Y)...)\n",
    "\n",
    "bases = SAL.Bases(X);\n",
    "mean((Y .- mean(Y)).^2)"
   ]
  },
  {
   "cell_type": "code",
   "execution_count": 11,
   "id": "b3004444-8e48-4f06-b1a2-5d515f54e344",
   "metadata": {
    "tags": []
   },
   "outputs": [
    {
     "name": "stderr",
     "output_type": "stream",
     "text": [
      "┌ Warning: /Users/aschuler/Desktop/SelectivelyAdaptiveLasso/src/fit.jl no longer exists, deleted all methods\n",
      "└ @ Revise /Users/aschuler/.julia/packages/Revise/3RMhb/src/packagedef.jl:657\n"
     ]
    }
   ],
   "source": [
    "# @time β, cycle_loss, iter_loss = SAL.lasso_coordinate_descent(hcat(X,ones(n)), Y, λ=0.02)\n",
    "# length(iter_loss), length(cycle_loss), cycle_loss[end], length(β[β.>1e-14])"
   ]
  },
  {
   "cell_type": "code",
   "execution_count": 7,
   "id": "3159d5cc-c688-4a08-986a-0d975caf7219",
   "metadata": {
    "tags": []
   },
   "outputs": [
    {
     "name": "stdout",
     "output_type": "stream",
     "text": [
      "  2.153010 seconds (7.21 M allocations: 996.537 MiB, 10.78% gc time, 23.15% compilation time)\n"
     ]
    },
    {
     "data": {
      "text/plain": [
       "(102, 0.0027546638846404643, 600)"
      ]
     },
     "execution_count": 7,
     "metadata": {},
     "output_type": "execute_result"
    }
   ],
   "source": [
    "@time β, cycle_loss = SAL.coordinate_descent(bases, Y, λ=0.001)\n",
    "length(cycle_loss), cycle_loss[end], length(β)"
   ]
  },
  {
   "cell_type": "code",
   "execution_count": 75,
   "id": "875385c5-976b-4108-bb8d-f07c299939ce",
   "metadata": {},
   "outputs": [
    {
     "data": {
      "text/plain": [
       "select_next_bases (generic function with 2 methods)"
      ]
     },
     "execution_count": 75,
     "metadata": {},
     "output_type": "execute_result"
    }
   ],
   "source": [
    "function section_search(\n",
    "        bases::Bases,\n",
    "        Y::Vector{Float64},\n",
    "    )::Tuple{BitArray{2}, Vector{Int}}\n",
    "    #=\n",
    "    Find the section that will be most useful to linearly predict Y.\n",
    "    \n",
    "    Greedily searches through sections, starting at one-way. Given a k-way section, this function creates all \n",
    "    of the interactions between that section and all one-way sections. It then searches through all of the \n",
    "    bases within the p newly-created candidate sections and finds the basis with the maximum univariate \n",
    "    regression coefficient on the outcome. If this is greater than that of the previous iteration, it \n",
    "    replaces the k-waysection with the (k+1)-way section corresponding to that found basis. \n",
    "    \n",
    "    This \"top-down\" approach makes sense heuristically because we expect that low-order interactions are \n",
    "    what's important for most real-world data-generating processes. There is also the fact that realizations\n",
    "    of higher-order sections must have greater and greater sparsity since these are products of h∈{0,1}ⁿ.\n",
    "    \n",
    "    I also tried choosing the section using the sum of the univariate coefficients across all bases within \n",
    "    each candidate section. This is slightly slower because of the sum and doesn't appear to increase \n",
    "    \"performance\", but perhaps worth revisting later. I also tried a recursive implementation but looping \n",
    "    is faster.\n",
    "    =# \n",
    "    \n",
    "    section = []\n",
    "    max_β = 0.0\n",
    "    bases = Bases.one_way\n",
    "    \n",
    "    while true\n",
    "        print(\"$max_β\\n\")\n",
    "        new_max_β, idx = findmax(  \n",
    "            sum(abs.(\n",
    "                sum(Y .* bases, dims=1) ./\n",
    "                sum(bases, dims=1)\n",
    "            ), dims=2)\n",
    "        )\n",
    "        new_sectional_component = idx[3]\n",
    "\n",
    "        if new_max_β ≤ max_β\n",
    "            return bases[:,:,new_sectional_component], section\n",
    "        else\n",
    "            bases .= bases[:,:,new_sectional_component] .* Bases.one_way\n",
    "            max_β = new_max_β\n",
    "            push!(section, new_sectional_component)\n",
    "        end\n",
    "    end\n",
    "end"
   ]
  },
  {
   "cell_type": "code",
   "execution_count": null,
   "id": "c1475196-479d-470f-9666-3952f8a13a14",
   "metadata": {},
   "outputs": [],
   "source": [
    "mutable struct SAL\n",
    "    # an instantiated selectively adaptive lasso\n",
    "    \n",
    "    # parameters\n",
    "    knots::Matrix{Float64} # (m x p) matrix, each row is a knot\n",
    "    β::Dict{Tuple{Int, Section}, Float64} # maps (knot, section) => coefficient\n",
    "    \n",
    "    # hyperparameters\n",
    "    λ::Number = 1, # desired regularization strength (minimum if also using early stopping)\n",
    "    B::Int = 500, # number of sections to adaptively select and use (max if also using early stopping)\n",
    "    m::Union{Int,Nothing} = nothing, # number of data points from training data to use as knots\n",
    "end\n",
    "\n",
    "function construct_bases_dict(\n",
    "        X::Matrix{Float64},\n",
    "        knots::Matrix{Float64},\n",
    "        sections::Set{Set{Int}}\n",
    "    )\n",
    "    m_knots, p = size(knots)\n",
    "    bases = one_way_bases(X, knots)\n",
    "\n",
    "    bases_dict = Dict{Tuple{Int,Int}, BitVector}()\n",
    "    \n",
    "    for section in sections, knot in 1:m_knots\n",
    "        bases_dict[(knot, section)] = prod(bases[:, knot, [section...]], dims=3)\n",
    "    end\n",
    "    \n",
    "    return bases_dict\n",
    "end\n",
    "\n",
    "function predict(sal, X; bases_dict)\n",
    "end"
   ]
  },
  {
   "cell_type": "code",
   "execution_count": null,
   "id": "d74c3001-ae30-4214-8809-0e3519a47ae4",
   "metadata": {},
   "outputs": [],
   "source": [
    "function fit(\n",
    "    # model object and hyperparameters\n",
    "        sal::SAL\n",
    "    # training data\n",
    "        X::Matrix{Float64}, \n",
    "        Y::Matrix{Flloat64};\n",
    "    # validation data for early stopping\n",
    "        Xᵥ::Union{Nothing, Matrix{Float64}} = nothing, \n",
    "        Yᵥ::Union{Nothing, Matrix{Float64}} = nothing,\n",
    "    )::SAL\n",
    "    #= \n",
    "    Fits the selectively adaptive lasso\n",
    "    =#\n",
    "    \n",
    "    # λ_max = n makes sense if y ∈ [-1,1] (center and then scale)\n",
    "    \n",
    "end"
   ]
  },
  {
   "cell_type": "markdown",
   "id": "9e4aa88d-9c92-4fe5-b45e-9fec029decf3",
   "metadata": {},
   "source": [
    "accept train/val data, max lambda\n",
    "\n",
    "    create initial bases for train/val (use train knots for val)\n",
    "    \n",
    "    pick first section using train\n",
    "    add these bases to the fitting set, construct them for the validation set (use same dict structure)\n",
    "\n",
    "    loop:\n",
    "        fit lasso on training set\n",
    "        calculate val mse and add to record (train mse, val mse, section, lambda)\n",
    "        decide: \n",
    "            1. new section (repeat above block)\n",
    "            2. decrease lambda (unless min or 2nd time in a row)"
   ]
  },
  {
   "cell_type": "code",
   "execution_count": 65,
   "id": "6255a2cf-17b5-4558-acde-fb9a32d96e1a",
   "metadata": {
    "tags": []
   },
   "outputs": [
    {
     "name": "stdout",
     "output_type": "stream",
     "text": [
      "0.0\n",
      "392.256850549578\n",
      "505.06678751022395\n",
      "  1.414116 seconds (240 allocations: 1.121 GiB, 3.95% gc time)\n"
     ]
    },
    {
     "data": {
      "text/plain": [
       "2-element Vector{Int64}:\n",
       " 2\n",
       " 3"
      ]
     },
     "execution_count": 65,
     "metadata": {},
     "output_type": "execute_result"
    }
   ],
   "source": [
    "@time next_bases, section = bases_tree_loop(Y, bases);\n",
    "section"
   ]
  },
  {
   "cell_type": "code",
   "execution_count": 38,
   "id": "91ab0267-ce9d-4ed1-af9f-9290dc44c983",
   "metadata": {},
   "outputs": [
    {
     "name": "stdout",
     "output_type": "stream",
     "text": [
      "  9.732577 seconds (2.43 M allocations: 18.409 GiB, 36.88% gc time)\n"
     ]
    },
    {
     "data": {
      "text/plain": [
       "DefaultDict{Tuple{Int64, Int64}, Float64, Int64} with 6634 entries:\n",
       "  (423, 30) => 0.00602341\n",
       "  (547, 32) => 0.0\n",
       "  (411, 1)  => 0.0\n",
       "  (990, 9)  => -9.26322e-5\n",
       "  (141, 20) => -0.0829121\n",
       "  (332, 33) => -0.000118015\n",
       "  (210, 30) => -0.000636054\n",
       "  (229, 33) => 0.0126294\n",
       "  (820, 33) => 0.0\n",
       "  (981, 33) => 0.00241622\n",
       "  (605, 42) => -0.00156275\n",
       "  (779, 8)  => 0.0\n",
       "  (743, 1)  => 0.000993445\n",
       "  (442, 22) => 0.0\n",
       "  (245, 28) => 0.00925831\n",
       "  (52, 32)  => -0.0104064\n",
       "  (506, 39) => 0.00117442\n",
       "  (369, 32) => 0.00062154\n",
       "  (147, 18) => 0.0\n",
       "  (752, 10) => 0.0\n",
       "  (824, 22) => 0.0\n",
       "  (91, 30)  => 0.0269337\n",
       "  (100, 10) => 0.0\n",
       "  (357, 48) => 0.0\n",
       "  (724, 23) => 0.0\n",
       "  ⋮         => ⋮"
      ]
     },
     "execution_count": 38,
     "metadata": {},
     "output_type": "execute_result"
    }
   ],
   "source": [
    "@time β = coordinate_descent(bases_dict, Y, λ=1)"
   ]
  },
  {
   "cell_type": "code",
   "execution_count": 104,
   "id": "a6d4f0bb-dbe5-4bae-81c1-9860ad05c497",
   "metadata": {},
   "outputs": [
    {
     "data": {
      "text/plain": [
       "54190.47"
      ]
     },
     "execution_count": 104,
     "metadata": {},
     "output_type": "execute_result"
    }
   ],
   "source": [
    "3345.29*2 + (3345.3+5057.58) + (3347.38+3559.22) + 3695.27*2 + 3842.43*2 + 3761.67*2 + 3761.67*2 + 2068.33"
   ]
  },
  {
   "cell_type": "code",
   "execution_count": 14,
   "id": "075cb354-a16a-48d2-96e2-841c33c764d9",
   "metadata": {},
   "outputs": [
    {
     "data": {
      "text/plain": [
       "DefaultDict{Tuple{Int64, Int64}, Float64, Int64} with 14087 entries:\n",
       "  (423, 30) => 0.00458607\n",
       "  (141, 20) => -0.00115403\n",
       "  (266, 14) => 0.0\n",
       "  (229, 33) => -0.0176731\n",
       "  (719, 11) => -0.000859735\n",
       "  (40, 28)  => -0.000991317\n",
       "  (779, 8)  => -0.000860537\n",
       "  (107, 3)  => 0.0\n",
       "  (447, 15) => 0.000345992\n",
       "  (442, 22) => -0.00356439\n",
       "  (91, 30)  => 0.000592763\n",
       "  (100, 10) => 0.00426158\n",
       "  (403, 48) => 0.00129259\n",
       "  (866, 30) => -0.00016538\n",
       "  (978, 9)  => 0.0\n",
       "  (411, 6)  => -0.00503935\n",
       "  (725, 40) => 0.00087678\n",
       "  (333, 5)  => 0.000260004\n",
       "  (278, 2)  => 0.00291205\n",
       "  (309, 9)  => 0.00275902\n",
       "  (153, 29) => 0.000497848\n",
       "  (264, 21) => 0.0\n",
       "  (625, 13) => 0.000532021\n",
       "  (826, 40) => -0.00286204\n",
       "  (757, 48) => 0.00251887\n",
       "  ⋮         => ⋮"
      ]
     },
     "execution_count": 14,
     "metadata": {},
     "output_type": "execute_result"
    }
   ],
   "source": [
    "β"
   ]
  },
  {
   "cell_type": "code",
   "execution_count": 153,
   "id": "9c8f26e2-a9d1-47bd-b89a-a6c706342e57",
   "metadata": {},
   "outputs": [
    {
     "data": {
      "text/plain": [
       "0.06984108046984915"
      ]
     },
     "execution_count": 153,
     "metadata": {},
     "output_type": "execute_result"
    }
   ],
   "source": [
    "mse(Y,Ŷ)/length(Y)"
   ]
  },
  {
   "cell_type": "code",
   "execution_count": 146,
   "id": "87d5dc40-7c11-4723-8518-932a1c2a4593",
   "metadata": {},
   "outputs": [
    {
     "data": {
      "text/plain": [
       "2.0539125955565396e-17"
      ]
     },
     "execution_count": 146,
     "metadata": {},
     "output_type": "execute_result"
    }
   ],
   "source": [
    "Stat.mean(Y)"
   ]
  },
  {
   "cell_type": "code",
   "execution_count": 147,
   "id": "d9579b22-e083-4a23-adec-53a8c392450b",
   "metadata": {},
   "outputs": [
    {
     "data": {
      "text/plain": [
       "0.001115331680277078"
      ]
     },
     "execution_count": 147,
     "metadata": {},
     "output_type": "execute_result"
    }
   ],
   "source": [
    "Stat.mean(Ŷ)"
   ]
  },
  {
   "cell_type": "code",
   "execution_count": 98,
   "id": "c71f48c0-3735-4917-bef1-dbec2739208d",
   "metadata": {},
   "outputs": [
    {
     "data": {
      "text/plain": [
       "1.6765763880704447"
      ]
     },
     "execution_count": 98,
     "metadata": {},
     "output_type": "execute_result"
    }
   ],
   "source": [
    "max(Ŷ...)"
   ]
  },
  {
   "cell_type": "code",
   "execution_count": 27,
   "id": "340eb369-92a0-4299-b00b-07c250fda892",
   "metadata": {},
   "outputs": [
    {
     "data": {
      "text/plain": [
       "0.2038664658255553"
      ]
     },
     "execution_count": 27,
     "metadata": {},
     "output_type": "execute_result"
    }
   ],
   "source": [
    "βvec = [beta for beta in values(β)]\n",
    "max(βvec...)"
   ]
  }
 ],
 "metadata": {
  "kernelspec": {
   "display_name": "Julia 1.6.3",
   "language": "julia",
   "name": "julia-1.6"
  },
  "language_info": {
   "file_extension": ".jl",
   "mimetype": "application/julia",
   "name": "julia",
   "version": "1.6.3"
  }
 },
 "nbformat": 4,
 "nbformat_minor": 5
}
