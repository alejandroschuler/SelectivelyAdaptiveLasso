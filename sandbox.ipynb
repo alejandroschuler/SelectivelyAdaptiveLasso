{
 "cells": [
  {
   "cell_type": "code",
   "execution_count": 1,
   "id": "a09dbc3e-3d62-42ec-9ae3-cb4bdb156b4e",
   "metadata": {},
   "outputs": [
    {
     "name": "stderr",
     "output_type": "stream",
     "text": [
      "\u001b[32m\u001b[1m  Activating\u001b[22m\u001b[39m environment at `~/Desktop/SelectivelyAdaptiveLasso/Project.toml`\n"
     ]
    }
   ],
   "source": [
    "using Pkg, Revise\n",
    "Pkg.activate(\".\")\n",
    "using CSV, DataFrames, VegaLite\n",
    "import Statistics: mean"
   ]
  },
  {
   "cell_type": "code",
   "execution_count": 55,
   "id": "db3d4db5-5fdf-4a8a-87cf-77a3ef4a04c1",
   "metadata": {
    "collapsed": true,
    "jupyter": {
     "outputs_hidden": true
    },
    "tags": []
   },
   "outputs": [
    {
     "name": "stdout",
     "output_type": "stream",
     "text": [
      "\u001b[37m\u001b[1mTest Summary: | \u001b[22m\u001b[39m\u001b[32m\u001b[1mPass  \u001b[22m\u001b[39m\u001b[36m\u001b[1mTotal\u001b[22m\u001b[39m\n",
      "FeatureVector | \u001b[32m   4  \u001b[39m\u001b[36m    4\u001b[39m\n",
      "\u001b[37m\u001b[1mTest Summary:   | \u001b[22m\u001b[39m\u001b[32m\u001b[1mPass  \u001b[22m\u001b[39m\u001b[36m\u001b[1mTotal\u001b[22m\u001b[39m\n",
      "basis selection | \u001b[32m1200  \u001b[39m\u001b[36m 1200\u001b[39m\n"
     ]
    },
    {
     "name": "stderr",
     "output_type": "stream",
     "text": [
      "\u001b[32m\u001b[1m     Testing\u001b[22m\u001b[39m SelectivelyAdaptiveLasso\n",
      "\u001b[32m\u001b[1m      Status\u001b[22m\u001b[39m `/private/var/folders/1j/vn8fvqrs7pn5ln731w20k34c0000gn/T/jl_Cxh3AZ/Project.toml`\n",
      " \u001b[90m [6e4b80f9] \u001b[39mBenchmarkTools v1.2.2\n",
      " \u001b[90m [336ed68f] \u001b[39mCSV v0.9.11\n",
      " \u001b[90m [861a8166] \u001b[39mCombinatorics v1.0.2\n",
      " \u001b[90m [a93c6f00] \u001b[39mDataFrames v1.3.0\n",
      " \u001b[90m [da5c29d0] \u001b[39mEllipsisNotation v1.1.3\n",
      " \u001b[90m [41ab1584] \u001b[39mInvertedIndices v1.1.0\n",
      " \u001b[90m [add582a8] \u001b[39mMLJ v0.16.11\n",
      " \u001b[90m [4391764f] \u001b[39mProfileVega v1.1.1\n",
      " \u001b[90m [52f33b2b] \u001b[39mSelectivelyAdaptiveLasso v0.1.0 `~/Desktop/SelectivelyAdaptiveLasso`\n",
      " \u001b[90m [2913bbd2] \u001b[39mStatsBase v0.33.13\n",
      " \u001b[90m [2dacb708] \u001b[39mUCIData v0.1.0 `https://github.com/JackDunnNZ/UCIData.jl#master`\n",
      " \u001b[90m [112f6efa] \u001b[39mVegaLite v2.6.0\n",
      " \u001b[90m [009559a3] \u001b[39mXGBoost v1.1.1\n",
      " \u001b[90m [fdbf4ff8] \u001b[39mXLSX v0.7.8\n",
      " \u001b[90m [9a3f8284] \u001b[39mRandom `@stdlib/Random`\n",
      " \u001b[90m [10745b16] \u001b[39mStatistics `@stdlib/Statistics`\n",
      " \u001b[90m [8dfed614] \u001b[39mTest `@stdlib/Test`\n",
      "\u001b[32m\u001b[1m      Status\u001b[22m\u001b[39m `/private/var/folders/1j/vn8fvqrs7pn5ln731w20k34c0000gn/T/jl_Cxh3AZ/Manifest.toml`\n",
      " \u001b[90m [da404889] \u001b[39mARFFFiles v1.4.1\n",
      " \u001b[90m [1520ce14] \u001b[39mAbstractTrees v0.3.4\n",
      " \u001b[90m [4fba245c] \u001b[39mArrayInterface v3.2.2\n",
      " \u001b[90m [fbb218c0] \u001b[39mBSON v0.3.4\n",
      " \u001b[90m [6e4b80f9] \u001b[39mBenchmarkTools v1.2.2\n",
      " \u001b[90m [b99e7846] \u001b[39mBinaryProvider v0.5.10\n",
      " \u001b[90m [336ed68f] \u001b[39mCSV v0.9.11\n",
      " \u001b[90m [324d7699] \u001b[39mCategoricalArrays v0.10.2\n",
      " \u001b[90m [d360d2e6] \u001b[39mChainRulesCore v1.11.1\n",
      " \u001b[90m [9e997f8a] \u001b[39mChangesOfVariables v0.1.1\n",
      " \u001b[90m [944b1d66] \u001b[39mCodecZlib v0.7.0\n",
      " \u001b[90m [3da002f7] \u001b[39mColorTypes v0.11.0\n",
      " \u001b[90m [5ae59095] \u001b[39mColors v0.12.8\n",
      " \u001b[90m [861a8166] \u001b[39mCombinatorics v1.0.2\n",
      " \u001b[90m [34da2185] \u001b[39mCompat v3.40.0\n",
      " \u001b[90m [ed09eef8] \u001b[39mComputationalResources v0.3.2\n",
      " \u001b[90m [187b0558] \u001b[39mConstructionBase v1.3.0\n",
      " \u001b[90m [a8cc5b0e] \u001b[39mCrayons v4.0.4\n",
      " \u001b[90m [9a962f9c] \u001b[39mDataAPI v1.9.0\n",
      " \u001b[90m [124859b0] \u001b[39mDataDeps v0.7.7\n",
      " \u001b[90m [a93c6f00] \u001b[39mDataFrames v1.3.0\n",
      " \u001b[90m [864edb3b] \u001b[39mDataStructures v0.18.10\n",
      " \u001b[90m [e2d170a0] \u001b[39mDataValueInterfaces v1.0.0\n",
      " \u001b[90m [e7dc6d0d] \u001b[39mDataValues v0.4.13\n",
      " \u001b[90m [b429d917] \u001b[39mDensityInterface v0.4.0\n",
      " \u001b[90m [b4f34e82] \u001b[39mDistances v0.10.6\n",
      " \u001b[90m [31c24e10] \u001b[39mDistributions v0.25.34\n",
      " \u001b[90m [ffbed154] \u001b[39mDocStringExtensions v0.8.6\n",
      " \u001b[90m [792122b4] \u001b[39mEarlyStopping v0.1.9\n",
      " \u001b[90m [da5c29d0] \u001b[39mEllipsisNotation v1.1.3\n",
      " \u001b[90m [8f5d6c58] \u001b[39mEzXML v1.1.0\n",
      " \u001b[90m [5789e2e9] \u001b[39mFileIO v1.11.2\n",
      " \u001b[90m [8fc22ac5] \u001b[39mFilePaths v0.8.3\n",
      " \u001b[90m [48062228] \u001b[39mFilePathsBase v0.9.17\n",
      " \u001b[90m [1a297f60] \u001b[39mFillArrays v0.12.7\n",
      " \u001b[90m [53c48c17] \u001b[39mFixedPointNumbers v0.8.4\n",
      " \u001b[90m [08572546] \u001b[39mFlameGraphs v0.2.8\n",
      " \u001b[90m [59287772] \u001b[39mFormatting v0.4.2\n",
      " \u001b[90m [cd3eb016] \u001b[39mHTTP v0.9.17\n",
      " \u001b[90m [615f187c] \u001b[39mIfElse v0.1.1\n",
      " \u001b[90m [9b13fd28] \u001b[39mIndirectArrays v1.0.0\n",
      " \u001b[90m [83e8ac13] \u001b[39mIniFile v0.5.0\n",
      " \u001b[90m [842dd82b] \u001b[39mInlineStrings v1.1.0\n",
      " \u001b[90m [3587e190] \u001b[39mInverseFunctions v0.1.2\n",
      " \u001b[90m [41ab1584] \u001b[39mInvertedIndices v1.1.0\n",
      " \u001b[90m [92d709cd] \u001b[39mIrrationalConstants v0.1.1\n",
      " \u001b[90m [b3c1a2ee] \u001b[39mIterationControl v0.4.0\n",
      " \u001b[90m [82899510] \u001b[39mIteratorInterfaceExtensions v1.0.0\n",
      " \u001b[90m [692b3bcd] \u001b[39mJLLWrappers v1.3.0\n",
      " \u001b[90m [9da8a3cd] \u001b[39mJLSO v2.6.0\n",
      " \u001b[90m [682c06a0] \u001b[39mJSON v0.21.2\n",
      " \u001b[90m [7d188eb4] \u001b[39mJSONSchema v0.3.4\n",
      " \u001b[90m [a5e1c1ea] \u001b[39mLatinHypercubeSampling v1.8.0\n",
      " \u001b[90m [7f8f8fb0] \u001b[39mLearnBase v0.4.1\n",
      " \u001b[90m [1d6d02ad] \u001b[39mLeftChildRightSiblingTrees v0.1.3\n",
      " \u001b[90m [1b4a561d] \u001b[39mLegacyStrings v0.5.0\n",
      " \u001b[90m [2ab3a3ac] \u001b[39mLogExpFunctions v0.3.5\n",
      " \u001b[90m [30fc2ffe] \u001b[39mLossFunctions v0.7.2\n",
      " \u001b[90m [add582a8] \u001b[39mMLJ v0.16.11\n",
      " \u001b[90m [a7f614a8] \u001b[39mMLJBase v0.18.26\n",
      " \u001b[90m [50ed68f4] \u001b[39mMLJEnsembles v0.1.2\n",
      " \u001b[90m [614be32b] \u001b[39mMLJIteration v0.3.3\n",
      " \u001b[90m [e80e1ace] \u001b[39mMLJModelInterface v1.3.3\n",
      " \u001b[90m [d491faf4] \u001b[39mMLJModels v0.14.14\n",
      " \u001b[90m [17bed46d] \u001b[39mMLJSerialization v1.1.2\n",
      " \u001b[90m [03970b2e] \u001b[39mMLJTuning v0.6.14\n",
      " \u001b[90m [1914dd2f] \u001b[39mMacroTools v0.5.9\n",
      " \u001b[90m [739be429] \u001b[39mMbedTLS v1.0.3\n",
      " \u001b[90m [f28f55f0] \u001b[39mMemento v1.3.0\n",
      " \u001b[90m [e1d29d7a] \u001b[39mMissings v1.0.2\n",
      " \u001b[90m [2bd173c7] \u001b[39mNodeJS v1.3.0\n",
      " \u001b[90m [8b6db2d4] \u001b[39mOpenML v0.1.1\n",
      " \u001b[90m [bac558e1] \u001b[39mOrderedCollections v1.4.1\n",
      " \u001b[90m [90014a1f] \u001b[39mPDMats v0.11.5\n",
      " \u001b[90m [d96e819e] \u001b[39mParameters v0.12.3\n",
      " \u001b[90m [69de0a69] \u001b[39mParsers v2.1.2\n",
      " \u001b[90m [2dfb63ee] \u001b[39mPooledArrays v1.4.0\n",
      " \u001b[90m [21216c6a] \u001b[39mPreferences v1.2.2\n",
      " \u001b[90m [08abe8d2] \u001b[39mPrettyTables v1.2.3\n",
      " \u001b[90m [4391764f] \u001b[39mProfileVega v1.1.1\n",
      " \u001b[90m [92933f4c] \u001b[39mProgressMeter v1.7.1\n",
      " \u001b[90m [1fd47b50] \u001b[39mQuadGK v2.4.2\n",
      " \u001b[90m [3cdcf5f2] \u001b[39mRecipesBase v1.2.1\n",
      " \u001b[90m [189a3867] \u001b[39mReexport v1.2.2\n",
      " \u001b[90m [ae029012] \u001b[39mRequires v1.1.3\n",
      " \u001b[90m [79098fc4] \u001b[39mRmath v0.7.0\n",
      " \u001b[90m [321657f4] \u001b[39mScientificTypes v2.3.3\n",
      " \u001b[90m [30f210dd] \u001b[39mScientificTypesBase v2.3.0\n",
      " \u001b[90m [52f33b2b] \u001b[39mSelectivelyAdaptiveLasso v0.1.0 `~/Desktop/SelectivelyAdaptiveLasso`\n",
      " \u001b[90m [91c51154] \u001b[39mSentinelArrays v1.3.8\n",
      " \u001b[90m [efcf1570] \u001b[39mSetfield v0.7.1\n",
      " \u001b[90m [a2af1166] \u001b[39mSortingAlgorithms v1.0.1\n",
      " \u001b[90m [276daf66] \u001b[39mSpecialFunctions v1.8.1\n",
      " \u001b[90m [860ef19b] \u001b[39mStableRNGs v1.0.0\n",
      " \u001b[90m [aedffcd0] \u001b[39mStatic v0.4.1\n",
      " \u001b[90m [64bff920] \u001b[39mStatisticalTraits v2.1.0\n",
      " \u001b[90m [82ae8749] \u001b[39mStatsAPI v1.1.0\n",
      " \u001b[90m [2913bbd2] \u001b[39mStatsBase v0.33.13\n",
      " \u001b[90m [4c63d2b9] \u001b[39mStatsFuns v0.9.14\n",
      " \u001b[90m [3783bdb8] \u001b[39mTableTraits v1.0.1\n",
      " \u001b[90m [382cd787] \u001b[39mTableTraitsUtils v1.0.2\n",
      " \u001b[90m [bd369af6] \u001b[39mTables v1.6.0\n",
      " \u001b[90m [3bb67fe8] \u001b[39mTranscodingStreams v0.9.6\n",
      " \u001b[90m [2dacb708] \u001b[39mUCIData v0.1.0 `https://github.com/JackDunnNZ/UCIData.jl#master`\n",
      " \u001b[90m [30578b45] \u001b[39mURIParser v0.4.1\n",
      " \u001b[90m [5c2747f8] \u001b[39mURIs v1.3.0\n",
      " \u001b[90m [3a884ed6] \u001b[39mUnPack v1.0.2\n",
      " \u001b[90m [239c3e63] \u001b[39mVega v2.3.0\n",
      " \u001b[90m [112f6efa] \u001b[39mVegaLite v2.6.0\n",
      " \u001b[90m [ea10d353] \u001b[39mWeakRefStrings v1.4.1\n",
      " \u001b[90m [009559a3] \u001b[39mXGBoost v1.1.1\n",
      " \u001b[90m [fdbf4ff8] \u001b[39mXLSX v0.7.8\n",
      " \u001b[90m [a5390f91] \u001b[39mZipFile v0.9.4\n",
      " \u001b[90m [94ce4f54] \u001b[39mLibiconv_jll v1.16.1+1\n",
      " \u001b[90m [efe28fd5] \u001b[39mOpenSpecFun_jll v0.5.5+0\n",
      " \u001b[90m [f50d1b31] \u001b[39mRmath_jll v0.3.0+0\n",
      " \u001b[90m [a5c6f535] \u001b[39mXGBoost_jll v1.4.2+0\n",
      " \u001b[90m [02c8fc9c] \u001b[39mXML2_jll v2.9.12+0\n",
      " \u001b[90m [0dad84c5] \u001b[39mArgTools `@stdlib/ArgTools`\n",
      " \u001b[90m [56f22d72] \u001b[39mArtifacts `@stdlib/Artifacts`\n",
      " \u001b[90m [2a0f44e3] \u001b[39mBase64 `@stdlib/Base64`\n",
      " \u001b[90m [ade2ca70] \u001b[39mDates `@stdlib/Dates`\n",
      " \u001b[90m [8bb1440f] \u001b[39mDelimitedFiles `@stdlib/DelimitedFiles`\n",
      " \u001b[90m [8ba89e20] \u001b[39mDistributed `@stdlib/Distributed`\n",
      " \u001b[90m [f43a241f] \u001b[39mDownloads `@stdlib/Downloads`\n",
      " \u001b[90m [9fa8497b] \u001b[39mFuture `@stdlib/Future`\n",
      " \u001b[90m [b77e0a4c] \u001b[39mInteractiveUtils `@stdlib/InteractiveUtils`\n",
      " \u001b[90m [b27032c2] \u001b[39mLibCURL `@stdlib/LibCURL`\n",
      " \u001b[90m [76f85450] \u001b[39mLibGit2 `@stdlib/LibGit2`\n",
      " \u001b[90m [8f399da3] \u001b[39mLibdl `@stdlib/Libdl`\n",
      " \u001b[90m [37e2e46d] \u001b[39mLinearAlgebra `@stdlib/LinearAlgebra`\n",
      " \u001b[90m [56ddb016] \u001b[39mLogging `@stdlib/Logging`\n",
      " \u001b[90m [d6f4376e] \u001b[39mMarkdown `@stdlib/Markdown`\n",
      " \u001b[90m [a63ad114] \u001b[39mMmap `@stdlib/Mmap`\n",
      " \u001b[90m [ca575930] \u001b[39mNetworkOptions `@stdlib/NetworkOptions`\n",
      " \u001b[90m [44cfe95a] \u001b[39mPkg `@stdlib/Pkg`\n",
      " \u001b[90m [de0858da] \u001b[39mPrintf `@stdlib/Printf`\n",
      " \u001b[90m [9abbd945] \u001b[39mProfile `@stdlib/Profile`\n",
      " \u001b[90m [3fa0cd96] \u001b[39mREPL `@stdlib/REPL`\n",
      " \u001b[90m [9a3f8284] \u001b[39mRandom `@stdlib/Random`\n",
      " \u001b[90m [ea8e919c] \u001b[39mSHA `@stdlib/SHA`\n",
      " \u001b[90m [9e88b42a] \u001b[39mSerialization `@stdlib/Serialization`\n",
      " \u001b[90m [1a1011a3] \u001b[39mSharedArrays `@stdlib/SharedArrays`\n",
      " \u001b[90m [6462fe0b] \u001b[39mSockets `@stdlib/Sockets`\n",
      " \u001b[90m [2f01184e] \u001b[39mSparseArrays `@stdlib/SparseArrays`\n",
      " \u001b[90m [10745b16] \u001b[39mStatistics `@stdlib/Statistics`\n",
      " \u001b[90m [4607b0f0] \u001b[39mSuiteSparse `@stdlib/SuiteSparse`\n",
      " \u001b[90m [fa267f1f] \u001b[39mTOML `@stdlib/TOML`\n",
      " \u001b[90m [a4e569a6] \u001b[39mTar `@stdlib/Tar`\n",
      " \u001b[90m [8dfed614] \u001b[39mTest `@stdlib/Test`\n",
      " \u001b[90m [cf7118a7] \u001b[39mUUIDs `@stdlib/UUIDs`\n",
      " \u001b[90m [4ec0a83e] \u001b[39mUnicode `@stdlib/Unicode`\n",
      " \u001b[90m [e66e0078] \u001b[39mCompilerSupportLibraries_jll `@stdlib/CompilerSupportLibraries_jll`\n",
      " \u001b[90m [deac9b47] \u001b[39mLibCURL_jll `@stdlib/LibCURL_jll`\n",
      " \u001b[90m [29816b5a] \u001b[39mLibSSH2_jll `@stdlib/LibSSH2_jll`\n",
      " \u001b[90m [c8ffd9c3] \u001b[39mMbedTLS_jll `@stdlib/MbedTLS_jll`\n",
      " \u001b[90m [14a3606d] \u001b[39mMozillaCACerts_jll `@stdlib/MozillaCACerts_jll`\n",
      " \u001b[90m [05823500] \u001b[39mOpenLibm_jll `@stdlib/OpenLibm_jll`\n",
      " \u001b[90m [83775a58] \u001b[39mZlib_jll `@stdlib/Zlib_jll`\n",
      " \u001b[90m [8e850ede] \u001b[39mnghttp2_jll `@stdlib/nghttp2_jll`\n",
      " \u001b[90m [3f19e933] \u001b[39mp7zip_jll `@stdlib/p7zip_jll`\n",
      "\u001b[32m\u001b[1m     Testing\u001b[22m\u001b[39m Running tests...\n",
      "\u001b[32m\u001b[1m     Testing\u001b[22m\u001b[39m SelectivelyAdaptiveLasso tests passed \n"
     ]
    }
   ],
   "source": [
    "Pkg.test(\"SelectivelyAdaptiveLasso\")"
   ]
  },
  {
   "cell_type": "code",
   "execution_count": 2,
   "id": "1b977ebc-9446-4b7e-a633-170dd9e79be3",
   "metadata": {},
   "outputs": [
    {
     "data": {
      "text/plain": [
       "get_data (generic function with 2 methods)"
      ]
     },
     "execution_count": 2,
     "metadata": {},
     "output_type": "execute_result"
    }
   ],
   "source": [
    "data_path = \"/Users/aschuler/Desktop/uci-data/csv/\"\n",
    "datasets = [\"boston\", \"concrete\", \"energy\", \"kin8nm\", \"naval\", \"power\", \"protein\", \"wine\", \"yacht\"]\n",
    "\n",
    "function get_data(dataset, path=data_path)\n",
    "    df = CSV.read(\n",
    "        open(data_path * dataset * \".csv\"), \n",
    "        DataFrame, copycols=true\n",
    "    )\n",
    "    Y = float(df[:,end])\n",
    "    X = Matrix(df[:,1:end-1])\n",
    "    \n",
    "    return X, Y\n",
    "end"
   ]
  },
  {
   "cell_type": "code",
   "execution_count": 3,
   "id": "8c0a2490-6221-4eb7-9374-b7f492ddffed",
   "metadata": {},
   "outputs": [
    {
     "name": "stdout",
     "output_type": "stream",
     "text": [
      "boston(506, 13)(506,)\n",
      "concrete(1030, 8)(1030,)\n",
      "energy(768, 8)(768,)\n",
      "kin8nm(8192, 8)(8192,)\n",
      "naval(11934, 17)(11934,)\n",
      "power(9568, 4)(9568,)\n",
      "protein(45730, 9)(45730,)\n",
      "wine(1599, 11)(1599,)\n",
      "yacht(308, 6)(308,)\n"
     ]
    }
   ],
   "source": [
    "for dataset in datasets\n",
    "    X,Y = get_data(dataset)\n",
    "    print(dataset, size(X), size(Y))\n",
    "    print(\"\\n\")\n",
    "end"
   ]
  },
  {
   "cell_type": "code",
   "execution_count": 4,
   "id": "b495b0f4-49db-4cdd-afb0-f6f44699ae80",
   "metadata": {},
   "outputs": [
    {
     "data": {
      "text/plain": [
       "train_test_split (generic function with 1 method)"
      ]
     },
     "execution_count": 4,
     "metadata": {},
     "output_type": "execute_result"
    }
   ],
   "source": [
    "using EllipsisNotation\n",
    "import Random: shuffle\n",
    "\n",
    "function train_test_split(arrays...; test_frac=0.1)\n",
    "    n = size(arrays[1])[1]\n",
    "    n_test = Int(round(n*test_frac))\n",
    "\n",
    "    idx = shuffle(1:n)\n",
    "    idx_test = idx[1:n_test]\n",
    "    idx_train = idx[(n_test+1):end]\n",
    "    \n",
    "    return ((A[idx_train,..], A[idx_test,..]) for A in arrays)\n",
    "end"
   ]
  },
  {
   "cell_type": "code",
   "execution_count": 10,
   "id": "9811a531-ae40-4587-b9bd-9c96cf0e2610",
   "metadata": {},
   "outputs": [],
   "source": [
    "X,Y = get_data(\"kin8nm\")\n",
    "# Y = Y.-mean(Y)\n",
    "(X_tr_val, X_te), (Y_tr_val, Y_te) = train_test_split(X, Y, test_frac=0.1)\n",
    "(X_tr, X_val), (Y_tr, Y_val) = train_test_split(X_tr_val, Y_tr_val, test_frac=0.2);\n",
    "n,p = size(X_tr);"
   ]
  },
  {
   "cell_type": "code",
   "execution_count": 11,
   "id": "3a782b40-7fe2-49b5-8e80-163b6af14cb2",
   "metadata": {
    "collapsed": true,
    "jupyter": {
     "outputs_hidden": true
    },
    "tags": []
   },
   "outputs": [
    {
     "name": "stdout",
     "output_type": "stream",
     "text": [
      "(0.0292507304223928, 0.03711009456724449, 101, 101)\n",
      "(0.025709779351176323, 0.03443371877582848, 193, 193)\n",
      "(0.02315987500355376, 0.032954128598175175, 275, 275)\n",
      "(0.020644536896591896, 0.03158563517210036, 350, 350)\n",
      "(0.018715049623587034, 0.030984150981570573, 416, 416)\n",
      "(0.017365067021080524, 0.031069590030296326, 474, 474)\n",
      "(0.016008228726371, 0.03139469716527678, 545, 545)\n",
      "(0.014640980813793157, 0.031000367263546377, 604, 604)\n",
      "(0.013273781523457089, 0.030044089358986413, 629, 629)\n",
      "(0.01230052265526567, 0.029906543844962417, 649, 649)\n",
      "(0.011284038577786242, 0.029343165108323684, 692, 692)\n",
      "(0.0103401282971034, 0.02916694528676359, 729, 729)\n",
      "(0.009378124051752968, 0.02863629745062218, 765, 765)\n",
      "(0.008552611218668663, 0.028298120973647974, 810, 810)\n",
      "(0.007924059025620944, 0.02828599741924593, 857, 857)\n",
      "(0.007338635536878544, 0.028039032774054277, 905, 905)\n",
      "(0.0068222150592253394, 0.02756420809937192, 944, 944)\n",
      "(0.006343354507717388, 0.027278797040029, 989, 989)\n",
      "(0.005883252105973003, 0.0268993067379491, 1035, 1035)\n",
      "(0.005556328517940508, 0.026865924203209653, 1057, 1057)\n",
      "(0.0053028501215365295, 0.026724521140077718, 1081, 1081)\n",
      "(0.004978137032745427, 0.026639851669309968, 1118, 1118)\n",
      "(0.004724607803546656, 0.026657214094677147, 1141, 1141)\n",
      "(0.004503169076884693, 0.026805923231911406, 1161, 1161)\n",
      "(0.0043343765039346414, 0.026859198173818464, 1188, 1188)\n",
      "(0.0041672466534880305, 0.02685970726235738, 1209, 1209)\n",
      "(0.00399487575995545, 0.026962350298203847, 1228, 1228)\n",
      "(0.0038266562329966575, 0.026827000986177685, 1249, 1249)\n",
      "(0.0036822831359660272, 0.02669283854696466, 1269, 1269)\n",
      "(0.003554490280462528, 0.026638607417471115, 1287, 1287)\n",
      "(0.0033995039180023416, 0.026602342840326643, 1302, 1302)\n",
      "(0.003309262592478613, 0.02667150551254906, 1310, 1310)\n",
      "(0.003214157471095686, 0.026677194220342607, 1317, 1317)\n",
      "(0.003149590909717436, 0.02669457594420431, 1321, 1321)\n",
      "(0.00307437824564579, 0.026692171648160443, 1340, 1340)\n",
      "(0.002997316263785912, 0.026665114360686453, 1363, 1363)\n",
      "(0.0029204766545567824, 0.026750309115261245, 1366, 1366)\n",
      "(0.002829650665606097, 0.026774277902801704, 1389, 1389)\n",
      "(0.0027477424642628396, 0.026668511181790523, 1410, 1410)\n",
      "(0.0026802528653476357, 0.026679855688225347, 1419, 1419)\n",
      "(0.0026346709889424405, 0.026709049109573633, 1426, 1426)\n",
      "(0.0025956614623854684, 0.026712144857962344, 1435, 1435)\n",
      "(0.0025513322233351467, 0.026752113383159127, 1449, 1449)\n",
      "(0.0024975151345786478, 0.026773779263388836, 1461, 1461)\n",
      "(0.0024485286090437, 0.026788658468271557, 1475, 1475)\n",
      "(0.0024054515281424853, 0.02677921511214884, 1485, 1485)\n",
      "(0.002360650667593783, 0.0267291449389116, 1495, 1495)\n",
      "(0.0023114185304769154, 0.02669437610585814, 1507, 1507)\n",
      "(0.002267476739778888, 0.026702738468697827, 1520, 1520)\n",
      "(0.0022178141611138833, 0.02668943212551031, 1531, 1531)\n",
      "(0.0021921238484687985, 0.026690912775273003, 1534, 1534)\n",
      "(0.0021601764168019183, 0.026658109635189508, 1545, 1545)\n",
      "(0.0021311633689622958, 0.026586697672195937, 1554, 1554)\n",
      "(0.0021035541186384854, 0.026577357019330686, 1562, 1562)\n",
      "(0.002068754930716991, 0.02657521963012892, 1575, 1575)\n",
      "(0.002044285786450636, 0.02657713182368398, 1578, 1578)\n",
      "(0.0020231415471100066, 0.02654577301354451, 1583, 1583)\n",
      "(0.002009780700483374, 0.02654829433589191, 1586, 1586)\n",
      "(0.0019719817121593235, 0.026502659001366537, 1601, 1601)\n",
      "(0.0019447016547485035, 0.026438298667200162, 1610, 1610)\n",
      "(0.0019152162670029854, 0.026402821341000325, 1619, 1619)\n",
      "(0.00189264658484554, 0.026378634115061833, 1625, 1625)\n",
      "(0.0018715979489785381, 0.026352712571745276, 1636, 1636)\n",
      "(0.0018489300281674442, 0.02631907540267465, 1645, 1645)\n",
      "(0.0018261788246438898, 0.02630113786294332, 1652, 1652)\n",
      "(0.0018099069261070858, 0.02634094767004143, 1658, 1658)\n",
      "(0.001783902523309818, 0.026316546528023326, 1663, 1663)\n",
      "(0.0017635222285371365, 0.026260377191265876, 1668, 1668)\n",
      "(0.0017546569517767482, 0.0262394129018965, 1659, 1659)\n",
      "(0.0017414688879487192, 0.02620446420617246, 1668, 1668)\n",
      "(0.00172345092868347, 0.026203330404508274, 1680, 1680)\n",
      "(0.0017048602653564685, 0.02619626125700747, 1678, 1678)\n",
      "(0.0016934884833753516, 0.02619301525191247, 1678, 1678)\n",
      "(0.0016845826078095978, 0.026193836825513094, 1680, 1680)\n"
     ]
    },
    {
     "ename": "LoadError",
     "evalue": "InterruptException:",
     "output_type": "error",
     "traceback": [
      "InterruptException:",
      "",
      "Stacktrace:",
      "  [1] deepcopy_internal(x::Any, stackdict::IdDict{Any, Any})",
      "    @ Base ./deepcopy.jl:83",
      "  [2] deepcopy_internal(x::Dict{Set{Tuple{Int64, Float64}}, SelectivelyAdaptiveLasso.BasisVector}, stackdict::IdDict{Any, Any})",
      "    @ Base ./deepcopy.jl:125",
      "  [3] deepcopy_internal(x::Any, stackdict::IdDict{Any, Any})",
      "    @ Base ./deepcopy.jl:76",
      "  [4] deepcopy",
      "    @ ./deepcopy.jl:26 [inlined]",
      "  [5] basis_search(X::Vector{SelectivelyAdaptiveLasso.FeatureVector}, Y::Vector{Float64}; subsample_n::Int64, feat_n::Int64, off_limits::Base.KeySet{Set{Tuple{Int64, Float64}}, Dict{Set{Tuple{Int64, Float64}}, SelectivelyAdaptiveLasso.BasisVector}})",
      "    @ SelectivelyAdaptiveLasso ~/Desktop/SelectivelyAdaptiveLasso/src/bases.jl:168",
      "  [6] fit(sal::SelectivelyAdaptiveLasso.SALSpec, X::Matrix{Float64}, Y::Vector{Float64}; X_val::Matrix{Float64}, Y_val::Vector{Float64}, verbose::Bool, print_iter::Int64)",
      "    @ SelectivelyAdaptiveLasso ~/Desktop/SelectivelyAdaptiveLasso/src/SelectivelyAdaptiveLasso.jl:100",
      "  [7] top-level scope",
      "    @ ./timing.jl:210 [inlined]",
      "  [8] top-level scope",
      "    @ ./In[11]:0",
      "  [9] eval",
      "    @ ./boot.jl:360 [inlined]",
      " [10] include_string(mapexpr::typeof(REPL.softscope), mod::Module, code::String, filename::String)",
      "    @ Base ./loading.jl:1116"
     ]
    }
   ],
   "source": [
    "import SelectivelyAdaptiveLasso as SAL\n",
    "# for testing\n",
    "sal_spec = SAL.SALSpec(\n",
    "    max_iter=8000,\n",
    "    λ = 0.0001, \n",
    "    bases_per_iter=1,\n",
    "    subsample_pct = 0.5,\n",
    "    feat_pct = 0.3,\n",
    "    tol = 1e-2,\n",
    ")\n",
    "@time sal_fit, (mse_tr, mse_val) = SAL.fit(\n",
    "    sal_spec, \n",
    "    X_tr, Y_tr, \n",
    "    X_val=X_val, Y_val=Y_val,\n",
    "    verbose=true, print_iter=100,\n",
    ");"
   ]
  },
  {
   "cell_type": "markdown",
   "id": "17afbc85-5e08-48d4-8474-e60e1a9bb248",
   "metadata": {
    "tags": []
   },
   "source": [
    "# SAL"
   ]
  },
  {
   "cell_type": "code",
   "execution_count": 21,
   "id": "9b60cd9c-09a2-49ef-9700-17e8122df803",
   "metadata": {
    "tags": []
   },
   "outputs": [
    {
     "name": "stdout",
     "output_type": "stream",
     "text": [
      " 14.012788 seconds (167.22 M allocations: 21.022 GiB, 22.23% gc time)\n",
      " 21.588579 seconds (255.01 M allocations: 31.797 GiB, 21.36% gc time)\n",
      " 13.043410 seconds (141.20 M allocations: 17.233 GiB, 20.62% gc time)\n",
      " 58.899841 seconds (685.33 M allocations: 84.322 GiB, 20.92% gc time)\n",
      " 17.950222 seconds (192.65 M allocations: 23.460 GiB, 19.74% gc time)\n",
      " 11.748142 seconds (106.58 M allocations: 12.485 GiB, 15.84% gc time)\n",
      " 40.799751 seconds (407.82 M allocations: 48.832 GiB, 18.04% gc time)\n",
      " 67.187987 seconds (548.56 M allocations: 64.899 GiB, 15.12% gc time)\n"
     ]
    },
    {
     "data": {
      "text/html": [
       "<div class=\"data-frame\"><p>8 rows × 2 columns</p><table class=\"data-frame\"><thead><tr><th></th><th>dataset</th><th>rmse</th></tr><tr><th></th><th title=\"String\">String</th><th title=\"Any\">Any</th></tr></thead><tbody><tr><th>1</th><td>yacht</td><td>2.69333</td></tr><tr><th>2</th><td>yacht</td><td>0.753682</td></tr><tr><th>3</th><td>yacht</td><td>3.49235</td></tr><tr><th>4</th><td>yacht</td><td>1.36364</td></tr><tr><th>5</th><td>yacht</td><td>0.907216</td></tr><tr><th>6</th><td>yacht</td><td>1.7093</td></tr><tr><th>7</th><td>yacht</td><td>2.03089</td></tr><tr><th>8</th><td>yacht</td><td>1.36427</td></tr></tbody></table></div>"
      ],
      "text/latex": [
       "\\begin{tabular}{r|cc}\n",
       "\t& dataset & rmse\\\\\n",
       "\t\\hline\n",
       "\t& String & Any\\\\\n",
       "\t\\hline\n",
       "\t1 & yacht & 2.69333 \\\\\n",
       "\t2 & yacht & 0.753682 \\\\\n",
       "\t3 & yacht & 3.49235 \\\\\n",
       "\t4 & yacht & 1.36364 \\\\\n",
       "\t5 & yacht & 0.907216 \\\\\n",
       "\t6 & yacht & 1.7093 \\\\\n",
       "\t7 & yacht & 2.03089 \\\\\n",
       "\t8 & yacht & 1.36427 \\\\\n",
       "\\end{tabular}\n"
      ],
      "text/plain": [
       "\u001b[1m8×2 DataFrame\u001b[0m\n",
       "\u001b[1m Row \u001b[0m│\u001b[1m dataset \u001b[0m\u001b[1m rmse     \u001b[0m\n",
       "\u001b[1m     \u001b[0m│\u001b[90m String  \u001b[0m\u001b[90m Any      \u001b[0m\n",
       "─────┼───────────────────\n",
       "   1 │ yacht    2.69333\n",
       "   2 │ yacht    0.753682\n",
       "   3 │ yacht    3.49235\n",
       "   4 │ yacht    1.36364\n",
       "   5 │ yacht    0.907216\n",
       "   6 │ yacht    1.7093\n",
       "   7 │ yacht    2.03089\n",
       "   8 │ yacht    1.36427"
      ]
     },
     "execution_count": 21,
     "metadata": {},
     "output_type": "execute_result"
    }
   ],
   "source": [
    "import SelectivelyAdaptiveLasso as SAL\n",
    "result_path = \"/Users/aschuler/Desktop/SAL-results/\"\n",
    "\n",
    "λs = ℯ .^range(-14, -5, length=10)\n",
    "\n",
    "# loop over datasets\n",
    "# change λ to denser range?\n",
    "\n",
    "dataset_name = \"yacht\"\n",
    "X,Y = get_data(dataset_name)\n",
    "test_rmses = []\n",
    "\n",
    "Threads.@threads for run in 1:8\n",
    "    (X_tr_val, X_te), (Y_tr_val, Y_te) = train_test_split(X, Y, test_frac=0.1)\n",
    "    (X_tr, X_val), (Y_tr, Y_val) = train_test_split(X_tr_val, Y_tr_val, test_frac=0.2);\n",
    "    n,p = size(X_tr)\n",
    "    metrics = []\n",
    "    \n",
    "    for λ in λs\n",
    "        sal_spec = SAL.SALSpec(\n",
    "            max_iter=10000,\n",
    "            λ = λ, \n",
    "            bases_per_iter=1,\n",
    "            subsample_pct = 0.5,\n",
    "            feat_pct = sqrt(p)/p,\n",
    "            tol = 1e-2,\n",
    "        )\n",
    "        stats = @timed sal_fit, (mse_tr, mse_val) = SAL.fit(\n",
    "            sal_spec, \n",
    "            X_tr, Y_tr, \n",
    "            X_val=X_val, Y_val=Y_val,\n",
    "            # verbose=true, print_iter=100,\n",
    "        )\n",
    "        mse, iter = findmin(mse_val)\n",
    "        run_metrics = Dict(\n",
    "            :mse => mse,\n",
    "            :best_iter => iter,\n",
    "            :time => stats.time,\n",
    "            :spec => sal_spec,\n",
    "        )\n",
    "        # Core.println(run_metrics)\n",
    "        push!(metrics, run_metrics)\n",
    "    end\n",
    "\n",
    "    min_mse, run_id = findmin([run[:mse] for run in metrics])\n",
    "    params = metrics[run_id]\n",
    "    new_spec = deepcopy(params[:spec])\n",
    "    new_spec.max_iter = params[:best_iter]\n",
    "\n",
    "    @time sal_fit, (mse_tr_val, mse_te) = SAL.fit(\n",
    "        new_spec, \n",
    "        X_tr_val, Y_tr_val, \n",
    "        X_val=X_te, Y_val=Y_te,\n",
    "        # verbose=true, print_iter=100,\n",
    "    )\n",
    "    test_rmse = sqrt(mse_te[end])\n",
    "    push!(test_rmses, test_rmse)\n",
    "end\n",
    "result_df = DataFrame(:dataset=>dataset_name, :rmse=>test_rmses)\n",
    "CSV.write(result_path*dataset_name*\".csv\", result_df)\n",
    "result_df"
   ]
  },
  {
   "cell_type": "markdown",
   "id": "b98dbee1-c5c7-4d16-8eb8-9491ca7606af",
   "metadata": {},
   "source": [
    "## for Year MSD Data"
   ]
  },
  {
   "cell_type": "code",
   "execution_count": 22,
   "id": "5d3efca5-4212-42b6-8db6-e58fe74a8aad",
   "metadata": {},
   "outputs": [],
   "source": [
    "dataset_name = \"yearmsd\"\n",
    "X,Y = get_data(dataset_name)\n",
    "Y = Y .- mean(Y)\n",
    "idx_tr = 1:463715\n",
    "X_tr_val, X_te = X[idx_tr, :], X[Not(idx_tr), :]\n",
    "Y_tr_val, Y_te = Y[idx_tr], Y[Not(idx_tr)]\n",
    "(X_tr, X_val), (Y_tr, Y_val) = train_test_split(X_tr_val, Y_tr_val, test_frac=0.2);"
   ]
  },
  {
   "cell_type": "code",
   "execution_count": 23,
   "id": "1816f7ee-5c5e-4d55-885f-a6a8ceb1a077",
   "metadata": {},
   "outputs": [
    {
     "name": "stdout",
     "output_type": "stream",
     "text": [
      "(118.79819408725812, 116.91108114293861, 2, 2)\n",
      "(117.9214644448912, 116.12425487401813, 3, 3)\n",
      "(114.5260573221788, 113.12107074326008, 4, 4)\n",
      "(113.2253431579038, 111.93928341666486, 5, 5)\n",
      "(113.02349966398839, 111.76466764523971, 6, 6)\n",
      "(112.36823110897011, 111.27187434361812, 7, 7)\n",
      "(110.69597748505832, 110.02550774328843, 8, 8)\n",
      "(109.90161033268814, 109.41249871370894, 9, 9)\n",
      "(109.63657527935321, 109.19178834089597, 10, 10)\n",
      "(109.22078487081875, 108.81644540041843, 11, 11)\n",
      "(108.46946876378107, 108.24894622782563, 12, 12)\n",
      "(105.19186278321288, 105.42468636229634, 13, 13)\n",
      "(104.18525315732457, 104.53677220555423, 14, 14)\n",
      "(103.64459295009172, 104.0365467270505, 15, 15)\n",
      "(102.98136814065526, 103.40503630518279, 16, 16)\n",
      "(102.75994921279066, 103.2037999330364, 17, 17)\n",
      "(102.60630369068652, 103.06033226084148, 18, 18)\n",
      "(102.2682539876821, 102.74631886187365, 19, 19)\n",
      "(101.94760032066135, 102.47322290048533, 20, 20)\n",
      "(101.92841264191684, 102.45633950766032, 21, 21)\n",
      "(101.76308711996327, 102.31333990529639, 22, 22)\n",
      "(101.72157811824492, 102.27555788822096, 23, 23)\n",
      "(101.6355972356235, 102.18911805613428, 24, 24)\n",
      "(101.19967771209674, 101.80993398111372, 25, 25)\n",
      "(100.36445895200471, 101.18088831495331, 26, 26)\n",
      "(99.69814883160818, 100.69802179035581, 27, 27)\n",
      "(99.49357824586775, 100.5286063645351, 28, 28)\n",
      "(99.06869269208077, 100.17848570798351, 29, 29)\n",
      "(98.81492136076338, 99.94817449913252, 30, 30)\n",
      "(98.44856667318898, 99.57141370168561, 31, 31)\n",
      "(98.04917283103131, 99.2146030446475, 32, 32)\n",
      "(98.03117331145874, 99.19699244919234, 33, 33)\n",
      "(97.82777936918374, 98.9877908234138, 34, 34)\n",
      "(97.80919707192625, 98.96816803579894, 35, 35)\n",
      "(97.76943164905468, 98.9287883722556, 36, 36)\n",
      "(97.4760169946573, 98.69909147419537, 37, 37)\n",
      "(97.45749900641982, 98.68467146421781, 38, 38)\n",
      "(97.43965411026831, 98.67077357909712, 39, 39)\n",
      "(97.41968213884253, 98.65428560531815, 40, 40)\n",
      "(97.09641266221752, 98.47962917553791, 41, 41)\n",
      "(97.05595712823623, 98.45570832029063, 42, 42)\n",
      "(96.99312517108797, 98.41277904684402, 43, 43)\n",
      "(96.87740897433095, 98.3333003890636, 44, 44)\n",
      "(96.47585573190042, 97.98174027910115, 45, 45)\n",
      "(96.45694143141814, 97.96467705349333, 46, 46)\n",
      "(96.1482007840571, 97.7161443010166, 47, 47)\n",
      "(96.13115957574483, 97.70140229001984, 48, 48)\n",
      "(96.11551542440807, 97.68789751775049, 49, 49)\n",
      "(95.76881963576818, 97.37649259837812, 50, 50)\n",
      "(95.7508969459413, 97.35874415526912, 51, 51)\n",
      "(95.70974129557689, 97.3254384418676, 52, 52)\n",
      "(95.43752993309276, 97.06150668372506, 53, 53)\n",
      "(95.28476219538554, 96.93292932632058, 54, 54)\n",
      "(95.265712092566, 96.9170343290327, 55, 55)\n",
      "(95.1383471713529, 96.80884965518601, 56, 56)\n",
      "(94.86659240294023, 96.61043242503459, 57, 57)\n",
      "(94.61678622655029, 96.39697284555095, 58, 58)\n",
      "(94.50269019917283, 96.30189947463556, 59, 59)\n",
      "(94.48366189245708, 96.2850820963104, 60, 60)\n",
      "(94.46611494012654, 96.26952545784985, 61, 61)\n",
      "(94.4499681528241, 96.25510679335315, 62, 62)\n",
      "(94.4347912763218, 96.24161911752373, 63, 63)\n",
      "(94.41962779063033, 96.22834262982795, 64, 64)\n",
      "(94.37753210446905, 96.19395865234719, 65, 65)\n",
      "(94.35898227442843, 96.17849910804189, 66, 66)\n",
      "(93.9904137625985, 95.85819687153806, 67, 67)\n",
      "(93.9738013500337, 95.84328363460153, 68, 68)\n",
      "(93.9585575331813, 95.82956902218112, 69, 69)\n",
      "(93.70948377820054, 95.59228271865831, 70, 70)\n",
      "(93.6698254341647, 95.5565850137563, 71, 71)\n",
      "(93.3304598984212, 95.2073570705504, 72, 72)\n",
      "(93.26816752715175, 95.14048671470593, 73, 73)\n",
      "(93.25119076837063, 95.1224380056153, 74, 74)\n",
      "(93.20934581544981, 95.08631330531088, 75, 75)\n",
      "(93.16924795875448, 95.05367206339116, 76, 76)\n",
      "(93.15154834217444, 95.0392515516773, 76, 76)\n",
      "(92.95768337355378, 94.86857971946905, 77, 77)\n",
      "(92.94067818048339, 94.85437445947494, 78, 78)\n",
      "(92.8226005562503, 94.74855012178288, 79, 79)\n",
      "(92.73271627970618, 94.6761796671216, 80, 80)\n",
      "(92.64170860164974, 94.58874459838711, 81, 81)\n"
     ]
    },
    {
     "ename": "LoadError",
     "evalue": "InterruptException:",
     "output_type": "error",
     "traceback": [
      "InterruptException:",
      "",
      "Stacktrace:",
      "  [1] Array",
      "    @ ./boot.jl:448 [inlined]",
      "  [2] Array",
      "    @ ./boot.jl:467 [inlined]",
      "  [3] collect",
      "    @ ./array.jl:678 [inlined]",
      "  [4] changepoints",
      "    @ ~/Desktop/SelectivelyAdaptiveLasso/src/bases.jl:83 [inlined]",
      "  [5] best_split_sorted(I::Vector{Int64}, X::Vector{Float64}, Y::Vector{Float64}, Y2::Vector{Float64}, off_limits::Set{Float64})",
      "    @ SelectivelyAdaptiveLasso ~/Desktop/SelectivelyAdaptiveLasso/src/bases.jl:105",
      "  [6] interact_basis(I::Vector{Int64}, X::Vector{SelectivelyAdaptiveLasso.FeatureVector}, Y::Vector{Float64}, Y2::Vector{Float64}, features::Vector{Int64}, off_limits::Set{Tuple{Int64, Float64}})",
      "    @ SelectivelyAdaptiveLasso ~/Desktop/SelectivelyAdaptiveLasso/src/bases.jl:127",
      "  [7] basis_search(X::Vector{SelectivelyAdaptiveLasso.FeatureVector}, Y::Vector{Float64}; subsample_n::Int64, feat_n::Int64, off_limits::Base.KeySet{Set{Tuple{Int64, Float64}}, Dict{Set{Tuple{Int64, Float64}}, SelectivelyAdaptiveLasso.BasisVector}})",
      "    @ SelectivelyAdaptiveLasso ~/Desktop/SelectivelyAdaptiveLasso/src/bases.jl:170",
      "  [8] fit(sal::SelectivelyAdaptiveLasso.SALSpec, X::Matrix{Float64}, Y::Vector{Float64}; X_val::Matrix{Float64}, Y_val::Vector{Float64}, verbose::Bool, print_iter::Int64)",
      "    @ SelectivelyAdaptiveLasso ~/Desktop/SelectivelyAdaptiveLasso/src/SelectivelyAdaptiveLasso.jl:100",
      "  [9] top-level scope",
      "    @ ./timing.jl:368 [inlined]",
      " [10] top-level scope",
      "    @ ./In[23]:0",
      " [11] eval",
      "    @ ./boot.jl:360 [inlined]",
      " [12] include_string(mapexpr::typeof(REPL.softscope), mod::Module, code::String, filename::String)",
      "    @ Base ./loading.jl:1116"
     ]
    }
   ],
   "source": [
    "import SelectivelyAdaptiveLasso as SAL\n",
    "\n",
    "_,p = size(X)\n",
    "\n",
    "sal_spec = SAL.SALSpec(\n",
    "    max_iter=200,\n",
    "    λ = 0.0001, \n",
    "    bases_per_iter=1,\n",
    "    subsample_pct = 0.1,\n",
    "    feat_pct = sqrt(p)/p,\n",
    "    tol = 1e-2,\n",
    ")\n",
    "stats = @timed sal_fit, (mse_tr, mse_val) = SAL.fit(\n",
    "    sal_spec, \n",
    "    X_tr_val, Y_tr_val, \n",
    "    X_val=X_te, Y_val=Y_te,\n",
    "    verbose=true, print_iter=1,\n",
    ")"
   ]
  },
  {
   "cell_type": "code",
   "execution_count": null,
   "id": "37dd2db4-c0f9-4ac4-bb9c-7b62ea7a88bd",
   "metadata": {
    "tags": []
   },
   "outputs": [],
   "source": [
    "import SelectivelyAdaptiveLasso as SAL\n",
    "result_path = \"/Users/aschuler/Desktop/SAL-results/\"\n",
    "\n",
    "λs = ℯ .^range(-14, -5, length=10)\n",
    "\n",
    "test_rmses = []\n",
    "\n",
    "n,p = size(X_tr)\n",
    "metrics = []\n",
    "\n",
    "Threads.@threads for λ in λs\n",
    "    sal_spec = SAL.SALSpec(\n",
    "        max_iter=200,\n",
    "        λ = λ, \n",
    "        bases_per_iter=100,\n",
    "        subsample_pct = 0.5,\n",
    "        feat_pct = sqrt(p)/p,\n",
    "        tol = 1e-2,\n",
    "    )\n",
    "    stats = @timed sal_fit, (mse_tr, mse_val) = SAL.fit(\n",
    "        sal_spec, \n",
    "        X_tr, Y_tr, \n",
    "        X_val=X_val, Y_val=Y_val,\n",
    "        # verbose=true, print_iter=100,\n",
    "    )\n",
    "    mse, iter = findmin(mse_val)\n",
    "    run_metrics = Dict(\n",
    "        :mse => mse,\n",
    "        :best_iter => iter,\n",
    "        :time => stats.time,\n",
    "        :spec => sal_spec,\n",
    "    )\n",
    "    # Core.println(run_metrics)\n",
    "    push!(metrics, run_metrics)\n",
    "end\n",
    "\n",
    "min_mse, run_id = findmin([run[:mse] for run in metrics])\n",
    "params = metrics[run_id]\n",
    "new_spec = deepcopy(params[:spec])\n",
    "new_spec.max_iter = params[:best_iter]\n",
    "\n",
    "@time sal_fit, (mse_tr_val, mse_te) = SAL.fit(\n",
    "    new_spec, \n",
    "    X_tr_val, Y_tr_val, \n",
    "    X_val=X_te, Y_val=Y_te,\n",
    "    # verbose=true, print_iter=100,\n",
    ")\n",
    "test_rmse = sqrt(mse_te[end])\n",
    "push!(test_rmses, test_rmse)\n",
    "\n",
    "result_df = DataFrame(:dataset=>dataset_name, :rmse=>test_rmses)\n",
    "CSV.write(result_path*dataset_name*\".csv\", result_df)"
   ]
  },
  {
   "cell_type": "markdown",
   "id": "5d8c32c7-e280-4d39-a3d5-43ab23b22c2a",
   "metadata": {
    "tags": []
   },
   "source": [
    "# Plot"
   ]
  },
  {
   "cell_type": "code",
   "execution_count": null,
   "id": "4a596366-3492-4994-9afa-e4d27e347c98",
   "metadata": {},
   "outputs": [
    {
     "data": {
      "application/vnd.vegalite.v4+json": {
       "data": {
        "values": [
         {
          "learner": "XGBoost",
          "loss": 0.9225417714573934,
          "n_iter": 1
         },
         {
          "learner": "XGBoost",
          "loss": 0.9123402664792111,
          "n_iter": 2
         },
         {
          "learner": "XGBoost",
          "loss": 0.9021925299307959,
          "n_iter": 3
         },
         {
          "learner": "XGBoost",
          "loss": 0.8924162042167851,
          "n_iter": 4
         },
         {
          "learner": "XGBoost",
          "loss": 0.8835876199136137,
          "n_iter": 5
         },
         {
          "learner": "XGBoost",
          "loss": 0.8739170988090583,
          "n_iter": 6
         },
         {
          "learner": "XGBoost",
          "loss": 0.8652235718333315,
          "n_iter": 7
         },
         {
          "learner": "XGBoost",
          "loss": 0.8569620865351247,
          "n_iter": 8
         },
         {
          "learner": "XGBoost",
          "loss": 0.848329902750654,
          "n_iter": 9
         },
         {
          "learner": "XGBoost",
          "loss": 0.8403841342945718,
          "n_iter": 10
         },
         {
          "learner": "XGBoost",
          "loss": 0.8320744637283878,
          "n_iter": 11
         },
         {
          "learner": "XGBoost",
          "loss": 0.823139020729722,
          "n_iter": 12
         },
         {
          "learner": "XGBoost",
          "loss": 0.8151765584947741,
          "n_iter": 13
         },
         {
          "learner": "XGBoost",
          "loss": 0.8070019800613782,
          "n_iter": 14
         },
         {
          "learner": "XGBoost",
          "loss": 0.7993847823571535,
          "n_iter": 15
         },
         {
          "learner": "XGBoost",
          "loss": 0.7920974482495005,
          "n_iter": 16
         },
         {
          "learner": "XGBoost",
          "loss": 0.7847225817409093,
          "n_iter": 17
         },
         {
          "learner": "XGBoost",
          "loss": 0.7767412963692045,
          "n_iter": 18
         },
         {
          "learner": "XGBoost",
          "loss": 0.7696982654246689,
          "n_iter": 19
         },
         {
          "learner": "XGBoost",
          "loss": 0.7621831038871476,
          "n_iter": 20
         },
         {
          "learner": "XGBoost",
          "loss": 0.7553214410822732,
          "n_iter": 21
         },
         {
          "learner": "XGBoost",
          "loss": 0.7487076567790788,
          "n_iter": 22
         },
         {
          "learner": "XGBoost",
          "loss": 0.7417112121110747,
          "n_iter": 23
         },
         {
          "learner": "XGBoost",
          "loss": 0.7351339633395682,
          "n_iter": 24
         },
         {
          "learner": "XGBoost",
          "loss": 0.7290342425131372,
          "n_iter": 25
         },
         {
          "learner": "XGBoost",
          "loss": 0.7229205964947123,
          "n_iter": 26
         },
         {
          "learner": "XGBoost",
          "loss": 0.716353802384876,
          "n_iter": 27
         },
         {
          "learner": "XGBoost",
          "loss": 0.7103435987417357,
          "n_iter": 28
         },
         {
          "learner": "XGBoost",
          "loss": 0.7047768756602079,
          "n_iter": 29
         },
         {
          "learner": "XGBoost",
          "loss": 0.698910619773139,
          "n_iter": 30
         },
         {
          "learner": "XGBoost",
          "loss": 0.6931360223493813,
          "n_iter": 31
         },
         {
          "learner": "XGBoost",
          "loss": 0.6872819011596001,
          "n_iter": 32
         },
         {
          "learner": "XGBoost",
          "loss": 0.6817466604782204,
          "n_iter": 33
         },
         {
          "learner": "XGBoost",
          "loss": 0.6765345206560188,
          "n_iter": 34
         },
         {
          "learner": "XGBoost",
          "loss": 0.6714636688367939,
          "n_iter": 35
         },
         {
          "learner": "XGBoost",
          "loss": 0.6661796284013822,
          "n_iter": 36
         },
         {
          "learner": "XGBoost",
          "loss": 0.6609693570024833,
          "n_iter": 37
         },
         {
          "learner": "XGBoost",
          "loss": 0.6560087175838875,
          "n_iter": 38
         },
         {
          "learner": "XGBoost",
          "loss": 0.6513550957529624,
          "n_iter": 39
         },
         {
          "learner": "XGBoost",
          "loss": 0.6464457980755851,
          "n_iter": 40
         },
         {
          "learner": "XGBoost",
          "loss": 0.6416847821645822,
          "n_iter": 41
         },
         {
          "learner": "XGBoost",
          "loss": 0.637300820438625,
          "n_iter": 42
         },
         {
          "learner": "XGBoost",
          "loss": 0.6328022366449717,
          "n_iter": 43
         },
         {
          "learner": "XGBoost",
          "loss": 0.6282415810832338,
          "n_iter": 44
         },
         {
          "learner": "XGBoost",
          "loss": 0.6241058444736604,
          "n_iter": 45
         },
         {
          "learner": "XGBoost",
          "loss": 0.6197813872921155,
          "n_iter": 46
         },
         {
          "learner": "XGBoost",
          "loss": 0.6152178967962215,
          "n_iter": 47
         },
         {
          "learner": "XGBoost",
          "loss": 0.6113822692023468,
          "n_iter": 48
         },
         {
          "learner": "XGBoost",
          "loss": 0.6072801028380735,
          "n_iter": 49
         },
         {
          "learner": "XGBoost",
          "loss": 0.6034300107385734,
          "n_iter": 50
         },
         {
          "learner": "XGBoost",
          "loss": 0.5992031831002333,
          "n_iter": 51
         },
         {
          "learner": "XGBoost",
          "loss": 0.5955866398842753,
          "n_iter": 52
         },
         {
          "learner": "XGBoost",
          "loss": 0.5919221410985454,
          "n_iter": 53
         },
         {
          "learner": "XGBoost",
          "loss": 0.5880257880578339,
          "n_iter": 54
         },
         {
          "learner": "XGBoost",
          "loss": 0.5843460633211592,
          "n_iter": 55
         },
         {
          "learner": "XGBoost",
          "loss": 0.5804022781530402,
          "n_iter": 56
         },
         {
          "learner": "XGBoost",
          "loss": 0.5769844374472808,
          "n_iter": 57
         },
         {
          "learner": "XGBoost",
          "loss": 0.5732005393690399,
          "n_iter": 58
         },
         {
          "learner": "XGBoost",
          "loss": 0.5699286541922436,
          "n_iter": 59
         },
         {
          "learner": "XGBoost",
          "loss": 0.566922097958872,
          "n_iter": 60
         },
         {
          "learner": "XGBoost",
          "loss": 0.5636992653280489,
          "n_iter": 61
         },
         {
          "learner": "XGBoost",
          "loss": 0.5607175406351876,
          "n_iter": 62
         },
         {
          "learner": "XGBoost",
          "loss": 0.5575429652245901,
          "n_iter": 63
         },
         {
          "learner": "XGBoost",
          "loss": 0.5542161159956867,
          "n_iter": 64
         },
         {
          "learner": "XGBoost",
          "loss": 0.5512968049210802,
          "n_iter": 65
         },
         {
          "learner": "XGBoost",
          "loss": 0.5480611436457683,
          "n_iter": 66
         },
         {
          "learner": "XGBoost",
          "loss": 0.5453287132708516,
          "n_iter": 67
         },
         {
          "learner": "XGBoost",
          "loss": 0.542688493127164,
          "n_iter": 68
         },
         {
          "learner": "XGBoost",
          "loss": 0.5398869496339919,
          "n_iter": 69
         },
         {
          "learner": "XGBoost",
          "loss": 0.5370666354819662,
          "n_iter": 70
         },
         {
          "learner": "XGBoost",
          "loss": 0.53436802431427,
          "n_iter": 71
         },
         {
          "learner": "XGBoost",
          "loss": 0.5319508573770118,
          "n_iter": 72
         },
         {
          "learner": "XGBoost",
          "loss": 0.5291563076620739,
          "n_iter": 73
         },
         {
          "learner": "XGBoost",
          "loss": 0.5266382956679962,
          "n_iter": 74
         },
         {
          "learner": "XGBoost",
          "loss": 0.524258222052682,
          "n_iter": 75
         },
         {
          "learner": "XGBoost",
          "loss": 0.5217006379435742,
          "n_iter": 76
         },
         {
          "learner": "XGBoost",
          "loss": 0.5190863245548097,
          "n_iter": 77
         },
         {
          "learner": "XGBoost",
          "loss": 0.5167166222704458,
          "n_iter": 78
         },
         {
          "learner": "XGBoost",
          "loss": 0.5145607916089001,
          "n_iter": 79
         },
         {
          "learner": "XGBoost",
          "loss": 0.5121313999021604,
          "n_iter": 80
         },
         {
          "learner": "XGBoost",
          "loss": 0.5098891671178142,
          "n_iter": 81
         },
         {
          "learner": "XGBoost",
          "loss": 0.5079899521179404,
          "n_iter": 82
         },
         {
          "learner": "XGBoost",
          "loss": 0.5058317231163044,
          "n_iter": 83
         },
         {
          "learner": "XGBoost",
          "loss": 0.5036938667558928,
          "n_iter": 84
         },
         {
          "learner": "XGBoost",
          "loss": 0.5014557243484565,
          "n_iter": 85
         },
         {
          "learner": "XGBoost",
          "loss": 0.4995751610472239,
          "n_iter": 86
         },
         {
          "learner": "XGBoost",
          "loss": 0.4977827788440199,
          "n_iter": 87
         },
         {
          "learner": "XGBoost",
          "loss": 0.4958136797873061,
          "n_iter": 88
         },
         {
          "learner": "XGBoost",
          "loss": 0.4939649321557645,
          "n_iter": 89
         },
         {
          "learner": "XGBoost",
          "loss": 0.4921602139267215,
          "n_iter": 90
         },
         {
          "learner": "XGBoost",
          "loss": 0.49016243746528587,
          "n_iter": 91
         },
         {
          "learner": "XGBoost",
          "loss": 0.4885773275176381,
          "n_iter": 92
         },
         {
          "learner": "XGBoost",
          "loss": 0.4869412735623152,
          "n_iter": 93
         },
         {
          "learner": "XGBoost",
          "loss": 0.48521487918283895,
          "n_iter": 94
         },
         {
          "learner": "XGBoost",
          "loss": 0.48356687912037954,
          "n_iter": 95
         },
         {
          "learner": "XGBoost",
          "loss": 0.48192037601864807,
          "n_iter": 96
         },
         {
          "learner": "XGBoost",
          "loss": 0.480324191619819,
          "n_iter": 97
         },
         {
          "learner": "XGBoost",
          "loss": 0.47882997312835957,
          "n_iter": 98
         },
         {
          "learner": "XGBoost",
          "loss": 0.4772736747183765,
          "n_iter": 99
         },
         {
          "learner": "XGBoost",
          "loss": 0.47584395536803675,
          "n_iter": 100
         },
         {
          "learner": "XGBoost",
          "loss": 0.4744136557036288,
          "n_iter": 101
         },
         {
          "learner": "XGBoost",
          "loss": 0.4729477170893028,
          "n_iter": 102
         },
         {
          "learner": "XGBoost",
          "loss": 0.4715914083008886,
          "n_iter": 103
         },
         {
          "learner": "XGBoost",
          "loss": 0.4702449945279293,
          "n_iter": 104
         },
         {
          "learner": "XGBoost",
          "loss": 0.468775924455718,
          "n_iter": 105
         },
         {
          "learner": "XGBoost",
          "loss": 0.46764461011746433,
          "n_iter": 106
         },
         {
          "learner": "XGBoost",
          "loss": 0.466222472517477,
          "n_iter": 107
         },
         {
          "learner": "XGBoost",
          "loss": 0.4650955557369276,
          "n_iter": 108
         },
         {
          "learner": "XGBoost",
          "loss": 0.46381019723539546,
          "n_iter": 109
         },
         {
          "learner": "XGBoost",
          "loss": 0.4625719950164895,
          "n_iter": 110
         },
         {
          "learner": "XGBoost",
          "loss": 0.461403520062535,
          "n_iter": 111
         },
         {
          "learner": "XGBoost",
          "loss": 0.4602732085500938,
          "n_iter": 112
         },
         {
          "learner": "XGBoost",
          "loss": 0.45879971688111915,
          "n_iter": 113
         },
         {
          "learner": "XGBoost",
          "loss": 0.45788248686297045,
          "n_iter": 114
         },
         {
          "learner": "XGBoost",
          "loss": 0.4568286767120084,
          "n_iter": 115
         },
         {
          "learner": "XGBoost",
          "loss": 0.45542828700362925,
          "n_iter": 116
         },
         {
          "learner": "XGBoost",
          "loss": 0.4544287333927216,
          "n_iter": 117
         },
         {
          "learner": "XGBoost",
          "loss": 0.45308066067148167,
          "n_iter": 118
         },
         {
          "learner": "XGBoost",
          "loss": 0.4521777701973304,
          "n_iter": 119
         },
         {
          "learner": "XGBoost",
          "loss": 0.4512504484364919,
          "n_iter": 120
         },
         {
          "learner": "XGBoost",
          "loss": 0.449976244875011,
          "n_iter": 121
         },
         {
          "learner": "XGBoost",
          "loss": 0.44922538510503257,
          "n_iter": 122
         },
         {
          "learner": "XGBoost",
          "loss": 0.4483962999454137,
          "n_iter": 123
         },
         {
          "learner": "XGBoost",
          "loss": 0.4471561619547012,
          "n_iter": 124
         },
         {
          "learner": "XGBoost",
          "loss": 0.4462889687627927,
          "n_iter": 125
         },
         {
          "learner": "XGBoost",
          "loss": 0.44561448779713264,
          "n_iter": 126
         },
         {
          "learner": "XGBoost",
          "loss": 0.4444600831054138,
          "n_iter": 127
         },
         {
          "learner": "XGBoost",
          "loss": 0.44377977660097606,
          "n_iter": 128
         },
         {
          "learner": "XGBoost",
          "loss": 0.443136299590093,
          "n_iter": 129
         },
         {
          "learner": "XGBoost",
          "loss": 0.4422238908462868,
          "n_iter": 130
         },
         {
          "learner": "XGBoost",
          "loss": 0.4414742750899616,
          "n_iter": 131
         },
         {
          "learner": "XGBoost",
          "loss": 0.4406031942041567,
          "n_iter": 132
         },
         {
          "learner": "XGBoost",
          "loss": 0.4398349992843733,
          "n_iter": 133
         },
         {
          "learner": "XGBoost",
          "loss": 0.43929230489857674,
          "n_iter": 134
         },
         {
          "learner": "XGBoost",
          "loss": 0.4384551734191491,
          "n_iter": 135
         },
         {
          "learner": "XGBoost",
          "loss": 0.43766567028310877,
          "n_iter": 136
         },
         {
          "learner": "XGBoost",
          "loss": 0.43688362412141574,
          "n_iter": 137
         },
         {
          "learner": "XGBoost",
          "loss": 0.4360565528454914,
          "n_iter": 138
         },
         {
          "learner": "XGBoost",
          "loss": 0.4352878437211668,
          "n_iter": 139
         },
         {
          "learner": "XGBoost",
          "loss": 0.43476746630545654,
          "n_iter": 140
         },
         {
          "learner": "XGBoost",
          "loss": 0.43410462265560573,
          "n_iter": 141
         },
         {
          "learner": "XGBoost",
          "loss": 0.43340477859183646,
          "n_iter": 142
         },
         {
          "learner": "XGBoost",
          "loss": 0.4329763921657986,
          "n_iter": 143
         },
         {
          "learner": "XGBoost",
          "loss": 0.4323076229587696,
          "n_iter": 144
         },
         {
          "learner": "XGBoost",
          "loss": 0.43184519425412055,
          "n_iter": 145
         },
         {
          "learner": "XGBoost",
          "loss": 0.43142898008418085,
          "n_iter": 146
         },
         {
          "learner": "XGBoost",
          "loss": 0.43056864513244547,
          "n_iter": 147
         },
         {
          "learner": "XGBoost",
          "loss": 0.43002454543217533,
          "n_iter": 148
         },
         {
          "learner": "XGBoost",
          "loss": 0.42969875941918956,
          "n_iter": 149
         },
         {
          "learner": "XGBoost",
          "loss": 0.42905128397095316,
          "n_iter": 150
         },
         {
          "learner": "XGBoost",
          "loss": 0.42873373702737266,
          "n_iter": 151
         },
         {
          "learner": "XGBoost",
          "loss": 0.42787753127068,
          "n_iter": 152
         },
         {
          "learner": "XGBoost",
          "loss": 0.4273908799849675,
          "n_iter": 153
         },
         {
          "learner": "XGBoost",
          "loss": 0.42708918656666733,
          "n_iter": 154
         },
         {
          "learner": "XGBoost",
          "loss": 0.42655520774976907,
          "n_iter": 155
         },
         {
          "learner": "XGBoost",
          "loss": 0.4260092085905004,
          "n_iter": 156
         },
         {
          "learner": "XGBoost",
          "loss": 0.4253932456852504,
          "n_iter": 157
         },
         {
          "learner": "XGBoost",
          "loss": 0.42491283640879124,
          "n_iter": 158
         },
         {
          "learner": "XGBoost",
          "loss": 0.4246360899931156,
          "n_iter": 159
         },
         {
          "learner": "XGBoost",
          "loss": 0.42421605812843516,
          "n_iter": 160
         },
         {
          "learner": "XGBoost",
          "loss": 0.4234652343246475,
          "n_iter": 161
         },
         {
          "learner": "XGBoost",
          "loss": 0.4231603567960366,
          "n_iter": 162
         },
         {
          "learner": "XGBoost",
          "loss": 0.42291688949940076,
          "n_iter": 163
         },
         {
          "learner": "XGBoost",
          "loss": 0.4224872161972073,
          "n_iter": 164
         },
         {
          "learner": "XGBoost",
          "loss": 0.42196863933936996,
          "n_iter": 165
         },
         {
          "learner": "XGBoost",
          "loss": 0.421693240241833,
          "n_iter": 166
         },
         {
          "learner": "XGBoost",
          "loss": 0.42140275242174235,
          "n_iter": 167
         },
         {
          "learner": "XGBoost",
          "loss": 0.42121639221714874,
          "n_iter": 168
         },
         {
          "learner": "XGBoost",
          "loss": 0.4207401471421811,
          "n_iter": 169
         },
         {
          "learner": "XGBoost",
          "loss": 0.4204932167851909,
          "n_iter": 170
         },
         {
          "learner": "XGBoost",
          "loss": 0.42031138798158113,
          "n_iter": 171
         },
         {
          "learner": "XGBoost",
          "loss": 0.42014062072172237,
          "n_iter": 172
         },
         {
          "learner": "XGBoost",
          "loss": 0.4195143423939014,
          "n_iter": 173
         },
         {
          "learner": "XGBoost",
          "loss": 0.41929231047774446,
          "n_iter": 174
         },
         {
          "learner": "XGBoost",
          "loss": 0.4191544997163535,
          "n_iter": 175
         },
         {
          "learner": "XGBoost",
          "loss": 0.41888723512639714,
          "n_iter": 176
         },
         {
          "learner": "XGBoost",
          "loss": 0.4186691486981596,
          "n_iter": 177
         },
         {
          "learner": "XGBoost",
          "loss": 0.4183584798876815,
          "n_iter": 178
         },
         {
          "learner": "XGBoost",
          "loss": 0.4181314834219211,
          "n_iter": 179
         },
         {
          "learner": "XGBoost",
          "loss": 0.4177515920847267,
          "n_iter": 180
         },
         {
          "learner": "XGBoost",
          "loss": 0.4176158146835057,
          "n_iter": 181
         },
         {
          "learner": "XGBoost",
          "loss": 0.417331229566704,
          "n_iter": 182
         },
         {
          "learner": "XGBoost",
          "loss": 0.41682784137528023,
          "n_iter": 183
         },
         {
          "learner": "XGBoost",
          "loss": 0.41666443404659215,
          "n_iter": 184
         },
         {
          "learner": "XGBoost",
          "loss": 0.41656611504191515,
          "n_iter": 185
         },
         {
          "learner": "XGBoost",
          "loss": 0.4159586618318585,
          "n_iter": 186
         },
         {
          "learner": "XGBoost",
          "loss": 0.4157727096511036,
          "n_iter": 187
         },
         {
          "learner": "XGBoost",
          "loss": 0.4151842580760434,
          "n_iter": 188
         },
         {
          "learner": "XGBoost",
          "loss": 0.4149383064936017,
          "n_iter": 189
         },
         {
          "learner": "XGBoost",
          "loss": 0.41470061596482233,
          "n_iter": 190
         },
         {
          "learner": "XGBoost",
          "loss": 0.4143707693663281,
          "n_iter": 191
         },
         {
          "learner": "XGBoost",
          "loss": 0.413893867601009,
          "n_iter": 192
         },
         {
          "learner": "XGBoost",
          "loss": 0.41357847902108036,
          "n_iter": 193
         },
         {
          "learner": "XGBoost",
          "loss": 0.4130332560890095,
          "n_iter": 194
         },
         {
          "learner": "XGBoost",
          "loss": 0.41296895793686467,
          "n_iter": 195
         },
         {
          "learner": "XGBoost",
          "loss": 0.4126709609876659,
          "n_iter": 196
         },
         {
          "learner": "XGBoost",
          "loss": 0.4124488801925408,
          "n_iter": 197
         },
         {
          "learner": "XGBoost",
          "loss": 0.412163662569392,
          "n_iter": 198
         },
         {
          "learner": "XGBoost",
          "loss": 0.41199011086629844,
          "n_iter": 199
         },
         {
          "learner": "XGBoost",
          "loss": 0.41186513340349074,
          "n_iter": 200
         },
         {
          "learner": "XGBoost",
          "loss": 0.41170945516602886,
          "n_iter": 201
         },
         {
          "learner": "XGBoost",
          "loss": 0.4114767196700104,
          "n_iter": 202
         },
         {
          "learner": "XGBoost",
          "loss": 0.4112300064675816,
          "n_iter": 203
         },
         {
          "learner": "XGBoost",
          "loss": 0.41104676385068445,
          "n_iter": 204
         },
         {
          "learner": "XGBoost",
          "loss": 0.41054532855289055,
          "n_iter": 205
         },
         {
          "learner": "XGBoost",
          "loss": 0.4103136518422795,
          "n_iter": 206
         },
         {
          "learner": "XGBoost",
          "loss": 0.41027774714905424,
          "n_iter": 207
         },
         {
          "learner": "XGBoost",
          "loss": 0.4101082013980698,
          "n_iter": 208
         },
         {
          "learner": "XGBoost",
          "loss": 0.4097750262152973,
          "n_iter": 209
         },
         {
          "learner": "XGBoost",
          "loss": 0.4095332602953323,
          "n_iter": 210
         },
         {
          "learner": "XGBoost",
          "loss": 0.40941750900114904,
          "n_iter": 211
         },
         {
          "learner": "XGBoost",
          "loss": 0.4092752371593531,
          "n_iter": 212
         },
         {
          "learner": "XGBoost",
          "loss": 0.40906624563393296,
          "n_iter": 213
         },
         {
          "learner": "XGBoost",
          "loss": 0.4088623155134337,
          "n_iter": 214
         },
         {
          "learner": "XGBoost",
          "loss": 0.4086828817351072,
          "n_iter": 215
         },
         {
          "learner": "XGBoost",
          "loss": 0.4086051378470269,
          "n_iter": 216
         },
         {
          "learner": "XGBoost",
          "loss": 0.4085423834651887,
          "n_iter": 217
         },
         {
          "learner": "XGBoost",
          "loss": 0.40842091811153997,
          "n_iter": 218
         },
         {
          "learner": "XGBoost",
          "loss": 0.4082342116444957,
          "n_iter": 219
         },
         {
          "learner": "XGBoost",
          "loss": 0.40808372796541675,
          "n_iter": 220
         },
         {
          "learner": "XGBoost",
          "loss": 0.4079259963548978,
          "n_iter": 221
         },
         {
          "learner": "XGBoost",
          "loss": 0.40773428214762414,
          "n_iter": 222
         },
         {
          "learner": "XGBoost",
          "loss": 0.40767925069250316,
          "n_iter": 223
         },
         {
          "learner": "XGBoost",
          "loss": 0.4072855216778789,
          "n_iter": 224
         },
         {
          "learner": "XGBoost",
          "loss": 0.40710430706792655,
          "n_iter": 225
         },
         {
          "learner": "XGBoost",
          "loss": 0.4069650902948903,
          "n_iter": 226
         },
         {
          "learner": "XGBoost",
          "loss": 0.4067911554615089,
          "n_iter": 227
         },
         {
          "learner": "XGBoost",
          "loss": 0.40666195851198955,
          "n_iter": 228
         },
         {
          "learner": "XGBoost",
          "loss": 0.4063141467876901,
          "n_iter": 229
         },
         {
          "learner": "XGBoost",
          "loss": 0.4060459035759396,
          "n_iter": 230
         },
         {
          "learner": "XGBoost",
          "loss": 0.4059006383951928,
          "n_iter": 231
         },
         {
          "learner": "XGBoost",
          "loss": 0.4055422496539302,
          "n_iter": 232
         },
         {
          "learner": "XGBoost",
          "loss": 0.40538399583098955,
          "n_iter": 233
         },
         {
          "learner": "XGBoost",
          "loss": 0.40549472804642234,
          "n_iter": 234
         },
         {
          "learner": "XGBoost",
          "loss": 0.4051476091538153,
          "n_iter": 235
         },
         {
          "learner": "XGBoost",
          "loss": 0.40507587152821567,
          "n_iter": 236
         },
         {
          "learner": "XGBoost",
          "loss": 0.40519921234306955,
          "n_iter": 237
         },
         {
          "learner": "XGBoost",
          "loss": 0.4051068304823773,
          "n_iter": 238
         },
         {
          "learner": "XGBoost",
          "loss": 0.40479318803291753,
          "n_iter": 239
         },
         {
          "learner": "XGBoost",
          "loss": 0.4045071567670677,
          "n_iter": 240
         },
         {
          "learner": "XGBoost",
          "loss": 0.4046873504973827,
          "n_iter": 241
         },
         {
          "learner": "XGBoost",
          "loss": 0.40463512123321926,
          "n_iter": 242
         },
         {
          "learner": "XGBoost",
          "loss": 0.40458983867297166,
          "n_iter": 243
         },
         {
          "learner": "XGBoost",
          "loss": 0.4042917187021247,
          "n_iter": 244
         },
         {
          "learner": "XGBoost",
          "loss": 0.40425465587415405,
          "n_iter": 245
         },
         {
          "learner": "XGBoost",
          "loss": 0.40387153200171455,
          "n_iter": 246
         },
         {
          "learner": "XGBoost",
          "loss": 0.4040716293306047,
          "n_iter": 247
         },
         {
          "learner": "XGBoost",
          "loss": 0.4040974203711084,
          "n_iter": 248
         },
         {
          "learner": "XGBoost",
          "loss": 0.40425719784950603,
          "n_iter": 249
         },
         {
          "learner": "XGBoost",
          "loss": 0.4038912035488956,
          "n_iter": 250
         },
         {
          "learner": "XGBoost",
          "loss": 0.4036090239721454,
          "n_iter": 251
         },
         {
          "learner": "XGBoost",
          "loss": 0.4035965826384615,
          "n_iter": 252
         },
         {
          "learner": "XGBoost",
          "loss": 0.4035955141974996,
          "n_iter": 253
         },
         {
          "learner": "XGBoost",
          "loss": 0.4036325014910585,
          "n_iter": 254
         },
         {
          "learner": "XGBoost",
          "loss": 0.40338443901287285,
          "n_iter": 255
         },
         {
          "learner": "XGBoost",
          "loss": 0.4036058617655111,
          "n_iter": 256
         },
         {
          "learner": "XGBoost",
          "loss": 0.4036052139318841,
          "n_iter": 257
         },
         {
          "learner": "XGBoost",
          "loss": 0.4036039582820398,
          "n_iter": 258
         },
         {
          "learner": "XGBoost",
          "loss": 0.4032642790331661,
          "n_iter": 259
         },
         {
          "learner": "XGBoost",
          "loss": 0.40296267577944134,
          "n_iter": 260
         },
         {
          "learner": "XGBoost",
          "loss": 0.40302166987609417,
          "n_iter": 261
         },
         {
          "learner": "XGBoost",
          "loss": 0.40269341477043336,
          "n_iter": 262
         },
         {
          "learner": "XGBoost",
          "loss": 0.4029299061762584,
          "n_iter": 263
         },
         {
          "learner": "XGBoost",
          "loss": 0.40294568478964105,
          "n_iter": 264
         },
         {
          "learner": "XGBoost",
          "loss": 0.40319038835983195,
          "n_iter": 265
         },
         {
          "learner": "XGBoost",
          "loss": 0.40295174650492543,
          "n_iter": 266
         },
         {
          "learner": "XGBoost",
          "loss": 0.4027493525435722,
          "n_iter": 267
         },
         {
          "learner": "XGBoost",
          "loss": 0.40272244840020294,
          "n_iter": 268
         },
         {
          "learner": "XGBoost",
          "loss": 0.40292595447962193,
          "n_iter": 269
         },
         {
          "learner": "XGBoost",
          "loss": 0.4026198103509713,
          "n_iter": 270
         },
         {
          "learner": "XGBoost",
          "loss": 0.40245128876768965,
          "n_iter": 271
         },
         {
          "learner": "XGBoost",
          "loss": 0.4024848330633501,
          "n_iter": 272
         },
         {
          "learner": "XGBoost",
          "loss": 0.40251256313811656,
          "n_iter": 273
         },
         {
          "learner": "XGBoost",
          "loss": 0.4023005382674063,
          "n_iter": 274
         },
         {
          "learner": "XGBoost",
          "loss": 0.40209249434771005,
          "n_iter": 275
         },
         {
          "learner": "XGBoost",
          "loss": 0.4023558515896248,
          "n_iter": 276
         },
         {
          "learner": "XGBoost",
          "loss": 0.40215163588527175,
          "n_iter": 277
         },
         {
          "learner": "XGBoost",
          "loss": 0.40218713678932566,
          "n_iter": 278
         },
         {
          "learner": "XGBoost",
          "loss": 0.402191913394428,
          "n_iter": 279
         },
         {
          "learner": "XGBoost",
          "loss": 0.4024620950131036,
          "n_iter": 280
         },
         {
          "learner": "XGBoost",
          "loss": 0.4021969463952393,
          "n_iter": 281
         },
         {
          "learner": "XGBoost",
          "loss": 0.4022324737818369,
          "n_iter": 282
         },
         {
          "learner": "XGBoost",
          "loss": 0.40229225255149814,
          "n_iter": 283
         },
         {
          "learner": "XGBoost",
          "loss": 0.40251964111820215,
          "n_iter": 284
         },
         {
          "learner": "XGBoost",
          "loss": 0.40222080833284685,
          "n_iter": 285
         },
         {
          "learner": "XGBoost",
          "loss": 0.4021039568372229,
          "n_iter": 286
         },
         {
          "learner": "XGBoost",
          "loss": 0.4021448514957363,
          "n_iter": 287
         },
         {
          "learner": "XGBoost",
          "loss": 0.40187937675402047,
          "n_iter": 288
         },
         {
          "learner": "XGBoost",
          "loss": 0.4019235254627258,
          "n_iter": 289
         },
         {
          "learner": "XGBoost",
          "loss": 0.40162186095994,
          "n_iter": 290
         },
         {
          "learner": "XGBoost",
          "loss": 0.40161139252336847,
          "n_iter": 291
         },
         {
          "learner": "XGBoost",
          "loss": 0.40189847390889255,
          "n_iter": 292
         },
         {
          "learner": "XGBoost",
          "loss": 0.4016786813849313,
          "n_iter": 293
         },
         {
          "learner": "XGBoost",
          "loss": 0.4016949910646472,
          "n_iter": 294
         },
         {
          "learner": "XGBoost",
          "loss": 0.4014250517553443,
          "n_iter": 295
         },
         {
          "learner": "XGBoost",
          "loss": 0.4013890975702303,
          "n_iter": 296
         },
         {
          "learner": "XGBoost",
          "loss": 0.40143932742444605,
          "n_iter": 297
         },
         {
          "learner": "XGBoost",
          "loss": 0.40126477379330683,
          "n_iter": 298
         },
         {
          "learner": "XGBoost",
          "loss": 0.4015836231262031,
          "n_iter": 299
         },
         {
          "learner": "XGBoost",
          "loss": 0.40132848994728043,
          "n_iter": 300
         },
         {
          "learner": "XGBoost",
          "loss": 0.401650881426362,
          "n_iter": 301
         },
         {
          "learner": "XGBoost",
          "loss": 0.4014557968515841,
          "n_iter": 302
         },
         {
          "learner": "XGBoost",
          "loss": 0.40118611983077257,
          "n_iter": 303
         },
         {
          "learner": "XGBoost",
          "loss": 0.4012113969573091,
          "n_iter": 304
         },
         {
          "learner": "XGBoost",
          "loss": 0.40121607306561846,
          "n_iter": 305
         },
         {
          "learner": "XGBoost",
          "loss": 0.4015265261566728,
          "n_iter": 306
         },
         {
          "learner": "XGBoost",
          "loss": 0.40133870160020085,
          "n_iter": 307
         },
         {
          "learner": "XGBoost",
          "loss": 0.4013674864397453,
          "n_iter": 308
         },
         {
          "learner": "XGBoost",
          "loss": 0.401185902518711,
          "n_iter": 309
         },
         {
          "learner": "XGBoost",
          "loss": 0.40151524483441486,
          "n_iter": 310
         },
         {
          "learner": "XGBoost",
          "loss": 0.40125792069199356,
          "n_iter": 311
         },
         {
          "learner": "XGBoost",
          "loss": 0.4013213811703633,
          "n_iter": 312
         },
         {
          "learner": "XGBoost",
          "loss": 0.401240232180521,
          "n_iter": 313
         },
         {
          "learner": "XGBoost",
          "loss": 0.401263072870899,
          "n_iter": 314
         },
         {
          "learner": "XGBoost",
          "loss": 0.40127796050159537,
          "n_iter": 315
         },
         {
          "learner": "XGBoost",
          "loss": 0.4016114059755029,
          "n_iter": 316
         },
         {
          "learner": "XGBoost",
          "loss": 0.4014723911992878,
          "n_iter": 317
         },
         {
          "learner": "XGBoost",
          "loss": 0.4017929461466989,
          "n_iter": 318
         },
         {
          "learner": "XGBoost",
          "loss": 0.40182805421209145,
          "n_iter": 319
         },
         {
          "learner": "XGBoost",
          "loss": 0.4016588867469036,
          "n_iter": 320
         },
         {
          "learner": "XGBoost",
          "loss": 0.40162472627356344,
          "n_iter": 321
         },
         {
          "learner": "XGBoost",
          "loss": 0.4019741734779431,
          "n_iter": 322
         },
         {
          "learner": "XGBoost",
          "loss": 0.4017306734217736,
          "n_iter": 323
         },
         {
          "learner": "XGBoost",
          "loss": 0.40159782810378886,
          "n_iter": 324
         },
         {
          "learner": "XGBoost",
          "loss": 0.40160675040033444,
          "n_iter": 325
         },
         {
          "learner": "XGBoost",
          "loss": 0.4016786490813809,
          "n_iter": 326
         },
         {
          "learner": "XGBoost",
          "loss": 0.40192178939118156,
          "n_iter": 327
         },
         {
          "learner": "XGBoost",
          "loss": 0.4019338898816476,
          "n_iter": 328
         },
         {
          "learner": "XGBoost",
          "loss": 0.40190272294155094,
          "n_iter": 329
         },
         {
          "learner": "XGBoost",
          "loss": 0.40214958230722003,
          "n_iter": 330
         },
         {
          "learner": "XGBoost",
          "loss": 0.4024931704548624,
          "n_iter": 331
         },
         {
          "learner": "XGBoost",
          "loss": 0.402363853412379,
          "n_iter": 332
         },
         {
          "learner": "XGBoost",
          "loss": 0.4023644310918907,
          "n_iter": 333
         },
         {
          "learner": "XGBoost",
          "loss": 0.40229279208796953,
          "n_iter": 334
         },
         {
          "learner": "XGBoost",
          "loss": 0.4025451043768254,
          "n_iter": 335
         },
         {
          "learner": "XGBoost",
          "loss": 0.40241231180165826,
          "n_iter": 336
         },
         {
          "learner": "XGBoost",
          "loss": 0.4023844146271992,
          "n_iter": 337
         },
         {
          "learner": "XGBoost",
          "loss": 0.40238583729648814,
          "n_iter": 338
         },
         {
          "learner": "XGBoost",
          "loss": 0.4023940890884268,
          "n_iter": 339
         },
         {
          "learner": "XGBoost",
          "loss": 0.4024228666895995,
          "n_iter": 340
         },
         {
          "learner": "XGBoost",
          "loss": 0.40227492786625096,
          "n_iter": 341
         },
         {
          "learner": "XGBoost",
          "loss": 0.4023561247967632,
          "n_iter": 342
         },
         {
          "learner": "XGBoost",
          "loss": 0.4023615376534974,
          "n_iter": 343
         },
         {
          "learner": "XGBoost",
          "loss": 0.40239435157124503,
          "n_iter": 344
         },
         {
          "learner": "XGBoost",
          "loss": 0.4022764058287106,
          "n_iter": 345
         },
         {
          "learner": "XGBoost",
          "loss": 0.40232094578534594,
          "n_iter": 346
         },
         {
          "learner": "XGBoost",
          "loss": 0.40218132824208636,
          "n_iter": 347
         },
         {
          "learner": "XGBoost",
          "loss": 0.4022662335428657,
          "n_iter": 348
         },
         {
          "learner": "XGBoost",
          "loss": 0.40226777788079543,
          "n_iter": 349
         },
         {
          "learner": "XGBoost",
          "loss": 0.40215619398543384,
          "n_iter": 350
         },
         {
          "learner": "XGBoost",
          "loss": 0.40216617560987333,
          "n_iter": 351
         },
         {
          "learner": "XGBoost",
          "loss": 0.40220678679410043,
          "n_iter": 352
         },
         {
          "learner": "XGBoost",
          "loss": 0.4022896203838482,
          "n_iter": 353
         },
         {
          "learner": "XGBoost",
          "loss": 0.40237791997503647,
          "n_iter": 354
         },
         {
          "learner": "XGBoost",
          "loss": 0.4023910499141475,
          "n_iter": 355
         },
         {
          "learner": "XGBoost",
          "loss": 0.4023987301832277,
          "n_iter": 356
         },
         {
          "learner": "XGBoost",
          "loss": 0.4024792088440083,
          "n_iter": 357
         },
         {
          "learner": "XGBoost",
          "loss": 0.4025700927209288,
          "n_iter": 358
         },
         {
          "learner": "XGBoost",
          "loss": 0.40265147263816803,
          "n_iter": 359
         },
         {
          "learner": "XGBoost",
          "loss": 0.4026678826174379,
          "n_iter": 360
         },
         {
          "learner": "XGBoost",
          "loss": 0.40275523035976335,
          "n_iter": 361
         },
         {
          "learner": "XGBoost",
          "loss": 0.4026957170208547,
          "n_iter": 362
         },
         {
          "learner": "XGBoost",
          "loss": 0.4027143529169438,
          "n_iter": 363
         },
         {
          "learner": "XGBoost",
          "loss": 0.4028074407737972,
          "n_iter": 364
         },
         {
          "learner": "XGBoost",
          "loss": 0.4026547353154889,
          "n_iter": 365
         },
         {
          "learner": "XGBoost",
          "loss": 0.4027070561915598,
          "n_iter": 366
         },
         {
          "learner": "XGBoost",
          "loss": 0.402791037571666,
          "n_iter": 367
         },
         {
          "learner": "XGBoost",
          "loss": 0.4028864187069796,
          "n_iter": 368
         },
         {
          "learner": "XGBoost",
          "loss": 0.40293195117535757,
          "n_iter": 369
         },
         {
          "learner": "XGBoost",
          "loss": 0.403016831462399,
          "n_iter": 370
         },
         {
          "learner": "XGBoost",
          "loss": 0.40299548694787857,
          "n_iter": 371
         },
         {
          "learner": "XGBoost",
          "loss": 0.4030181650444034,
          "n_iter": 372
         },
         {
          "learner": "XGBoost",
          "loss": 0.40307095765963913,
          "n_iter": 373
         },
         {
          "learner": "XGBoost",
          "loss": 0.4030722582002677,
          "n_iter": 374
         },
         {
          "learner": "XGBoost",
          "loss": 0.4029292087801179,
          "n_iter": 375
         },
         {
          "learner": "XGBoost",
          "loss": 0.4030266961952038,
          "n_iter": 376
         },
         {
          "learner": "XGBoost",
          "loss": 0.4030742971015497,
          "n_iter": 377
         },
         {
          "learner": "XGBoost",
          "loss": 0.4030519957401776,
          "n_iter": 378
         },
         {
          "learner": "XGBoost",
          "loss": 0.4031513945138908,
          "n_iter": 379
         },
         {
          "learner": "XGBoost",
          "loss": 0.4032389915290504,
          "n_iter": 380
         },
         {
          "learner": "XGBoost",
          "loss": 0.40329401232416245,
          "n_iter": 381
         },
         {
          "learner": "XGBoost",
          "loss": 0.40327503707530127,
          "n_iter": 382
         },
         {
          "learner": "XGBoost",
          "loss": 0.40330301406943525,
          "n_iter": 383
         },
         {
          "learner": "XGBoost",
          "loss": 0.4034504010696815,
          "n_iter": 384
         },
         {
          "learner": "XGBoost",
          "loss": 0.4035094928156657,
          "n_iter": 385
         },
         {
          "learner": "XGBoost",
          "loss": 0.4034311748880067,
          "n_iter": 386
         },
         {
          "learner": "XGBoost",
          "loss": 0.4034945151784409,
          "n_iter": 387
         },
         {
          "learner": "XGBoost",
          "loss": 0.40347751890928657,
          "n_iter": 388
         },
         {
          "learner": "XGBoost",
          "loss": 0.4034593258665921,
          "n_iter": 389
         },
         {
          "learner": "XGBoost",
          "loss": 0.4034818380161536,
          "n_iter": 390
         },
         {
          "learner": "XGBoost",
          "loss": 0.40337754735774956,
          "n_iter": 391
         },
         {
          "learner": "XGBoost",
          "loss": 0.4034287554641246,
          "n_iter": 392
         },
         {
          "learner": "XGBoost",
          "loss": 0.4034290894695449,
          "n_iter": 393
         },
         {
          "learner": "XGBoost",
          "loss": 0.4035196388873345,
          "n_iter": 394
         },
         {
          "learner": "XGBoost",
          "loss": 0.40361570872246616,
          "n_iter": 395
         },
         {
          "learner": "XGBoost",
          "loss": 0.4035993784504186,
          "n_iter": 396
         },
         {
          "learner": "XGBoost",
          "loss": 0.40358652608692563,
          "n_iter": 397
         },
         {
          "learner": "XGBoost",
          "loss": 0.4036184674514905,
          "n_iter": 398
         },
         {
          "learner": "XGBoost",
          "loss": 0.4037178245692219,
          "n_iter": 399
         },
         {
          "learner": "XGBoost",
          "loss": 0.40380056200462106,
          "n_iter": 400
         },
         {
          "learner": "XGBoost",
          "loss": 0.40383480586335124,
          "n_iter": 401
         },
         {
          "learner": "XGBoost",
          "loss": 0.4037687510395515,
          "n_iter": 402
         },
         {
          "learner": "XGBoost",
          "loss": 0.4037606649444881,
          "n_iter": 403
         },
         {
          "learner": "XGBoost",
          "loss": 0.403820211909144,
          "n_iter": 404
         },
         {
          "learner": "XGBoost",
          "loss": 0.40371483238240047,
          "n_iter": 405
         },
         {
          "learner": "XGBoost",
          "loss": 0.40380815468428866,
          "n_iter": 406
         },
         {
          "learner": "XGBoost",
          "loss": 0.40378480532106864,
          "n_iter": 407
         },
         {
          "learner": "XGBoost",
          "loss": 0.4037043223737985,
          "n_iter": 408
         },
         {
          "learner": "XGBoost",
          "loss": 0.4038505512376605,
          "n_iter": 409
         },
         {
          "learner": "XGBoost",
          "loss": 0.40378885362787814,
          "n_iter": 410
         },
         {
          "learner": "XGBoost",
          "loss": 0.40381383606645976,
          "n_iter": 411
         },
         {
          "learner": "XGBoost",
          "loss": 0.40373558840413387,
          "n_iter": 412
         },
         {
          "learner": "XGBoost",
          "loss": 0.403724342271356,
          "n_iter": 413
         },
         {
          "learner": "XGBoost",
          "loss": 0.4036647693780528,
          "n_iter": 414
         },
         {
          "learner": "XGBoost",
          "loss": 0.4038385014098996,
          "n_iter": 415
         },
         {
          "learner": "XGBoost",
          "loss": 0.4038316902223208,
          "n_iter": 416
         },
         {
          "learner": "XGBoost",
          "loss": 0.4038825985571246,
          "n_iter": 417
         },
         {
          "learner": "XGBoost",
          "loss": 0.4038253681733285,
          "n_iter": 418
         },
         {
          "learner": "XGBoost",
          "loss": 0.4039727185188329,
          "n_iter": 419
         },
         {
          "learner": "XGBoost",
          "loss": 0.4040045060201821,
          "n_iter": 420
         },
         {
          "learner": "XGBoost",
          "loss": 0.404026120128016,
          "n_iter": 421
         },
         {
          "learner": "XGBoost",
          "loss": 0.40382470474480797,
          "n_iter": 422
         },
         {
          "learner": "XGBoost",
          "loss": 0.40381329731209475,
          "n_iter": 423
         },
         {
          "learner": "XGBoost",
          "loss": 0.40375893257403783,
          "n_iter": 424
         },
         {
          "learner": "XGBoost",
          "loss": 0.40368497073767434,
          "n_iter": 425
         },
         {
          "learner": "XGBoost",
          "loss": 0.4037075470114349,
          "n_iter": 426
         },
         {
          "learner": "XGBoost",
          "loss": 0.4036906987369891,
          "n_iter": 427
         },
         {
          "learner": "XGBoost",
          "loss": 0.4036381346113508,
          "n_iter": 428
         },
         {
          "learner": "XGBoost",
          "loss": 0.40371924446893886,
          "n_iter": 429
         },
         {
          "learner": "XGBoost",
          "loss": 0.40367405603921497,
          "n_iter": 430
         },
         {
          "learner": "XGBoost",
          "loss": 0.40366514053087355,
          "n_iter": 431
         },
         {
          "learner": "XGBoost",
          "loss": 0.4038627888168088,
          "n_iter": 432
         },
         {
          "learner": "XGBoost",
          "loss": 0.4036937473414482,
          "n_iter": 433
         },
         {
          "learner": "XGBoost",
          "loss": 0.4037172834780572,
          "n_iter": 434
         },
         {
          "learner": "XGBoost",
          "loss": 0.40368019502399677,
          "n_iter": 435
         },
         {
          "learner": "XGBoost",
          "loss": 0.4036312755535863,
          "n_iter": 436
         },
         {
          "learner": "XGBoost",
          "loss": 0.4036409129083055,
          "n_iter": 437
         },
         {
          "learner": "XGBoost",
          "loss": 0.40366565260321685,
          "n_iter": 438
         },
         {
          "learner": "XGBoost",
          "loss": 0.40350052753781995,
          "n_iter": 439
         },
         {
          "learner": "XGBoost",
          "loss": 0.403512891582915,
          "n_iter": 440
         },
         {
          "learner": "XGBoost",
          "loss": 0.4034845776681,
          "n_iter": 441
         },
         {
          "learner": "XGBoost",
          "loss": 0.40343797847398954,
          "n_iter": 442
         },
         {
          "learner": "XGBoost",
          "loss": 0.4036371384935559,
          "n_iter": 443
         },
         {
          "learner": "XGBoost",
          "loss": 0.40366271992686587,
          "n_iter": 444
         },
         {
          "learner": "XGBoost",
          "loss": 0.40358032329411936,
          "n_iter": 445
         },
         {
          "learner": "XGBoost",
          "loss": 0.4035602034059814,
          "n_iter": 446
         },
         {
          "learner": "XGBoost",
          "loss": 0.4035870521682693,
          "n_iter": 447
         },
         {
          "learner": "XGBoost",
          "loss": 0.4034044637928851,
          "n_iter": 448
         },
         {
          "learner": "XGBoost",
          "loss": 0.403547452477265,
          "n_iter": 449
         },
         {
          "learner": "XGBoost",
          "loss": 0.4035036222472536,
          "n_iter": 450
         },
         {
          "learner": "XGBoost",
          "loss": 0.4035311061593703,
          "n_iter": 451
         },
         {
          "learner": "XGBoost",
          "loss": 0.40351945780239956,
          "n_iter": 452
         },
         {
          "learner": "XGBoost",
          "loss": 0.4035310609491824,
          "n_iter": 453
         },
         {
          "learner": "XGBoost",
          "loss": 0.40337225622868317,
          "n_iter": 454
         },
         {
          "learner": "XGBoost",
          "loss": 0.4033779583299954,
          "n_iter": 455
         },
         {
          "learner": "XGBoost",
          "loss": 0.40335890140321257,
          "n_iter": 456
         },
         {
          "learner": "XGBoost",
          "loss": 0.4032749029946434,
          "n_iter": 457
         },
         {
          "learner": "XGBoost",
          "loss": 0.4033031750049363,
          "n_iter": 458
         },
         {
          "learner": "XGBoost",
          "loss": 0.40329963996287094,
          "n_iter": 459
         },
         {
          "learner": "XGBoost",
          "loss": 0.40336682075613595,
          "n_iter": 460
         },
         {
          "learner": "XGBoost",
          "loss": 0.403210654843873,
          "n_iter": 461
         },
         {
          "learner": "XGBoost",
          "loss": 0.4032277318145551,
          "n_iter": 462
         },
         {
          "learner": "XGBoost",
          "loss": 0.4032571312462755,
          "n_iter": 463
         },
         {
          "learner": "XGBoost",
          "loss": 0.4032182417230375,
          "n_iter": 464
         },
         {
          "learner": "XGBoost",
          "loss": 0.40320392152128975,
          "n_iter": 465
         },
         {
          "learner": "XGBoost",
          "loss": 0.4031722711244563,
          "n_iter": 466
         },
         {
          "learner": "XGBoost",
          "loss": 0.4033208582988113,
          "n_iter": 467
         },
         {
          "learner": "XGBoost",
          "loss": 0.40330377549813884,
          "n_iter": 468
         },
         {
          "learner": "XGBoost",
          "loss": 0.40330560675426114,
          "n_iter": 469
         },
         {
          "learner": "XGBoost",
          "loss": 0.4033748388184833,
          "n_iter": 470
         },
         {
          "learner": "XGBoost",
          "loss": 0.4035257985458868,
          "n_iter": 471
         },
         {
          "learner": "XGBoost",
          "loss": 0.4034501605308824,
          "n_iter": 472
         },
         {
          "learner": "XGBoost",
          "loss": 0.4034377732953218,
          "n_iter": 473
         },
         {
          "learner": "XGBoost",
          "loss": 0.40342475344958834,
          "n_iter": 474
         },
         {
          "learner": "XGBoost",
          "loss": 0.4034545667114069,
          "n_iter": 475
         },
         {
          "learner": "XGBoost",
          "loss": 0.4034621261395018,
          "n_iter": 476
         },
         {
          "learner": "XGBoost",
          "loss": 0.4034010844349229,
          "n_iter": 477
         },
         {
          "learner": "XGBoost",
          "loss": 0.4034792155008469,
          "n_iter": 478
         },
         {
          "learner": "XGBoost",
          "loss": 0.4034079295326691,
          "n_iter": 479
         },
         {
          "learner": "XGBoost",
          "loss": 0.40341956738235807,
          "n_iter": 480
         },
         {
          "learner": "XGBoost",
          "loss": 0.4034128336625235,
          "n_iter": 481
         },
         {
          "learner": "XGBoost",
          "loss": 0.4033889577409203,
          "n_iter": 482
         },
         {
          "learner": "XGBoost",
          "loss": 0.40341934094502746,
          "n_iter": 483
         },
         {
          "learner": "XGBoost",
          "loss": 0.40342848076596,
          "n_iter": 484
         },
         {
          "learner": "XGBoost",
          "loss": 0.4034998913119021,
          "n_iter": 485
         },
         {
          "learner": "XGBoost",
          "loss": 0.4035931332554331,
          "n_iter": 486
         },
         {
          "learner": "XGBoost",
          "loss": 0.4036098061892578,
          "n_iter": 487
         },
         {
          "learner": "XGBoost",
          "loss": 0.4035323271168496,
          "n_iter": 488
         },
         {
          "learner": "XGBoost",
          "loss": 0.40355074543574126,
          "n_iter": 489
         },
         {
          "learner": "XGBoost",
          "loss": 0.4035092712465466,
          "n_iter": 490
         },
         {
          "learner": "XGBoost",
          "loss": 0.40347993248934827,
          "n_iter": 491
         },
         {
          "learner": "XGBoost",
          "loss": 0.4034924012223001,
          "n_iter": 492
         },
         {
          "learner": "XGBoost",
          "loss": 0.4034303345759597,
          "n_iter": 493
         },
         {
          "learner": "XGBoost",
          "loss": 0.40348237143182025,
          "n_iter": 494
         },
         {
          "learner": "XGBoost",
          "loss": 0.40349606279040323,
          "n_iter": 495
         },
         {
          "learner": "XGBoost",
          "loss": 0.4035265406995272,
          "n_iter": 496
         },
         {
          "learner": "XGBoost",
          "loss": 0.4034554987156227,
          "n_iter": 497
         },
         {
          "learner": "XGBoost",
          "loss": 0.40346634889201155,
          "n_iter": 498
         },
         {
          "learner": "XGBoost",
          "loss": 0.40346168637323776,
          "n_iter": 499
         },
         {
          "learner": "XGBoost",
          "loss": 0.4035143536735371,
          "n_iter": 500
         },
         {
          "learner": "XGBoost",
          "loss": 0.4034789654023642,
          "n_iter": 501
         },
         {
          "learner": "XGBoost",
          "loss": 0.4034211839183518,
          "n_iter": 502
         },
         {
          "learner": "XGBoost",
          "loss": 0.4034401921375158,
          "n_iter": 503
         },
         {
          "learner": "XGBoost",
          "loss": 0.4034017885910768,
          "n_iter": 504
         },
         {
          "learner": "XGBoost",
          "loss": 0.4035845413743235,
          "n_iter": 505
         },
         {
          "learner": "XGBoost",
          "loss": 0.4035296137763977,
          "n_iter": 506
         },
         {
          "learner": "XGBoost",
          "loss": 0.4035428857155104,
          "n_iter": 507
         },
         {
          "learner": "XGBoost",
          "loss": 0.40356100390073274,
          "n_iter": 508
         },
         {
          "learner": "XGBoost",
          "loss": 0.4035916339148857,
          "n_iter": 509
         },
         {
          "learner": "XGBoost",
          "loss": 0.4035391308188438,
          "n_iter": 510
         },
         {
          "learner": "XGBoost",
          "loss": 0.4034763867792547,
          "n_iter": 511
         },
         {
          "learner": "XGBoost",
          "loss": 0.4034902104704388,
          "n_iter": 512
         },
         {
          "learner": "XGBoost",
          "loss": 0.4035215785646904,
          "n_iter": 513
         },
         {
          "learner": "XGBoost",
          "loss": 0.4035279224545966,
          "n_iter": 514
         },
         {
          "learner": "XGBoost",
          "loss": 0.4034506725990659,
          "n_iter": 515
         },
         {
          "learner": "XGBoost",
          "loss": 0.40336095122508603,
          "n_iter": 516
         },
         {
          "learner": "XGBoost",
          "loss": 0.4034348942016775,
          "n_iter": 517
         },
         {
          "learner": "XGBoost",
          "loss": 0.40356884164188306,
          "n_iter": 518
         },
         {
          "learner": "XGBoost",
          "loss": 0.4035844039932362,
          "n_iter": 519
         },
         {
          "learner": "XGBoost",
          "loss": 0.40352615884052406,
          "n_iter": 520
         },
         {
          "learner": "XGBoost",
          "loss": 0.40355806833696123,
          "n_iter": 521
         },
         {
          "learner": "XGBoost",
          "loss": 0.4035709730780814,
          "n_iter": 522
         },
         {
          "learner": "XGBoost",
          "loss": 0.4035824251127439,
          "n_iter": 523
         },
         {
          "learner": "XGBoost",
          "loss": 0.40375960514416603,
          "n_iter": 524
         },
         {
          "learner": "XGBoost",
          "loss": 0.40373169583972435,
          "n_iter": 525
         },
         {
          "learner": "XGBoost",
          "loss": 0.4037508547840018,
          "n_iter": 526
         },
         {
          "learner": "XGBoost",
          "loss": 0.4037924152094287,
          "n_iter": 527
         },
         {
          "learner": "XGBoost",
          "loss": 0.40373026258583683,
          "n_iter": 528
         },
         {
          "learner": "XGBoost",
          "loss": 0.40372550330199447,
          "n_iter": 529
         },
         {
          "learner": "XGBoost",
          "loss": 0.4037579632333496,
          "n_iter": 530
         },
         {
          "learner": "XGBoost",
          "loss": 0.4036889179250451,
          "n_iter": 531
         },
         {
          "learner": "XGBoost",
          "loss": 0.40381902305922607,
          "n_iter": 532
         },
         {
          "learner": "XGBoost",
          "loss": 0.4040085005314392,
          "n_iter": 533
         },
         {
          "learner": "XGBoost",
          "loss": 0.4039543357510646,
          "n_iter": 534
         },
         {
          "learner": "XGBoost",
          "loss": 0.4039292969453507,
          "n_iter": 535
         },
         {
          "learner": "XGBoost",
          "loss": 0.40412697758798005,
          "n_iter": 536
         },
         {
          "learner": "XGBoost",
          "loss": 0.40412386248167587,
          "n_iter": 537
         },
         {
          "learner": "XGBoost",
          "loss": 0.4040676908977487,
          "n_iter": 538
         },
         {
          "learner": "XGBoost",
          "loss": 0.40410065222155306,
          "n_iter": 539
         },
         {
          "learner": "XGBoost",
          "loss": 0.4041086561343132,
          "n_iter": 540
         },
         {
          "learner": "XGBoost",
          "loss": 0.40404399185872303,
          "n_iter": 541
         },
         {
          "learner": "XGBoost",
          "loss": 0.4040388114112728,
          "n_iter": 542
         },
         {
          "learner": "XGBoost",
          "loss": 0.4041694652776694,
          "n_iter": 543
         },
         {
          "learner": "XGBoost",
          "loss": 0.40421183429393076,
          "n_iter": 544
         },
         {
          "learner": "XGBoost",
          "loss": 0.404198225754808,
          "n_iter": 545
         },
         {
          "learner": "XGBoost",
          "loss": 0.40423161256656903,
          "n_iter": 546
         },
         {
          "learner": "XGBoost",
          "loss": 0.4042466160796821,
          "n_iter": 547
         },
         {
          "learner": "XGBoost",
          "loss": 0.4041668065897749,
          "n_iter": 548
         },
         {
          "learner": "XGBoost",
          "loss": 0.4042975623457462,
          "n_iter": 549
         },
         {
          "learner": "XGBoost",
          "loss": 0.40429595984448996,
          "n_iter": 550
         },
         {
          "learner": "XGBoost",
          "loss": 0.40440413589753016,
          "n_iter": 551
         },
         {
          "learner": "XGBoost",
          "loss": 0.4044209831101134,
          "n_iter": 552
         },
         {
          "learner": "XGBoost",
          "loss": 0.40455186974149704,
          "n_iter": 553
         },
         {
          "learner": "XGBoost",
          "loss": 0.4046877771457689,
          "n_iter": 554
         },
         {
          "learner": "XGBoost",
          "loss": 0.40466499022691316,
          "n_iter": 555
         },
         {
          "learner": "XGBoost",
          "loss": 0.4046838799209736,
          "n_iter": 556
         },
         {
          "learner": "XGBoost",
          "loss": 0.4047172817581147,
          "n_iter": 557
         },
         {
          "learner": "XGBoost",
          "loss": 0.40459194144080923,
          "n_iter": 558
         },
         {
          "learner": "XGBoost",
          "loss": 0.4047225960817124,
          "n_iter": 559
         },
         {
          "learner": "XGBoost",
          "loss": 0.40475485016454466,
          "n_iter": 560
         },
         {
          "learner": "XGBoost",
          "loss": 0.404696320782535,
          "n_iter": 561
         },
         {
          "learner": "XGBoost",
          "loss": 0.4045789803947973,
          "n_iter": 562
         },
         {
          "learner": "XGBoost",
          "loss": 0.4047832660424934,
          "n_iter": 563
         },
         {
          "learner": "XGBoost",
          "loss": 0.40481574157384737,
          "n_iter": 564
         },
         {
          "learner": "XGBoost",
          "loss": 0.4050029846310012,
          "n_iter": 565
         },
         {
          "learner": "XGBoost",
          "loss": 0.4051142678806216,
          "n_iter": 566
         },
         {
          "learner": "XGBoost",
          "loss": 0.405095989129773,
          "n_iter": 567
         },
         {
          "learner": "XGBoost",
          "loss": 0.40510245641272313,
          "n_iter": 568
         },
         {
          "learner": "XGBoost",
          "loss": 0.40506631044729735,
          "n_iter": 569
         },
         {
          "learner": "XGBoost",
          "loss": 0.4049569758805554,
          "n_iter": 570
         },
         {
          "learner": "XGBoost",
          "loss": 0.4050365610682362,
          "n_iter": 571
         },
         {
          "learner": "XGBoost",
          "loss": 0.4050002661514157,
          "n_iter": 572
         },
         {
          "learner": "XGBoost",
          "loss": 0.4050882454052958,
          "n_iter": 573
         },
         {
          "learner": "XGBoost",
          "loss": 0.40521357450290585,
          "n_iter": 574
         },
         {
          "learner": "XGBoost",
          "loss": 0.4052475741240344,
          "n_iter": 575
         },
         {
          "learner": "XGBoost",
          "loss": 0.4051464482309632,
          "n_iter": 576
         },
         {
          "learner": "XGBoost",
          "loss": 0.40518435263342534,
          "n_iter": 577
         },
         {
          "learner": "XGBoost",
          "loss": 0.40513045731556935,
          "n_iter": 578
         },
         {
          "learner": "XGBoost",
          "loss": 0.4051875397540962,
          "n_iter": 579
         },
         {
          "learner": "XGBoost",
          "loss": 0.4053749263464725,
          "n_iter": 580
         },
         {
          "learner": "XGBoost",
          "loss": 0.40528150498604254,
          "n_iter": 581
         },
         {
          "learner": "XGBoost",
          "loss": 0.4053780385819993,
          "n_iter": 582
         },
         {
          "learner": "XGBoost",
          "loss": 0.40538551823764907,
          "n_iter": 583
         },
         {
          "learner": "XGBoost",
          "loss": 0.40540238252868505,
          "n_iter": 584
         },
         {
          "learner": "XGBoost",
          "loss": 0.40552798997920175,
          "n_iter": 585
         },
         {
          "learner": "XGBoost",
          "loss": 0.40544689264711414,
          "n_iter": 586
         },
         {
          "learner": "XGBoost",
          "loss": 0.4055269989811233,
          "n_iter": 587
         },
         {
          "learner": "XGBoost",
          "loss": 0.4054869990950465,
          "n_iter": 588
         },
         {
          "learner": "XGBoost",
          "loss": 0.40553940213055883,
          "n_iter": 589
         },
         {
          "learner": "XGBoost",
          "loss": 0.4055986126738609,
          "n_iter": 590
         },
         {
          "learner": "XGBoost",
          "loss": 0.40560488577980564,
          "n_iter": 591
         },
         {
          "learner": "XGBoost",
          "loss": 0.4055534003653307,
          "n_iter": 592
         },
         {
          "learner": "XGBoost",
          "loss": 0.4055478607312272,
          "n_iter": 593
         },
         {
          "learner": "XGBoost",
          "loss": 0.40576016649196134,
          "n_iter": 594
         },
         {
          "learner": "XGBoost",
          "loss": 0.40593347832672444,
          "n_iter": 595
         },
         {
          "learner": "XGBoost",
          "loss": 0.4058833059781131,
          "n_iter": 596
         },
         {
          "learner": "XGBoost",
          "loss": 0.40596312696071374,
          "n_iter": 597
         },
         {
          "learner": "XGBoost",
          "loss": 0.4061509102429117,
          "n_iter": 598
         },
         {
          "learner": "XGBoost",
          "loss": 0.40616916555813,
          "n_iter": 599
         },
         {
          "learner": "XGBoost",
          "loss": 0.40636967057764456,
          "n_iter": 600
         },
         {
          "learner": "XGBoost",
          "loss": 0.40635286888709643,
          "n_iter": 601
         },
         {
          "learner": "XGBoost",
          "loss": 0.40641290647812184,
          "n_iter": 602
         },
         {
          "learner": "XGBoost",
          "loss": 0.4064367186405739,
          "n_iter": 603
         },
         {
          "learner": "XGBoost",
          "loss": 0.4065991174594709,
          "n_iter": 604
         },
         {
          "learner": "XGBoost",
          "loss": 0.40657109512051215,
          "n_iter": 605
         },
         {
          "learner": "XGBoost",
          "loss": 0.4066685915569067,
          "n_iter": 606
         },
         {
          "learner": "XGBoost",
          "loss": 0.4066203555426368,
          "n_iter": 607
         },
         {
          "learner": "XGBoost",
          "loss": 0.4066740579732661,
          "n_iter": 608
         },
         {
          "learner": "XGBoost",
          "loss": 0.4066471628604437,
          "n_iter": 609
         },
         {
          "learner": "XGBoost",
          "loss": 0.4066456558029647,
          "n_iter": 610
         },
         {
          "learner": "XGBoost",
          "loss": 0.4067069147453335,
          "n_iter": 611
         },
         {
          "learner": "XGBoost",
          "loss": 0.406688809100227,
          "n_iter": 612
         },
         {
          "learner": "XGBoost",
          "loss": 0.40682773813141787,
          "n_iter": 613
         },
         {
          "learner": "XGBoost",
          "loss": 0.406811922739833,
          "n_iter": 614
         },
         {
          "learner": "XGBoost",
          "loss": 0.4069760092160499,
          "n_iter": 615
         },
         {
          "learner": "XGBoost",
          "loss": 0.4070737768278699,
          "n_iter": 616
         },
         {
          "learner": "XGBoost",
          "loss": 0.40713577084383373,
          "n_iter": 617
         },
         {
          "learner": "XGBoost",
          "loss": 0.4070917961404355,
          "n_iter": 618
         },
         {
          "learner": "XGBoost",
          "loss": 0.40699314970461165,
          "n_iter": 619
         },
         {
          "learner": "XGBoost",
          "loss": 0.4069675946637748,
          "n_iter": 620
         },
         {
          "learner": "XGBoost",
          "loss": 0.40696626339808906,
          "n_iter": 621
         },
         {
          "learner": "XGBoost",
          "loss": 0.40692039431231924,
          "n_iter": 622
         },
         {
          "learner": "XGBoost",
          "loss": 0.4071164006479915,
          "n_iter": 623
         },
         {
          "learner": "XGBoost",
          "loss": 0.40708788597801665,
          "n_iter": 624
         },
         {
          "learner": "XGBoost",
          "loss": 0.40718584586475254,
          "n_iter": 625
         },
         {
          "learner": "XGBoost",
          "loss": 0.40724827265216057,
          "n_iter": 626
         },
         {
          "learner": "XGBoost",
          "loss": 0.4073027660052547,
          "n_iter": 627
         },
         {
          "learner": "XGBoost",
          "loss": 0.4072785942808547,
          "n_iter": 628
         },
         {
          "learner": "XGBoost",
          "loss": 0.4072640958007428,
          "n_iter": 629
         },
         {
          "learner": "XGBoost",
          "loss": 0.40727421885760867,
          "n_iter": 630
         },
         {
          "learner": "XGBoost",
          "loss": 0.40735893173572274,
          "n_iter": 631
         },
         {
          "learner": "XGBoost",
          "loss": 0.4074923004100606,
          "n_iter": 632
         },
         {
          "learner": "XGBoost",
          "loss": 0.40743115408945757,
          "n_iter": 633
         },
         {
          "learner": "XGBoost",
          "loss": 0.40744789278767607,
          "n_iter": 634
         },
         {
          "learner": "XGBoost",
          "loss": 0.4076492212020664,
          "n_iter": 635
         },
         {
          "learner": "XGBoost",
          "loss": 0.407712544049436,
          "n_iter": 636
         },
         {
          "learner": "XGBoost",
          "loss": 0.4076321951862797,
          "n_iter": 637
         },
         {
          "learner": "XGBoost",
          "loss": 0.4076091752653533,
          "n_iter": 638
         },
         {
          "learner": "XGBoost",
          "loss": 0.4076894866291475,
          "n_iter": 639
         },
         {
          "learner": "XGBoost",
          "loss": 0.407657789202713,
          "n_iter": 640
         },
         {
          "learner": "XGBoost",
          "loss": 0.40771291295223805,
          "n_iter": 641
         },
         {
          "learner": "XGBoost",
          "loss": 0.40769089312368073,
          "n_iter": 642
         },
         {
          "learner": "XGBoost",
          "loss": 0.4077813301398827,
          "n_iter": 643
         },
         {
          "learner": "XGBoost",
          "loss": 0.40779563345177655,
          "n_iter": 644
         },
         {
          "learner": "XGBoost",
          "loss": 0.40781248122557984,
          "n_iter": 645
         },
         {
          "learner": "XGBoost",
          "loss": 0.4078068920733273,
          "n_iter": 646
         },
         {
          "learner": "XGBoost",
          "loss": 0.4077560732391023,
          "n_iter": 647
         },
         {
          "learner": "XGBoost",
          "loss": 0.40782226254113974,
          "n_iter": 648
         },
         {
          "learner": "XGBoost",
          "loss": 0.407902630261153,
          "n_iter": 649
         },
         {
          "learner": "XGBoost",
          "loss": 0.40795807634494835,
          "n_iter": 650
         },
         {
          "learner": "XGBoost",
          "loss": 0.40795935347194806,
          "n_iter": 651
         },
         {
          "learner": "XGBoost",
          "loss": 0.4079764313200688,
          "n_iter": 652
         },
         {
          "learner": "XGBoost",
          "loss": 0.408064072692205,
          "n_iter": 653
         },
         {
          "learner": "XGBoost",
          "loss": 0.40805901078466467,
          "n_iter": 654
         },
         {
          "learner": "XGBoost",
          "loss": 0.4080695010707117,
          "n_iter": 655
         },
         {
          "learner": "XGBoost",
          "loss": 0.40814966795691604,
          "n_iter": 656
         },
         {
          "learner": "XGBoost",
          "loss": 0.40833593458618594,
          "n_iter": 657
         },
         {
          "learner": "XGBoost",
          "loss": 0.4084063220757143,
          "n_iter": 658
         },
         {
          "learner": "XGBoost",
          "loss": 0.4084704589129162,
          "n_iter": 659
         },
         {
          "learner": "XGBoost",
          "loss": 0.4085603251004401,
          "n_iter": 660
         },
         {
          "learner": "XGBoost",
          "loss": 0.40861635887666814,
          "n_iter": 661
         },
         {
          "learner": "XGBoost",
          "loss": 0.4085777115207161,
          "n_iter": 662
         },
         {
          "learner": "XGBoost",
          "loss": 0.40857319950496435,
          "n_iter": 663
         },
         {
          "learner": "XGBoost",
          "loss": 0.4085482659545696,
          "n_iter": 664
         },
         {
          "learner": "XGBoost",
          "loss": 0.4086384676191706,
          "n_iter": 665
         },
         {
          "learner": "XGBoost",
          "loss": 0.4086170788682108,
          "n_iter": 666
         },
         {
          "learner": "XGBoost",
          "loss": 0.40860459788279807,
          "n_iter": 667
         },
         {
          "learner": "XGBoost",
          "loss": 0.408669093387981,
          "n_iter": 668
         },
         {
          "learner": "XGBoost",
          "loss": 0.40874314652839155,
          "n_iter": 669
         },
         {
          "learner": "XGBoost",
          "loss": 0.40884042624004757,
          "n_iter": 670
         },
         {
          "learner": "XGBoost",
          "loss": 0.4090196675568838,
          "n_iter": 671
         },
         {
          "learner": "XGBoost",
          "loss": 0.4090750123663728,
          "n_iter": 672
         },
         {
          "learner": "XGBoost",
          "loss": 0.40913375753835296,
          "n_iter": 673
         },
         {
          "learner": "XGBoost",
          "loss": 0.40912982174948537,
          "n_iter": 674
         },
         {
          "learner": "XGBoost",
          "loss": 0.4091983291097294,
          "n_iter": 675
         },
         {
          "learner": "XGBoost",
          "loss": 0.40929166164423875,
          "n_iter": 676
         },
         {
          "learner": "XGBoost",
          "loss": 0.40929184158760484,
          "n_iter": 677
         },
         {
          "learner": "XGBoost",
          "loss": 0.4093689316442281,
          "n_iter": 678
         },
         {
          "learner": "XGBoost",
          "loss": 0.40933074385580026,
          "n_iter": 679
         },
         {
          "learner": "XGBoost",
          "loss": 0.40938183763150926,
          "n_iter": 680
         },
         {
          "learner": "XGBoost",
          "loss": 0.40937841643294137,
          "n_iter": 681
         },
         {
          "learner": "XGBoost",
          "loss": 0.40947287556684614,
          "n_iter": 682
         },
         {
          "learner": "XGBoost",
          "loss": 0.409590172047985,
          "n_iter": 683
         },
         {
          "learner": "XGBoost",
          "loss": 0.4097810088757859,
          "n_iter": 684
         },
         {
          "learner": "XGBoost",
          "loss": 0.40974483386323035,
          "n_iter": 685
         },
         {
          "learner": "XGBoost",
          "loss": 0.40974528746052313,
          "n_iter": 686
         },
         {
          "learner": "XGBoost",
          "loss": 0.4097251023268249,
          "n_iter": 687
         },
         {
          "learner": "XGBoost",
          "loss": 0.4097874705144032,
          "n_iter": 688
         },
         {
          "learner": "XGBoost",
          "loss": 0.40981440894090165,
          "n_iter": 689
         },
         {
          "learner": "XGBoost",
          "loss": 0.40981136446365435,
          "n_iter": 690
         },
         {
          "learner": "XGBoost",
          "loss": 0.4097774354932086,
          "n_iter": 691
         },
         {
          "learner": "XGBoost",
          "loss": 0.4098288834469998,
          "n_iter": 692
         },
         {
          "learner": "XGBoost",
          "loss": 0.4099258251968842,
          "n_iter": 693
         },
         {
          "learner": "XGBoost",
          "loss": 0.40995758593687975,
          "n_iter": 694
         },
         {
          "learner": "XGBoost",
          "loss": 0.41008946831862825,
          "n_iter": 695
         },
         {
          "learner": "XGBoost",
          "loss": 0.410266861711311,
          "n_iter": 696
         },
         {
          "learner": "XGBoost",
          "loss": 0.4102890403429227,
          "n_iter": 697
         },
         {
          "learner": "XGBoost",
          "loss": 0.41028993337387043,
          "n_iter": 698
         },
         {
          "learner": "XGBoost",
          "loss": 0.410288923287523,
          "n_iter": 699
         },
         {
          "learner": "XGBoost",
          "loss": 0.41028637262397943,
          "n_iter": 700
         },
         {
          "learner": "XGBoost",
          "loss": 0.41039822901620293,
          "n_iter": 701
         },
         {
          "learner": "XGBoost",
          "loss": 0.4104132365929844,
          "n_iter": 702
         },
         {
          "learner": "XGBoost",
          "loss": 0.41051087601649383,
          "n_iter": 703
         },
         {
          "learner": "XGBoost",
          "loss": 0.41047508550972833,
          "n_iter": 704
         },
         {
          "learner": "XGBoost",
          "loss": 0.4105940201842352,
          "n_iter": 705
         },
         {
          "learner": "XGBoost",
          "loss": 0.41059187388553087,
          "n_iter": 706
         },
         {
          "learner": "XGBoost",
          "loss": 0.4107166704917966,
          "n_iter": 707
         },
         {
          "learner": "XGBoost",
          "loss": 0.4107324904820668,
          "n_iter": 708
         },
         {
          "learner": "XGBoost",
          "loss": 0.41073418318615085,
          "n_iter": 709
         },
         {
          "learner": "XGBoost",
          "loss": 0.410703254505709,
          "n_iter": 710
         },
         {
          "learner": "XGBoost",
          "loss": 0.41077004159516023,
          "n_iter": 711
         },
         {
          "learner": "XGBoost",
          "loss": 0.4109347988497014,
          "n_iter": 712
         },
         {
          "learner": "XGBoost",
          "loss": 0.4109961163627899,
          "n_iter": 713
         },
         {
          "learner": "XGBoost",
          "loss": 0.4111060501668138,
          "n_iter": 714
         },
         {
          "learner": "XGBoost",
          "loss": 0.41112231689506773,
          "n_iter": 715
         },
         {
          "learner": "XGBoost",
          "loss": 0.41124742393074515,
          "n_iter": 716
         },
         {
          "learner": "XGBoost",
          "loss": 0.4112661654465587,
          "n_iter": 717
         },
         {
          "learner": "XGBoost",
          "loss": 0.41136457275956545,
          "n_iter": 718
         },
         {
          "learner": "XGBoost",
          "loss": 0.4114644097509475,
          "n_iter": 719
         },
         {
          "learner": "XGBoost",
          "loss": 0.4115976597298858,
          "n_iter": 720
         },
         {
          "learner": "XGBoost",
          "loss": 0.4115690452671676,
          "n_iter": 721
         },
         {
          "learner": "XGBoost",
          "loss": 0.41168845670466253,
          "n_iter": 722
         },
         {
          "learner": "XGBoost",
          "loss": 0.41169713504051203,
          "n_iter": 723
         },
         {
          "learner": "XGBoost",
          "loss": 0.41169833103573195,
          "n_iter": 724
         },
         {
          "learner": "XGBoost",
          "loss": 0.41170021860190525,
          "n_iter": 725
         },
         {
          "learner": "XGBoost",
          "loss": 0.4118187598132706,
          "n_iter": 726
         },
         {
          "learner": "XGBoost",
          "loss": 0.41189047191041955,
          "n_iter": 727
         },
         {
          "learner": "XGBoost",
          "loss": 0.4118653494278408,
          "n_iter": 728
         },
         {
          "learner": "XGBoost",
          "loss": 0.411863214879707,
          "n_iter": 729
         },
         {
          "learner": "XGBoost",
          "loss": 0.4119883888594273,
          "n_iter": 730
         },
         {
          "learner": "XGBoost",
          "loss": 0.41199035289400426,
          "n_iter": 731
         },
         {
          "learner": "XGBoost",
          "loss": 0.41200694559693163,
          "n_iter": 732
         },
         {
          "learner": "XGBoost",
          "loss": 0.41210751973498505,
          "n_iter": 733
         },
         {
          "learner": "XGBoost",
          "loss": 0.41225487729339105,
          "n_iter": 734
         },
         {
          "learner": "XGBoost",
          "loss": 0.41222436110705424,
          "n_iter": 735
         },
         {
          "learner": "XGBoost",
          "loss": 0.412292461491957,
          "n_iter": 736
         },
         {
          "learner": "XGBoost",
          "loss": 0.41226756104988177,
          "n_iter": 737
         },
         {
          "learner": "XGBoost",
          "loss": 0.41240022755288364,
          "n_iter": 738
         },
         {
          "learner": "XGBoost",
          "loss": 0.41249073187642277,
          "n_iter": 739
         },
         {
          "learner": "XGBoost",
          "loss": 0.4124889776607563,
          "n_iter": 740
         },
         {
          "learner": "XGBoost",
          "loss": 0.4125846103731807,
          "n_iter": 741
         },
         {
          "learner": "XGBoost",
          "loss": 0.4125876211074329,
          "n_iter": 742
         },
         {
          "learner": "XGBoost",
          "loss": 0.4126161859208195,
          "n_iter": 743
         },
         {
          "learner": "XGBoost",
          "loss": 0.4126587592790715,
          "n_iter": 744
         },
         {
          "learner": "XGBoost",
          "loss": 0.4127190414750305,
          "n_iter": 745
         },
         {
          "learner": "XGBoost",
          "loss": 0.4128206859469115,
          "n_iter": 746
         },
         {
          "learner": "XGBoost",
          "loss": 0.412853197137386,
          "n_iter": 747
         },
         {
          "learner": "XGBoost",
          "loss": 0.41292159033719145,
          "n_iter": 748
         },
         {
          "learner": "XGBoost",
          "loss": 0.4130462788843757,
          "n_iter": 749
         },
         {
          "learner": "XGBoost",
          "loss": 0.41306506877039323,
          "n_iter": 750
         },
         {
          "learner": "XGBoost",
          "loss": 0.4131427567935047,
          "n_iter": 751
         },
         {
          "learner": "XGBoost",
          "loss": 0.4132382757561354,
          "n_iter": 752
         },
         {
          "learner": "XGBoost",
          "loss": 0.41328500676537017,
          "n_iter": 753
         },
         {
          "learner": "XGBoost",
          "loss": 0.41326243452976463,
          "n_iter": 754
         },
         {
          "learner": "XGBoost",
          "loss": 0.4133946890238159,
          "n_iter": 755
         },
         {
          "learner": "XGBoost",
          "loss": 0.4133966372145031,
          "n_iter": 756
         },
         {
          "learner": "XGBoost",
          "loss": 0.4133987522159455,
          "n_iter": 757
         },
         {
          "learner": "XGBoost",
          "loss": 0.4133973035062581,
          "n_iter": 758
         },
         {
          "learner": "XGBoost",
          "loss": 0.4134800856024917,
          "n_iter": 759
         },
         {
          "learner": "XGBoost",
          "loss": 0.4135983351557664,
          "n_iter": 760
         },
         {
          "learner": "XGBoost",
          "loss": 0.4136672089912966,
          "n_iter": 761
         },
         {
          "learner": "XGBoost",
          "loss": 0.4137032042486478,
          "n_iter": 762
         },
         {
          "learner": "XGBoost",
          "loss": 0.4137983536355891,
          "n_iter": 763
         },
         {
          "learner": "XGBoost",
          "loss": 0.41380052805018575,
          "n_iter": 764
         },
         {
          "learner": "XGBoost",
          "loss": 0.4137788005927867,
          "n_iter": 765
         },
         {
          "learner": "XGBoost",
          "loss": 0.41377791327401026,
          "n_iter": 766
         },
         {
          "learner": "XGBoost",
          "loss": 0.4138818557454691,
          "n_iter": 767
         },
         {
          "learner": "XGBoost",
          "loss": 0.4139491665078721,
          "n_iter": 768
         },
         {
          "learner": "XGBoost",
          "loss": 0.41396509292004,
          "n_iter": 769
         },
         {
          "learner": "XGBoost",
          "loss": 0.4139678383929973,
          "n_iter": 770
         },
         {
          "learner": "XGBoost",
          "loss": 0.41410400389474283,
          "n_iter": 771
         },
         {
          "learner": "XGBoost",
          "loss": 0.4140774953536128,
          "n_iter": 772
         },
         {
          "learner": "XGBoost",
          "loss": 0.4141473911406816,
          "n_iter": 773
         },
         {
          "learner": "XGBoost",
          "loss": 0.4141756463845912,
          "n_iter": 774
         },
         {
          "learner": "XGBoost",
          "loss": 0.414270273334682,
          "n_iter": 775
         },
         {
          "learner": "XGBoost",
          "loss": 0.4143791521921829,
          "n_iter": 776
         },
         {
          "learner": "XGBoost",
          "loss": 0.4143788326162191,
          "n_iter": 777
         },
         {
          "learner": "XGBoost",
          "loss": 0.4145153466773303,
          "n_iter": 778
         },
         {
          "learner": "XGBoost",
          "loss": 0.41458566079941434,
          "n_iter": 779
         },
         {
          "learner": "XGBoost",
          "loss": 0.4145577053382567,
          "n_iter": 780
         },
         {
          "learner": "XGBoost",
          "loss": 0.4145536147800592,
          "n_iter": 781
         },
         {
          "learner": "XGBoost",
          "loss": 0.4145699223250783,
          "n_iter": 782
         },
         {
          "learner": "XGBoost",
          "loss": 0.41466464689888755,
          "n_iter": 783
         },
         {
          "learner": "XGBoost",
          "loss": 0.41472564595580996,
          "n_iter": 784
         },
         {
          "learner": "XGBoost",
          "loss": 0.4147791316975825,
          "n_iter": 785
         },
         {
          "learner": "XGBoost",
          "loss": 0.4147825671146682,
          "n_iter": 786
         },
         {
          "learner": "XGBoost",
          "loss": 0.41485101469228625,
          "n_iter": 787
         },
         {
          "learner": "XGBoost",
          "loss": 0.41488754442532716,
          "n_iter": 788
         },
         {
          "learner": "XGBoost",
          "loss": 0.41488769632983846,
          "n_iter": 789
         },
         {
          "learner": "XGBoost",
          "loss": 0.4149720163807459,
          "n_iter": 790
         },
         {
          "learner": "XGBoost",
          "loss": 0.4150001554606344,
          "n_iter": 791
         },
         {
          "learner": "XGBoost",
          "loss": 0.4150640938990132,
          "n_iter": 792
         },
         {
          "learner": "XGBoost",
          "loss": 0.4150680508898121,
          "n_iter": 793
         },
         {
          "learner": "XGBoost",
          "loss": 0.4151449299769399,
          "n_iter": 794
         },
         {
          "learner": "XGBoost",
          "loss": 0.41516428418483253,
          "n_iter": 795
         },
         {
          "learner": "XGBoost",
          "loss": 0.4152156046513442,
          "n_iter": 796
         },
         {
          "learner": "XGBoost",
          "loss": 0.41521996766761726,
          "n_iter": 797
         },
         {
          "learner": "XGBoost",
          "loss": 0.41528767536494876,
          "n_iter": 798
         },
         {
          "learner": "XGBoost",
          "loss": 0.415284211170281,
          "n_iter": 799
         },
         {
          "learner": "XGBoost",
          "loss": 0.4153892593377465,
          "n_iter": 800
         },
         {
          "learner": "XGBoost",
          "loss": 0.41543789973060385,
          "n_iter": 801
         },
         {
          "learner": "XGBoost",
          "loss": 0.4155685444173382,
          "n_iter": 802
         },
         {
          "learner": "XGBoost",
          "loss": 0.41556596865464285,
          "n_iter": 803
         },
         {
          "learner": "XGBoost",
          "loss": 0.415609670314672,
          "n_iter": 804
         },
         {
          "learner": "XGBoost",
          "loss": 0.41566296108274886,
          "n_iter": 805
         },
         {
          "learner": "XGBoost",
          "loss": 0.4157331743879846,
          "n_iter": 806
         },
         {
          "learner": "XGBoost",
          "loss": 0.4157381163232219,
          "n_iter": 807
         },
         {
          "learner": "XGBoost",
          "loss": 0.41580695202328255,
          "n_iter": 808
         },
         {
          "learner": "XGBoost",
          "loss": 0.41587927069627256,
          "n_iter": 809
         },
         {
          "learner": "XGBoost",
          "loss": 0.41595322449501504,
          "n_iter": 810
         },
         {
          "learner": "XGBoost",
          "loss": 0.41606524033717746,
          "n_iter": 811
         },
         {
          "learner": "XGBoost",
          "loss": 0.41609110660742843,
          "n_iter": 812
         },
         {
          "learner": "XGBoost",
          "loss": 0.4160700735471729,
          "n_iter": 813
         },
         {
          "learner": "XGBoost",
          "loss": 0.4161393775742475,
          "n_iter": 814
         },
         {
          "learner": "XGBoost",
          "loss": 0.41621245179816574,
          "n_iter": 815
         },
         {
          "learner": "XGBoost",
          "loss": 0.41624913268873975,
          "n_iter": 816
         },
         {
          "learner": "XGBoost",
          "loss": 0.416254577774846,
          "n_iter": 817
         },
         {
          "learner": "XGBoost",
          "loss": 0.4163647420764114,
          "n_iter": 818
         },
         {
          "learner": "XGBoost",
          "loss": 0.4163811681095935,
          "n_iter": 819
         },
         {
          "learner": "XGBoost",
          "loss": 0.41647480485920313,
          "n_iter": 820
         },
         {
          "learner": "XGBoost",
          "loss": 0.4165419243169828,
          "n_iter": 821
         },
         {
          "learner": "XGBoost",
          "loss": 0.41654775361287405,
          "n_iter": 822
         },
         {
          "learner": "XGBoost",
          "loss": 0.41655046419167385,
          "n_iter": 823
         },
         {
          "learner": "XGBoost",
          "loss": 0.41653166649155243,
          "n_iter": 824
         },
         {
          "learner": "XGBoost",
          "loss": 0.4165771542506538,
          "n_iter": 825
         },
         {
          "learner": "XGBoost",
          "loss": 0.41655952233960164,
          "n_iter": 826
         },
         {
          "learner": "XGBoost",
          "loss": 0.4166741936110007,
          "n_iter": 827
         },
         {
          "learner": "XGBoost",
          "loss": 0.4167865404313501,
          "n_iter": 828
         },
         {
          "learner": "XGBoost",
          "loss": 0.41686309643436276,
          "n_iter": 829
         },
         {
          "learner": "XGBoost",
          "loss": 0.41696373855718444,
          "n_iter": 830
         },
         {
          "learner": "XGBoost",
          "loss": 0.4170407460191347,
          "n_iter": 831
         },
         {
          "learner": "XGBoost",
          "loss": 0.41708536036651184,
          "n_iter": 832
         },
         {
          "learner": "XGBoost",
          "loss": 0.41708372819604406,
          "n_iter": 833
         },
         {
          "learner": "XGBoost",
          "loss": 0.4170815022574497,
          "n_iter": 834
         },
         {
          "learner": "XGBoost",
          "loss": 0.41724203668328846,
          "n_iter": 835
         },
         {
          "learner": "XGBoost",
          "loss": 0.41727197906320934,
          "n_iter": 836
         },
         {
          "learner": "XGBoost",
          "loss": 0.4171937608068005,
          "n_iter": 837
         },
         {
          "learner": "XGBoost",
          "loss": 0.4172119911851799,
          "n_iter": 838
         },
         {
          "learner": "XGBoost",
          "loss": 0.4172687194474461,
          "n_iter": 839
         },
         {
          "learner": "XGBoost",
          "loss": 0.4172759702294416,
          "n_iter": 840
         },
         {
          "learner": "XGBoost",
          "loss": 0.41728196886411417,
          "n_iter": 841
         },
         {
          "learner": "XGBoost",
          "loss": 0.41737508263994694,
          "n_iter": 842
         },
         {
          "learner": "XGBoost",
          "loss": 0.41745148142873467,
          "n_iter": 843
         },
         {
          "learner": "XGBoost",
          "loss": 0.4175309248012784,
          "n_iter": 844
         },
         {
          "learner": "XGBoost",
          "loss": 0.41748306993438455,
          "n_iter": 845
         },
         {
          "learner": "XGBoost",
          "loss": 0.4174899741187928,
          "n_iter": 846
         },
         {
          "learner": "XGBoost",
          "loss": 0.41760093236107076,
          "n_iter": 847
         },
         {
          "learner": "XGBoost",
          "loss": 0.41773685618233614,
          "n_iter": 848
         },
         {
          "learner": "XGBoost",
          "loss": 0.4177584050885831,
          "n_iter": 849
         },
         {
          "learner": "XGBoost",
          "loss": 0.4178157768156824,
          "n_iter": 850
         },
         {
          "learner": "XGBoost",
          "loss": 0.41774137472277145,
          "n_iter": 851
         },
         {
          "learner": "XGBoost",
          "loss": 0.4177409021712395,
          "n_iter": 852
         },
         {
          "learner": "XGBoost",
          "loss": 0.4178114623171429,
          "n_iter": 853
         },
         {
          "learner": "XGBoost",
          "loss": 0.41792239153716415,
          "n_iter": 854
         },
         {
          "learner": "XGBoost",
          "loss": 0.4179206878823555,
          "n_iter": 855
         },
         {
          "learner": "XGBoost",
          "loss": 0.41791902425079974,
          "n_iter": 856
         },
         {
          "learner": "XGBoost",
          "loss": 0.4179178620229939,
          "n_iter": 857
         },
         {
          "learner": "XGBoost",
          "loss": 0.41801095069811484,
          "n_iter": 858
         },
         {
          "learner": "XGBoost",
          "loss": 0.418124764416485,
          "n_iter": 859
         },
         {
          "learner": "XGBoost",
          "loss": 0.41816660915934706,
          "n_iter": 860
         },
         {
          "learner": "XGBoost",
          "loss": 0.4182428914190078,
          "n_iter": 861
         },
         {
          "learner": "XGBoost",
          "loss": 0.41839397438129344,
          "n_iter": 862
         },
         {
          "learner": "XGBoost",
          "loss": 0.41846721318355407,
          "n_iter": 863
         },
         {
          "learner": "XGBoost",
          "loss": 0.41847710011190986,
          "n_iter": 864
         },
         {
          "learner": "XGBoost",
          "loss": 0.41848805270050177,
          "n_iter": 865
         },
         {
          "learner": "XGBoost",
          "loss": 0.4185065304036927,
          "n_iter": 866
         },
         {
          "learner": "XGBoost",
          "loss": 0.41859947013364446,
          "n_iter": 867
         },
         {
          "learner": "XGBoost",
          "loss": 0.4185891333104352,
          "n_iter": 868
         },
         {
          "learner": "XGBoost",
          "loss": 0.41867392011911037,
          "n_iter": 869
         },
         {
          "learner": "XGBoost",
          "loss": 0.41873229804624734,
          "n_iter": 870
         },
         {
          "learner": "XGBoost",
          "loss": 0.41871677574374255,
          "n_iter": 871
         },
         {
          "learner": "XGBoost",
          "loss": 0.4188088591113343,
          "n_iter": 872
         },
         {
          "learner": "XGBoost",
          "loss": 0.41892012971407255,
          "n_iter": 873
         },
         {
          "learner": "XGBoost",
          "loss": 0.41894118253034773,
          "n_iter": 874
         },
         {
          "learner": "XGBoost",
          "loss": 0.4190536663317945,
          "n_iter": 875
         },
         {
          "learner": "XGBoost",
          "loss": 0.41909971042559396,
          "n_iter": 876
         },
         {
          "learner": "XGBoost",
          "loss": 0.41918278549091254,
          "n_iter": 877
         },
         {
          "learner": "XGBoost",
          "loss": 0.4192245654339834,
          "n_iter": 878
         },
         {
          "learner": "XGBoost",
          "loss": 0.4191615153360639,
          "n_iter": 879
         },
         {
          "learner": "XGBoost",
          "loss": 0.4191540020983314,
          "n_iter": 880
         },
         {
          "learner": "XGBoost",
          "loss": 0.41931116456069434,
          "n_iter": 881
         },
         {
          "learner": "XGBoost",
          "loss": 0.41938192329448204,
          "n_iter": 882
         },
         {
          "learner": "XGBoost",
          "loss": 0.4195313504641667,
          "n_iter": 883
         },
         {
          "learner": "XGBoost",
          "loss": 0.41956020652900944,
          "n_iter": 884
         },
         {
          "learner": "XGBoost",
          "loss": 0.41965766370497065,
          "n_iter": 885
         },
         {
          "learner": "XGBoost",
          "loss": 0.4197459953434369,
          "n_iter": 886
         },
         {
          "learner": "XGBoost",
          "loss": 0.4197125717675739,
          "n_iter": 887
         },
         {
          "learner": "XGBoost",
          "loss": 0.419731482352166,
          "n_iter": 888
         },
         {
          "learner": "XGBoost",
          "loss": 0.4197628268241003,
          "n_iter": 889
         },
         {
          "learner": "XGBoost",
          "loss": 0.4198559972407206,
          "n_iter": 890
         },
         {
          "learner": "XGBoost",
          "loss": 0.4198161048860704,
          "n_iter": 891
         },
         {
          "learner": "XGBoost",
          "loss": 0.4199358759695604,
          "n_iter": 892
         },
         {
          "learner": "XGBoost",
          "loss": 0.41999528688175863,
          "n_iter": 893
         },
         {
          "learner": "XGBoost",
          "loss": 0.4199136749665196,
          "n_iter": 894
         },
         {
          "learner": "XGBoost",
          "loss": 0.41989252972149527,
          "n_iter": 895
         },
         {
          "learner": "XGBoost",
          "loss": 0.41992646544391493,
          "n_iter": 896
         },
         {
          "learner": "XGBoost",
          "loss": 0.4199429614964663,
          "n_iter": 897
         },
         {
          "learner": "XGBoost",
          "loss": 0.4199982118249483,
          "n_iter": 898
         },
         {
          "learner": "XGBoost",
          "loss": 0.4199993029045262,
          "n_iter": 899
         },
         {
          "learner": "XGBoost",
          "loss": 0.4200914010676795,
          "n_iter": 900
         },
         {
          "learner": "XGBoost",
          "loss": 0.42018550512724123,
          "n_iter": 901
         },
         {
          "learner": "XGBoost",
          "loss": 0.4201784093132899,
          "n_iter": 902
         },
         {
          "learner": "XGBoost",
          "loss": 0.42018151717828367,
          "n_iter": 903
         },
         {
          "learner": "XGBoost",
          "loss": 0.4201992969910113,
          "n_iter": 904
         },
         {
          "learner": "XGBoost",
          "loss": 0.4201937471463582,
          "n_iter": 905
         },
         {
          "learner": "XGBoost",
          "loss": 0.42028816349611126,
          "n_iter": 906
         },
         {
          "learner": "XGBoost",
          "loss": 0.42028358687514733,
          "n_iter": 907
         },
         {
          "learner": "XGBoost",
          "loss": 0.42035052805023027,
          "n_iter": 908
         },
         {
          "learner": "XGBoost",
          "loss": 0.4202997294711676,
          "n_iter": 909
         },
         {
          "learner": "XGBoost",
          "loss": 0.42034427729096974,
          "n_iter": 910
         },
         {
          "learner": "XGBoost",
          "loss": 0.42043750572524025,
          "n_iter": 911
         },
         {
          "learner": "XGBoost",
          "loss": 0.4205503537259341,
          "n_iter": 912
         },
         {
          "learner": "XGBoost",
          "loss": 0.4205481081426602,
          "n_iter": 913
         },
         {
          "learner": "XGBoost",
          "loss": 0.4205111381451006,
          "n_iter": 914
         },
         {
          "learner": "XGBoost",
          "loss": 0.42060366168156177,
          "n_iter": 915
         },
         {
          "learner": "XGBoost",
          "loss": 0.420605306849609,
          "n_iter": 916
         },
         {
          "learner": "XGBoost",
          "loss": 0.4205521448145524,
          "n_iter": 917
         },
         {
          "learner": "XGBoost",
          "loss": 0.42071079557427504,
          "n_iter": 918
         },
         {
          "learner": "XGBoost",
          "loss": 0.4207566658291879,
          "n_iter": 919
         },
         {
          "learner": "XGBoost",
          "loss": 0.420845135794626,
          "n_iter": 920
         },
         {
          "learner": "XGBoost",
          "loss": 0.4208740470606393,
          "n_iter": 921
         },
         {
          "learner": "XGBoost",
          "loss": 0.4208805019705034,
          "n_iter": 922
         },
         {
          "learner": "XGBoost",
          "loss": 0.4210725193394971,
          "n_iter": 923
         },
         {
          "learner": "XGBoost",
          "loss": 0.4210747131367907,
          "n_iter": 924
         },
         {
          "learner": "XGBoost",
          "loss": 0.421021824056891,
          "n_iter": 925
         },
         {
          "learner": "XGBoost",
          "loss": 0.4210510524696559,
          "n_iter": 926
         },
         {
          "learner": "XGBoost",
          "loss": 0.4211478979462968,
          "n_iter": 927
         },
         {
          "learner": "XGBoost",
          "loss": 0.4211949920421629,
          "n_iter": 928
         },
         {
          "learner": "XGBoost",
          "loss": 0.42122161658884955,
          "n_iter": 929
         },
         {
          "learner": "XGBoost",
          "loss": 0.42129276224987117,
          "n_iter": 930
         },
         {
          "learner": "XGBoost",
          "loss": 0.42140614974713075,
          "n_iter": 931
         },
         {
          "learner": "XGBoost",
          "loss": 0.42148222625392895,
          "n_iter": 932
         },
         {
          "learner": "XGBoost",
          "loss": 0.42153539329124434,
          "n_iter": 933
         },
         {
          "learner": "XGBoost",
          "loss": 0.4214904010481551,
          "n_iter": 934
         },
         {
          "learner": "XGBoost",
          "loss": 0.4215126723479397,
          "n_iter": 935
         },
         {
          "learner": "XGBoost",
          "loss": 0.4216093109105721,
          "n_iter": 936
         },
         {
          "learner": "XGBoost",
          "loss": 0.42170073727701274,
          "n_iter": 937
         },
         {
          "learner": "XGBoost",
          "loss": 0.4217916646025306,
          "n_iter": 938
         },
         {
          "learner": "XGBoost",
          "loss": 0.42183207639221565,
          "n_iter": 939
         },
         {
          "learner": "XGBoost",
          "loss": 0.4219264342069704,
          "n_iter": 940
         },
         {
          "learner": "XGBoost",
          "loss": 0.4219271034507497,
          "n_iter": 941
         },
         {
          "learner": "XGBoost",
          "loss": 0.4218547842563066,
          "n_iter": 942
         },
         {
          "learner": "XGBoost",
          "loss": 0.42186353704898855,
          "n_iter": 943
         },
         {
          "learner": "XGBoost",
          "loss": 0.42189097112735857,
          "n_iter": 944
         },
         {
          "learner": "XGBoost",
          "loss": 0.42191648708435897,
          "n_iter": 945
         },
         {
          "learner": "XGBoost",
          "loss": 0.42188682662585913,
          "n_iter": 946
         },
         {
          "learner": "XGBoost",
          "loss": 0.421850654536809,
          "n_iter": 947
         },
         {
          "learner": "XGBoost",
          "loss": 0.4218697646032362,
          "n_iter": 948
         },
         {
          "learner": "XGBoost",
          "loss": 0.4218722701347402,
          "n_iter": 949
         },
         {
          "learner": "XGBoost",
          "loss": 0.4218878800825442,
          "n_iter": 950
         },
         {
          "learner": "XGBoost",
          "loss": 0.42198923930730003,
          "n_iter": 951
         },
         {
          "learner": "XGBoost",
          "loss": 0.4219315743071603,
          "n_iter": 952
         },
         {
          "learner": "XGBoost",
          "loss": 0.4219819408820613,
          "n_iter": 953
         },
         {
          "learner": "XGBoost",
          "loss": 0.4219488254558153,
          "n_iter": 954
         },
         {
          "learner": "XGBoost",
          "loss": 0.4219182257116846,
          "n_iter": 955
         },
         {
          "learner": "XGBoost",
          "loss": 0.42196355654741874,
          "n_iter": 956
         },
         {
          "learner": "XGBoost",
          "loss": 0.42190847537033804,
          "n_iter": 957
         },
         {
          "learner": "XGBoost",
          "loss": 0.42201989894488434,
          "n_iter": 958
         },
         {
          "learner": "XGBoost",
          "loss": 0.4221014391477361,
          "n_iter": 959
         },
         {
          "learner": "XGBoost",
          "loss": 0.4220721123579482,
          "n_iter": 960
         },
         {
          "learner": "XGBoost",
          "loss": 0.4220749491326937,
          "n_iter": 961
         },
         {
          "learner": "XGBoost",
          "loss": 0.42207881869173197,
          "n_iter": 962
         },
         {
          "learner": "XGBoost",
          "loss": 0.4220464327164931,
          "n_iter": 963
         },
         {
          "learner": "XGBoost",
          "loss": 0.42201956640343324,
          "n_iter": 964
         },
         {
          "learner": "XGBoost",
          "loss": 0.4219567745027414,
          "n_iter": 965
         },
         {
          "learner": "XGBoost",
          "loss": 0.422005058963204,
          "n_iter": 966
         },
         {
          "learner": "XGBoost",
          "loss": 0.4219796134942051,
          "n_iter": 967
         },
         {
          "learner": "XGBoost",
          "loss": 0.4220856997556101,
          "n_iter": 968
         },
         {
          "learner": "XGBoost",
          "loss": 0.42217876537286725,
          "n_iter": 969
         },
         {
          "learner": "XGBoost",
          "loss": 0.42229869466330705,
          "n_iter": 970
         },
         {
          "learner": "XGBoost",
          "loss": 0.4223896900309083,
          "n_iter": 971
         },
         {
          "learner": "XGBoost",
          "loss": 0.42244187990369,
          "n_iter": 972
         },
         {
          "learner": "XGBoost",
          "loss": 0.4225210184699697,
          "n_iter": 973
         },
         {
          "learner": "XGBoost",
          "loss": 0.4224926202197647,
          "n_iter": 974
         },
         {
          "learner": "XGBoost",
          "loss": 0.4225217391681153,
          "n_iter": 975
         },
         {
          "learner": "XGBoost",
          "loss": 0.42249034356367304,
          "n_iter": 976
         },
         {
          "learner": "XGBoost",
          "loss": 0.42259739205271835,
          "n_iter": 977
         },
         {
          "learner": "XGBoost",
          "loss": 0.42258535290981164,
          "n_iter": 978
         },
         {
          "learner": "XGBoost",
          "loss": 0.42270530958456776,
          "n_iter": 979
         },
         {
          "learner": "XGBoost",
          "loss": 0.4228129932670425,
          "n_iter": 980
         },
         {
          "learner": "XGBoost",
          "loss": 0.42290367516863697,
          "n_iter": 981
         },
         {
          "learner": "XGBoost",
          "loss": 0.42293184369658776,
          "n_iter": 982
         },
         {
          "learner": "XGBoost",
          "loss": 0.422982015021952,
          "n_iter": 983
         },
         {
          "learner": "XGBoost",
          "loss": 0.42309316493845095,
          "n_iter": 984
         },
         {
          "learner": "XGBoost",
          "loss": 0.42309622564866267,
          "n_iter": 985
         },
         {
          "learner": "XGBoost",
          "loss": 0.42307075682295997,
          "n_iter": 986
         },
         {
          "learner": "XGBoost",
          "loss": 0.4230488107053656,
          "n_iter": 987
         },
         {
          "learner": "XGBoost",
          "loss": 0.42311770297903634,
          "n_iter": 988
         },
         {
          "learner": "XGBoost",
          "loss": 0.4230879249082084,
          "n_iter": 989
         },
         {
          "learner": "XGBoost",
          "loss": 0.4231314550560692,
          "n_iter": 990
         },
         {
          "learner": "XGBoost",
          "loss": 0.4232034882902328,
          "n_iter": 991
         },
         {
          "learner": "XGBoost",
          "loss": 0.4233118907080015,
          "n_iter": 992
         },
         {
          "learner": "XGBoost",
          "loss": 0.42332809952499956,
          "n_iter": 993
         },
         {
          "learner": "XGBoost",
          "loss": 0.42343908985376094,
          "n_iter": 994
         },
         {
          "learner": "XGBoost",
          "loss": 0.4234457636358385,
          "n_iter": 995
         },
         {
          "learner": "XGBoost",
          "loss": 0.42351921692396827,
          "n_iter": 996
         },
         {
          "learner": "XGBoost",
          "loss": 0.42353285997531104,
          "n_iter": 997
         },
         {
          "learner": "XGBoost",
          "loss": 0.42354943897866465,
          "n_iter": 998
         },
         {
          "learner": "XGBoost",
          "loss": 0.4237275444400066,
          "n_iter": 999
         },
         {
          "learner": "XGBoost",
          "loss": 0.4237562891696647,
          "n_iter": 1000
         },
         {
          "learner": "XGBoost",
          "loss": 0.4238090811394866,
          "n_iter": 1001
         },
         {
          "learner": "SAL",
          "loss": 0.6082120079664349,
          "n_iter": 1
         },
         {
          "learner": "SAL",
          "loss": 0.523560078886041,
          "n_iter": 2
         },
         {
          "learner": "SAL",
          "loss": 0.49014249061509285,
          "n_iter": 3
         },
         {
          "learner": "SAL",
          "loss": 0.483513143284885,
          "n_iter": 4
         },
         {
          "learner": "SAL",
          "loss": 0.4612270185654009,
          "n_iter": 5
         },
         {
          "learner": "SAL",
          "loss": 0.4521476929639998,
          "n_iter": 6
         },
         {
          "learner": "SAL",
          "loss": 0.4445147472700902,
          "n_iter": 7
         },
         {
          "learner": "SAL",
          "loss": 0.44181361891192966,
          "n_iter": 8
         },
         {
          "learner": "SAL",
          "loss": 0.4420601494137996,
          "n_iter": 9
         },
         {
          "learner": "SAL",
          "loss": 0.4368065250351987,
          "n_iter": 10
         },
         {
          "learner": "SAL",
          "loss": 0.43676156970658736,
          "n_iter": 11
         },
         {
          "learner": "SAL",
          "loss": 0.4371217647644839,
          "n_iter": 12
         },
         {
          "learner": "SAL",
          "loss": 0.4370599050806613,
          "n_iter": 13
         },
         {
          "learner": "SAL",
          "loss": 0.4369950014664498,
          "n_iter": 14
         },
         {
          "learner": "SAL",
          "loss": 0.439120409024973,
          "n_iter": 15
         },
         {
          "learner": "SAL",
          "loss": 0.44037565502155673,
          "n_iter": 16
         },
         {
          "learner": "SAL",
          "loss": 0.4408367297644588,
          "n_iter": 17
         },
         {
          "learner": "SAL",
          "loss": 0.4412096159807383,
          "n_iter": 18
         },
         {
          "learner": "SAL",
          "loss": 0.44160687420332273,
          "n_iter": 19
         },
         {
          "learner": "SAL",
          "loss": 0.4418004879618671,
          "n_iter": 20
         },
         {
          "learner": "SAL",
          "loss": 0.4418465857259627,
          "n_iter": 21
         },
         {
          "learner": "SAL",
          "loss": 0.44181210164311197,
          "n_iter": 22
         },
         {
          "learner": "SAL",
          "loss": 0.4403341557615038,
          "n_iter": 23
         },
         {
          "learner": "SAL",
          "loss": 0.44001196585523966,
          "n_iter": 24
         },
         {
          "learner": "SAL",
          "loss": 0.43998533550796076,
          "n_iter": 25
         },
         {
          "learner": "SAL",
          "loss": 0.43995362263264925,
          "n_iter": 26
         },
         {
          "learner": "SAL",
          "loss": 0.43984705337783514,
          "n_iter": 27
         },
         {
          "learner": "SAL",
          "loss": 0.43972683769071436,
          "n_iter": 28
         },
         {
          "learner": "SAL",
          "loss": 0.4396222268421797,
          "n_iter": 29
         },
         {
          "learner": "SAL",
          "loss": 0.43952971636445215,
          "n_iter": 30
         },
         {
          "learner": "SAL",
          "loss": 0.4394454495942227,
          "n_iter": 31
         },
         {
          "learner": "SAL",
          "loss": 0.43936679551843705,
          "n_iter": 32
         },
         {
          "learner": "SAL",
          "loss": 0.4348439783009435,
          "n_iter": 33
         },
         {
          "learner": "SAL",
          "loss": 0.4266429680046668,
          "n_iter": 34
         },
         {
          "learner": "SAL",
          "loss": 0.42697027293602624,
          "n_iter": 35
         },
         {
          "learner": "SAL",
          "loss": 0.42741308446876203,
          "n_iter": 36
         },
         {
          "learner": "SAL",
          "loss": 0.4262656665954424,
          "n_iter": 37
         },
         {
          "learner": "SAL",
          "loss": 0.4242574343435653,
          "n_iter": 38
         },
         {
          "learner": "SAL",
          "loss": 0.42334372428070977,
          "n_iter": 39
         },
         {
          "learner": "SAL",
          "loss": 0.42274053784491433,
          "n_iter": 40
         },
         {
          "learner": "SAL",
          "loss": 0.42150911430796656,
          "n_iter": 41
         },
         {
          "learner": "SAL",
          "loss": 0.42071734615021555,
          "n_iter": 42
         },
         {
          "learner": "SAL",
          "loss": 0.42032942791526956,
          "n_iter": 43
         },
         {
          "learner": "SAL",
          "loss": 0.42057681673906516,
          "n_iter": 44
         },
         {
          "learner": "SAL",
          "loss": 0.42068687097415713,
          "n_iter": 45
         },
         {
          "learner": "SAL",
          "loss": 0.420711889947265,
          "n_iter": 46
         },
         {
          "learner": "SAL",
          "loss": 0.41892223020405517,
          "n_iter": 47
         },
         {
          "learner": "SAL",
          "loss": 0.4184224741280871,
          "n_iter": 48
         },
         {
          "learner": "SAL",
          "loss": 0.4182963583020588,
          "n_iter": 49
         },
         {
          "learner": "SAL",
          "loss": 0.4182693599058396,
          "n_iter": 50
         },
         {
          "learner": "SAL",
          "loss": 0.4182713452017992,
          "n_iter": 51
         },
         {
          "learner": "SAL",
          "loss": 0.41828555712791854,
          "n_iter": 52
         },
         {
          "learner": "SAL",
          "loss": 0.41798225842237124,
          "n_iter": 53
         },
         {
          "learner": "SAL",
          "loss": 0.4179753953496166,
          "n_iter": 54
         },
         {
          "learner": "SAL",
          "loss": 0.41806004778385264,
          "n_iter": 55
         },
         {
          "learner": "SAL",
          "loss": 0.41817244665493264,
          "n_iter": 56
         },
         {
          "learner": "SAL",
          "loss": 0.4182909039334598,
          "n_iter": 57
         },
         {
          "learner": "SAL",
          "loss": 0.4184076321243222,
          "n_iter": 58
         },
         {
          "learner": "SAL",
          "loss": 0.41851981757886497,
          "n_iter": 59
         },
         {
          "learner": "SAL",
          "loss": 0.4183621825797868,
          "n_iter": 60
         },
         {
          "learner": "SAL",
          "loss": 0.4175856820795339,
          "n_iter": 61
         },
         {
          "learner": "SAL",
          "loss": 0.4173801894942322,
          "n_iter": 62
         },
         {
          "learner": "SAL",
          "loss": 0.41736350460385047,
          "n_iter": 63
         },
         {
          "learner": "SAL",
          "loss": 0.41744138125140323,
          "n_iter": 64
         },
         {
          "learner": "SAL",
          "loss": 0.4176498984695754,
          "n_iter": 65
         },
         {
          "learner": "SAL",
          "loss": 0.41837651626714206,
          "n_iter": 66
         },
         {
          "learner": "SAL",
          "loss": 0.4188942433013177,
          "n_iter": 67
         },
         {
          "learner": "SAL",
          "loss": 0.419263926647889,
          "n_iter": 68
         },
         {
          "learner": "SAL",
          "loss": 0.4195280146459044,
          "n_iter": 69
         },
         {
          "learner": "SAL",
          "loss": 0.41969473356528814,
          "n_iter": 70
         },
         {
          "learner": "SAL",
          "loss": 0.4197512303893404,
          "n_iter": 71
         },
         {
          "learner": "SAL",
          "loss": 0.4197982242582951,
          "n_iter": 72
         },
         {
          "learner": "SAL",
          "loss": 0.419834776303469,
          "n_iter": 73
         },
         {
          "learner": "SAL",
          "loss": 0.41986344817216037,
          "n_iter": 74
         },
         {
          "learner": "SAL",
          "loss": 0.41988723307103193,
          "n_iter": 75
         },
         {
          "learner": "SAL",
          "loss": 0.4199092510397455,
          "n_iter": 76
         },
         {
          "learner": "SAL",
          "loss": 0.41992734171791113,
          "n_iter": 77
         },
         {
          "learner": "SAL",
          "loss": 0.4199422514496522,
          "n_iter": 78
         },
         {
          "learner": "SAL",
          "loss": 0.4199565038734675,
          "n_iter": 79
         },
         {
          "learner": "SAL",
          "loss": 0.41997043835370307,
          "n_iter": 80
         },
         {
          "learner": "SAL",
          "loss": 0.42004022906766864,
          "n_iter": 81
         },
         {
          "learner": "SAL",
          "loss": 0.420103106388769,
          "n_iter": 82
         },
         {
          "learner": "SAL",
          "loss": 0.42014939753629466,
          "n_iter": 83
         },
         {
          "learner": "SAL",
          "loss": 0.42017937942025946,
          "n_iter": 84
         },
         {
          "learner": "SAL",
          "loss": 0.4201950260434149,
          "n_iter": 85
         },
         {
          "learner": "SAL",
          "loss": 0.42019846732284427,
          "n_iter": 86
         },
         {
          "learner": "SAL",
          "loss": 0.4201915065157628,
          "n_iter": 87
         },
         {
          "learner": "SAL",
          "loss": 0.42017560737443455,
          "n_iter": 88
         },
         {
          "learner": "SAL",
          "loss": 0.4201520027019001,
          "n_iter": 89
         },
         {
          "learner": "SAL",
          "loss": 0.4201217958557453,
          "n_iter": 90
         },
         {
          "learner": "SAL",
          "loss": 0.42026931235901316,
          "n_iter": 91
         },
         {
          "learner": "SAL",
          "loss": 0.42056128489421846,
          "n_iter": 92
         },
         {
          "learner": "SAL",
          "loss": 0.42087872052756325,
          "n_iter": 93
         },
         {
          "learner": "SAL",
          "loss": 0.42120642320911544,
          "n_iter": 94
         },
         {
          "learner": "SAL",
          "loss": 0.4213072659535386,
          "n_iter": 95
         },
         {
          "learner": "SAL",
          "loss": 0.42136224290290497,
          "n_iter": 96
         },
         {
          "learner": "SAL",
          "loss": 0.4214241252617721,
          "n_iter": 97
         },
         {
          "learner": "SAL",
          "loss": 0.4214964100844887,
          "n_iter": 98
         },
         {
          "learner": "SAL",
          "loss": 0.42157069298926125,
          "n_iter": 99
         },
         {
          "learner": "SAL",
          "loss": 0.4216400817861778,
          "n_iter": 100
         },
         {
          "learner": "SAL",
          "loss": 0.42169660311393914,
          "n_iter": 101
         },
         {
          "learner": "SAL",
          "loss": 0.42174474462850364,
          "n_iter": 102
         },
         {
          "learner": "SAL",
          "loss": 0.42178542558203247,
          "n_iter": 103
         },
         {
          "learner": "SAL",
          "loss": 0.42182618462465116,
          "n_iter": 104
         },
         {
          "learner": "SAL",
          "loss": 0.4218483540736289,
          "n_iter": 105
         },
         {
          "learner": "SAL",
          "loss": 0.42176738960897153,
          "n_iter": 106
         },
         {
          "learner": "SAL",
          "loss": 0.42181706935695923,
          "n_iter": 107
         },
         {
          "learner": "SAL",
          "loss": 0.42174070895967924,
          "n_iter": 108
         },
         {
          "learner": "SAL",
          "loss": 0.4215653491197452,
          "n_iter": 109
         },
         {
          "learner": "SAL",
          "loss": 0.4214665216135126,
          "n_iter": 110
         },
         {
          "learner": "SAL",
          "loss": 0.4214364406491092,
          "n_iter": 111
         },
         {
          "learner": "SAL",
          "loss": 0.42139507297746576,
          "n_iter": 112
         },
         {
          "learner": "SAL",
          "loss": 0.4213555976500495,
          "n_iter": 113
         },
         {
          "learner": "SAL",
          "loss": 0.421316823751352,
          "n_iter": 114
         },
         {
          "learner": "SAL",
          "loss": 0.42126940544559843,
          "n_iter": 115
         },
         {
          "learner": "SAL",
          "loss": 0.42121066908261645,
          "n_iter": 116
         },
         {
          "learner": "SAL",
          "loss": 0.4207476682977269,
          "n_iter": 117
         },
         {
          "learner": "SAL",
          "loss": 0.42059106536866275,
          "n_iter": 118
         },
         {
          "learner": "SAL",
          "loss": 0.42061036114850126,
          "n_iter": 119
         },
         {
          "learner": "SAL",
          "loss": 0.42062313684078256,
          "n_iter": 120
         },
         {
          "learner": "SAL",
          "loss": 0.42061927291424905,
          "n_iter": 121
         },
         {
          "learner": "SAL",
          "loss": 0.4206243414095022,
          "n_iter": 122
         },
         {
          "learner": "SAL",
          "loss": 0.42079971370166874,
          "n_iter": 123
         },
         {
          "learner": "SAL",
          "loss": 0.42080710949054295,
          "n_iter": 124
         },
         {
          "learner": "SAL",
          "loss": 0.4207965610443136,
          "n_iter": 125
         },
         {
          "learner": "SAL",
          "loss": 0.42079561112573344,
          "n_iter": 126
         },
         {
          "learner": "SAL",
          "loss": 0.42078873704395536,
          "n_iter": 127
         },
         {
          "learner": "SAL",
          "loss": 0.42077954302768267,
          "n_iter": 128
         },
         {
          "learner": "SAL",
          "loss": 0.4207693362523897,
          "n_iter": 129
         },
         {
          "learner": "SAL",
          "loss": 0.4207589262098682,
          "n_iter": 130
         },
         {
          "learner": "SAL",
          "loss": 0.4207482773870532,
          "n_iter": 131
         },
         {
          "learner": "SAL",
          "loss": 0.42073777203200924,
          "n_iter": 132
         },
         {
          "learner": "SAL",
          "loss": 0.4205157178682839,
          "n_iter": 133
         },
         {
          "learner": "SAL",
          "loss": 0.4204141209515469,
          "n_iter": 134
         },
         {
          "learner": "SAL",
          "loss": 0.42033856234397243,
          "n_iter": 135
         },
         {
          "learner": "SAL",
          "loss": 0.4202973344735759,
          "n_iter": 136
         },
         {
          "learner": "SAL",
          "loss": 0.42048686808499175,
          "n_iter": 137
         },
         {
          "learner": "SAL",
          "loss": 0.4206712163849317,
          "n_iter": 138
         },
         {
          "learner": "SAL",
          "loss": 0.42093245230632853,
          "n_iter": 139
         },
         {
          "learner": "SAL",
          "loss": 0.42095415951026693,
          "n_iter": 140
         },
         {
          "learner": "SAL",
          "loss": 0.4208096350976428,
          "n_iter": 141
         },
         {
          "learner": "SAL",
          "loss": 0.4205312662775439,
          "n_iter": 142
         },
         {
          "learner": "SAL",
          "loss": 0.4202629496444454,
          "n_iter": 143
         },
         {
          "learner": "SAL",
          "loss": 0.42003740012128044,
          "n_iter": 144
         },
         {
          "learner": "SAL",
          "loss": 0.41985918698439356,
          "n_iter": 145
         },
         {
          "learner": "SAL",
          "loss": 0.41972342245044897,
          "n_iter": 146
         },
         {
          "learner": "SAL",
          "loss": 0.4196223919290919,
          "n_iter": 147
         },
         {
          "learner": "SAL",
          "loss": 0.41953043634725334,
          "n_iter": 148
         },
         {
          "learner": "SAL",
          "loss": 0.41938755457218974,
          "n_iter": 149
         },
         {
          "learner": "SAL",
          "loss": 0.419141106751951,
          "n_iter": 150
         },
         {
          "learner": "SAL",
          "loss": 0.4187052611353277,
          "n_iter": 151
         },
         {
          "learner": "SAL",
          "loss": 0.4185398046300169,
          "n_iter": 152
         },
         {
          "learner": "SAL",
          "loss": 0.41848967604464143,
          "n_iter": 153
         },
         {
          "learner": "SAL",
          "loss": 0.41846415128202463,
          "n_iter": 154
         },
         {
          "learner": "SAL",
          "loss": 0.41841942448814906,
          "n_iter": 155
         },
         {
          "learner": "SAL",
          "loss": 0.4185379654989581,
          "n_iter": 156
         },
         {
          "learner": "SAL",
          "loss": 0.41873013760167177,
          "n_iter": 157
         },
         {
          "learner": "SAL",
          "loss": 0.41886582698165775,
          "n_iter": 158
         },
         {
          "learner": "SAL",
          "loss": 0.41897574314184843,
          "n_iter": 159
         },
         {
          "learner": "SAL",
          "loss": 0.4190652295712441,
          "n_iter": 160
         },
         {
          "learner": "SAL",
          "loss": 0.4191526411207784,
          "n_iter": 161
         },
         {
          "learner": "SAL",
          "loss": 0.4192458733481111,
          "n_iter": 162
         },
         {
          "learner": "SAL",
          "loss": 0.4193474203133787,
          "n_iter": 163
         },
         {
          "learner": "SAL",
          "loss": 0.41930915987936396,
          "n_iter": 164
         },
         {
          "learner": "SAL",
          "loss": 0.4193989137529641,
          "n_iter": 165
         },
         {
          "learner": "SAL",
          "loss": 0.41956212782311986,
          "n_iter": 166
         },
         {
          "learner": "SAL",
          "loss": 0.41970739866326795,
          "n_iter": 167
         },
         {
          "learner": "SAL",
          "loss": 0.4198127431860656,
          "n_iter": 168
         },
         {
          "learner": "SAL",
          "loss": 0.4198828239541205,
          "n_iter": 169
         },
         {
          "learner": "SAL",
          "loss": 0.4195711035123519,
          "n_iter": 170
         },
         {
          "learner": "SAL",
          "loss": 0.41930448514723595,
          "n_iter": 171
         },
         {
          "learner": "SAL",
          "loss": 0.4191536043139065,
          "n_iter": 172
         },
         {
          "learner": "SAL",
          "loss": 0.4190491551411335,
          "n_iter": 173
         },
         {
          "learner": "SAL",
          "loss": 0.4189650441563876,
          "n_iter": 174
         },
         {
          "learner": "SAL",
          "loss": 0.41888933436263237,
          "n_iter": 175
         },
         {
          "learner": "SAL",
          "loss": 0.418628816207177,
          "n_iter": 176
         },
         {
          "learner": "SAL",
          "loss": 0.41840535556504266,
          "n_iter": 177
         },
         {
          "learner": "SAL",
          "loss": 0.418374805548811,
          "n_iter": 178
         },
         {
          "learner": "SAL",
          "loss": 0.4183024943353375,
          "n_iter": 179
         },
         {
          "learner": "SAL",
          "loss": 0.4182821889492565,
          "n_iter": 180
         },
         {
          "learner": "SAL",
          "loss": 0.4182530106773205,
          "n_iter": 181
         },
         {
          "learner": "SAL",
          "loss": 0.41823086413246713,
          "n_iter": 182
         },
         {
          "learner": "SAL",
          "loss": 0.41821649548218054,
          "n_iter": 183
         },
         {
          "learner": "SAL",
          "loss": 0.4182165648622661,
          "n_iter": 184
         },
         {
          "learner": "SAL",
          "loss": 0.4182200798612483,
          "n_iter": 185
         },
         {
          "learner": "SAL",
          "loss": 0.4182693769526745,
          "n_iter": 186
         },
         {
          "learner": "SAL",
          "loss": 0.41829332716438467,
          "n_iter": 187
         },
         {
          "learner": "SAL",
          "loss": 0.4182814186097398,
          "n_iter": 188
         },
         {
          "learner": "SAL",
          "loss": 0.4182621252201005,
          "n_iter": 189
         },
         {
          "learner": "SAL",
          "loss": 0.41824720890024375,
          "n_iter": 190
         },
         {
          "learner": "SAL",
          "loss": 0.4182384144864294,
          "n_iter": 191
         },
         {
          "learner": "SAL",
          "loss": 0.41823721456823937,
          "n_iter": 192
         },
         {
          "learner": "SAL",
          "loss": 0.4182454643028794,
          "n_iter": 193
         },
         {
          "learner": "SAL",
          "loss": 0.4182620235256868,
          "n_iter": 194
         },
         {
          "learner": "SAL",
          "loss": 0.41829452596171,
          "n_iter": 195
         },
         {
          "learner": "SAL",
          "loss": 0.4183391258013671,
          "n_iter": 196
         },
         {
          "learner": "SAL",
          "loss": 0.41838472942432425,
          "n_iter": 197
         },
         {
          "learner": "SAL",
          "loss": 0.4188654011142171,
          "n_iter": 198
         },
         {
          "learner": "SAL",
          "loss": 0.4192630546416926,
          "n_iter": 199
         },
         {
          "learner": "SAL",
          "loss": 0.4195572360121396,
          "n_iter": 200
         },
         {
          "learner": "SAL",
          "loss": 0.41978646742641024,
          "n_iter": 201
         },
         {
          "learner": "SAL",
          "loss": 0.4199342613295972,
          "n_iter": 202
         },
         {
          "learner": "SAL",
          "loss": 0.42003951852459415,
          "n_iter": 203
         },
         {
          "learner": "SAL",
          "loss": 0.4201185138852061,
          "n_iter": 204
         },
         {
          "learner": "SAL",
          "loss": 0.4201895834808951,
          "n_iter": 205
         },
         {
          "learner": "SAL",
          "loss": 0.4202256630703166,
          "n_iter": 206
         },
         {
          "learner": "SAL",
          "loss": 0.42024751566926355,
          "n_iter": 207
         },
         {
          "learner": "SAL",
          "loss": 0.4202633153004129,
          "n_iter": 208
         },
         {
          "learner": "SAL",
          "loss": 0.4202764326343953,
          "n_iter": 209
         },
         {
          "learner": "SAL",
          "loss": 0.42028876532432186,
          "n_iter": 210
         },
         {
          "learner": "SAL",
          "loss": 0.42030343008142834,
          "n_iter": 211
         },
         {
          "learner": "SAL",
          "loss": 0.42032194531148565,
          "n_iter": 212
         },
         {
          "learner": "SAL",
          "loss": 0.4203441868403579,
          "n_iter": 213
         },
         {
          "learner": "SAL",
          "loss": 0.4203669128977088,
          "n_iter": 214
         },
         {
          "learner": "SAL",
          "loss": 0.42038770336125014,
          "n_iter": 215
         },
         {
          "learner": "SAL",
          "loss": 0.4204073989287388,
          "n_iter": 216
         },
         {
          "learner": "SAL",
          "loss": 0.42042597186676745,
          "n_iter": 217
         },
         {
          "learner": "SAL",
          "loss": 0.42044312703082715,
          "n_iter": 218
         },
         {
          "learner": "SAL",
          "loss": 0.42045849349384845,
          "n_iter": 219
         },
         {
          "learner": "SAL",
          "loss": 0.42047170881208273,
          "n_iter": 220
         },
         {
          "learner": "SAL",
          "loss": 0.42048246013823287,
          "n_iter": 221
         },
         {
          "learner": "SAL",
          "loss": 0.42049050348170736,
          "n_iter": 222
         },
         {
          "learner": "SAL",
          "loss": 0.42049793490380166,
          "n_iter": 223
         },
         {
          "learner": "SAL",
          "loss": 0.4205035523144202,
          "n_iter": 224
         },
         {
          "learner": "SAL",
          "loss": 0.42050022181130464,
          "n_iter": 225
         },
         {
          "learner": "SAL",
          "loss": 0.4204825689686594,
          "n_iter": 226
         },
         {
          "learner": "SAL",
          "loss": 0.4204597733124047,
          "n_iter": 227
         },
         {
          "learner": "SAL",
          "loss": 0.4204331731170228,
          "n_iter": 228
         },
         {
          "learner": "SAL",
          "loss": 0.42040216695714383,
          "n_iter": 229
         },
         {
          "learner": "SAL",
          "loss": 0.42036651690529164,
          "n_iter": 230
         },
         {
          "learner": "SAL",
          "loss": 0.42032838831506575,
          "n_iter": 231
         },
         {
          "learner": "SAL",
          "loss": 0.42001388026728975,
          "n_iter": 232
         },
         {
          "learner": "SAL",
          "loss": 0.4197980665541061,
          "n_iter": 233
         },
         {
          "learner": "SAL",
          "loss": 0.4196155494909006,
          "n_iter": 234
         },
         {
          "learner": "SAL",
          "loss": 0.4194493578827527,
          "n_iter": 235
         },
         {
          "learner": "SAL",
          "loss": 0.4192949083086409,
          "n_iter": 236
         },
         {
          "learner": "SAL",
          "loss": 0.41911104247290376,
          "n_iter": 237
         },
         {
          "learner": "SAL",
          "loss": 0.4189339093268793,
          "n_iter": 238
         },
         {
          "learner": "SAL",
          "loss": 0.418765303315678,
          "n_iter": 239
         },
         {
          "learner": "SAL",
          "loss": 0.4186068610236011,
          "n_iter": 240
         },
         {
          "learner": "SAL",
          "loss": 0.41845914859367284,
          "n_iter": 241
         },
         {
          "learner": "SAL",
          "loss": 0.4183220552303345,
          "n_iter": 242
         },
         {
          "learner": "SAL",
          "loss": 0.4181951388600458,
          "n_iter": 243
         },
         {
          "learner": "SAL",
          "loss": 0.4180808725493745,
          "n_iter": 244
         },
         {
          "learner": "SAL",
          "loss": 0.41798414357482344,
          "n_iter": 245
         },
         {
          "learner": "SAL",
          "loss": 0.4178965653834287,
          "n_iter": 246
         },
         {
          "learner": "SAL",
          "loss": 0.4180728739783881,
          "n_iter": 247
         },
         {
          "learner": "SAL",
          "loss": 0.4182049732689767,
          "n_iter": 248
         },
         {
          "learner": "SAL",
          "loss": 0.41839752003028885,
          "n_iter": 249
         },
         {
          "learner": "SAL",
          "loss": 0.41845025728138147,
          "n_iter": 250
         },
         {
          "learner": "SAL",
          "loss": 0.418505025557971,
          "n_iter": 251
         },
         {
          "learner": "SAL",
          "loss": 0.4184814838804837,
          "n_iter": 252
         },
         {
          "learner": "SAL",
          "loss": 0.41841145251940587,
          "n_iter": 253
         },
         {
          "learner": "SAL",
          "loss": 0.41838100068993833,
          "n_iter": 254
         },
         {
          "learner": "SAL",
          "loss": 0.4183622900454305,
          "n_iter": 255
         },
         {
          "learner": "SAL",
          "loss": 0.4183355953191494,
          "n_iter": 256
         },
         {
          "learner": "SAL",
          "loss": 0.4182949647396773,
          "n_iter": 257
         },
         {
          "learner": "SAL",
          "loss": 0.4182638204289625,
          "n_iter": 258
         },
         {
          "learner": "SAL",
          "loss": 0.4182307117778594,
          "n_iter": 259
         },
         {
          "learner": "SAL",
          "loss": 0.4176189369637255,
          "n_iter": 260
         },
         {
          "learner": "SAL",
          "loss": 0.41704260559704304,
          "n_iter": 261
         },
         {
          "learner": "SAL",
          "loss": 0.4169859828177737,
          "n_iter": 262
         },
         {
          "learner": "SAL",
          "loss": 0.41697395198115034,
          "n_iter": 263
         },
         {
          "learner": "SAL",
          "loss": 0.4169110248238389,
          "n_iter": 264
         },
         {
          "learner": "SAL",
          "loss": 0.41688570321714313,
          "n_iter": 265
         },
         {
          "learner": "SAL",
          "loss": 0.41561709731222785,
          "n_iter": 266
         },
         {
          "learner": "SAL",
          "loss": 0.4150145745911836,
          "n_iter": 267
         },
         {
          "learner": "SAL",
          "loss": 0.4149125247699702,
          "n_iter": 268
         },
         {
          "learner": "SAL",
          "loss": 0.4149725641164659,
          "n_iter": 269
         },
         {
          "learner": "SAL",
          "loss": 0.41473771905664586,
          "n_iter": 270
         },
         {
          "learner": "SAL",
          "loss": 0.4144613245883894,
          "n_iter": 271
         },
         {
          "learner": "SAL",
          "loss": 0.4141858947669531,
          "n_iter": 272
         },
         {
          "learner": "SAL",
          "loss": 0.4139879350193813,
          "n_iter": 273
         },
         {
          "learner": "SAL",
          "loss": 0.41394800389307684,
          "n_iter": 274
         },
         {
          "learner": "SAL",
          "loss": 0.4140157571476002,
          "n_iter": 275
         },
         {
          "learner": "SAL",
          "loss": 0.414132662516699,
          "n_iter": 276
         },
         {
          "learner": "SAL",
          "loss": 0.414287171490335,
          "n_iter": 277
         },
         {
          "learner": "SAL",
          "loss": 0.41442193873414923,
          "n_iter": 278
         },
         {
          "learner": "SAL",
          "loss": 0.4145331998599019,
          "n_iter": 279
         },
         {
          "learner": "SAL",
          "loss": 0.41461761209608095,
          "n_iter": 280
         },
         {
          "learner": "SAL",
          "loss": 0.4146833942244034,
          "n_iter": 281
         },
         {
          "learner": "SAL",
          "loss": 0.41474351400795173,
          "n_iter": 282
         },
         {
          "learner": "SAL",
          "loss": 0.41480640430646126,
          "n_iter": 283
         },
         {
          "learner": "SAL",
          "loss": 0.41485458383689755,
          "n_iter": 284
         },
         {
          "learner": "SAL",
          "loss": 0.4148986348373753,
          "n_iter": 285
         },
         {
          "learner": "SAL",
          "loss": 0.4149417598335656,
          "n_iter": 286
         },
         {
          "learner": "SAL",
          "loss": 0.4149969301977391,
          "n_iter": 287
         },
         {
          "learner": "SAL",
          "loss": 0.41506472251555304,
          "n_iter": 288
         },
         {
          "learner": "SAL",
          "loss": 0.415130754168039,
          "n_iter": 289
         },
         {
          "learner": "SAL",
          "loss": 0.41519636230139556,
          "n_iter": 290
         },
         {
          "learner": "SAL",
          "loss": 0.4153559589028201,
          "n_iter": 291
         },
         {
          "learner": "SAL",
          "loss": 0.415547668924887,
          "n_iter": 292
         },
         {
          "learner": "SAL",
          "loss": 0.41571380678423575,
          "n_iter": 293
         },
         {
          "learner": "SAL",
          "loss": 0.4159687931741164,
          "n_iter": 294
         },
         {
          "learner": "SAL",
          "loss": 0.4158945077812807,
          "n_iter": 295
         },
         {
          "learner": "SAL",
          "loss": 0.41573555403277784,
          "n_iter": 296
         },
         {
          "learner": "SAL",
          "loss": 0.4154614552754016,
          "n_iter": 297
         },
         {
          "learner": "SAL",
          "loss": 0.41529643060440974,
          "n_iter": 298
         },
         {
          "learner": "SAL",
          "loss": 0.41518070398504947,
          "n_iter": 299
         },
         {
          "learner": "SAL",
          "loss": 0.41510506474392206,
          "n_iter": 300
         },
         {
          "learner": "SAL",
          "loss": 0.4151743035539475,
          "n_iter": 301
         },
         {
          "learner": "SAL",
          "loss": 0.4155630038002209,
          "n_iter": 302
         },
         {
          "learner": "SAL",
          "loss": 0.41581502183921304,
          "n_iter": 303
         },
         {
          "learner": "SAL",
          "loss": 0.4159505967054292,
          "n_iter": 304
         },
         {
          "learner": "SAL",
          "loss": 0.4160123033901521,
          "n_iter": 305
         },
         {
          "learner": "SAL",
          "loss": 0.4160242527727618,
          "n_iter": 306
         },
         {
          "learner": "SAL",
          "loss": 0.41600612151313276,
          "n_iter": 307
         },
         {
          "learner": "SAL",
          "loss": 0.4159623797008375,
          "n_iter": 308
         },
         {
          "learner": "SAL",
          "loss": 0.41590139916894264,
          "n_iter": 309
         },
         {
          "learner": "SAL",
          "loss": 0.4158291986038383,
          "n_iter": 310
         },
         {
          "learner": "SAL",
          "loss": 0.41575246602458776,
          "n_iter": 311
         },
         {
          "learner": "SAL",
          "loss": 0.415673590538189,
          "n_iter": 312
         },
         {
          "learner": "SAL",
          "loss": 0.4155933623059412,
          "n_iter": 313
         },
         {
          "learner": "SAL",
          "loss": 0.4155124743848448,
          "n_iter": 314
         },
         {
          "learner": "SAL",
          "loss": 0.4154315110998318,
          "n_iter": 315
         },
         {
          "learner": "SAL",
          "loss": 0.41535120885943505,
          "n_iter": 316
         },
         {
          "learner": "SAL",
          "loss": 0.4154772878894837,
          "n_iter": 317
         },
         {
          "learner": "SAL",
          "loss": 0.4155780248704179,
          "n_iter": 318
         },
         {
          "learner": "SAL",
          "loss": 0.4156227088048628,
          "n_iter": 319
         },
         {
          "learner": "SAL",
          "loss": 0.41556671388035205,
          "n_iter": 320
         },
         {
          "learner": "SAL",
          "loss": 0.41559285300051974,
          "n_iter": 321
         },
         {
          "learner": "SAL",
          "loss": 0.41558968551818226,
          "n_iter": 322
         },
         {
          "learner": "SAL",
          "loss": 0.4155617955115804,
          "n_iter": 323
         },
         {
          "learner": "SAL",
          "loss": 0.4155189039940903,
          "n_iter": 324
         },
         {
          "learner": "SAL",
          "loss": 0.41546766654968914,
          "n_iter": 325
         },
         {
          "learner": "SAL",
          "loss": 0.41541023480259914,
          "n_iter": 326
         },
         {
          "learner": "SAL",
          "loss": 0.4153486509144581,
          "n_iter": 327
         },
         {
          "learner": "SAL",
          "loss": 0.4153828893551812,
          "n_iter": 328
         },
         {
          "learner": "SAL",
          "loss": 0.41517286622938065,
          "n_iter": 329
         },
         {
          "learner": "SAL",
          "loss": 0.4149687410778708,
          "n_iter": 330
         },
         {
          "learner": "SAL",
          "loss": 0.41479484674391864,
          "n_iter": 331
         },
         {
          "learner": "SAL",
          "loss": 0.41467682079567814,
          "n_iter": 332
         },
         {
          "learner": "SAL",
          "loss": 0.41455220186574593,
          "n_iter": 333
         },
         {
          "learner": "SAL",
          "loss": 0.41444409159023415,
          "n_iter": 334
         },
         {
          "learner": "SAL",
          "loss": 0.41434800706063046,
          "n_iter": 335
         },
         {
          "learner": "SAL",
          "loss": 0.41423855889563216,
          "n_iter": 336
         },
         {
          "learner": "SAL",
          "loss": 0.4141436291317286,
          "n_iter": 337
         },
         {
          "learner": "SAL",
          "loss": 0.4140608810451233,
          "n_iter": 338
         },
         {
          "learner": "SAL",
          "loss": 0.41399022088961657,
          "n_iter": 339
         },
         {
          "learner": "SAL",
          "loss": 0.413910820296165,
          "n_iter": 340
         },
         {
          "learner": "SAL",
          "loss": 0.4138432037867404,
          "n_iter": 341
         },
         {
          "learner": "SAL",
          "loss": 0.41378186274928674,
          "n_iter": 342
         },
         {
          "learner": "SAL",
          "loss": 0.41372486708661316,
          "n_iter": 343
         },
         {
          "learner": "SAL",
          "loss": 0.41367181555908594,
          "n_iter": 344
         },
         {
          "learner": "SAL",
          "loss": 0.41362259945471314,
          "n_iter": 345
         },
         {
          "learner": "SAL",
          "loss": 0.4135771421067904,
          "n_iter": 346
         },
         {
          "learner": "SAL",
          "loss": 0.41353776945333764,
          "n_iter": 347
         },
         {
          "learner": "SAL",
          "loss": 0.4134675102174453,
          "n_iter": 348
         },
         {
          "learner": "SAL",
          "loss": 0.4138448260142507,
          "n_iter": 349
         },
         {
          "learner": "SAL",
          "loss": 0.41407084477843986,
          "n_iter": 350
         },
         {
          "learner": "SAL",
          "loss": 0.4142965258407694,
          "n_iter": 351
         },
         {
          "learner": "SAL",
          "loss": 0.41451905884379386,
          "n_iter": 352
         },
         {
          "learner": "SAL",
          "loss": 0.4147445376661276,
          "n_iter": 353
         },
         {
          "learner": "SAL",
          "loss": 0.4149605096692499,
          "n_iter": 354
         },
         {
          "learner": "SAL",
          "loss": 0.415161628959767,
          "n_iter": 355
         },
         {
          "learner": "SAL",
          "loss": 0.41542695623563153,
          "n_iter": 356
         },
         {
          "learner": "SAL",
          "loss": 0.41565169896851584,
          "n_iter": 357
         },
         {
          "learner": "SAL",
          "loss": 0.4158599322992535,
          "n_iter": 358
         },
         {
          "learner": "SAL",
          "loss": 0.41639633193103104,
          "n_iter": 359
         },
         {
          "learner": "SAL",
          "loss": 0.4168669656932827,
          "n_iter": 360
         },
         {
          "learner": "SAL",
          "loss": 0.4172372474489243,
          "n_iter": 361
         },
         {
          "learner": "SAL",
          "loss": 0.4175151586090806,
          "n_iter": 362
         },
         {
          "learner": "SAL",
          "loss": 0.41775107922572874,
          "n_iter": 363
         },
         {
          "learner": "SAL",
          "loss": 0.4179323813809226,
          "n_iter": 364
         },
         {
          "learner": "SAL",
          "loss": 0.41807197802412044,
          "n_iter": 365
         },
         {
          "learner": "SAL",
          "loss": 0.4181879535420766,
          "n_iter": 366
         },
         {
          "learner": "SAL",
          "loss": 0.41828799379455744,
          "n_iter": 367
         },
         {
          "learner": "SAL",
          "loss": 0.4183600072433722,
          "n_iter": 368
         },
         {
          "learner": "SAL",
          "loss": 0.41842557236265904,
          "n_iter": 369
         },
         {
          "learner": "SAL",
          "loss": 0.4184724115119991,
          "n_iter": 370
         },
         {
          "learner": "SAL",
          "loss": 0.4185279817304663,
          "n_iter": 371
         },
         {
          "learner": "SAL",
          "loss": 0.4185806000490533,
          "n_iter": 372
         },
         {
          "learner": "SAL",
          "loss": 0.418478682339933,
          "n_iter": 373
         },
         {
          "learner": "SAL",
          "loss": 0.4184064641507482,
          "n_iter": 374
         },
         {
          "learner": "SAL",
          "loss": 0.41835752907347684,
          "n_iter": 375
         },
         {
          "learner": "SAL",
          "loss": 0.4183249140942057,
          "n_iter": 376
         },
         {
          "learner": "SAL",
          "loss": 0.4183119482555974,
          "n_iter": 377
         },
         {
          "learner": "SAL",
          "loss": 0.41869671771276623,
          "n_iter": 378
         },
         {
          "learner": "SAL",
          "loss": 0.418983065814533,
          "n_iter": 379
         },
         {
          "learner": "SAL",
          "loss": 0.4191238698891579,
          "n_iter": 380
         },
         {
          "learner": "SAL",
          "loss": 0.41917861219746777,
          "n_iter": 381
         },
         {
          "learner": "SAL",
          "loss": 0.41918806703297207,
          "n_iter": 382
         },
         {
          "learner": "SAL",
          "loss": 0.4191736495849213,
          "n_iter": 383
         },
         {
          "learner": "SAL",
          "loss": 0.41914596459947584,
          "n_iter": 384
         },
         {
          "learner": "SAL",
          "loss": 0.41910259758271207,
          "n_iter": 385
         },
         {
          "learner": "SAL",
          "loss": 0.4190521901570284,
          "n_iter": 386
         },
         {
          "learner": "SAL",
          "loss": 0.41899676356760324,
          "n_iter": 387
         },
         {
          "learner": "SAL",
          "loss": 0.4181168549667605,
          "n_iter": 388
         },
         {
          "learner": "SAL",
          "loss": 0.41763893568380567,
          "n_iter": 389
         },
         {
          "learner": "SAL",
          "loss": 0.41570750293334513,
          "n_iter": 390
         },
         {
          "learner": "SAL",
          "loss": 0.4153282345873761,
          "n_iter": 391
         },
         {
          "learner": "SAL",
          "loss": 0.4150823880842044,
          "n_iter": 392
         },
         {
          "learner": "SAL",
          "loss": 0.4149100061339337,
          "n_iter": 393
         },
         {
          "learner": "SAL",
          "loss": 0.41478077071511754,
          "n_iter": 394
         },
         {
          "learner": "SAL",
          "loss": 0.4146854003671983,
          "n_iter": 395
         },
         {
          "learner": "SAL",
          "loss": 0.4160155586907369,
          "n_iter": 396
         },
         {
          "learner": "SAL",
          "loss": 0.4169435072263334,
          "n_iter": 397
         },
         {
          "learner": "SAL",
          "loss": 0.41738083343302707,
          "n_iter": 398
         },
         {
          "learner": "SAL",
          "loss": 0.41740989995028194,
          "n_iter": 399
         },
         {
          "learner": "SAL",
          "loss": 0.4172650434078933,
          "n_iter": 400
         },
         {
          "learner": "SAL",
          "loss": 0.416999354476469,
          "n_iter": 401
         },
         {
          "learner": "SAL",
          "loss": 0.4167951059613629,
          "n_iter": 402
         },
         {
          "learner": "SAL",
          "loss": 0.4166405708227133,
          "n_iter": 403
         },
         {
          "learner": "SAL",
          "loss": 0.41652486017072954,
          "n_iter": 404
         },
         {
          "learner": "SAL",
          "loss": 0.4164431119407559,
          "n_iter": 405
         },
         {
          "learner": "SAL",
          "loss": 0.4164191255950553,
          "n_iter": 406
         },
         {
          "learner": "SAL",
          "loss": 0.41646676608883687,
          "n_iter": 407
         },
         {
          "learner": "SAL",
          "loss": 0.41632645861367545,
          "n_iter": 408
         },
         {
          "learner": "SAL",
          "loss": 0.41617789468318267,
          "n_iter": 409
         },
         {
          "learner": "SAL",
          "loss": 0.41604533436593305,
          "n_iter": 410
         },
         {
          "learner": "SAL",
          "loss": 0.4159417743584388,
          "n_iter": 411
         },
         {
          "learner": "SAL",
          "loss": 0.41596599754753294,
          "n_iter": 412
         },
         {
          "learner": "SAL",
          "loss": 0.41597057985554836,
          "n_iter": 413
         },
         {
          "learner": "SAL",
          "loss": 0.415928857886535,
          "n_iter": 414
         },
         {
          "learner": "SAL",
          "loss": 0.4158635725691274,
          "n_iter": 415
         },
         {
          "learner": "SAL",
          "loss": 0.4157989352642863,
          "n_iter": 416
         },
         {
          "learner": "SAL",
          "loss": 0.4157863807748494,
          "n_iter": 417
         },
         {
          "learner": "SAL",
          "loss": 0.41576024857653054,
          "n_iter": 418
         },
         {
          "learner": "SAL",
          "loss": 0.41571613682980235,
          "n_iter": 419
         },
         {
          "learner": "SAL",
          "loss": 0.4156940458881907,
          "n_iter": 420
         },
         {
          "learner": "SAL",
          "loss": 0.41565832957419013,
          "n_iter": 421
         },
         {
          "learner": "SAL",
          "loss": 0.4155955507729635,
          "n_iter": 422
         },
         {
          "learner": "SAL",
          "loss": 0.4155230855349146,
          "n_iter": 423
         },
         {
          "learner": "SAL",
          "loss": 0.41547118835957897,
          "n_iter": 424
         },
         {
          "learner": "SAL",
          "loss": 0.41559085664036294,
          "n_iter": 425
         },
         {
          "learner": "SAL",
          "loss": 0.4156754885257752,
          "n_iter": 426
         },
         {
          "learner": "SAL",
          "loss": 0.4157162035695389,
          "n_iter": 427
         },
         {
          "learner": "SAL",
          "loss": 0.4157516238254491,
          "n_iter": 428
         },
         {
          "learner": "SAL",
          "loss": 0.4157758948213781,
          "n_iter": 429
         },
         {
          "learner": "SAL",
          "loss": 0.4157914236880764,
          "n_iter": 430
         },
         {
          "learner": "SAL",
          "loss": 0.415854040796373,
          "n_iter": 431
         },
         {
          "learner": "SAL",
          "loss": 0.41591975468264886,
          "n_iter": 432
         },
         {
          "learner": "SAL",
          "loss": 0.41597106112970567,
          "n_iter": 433
         },
         {
          "learner": "SAL",
          "loss": 0.41601791489518464,
          "n_iter": 434
         },
         {
          "learner": "SAL",
          "loss": 0.4160585632699835,
          "n_iter": 435
         },
         {
          "learner": "SAL",
          "loss": 0.41609432393409385,
          "n_iter": 436
         },
         {
          "learner": "SAL",
          "loss": 0.41612695831339563,
          "n_iter": 437
         },
         {
          "learner": "SAL",
          "loss": 0.416153808199246,
          "n_iter": 438
         },
         {
          "learner": "SAL",
          "loss": 0.4161817895934707,
          "n_iter": 439
         },
         {
          "learner": "SAL",
          "loss": 0.41621379396872804,
          "n_iter": 440
         },
         {
          "learner": "SAL",
          "loss": 0.41625483203015123,
          "n_iter": 441
         },
         {
          "learner": "SAL",
          "loss": 0.41630703063756824,
          "n_iter": 442
         },
         {
          "learner": "SAL",
          "loss": 0.41635362779507884,
          "n_iter": 443
         },
         {
          "learner": "SAL",
          "loss": 0.41640687516334635,
          "n_iter": 444
         },
         {
          "learner": "SAL",
          "loss": 0.41646079699382826,
          "n_iter": 445
         },
         {
          "learner": "SAL",
          "loss": 0.4165180798218895,
          "n_iter": 446
         },
         {
          "learner": "SAL",
          "loss": 0.41657860035932714,
          "n_iter": 447
         },
         {
          "learner": "SAL",
          "loss": 0.4166786111554341,
          "n_iter": 448
         },
         {
          "learner": "SAL",
          "loss": 0.4167682256064317,
          "n_iter": 449
         },
         {
          "learner": "SAL",
          "loss": 0.4168400530226853,
          "n_iter": 450
         },
         {
          "learner": "SAL",
          "loss": 0.41690968696245123,
          "n_iter": 451
         },
         {
          "learner": "SAL",
          "loss": 0.4169887529959248,
          "n_iter": 452
         },
         {
          "learner": "SAL",
          "loss": 0.417035405335831,
          "n_iter": 453
         },
         {
          "learner": "SAL",
          "loss": 0.4169948022626327,
          "n_iter": 454
         },
         {
          "learner": "SAL",
          "loss": 0.41697722944634735,
          "n_iter": 455
         },
         {
          "learner": "SAL",
          "loss": 0.41696308596032416,
          "n_iter": 456
         },
         {
          "learner": "SAL",
          "loss": 0.41695169927579073,
          "n_iter": 457
         },
         {
          "learner": "SAL",
          "loss": 0.4169448198765775,
          "n_iter": 458
         },
         {
          "learner": "SAL",
          "loss": 0.4168119428284202,
          "n_iter": 459
         },
         {
          "learner": "SAL",
          "loss": 0.41668340961097305,
          "n_iter": 460
         },
         {
          "learner": "SAL",
          "loss": 0.4165320001125219,
          "n_iter": 461
         },
         {
          "learner": "SAL",
          "loss": 0.41637130093314356,
          "n_iter": 462
         },
         {
          "learner": "SAL",
          "loss": 0.416213465707742,
          "n_iter": 463
         },
         {
          "learner": "SAL",
          "loss": 0.4161106624763557,
          "n_iter": 464
         },
         {
          "learner": "SAL",
          "loss": 0.41605387612098843,
          "n_iter": 465
         },
         {
          "learner": "SAL",
          "loss": 0.41603955701678436,
          "n_iter": 466
         },
         {
          "learner": "SAL",
          "loss": 0.4160623893931659,
          "n_iter": 467
         },
         {
          "learner": "SAL",
          "loss": 0.4161259643136026,
          "n_iter": 468
         },
         {
          "learner": "SAL",
          "loss": 0.4161610554929812,
          "n_iter": 469
         },
         {
          "learner": "SAL",
          "loss": 0.4162674820743717,
          "n_iter": 470
         },
         {
          "learner": "SAL",
          "loss": 0.41642843382045297,
          "n_iter": 471
         },
         {
          "learner": "SAL",
          "loss": 0.4165973485839959,
          "n_iter": 472
         },
         {
          "learner": "SAL",
          "loss": 0.4167641802555505,
          "n_iter": 473
         },
         {
          "learner": "SAL",
          "loss": 0.4169383415409675,
          "n_iter": 474
         },
         {
          "learner": "SAL",
          "loss": 0.4171083836496383,
          "n_iter": 475
         },
         {
          "learner": "SAL",
          "loss": 0.4172846823174703,
          "n_iter": 476
         },
         {
          "learner": "SAL",
          "loss": 0.4174768943593501,
          "n_iter": 477
         },
         {
          "learner": "SAL",
          "loss": 0.417654823924542,
          "n_iter": 478
         },
         {
          "learner": "SAL",
          "loss": 0.417820455817106,
          "n_iter": 479
         },
         {
          "learner": "SAL",
          "loss": 0.41801316935933025,
          "n_iter": 480
         },
         {
          "learner": "SAL",
          "loss": 0.4182126828001407,
          "n_iter": 481
         },
         {
          "learner": "SAL",
          "loss": 0.4184111154953162,
          "n_iter": 482
         },
         {
          "learner": "SAL",
          "loss": 0.4186052227533579,
          "n_iter": 483
         },
         {
          "learner": "SAL",
          "loss": 0.41879282944994733,
          "n_iter": 484
         },
         {
          "learner": "SAL",
          "loss": 0.4189725796996397,
          "n_iter": 485
         },
         {
          "learner": "SAL",
          "loss": 0.4191314889306947,
          "n_iter": 486
         },
         {
          "learner": "SAL",
          "loss": 0.4192643389921611,
          "n_iter": 487
         },
         {
          "learner": "SAL",
          "loss": 0.41940190202776806,
          "n_iter": 488
         },
         {
          "learner": "SAL",
          "loss": 0.41953908310580734,
          "n_iter": 489
         },
         {
          "learner": "SAL",
          "loss": 0.41967276829095473,
          "n_iter": 490
         },
         {
          "learner": "SAL",
          "loss": 0.41979819093245263,
          "n_iter": 491
         },
         {
          "learner": "SAL",
          "loss": 0.4199146439160494,
          "n_iter": 492
         },
         {
          "learner": "SAL",
          "loss": 0.4200210468026425,
          "n_iter": 493
         },
         {
          "learner": "SAL",
          "loss": 0.4201091422852968,
          "n_iter": 494
         },
         {
          "learner": "SAL",
          "loss": 0.4201870794312619,
          "n_iter": 495
         },
         {
          "learner": "SAL",
          "loss": 0.42025613391499644,
          "n_iter": 496
         },
         {
          "learner": "SAL",
          "loss": 0.4203167446930412,
          "n_iter": 497
         },
         {
          "learner": "SAL",
          "loss": 0.42036928930423195,
          "n_iter": 498
         },
         {
          "learner": "SAL",
          "loss": 0.4204141960248398,
          "n_iter": 499
         },
         {
          "learner": "SAL",
          "loss": 0.4204519349208578,
          "n_iter": 500
         },
         {
          "learner": "SAL",
          "loss": 0.4204835895524955,
          "n_iter": 501
         },
         {
          "learner": "SAL",
          "loss": 0.4205105799772961,
          "n_iter": 502
         },
         {
          "learner": "SAL",
          "loss": 0.42053260257881603,
          "n_iter": 503
         },
         {
          "learner": "SAL",
          "loss": 0.4205497514182286,
          "n_iter": 504
         },
         {
          "learner": "SAL",
          "loss": 0.42056221843892994,
          "n_iter": 505
         },
         {
          "learner": "SAL",
          "loss": 0.4205702530480569,
          "n_iter": 506
         },
         {
          "learner": "SAL",
          "loss": 0.42057413754506956,
          "n_iter": 507
         },
         {
          "learner": "SAL",
          "loss": 0.42057416641546574,
          "n_iter": 508
         },
         {
          "learner": "SAL",
          "loss": 0.4205706310656872,
          "n_iter": 509
         },
         {
          "learner": "SAL",
          "loss": 0.42056380957902384,
          "n_iter": 510
         },
         {
          "learner": "SAL",
          "loss": 0.4205539603611267,
          "n_iter": 511
         },
         {
          "learner": "SAL",
          "loss": 0.4205413185862447,
          "n_iter": 512
         },
         {
          "learner": "SAL",
          "loss": 0.42052609459998613,
          "n_iter": 513
         },
         {
          "learner": "SAL",
          "loss": 0.4205084736739806,
          "n_iter": 514
         },
         {
          "learner": "SAL",
          "loss": 0.4204886166903878,
          "n_iter": 515
         },
         {
          "learner": "SAL",
          "loss": 0.4204666614612302,
          "n_iter": 516
         },
         {
          "learner": "SAL",
          "loss": 0.4204427244729424,
          "n_iter": 517
         },
         {
          "learner": "SAL",
          "loss": 0.4204169029036441,
          "n_iter": 518
         },
         {
          "learner": "SAL",
          "loss": 0.4203892767992925,
          "n_iter": 519
         },
         {
          "learner": "SAL",
          "loss": 0.4203599113217422,
          "n_iter": 520
         },
         {
          "learner": "SAL",
          "loss": 0.4203288590011129,
          "n_iter": 521
         },
         {
          "learner": "SAL",
          "loss": 0.42029616193949776,
          "n_iter": 522
         },
         {
          "learner": "SAL",
          "loss": 0.42026185392456256,
          "n_iter": 523
         },
         {
          "learner": "SAL",
          "loss": 0.4202259624210646,
          "n_iter": 524
         },
         {
          "learner": "SAL",
          "loss": 0.42018851041631733,
          "n_iter": 525
         },
         {
          "learner": "SAL",
          "loss": 0.4201487189066537,
          "n_iter": 526
         },
         {
          "learner": "SAL",
          "loss": 0.42010711013680313,
          "n_iter": 527
         },
         {
          "learner": "SAL",
          "loss": 0.42006456400466435,
          "n_iter": 528
         },
         {
          "learner": "SAL",
          "loss": 0.4200212213381704,
          "n_iter": 529
         },
         {
          "learner": "SAL",
          "loss": 0.4199770380045503,
          "n_iter": 530
         },
         {
          "learner": "SAL",
          "loss": 0.4199319666047092,
          "n_iter": 531
         },
         {
          "learner": "SAL",
          "loss": 0.41988596075752177,
          "n_iter": 532
         },
         {
          "learner": "SAL",
          "loss": 0.41983897559510125,
          "n_iter": 533
         },
         {
          "learner": "SAL",
          "loss": 0.41979097136050636,
          "n_iter": 534
         },
         {
          "learner": "SAL",
          "loss": 0.4197413124729599,
          "n_iter": 535
         },
         {
          "learner": "SAL",
          "loss": 0.4196901657190198,
          "n_iter": 536
         },
         {
          "learner": "SAL",
          "loss": 0.41963767955150183,
          "n_iter": 537
         },
         {
          "learner": "SAL",
          "loss": 0.41958397218884663,
          "n_iter": 538
         },
         {
          "learner": "SAL",
          "loss": 0.4195291347741963,
          "n_iter": 539
         },
         {
          "learner": "SAL",
          "loss": 0.41947324054762947,
          "n_iter": 540
         },
         {
          "learner": "SAL",
          "loss": 0.4194163537016046,
          "n_iter": 541
         },
         {
          "learner": "SAL",
          "loss": 0.41935853556865893,
          "n_iter": 542
         },
         {
          "learner": "SAL",
          "loss": 0.4192998483031194,
          "n_iter": 543
         },
         {
          "learner": "SAL",
          "loss": 0.4192403567457461,
          "n_iter": 544
         },
         {
          "learner": "SAL",
          "loss": 0.41918012911860897,
          "n_iter": 545
         },
         {
          "learner": "SAL",
          "loss": 0.41911918784572305,
          "n_iter": 546
         },
         {
          "learner": "SAL",
          "loss": 0.41901321538464686,
          "n_iter": 547
         },
         {
          "learner": "SAL",
          "loss": 0.41895580928210996,
          "n_iter": 548
         },
         {
          "learner": "SAL",
          "loss": 0.4188913044069171,
          "n_iter": 549
         },
         {
          "learner": "SAL",
          "loss": 0.41881956858733416,
          "n_iter": 550
         },
         {
          "learner": "SAL",
          "loss": 0.4187439667525443,
          "n_iter": 551
         },
         {
          "learner": "SAL",
          "loss": 0.41866689116783656,
          "n_iter": 552
         },
         {
          "learner": "SAL",
          "loss": 0.4185896744545223,
          "n_iter": 553
         },
         {
          "learner": "SAL",
          "loss": 0.4185130050911181,
          "n_iter": 554
         },
         {
          "learner": "SAL",
          "loss": 0.4184372556261223,
          "n_iter": 555
         },
         {
          "learner": "SAL",
          "loss": 0.4183626663008264,
          "n_iter": 556
         },
         {
          "learner": "SAL",
          "loss": 0.4182894283659052,
          "n_iter": 557
         },
         {
          "learner": "SAL",
          "loss": 0.4182177133564196,
          "n_iter": 558
         },
         {
          "learner": "SAL",
          "loss": 0.4181476782050075,
          "n_iter": 559
         },
         {
          "learner": "SAL",
          "loss": 0.41807946200114626,
          "n_iter": 560
         },
         {
          "learner": "SAL",
          "loss": 0.4180139838149708,
          "n_iter": 561
         },
         {
          "learner": "SAL",
          "loss": 0.4179520509188681,
          "n_iter": 562
         },
         {
          "learner": "SAL",
          "loss": 0.41789335646916087,
          "n_iter": 563
         },
         {
          "learner": "SAL",
          "loss": 0.4178375860291247,
          "n_iter": 564
         },
         {
          "learner": "SAL",
          "loss": 0.41778448318990946,
          "n_iter": 565
         },
         {
          "learner": "SAL",
          "loss": 0.41773386235682153,
          "n_iter": 566
         },
         {
          "learner": "SAL",
          "loss": 0.4176855800603893,
          "n_iter": 567
         },
         {
          "learner": "SAL",
          "loss": 0.41763951143438616,
          "n_iter": 568
         },
         {
          "learner": "SAL",
          "loss": 0.4175955372704182,
          "n_iter": 569
         },
         {
          "learner": "SAL",
          "loss": 0.4175535386112832,
          "n_iter": 570
         },
         {
          "learner": "SAL",
          "loss": 0.41751339563835144,
          "n_iter": 571
         },
         {
          "learner": "SAL",
          "loss": 0.41747498867815763,
          "n_iter": 572
         },
         {
          "learner": "SAL",
          "loss": 0.4174382000621638,
          "n_iter": 573
         },
         {
          "learner": "SAL",
          "loss": 0.41740291615820146,
          "n_iter": 574
         },
         {
          "learner": "SAL",
          "loss": 0.4172318155649559,
          "n_iter": 575
         },
         {
          "learner": "SAL",
          "loss": 0.4170741732709092,
          "n_iter": 576
         },
         {
          "learner": "SAL",
          "loss": 0.416937488196615,
          "n_iter": 577
         },
         {
          "learner": "SAL",
          "loss": 0.41682288834448206,
          "n_iter": 578
         },
         {
          "learner": "SAL",
          "loss": 0.41672745064053734,
          "n_iter": 579
         },
         {
          "learner": "SAL",
          "loss": 0.41658440737926794,
          "n_iter": 580
         },
         {
          "learner": "SAL",
          "loss": 0.4165109007536032,
          "n_iter": 581
         },
         {
          "learner": "SAL",
          "loss": 0.41646627374506984,
          "n_iter": 582
         },
         {
          "learner": "SAL",
          "loss": 0.41648659362425855,
          "n_iter": 583
         },
         {
          "learner": "SAL",
          "loss": 0.4165329823875986,
          "n_iter": 584
         },
         {
          "learner": "SAL",
          "loss": 0.41656903093729264,
          "n_iter": 585
         },
         {
          "learner": "SAL",
          "loss": 0.41654633637021066,
          "n_iter": 586
         },
         {
          "learner": "SAL",
          "loss": 0.4164406874125004,
          "n_iter": 587
         },
         {
          "learner": "SAL",
          "loss": 0.41631776005701093,
          "n_iter": 588
         },
         {
          "learner": "SAL",
          "loss": 0.4162102924008025,
          "n_iter": 589
         },
         {
          "learner": "SAL",
          "loss": 0.4161050307478619,
          "n_iter": 590
         },
         {
          "learner": "SAL",
          "loss": 0.4160062398051375,
          "n_iter": 591
         },
         {
          "learner": "SAL",
          "loss": 0.4159143362183198,
          "n_iter": 592
         },
         {
          "learner": "SAL",
          "loss": 0.41582950715208156,
          "n_iter": 593
         },
         {
          "learner": "SAL",
          "loss": 0.41575208328135455,
          "n_iter": 594
         },
         {
          "learner": "SAL",
          "loss": 0.41568244822975176,
          "n_iter": 595
         },
         {
          "learner": "SAL",
          "loss": 0.41562088463397345,
          "n_iter": 596
         },
         {
          "learner": "SAL",
          "loss": 0.41556793989486157,
          "n_iter": 597
         },
         {
          "learner": "SAL",
          "loss": 0.4155235665851286,
          "n_iter": 598
         },
         {
          "learner": "SAL",
          "loss": 0.41548968594235197,
          "n_iter": 599
         },
         {
          "learner": "SAL",
          "loss": 0.4154671371898763,
          "n_iter": 600
         },
         {
          "learner": "SAL",
          "loss": 0.41545379260807,
          "n_iter": 601
         },
         {
          "learner": "SAL",
          "loss": 0.4154485478043967,
          "n_iter": 602
         },
         {
          "learner": "SAL",
          "loss": 0.415450583528762,
          "n_iter": 603
         },
         {
          "learner": "SAL",
          "loss": 0.41545917958875195,
          "n_iter": 604
         },
         {
          "learner": "SAL",
          "loss": 0.4154596348128662,
          "n_iter": 605
         },
         {
          "learner": "SAL",
          "loss": 0.4154430237300298,
          "n_iter": 606
         },
         {
          "learner": "SAL",
          "loss": 0.4154364698395056,
          "n_iter": 607
         },
         {
          "learner": "SAL",
          "loss": 0.41543366774050255,
          "n_iter": 608
         },
         {
          "learner": "SAL",
          "loss": 0.41543181788038824,
          "n_iter": 609
         },
         {
          "learner": "SAL",
          "loss": 0.41543144715149694,
          "n_iter": 610
         },
         {
          "learner": "SAL",
          "loss": 0.41543307879476854,
          "n_iter": 611
         },
         {
          "learner": "SAL",
          "loss": 0.41544356797749704,
          "n_iter": 612
         },
         {
          "learner": "SAL",
          "loss": 0.4154732328406653,
          "n_iter": 613
         },
         {
          "learner": "SAL",
          "loss": 0.41548129115267685,
          "n_iter": 614
         },
         {
          "learner": "SAL",
          "loss": 0.415474449589869,
          "n_iter": 615
         },
         {
          "learner": "SAL",
          "loss": 0.41545758448042425,
          "n_iter": 616
         },
         {
          "learner": "SAL",
          "loss": 0.41543631191511565,
          "n_iter": 617
         },
         {
          "learner": "SAL",
          "loss": 0.41541411531751143,
          "n_iter": 618
         },
         {
          "learner": "SAL",
          "loss": 0.4153937336995945,
          "n_iter": 619
         },
         {
          "learner": "SAL",
          "loss": 0.41537898679266766,
          "n_iter": 620
         },
         {
          "learner": "SAL",
          "loss": 0.415368274845759,
          "n_iter": 621
         },
         {
          "learner": "SAL",
          "loss": 0.4153585665478303,
          "n_iter": 622
         },
         {
          "learner": "SAL",
          "loss": 0.41534978927278243,
          "n_iter": 623
         },
         {
          "learner": "SAL",
          "loss": 0.4153417747441827,
          "n_iter": 624
         },
         {
          "learner": "SAL",
          "loss": 0.41533435963029885,
          "n_iter": 625
         },
         {
          "learner": "SAL",
          "loss": 0.4153274475645891,
          "n_iter": 626
         },
         {
          "learner": "SAL",
          "loss": 0.4153227725623884,
          "n_iter": 627
         },
         {
          "learner": "SAL",
          "loss": 0.4153184078358786,
          "n_iter": 628
         },
         {
          "learner": "SAL",
          "loss": 0.41531799859394897,
          "n_iter": 629
         },
         {
          "learner": "SAL",
          "loss": 0.4153179244079054,
          "n_iter": 630
         },
         {
          "learner": "SAL",
          "loss": 0.41531788645705753,
          "n_iter": 631
         },
         {
          "learner": "SAL",
          "loss": 0.41531810887249326,
          "n_iter": 632
         },
         {
          "learner": "SAL",
          "loss": 0.41531898886335733,
          "n_iter": 633
         },
         {
          "learner": "SAL",
          "loss": 0.4153208635324647,
          "n_iter": 634
         },
         {
          "learner": "SAL",
          "loss": 0.4153239599234206,
          "n_iter": 635
         },
         {
          "learner": "SAL",
          "loss": 0.415328406330031,
          "n_iter": 636
         },
         {
          "learner": "SAL",
          "loss": 0.41533425679095015,
          "n_iter": 637
         },
         {
          "learner": "SAL",
          "loss": 0.4153415130901276,
          "n_iter": 638
         },
         {
          "learner": "SAL",
          "loss": 0.4153501409726823,
          "n_iter": 639
         },
         {
          "learner": "SAL",
          "loss": 0.41536008125727236,
          "n_iter": 640
         },
         {
          "learner": "SAL",
          "loss": 0.41537125731589875,
          "n_iter": 641
         },
         {
          "learner": "SAL",
          "loss": 0.41538358018576227,
          "n_iter": 642
         },
         {
          "learner": "SAL",
          "loss": 0.41539695218911027,
          "n_iter": 643
         },
         {
          "learner": "SAL",
          "loss": 0.415411269613484,
          "n_iter": 644
         },
         {
          "learner": "SAL",
          "loss": 0.4154264247863953,
          "n_iter": 645
         },
         {
          "learner": "SAL",
          "loss": 0.4154423077443775,
          "n_iter": 646
         },
         {
          "learner": "SAL",
          "loss": 0.4154588076175106,
          "n_iter": 647
         },
         {
          "learner": "SAL",
          "loss": 0.41547604730711746,
          "n_iter": 648
         },
         {
          "learner": "SAL",
          "loss": 0.4153781197930727,
          "n_iter": 649
         },
         {
          "learner": "SAL",
          "loss": 0.4151822264625851,
          "n_iter": 650
         },
         {
          "learner": "SAL",
          "loss": 0.4150288152798361,
          "n_iter": 651
         },
         {
          "learner": "SAL",
          "loss": 0.4149252355400512,
          "n_iter": 652
         },
         {
          "learner": "SAL",
          "loss": 0.4148551772077244,
          "n_iter": 653
         },
         {
          "learner": "SAL",
          "loss": 0.41480658503194207,
          "n_iter": 654
         },
         {
          "learner": "SAL",
          "loss": 0.41477200578241635,
          "n_iter": 655
         },
         {
          "learner": "SAL",
          "loss": 0.4147467978546922,
          "n_iter": 656
         },
         {
          "learner": "SAL",
          "loss": 0.4147280991485519,
          "n_iter": 657
         },
         {
          "learner": "SAL",
          "loss": 0.4141772796563381,
          "n_iter": 658
         },
         {
          "learner": "SAL",
          "loss": 0.41396200756085455,
          "n_iter": 659
         },
         {
          "learner": "SAL",
          "loss": 0.4138580283265403,
          "n_iter": 660
         },
         {
          "learner": "SAL",
          "loss": 0.41380177697326337,
          "n_iter": 661
         },
         {
          "learner": "SAL",
          "loss": 0.41369392234120667,
          "n_iter": 662
         },
         {
          "learner": "SAL",
          "loss": 0.4136467412350024,
          "n_iter": 663
         },
         {
          "learner": "SAL",
          "loss": 0.4136292205044708,
          "n_iter": 664
         },
         {
          "learner": "SAL",
          "loss": 0.41362005867778295,
          "n_iter": 665
         },
         {
          "learner": "SAL",
          "loss": 0.4136177903691774,
          "n_iter": 666
         },
         {
          "learner": "SAL",
          "loss": 0.41362210720890435,
          "n_iter": 667
         },
         {
          "learner": "SAL",
          "loss": 0.4136323278628364,
          "n_iter": 668
         },
         {
          "learner": "SAL",
          "loss": 0.41364765279949994,
          "n_iter": 669
         },
         {
          "learner": "SAL",
          "loss": 0.4136673523142691,
          "n_iter": 670
         },
         {
          "learner": "SAL",
          "loss": 0.41368956099478266,
          "n_iter": 671
         },
         {
          "learner": "SAL",
          "loss": 0.41371392155229564,
          "n_iter": 672
         },
         {
          "learner": "SAL",
          "loss": 0.41374235463218206,
          "n_iter": 673
         },
         {
          "learner": "SAL",
          "loss": 0.41377127979112416,
          "n_iter": 674
         },
         {
          "learner": "SAL",
          "loss": 0.41379945007347785,
          "n_iter": 675
         },
         {
          "learner": "SAL",
          "loss": 0.41382672115656083,
          "n_iter": 676
         },
         {
          "learner": "SAL",
          "loss": 0.41385152013955984,
          "n_iter": 677
         },
         {
          "learner": "SAL",
          "loss": 0.4138744518314973,
          "n_iter": 678
         },
         {
          "learner": "SAL",
          "loss": 0.41389570790970437,
          "n_iter": 679
         },
         {
          "learner": "SAL",
          "loss": 0.4139153003350042,
          "n_iter": 680
         },
         {
          "learner": "SAL",
          "loss": 0.4139332139884276,
          "n_iter": 681
         },
         {
          "learner": "SAL",
          "loss": 0.4138891040784944,
          "n_iter": 682
         },
         {
          "learner": "SAL",
          "loss": 0.41381293925875356,
          "n_iter": 683
         },
         {
          "learner": "SAL",
          "loss": 0.413745219762346,
          "n_iter": 684
         },
         {
          "learner": "SAL",
          "loss": 0.4136866985262106,
          "n_iter": 685
         },
         {
          "learner": "SAL",
          "loss": 0.4136353179433614,
          "n_iter": 686
         },
         {
          "learner": "SAL",
          "loss": 0.4135891404072591,
          "n_iter": 687
         },
         {
          "learner": "SAL",
          "loss": 0.4135471104739113,
          "n_iter": 688
         },
         {
          "learner": "SAL",
          "loss": 0.41350869164653486,
          "n_iter": 689
         },
         {
          "learner": "SAL",
          "loss": 0.4134735656704757,
          "n_iter": 690
         },
         {
          "learner": "SAL",
          "loss": 0.41344149214481446,
          "n_iter": 691
         },
         {
          "learner": "SAL",
          "loss": 0.41341225499171985,
          "n_iter": 692
         },
         {
          "learner": "SAL",
          "loss": 0.41338564586116777,
          "n_iter": 693
         },
         {
          "learner": "SAL",
          "loss": 0.4133614611069129,
          "n_iter": 694
         },
         {
          "learner": "SAL",
          "loss": 0.4133395028331986,
          "n_iter": 695
         },
         {
          "learner": "SAL",
          "loss": 0.4133195805903931,
          "n_iter": 696
         },
         {
          "learner": "SAL",
          "loss": 0.4133015127082018,
          "n_iter": 697
         },
         {
          "learner": "SAL",
          "loss": 0.41328512711372417,
          "n_iter": 698
         },
         {
          "learner": "SAL",
          "loss": 0.4132710872569911,
          "n_iter": 699
         },
         {
          "learner": "SAL",
          "loss": 0.4129788265677125,
          "n_iter": 700
         },
         {
          "learner": "SAL",
          "loss": 0.4128936066703689,
          "n_iter": 701
         },
         {
          "learner": "SAL",
          "loss": 0.4125364492152757,
          "n_iter": 702
         },
         {
          "learner": "SAL",
          "loss": 0.41240545080482105,
          "n_iter": 703
         },
         {
          "learner": "SAL",
          "loss": 0.4123803385282556,
          "n_iter": 704
         },
         {
          "learner": "SAL",
          "loss": 0.4124762731705058,
          "n_iter": 705
         },
         {
          "learner": "SAL",
          "loss": 0.4125473098210028,
          "n_iter": 706
         },
         {
          "learner": "SAL",
          "loss": 0.4125324133528449,
          "n_iter": 707
         },
         {
          "learner": "SAL",
          "loss": 0.41252835319937053,
          "n_iter": 708
         },
         {
          "learner": "SAL",
          "loss": 0.4125327676069018,
          "n_iter": 709
         },
         {
          "learner": "SAL",
          "loss": 0.4125358651212263,
          "n_iter": 710
         },
         {
          "learner": "SAL",
          "loss": 0.4125415797433258,
          "n_iter": 711
         },
         {
          "learner": "SAL",
          "loss": 0.41251546455632265,
          "n_iter": 712
         },
         {
          "learner": "SAL",
          "loss": 0.41246557380541565,
          "n_iter": 713
         },
         {
          "learner": "SAL",
          "loss": 0.41241662884667635,
          "n_iter": 714
         },
         {
          "learner": "SAL",
          "loss": 0.41237622435639376,
          "n_iter": 715
         },
         {
          "learner": "SAL",
          "loss": 0.4123435929375618,
          "n_iter": 716
         },
         {
          "learner": "SAL",
          "loss": 0.41231764195918935,
          "n_iter": 717
         },
         {
          "learner": "SAL",
          "loss": 0.4122964949018542,
          "n_iter": 718
         },
         {
          "learner": "SAL",
          "loss": 0.4122751590399186,
          "n_iter": 719
         },
         {
          "learner": "SAL",
          "loss": 0.41225539050205545,
          "n_iter": 720
         },
         {
          "learner": "SAL",
          "loss": 0.41223798390645006,
          "n_iter": 721
         },
         {
          "learner": "SAL",
          "loss": 0.4122228917978605,
          "n_iter": 722
         },
         {
          "learner": "SAL",
          "loss": 0.4122099720602841,
          "n_iter": 723
         },
         {
          "learner": "SAL",
          "loss": 0.41219908247506476,
          "n_iter": 724
         },
         {
          "learner": "SAL",
          "loss": 0.41219008517952255,
          "n_iter": 725
         },
         {
          "learner": "SAL",
          "loss": 0.41218284687258466,
          "n_iter": 726
         },
         {
          "learner": "SAL",
          "loss": 0.4121772405596387,
          "n_iter": 727
         },
         {
          "learner": "SAL",
          "loss": 0.41217314704044,
          "n_iter": 728
         },
         {
          "learner": "SAL",
          "loss": 0.4121704554249436,
          "n_iter": 729
         },
         {
          "learner": "SAL",
          "loss": 0.41216906281315496,
          "n_iter": 730
         },
         {
          "learner": "SAL",
          "loss": 0.4121688734862857,
          "n_iter": 731
         },
         {
          "learner": "SAL",
          "loss": 0.41216979790325503,
          "n_iter": 732
         },
         {
          "learner": "SAL",
          "loss": 0.4121717516920729,
          "n_iter": 733
         },
         {
          "learner": "SAL",
          "loss": 0.412174654740585,
          "n_iter": 734
         },
         {
          "learner": "SAL",
          "loss": 0.4121784304355161,
          "n_iter": 735
         },
         {
          "learner": "SAL",
          "loss": 0.4121830050656126,
          "n_iter": 736
         },
         {
          "learner": "SAL",
          "loss": 0.4121883073855033,
          "n_iter": 737
         },
         {
          "learner": "SAL",
          "loss": 0.4121942683259728,
          "n_iter": 738
         },
         {
          "learner": "SAL",
          "loss": 0.4122008208303758,
          "n_iter": 739
         },
         {
          "learner": "SAL",
          "loss": 0.4122078997942025,
          "n_iter": 740
         },
         {
          "learner": "SAL",
          "loss": 0.41221544208432276,
          "n_iter": 741
         },
         {
          "learner": "SAL",
          "loss": 0.4122221523433026,
          "n_iter": 742
         },
         {
          "learner": "SAL",
          "loss": 0.4122263022189074,
          "n_iter": 743
         },
         {
          "learner": "SAL",
          "loss": 0.4122305097224745,
          "n_iter": 744
         },
         {
          "learner": "SAL",
          "loss": 0.41223475918948965,
          "n_iter": 745
         },
         {
          "learner": "SAL",
          "loss": 0.41223903361845615,
          "n_iter": 746
         },
         {
          "learner": "SAL",
          "loss": 0.41224331441034967,
          "n_iter": 747
         },
         {
          "learner": "SAL",
          "loss": 0.41224758296334224,
          "n_iter": 748
         },
         {
          "learner": "SAL",
          "loss": 0.41225182045328845,
          "n_iter": 749
         },
         {
          "learner": "SAL",
          "loss": 0.41225600815990615,
          "n_iter": 750
         },
         {
          "learner": "SAL",
          "loss": 0.4122601281579177,
          "n_iter": 751
         },
         {
          "learner": "SAL",
          "loss": 0.4122641639285412,
          "n_iter": 752
         },
         {
          "learner": "SAL",
          "loss": 0.4122681007351822,
          "n_iter": 753
         },
         {
          "learner": "SAL",
          "loss": 0.41227192578740096,
          "n_iter": 754
         },
         {
          "learner": "SAL",
          "loss": 0.4122756282640295,
          "n_iter": 755
         },
         {
          "learner": "SAL",
          "loss": 0.41281967557677324,
          "n_iter": 756
         },
         {
          "learner": "SAL",
          "loss": 0.4130322409730401,
          "n_iter": 757
         },
         {
          "learner": "SAL",
          "loss": 0.41310822497762567,
          "n_iter": 758
         },
         {
          "learner": "SAL",
          "loss": 0.41315157422083987,
          "n_iter": 759
         },
         {
          "learner": "SAL",
          "loss": 0.4131817117634031,
          "n_iter": 760
         },
         {
          "learner": "SAL",
          "loss": 0.4132073188224672,
          "n_iter": 761
         },
         {
          "learner": "SAL",
          "loss": 0.4132330502203756,
          "n_iter": 762
         },
         {
          "learner": "SAL",
          "loss": 0.41325945737132697,
          "n_iter": 763
         },
         {
          "learner": "SAL",
          "loss": 0.4132815552257836,
          "n_iter": 764
         },
         {
          "learner": "SAL",
          "loss": 0.41329751583769236,
          "n_iter": 765
         },
         {
          "learner": "SAL",
          "loss": 0.41330793031677154,
          "n_iter": 766
         },
         {
          "learner": "SAL",
          "loss": 0.4133202908601907,
          "n_iter": 767
         },
         {
          "learner": "SAL",
          "loss": 0.4133417502010849,
          "n_iter": 768
         },
         {
          "learner": "SAL",
          "loss": 0.4133669128144687,
          "n_iter": 769
         },
         {
          "learner": "SAL",
          "loss": 0.4133904385748614,
          "n_iter": 770
         },
         {
          "learner": "SAL",
          "loss": 0.4134016256688009,
          "n_iter": 771
         },
         {
          "learner": "SAL",
          "loss": 0.41340277448205254,
          "n_iter": 772
         },
         {
          "learner": "SAL",
          "loss": 0.413398098823023,
          "n_iter": 773
         },
         {
          "learner": "SAL",
          "loss": 0.41340073765094926,
          "n_iter": 774
         },
         {
          "learner": "SAL",
          "loss": 0.4134029818847859,
          "n_iter": 775
         },
         {
          "learner": "SAL",
          "loss": 0.41340186648506544,
          "n_iter": 776
         },
         {
          "learner": "SAL",
          "loss": 0.41340636780612366,
          "n_iter": 777
         },
         {
          "learner": "SAL",
          "loss": 0.4134028722077516,
          "n_iter": 778
         },
         {
          "learner": "SAL",
          "loss": 0.41327727898750466,
          "n_iter": 779
         },
         {
          "learner": "SAL",
          "loss": 0.4132124344414928,
          "n_iter": 780
         },
         {
          "learner": "SAL",
          "loss": 0.4131755457824136,
          "n_iter": 781
         },
         {
          "learner": "SAL",
          "loss": 0.4131524726271273,
          "n_iter": 782
         },
         {
          "learner": "SAL",
          "loss": 0.4131373244068937,
          "n_iter": 783
         },
         {
          "learner": "SAL",
          "loss": 0.41317809323301846,
          "n_iter": 784
         },
         {
          "learner": "SAL",
          "loss": 0.4131756376431227,
          "n_iter": 785
         },
         {
          "learner": "SAL",
          "loss": 0.4131407838900465,
          "n_iter": 786
         },
         {
          "learner": "SAL",
          "loss": 0.41308141162281437,
          "n_iter": 787
         },
         {
          "learner": "SAL",
          "loss": 0.41301838172534217,
          "n_iter": 788
         },
         {
          "learner": "SAL",
          "loss": 0.41304938012306935,
          "n_iter": 789
         },
         {
          "learner": "SAL",
          "loss": 0.41305849003339107,
          "n_iter": 790
         },
         {
          "learner": "SAL",
          "loss": 0.41305580020995286,
          "n_iter": 791
         },
         {
          "learner": "SAL",
          "loss": 0.4130505392703389,
          "n_iter": 792
         },
         {
          "learner": "SAL",
          "loss": 0.41304521361569096,
          "n_iter": 793
         },
         {
          "learner": "SAL",
          "loss": 0.41309900048387554,
          "n_iter": 794
         },
         {
          "learner": "SAL",
          "loss": 0.41316650099677055,
          "n_iter": 795
         },
         {
          "learner": "SAL",
          "loss": 0.4131880619615289,
          "n_iter": 796
         },
         {
          "learner": "SAL",
          "loss": 0.41318461228948666,
          "n_iter": 797
         },
         {
          "learner": "SAL",
          "loss": 0.4131699499314425,
          "n_iter": 798
         },
         {
          "learner": "SAL",
          "loss": 0.4131514248523719,
          "n_iter": 799
         },
         {
          "learner": "SAL",
          "loss": 0.41313292561932363,
          "n_iter": 800
         },
         {
          "learner": "SAL",
          "loss": 0.4131165581327129,
          "n_iter": 801
         },
         {
          "learner": "SAL",
          "loss": 0.41310342369427216,
          "n_iter": 802
         },
         {
          "learner": "SAL",
          "loss": 0.4130940066080322,
          "n_iter": 803
         },
         {
          "learner": "SAL",
          "loss": 0.41308839649999746,
          "n_iter": 804
         },
         {
          "learner": "SAL",
          "loss": 0.41308643207925866,
          "n_iter": 805
         },
         {
          "learner": "SAL",
          "loss": 0.41308780018541774,
          "n_iter": 806
         },
         {
          "learner": "SAL",
          "loss": 0.4130921052762793,
          "n_iter": 807
         },
         {
          "learner": "SAL",
          "loss": 0.4130989178142698,
          "n_iter": 808
         },
         {
          "learner": "SAL",
          "loss": 0.4131078072132363,
          "n_iter": 809
         },
         {
          "learner": "SAL",
          "loss": 0.4131183634687811,
          "n_iter": 810
         },
         {
          "learner": "SAL",
          "loss": 0.4131302105408555,
          "n_iter": 811
         },
         {
          "learner": "SAL",
          "loss": 0.41314301377318435,
          "n_iter": 812
         },
         {
          "learner": "SAL",
          "loss": 0.41315648304759867,
          "n_iter": 813
         },
         {
          "learner": "SAL",
          "loss": 0.41317037293795905,
          "n_iter": 814
         },
         {
          "learner": "SAL",
          "loss": 0.4131844808101496,
          "n_iter": 815
         },
         {
          "learner": "SAL",
          "loss": 0.4131986435798409,
          "n_iter": 816
         },
         {
          "learner": "SAL",
          "loss": 0.41321273366395433,
          "n_iter": 817
         },
         {
          "learner": "SAL",
          "loss": 0.41322665452766344,
          "n_iter": 818
         },
         {
          "learner": "SAL",
          "loss": 0.4132403361245174,
          "n_iter": 819
         },
         {
          "learner": "SAL",
          "loss": 0.41325373044519303,
          "n_iter": 820
         },
         {
          "learner": "SAL",
          "loss": 0.4132668073252693,
          "n_iter": 821
         },
         {
          "learner": "SAL",
          "loss": 0.413279550610862,
          "n_iter": 822
         },
         {
          "learner": "SAL",
          "loss": 0.4132919547404233,
          "n_iter": 823
         },
         {
          "learner": "SAL",
          "loss": 0.4133040217696291,
          "n_iter": 824
         },
         {
          "learner": "SAL",
          "loss": 0.41331575884249355,
          "n_iter": 825
         },
         {
          "learner": "SAL",
          "loss": 0.4133274720944803,
          "n_iter": 826
         },
         {
          "learner": "SAL",
          "loss": 0.4133389502297903,
          "n_iter": 827
         },
         {
          "learner": "SAL",
          "loss": 0.4133500706355446,
          "n_iter": 828
         },
         {
          "learner": "SAL",
          "loss": 0.4133608531980095,
          "n_iter": 829
         },
         {
          "learner": "SAL",
          "loss": 0.4133713308865444,
          "n_iter": 830
         },
         {
          "learner": "SAL",
          "loss": 0.4133815335703512,
          "n_iter": 831
         },
         {
          "learner": "SAL",
          "loss": 0.4133914838777201,
          "n_iter": 832
         },
         {
          "learner": "SAL",
          "loss": 0.4134011966749007,
          "n_iter": 833
         },
         {
          "learner": "SAL",
          "loss": 0.4135411635403524,
          "n_iter": 834
         },
         {
          "learner": "SAL",
          "loss": 0.41355515507443047,
          "n_iter": 835
         },
         {
          "learner": "SAL",
          "loss": 0.4134621658325232,
          "n_iter": 836
         },
         {
          "learner": "SAL",
          "loss": 0.4133527579399049,
          "n_iter": 837
         },
         {
          "learner": "SAL",
          "loss": 0.4132432922623634,
          "n_iter": 838
         },
         {
          "learner": "SAL",
          "loss": 0.4131356502891404,
          "n_iter": 839
         },
         {
          "learner": "SAL",
          "loss": 0.4130304203877966,
          "n_iter": 840
         },
         {
          "learner": "SAL",
          "loss": 0.4129449179076808,
          "n_iter": 841
         },
         {
          "learner": "SAL",
          "loss": 0.41285304978308124,
          "n_iter": 842
         },
         {
          "learner": "SAL",
          "loss": 0.4127667760176368,
          "n_iter": 843
         },
         {
          "learner": "SAL",
          "loss": 0.4126917809855737,
          "n_iter": 844
         },
         {
          "learner": "SAL",
          "loss": 0.412624198755682,
          "n_iter": 845
         },
         {
          "learner": "SAL",
          "loss": 0.41256373014453857,
          "n_iter": 846
         },
         {
          "learner": "SAL",
          "loss": 0.4125101981950057,
          "n_iter": 847
         },
         {
          "learner": "SAL",
          "loss": 0.4124633103923241,
          "n_iter": 848
         },
         {
          "learner": "SAL",
          "loss": 0.4124077695247017,
          "n_iter": 849
         },
         {
          "learner": "SAL",
          "loss": 0.41238123782434705,
          "n_iter": 850
         },
         {
          "learner": "SAL",
          "loss": 0.41235186791626477,
          "n_iter": 851
         },
         {
          "learner": "SAL",
          "loss": 0.4123198508631002,
          "n_iter": 852
         },
         {
          "learner": "SAL",
          "loss": 0.4122869942256011,
          "n_iter": 853
         },
         {
          "learner": "SAL",
          "loss": 0.4122545455126984,
          "n_iter": 854
         },
         {
          "learner": "SAL",
          "loss": 0.4122232996531072,
          "n_iter": 855
         },
         {
          "learner": "SAL",
          "loss": 0.412193780327572,
          "n_iter": 856
         },
         {
          "learner": "SAL",
          "loss": 0.4121663460695737,
          "n_iter": 857
         },
         {
          "learner": "SAL",
          "loss": 0.41214124522234175,
          "n_iter": 858
         },
         {
          "learner": "SAL",
          "loss": 0.4121186438062885,
          "n_iter": 859
         },
         {
          "learner": "SAL",
          "loss": 0.4120990018034998,
          "n_iter": 860
         },
         {
          "learner": "SAL",
          "loss": 0.41208543747827525,
          "n_iter": 861
         },
         {
          "learner": "SAL",
          "loss": 0.4120741177597798,
          "n_iter": 862
         },
         {
          "learner": "SAL",
          "loss": 0.41206525220734214,
          "n_iter": 863
         },
         {
          "learner": "SAL",
          "loss": 0.4120587296257676,
          "n_iter": 864
         },
         {
          "learner": "SAL",
          "loss": 0.4120543528251994,
          "n_iter": 865
         },
         {
          "learner": "SAL",
          "loss": 0.4120518859156639,
          "n_iter": 866
         },
         {
          "learner": "SAL",
          "loss": 0.41205108383151623,
          "n_iter": 867
         },
         {
          "learner": "SAL",
          "loss": 0.4120517074262323,
          "n_iter": 868
         },
         {
          "learner": "SAL",
          "loss": 0.412053530366966,
          "n_iter": 869
         },
         {
          "learner": "SAL",
          "loss": 0.4120563420370324,
          "n_iter": 870
         },
         {
          "learner": "SAL",
          "loss": 0.4120599486245925,
          "n_iter": 871
         },
         {
          "learner": "SAL",
          "loss": 0.4120641734084727,
          "n_iter": 872
         },
         {
          "learner": "SAL",
          "loss": 0.4120688566691473,
          "n_iter": 873
         },
         {
          "learner": "SAL",
          "loss": 0.4120738553876591,
          "n_iter": 874
         },
         {
          "learner": "SAL",
          "loss": 0.41207904278830887,
          "n_iter": 875
         },
         {
          "learner": "SAL",
          "loss": 0.41208467191596826,
          "n_iter": 876
         },
         {
          "learner": "SAL",
          "loss": 0.4122212582895517,
          "n_iter": 877
         },
         {
          "learner": "SAL",
          "loss": 0.41230131814718823,
          "n_iter": 878
         },
         {
          "learner": "SAL",
          "loss": 0.41235761314627095,
          "n_iter": 879
         },
         {
          "learner": "SAL",
          "loss": 0.4123841267620202,
          "n_iter": 880
         },
         {
          "learner": "SAL",
          "loss": 0.4123932687618824,
          "n_iter": 881
         },
         {
          "learner": "SAL",
          "loss": 0.41240174996952733,
          "n_iter": 882
         },
         {
          "learner": "SAL",
          "loss": 0.41240330832622424,
          "n_iter": 883
         },
         {
          "learner": "SAL",
          "loss": 0.41239681345645485,
          "n_iter": 884
         },
         {
          "learner": "SAL",
          "loss": 0.4123859389813924,
          "n_iter": 885
         },
         {
          "learner": "SAL",
          "loss": 0.4123725855811242,
          "n_iter": 886
         },
         {
          "learner": "SAL",
          "loss": 0.4123564848741755,
          "n_iter": 887
         },
         {
          "learner": "SAL",
          "loss": 0.4123387804769931,
          "n_iter": 888
         },
         {
          "learner": "SAL",
          "loss": 0.4123203325595701,
          "n_iter": 889
         },
         {
          "learner": "SAL",
          "loss": 0.4123018221429023,
          "n_iter": 890
         },
         {
          "learner": "SAL",
          "loss": 0.4122837824223039,
          "n_iter": 891
         },
         {
          "learner": "SAL",
          "loss": 0.41226662530875396,
          "n_iter": 892
         },
         {
          "learner": "SAL",
          "loss": 0.41225066283901873,
          "n_iter": 893
         },
         {
          "learner": "SAL",
          "loss": 0.4122361243942844,
          "n_iter": 894
         },
         {
          "learner": "SAL",
          "loss": 0.41222317058843294,
          "n_iter": 895
         },
         {
          "learner": "SAL",
          "loss": 0.412211904509235,
          "n_iter": 896
         },
         {
          "learner": "SAL",
          "loss": 0.4122023808980566,
          "n_iter": 897
         },
         {
          "learner": "SAL",
          "loss": 0.412194613765559,
          "n_iter": 898
         },
         {
          "learner": "SAL",
          "loss": 0.41218858284423576,
          "n_iter": 899
         },
         {
          "learner": "SAL",
          "loss": 0.41218423918188307,
          "n_iter": 900
         },
         {
          "learner": "SAL",
          "loss": 0.41218151009321863,
          "n_iter": 901
         },
         {
          "learner": "SAL",
          "loss": 0.412180303615331,
          "n_iter": 902
         },
         {
          "learner": "SAL",
          "loss": 0.4121803482314837,
          "n_iter": 903
         },
         {
          "learner": "SAL",
          "loss": 0.41218142638961636,
          "n_iter": 904
         },
         {
          "learner": "SAL",
          "loss": 0.4121835651738423,
          "n_iter": 905
         },
         {
          "learner": "SAL",
          "loss": 0.4121867397352203,
          "n_iter": 906
         },
         {
          "learner": "SAL",
          "loss": 0.411936921830417,
          "n_iter": 907
         },
         {
          "learner": "SAL",
          "loss": 0.4119346010481511,
          "n_iter": 908
         },
         {
          "learner": "SAL",
          "loss": 0.41194382243464894,
          "n_iter": 909
         },
         {
          "learner": "SAL",
          "loss": 0.41195686524332764,
          "n_iter": 910
         },
         {
          "learner": "SAL",
          "loss": 0.41197488904340906,
          "n_iter": 911
         },
         {
          "learner": "SAL",
          "loss": 0.4119953245002078,
          "n_iter": 912
         },
         {
          "learner": "SAL",
          "loss": 0.4120157767038147,
          "n_iter": 913
         },
         {
          "learner": "SAL",
          "loss": 0.4120341491711857,
          "n_iter": 914
         },
         {
          "learner": "SAL",
          "loss": 0.4120503452299683,
          "n_iter": 915
         },
         {
          "learner": "SAL",
          "loss": 0.4120643873126844,
          "n_iter": 916
         },
         {
          "learner": "SAL",
          "loss": 0.4120763840154712,
          "n_iter": 917
         },
         {
          "learner": "SAL",
          "loss": 0.4120865069955179,
          "n_iter": 918
         },
         {
          "learner": "SAL",
          "loss": 0.41209495844977767,
          "n_iter": 919
         },
         {
          "learner": "SAL",
          "loss": 0.4121019450959201,
          "n_iter": 920
         },
         {
          "learner": "SAL",
          "loss": 0.4121076617842968,
          "n_iter": 921
         },
         {
          "learner": "SAL",
          "loss": 0.41211228316272125,
          "n_iter": 922
         },
         {
          "learner": "SAL",
          "loss": 0.41211361037853433,
          "n_iter": 923
         },
         {
          "learner": "SAL",
          "loss": 0.41211271513757375,
          "n_iter": 924
         },
         {
          "learner": "SAL",
          "loss": 0.41211098511745275,
          "n_iter": 925
         },
         {
          "learner": "SAL",
          "loss": 0.41210846538302304,
          "n_iter": 926
         },
         {
          "learner": "SAL",
          "loss": 0.4121052866204353,
          "n_iter": 927
         },
         {
          "learner": "SAL",
          "loss": 0.4121016013837864,
          "n_iter": 928
         },
         {
          "learner": "SAL",
          "loss": 0.4120975465909806,
          "n_iter": 929
         },
         {
          "learner": "SAL",
          "loss": 0.4120932386275684,
          "n_iter": 930
         },
         {
          "learner": "SAL",
          "loss": 0.4120887753418042,
          "n_iter": 931
         },
         {
          "learner": "SAL",
          "loss": 0.4120842389713853,
          "n_iter": 932
         },
         {
          "learner": "SAL",
          "loss": 0.41207969870053773,
          "n_iter": 933
         },
         {
          "learner": "SAL",
          "loss": 0.41207521265605246,
          "n_iter": 934
         },
         {
          "learner": "SAL",
          "loss": 0.41207082941743645,
          "n_iter": 935
         },
         {
          "learner": "SAL",
          "loss": 0.41206658916324573,
          "n_iter": 936
         },
         {
          "learner": "SAL",
          "loss": 0.41206252456439174,
          "n_iter": 937
         },
         {
          "learner": "SAL",
          "loss": 0.41205866151113996,
          "n_iter": 938
         },
         {
          "learner": "SAL",
          "loss": 0.41205501973678116,
          "n_iter": 939
         },
         {
          "learner": "SAL",
          "loss": 0.412051603731425,
          "n_iter": 940
         },
         {
          "learner": "SAL",
          "loss": 0.4120482869602409,
          "n_iter": 941
         },
         {
          "learner": "SAL",
          "loss": 0.41204505013588816,
          "n_iter": 942
         },
         {
          "learner": "SAL",
          "loss": 0.41204190500417276,
          "n_iter": 943
         },
         {
          "learner": "SAL",
          "loss": 0.41203886443156484,
          "n_iter": 944
         },
         {
          "learner": "SAL",
          "loss": 0.41203599235278093,
          "n_iter": 945
         },
         {
          "learner": "SAL",
          "loss": 0.41203327637050313,
          "n_iter": 946
         },
         {
          "learner": "SAL",
          "loss": 0.41203061770443455,
          "n_iter": 947
         },
         {
          "learner": "SAL",
          "loss": 0.4120731550931154,
          "n_iter": 948
         },
         {
          "learner": "SAL",
          "loss": 0.41211770067586784,
          "n_iter": 949
         },
         {
          "learner": "SAL",
          "loss": 0.4121581984895066,
          "n_iter": 950
         },
         {
          "learner": "SAL",
          "loss": 0.4121941594501465,
          "n_iter": 951
         },
         {
          "learner": "SAL",
          "loss": 0.412225052585207,
          "n_iter": 952
         },
         {
          "learner": "SAL",
          "loss": 0.4122500222635651,
          "n_iter": 953
         },
         {
          "learner": "SAL",
          "loss": 0.4122685549026428,
          "n_iter": 954
         },
         {
          "learner": "SAL",
          "loss": 0.4122824280210937,
          "n_iter": 955
         },
         {
          "learner": "SAL",
          "loss": 0.4122925155828739,
          "n_iter": 956
         },
         {
          "learner": "SAL",
          "loss": 0.41229946976885207,
          "n_iter": 957
         },
         {
          "learner": "SAL",
          "loss": 0.4123038635165437,
          "n_iter": 958
         },
         {
          "learner": "SAL",
          "loss": 0.41230620593412853,
          "n_iter": 959
         },
         {
          "learner": "SAL",
          "loss": 0.4123069402290579,
          "n_iter": 960
         },
         {
          "learner": "SAL",
          "loss": 0.41230644371656644,
          "n_iter": 961
         },
         {
          "learner": "SAL",
          "loss": 0.4123050313933512,
          "n_iter": 962
         },
         {
          "learner": "SAL",
          "loss": 0.4123029617133557,
          "n_iter": 963
         },
         {
          "learner": "SAL",
          "loss": 0.4124638036954948,
          "n_iter": 964
         },
         {
          "learner": "SAL",
          "loss": 0.41239807217352337,
          "n_iter": 965
         },
         {
          "learner": "SAL",
          "loss": 0.41229077897569255,
          "n_iter": 966
         },
         {
          "learner": "SAL",
          "loss": 0.41216140003371904,
          "n_iter": 967
         },
         {
          "learner": "SAL",
          "loss": 0.41200385255074434,
          "n_iter": 968
         },
         {
          "learner": "SAL",
          "loss": 0.4118553739012471,
          "n_iter": 969
         },
         {
          "learner": "SAL",
          "loss": 0.4116821826784656,
          "n_iter": 970
         },
         {
          "learner": "SAL",
          "loss": 0.4114861264272318,
          "n_iter": 971
         },
         {
          "learner": "SAL",
          "loss": 0.4112950409932738,
          "n_iter": 972
         },
         {
          "learner": "SAL",
          "loss": 0.4111381929375084,
          "n_iter": 973
         },
         {
          "learner": "SAL",
          "loss": 0.4109942119732507,
          "n_iter": 974
         },
         {
          "learner": "SAL",
          "loss": 0.41086077449959263,
          "n_iter": 975
         },
         {
          "learner": "SAL",
          "loss": 0.4107495244912973,
          "n_iter": 976
         },
         {
          "learner": "SAL",
          "loss": 0.41067745931968913,
          "n_iter": 977
         },
         {
          "learner": "SAL",
          "loss": 0.4106161730998303,
          "n_iter": 978
         },
         {
          "learner": "SAL",
          "loss": 0.4105648036094473,
          "n_iter": 979
         },
         {
          "learner": "SAL",
          "loss": 0.4105285546440573,
          "n_iter": 980
         },
         {
          "learner": "SAL",
          "loss": 0.4105048506028741,
          "n_iter": 981
         },
         {
          "learner": "SAL",
          "loss": 0.4105788984990983,
          "n_iter": 982
         },
         {
          "learner": "SAL",
          "loss": 0.4106609468044106,
          "n_iter": 983
         },
         {
          "learner": "SAL",
          "loss": 0.41074093504136505,
          "n_iter": 984
         },
         {
          "learner": "SAL",
          "loss": 0.4108196039096328,
          "n_iter": 985
         },
         {
          "learner": "SAL",
          "loss": 0.41089790983217755,
          "n_iter": 986
         },
         {
          "learner": "SAL",
          "loss": 0.410975714339866,
          "n_iter": 987
         },
         {
          "learner": "SAL",
          "loss": 0.4110532690982276,
          "n_iter": 988
         },
         {
          "learner": "SAL",
          "loss": 0.41112980358162604,
          "n_iter": 989
         },
         {
          "learner": "SAL",
          "loss": 0.4112047754077687,
          "n_iter": 990
         },
         {
          "learner": "SAL",
          "loss": 0.41127777786871333,
          "n_iter": 991
         },
         {
          "learner": "SAL",
          "loss": 0.4113484797899381,
          "n_iter": 992
         },
         {
          "learner": "SAL",
          "loss": 0.4114166171650047,
          "n_iter": 993
         },
         {
          "learner": "SAL",
          "loss": 0.41148198792090035,
          "n_iter": 994
         },
         {
          "learner": "SAL",
          "loss": 0.41139033207064485,
          "n_iter": 995
         },
         {
          "learner": "SAL",
          "loss": 0.4111162274403231,
          "n_iter": 996
         },
         {
          "learner": "SAL",
          "loss": 0.4109424703154726,
          "n_iter": 997
         },
         {
          "learner": "SAL",
          "loss": 0.4108368301329739,
          "n_iter": 998
         },
         {
          "learner": "SAL",
          "loss": 0.4107697149082157,
          "n_iter": 999
         },
         {
          "learner": "SAL",
          "loss": 0.41072220225872785,
          "n_iter": 1000
         },
         {
          "learner": "SAL",
          "loss": 0.4106891387188807,
          "n_iter": 1001
         }
        ]
       },
       "encoding": {
        "color": {
         "field": "learner",
         "type": "nominal"
        },
        "x": {
         "field": "n_iter",
         "type": "quantitative"
        },
        "y": {
         "field": "loss",
         "type": "quantitative"
        }
       },
       "height": 200,
       "mark": "line",
       "width": 400
      },
      "image/png": "[encoded data removed]",
      "image/svg+xml": [
       "<?xml version=\"1.0\" encoding=\"utf-8\"?>\n",
       "<!DOCTYPE svg PUBLIC \"-//W3C//DTD SVG 1.1//EN\" \"http://www.w3.org/Graphics/SVG/1.1/DTD/svg11.dtd\">\n",
       "<svg xmlns=\"http://www.w3.org/2000/svg\" xmlns:xlink=\"http://www.w3.org/1999/xlink\" version=\"1.1\" class=\"marks\" width=\"523\" height=\"247\" viewBox=\"0 0 523 247\"><rect width=\"523\" height=\"247\" fill=\"white\"/><g fill=\"none\" stroke-miterlimit=\"10\" transform=\"translate(42,10)\"><g class=\"mark-group role-frame root\" role=\"graphics-object\" aria-roledescription=\"group mark container\"><g transform=\"translate(0,0)\"><path class=\"background\" aria-hidden=\"true\" d=\"M0.5,0.5h400v200h-400Z\" stroke=\"#ddd\"/><g><g class=\"mark-group role-axis\" aria-hidden=\"true\"><g transform=\"translate(0.5,200.5)\"><path class=\"background\" aria-hidden=\"true\" d=\"M0,0h0v0h0Z\" pointer-events=\"none\"/><g><g class=\"mark-rule role-axis-grid\" pointer-events=\"none\"><line transform=\"translate(0,-200)\" x2=\"0\" y2=\"200\" stroke=\"#ddd\" stroke-width=\"1\" opacity=\"1\"/><line transform=\"translate(36,-200)\" x2=\"0\" y2=\"200\" stroke=\"#ddd\" stroke-width=\"1\" opacity=\"1\"/><line transform=\"translate(73,-200)\" x2=\"0\" y2=\"200\" stroke=\"#ddd\" stroke-width=\"1\" opacity=\"1\"/><line transform=\"translate(109,-200)\" x2=\"0\" y2=\"200\" stroke=\"#ddd\" stroke-width=\"1\" opacity=\"1\"/><line transform=\"translate(145,-200)\" x2=\"0\" y2=\"200\" stroke=\"#ddd\" stroke-width=\"1\" opacity=\"1\"/><line transform=\"translate(182,-200)\" x2=\"0\" y2=\"200\" stroke=\"#ddd\" stroke-width=\"1\" opacity=\"1\"/><line transform=\"translate(218,-200)\" x2=\"0\" y2=\"200\" stroke=\"#ddd\" stroke-width=\"1\" opacity=\"1\"/><line transform=\"translate(255,-200)\" x2=\"0\" y2=\"200\" stroke=\"#ddd\" stroke-width=\"1\" opacity=\"1\"/><line transform=\"translate(291,-200)\" x2=\"0\" y2=\"200\" stroke=\"#ddd\" stroke-width=\"1\" opacity=\"1\"/><line transform=\"translate(327,-200)\" x2=\"0\" y2=\"200\" stroke=\"#ddd\" stroke-width=\"1\" opacity=\"1\"/><line transform=\"translate(364,-200)\" x2=\"0\" y2=\"200\" stroke=\"#ddd\" stroke-width=\"1\" opacity=\"1\"/><line transform=\"translate(400,-200)\" x2=\"0\" y2=\"200\" stroke=\"#ddd\" stroke-width=\"1\" opacity=\"1\"/></g></g><path class=\"foreground\" aria-hidden=\"true\" d=\"\" pointer-events=\"none\" display=\"none\"/></g></g><g class=\"mark-group role-axis\" aria-hidden=\"true\"><g transform=\"translate(0.5,0.5)\"><path class=\"background\" aria-hidden=\"true\" d=\"M0,0h0v0h0Z\" pointer-events=\"none\"/><g><g class=\"mark-rule role-axis-grid\" pointer-events=\"none\"><line transform=\"translate(0,200)\" x2=\"400\" y2=\"0\" stroke=\"#ddd\" stroke-width=\"1\" opacity=\"1\"/><line transform=\"translate(0,160)\" x2=\"400\" y2=\"0\" stroke=\"#ddd\" stroke-width=\"1\" opacity=\"1\"/><line transform=\"translate(0,120)\" x2=\"400\" y2=\"0\" stroke=\"#ddd\" stroke-width=\"1\" opacity=\"1\"/><line transform=\"translate(0,80)\" x2=\"400\" y2=\"0\" stroke=\"#ddd\" stroke-width=\"1\" opacity=\"1\"/><line transform=\"translate(0,40)\" x2=\"400\" y2=\"0\" stroke=\"#ddd\" stroke-width=\"1\" opacity=\"1\"/><line transform=\"translate(0,0)\" x2=\"400\" y2=\"0\" stroke=\"#ddd\" stroke-width=\"1\" opacity=\"1\"/></g></g><path class=\"foreground\" aria-hidden=\"true\" d=\"\" pointer-events=\"none\" display=\"none\"/></g></g><g class=\"mark-group role-axis\" role=\"graphics-symbol\" aria-roledescription=\"axis\" aria-label=\"X-axis titled 'n_iter' for a linear scale with values from 0 to 1,100\"><g transform=\"translate(0.5,200.5)\"><path class=\"background\" aria-hidden=\"true\" d=\"M0,0h0v0h0Z\" pointer-events=\"none\"/><g><g class=\"mark-rule role-axis-tick\" pointer-events=\"none\"><line transform=\"translate(0,0)\" x2=\"0\" y2=\"5\" stroke=\"#888\" stroke-width=\"1\" opacity=\"1\"/><line transform=\"translate(36,0)\" x2=\"0\" y2=\"5\" stroke=\"#888\" stroke-width=\"1\" opacity=\"1\"/><line transform=\"translate(73,0)\" x2=\"0\" y2=\"5\" stroke=\"#888\" stroke-width=\"1\" opacity=\"1\"/><line transform=\"translate(109,0)\" x2=\"0\" y2=\"5\" stroke=\"#888\" stroke-width=\"1\" opacity=\"1\"/><line transform=\"translate(145,0)\" x2=\"0\" y2=\"5\" stroke=\"#888\" stroke-width=\"1\" opacity=\"1\"/><line transform=\"translate(182,0)\" x2=\"0\" y2=\"5\" stroke=\"#888\" stroke-width=\"1\" opacity=\"1\"/><line transform=\"translate(218,0)\" x2=\"0\" y2=\"5\" stroke=\"#888\" stroke-width=\"1\" opacity=\"1\"/><line transform=\"translate(255,0)\" x2=\"0\" y2=\"5\" stroke=\"#888\" stroke-width=\"1\" opacity=\"1\"/><line transform=\"translate(291,0)\" x2=\"0\" y2=\"5\" stroke=\"#888\" stroke-width=\"1\" opacity=\"1\"/><line transform=\"translate(327,0)\" x2=\"0\" y2=\"5\" stroke=\"#888\" stroke-width=\"1\" opacity=\"1\"/><line transform=\"translate(364,0)\" x2=\"0\" y2=\"5\" stroke=\"#888\" stroke-width=\"1\" opacity=\"1\"/><line transform=\"translate(400,0)\" x2=\"0\" y2=\"5\" stroke=\"#888\" stroke-width=\"1\" opacity=\"1\"/></g><g class=\"mark-text role-axis-label\" pointer-events=\"none\"><text text-anchor=\"start\" transform=\"translate(0,15)\" font-family=\"sans-serif\" font-size=\"10px\" fill=\"#000\" opacity=\"1\">0</text><text text-anchor=\"middle\" transform=\"translate(36.36363636363637,15)\" font-family=\"sans-serif\" font-size=\"10px\" fill=\"#000\" opacity=\"0\">100</text><text text-anchor=\"middle\" transform=\"translate(72.72727272727273,15)\" font-family=\"sans-serif\" font-size=\"10px\" fill=\"#000\" opacity=\"1\">200</text><text text-anchor=\"middle\" transform=\"translate(109.09090909090908,15)\" font-family=\"sans-serif\" font-size=\"10px\" fill=\"#000\" opacity=\"0\">300</text><text text-anchor=\"middle\" transform=\"translate(145.45454545454547,15)\" font-family=\"sans-serif\" font-size=\"10px\" fill=\"#000\" opacity=\"1\">400</text><text text-anchor=\"middle\" transform=\"translate(181.8181818181818,15)\" font-family=\"sans-serif\" font-size=\"10px\" fill=\"#000\" opacity=\"0\">500</text><text text-anchor=\"middle\" transform=\"translate(218.18181818181816,15)\" font-family=\"sans-serif\" font-size=\"10px\" fill=\"#000\" opacity=\"1\">600</text><text text-anchor=\"middle\" transform=\"translate(254.54545454545453,15)\" font-family=\"sans-serif\" font-size=\"10px\" fill=\"#000\" opacity=\"0\">700</text><text text-anchor=\"middle\" transform=\"translate(290.90909090909093,15)\" font-family=\"sans-serif\" font-size=\"10px\" fill=\"#000\" opacity=\"1\">800</text><text text-anchor=\"middle\" transform=\"translate(327.2727272727273,15)\" font-family=\"sans-serif\" font-size=\"10px\" fill=\"#000\" opacity=\"0\">900</text><text text-anchor=\"middle\" transform=\"translate(363.6363636363636,15)\" font-family=\"sans-serif\" font-size=\"10px\" fill=\"#000\" opacity=\"1\">1,000</text><text text-anchor=\"end\" transform=\"translate(400,15)\" font-family=\"sans-serif\" font-size=\"10px\" fill=\"#000\" opacity=\"0\">1,100</text></g><g class=\"mark-rule role-axis-domain\" pointer-events=\"none\"><line transform=\"translate(0,0)\" x2=\"400\" y2=\"0\" stroke=\"#888\" stroke-width=\"1\" opacity=\"1\"/></g><g class=\"mark-text role-axis-title\" pointer-events=\"none\"><text text-anchor=\"middle\" transform=\"translate(200,30)\" font-family=\"sans-serif\" font-size=\"11px\" font-weight=\"bold\" fill=\"#000\" opacity=\"1\">n_iter</text></g></g><path class=\"foreground\" aria-hidden=\"true\" d=\"\" pointer-events=\"none\" display=\"none\"/></g></g><g class=\"mark-group role-axis\" role=\"graphics-symbol\" aria-roledescription=\"axis\" aria-label=\"Y-axis titled 'loss' for a linear scale with values from 0.0 to 1.0\"><g transform=\"translate(0.5,0.5)\"><path class=\"background\" aria-hidden=\"true\" d=\"M0,0h0v0h0Z\" pointer-events=\"none\"/><g><g class=\"mark-rule role-axis-tick\" pointer-events=\"none\"><line transform=\"translate(0,200)\" x2=\"-5\" y2=\"0\" stroke=\"#888\" stroke-width=\"1\" opacity=\"1\"/><line transform=\"translate(0,160)\" x2=\"-5\" y2=\"0\" stroke=\"#888\" stroke-width=\"1\" opacity=\"1\"/><line transform=\"translate(0,120)\" x2=\"-5\" y2=\"0\" stroke=\"#888\" stroke-width=\"1\" opacity=\"1\"/><line transform=\"translate(0,80)\" x2=\"-5\" y2=\"0\" stroke=\"#888\" stroke-width=\"1\" opacity=\"1\"/><line transform=\"translate(0,40)\" x2=\"-5\" y2=\"0\" stroke=\"#888\" stroke-width=\"1\" opacity=\"1\"/><line transform=\"translate(0,0)\" x2=\"-5\" y2=\"0\" stroke=\"#888\" stroke-width=\"1\" opacity=\"1\"/></g><g class=\"mark-text role-axis-label\" pointer-events=\"none\"><text text-anchor=\"end\" transform=\"translate(-7,203)\" font-family=\"sans-serif\" font-size=\"10px\" fill=\"#000\" opacity=\"1\">0.0</text><text text-anchor=\"end\" transform=\"translate(-7,163)\" font-family=\"sans-serif\" font-size=\"10px\" fill=\"#000\" opacity=\"1\">0.2</text><text text-anchor=\"end\" transform=\"translate(-7,123)\" font-family=\"sans-serif\" font-size=\"10px\" fill=\"#000\" opacity=\"1\">0.4</text><text text-anchor=\"end\" transform=\"translate(-7,83)\" font-family=\"sans-serif\" font-size=\"10px\" fill=\"#000\" opacity=\"1\">0.6</text><text text-anchor=\"end\" transform=\"translate(-7,42.99999999999999)\" font-family=\"sans-serif\" font-size=\"10px\" fill=\"#000\" opacity=\"1\">0.8</text><text text-anchor=\"end\" transform=\"translate(-7,3)\" font-family=\"sans-serif\" font-size=\"10px\" fill=\"#000\" opacity=\"1\">1.0</text></g><g class=\"mark-rule role-axis-domain\" pointer-events=\"none\"><line transform=\"translate(0,200)\" x2=\"0\" y2=\"-200\" stroke=\"#888\" stroke-width=\"1\" opacity=\"1\"/></g><g class=\"mark-text role-axis-title\" pointer-events=\"none\"><text text-anchor=\"middle\" transform=\"translate(-26,100) rotate(-90) translate(0,-2)\" font-family=\"sans-serif\" font-size=\"11px\" font-weight=\"bold\" fill=\"#000\" opacity=\"1\">loss</text></g></g><path class=\"foreground\" aria-hidden=\"true\" d=\"\" pointer-events=\"none\" display=\"none\"/></g></g><g class=\"mark-group role-scope pathgroup\" role=\"graphics-object\" aria-roledescription=\"group mark container\"><g transform=\"translate(0,0)\"><path class=\"background\" aria-hidden=\"true\" d=\"M0,0h400v200h-400Z\"/><g><g class=\"mark-line role-mark marks\" role=\"graphics-object\" aria-roledescription=\"line mark container\"><path aria-label=\"n_iter: 1; loss: 0.922541771457; learner: XGBoost\" role=\"graphics-symbol\" aria-roledescription=\"line mark\" d=\"M0.36363636363636365,15.491645708521329L0.7272727272727273,17.531946704157786L1.090909090909091,19.561494013840818L1.4545454545454546,21.516759156642973L1.8181818181818181,23.282476017277265L2.181818181818182,25.216580238188335L2.5454545454545454,26.95528563333369L2.909090909090909,28.607582692975054L3.272727272727273,30.3340194498692L3.6363636363636362,31.923173141085638L4,33.585107254322445L4.363636363636364,35.3721958540556L4.7272727272727275,36.96468830104518L5.090909090909091,38.59960398772435L5.454545454545454,40.123043528569305L5.818181818181818,41.58051035009991L6.181818181818182,43.05548365181815L6.545454545454546,44.6517407261591L6.909090909090909,46.06034691506622L7.2727272727272725,47.563379222570475L7.636363636363637,48.935711783545365L8,50.25846864418424L8.363636363636363,51.657757577785056L8.727272727272728,52.97320733208637L9.090909090909092,54.19315149737256L9.454545454545455,55.41588070105754L9.818181818181818,56.7292395230248L10.181818181818182,57.931280251652865L10.545454545454545,59.044624867958426L10.909090909090908,60.21787604537221L11.272727272727273,61.37279553012374L11.636363636363637,62.543619768079985L12,63.65066790435592L12.363636363636363,64.69309586879623L12.727272727272727,65.70726623264123L13.090909090909092,66.76407431972355L13.454545454545455,67.80612859950335L13.818181818181818,68.7982564832225L14.181818181818182,69.72898084940753L14.545454545454545,70.71084038488297L14.909090909090908,71.66304356708355L15.272727272727273,72.539835912275L15.636363636363637,73.43955267100566L16,74.35168378335324L16.363636363636363,75.17883110526793L16.727272727272727,76.0437225415769L17.09090909090909,76.9564206407557L17.454545454545457,77.72354615953063L17.81818181818182,78.54397943238529L18.181818181818183,79.31399785228533L18.545454545454547,80.15936337995333L18.90909090909091,80.88267202314495L19.272727272727273,81.61557178029094L19.636363636363637,82.39484238843322L20,83.13078733576815L20.363636363636363,83.91954436939196L20.727272727272727,84.60311251054384L21.09090909090909,85.35989212619202L21.454545454545453,86.01426916155128L21.818181818181817,86.61558040822558L22.181818181818183,87.26014693439022L22.545454545454547,87.85649187296247L22.90909090909091,88.49140695508197L23.272727272727273,89.15677680086267L23.636363636363637,89.74063901578396L24,90.38777127084634L24.363636363636363,90.93425734582968L24.727272727272727,91.46230137456719L25.09090909090909,92.02261007320163L25.454545454545453,92.58667290360675L25.818181818181817,93.126395137146L26.181818181818183,93.60982852459765L26.545454545454543,94.16873846758523L26.90909090909091,94.67234086640075L27.27272727272727,95.14835558946359L27.636363636363637,95.65987241128515L28.000000000000004,96.18273508903805L28.363636363636363,96.65667554591084L28.72727272727273,97.08784167821997L29.09090909090909,97.57372001956793L29.454545454545457,98.02216657643716L29.818181818181817,98.40200957641191L30.181818181818183,98.83365537673912L30.545454545454547,99.26122664882145L30.909090909090907,99.70885513030869L31.272727272727273,100.08496779055523L31.636363636363633,100.44344423119603L32,100.83726404253879L32.36363636363636,101.20701356884712L32.72727272727273,101.5679572146557L33.09090909090909,101.96751250694282L33.45454545454545,102.28453449647236L33.81818181818182,102.61174528753696L34.18181818181818,102.9570241634322L34.54545454545455,103.28662417592409L34.909090909090914,103.61592479627038L35.27272727272727,103.9351616760362L35.63636363636364,104.23400537432808L36,104.5452650563247L36.36363636363637,104.83120892639266L36.72727272727273,105.11726885927423L37.09090909090909,105.41045658213943L37.45454545454546,105.6817183398223L37.81818181818182,105.95100109441415L38.18181818181819,106.24481510885641L38.54545454545455,106.47107797650715L38.90909090909091,106.75550549650458L39.27272727272727,106.98088885261447L39.63636363636363,107.23796055292092L40,107.4856009967021L40.36363636363636,107.71929598749298L40.72727272727273,107.94535828998124L41.090909090909086,108.24005662377618L41.45454545454545,108.4235026274059L41.81818181818181,108.63426465759831L42.18181818181818,108.91434259927415L42.54545454545455,109.11425332145568L42.90909090909091,109.38386786570366L43.27272727272727,109.56444596053392L43.63636363636363,109.74991031270163L44,110.0047510249978L44.36363636363637,110.1549229789935L44.72727272727273,110.32074001091728L45.09090909090909,110.56876760905976L45.45454545454545,110.74220624744146L45.81818181818182,110.87710244057347L46.18181818181818,111.10798337891725L46.54545454545455,111.24404467980477L46.909090909090914,111.37274008198142L47.27272727272727,111.55522183074265L47.63636363636364,111.70514498200768L48,111.87936115916865L48.36363636363637,112.03300014312534L48.72727272727273,112.14153902028465L49.09090909090909,112.30896531617019L49.45454545454545,112.46686594337825L49.81818181818182,112.62327517571684L50.18181818181818,112.78868943090173L50.54545454545455,112.94243125576664L50.90909090909091,113.04650673890868L51.272727272727266,113.17907546887884L51.63636363636363,113.31904428163271L52,113.4047215668403L52.36363636363637,113.53847540824606L52.72727272727272,113.63096114917587L53.090909090909086,113.71420398316383L53.45454545454545,113.88627097351089L53.81818181818182,113.99509091356492L54.18181818181819,114.06024811616209L54.54545454545454,114.18974320580936L54.90909090909091,114.25325259452546L55.27272727272727,114.42449374586401L55.63636363636364,114.5218240030065L56.00000000000001,114.58216268666655L56.36363636363636,114.68895845004619L56.72727272727273,114.79815828189992L57.09090909090909,114.92135086294992L57.45454545454546,115.01743271824174L57.81818181818181,115.07278200137688L58.18181818181818,115.15678837431298L58.54545454545455,115.30695313507051L58.909090909090914,115.36792864079268L59.27272727272728,115.41662210011985L59.63636363636363,115.50255676055853L60,115.606272132126L60.36363636363637,115.6613519516334L60.72727272727273,115.71944951565155L61.09090909090909,115.75672155657024L61.45454545454545,115.85197057156378L61.81818181818181,115.90135664296182L62.18181818181818,115.93772240368376L62.54545454545455,115.97187585565551L62.909090909090914,116.09713152121972L63.272727272727266,116.14153790445113L63.63636363636363,116.16910005672932L64,116.22255297472057L64.36363636363637,116.2661702603681L64.72727272727272,116.3283040224637L65.0909090909091,116.37370331561578L65.45454545454545,116.44968158305467L65.81818181818181,116.47683706329886L66.18181818181819,116.5337540866592L66.54545454545455,116.63443172494397L66.9090909090909,116.66711319068158L67.27272727272727,116.68677699161698L67.63636363636364,116.8082676336283L68,116.84545806977928L68.36363636363636,116.96314838479131L68.72727272727272,117.01233870127967L69.0909090909091,117.05987680703554L69.45454545454545,117.12584612673437L69.81818181818183,117.2212264797982L70.18181818181817,117.28430419578393L70.54545454545455,117.39334878219809L70.9090909090909,117.40620841262705L71.27272727272728,117.4658078024668L71.63636363636363,117.51022396149185L72,117.56726748612158L72.36363636363636,117.60197782674031L72.72727272727273,117.62697331930185L73.0909090909091,117.65810896679423L73.45454545454545,117.70465606599791L73.81818181818181,117.75399870648369L74.18181818181819,117.7906472298631L74.54545454545455,117.89093428942188L74.90909090909092,117.9372696315441L75.27272727272727,117.94445057018916L75.63636363636364,117.97835972038604L76,118.04499475694055L76.36363636363637,118.09334794093354L76.72727272727272,118.11649819977019L77.0909090909091,118.14495256812938L77.45454545454545,118.18675087321341L77.81818181818181,118.22753689731327L78.18181818181819,118.26342365297857L78.54545454545455,118.27897243059462L78.9090909090909,118.29152330696226L79.27272727272727,118.31581637769202L79.63636363636364,118.35315767110086L80,118.38325440691663L80.36363636363636,118.41480072902044L80.72727272727272,118.45314357047516L81.0909090909091,118.46414986149938L81.45454545454545,118.54289566442422L81.81818181818183,118.57913858641469L82.18181818181817,118.60698194102196L82.54545454545455,118.64176890769822L82.9090909090909,118.6676082976021L83.27272727272728,118.73717064246199L83.63636363636363,118.79081928481207L84,118.81987232096142L84.36363636363636,118.89155006921395L84.72727272727273,118.9232008338021L85.0909090909091,118.90105439071554L85.45454545454545,118.97047816923694L85.81818181818181,118.98482569435687L86.18181818181819,118.96015753138609L86.54545454545455,118.97863390352454L86.9090909090909,119.04136239341649L87.27272727272727,119.09856864658646L87.63636363636364,119.06252990052346L88,119.07297575335613L88.36363636363636,119.08203226540567L88.72727272727273,119.14165625957507L89.0909090909091,119.1490688251692L89.45454545454545,119.22569359965709L89.81818181818181,119.18567413387906L90.18181818181819,119.18051592577832L90.54545454545455,119.1485604300988L90.9090909090909,119.22175929022087L91.27272727272727,119.27819520557092L91.63636363636364,119.28068347230769L92,119.28089716050007L92.36363636363636,119.27349970178831L92.72727272727272,119.32311219742542L93.0909090909091,119.27882764689777L93.45454545454545,119.27895721362319L93.81818181818183,119.27920834359202L94.18181818181817,119.34714419336679L94.54545454545455,119.40746484411173L94.9090909090909,119.39566602478115L95.27272727272728,119.46131704591335L95.63636363636364,119.41401876474833L96,119.41086304207178L96.36363636363636,119.3619223280336L96.72727272727273,119.4096506990149L97.0909090909091,119.45012949128557L97.45454545454545,119.4555103199594L97.81818181818181,119.4148091040756L98.18181818181819,119.47603792980574L98.54545454545455,119.50974224646207L98.9090909090909,119.50303338732996L99.27272727272727,119.49748737237668L99.63636363636364,119.53989234651874L100,119.58150113045801L100.36363636363636,119.52882968207503L100.72727272727273,119.56967282294566L101.0909090909091,119.56257264213485L101.45454545454547,119.56161732111438L101.81818181818181,119.50758099737928L102.18181818181817,119.56061072095214L102.54545454545453,119.55350524363261L102.9090909090909,119.54154948970037L103.27272727272727,119.49607177635957L103.63636363636364,119.55583833343061L104,119.57920863255542L104.36363636363637,119.57102970085273L104.72727272727273,119.62412464919589L105.09090909090911,119.61529490745484L105.45454545454544,119.675627808012L105.81818181818181,119.67772149532632L106.18181818181817,119.62030521822149L106.54545454545455,119.66426372301373L106.9090909090909,119.66100178707055L107.27272727272728,119.71498964893112L107.63636363636364,119.72218048595393L108,119.71213451511078L108.36363636363637,119.74704524133864L108.72727272727272,119.68327537475938L109.09090909090908,119.73430201054391L109.45454545454545,119.66982371472761L109.81818181818181,119.70884062968317L110.18181818181819,119.76277603384548L110.54545454545455,119.75772060853818L110.9090909090909,119.7567853868763L111.27272727272728,119.69469476866546L111.63636363636364,119.73225967995984L112.00000000000001,119.72650271205094L112.36363636363636,119.7628194962578L112.72727272727272,119.69695103311705L113.0909090909091,119.7484158616013L113.45454545454545,119.73572376592733L113.81818181818181,119.75195356389578L114.18181818181819,119.7473854258202L114.54545454545455,119.74440789968092L114.90909090909092,119.67771880489941L115.27272727272728,119.70552176014245L115.63636363636363,119.64141077066022L115.99999999999999,119.63438915758171L116.36363636363636,119.6682226506193L116.72727272727272,119.6750547452873L117.0909090909091,119.60516530441137L117.45454545454545,119.65386531564528L117.81818181818183,119.68043437924223L118.18181818181819,119.67864991993311L118.54545454545456,119.66427018372383L118.90909090909092,119.6156421217637L119.27272727272727,119.61322202367049L119.63636363636363,119.61945541168981L120,119.57008353855598L120.36363636363636,119.50136590902751L120.72727272727273,119.5272293175242L121.0909090909091,119.52711378162186L121.45454545454545,119.5414415824061L121.81818181818183,119.49097912463493L122.18181818181819,119.51753763966835L122.54545454545453,119.52311707456016L122.9090909090909,119.52283254070237L123.27272727272727,119.52118218231465L123.63636363636363,119.5154266620801L124,119.5450144267498L124.36363636363636,119.52877504064736L124.72727272727273,119.5276924693005L125.0909090909091,119.52112968575099L125.45454545454547,119.54471883425788L125.81818181818183,119.53581084293081L126.18181818181817,119.56373435158274L126.54545454545453,119.54675329142685L126.9090909090909,119.54644442384091L127.27272727272727,119.56876120291322L127.63636363636364,119.56676487802534L128,119.55864264117993L128.36363636363637,119.54207592323036L128.72727272727275,119.5244160049927L129.0909090909091,119.52179001717052L129.45454545454544,119.52025396335446L129.8181818181818,119.50415823119833L130.1818181818182,119.48598145581424L130.54545454545453,119.4697054723664L130.9090909090909,119.46642347651242L131.27272727272728,119.44895392804733L131.63636363636363,119.46085659582906L132,119.45712941661124L132.36363636363637,119.43851184524057L132.72727272727275,119.46905293690222L133.0909090909091,119.45858876168805L133.45454545454544,119.4417924856668L133.8181818181818,119.42271625860408L134.1818181818182,119.4136097649285L134.54545454545453,119.39663370752021L134.9090909090909,119.40090261042428L135.27272727272728,119.39636699111932L135.63636363636365,119.38580846807216L136,119.38554835994645L136.36363636363635,119.4141582439764L136.72727272727272,119.39466076095924L137.0909090909091,119.38514057969005L137.45454545454544,119.38960085196449L137.8181818181818,119.36972109722184L138.1818181818182,119.35220169418992L138.54545454545456,119.34119753516752L138.9090909090909,119.34499258493973L139.27272727272728,119.33939718611295L139.63636363636365,119.30991978606369L140,119.29810143686686L140.36363636363635,119.31376502239866L140.72727272727272,119.30109696431181L141.0909090909091,119.3044962181427L141.45454545454547,119.30813482668157L141.8181818181818,119.30363239676929L142.1818181818182,119.32449052845008L142.54545454545456,119.31424890717508L142.9090909090909,119.31418210609101L143.27272727272725,119.29607222253308L143.63636363636363,119.27685825550678L144,119.28012430991627L144.36363636363637,119.28269478261488L144.72727272727272,119.27630650970191L145.0909090909091,119.25643508615562L145.45454545454547,119.2398875990758L145.8181818181818,119.23303882732976L146.1818181818182,119.24624979208969L146.54545454545456,119.24786701110239L146.9090909090909,119.23595761817118L147.27272727272725,119.25703352351991L147.63636363636363,119.23836906314227L148,119.24303893578627L148.36363636363637,119.2591355252403L148.72727272727272,119.22988975246791L149.0909090909091,119.24222927442436L149.45454545454547,119.23723278670803L149.81818181818184,119.25288231917324L150.18181818181816,119.2551315457288L150.54545454545453,119.26704612438942L150.9090909090909,119.2322997180201L151.27272727272728,119.23366195553584L151.63636363636363,119.22348028857508L152,119.2349263653343L152.36363636363637,119.20545629623342L152.72727272727275,119.19909879596358L153.0909090909091,119.1947759743968L153.45454545454544,119.23505905103839L153.8181818181818,119.23734053758106L154.1818181818182,119.24821348519244L154.54545454545453,119.26300585246511L154.9090909090909,119.25849059771303L155.27272727272728,119.26186025260219L155.63636363636363,119.27237307772984L156,119.25615110621224L156.36363636363637,119.26518879215702L156.72727272727275,119.26697189382529L157.0909090909091,119.22744223663824L157.45454545454544,119.26125053171037L157.8181818181818,119.25654330438857L158.1818181818182,119.26396099520065L158.54545454545453,119.27374488928275L158.9090909090909,119.2718174183389L159.27272727272728,119.26686947935663L159.63636363636365,119.29989449243601L160,119.29742168341701L160.36363636363635,119.30308446638L160.72727272727272,119.3124043052021L161.0909090909091,119.2725723012888L161.45454545454544,119.26745601462683L161.8181818181818,119.28393534117615L162.1818181818182,119.28795931880371L162.54545454545456,119.28258956634615L162.9090909090909,119.31910724142298L163.27272727272728,119.290509504547L163.63636363636365,119.29927555054927L164,119.29377876812595L164.36363636363635,119.2961084395201L164.72727272727272,119.29378781016351L165.0909090909091,119.32554875426335L165.45454545454547,119.3244083340009L165.8181818181818,119.32821971935748L166.1818181818182,119.34501940107131L166.54545454545456,119.33936499901274L166.9090909090909,119.3400720074258L167.27272727272725,119.32663584877281L167.63636363636363,119.3578690312254L168,119.35445363708897L168.36363636363637,119.3485737507449L168.72727272727272,119.35635165539252L169.0909090909091,119.35921569574207L169.45454545454547,119.36554577510874L169.8181818181818,119.33582834023775L170.1818181818182,119.33924490037225L170.54545454545456,119.33887864914779L170.9090909090909,119.32503223630336L171.27272727272725,119.29484029082262L171.63636363636363,119.30996789382351L172,119.31244534093564L172.36363636363637,119.31504931008234L172.72727272727272,119.30908665771862L173.0909090909091,119.30757477209966L173.45454545454547,119.3197831130154L173.8181818181818,119.30415689983063L174.18181818181816,119.31841409346617L174.54545454545453,119.31608652352838L174.9090909090909,119.31743326749529L175.27272727272728,119.32220845181594L175.63636363636363,119.31613181099449L176,119.31430384680799L176.36363636363637,119.30002173761957L176.72727272727272,119.28137334891338L177.0909090909091,119.27803876214844L177.45454545454547,119.29353457663008L177.8181818181818,119.28985091285176L178.1818181818182,119.29814575069067L178.54545454545453,119.30401350213033L178.9090909090909,119.30151975553997L179.27272727272728,119.31393308480804L179.63636363636363,119.30352571363593L180,119.30078744191937L180.36363636363637,119.29469186009456L180.72727272727275,119.30890025687546L181.0909090909091,119.30673022159768L181.45454545454544,119.30766272535244L181.8181818181818,119.2971292652926L182.1818181818182,119.30420691952715L182.54545454545453,119.31576321632964L182.9090909090909,119.31196157249684L183.27272727272728,119.31964228178464L183.63636363636365,119.2830917251353L184,119.29407724472046L184.36363636363637,119.29142285689794L184.72727272727272,119.28779921985347L185.0909090909091,119.28167321702286L185.45454545454544,119.29217383623123L185.8181818181818,119.30472264414907L186.1818181818182,119.30195790591225L186.54545454545456,119.29568428706192L186.9090909090909,119.29441550908066L187.27272727272728,119.30986548018683L187.63636363636365,119.32780975498281L188,119.31302115966452L188.36363636363635,119.2862316716234L188.72727272727272,119.28311920135278L189.0909090909091,119.29476823189518L189.45454545454544,119.28838633260774L189.8181818181818,119.2858053843837L190.1818181818182,119.28351497745122L190.54545454545456,119.24807897116678L190.9090909090909,119.25366083205513L191.27272727272728,119.24982904319963L191.63636363636363,119.24151695811425L192,119.25394748283264L192.36363636363635,119.25489933960111L192.72727272727272,119.24840735333007L193.0909090909091,119.26221641499097L193.45454545454547,119.2361953881548L193.8181818181818,119.19829989371216L194.1818181818182,119.20913284978707L194.54545454545456,119.21414061092986L194.9090909090909,119.17460448240398L195.27272727272725,119.17522750366483L195.63636363636363,119.18646182045025L196,119.17986955568938L196.36363636363637,119.17826877313735L196.72727272727272,119.19120162825539L197.0909090909091,119.19223771774546L197.45454545454547,119.16610694446612L197.8181818181818,119.15763314121386L198.1818181818182,119.1603548490384L198.54545454545453,119.15367748668619L198.9090909090909,119.15067678406359L199.27272727272728,119.16663868204502L199.63636363636363,119.14048753085076L200,119.14080803110201L200.36363636363635,119.11917282049399L200.72727272727272,119.11580337797733L201.09090909090907,119.08962605170059L201.45454545454547,119.06244457084622L201.8181818181818,119.06700195461737L202.1818181818182,119.06322401580529L202.54545454545453,119.05654364837706L202.90909090909093,119.08161171183815L203.27272727272728,119.05548078365752L203.63636363636363,119.04902996709109L204,119.06073584349302L204.36363636363635,119.08420392104055L204.72727272727275,119.04334679150132L205.09090909090907,119.03685168523053L205.45454545454547,118.99940307379975L205.8181818181818,118.97714642387567L206.1818181818182,118.98080217404541L206.54545454545453,118.97950871745537L206.90909090909088,118.98673791054053L207.27272727272728,119.00860482388893L207.63636363636363,118.99268778635275L208,118.99994676971686L208.36363636363635,118.98235091894085L208.72727272727275,118.95728509941883L209.0909090909091,118.95048517519311L209.45454545454547,118.97071035380735L209.8181818181818,118.96312947331494L210.18181818181822,118.97390853688611L210.54545454545456,118.96249204918075L210.90909090909088,118.9250147307055L211.27272727272728,118.94369900279149L211.63636363636363,118.92439228360014L212,118.92289635247018L212.36363636363635,118.919523494263L212.72727272727275,118.89440200415966L213.0909090909091,118.91062147057715L213.45454545454547,118.89460020377534L213.8181818181818,118.9026001809907L214.18181818181816,118.89211957388824L214.54545454545456,118.88027746522782L214.9090909090909,118.87902284403889L215.27272727272728,118.88931992693385L215.63636363636363,118.89042785375455L216,118.84796670160773L216.36363636363635,118.81330433465511L216.72727272727275,118.82333880437739L217.0909090909091,118.80737460785724L217.45454545454544,118.76981795141765L217.8181818181818,118.766166888374L218.18181818181816,118.7260658844711L218.54545454545456,118.72942622258071L218.9090909090909,118.71741870437562L219.27272727272728,118.71265627188521L219.63636363636363,118.6801765081058L220.00000000000003,118.68578097589757L220.36363636363637,118.66628168861865L220.7272727272727,118.67592889147262L221.0909090909091,118.66518840534677L221.45454545454544,118.67056742791124L221.8181818181818,118.67086883940705L222.18181818181816,118.6586170509333L222.54545454545456,118.6622381799546L222.9090909090909,118.63445237371644L223.27272727272728,118.6376154520334L223.63636363636363,118.60479815679001L224.00000000000003,118.58524463442603L224.36363636363637,118.57284583123327L224.72727272727272,118.58164077191292L225.0909090909091,118.60137005907767L225.45454545454544,118.60648106724506L225.81818181818184,118.60674732038218L226.1818181818182,118.61592113753616L226.54545454545456,118.5767198704017L226.9090909090909,118.58242280439666L227.27272727272728,118.56283082704948L227.63636363636363,118.55034546956789L227.99999999999997,118.53944679894906L228.36363636363637,118.54428114382904L228.72727272727272,118.54718083985145L229.0909090909091,118.54515622847828L229.45454545454544,118.52821365285547L229.81818181818184,118.50153991798788L230.1818181818182,118.51376918210849L230.54545454545456,118.51042144246478L230.9090909090909,118.47015575958673L231.27272727272725,118.45749119011279L231.63636363636363,118.47356096274406L231.99999999999997,118.47816494692935L232.36363636363637,118.4621026741705L232.72727272727272,118.4684421594574L233.0909090909091,118.45741740955238L233.45454545454544,118.46182137526387L233.81818181818184,118.44373397202345L234.1818181818182,118.4408733096447L234.54545454545453,118.43750375488402L234.9090909090909,118.43862158533453L235.27272727272725,118.44878535217953L235.63636363636365,118.43554749177206L236,118.41947394776939L236.36363636363637,118.40838473101032L236.72727272727272,118.40812930561037L237.09090909090912,118.40471373598625L237.45454545454544,118.387185461559L237.81818181818184,118.38819784306706L238.1818181818182,118.38609978585765L238.54545454545453,118.37006640861678L238.9090909090909,118.33281308276283L239.27272727272725,118.31873558485712L239.63636363636365,118.30590821741676L240,118.28793497991197L240.36363636363637,118.27672822466637L240.72727272727272,118.28445769585679L241.09090909090912,118.28536009900712L241.45454545454547,118.29034680908607L241.8181818181818,118.2723064761659L242.1818181818182,118.27658422635783L242.54545454545453,118.27908042344038L242.9090909090909,118.26618132240378L243.27272727272725,118.25137069432171L243.63636363636365,118.23191475199049L244,118.19606648862325L244.36363636363637,118.18499752672544L244.72727272727272,118.17324849232942L245.09090909090907,118.17403565010292L245.45454545454547,118.16033417805411L245.8181818181818,118.14166767115223L246.1818181818182,118.14163168247904L246.54545454545453,118.12621367115437L246.90909090909093,118.13385122883994L247.27272727272725,118.12363247369815L247.63636363636365,118.12431671341173L248,118.10542488663076L248.36363636363635,118.081965590403L248.72727272727272,118.04379822484283L249.09090909090907,118.05103322735393L249.45454545454547,118.05094250789536L249.8181818181818,118.05497953463502L250.1818181818182,118.04250589711938L250.54545454545453,118.03711821181966L250.90909090909093,118.03772710726915L251.27272727272728,118.04451290135827L251.63636363636365,118.03422331060003L252,118.01483496062315L252.36363636363635,118.00848281262404L252.72727272727275,117.98210633627436L253.09090909090907,117.9466276577378L253.45454545454547,117.94219193141546L253.8181818181818,117.94201332522591L254.1818181818182,117.9422153424954L254.54545454545453,117.94272547520413L254.90909090909093,117.92035419675942L255.27272727272728,117.91735268140312L255.63636363636363,117.89782479670123L256,117.90498289805433L256.3636363636364,117.88119596315296L256.72727272727275,117.88162522289383L257.09090909090907,117.85666590164068L257.4545454545455,117.85350190358663L257.8181818181818,117.85316336276983L258.1818181818182,117.8593490988582L258.54545454545456,117.84599168096794L258.9090909090909,117.81304023005971L259.27272727272725,117.80077672744203L259.6363636363636,117.77878996663725L260,117.77553662098646L260.3636363636364,117.75051521385097L260.72727272727275,117.74676691068827L261.09090909090907,117.72708544808692L261.4545454545455,117.7071180498105L261.8181818181818,117.68046805402284L262.1818181818182,117.68619094656647L262.54545454545456,117.66230865906748L262.9090909090909,117.66057299189758L263.27272727272725,117.6603337928536L263.6363636363636,117.65995627961897L264,117.6362480373459L264.3636363636364,117.6219056179161L264.72727272727275,117.62693011443184L265.09090909090907,117.6273570240586L265.4545454545455,117.60232222811453L265.8181818181818,117.60192942119913L266.1818181818182,117.59861088061368L266.54545454545456,117.578496053003L266.9090909090909,117.54902454132178L267.2727272727273,117.55512777858917L267.6363636363636,117.54150770160861L268,117.54648779002363L268.3636363636364,117.51995448942327L268.72727272727275,117.50185362471544L269.09090909090907,117.50220446784874L269.45454545454544,117.48307792536386L269.8181818181818,117.48247577851343L270.1818181818182,117.4767628158361L270.54545454545456,117.46824814418571L270.9090909090909,117.45619170499388L271.2727272727273,117.4358628106177L271.6363636363636,117.4293605725228L272,117.41568193256171L272.3636363636364,117.39074422312487L272.7272727272727,117.38698624592136L273.0909090909091,117.37144864129907L273.45454545454544,117.3523448487729L273.8181818181818,117.34299864692596L274.1818181818182,117.34751309404707L274.54545454545456,117.32106219523683L274.9090909090909,117.32067255709939L275.2727272727273,117.32024955681091L275.6363636363636,117.32053929874837L276,117.30398287950166L276.3636363636364,117.28033296884672L276.7272727272727,117.26655820174068L277.0909090909091,117.25935915027044L277.45454545454544,117.24032927288218L277.8181818181818,117.23989438996286L278.1818181818182,117.24423988144265L278.54545454545456,117.24441734519795L278.9090909090909,117.22362885090618L279.2727272727273,117.21016669842558L279.6363636363636,117.20698141599199L280,117.20643232140056L280.3636363636364,117.17919922105145L280.7272727272727,117.18450092927743L281.0909090909091,117.17052177186366L281.45454545454544,117.16487072308178L281.8181818181818,117.1459453330636L282.1818181818182,117.12416956156342L282.54545454545456,117.12423347675617L282.90909090909093,117.09693066453393L283.27272727272725,117.08286784011715L283.6363636363636,117.08845893234864L284,117.08927704398815L284.3636363636364,117.08601553498434L284.7272727272727,117.0670706202225L285.0909090909091,117.054870808838L285.45454545454544,117.0441736604835L285.8181818181818,117.04348657706636L286.1818181818182,117.02979706154275L286.5454545454545,117.02249111493457L286.90909090909093,117.02246073403231L287.27272727272725,117.00559672385083L287.6363636363636,116.99996890787313L288,116.98718122019736L288.3636363636364,116.98638982203758L288.72727272727275,116.97101400461203L289.0909090909091,116.9671431630335L289.45454545454544,116.95687906973116L289.8181818181818,116.95600646647655L290.1818181818182,116.94246492701023L290.5454545454545,116.9431577659438L290.90909090909093,116.9221481324507L291.27272727272725,116.91242005387923L291.6363636363636,116.88629111653235L292,116.88680626907141L292.3636363636364,116.8780659370656L292.72727272727275,116.86740778345022L293.0909090909091,116.85336512240308L293.45454545454544,116.85237673535562L293.8181818181818,116.83860959534348L294.1818181818182,116.82414586074547L294.5454545454545,116.809355100997L294.90909090909093,116.78695193256452L295.27272727272725,116.78177867851431L295.6363636363636,116.7859852905654L296,116.77212448515051L296.3636363636364,116.75750964036683L296.72727272727275,116.75017346225205L297.09090909090907,116.7490844450308L297.45454545454544,116.72705158471773L297.8181818181818,116.72376637808131L298.1818181818182,116.70503902815939L298.54545454545456,116.69161513660345L298.90909090909093,116.69044927742517L299.27272727272725,116.68990716166523L299.6363636363637,116.69366670168952L300,116.68456914986925L300.3636363636363,116.68809553207966L300.72727272727275,116.66516127779984L301.09090909090907,116.64269191372998L301.45454545454544,116.62738071312747L301.8181818181818,116.6072522885631L302.1818181818182,116.59185079617305L302.54545454545456,116.58292792669762L302.90909090909093,116.5832543607912L303.27272727272725,116.58369954851007L303.6363636363636,116.55159266334229L304,116.54560418735814L304.3636363636364,116.5612478386399L304.72727272727275,116.55760176296401L305.09090909090907,116.5462561105108L305.4545454545455,116.5448059541117L305.8181818181818,116.54360622717716L306.1818181818182,116.52498347201062L306.54545454545456,116.50970371425306L306.9090909090909,116.49381503974432L307.27272727272725,116.50338601312309L307.6363636363636,116.50200517624145L308,116.47981352778585L308.3636363636364,116.45262876353277L308.72727272727275,116.44831898228338L309.09090909090907,116.43684463686353L309.4545454545455,116.45172505544572L309.8181818181818,116.4518195657521L310.1818181818182,116.43770753657141L310.54545454545456,116.41552169256717L310.9090909090909,116.4158624235289L311.27272727272725,116.41619514984005L311.6363636363636,116.4164275954012L312,116.39780986037702L312.3636363636364,116.37504711670302L312.72727272727275,116.3666781681306L313.09090909090907,116.35142171619846L313.4545454545455,116.32120512374131L313.8181818181818,116.30655736328919L314.1818181818182,116.30457997761803L314.54545454545456,116.30238945989966L314.9090909090909,116.29869391926147L315.2727272727273,116.28010597327112L315.6363636363636,116.28217333791295L316,116.26521597617794L316.3636363636364,116.25354039075053L316.72727272727275,116.2566448512515L317.09090909090907,116.23822817773313L317.45454545454544,116.21597405718549L317.8181818181818,116.21176349393045L318.1818181818182,116.18926673364109L318.54545454545456,116.18005791488119L318.9090909090909,116.1634429018175L319.2727272727273,116.1550869132033L319.6363636363636,116.16769693278721L320,116.16919958033371L320.3636363636364,116.13776708786112L320.7272727272727,116.1236153411036L321.0909090909091,116.09372990716666L321.45454545454544,116.08795869419812L321.8181818181818,116.06846725900586L322.1818181818182,116.05080093131264L322.54545454545456,116.05748564648522L322.9090909090909,116.05370352956679L323.2727272727273,116.04743463517994L323.6363636363636,116.0288005518559L324,116.03677902278591L324.3636363636364,116.01282480608792L324.7272727272727,116.00094262364826L325.0909090909091,116.01726500669609L325.45454545454544,116.02149405570094L325.8181818181818,116.014706911217L326.1818181818182,116.01140770070674L326.54545454545456,116.00035763501033L326.9090909090909,116.00013941909478L327.2727272727273,115.9817197864641L327.6363636363636,115.96289897455176L328,115.96431813734202L328.3636363636364,115.96369656434327L328.7272727272727,115.96014060179773L329.0909090909091,115.96125057072837L329.45454545454544,115.94236730077773L329.8181818181818,115.94328262497054L330.1818181818182,115.92989438995396L330.54545454545456,115.94005410576646L330.90909090909093,115.93114454180605L331.27272727272725,115.91249885495193L331.6363636363636,115.88992925481318L332,115.89037837146796L332.3636363636364,115.8977723709799L332.7272727272727,115.87926766368764L333.0909090909091,115.87893863007821L333.45454545454544,115.88957103708952L333.8181818181818,115.857840885145L334.1818181818182,115.84866683416242L334.5454545454545,115.8309728410748L334.90909090909093,115.82519058787213L335.27272727272725,115.82389960589931L335.6363636363636,115.78549613210059L336,115.78505737264186L336.3636363636364,115.79563518862179L336.72727272727275,115.78978950606881L337.0909090909091,115.77042041074064L337.45454545454544,115.7610015915674L337.8181818181818,115.75567668223007L338.1818181818182,115.74144755002575L338.5454545454545,115.71877005057385L338.90909090909093,115.7035547492142L339.27272727272725,115.69292134175113L339.6363636363636,115.70191979036899L340,115.69746553041207L340.3636363636364,115.67813781788558L340.72727272727275,115.65985254459746L341.0909090909091,115.64166707949389L341.45454545454544,115.63358472155687L341.8181818181818,115.61471315860592L342.1818181818182,115.61457930985006L342.5454545454545,115.62904314873867L342.90909090909093,115.6272925902023L343.27272727272725,115.62180577452827L343.6363636363636,115.61670258312819L344,115.62263467482819L344.3636363636364,115.62986909263819L344.72727272727275,115.62604707935276L345.09090909090907,115.62554597305197L345.45454545454544,115.62242398349116L345.8181818181818,115.60215213853999L346.1818181818182,115.61368513856793L346.54545454545456,115.60361182358774L346.90909090909093,115.61023490883696L347.27272727272725,115.61635485766308L347.6363636363636,115.60728869051627L348,115.61830492593239L348.3636363636363,115.59602021102313L348.72727272727275,115.57971217045278L349.09090909090907,115.58557752841034L349.45454545454544,115.58501017346126L349.8181818181818,115.58423626165361L350.1818181818182,115.59071345670138L350.54545454545456,115.59608671931336L350.90909090909093,115.60864509945172L351.27272727272725,115.59898820735918L351.6363636363637,115.60407730115898L352,115.58286004887796L352.3636363636364,115.56424692542654L352.72727272727275,115.54026106733859L353.09090909090907,115.52206199381834L353.45454545454544,115.511624019262L353.8181818181818,115.49579630600606L354.1818181818182,115.50147595604705L354.54545454545456,115.49565216637694L354.90909090909093,115.50193128726538L355.27272727272725,115.48052158945632L355.6363636363636,115.48292941803768L356,115.45893808308645L356.3636363636364,115.43740134659149L356.72727272727275,115.41926496627259L357.09090909090907,115.41363126068245L357.4545454545455,115.4035969956096L357.8181818181818,115.38136701230981L358.1818181818182,115.38075487026747L358.54545454545456,115.38584863540802L358.9090909090909,115.39023785892688L359.27272727272725,115.37645940419274L359.6363636363636,115.3824150183583L360,115.37370898878616L360.3636363636364,115.35930234195344L360.72727272727275,115.33762185839969L361.09090909090907,115.3343800950001L361.4545454545455,115.3121820292478L361.8181818181818,115.31084727283229L362.1818181818182,115.29615661520634L362.54545454545456,115.29342800493781L362.9090909090909,115.29011220426706L363.27272727272725,115.25449111199868L363.6363636363636,115.24874216606706L364,115.23818377210269\" stroke=\"#f58518\" stroke-width=\"2\"/></g></g><path class=\"foreground\" aria-hidden=\"true\" d=\"\" display=\"none\"/></g><g transform=\"translate(0,0)\"><path class=\"background\" aria-hidden=\"true\" d=\"M0,0h400v200h-400Z\"/><g><g class=\"mark-line role-mark marks\" role=\"graphics-object\" aria-roledescription=\"line mark container\"><path aria-label=\"n_iter: 1; loss: 0.608212007966; learner: SAL\" role=\"graphics-symbol\" aria-roledescription=\"line mark\" d=\"M0.36363636363636365,78.35759840671301L0.7272727272727273,95.2879842227918L1.090909090909091,101.97150187698143L1.4545454545454546,103.29737134302302L1.8181818181818181,107.75459628691983L2.181818181818182,109.57046140720004L2.5454545454545454,111.09705054598196L2.909090909090909,111.63727621761406L3.272727272727273,111.58797011724006L3.6363636363636362,112.63869499296027L4,112.64768605868252L4.363636363636364,112.57564704710323L4.7272727272727275,112.58801898386774L5.090909090909091,112.60099970671003L5.454545454545454,112.17591819500541L5.818181818181818,111.92486899568866L6.181818181818182,111.83265404710822L6.545454545454546,111.75807680385232L6.909090909090909,111.67862515933544L7.2727272727272725,111.63990240762658L7.636363636363637,111.63068285480746L8,111.6375796713776L8.363636363636363,111.93316884769924L8.727272727272728,111.99760682895206L9.090909090909092,112.00293289840783L9.454545454545455,112.00927547347015L9.818181818181818,112.03058932443297L10.181818181818182,112.05463246185712L10.545454545454545,112.07555463156407L10.909090909090908,112.09405672710957L11.272727272727273,112.11091008115545L11.636363636363637,112.1266408963126L12,113.03120433981131L12.363636363636363,114.67140639906663L12.727272727272727,114.60594541279474L13.090909090909092,114.51738310624759L13.454545454545455,114.74686668091152L13.818181818181818,115.14851313128696L14.181818181818182,115.33125514385804L14.545454545454545,115.45189243101714L14.909090909090908,115.69817713840669L15.272727272727273,115.85653076995688L15.636363636363637,115.93411441694607L16,115.88463665218698L16.363636363636363,115.86262580516858L16.727272727272727,115.85762201054699L17.09090909090909,116.21555395918897L17.454545454545457,116.31550517438258L17.81818181818182,116.34072833958824L18.181818181818183,116.34612801883209L18.545454545454547,116.34573095964016L18.90909090909091,116.3428885744163L19.272727272727273,116.40354831552575L19.636363636363637,116.40492093007668L20,116.38799044322947L20.363636363636363,116.36551066901349L20.727272727272727,116.34181921330804L21.09090909090909,116.31847357513556L21.454545454545453,116.29603648422702L21.818181818181817,116.32756348404266L22.181818181818183,116.48286358409324L22.545454545454547,116.52396210115357L22.90909090909091,116.52729907922992L23.272727272727273,116.51172374971934L23.636363636363637,116.47002030608493L24,116.3246967465716L24.363636363636363,116.22115133973648L24.727272727272727,116.14721467042219L25.09090909090909,116.09439707081913L25.454545454545453,116.06105328694238L25.818181818181817,116.0497539221319L26.181818181818183,116.04035514834096L26.545454545454543,116.0330447393062L26.90909090909091,116.02731036556793L27.27272727272727,116.02255338579361L27.636363636363637,116.01814979205089L28.000000000000004,116.01453165641777L28.363636363636363,116.01154971006954L28.72727272727273,116.0086992253065L29.09090909090909,116.00591232925939L29.454545454545457,115.99195418646629L29.818181818181817,115.9793787222462L30.181818181818183,115.97012049274107L30.545454545454547,115.9641241159481L30.909090909090907,115.96099479131703L31.272727272727273,115.96030653543114L31.636363636363633,115.96169869684742L32,115.96487852511311L32.36363636363636,115.96959945961997L32.72727272727273,115.97564082885094L33.09090909090909,115.94613752819738L33.45454545454545,115.88774302115633L33.81818181818182,115.82425589448735L34.18181818181818,115.7587153581769L34.54545454545455,115.73854680929227L34.909090909090914,115.72755141941902L35.27272727272727,115.71517494764558L35.63636363636364,115.70071798310227L36,115.68586140214774L36.36363636363637,115.67198364276443L36.72727272727273,115.66067937721218L37.09090909090909,115.65105107429928L37.45454545454546,115.6429148835935L37.81818181818182,115.63476307506977L38.18181818181819,115.63032918527423L38.54545454545455,115.64652207820569L38.90909090909091,115.63658612860817L39.27272727272727,115.65185820806417L39.63636363636363,115.68693017605096L40,115.70669567729747L40.36363636363636,115.71271187017817L40.72727272727273,115.72098540450683L41.090909090909086,115.7288804699901L41.45454545454545,115.73663524972959L41.81818181818181,115.74611891088031L42.18181818181818,115.7578661834767L42.54545454545455,115.85046634045462L42.90909090909091,115.88178692626745L43.27272727272727,115.87792777029975L43.63636363636363,115.87537263184349L44,115.87614541715018L44.36363636363637,115.87513171809955L44.72727272727273,115.84005725966624L45.09090909090909,115.8385781018914L45.45454545454545,115.84068779113727L45.81818181818182,115.84087777485333L46.18181818181818,115.84225259120893L46.54545454545455,115.84409139446348L46.909090909090914,115.84613274952207L47.27272727272727,115.84821475802636L47.63636363636364,115.85034452258935L48,115.85244559359815L48.36363636363637,115.89685642634322L48.72727272727273,115.91717580969063L49.09090909090909,115.93228753120553L49.45454545454545,115.94053310528483L49.81818181818182,115.90262638300163L50.18181818181818,115.86575672301365L50.54545454545455,115.81350953873431L50.90909090909091,115.80916809794661L51.272727272727266,115.83807298047144L51.63636363636363,115.89374674449122L52,115.94741007111091L52.36363636363637,115.99251997574392L52.72727272727272,116.0281626031213L53.090909090909086,116.05531550991022L53.45454545454545,116.07552161418162L53.81818181818182,116.09391273054932L54.18181818181819,116.12248908556207L54.54545454545454,116.17177864960979L54.90909090909091,116.25894777293446L55.27272727272727,116.29203907399663L55.63636363636364,116.3020647910717L56.00000000000001,116.30716974359507L56.36363636363636,116.31611510237019L56.72727272727273,116.29240690020839L57.09090909090909,116.25397247966565L57.45454545454546,116.22683460366845L57.81818181818181,116.20485137163033L58.18181818181818,116.1869540857512L58.54545454545455,116.16947177584431L58.909090909090914,116.1508253303778L59.27272727272728,116.13051593732426L59.63636363636363,116.13816802412722L60,116.12021724940718L60.36363636363637,116.08757443537603L60.72727272727273,116.0585202673464L61.09090909090909,116.03745136278687L61.45454545454545,116.02343520917589L61.81818181818181,116.08577929752961L62.18181818181818,116.13910297055281L62.54545454545455,116.16927913721868L62.909090909090914,116.1901689717733L63.272727272727266,116.20699116872248L63.63636363636363,116.22213312747354L64,116.27423675856461L64.36363636363637,116.31892888699147L64.72727272727272,116.32503889023779L65.0909090909091,116.3395011329325L65.45454545454545,116.3435622101487L65.81818181818181,116.34939786453589L66.18181818181819,116.35382717350657L66.54545454545455,116.35670090356389L66.9090909090909,116.35668702754678L67.27272727272727,116.35598402775034L67.63636363636364,116.3461246094651L68,116.34133456712306L68.36363636363636,116.34371627805204L68.72727272727272,116.34757495597992L69.0909090909091,116.35055821995124L69.45454545454545,116.35231710271412L69.81818181818183,116.35255708635212L70.18181818181817,116.35090713942411L70.54545454545455,116.34759529486263L70.9090909090909,116.341094807658L71.27272727272728,116.33217483972658L71.63636363636363,116.32305411513515L72,116.22691977715658L72.36363636363636,116.14738907166146L72.72727272727273,116.08855279757209L73.0909090909091,116.04270651471795L73.45454545454545,116.01314773408056L73.81818181818181,115.99209629508115L74.18181818181819,115.97629722295876L74.54545454545455,115.96208330382099L74.90909090909092,115.95486738593668L75.27272727272727,115.95049686614729L75.63636363636364,115.9473369399174L76,115.94471347312094L76.36363636363637,115.94224693513561L76.72727272727272,115.93931398371433L77.0909090909091,115.93561093770286L77.45454545454545,115.93116263192842L77.81818181818181,115.92661742045824L78.18181818181819,115.92245932774996L78.54545454545455,115.91852021425224L78.9090909090909,115.91480562664651L79.27272727272727,115.91137459383458L79.63636363636364,115.90830130123031L80,115.90565823758345L80.36363636363636,115.90350797235342L80.72727272727272,115.90189930365852L81.0909090909091,115.90041301923968L81.45454545454545,115.89928953711595L81.81818181818183,115.89995563773907L82.18181818181817,115.90348620626814L82.54545454545455,115.90804533751906L82.9090909090909,115.91336537659545L83.27272727272728,115.91956660857123L83.63636363636363,115.92669661894166L84,115.93432233698687L84.36363636363636,115.99722394654206L84.72727272727273,116.04038668917877L85.0909090909091,116.07689010181987L85.45454545454545,116.11012842344945L85.81818181818181,116.14101833827182L86.18181818181819,116.17779150541925L86.54545454545455,116.21321813462413L86.9090909090909,116.24693933686441L87.27272727272727,116.27862779527977L87.63636363636364,116.30817028126543L88,116.3355889539331L88.36363636363636,116.36097222799084L88.72727272727273,116.38382549012509L89.0909090909091,116.4031712850353L89.45454545454545,116.42068692331426L89.81818181818181,116.38542520432237L90.18181818181819,116.35900534620464L90.54545454545455,116.32049599394223L90.9090909090909,116.30994854372369L91.27272727272727,116.2989948884058L91.63636363636364,116.30370322390327L92,116.31770949611884L92.36363636363636,116.32379986201234L92.72727272727272,116.32754199091391L93.0909090909091,116.33288093617011L93.45454545454545,116.34100705206454L93.81818181818183,116.3472359142075L94.18181818181817,116.35385764442812L94.54545454545455,116.4762126072549L94.9090909090909,116.59147888059138L95.27272727272728,116.60280343644524L95.63636363636364,116.60520960376992L96,116.61779503523222L96.36363636363636,116.62285935657137L96.72727272727273,116.87658053755443L97.0909090909091,116.99708508176327L97.45454545454545,117.01749504600596L97.81818181818181,117.00548717670682L98.18181818181819,117.05245618867082L98.54545454545455,117.10773508232211L98.9090909090909,117.16282104660938L99.27272727272727,117.20241299612373L99.63636363636364,117.21039922138463L100,117.19684857047996L100.36363636363636,117.1734674966602L100.72727272727273,117.142565701933L101.0909090909091,117.11561225317016L101.45454545454547,117.09336002801962L101.81818181818181,117.07647758078382L102.18181818181817,117.0633211551193L102.54545454545453,117.05129719840966L102.9090909090909,117.03871913870776L103.27272727272727,117.0290832326205L103.63636363636364,117.02027303252494L104,117.01164803328687L104.36363636363637,117.00061396045218L104.72727272727273,116.9870554968894L105.09090909090911,116.9738491663922L105.45454545454544,116.96072753972089L105.81818181818181,116.92880821943596L106.18181818181817,116.89046621502261L106.54545454545455,116.85723864315285L106.9090909090909,116.80624136517672L107.27272727272728,116.82109844374386L107.63636363636364,116.85288919344443L108,116.90770894491966L108.36363636363637,116.94071387911804L108.72727272727272,116.96385920299011L109.09090909090908,116.97898705121558L109.45454545454545,116.96513928921051L109.81818181818181,116.88739923995581L110.18181818181819,116.8369956321574L110.54545454545455,116.80988065891415L110.9090909090909,116.79753932196957L111.27272727272728,116.79514944544765L111.63636363636364,116.79877569737344L112.00000000000001,116.8075240598325L112.36363636363636,116.81972016621147L112.72727272727272,116.83416027923235L113.0909090909091,116.84950679508246L113.45454545454545,116.8652818923622L113.81818181818181,116.88132753881177L114.18181818181819,116.89750512303104L114.54545454545455,116.91369778003364L114.90909090909092,116.92975822811297L115.27272727272728,116.90454242210326L115.63636363636363,116.8843950259164L115.99999999999999,116.87545823902745L116.36363636363636,116.88665722392959L116.72727272727272,116.88142939989605L117.0909090909091,116.88206289636356L117.45454545454545,116.88764089768391L117.81818181818183,116.89621920118194L118.18181818181819,116.90646669006217L118.54545454545456,116.91795303948015L118.90909090909092,116.93026981710837L119.27272727272727,116.92342212896376L119.63636363636363,116.96542675412387L120,117.00625178442583L120.36363636363636,117.04103065121627L120.72727272727273,117.06463584086437L121.0909090909091,117.08955962685081L121.45454545454545,117.11118168195318L121.81818181818183,117.13039858787391L122.18181818181819,117.15228822087357L122.54545454545453,117.17127417365427L122.9090909090909,117.18782379097534L123.27272727272727,117.20195582207668L123.63636363636363,117.217835940767L124,117.23135924265193L124.36363636363636,117.24362745014265L124.72727272727273,117.25502658267737L125.0909090909091,117.26563688818281L125.45454545454547,117.27548010905737L125.81818181818183,117.28457157864192L126.18181818181817,117.29244610933247L126.54545454545453,117.30649795651094L126.9090909090909,117.23103479714987L127.27272727272727,117.18583104431204L127.63636363636364,117.14069483184613L128,117.09618823124121L128.36363636363637,117.05109246677448L128.72727272727275,117.00789806615002L129.0909090909091,116.96767420804659L129.45454545454544,116.91460875287369L129.8181818181818,116.86966020629683L130.1818181818182,116.82801354014929L130.54545454545453,116.72073361379378L130.9090909090909,116.62660686134348L131.27272727272728,116.55255051021514L131.63636363636363,116.49696827818387L132,116.44978415485426L132.36363636363637,116.41352372381549L132.72727272727275,116.38560439517592L133.0909090909091,116.36240929158468L133.45454545454544,116.34240124108852L133.8181818181818,116.32799855132556L134.1818181818182,116.31488552746818L134.54545454545453,116.30551769760018L134.9090909090909,116.29440365390673L135.27272727272728,116.28387999018935L135.63636363636365,116.3042635320134L136,116.31870716985036L136.36363636363635,116.32849418530462L136.72727272727272,116.33501718115886L137.0909090909091,116.3376103488805L137.45454545454544,116.26065645744674L137.8181818181818,116.20338683709339L138.1818181818182,116.1752260221684L138.54545454545456,116.16427756050645L138.9090909090909,116.16238659340559L139.27272727272728,116.16527008301574L139.63636363636365,116.17080708010484L140,116.17948048345758L140.36363636363635,116.18956196859433L140.72727272727272,116.20064728647934L141.0909090909091,116.37662900664792L141.45454545454547,116.47221286323885L141.8181818181818,116.85849941333097L142.1818181818182,116.93435308252478L142.54545454545456,116.98352238315913L142.9090909090909,117.01799877321326L143.27272727272725,117.04384585697649L143.63636363636363,117.06291992656035L144,116.79688826185262L144.36363636363637,116.61129855473331L144.72727272727272,116.52383331339458L145.0909090909091,116.5180200099436L145.45454545454547,116.54699131842135L145.8181818181818,116.60012910470621L146.1818181818182,116.64097880772744L146.54545454545456,116.67188583545736L146.9090909090909,116.6950279658541L147.27272727272725,116.71137761184882L147.63636363636363,116.71617488098893L148,116.70664678223264L148.36363636363637,116.73470827726491L148.72727272727272,116.76442106336347L149.0909090909091,116.79093312681339L149.45454545454547,116.81164512831224L149.81818181818184,116.80680049049342L150.18181818181816,116.80588402889032L150.54545454545453,116.814228422693L150.9090909090909,116.82728548617452L151.27272727272728,116.84021294714273L151.63636363636363,116.84272384503012L152,116.84795028469388L152.36363636363637,116.85677263403953L152.72727272727275,116.86119082236186L153.0909090909091,116.86833408516198L153.45454545454544,116.8808898454073L153.8181818181818,116.89538289301709L154.1818181818182,116.90576232808421L154.54545454545453,116.8818286719274L154.9090909090909,116.86490229484497L155.27272727272728,116.8567592860922L155.63636363636363,116.8496752349102L156,116.84482103572438L156.36363636363637,116.84171526238471L156.72727272727275,116.8291918407254L157.0909090909091,116.81604906347023L157.45454545454544,116.80578777405887L157.8181818181818,116.79641702096308L158.1818181818182,116.7882873460033L158.54545454545453,116.78113521318123L158.9090909090909,116.77460833732087L159.27272727272728,116.76923836015081L159.63636363636365,116.76364208130585L160,116.75724120625439L160.36363636363635,116.74903359396976L160.72727272727272,116.73859387248635L161.0909090909091,116.72927444098424L161.45454545454544,116.71862496733074L161.8181818181818,116.70784060123434L162.1818181818182,116.6963840356221L162.54545454545456,116.68427992813457L162.9090909090909,116.66427776891317L163.27272727272728,116.64635487871367L163.63636363636365,116.63198939546295L164,116.61806260750976L164.36363636363635,116.60224940081503L164.72727272727272,116.59291893283381L165.0909090909091,116.60103954747348L165.45454545454547,116.60455411073052L165.8181818181818,116.60738280793517L166.1818181818182,116.60966014484187L166.54545454545456,116.6110360246845L166.9090909090909,116.63761143431594L167.27272727272725,116.66331807780539L167.63636363636363,116.69359997749562L168,116.72573981337129L168.36363636363637,116.7573068584516L168.72727272727272,116.77786750472885L169.0909090909091,116.78922477580231L169.45454545454547,116.79208859664314L169.8181818181818,116.78752212136683L170.1818181818182,116.77480713727948L170.54545454545456,116.76778890140376L170.9090909090909,116.74650358512567L171.27272727272725,116.71431323590942L171.63636363636363,116.68053028320082L172,116.6471639488899L172.36363636363637,116.61233169180649L172.72727272727272,116.57832327007233L173.0909090909091,116.54306353650594L173.45454545454547,116.50462112812998L173.8181818181818,116.4690352150916L174.18181818181816,116.43590883657882L174.54545454545453,116.39736612813394L174.9090909090909,116.35746343997187L175.27272727272728,116.31777690093676L175.63636363636363,116.27895544932842L176,116.24143411001053L176.36363636363637,116.20548406007205L176.72727272727272,116.17370221386105L177.0909090909091,116.14713220156779L177.45454545454547,116.11961959444639L177.8181818181818,116.09218337883853L178.1818181818182,116.06544634180906L178.54545454545453,116.04036181350948L178.9090909090909,116.01707121679013L179.27272727272728,115.9957906394715L179.63636363636363,115.97817154294066L180,115.96258411374762L180.36363636363637,115.94877321700072L180.72727272727275,115.93665106139177L181.0909090909091,115.92614213915363L181.45454545454544,115.91716079503205L181.8181818181818,115.90961301582846L182.1818181818182,115.90328208950092L182.54545454545453,115.89788400454077L182.9090909090909,115.89347948423678L183.27272727272728,115.89004971635428L183.63636363636365,115.88755631221402L184,115.88594939038863L184.36363636363637,115.8851724909861L184.72727272727272,115.88516671690685L185.0909090909091,115.88587378686258L185.45454545454544,115.88723808419523L185.8181818181818,115.88920792777466L186.1818181818182,115.89173628275104L186.54545454545456,115.89478108000277L186.9090909090909,115.89830526520389L187.27272727272728,115.90227666192243L187.63636363636365,115.90666770775395L188,115.91145510541152L188.36363636363635,115.91661941927119L188.72727272727272,115.9221446401415L189.0909090909091,115.92801773565155L189.45454545454544,115.93422819977741L189.8181818181818,115.94076761210044L190.1818181818182,115.94762921508747L190.54545454545456,115.95480751578708L190.9090909090909,115.96229791673653L191.27272727272728,115.97025621866925L191.63636363636363,115.97857797263937L192,115.98708719906713L192.36363636363635,115.99575573236591L192.72727272727272,116.00459239908996L193.0909090909091,116.01360667905816L193.45454545454547,116.02280784849563L193.8181818181818,116.03220488097973L194.1818181818182,116.04180572789873L194.54545454545456,116.05173750540803L194.9090909090909,116.06196685619605L195.27272727272725,116.07246408969965L195.63636363636363,116.08320556223069L196,116.09417304516074L196.36363636363637,116.10535189047411L196.72727272727272,116.11672925967906L197.0909090909091,116.12829288626823L197.45454545454547,116.14003033937612L197.8181818181818,116.15192865085078L198.1818181818182,116.1639741762782L198.54545454545453,116.1761624308554L198.9090909090909,116.19735692307063L199.27272727272728,116.208838143578L199.63636363636363,116.22173911861657L200,116.23608628253317L200.36363636363635,116.25120664949114L200.72727272727272,116.26662176643268L201.09090909090907,116.28206510909553L201.45454545454547,116.29739898177638L201.8181818181818,116.31254887477556L202.1818181818182,116.32746673983472L202.54545454545453,116.34211432681896L202.90909090909093,116.35645732871609L203.27272727272728,116.37046435899849L203.63636363636363,116.38410759977074L204,116.39720323700584L204.36363636363635,116.40958981622637L204.72727272727275,116.42132870616781L205.09090909090907,116.43248279417506L205.45454545454547,116.4431033620181L205.8181818181818,116.4532275286357L206.1818181818182,116.46288398792213L206.54545454545453,116.47209771312276L206.90909090909088,116.48089254591636L207.27272727272728,116.48929227774336L207.63636363636363,116.49732087232971L208,116.50500226436846L208.36363636363635,116.51235998756724L208.72727272727275,116.5194167683597L209.0909090909091,116.55363688700882L209.45454545454547,116.58516534581818L209.8181818181818,116.612502360677L210.18181818181822,116.6354223311036L210.54545454545456,116.65450987189251L210.90909090909088,116.68311852414641L211.27272727272728,116.69781984927936L211.63636363636363,116.70674525098603L212,116.7026812751483L212.36363636363635,116.69340352248028L212.72727272727275,116.68619381254146L213.0909090909091,116.69073272595787L213.45454545454547,116.71186251749992L213.8181818181818,116.73644798859782L214.18181818181816,116.75794151983952L214.54545454545456,116.77899385042761L214.9090909090909,116.7987520389725L215.27272727272728,116.81713275633605L215.63636363636363,116.83409856958369L216,116.84958334372908L216.36363636363635,116.86351035404965L216.72727272727275,116.8758230732053L217.0909090909091,116.8864120210277L217.45454545454544,116.89528668297426L217.8181818181818,116.90206281152959L218.18181818181816,116.90657256202472L218.54545454545456,116.909241478386L218.9090909090909,116.91029043912064L219.27272727272728,116.90988329424758L219.63636363636363,116.90816408224963L220.00000000000003,116.90807303742676L220.36363636363637,116.91139525399406L220.7272727272727,116.91270603209887L221.0909090909091,116.91326645189947L221.45454545454544,116.91363642392236L221.8181818181818,116.91371056970061L222.18181818181816,116.91338424104629L222.54545454545456,116.91128640450059L222.9090909090909,116.90535343186694L223.27272727272728,116.90374176946463L223.63636363636363,116.9051100820262L224.00000000000003,116.90848310391515L224.36363636363637,116.91273761697687L224.72727272727272,116.9171769364977L225.0909090909091,116.92125326008109L225.45454545454544,116.92420264146648L225.81818181818184,116.9263450308482L226.1818181818182,116.92828669043394L226.54545454545456,116.93004214544351L226.9090909090909,116.93164505116344L227.27272727272728,116.93312807394022L227.63636363636363,116.93451048708216L227.99999999999997,116.9354454875223L228.36363636363637,116.93631843282428L228.72727272727272,116.9364002812102L229.0909090909091,116.93641511841892L229.45454545454544,116.93642270858851L229.81818181818184,116.93637822550133L230.1818181818182,116.93620222732855L230.54545454545456,116.93582729350705L230.9090909090909,116.93520801531588L231.27272727272725,116.9343187339938L231.63636363636363,116.93314864180996L231.99999999999997,116.93169738197446L232.36363636363637,116.92997180546354L232.72727272727272,116.92798374854551L233.0909090909091,116.92574853682025L233.45454545454544,116.92328396284755L233.81818181818184,116.92060956217793L234.1818181818182,116.9177460773032L234.54545454545453,116.91471504272096L234.9090909090909,116.9115384511245L235.27272727272725,116.9082384764979L235.63636363636365,116.90479053857649L236,116.92437604138546L236.36363636363637,116.96355470748298L236.72727272727272,116.99423694403279L237.09090909090912,117.01495289198975L237.45454545454544,117.0289645584551L237.81818181818184,117.0386829936116L238.1818181818182,117.04559884351673L238.54545454545453,117.05064042906157L238.9090909090909,117.05438017028962L239.27272727272725,117.16454406873238L239.63636363636365,117.20759848782909L240,117.22839433469194L240.36363636363637,117.23964460534732L240.72727272727272,117.26121553175868L241.09090909090912,117.27065175299951L241.45454545454547,117.27415589910584L241.8181818181818,117.27598826444341L242.1818181818182,117.27644192616454L242.54545454545453,117.27557855821912L242.9090909090909,117.27353442743271L243.27272727272725,117.27046944010002L243.63636363636365,117.26652953714618L244,117.26208780104348L244.36363636363637,117.25721568954089L244.72727272727272,117.25152907356357L245.09090909090907,117.24574404177517L245.45454545454547,117.24010998530443L245.8181818181818,117.23465576868783L246.1818181818182,117.22969597208804L246.54545454545453,117.22510963370054L246.90909090909093,117.22085841805914L247.27272727272725,117.21693993299915L247.63636363636365,117.2133572023145L248,117.22217918430111L248.36363636363635,117.23741214824929L248.72727272727272,117.25095604753079L249.09090909090907,117.26266029475786L249.45454545454547,117.27293641132772L249.8181818181818,117.28217191854817L250.1818181818182,117.29057790521776L250.54545454545453,117.29826167069302L250.90909090909093,117.30528686590485L251.27272727272728,117.31170157103712L251.63636363636365,117.31754900165603L252,117.32287082776645L252.36363636363635,117.32770777861741L252.72727272727275,117.3320994333603L253.09090909090907,117.33608388192138L253.45454545454547,117.33969745835964L253.8181818181818,117.34297457725518L254.1818181818182,117.34578254860178L254.54545454545453,117.40423468645749L254.90909090909093,117.42127866592622L255.27272727272728,117.49271015694487L255.63636363636363,117.51890983903579L256,117.52393229434888L256.3636363636364,117.50474536589883L256.72727272727275,117.49053803579943L257.09090909090907,117.493517329431L257.4545454545455,117.49432936012589L257.8181818181818,117.49344647861966L258.1818181818182,117.49282697575474L258.54545454545456,117.49168405133483L258.9090909090909,117.49690708873545L259.27272727272725,117.50688523891685L259.6363636363636,117.51667423066472L260,117.52475512872125L260.3636363636364,117.53128141248763L260.72727272727275,117.53647160816212L261.09090909090907,117.54070101962917L261.4545454545455,117.54496819201627L261.8181818181818,117.54892189958892L262.1818181818182,117.55240321870998L262.54545454545456,117.5554216404279L262.9090909090909,117.55800558794319L263.27272727272725,117.56018350498705L263.6363636363636,117.56198296409548L264,117.56343062548306L264.3636363636364,117.56455188807226L264.72727272727275,117.56537059191201L265.09090909090907,117.56590891501126L265.4545454545455,117.56618743736902L265.8181818181818,117.56622530274285L266.1818181818182,117.566040419349L266.54545454545456,117.56564966158543L266.9090909090909,117.565069051883L267.2727272727273,117.5643139128968L267.6363636363636,117.56339898687749L268,117.56233852289935L268.3636363636364,117.56114633480546L268.72727272727275,117.55983583392484L269.09090909090907,117.55842004115951L269.45454545454544,117.55691158313546L269.8181818181818,117.55556953133947L270.1818181818182,117.55473955621851L270.54545454545456,117.55389805550509L270.9090909090909,117.55304816210206L271.2727272727273,117.55219327630877L271.6363636363636,117.55133711793006L272,117.55048340733154L272.3636363636364,117.54963590934231L272.7272727272727,117.54879836801877L273.0909090909091,117.54797436841646L273.45454545454544,117.54716721429178L273.8181818181818,117.54637985296354L274.1818181818182,117.5456148425198L274.54545454545456,117.5448743471941L274.9090909090909,117.43606488464535L275.2727272727273,117.393551805392L275.6363636363636,117.37835500447487L276,117.36968515583203L276.3636363636364,117.36365764731937L276.7272727272727,117.35853623550656L277.0909090909091,117.35338995592488L277.45454545454544,117.3481085257346L277.8181818181818,117.34368895484329L278.1818181818182,117.34049683246153L278.54545454545456,117.33841393664571L278.9090909090909,117.33594182796185L279.2727272727273,117.33164995978302L279.6363636363636,117.32661743710626L280,117.32191228502771L280.3636363636364,117.31967486623982L280.7272727272727,117.31944510358949L281.0909090909091,117.32038023539539L281.45454545454544,117.31985246981016L281.8181818181818,117.3194036230428L282.1818181818182,117.31962670298692L282.54545454545456,117.31872643877526L282.90909090909093,117.31942555844968L283.27272727272725,117.34454420249907L283.6363636363636,117.35751311170144L284,117.36489084351729L284.3636363636364,117.36950547457454L284.7272727272727,117.37253511862127L285.0909090909091,117.36438135339631L285.45454545454544,117.36487247137546L285.8181818181818,117.3718432219907L286.1818181818182,117.38371767543714L286.5454545454545,117.39632365493158L286.90909090909093,117.39012397538613L287.27272727272725,117.38830199332178L287.6363636363636,117.38883995800941L288,117.38989214593221L288.3636363636364,117.3909572768618L288.72727272727275,117.3801999032249L289.0909090909091,117.36669980064589L289.45454545454544,117.36238760769422L289.8181818181818,117.36307754210267L290.1818181818182,117.3660100137115L290.5454545454545,117.36971502952562L290.90909090909093,117.37341487613526L291.27272727272725,117.3766883734574L291.6363636363636,117.37931526114558L292,117.38119867839356L292.3636363636364,117.38232070000052L292.72727272727275,117.38271358414826L293.0909090909091,117.38243996291646L293.45454545454544,117.38157894474415L293.8181818181818,117.38021643714605L294.1818181818182,117.37843855735272L294.5454545454545,117.37632730624377L294.90909090909093,117.3739578918289L295.27272727272725,117.37139724536311L295.6363636363636,117.36870339048026L296,117.3659254124082L296.3636363636364,117.36310383797009L296.72727272727275,117.36027128403181L297.09090909090907,117.35745326720912L297.45454545454544,117.3546690944673L297.8181818181818,117.35193277509653L298.1818181818182,117.34925391096138L298.54545454545456,117.34663853494614L298.90909090909093,117.3440898778276L299.27272727272725,117.34160905191536L299.6363636363637,117.33919564607417L300,117.33684823150128L300.3636363636363,117.33450558110394L300.72727272727275,117.33220995404194L301.09090909090907,117.32998587289107L301.45454545454544,117.3278293603981L301.8181818181818,117.32573382269113L302.1818181818182,117.32369328592975L302.54545454545456,117.32170322445596L302.90909090909093,117.31976066501986L303.27272727272725,117.29176729192952L303.6363636363636,117.2889689851139L304,117.30756683349534L304.3636363636364,117.32944841201902L304.72727272727275,117.35134154752731L305.09090909090907,117.37286994217193L305.4545454545455,117.39391592244068L305.8181818181818,117.41101641846386L306.1818181818182,117.42939004338375L306.54545454545456,117.44664479647264L306.9090909090909,117.46164380288526L307.27272727272725,117.4751602488636L307.6363636363636,117.48725397109227L308,117.49796036099886L308.3636363636364,117.50733792153518L308.72727272727275,117.51844609505966L309.09090909090907,117.5237524351306L309.4545454545455,117.52962641674705L309.8181818181818,117.53602982737996L310.1818181818182,117.54260115487978L310.54545454545456,117.5490908974603L310.9090909090909,117.55534006937856L311.27272727272725,117.56124393448562L311.6363636363636,117.56673078608526L312,117.57175095553166L312.3636363636364,117.57627123874231L312.72727272727275,117.58019963930005L313.09090909090907,117.58291250434496L313.4545454545455,117.58517644804405L313.8181818181818,117.58694955853157L314.1818181818182,117.58825407484647L314.54545454545456,117.58912943496011L314.9090909090909,117.58962281686722L315.2727272727273,117.58978323369675L315.6363636363636,117.58965851475354L316,117.5892939266068L316.3636363636364,117.5887315925935L316.72727272727275,117.5880102750815L317.09090909090907,117.58716531830547L317.45454545454544,117.58622866617054L317.8181818181818,117.58522892246819L318.1818181818182,117.58419144233822L318.54545454545456,117.58306561680634L318.9090909090909,117.55574834208966L319.2727272727273,117.53973637056237L319.6363636363636,117.5284773707458L320,117.52317464759597L320.3636363636364,117.52134624762351L320.7272727272727,117.51965000609452L321.0909090909091,117.51933833475516L321.45454545454544,117.52063730870903L321.8181818181818,117.52281220372151L322.1818181818182,117.52548288377515L322.54545454545456,117.52870302516492L322.9090909090909,117.53224390460137L323.2727272727273,117.53593348808597L323.6363636363636,117.53963557141955L324,117.54324351553922L324.3636363636364,117.54667493824923L324.7272727272727,117.54986743219624L325.0909090909091,117.5527751211431L325.45454545454544,117.55536588231341L325.8181818181818,117.55761909815301L326.1818181818182,117.55952382038868L326.54545454545456,117.5610772468882L326.9090909090909,117.56228343115285L327.2727272727273,117.56315216362339L327.6363636363636,117.56369798135626L328,117.56393927693381L328.3636363636364,117.56393035370327L328.7272727272727,117.56371472207672L329.0909090909091,117.56328696523153L329.45454545454544,117.56265205295593L329.8181818181818,117.6126156339166L330.1818181818182,117.6130797903698L330.54545454545456,117.6112355130702L330.90909090909093,117.60862695133447L331.27272727272725,117.60502219131818L331.6363636363636,117.60093509995843L332,117.59684465923708L332.3636363636364,117.59317016576287L332.7272727272727,117.58993095400633L333.0909090909091,117.58712253746313L333.45454545454544,117.58472319690576L333.8181818181818,117.5826986008964L334.1818181818182,117.58100831004445L334.5454545454545,117.579610980816L334.90909090909093,117.57846764314064L335.27272727272725,117.57754336745575L335.6363636363636,117.57727792429313L336,117.57745697248525L336.3636363636364,117.57780297650946L336.72727272727275,117.57830692339539L337.0909090909091,117.57894267591294L337.45454545454544,117.57967972324272L337.8181818181818,117.58049068180387L338.1818181818182,117.58135227448632L338.5454545454545,117.58224493163915L338.90909090909093,117.58315220572295L339.27272727272725,117.58406025989245L339.6363636363636,117.5849574687895L340,117.58583411651271L340.3636363636364,117.58668216735084L340.72727272727275,117.58749508712165L341.0909090909091,117.58826769777203L341.45454545454544,117.58899605264376L341.8181818181818,117.58967925371499L342.1818181818182,117.59034260795183L342.5454545454545,117.59098997282238L342.90909090909093,117.59161899916543L343.27272727272725,117.59222711368702L343.6363636363636,117.5928015294438L344,117.59334472589937L344.3636363636364,117.59387645911308L344.72727272727275,117.58536898137693L345.09090909090907,117.57645986482643L345.45454545454544,117.56836030209867L345.8181818181818,117.56116810997071L346.1818181818182,117.55498948295862L346.54545454545456,117.54999554728698L346.90909090909093,117.54628901947144L347.27272727272725,117.54351439578126L347.6363636363636,117.54149688342524L348,117.5401060462296L348.3636363636363,117.53922729669127L348.72727272727275,117.5387588131743L349.09090909090907,117.53861195418843L349.45454545454544,117.53871125668671L349.8181818181818,117.53899372132976L350.1818181818182,117.53940765732887L350.54545454545456,117.50723926090103L350.90909090909093,117.52038556529531L351.27272727272725,117.54184420486149L351.6363636363637,117.56771999325619L352,117.59922948985113L352.3636363636364,117.62892521975057L352.72727272727275,117.66356346430689L353.09090909090907,117.70277471455364L353.45454545454544,117.74099180134523L353.8181818181818,117.77236141249831L354.1818181818182,117.80115760534986L354.54545454545456,117.82784510008146L354.90909090909093,117.85009510174054L355.27272727272725,117.86450813606217L355.6363636363636,117.87676538003393L356,117.88703927811054L356.3636363636364,117.89428907118852L356.72727272727275,117.89902987942517L357.09090909090907,117.88422030018033L357.4545454545455,117.86781063911786L357.8181818181818,117.85181299172697L358.1818181818182,117.83607921807344L358.54545454545456,117.8204180335645L358.9090909090909,117.8048571320268L359.27272727272725,117.78934618035449L359.6363636363636,117.7740392836748L360,117.75904491844626L360.3636363636364,117.74444442625733L360.72727272727275,117.73030404201239L361.09090909090907,117.71667656699907L361.4545454545455,117.70360241581992L361.8181818181818,117.72193358587101L362.1818181818182,117.7767545119354L362.54545454545456,117.81150593690548L362.9090909090909,117.83263397340522L363.27272727272725,117.84605701835686L363.6363636363636,117.85555954825443L364,117.86217225622386\" stroke=\"#4c78a8\" stroke-width=\"2\"/></g></g><path class=\"foreground\" aria-hidden=\"true\" d=\"\" display=\"none\"/></g></g><g class=\"mark-group role-legend\" role=\"graphics-symbol\" aria-roledescription=\"legend\" aria-label=\"Symbol legend titled 'learner' for stroke color with 2 values: SAL, XGBoost\"><g transform=\"translate(418,0)\"><path class=\"background\" aria-hidden=\"true\" d=\"M0,0h58v40h-58Z\" pointer-events=\"none\"/><g><g class=\"mark-group role-legend-entry\"><g transform=\"translate(0,16)\"><path class=\"background\" aria-hidden=\"true\" d=\"M0,0h0v0h0Z\" pointer-events=\"none\"/><g><g class=\"mark-group role-scope\" role=\"graphics-object\" aria-roledescription=\"group mark container\"><g transform=\"translate(0,0)\"><path class=\"background\" aria-hidden=\"true\" d=\"M0,0h58v11h-58Z\" pointer-events=\"none\" opacity=\"1\"/><g><g class=\"mark-symbol role-legend-symbol\" pointer-events=\"none\"><path transform=\"translate(6,6)\" d=\"M-5,0L5,0\" stroke=\"#4c78a8\" stroke-width=\"1.5\" opacity=\"1\"/></g><g class=\"mark-text role-legend-label\" pointer-events=\"none\"><text text-anchor=\"start\" transform=\"translate(16,9)\" font-family=\"sans-serif\" font-size=\"10px\" fill=\"#000\" opacity=\"1\">SAL</text></g></g><path class=\"foreground\" aria-hidden=\"true\" d=\"\" pointer-events=\"none\" display=\"none\"/></g><g transform=\"translate(0,13)\"><path class=\"background\" aria-hidden=\"true\" d=\"M0,0h58v11h-58Z\" pointer-events=\"none\" opacity=\"1\"/><g><g class=\"mark-symbol role-legend-symbol\" pointer-events=\"none\"><path transform=\"translate(6,6)\" d=\"M-5,0L5,0\" stroke=\"#f58518\" stroke-width=\"1.5\" opacity=\"1\"/></g><g class=\"mark-text role-legend-label\" pointer-events=\"none\"><text text-anchor=\"start\" transform=\"translate(16,9)\" font-family=\"sans-serif\" font-size=\"10px\" fill=\"#000\" opacity=\"1\">XGBoost</text></g></g><path class=\"foreground\" aria-hidden=\"true\" d=\"\" pointer-events=\"none\" display=\"none\"/></g></g></g><path class=\"foreground\" aria-hidden=\"true\" d=\"\" pointer-events=\"none\" display=\"none\"/></g></g><g class=\"mark-text role-legend-title\" pointer-events=\"none\"><text text-anchor=\"start\" transform=\"translate(0,9)\" font-family=\"sans-serif\" font-size=\"11px\" font-weight=\"bold\" fill=\"#000\" opacity=\"1\">learner</text></g></g><path class=\"foreground\" aria-hidden=\"true\" d=\"\" pointer-events=\"none\" display=\"none\"/></g></g></g><path class=\"foreground\" aria-hidden=\"true\" d=\"\" display=\"none\"/></g></g></g></svg>\n"
      ],
      "text/plain": [
       "@vlplot(\n",
       "    width=400,\n",
       "    height=200,\n",
       "    mark=\"line\",\n",
       "    encoding={\n",
       "        x={\n",
       "            field=\"n_iter\"\n",
       "        },\n",
       "        y={\n",
       "            field=\"loss\"\n",
       "        },\n",
       "        color={\n",
       "            field=\"learner\"\n",
       "        }\n",
       "    },\n",
       "    data={\n",
       "        values=...\n",
       "    }\n",
       ")"
      ]
     },
     "execution_count": 87,
     "metadata": {},
     "output_type": "execute_result"
    }
   ],
   "source": [
    "df = vcat(df_xgb, df_sal);\n",
    "df |>\n",
    "@vlplot(\n",
    "    :line,\n",
    "    x=:n_iter,\n",
    "    y=:loss,\n",
    "    color=:learner,\n",
    "    width=400,\n",
    "    height=200\n",
    ")"
   ]
  },
  {
   "cell_type": "code",
   "execution_count": 9,
   "id": "ca93938e-0ecf-44fe-983f-95d7060797c8",
   "metadata": {},
   "outputs": [],
   "source": [
    "# import Distributions as Dist\n",
    "# import LinearAlgebra: diagm\n",
    "\n",
    "# n, p = 3000, 10\n",
    "\n",
    "# X_dist = Dist.reshape(\n",
    "#     Dist.MvNormal(zeros(p), 0.1ones(p,p) + 0.9diagm(ones(p))), \n",
    "#     (1,p)\n",
    "# )\n",
    "# ϵ_dist = Dist.Normal(0,1)\n",
    "\n",
    "# X = vcat(rand(X_dist, n)...)\n",
    "# ϵ = rand(ϵ_dist, n)\n",
    "\n",
    "# Y = 5X[:,1] + X[:,2].^2 - 3X[:,3].*X[:,4] + ϵ\n",
    "# Y = Y .- mean(Y)\n",
    "\n",
    "# n_val = Int(round(n/2))\n",
    "# X_val, Y_val = X[1:n_val,:], Y[1:n_val]\n",
    "# X, Y = X[(n_val+1):end,:], Y[(n_val+1):end];"
   ]
  },
  {
   "cell_type": "code",
   "execution_count": null,
   "id": "4621926a-deac-4195-ab22-d06a9925030d",
   "metadata": {},
   "outputs": [],
   "source": []
  }
 ],
 "metadata": {
  "kernelspec": {
   "display_name": "Julia 1.6.3",
   "language": "julia",
   "name": "julia-1.6"
  },
  "language_info": {
   "file_extension": ".jl",
   "mimetype": "application/julia",
   "name": "julia",
   "version": "1.6.3"
  }
 },
 "nbformat": 4,
 "nbformat_minor": 5
}
