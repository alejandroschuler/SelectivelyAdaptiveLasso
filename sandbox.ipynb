{
 "cells": [
  {
   "cell_type": "code",
   "execution_count": 1,
   "id": "0a0b8858-e530-4f24-979a-eda8295481ff",
   "metadata": {},
   "outputs": [
    {
     "name": "stderr",
     "output_type": "stream",
     "text": [
      "\u001b[32m\u001b[1m  Activating\u001b[22m\u001b[39m environment at `~/Desktop/SelectivelyAdaptiveLasso/Project.toml`\n"
     ]
    }
   ],
   "source": [
    "using Pkg, Revise\n",
    "Pkg.activate(\".\")"
   ]
  },
  {
   "cell_type": "code",
   "execution_count": 2,
   "id": "cc871c5c-b1f4-4da9-b74b-ddec089c413a",
   "metadata": {},
   "outputs": [
    {
     "name": "stderr",
     "output_type": "stream",
     "text": [
      "┌ Info: Precompiling SelectivelyAdaptiveLasso [52f33b2b-83b2-4cfe-8aa4-4763af86ef4f]\n",
      "└ @ Base loading.jl:1342\n",
      "\u001b[33m\u001b[1m┌ \u001b[22m\u001b[39m\u001b[33m\u001b[1mWarning: \u001b[22m\u001b[39mPackage SelectivelyAdaptiveLasso does not have Combinatorics in its dependencies:\n",
      "\u001b[33m\u001b[1m│ \u001b[22m\u001b[39m- If you have SelectivelyAdaptiveLasso checked out for development and have\n",
      "\u001b[33m\u001b[1m│ \u001b[22m\u001b[39m  added Combinatorics as a dependency but haven't updated your primary\n",
      "\u001b[33m\u001b[1m│ \u001b[22m\u001b[39m  environment's manifest file, try `Pkg.resolve()`.\n",
      "\u001b[33m\u001b[1m│ \u001b[22m\u001b[39m- Otherwise you may need to report an issue with SelectivelyAdaptiveLasso\n",
      "\u001b[33m\u001b[1m└ \u001b[22m\u001b[39mLoading Combinatorics into SelectivelyAdaptiveLasso from project dependency, future warnings for SelectivelyAdaptiveLasso are suppressed.\n"
     ]
    }
   ],
   "source": [
    "import SelectivelyAdaptiveLasso as SAL"
   ]
  },
  {
   "cell_type": "code",
   "execution_count": 3,
   "id": "ca93938e-0ecf-44fe-983f-95d7060797c8",
   "metadata": {},
   "outputs": [],
   "source": [
    "import Statistics: mean\n",
    "import Distributions as Dist\n",
    "import LinearAlgebra: diagm\n",
    "\n",
    "n, p = 5000, 50\n",
    "\n",
    "X_dist = Dist.reshape(\n",
    "    Dist.MvNormal(zeros(p), 0.1ones(p,p) + 0.9diagm(ones(p))), \n",
    "    (1,p)\n",
    ")\n",
    "\n",
    "X = vcat(rand(X_dist, n)...);\n",
    "# Y = rand(n)\n",
    "Y = 5X[:,1] + X[:,2].^2 - 3X[:,3].*X[:,4]\n",
    "Y = Y .- mean(Y)\n",
    "\n",
    "n_val = Int(round(n/2))\n",
    "X_val, Y_val = X[1:n_val,:], Y[1:n_val]\n",
    "X, Y = X[(n_val+1):end,:], Y[(n_val+1):end];"
   ]
  },
  {
   "cell_type": "code",
   "execution_count": null,
   "id": "c4aea174-511c-4e4f-bd2d-2bec3998cc78",
   "metadata": {},
   "outputs": [
    {
     "name": "stdout",
     "output_type": "stream",
     "text": [
      "(34.78440573710027, 38.4937662449379, 1.0, Set([9, 1]))\n",
      "(34.78440573710027, 38.4937662449379, 1.0, Set([2]))\n",
      "(34.78440573710027, 38.4937662449379, 0.6666666666666666, Set([2]))\n",
      "(34.78440573710027, 38.4937662449379, 0.6666666666666666, Set([4, 3]))\n",
      "(34.78440573710027, 38.4937662449379, 0.6666666666666666, Set([2, 23, 1]))\n",
      "(34.78440573710027, 38.4937662449379, 0.6666666666666666, Set([18, 48]))\n",
      "(34.78440573710027, 38.4937662449379, 0.6666666666666666, Set([3]))\n",
      "(34.78440573710027, 38.4937662449379, 0.6666666666666666, Set([48]))\n",
      "(34.78440573710027, 38.4937662449379, 0.6666666666666666, Set([2, 9]))\n",
      "(34.78440573710027, 38.4937662449379, 0.6666666666666666, Set([29, 3]))\n",
      "(34.78440573710027, 38.4937662449379, 0.6666666666666666, Set([6, 3, 40]))\n",
      "(34.78440573710027, 38.4937662449379, 0.6666666666666666, Set([2, 1]))\n",
      "(34.78440573710027, 38.4937662449379, 0.6666666666666666, Set([4, 23]))\n",
      "(34.78440573710027, 38.4937662449379, 0.6666666666666666, Set([1, 48]))\n",
      "(34.78440573710027, 38.4937662449379, 0.4444444444444444, Set([2]))\n",
      "(34.78440573710027, 38.4937662449379, 0.4444444444444444, Set([11, 3, 1]))\n",
      "(34.78440573710027, 38.4937662449379, 0.4444444444444444, Set([9, 48]))\n",
      "(34.78440573710027, 38.4937662449379, 0.4444444444444444, Set([1]))\n",
      "(34.78440573710027, 38.4937662449379, 0.4444444444444444, Set([20, 33]))\n",
      "(34.78440573710027, 38.4937662449379, 0.4444444444444444, Set([4, 24, 28, 1]))\n",
      "(34.78440573710027, 38.4937662449379, 0.2962962962962963, Set([3]))\n",
      "(34.78440573710027, 38.4937662449379, 0.2962962962962963, Set([22]))\n",
      "(34.78440573710027, 38.4937662449379, 0.2962962962962963, Set([13, 3]))\n",
      "(34.78440573710027, 38.4937662449379, 0.2962962962962963, Set([6, 1]))\n",
      "(34.78440573710027, 38.4937662449379, 0.19753086419753085, Set([2, 1]))\n",
      "(34.78440573710027, 38.4937662449379, 0.1316872427983539, Set([48]))\n",
      "(34.78440573710027, 38.4937662449379, 0.08779149519890259, Set([1]))\n",
      "(34.78440573710027, 38.4937662449379, 0.08779149519890259, Set([22, 1]))\n",
      "(31.80162115134701, 35.17321269156326, 0.058527663465935055, Set([2]))\n",
      "(27.836658812493987, 30.644331815734308, 0.03901844231062337, Set([2]))\n",
      "(21.003558517146285, 25.04736082756907, 0.026012294873748912, Set([3]))\n",
      "(21.003702221652272, 25.049026724684374, 0.026012294873748912, Set([4, 16]))\n",
      "(16.687547705176293, 23.63625514675221, 0.017341529915832606, Set([3]))\n",
      "(16.687452147892074, 23.635162817457047, 0.017341529915832606, Set([4]))\n",
      "(16.68735865724838, 23.63403826814911, 0.017341529915832606, Set([2, 3]))\n",
      "(16.687271558101695, 23.632908117442824, 0.017341529915832606, Set([2, 3, 1]))\n",
      "(16.681000802560916, 23.96996514893795, 0.017341529915832606, Set([4, 1]))\n",
      "(13.260569284967476, 24.180205671511235, 0.011561019943888404, Set([2]))\n",
      "(13.256386923409707, 24.11409448679295, 0.011561019943888404, Set([2, 31]))\n",
      "(13.256419447471108, 24.11450315884727, 0.011561019943888404, Set([5]))\n",
      "(10.161208827253395, 24.889224258480425, 0.007707346629258935, Set([3]))\n",
      "(10.161223748559998, 24.88845135000625, 0.007707346629258935, Set([4, 2, 12]))\n",
      "(10.161232810834862, 24.88747230257894, 0.007707346629258935, Set([7, 2, 44, 3]))\n",
      "(10.161238344455294, 24.88647067085543, 0.007707346629258935, Set([29]))\n",
      "(7.403968194938634, 24.786407173398782, 0.005138231086172623, Set([3]))\n",
      "(5.049414006893151, 24.19089119568262, 0.0034254873907817486, Set([2, 3]))\n",
      "(3.3989848690799556, 27.13106171334756, 0.0022836582605211654, Set([4, 3]))\n",
      "("
     ]
    }
   ],
   "source": [
    "sal_spec = SAL.SALSpec(max_iter=60)\n",
    "sal_fit, log = SAL.fit(\n",
    "    sal_spec, \n",
    "    X, Y, \n",
    "    X_val=X_val, Y_val=Y_val\n",
    ")\n",
    "loss, loss_val, _, _ = log;"
   ]
  },
  {
   "cell_type": "code",
   "execution_count": 33,
   "id": "ee0016e3-8204-4a45-9e51-d2696a6b5bef",
   "metadata": {},
   "outputs": [
    {
     "data": {
      "text/plain": [
       "6-element Vector{Float64}:\n",
       " 0.0\n",
       " 0.0\n",
       " 0.0\n",
       " 0.0\n",
       " 0.0\n",
       " 0.0"
      ]
     },
     "execution_count": 33,
     "metadata": {},
     "output_type": "execute_result"
    }
   ],
   "source": [
    "loss_val"
   ]
  },
  {
   "cell_type": "code",
   "execution_count": null,
   "id": "d8bf3f94-13db-445e-9a10-c943d3cd63f1",
   "metadata": {},
   "outputs": [],
   "source": [
    "loss"
   ]
  }
 ],
 "metadata": {
  "kernelspec": {
   "display_name": "Julia 1.6.3",
   "language": "julia",
   "name": "julia-1.6"
  },
  "language_info": {
   "file_extension": ".jl",
   "mimetype": "application/julia",
   "name": "julia",
   "version": "1.6.3"
  }
 },
 "nbformat": 4,
 "nbformat_minor": 5
}
