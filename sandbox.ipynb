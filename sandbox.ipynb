{
 "cells": [
  {
   "cell_type": "code",
   "execution_count": 4,
   "id": "0a0b8858-e530-4f24-979a-eda8295481ff",
   "metadata": {},
   "outputs": [
    {
     "name": "stderr",
     "output_type": "stream",
     "text": [
      "\u001b[32m\u001b[1m  Activating\u001b[22m\u001b[39m environment at `~/Desktop/SelectivelyAdaptiveLasso/Project.toml`\n"
     ]
    }
   ],
   "source": [
    "using Pkg, Revise\n",
    "Pkg.activate(\".\")"
   ]
  },
  {
   "cell_type": "code",
   "execution_count": 2,
   "id": "a09dbc3e-3d62-42ec-9ae3-cb4bdb156b4e",
   "metadata": {},
   "outputs": [],
   "source": [
    "using CSV, DataFrames, VegaLite\n",
    "import Statistics: mean"
   ]
  },
  {
   "cell_type": "code",
   "execution_count": 3,
   "id": "1b977ebc-9446-4b7e-a633-170dd9e79be3",
   "metadata": {},
   "outputs": [],
   "source": [
    "data = CSV.read(open(\"/Users/aschuler/Downloads/winequality-red.csv\"), DataFrame, copycols=true)\n",
    "Y = float(data.quality)\n",
    "Y = Y .- mean(Y)\n",
    "X = Matrix(data[:,[var for var in names(data) if var ≠ \"quality\"]]);\n",
    "\n",
    "n_val = Int(round(length(Y)/2))\n",
    "X_val, Y_val = X[1:n_val,:], Y[1:n_val]\n",
    "X, Y = X[(n_val+1):end,:], Y[(n_val+1):end];"
   ]
  },
  {
   "cell_type": "code",
   "execution_count": 4,
   "id": "ca93938e-0ecf-44fe-983f-95d7060797c8",
   "metadata": {},
   "outputs": [],
   "source": [
    "# import Distributions as Dist\n",
    "# import LinearAlgebra: diagm\n",
    "\n",
    "# n, p = 5000, 10\n",
    "\n",
    "# X_dist = Dist.reshape(\n",
    "#     Dist.MvNormal(zeros(p), 0.1ones(p,p) + 0.9diagm(ones(p))), \n",
    "#     (1,p)\n",
    "# )\n",
    "# ϵ_dist = Dist.Normal(0,1)\n",
    "\n",
    "# X = vcat(rand(X_dist, n)...)\n",
    "# ϵ = rand(ϵ_dist, n)\n",
    "\n",
    "# Y = 5X[:,1] + X[:,2].^2 - 3X[:,3].*X[:,4] + ϵ\n",
    "# Y = Y .- mean(Y)\n",
    "\n",
    "# n_val = Int(round(n/2))\n",
    "# X_val, Y_val = X[1:n_val,:], Y[1:n_val]\n",
    "# X, Y = X[(n_val+1):end,:], Y[(n_val+1):end];"
   ]
  },
  {
   "cell_type": "markdown",
   "id": "98fd4c13-8f3e-475a-b8e1-218be54c9530",
   "metadata": {},
   "source": [
    "# xgboost"
   ]
  },
  {
   "cell_type": "code",
   "execution_count": 5,
   "id": "ed9036c3-17ef-4718-9b8f-a6a42cd0ca22",
   "metadata": {},
   "outputs": [],
   "source": [
    "using XGBoost"
   ]
  },
  {
   "cell_type": "code",
   "execution_count": 6,
   "id": "36c88d86-4ab5-4a47-bf31-18a880f0d502",
   "metadata": {
    "collapsed": true,
    "jupyter": {
     "outputs_hidden": true
    },
    "tags": []
   },
   "outputs": [
    {
     "name": "stderr",
     "output_type": "stream",
     "text": [
      "[1]\ttrain-rmse:0.928552\n",
      "[2]\ttrain-rmse:0.924153\n",
      "[3]\ttrain-rmse:0.919854\n",
      "[4]\ttrain-rmse:0.915585\n",
      "[5]\ttrain-rmse:0.911371\n",
      "[6]\ttrain-rmse:0.907255\n",
      "[7]\ttrain-rmse:0.903193\n",
      "[8]\ttrain-rmse:0.899157\n",
      "[9]\ttrain-rmse:0.894977\n",
      "[10]\ttrain-rmse:0.891051\n",
      "[11]\ttrain-rmse:0.886982\n",
      "[12]\ttrain-rmse:0.883125\n",
      "[13]\ttrain-rmse:0.879164\n",
      "[14]\ttrain-rmse:0.875470\n",
      "[15]\ttrain-rmse:0.871611\n",
      "[16]\ttrain-rmse:0.867981\n",
      "[17]\ttrain-rmse:0.864223\n",
      "[18]\ttrain-rmse:0.860653\n",
      "[19]\ttrain-rmse:0.856994\n",
      "[20]\ttrain-rmse:0.853527\n",
      "[21]\ttrain-rmse:0.850103\n",
      "[22]\ttrain-rmse:0.846583\n",
      "[23]\ttrain-rmse:0.843263\n",
      "[24]\ttrain-rmse:0.839757\n",
      "[25]\ttrain-rmse:0.836425\n",
      "[26]\ttrain-rmse:0.833088\n",
      "[27]\ttrain-rmse:0.829929\n",
      "[28]\ttrain-rmse:0.826584\n",
      "[29]\ttrain-rmse:0.823502\n",
      "[30]\ttrain-rmse:0.820265\n",
      "[31]\ttrain-rmse:0.817122\n",
      "[32]\ttrain-rmse:0.814162\n",
      "[33]\ttrain-rmse:0.811053\n",
      "[34]\ttrain-rmse:0.808179\n",
      "[35]\ttrain-rmse:0.805193\n",
      "[36]\ttrain-rmse:0.802299\n",
      "[37]\ttrain-rmse:0.799537\n",
      "[38]\ttrain-rmse:0.796605\n",
      "[39]\ttrain-rmse:0.793749\n",
      "[40]\ttrain-rmse:0.791065\n",
      "[41]\ttrain-rmse:0.788267\n",
      "[42]\ttrain-rmse:0.785602\n",
      "[43]\ttrain-rmse:0.782863\n",
      "[44]\ttrain-rmse:0.780345\n",
      "[45]\ttrain-rmse:0.777702\n",
      "[46]\ttrain-rmse:0.775090\n",
      "[47]\ttrain-rmse:0.772656\n",
      "[48]\ttrain-rmse:0.770168\n",
      "[49]\ttrain-rmse:0.767724\n",
      "[50]\ttrain-rmse:0.765239\n",
      "[51]\ttrain-rmse:0.762930\n",
      "[52]\ttrain-rmse:0.760456\n",
      "[53]\ttrain-rmse:0.758099\n",
      "[54]\ttrain-rmse:0.755854\n",
      "[55]\ttrain-rmse:0.753645\n",
      "[56]\ttrain-rmse:0.751272\n",
      "[57]\ttrain-rmse:0.749076\n",
      "[58]\ttrain-rmse:0.746770\n",
      "[59]\ttrain-rmse:0.744684\n",
      "[60]\ttrain-rmse:0.742474\n",
      "[61]\ttrain-rmse:0.740440\n",
      "[62]\ttrain-rmse:0.738254\n",
      "[63]\ttrain-rmse:0.736275\n",
      "[64]\ttrain-rmse:0.734142\n",
      "[65]\ttrain-rmse:0.732167\n",
      "[66]\ttrain-rmse:0.730092\n",
      "[67]\ttrain-rmse:0.728217\n",
      "[68]\ttrain-rmse:0.726193\n",
      "[69]\ttrain-rmse:0.724236\n",
      "[70]\ttrain-rmse:0.722417\n",
      "[71]\ttrain-rmse:0.720514\n",
      "[72]\ttrain-rmse:0.718761\n",
      "[73]\ttrain-rmse:0.716866\n",
      "[74]\ttrain-rmse:0.715041\n",
      "[75]\ttrain-rmse:0.713220\n",
      "[76]\ttrain-rmse:0.711558\n",
      "[77]\ttrain-rmse:0.709762\n",
      "[78]\ttrain-rmse:0.708032\n",
      "[79]\ttrain-rmse:0.706421\n",
      "[80]\ttrain-rmse:0.704697\n",
      "[81]\ttrain-rmse:0.703036\n",
      "[82]\ttrain-rmse:0.701500\n",
      "[83]\ttrain-rmse:0.699887\n",
      "[84]\ttrain-rmse:0.698379\n",
      "[85]\ttrain-rmse:0.696762\n",
      "[86]\ttrain-rmse:0.695293\n",
      "[87]\ttrain-rmse:0.693690\n",
      "[88]\ttrain-rmse:0.692182\n",
      "[89]\ttrain-rmse:0.690755\n",
      "[90]\ttrain-rmse:0.689291\n",
      "[91]\ttrain-rmse:0.687795\n",
      "[92]\ttrain-rmse:0.686333\n",
      "[93]\ttrain-rmse:0.684923\n",
      "[94]\ttrain-rmse:0.683603\n",
      "[95]\ttrain-rmse:0.682234\n",
      "[96]\ttrain-rmse:0.680961\n",
      "[97]\ttrain-rmse:0.679674\n",
      "[98]\ttrain-rmse:0.678304\n",
      "[99]\ttrain-rmse:0.677065\n",
      "[100]\ttrain-rmse:0.675778\n",
      "[101]\ttrain-rmse:0.674455\n",
      "[102]\ttrain-rmse:0.673280\n",
      "[103]\ttrain-rmse:0.672041\n",
      "[104]\ttrain-rmse:0.670770\n",
      "[105]\ttrain-rmse:0.669547\n",
      "[106]\ttrain-rmse:0.668338\n",
      "[107]\ttrain-rmse:0.667165\n",
      "[108]\ttrain-rmse:0.665952\n",
      "[109]\ttrain-rmse:0.664805\n",
      "[110]\ttrain-rmse:0.663743\n",
      "[111]\ttrain-rmse:0.662571\n",
      "[112]\ttrain-rmse:0.661390\n",
      "[113]\ttrain-rmse:0.660211\n",
      "[114]\ttrain-rmse:0.659116\n",
      "[115]\ttrain-rmse:0.657976\n",
      "[116]\ttrain-rmse:0.656837\n",
      "[117]\ttrain-rmse:0.655727\n",
      "[118]\ttrain-rmse:0.654617\n",
      "[119]\ttrain-rmse:0.653550\n",
      "[120]\ttrain-rmse:0.652480\n",
      "[121]\ttrain-rmse:0.651409\n",
      "[122]\ttrain-rmse:0.650406\n",
      "[123]\ttrain-rmse:0.649372\n",
      "[124]\ttrain-rmse:0.648337\n",
      "[125]\ttrain-rmse:0.647332\n",
      "[126]\ttrain-rmse:0.646328\n",
      "[127]\ttrain-rmse:0.645327\n",
      "[128]\ttrain-rmse:0.644388\n",
      "[129]\ttrain-rmse:0.643440\n",
      "[130]\ttrain-rmse:0.642442\n",
      "[131]\ttrain-rmse:0.641499\n",
      "[132]\ttrain-rmse:0.640527\n",
      "[133]\ttrain-rmse:0.639543\n",
      "[134]\ttrain-rmse:0.638644\n",
      "[135]\ttrain-rmse:0.637705\n",
      "[136]\ttrain-rmse:0.636819\n",
      "[137]\ttrain-rmse:0.635907\n",
      "[138]\ttrain-rmse:0.635039\n",
      "[139]\ttrain-rmse:0.634152\n",
      "[140]\ttrain-rmse:0.633325\n",
      "[141]\ttrain-rmse:0.632443\n",
      "[142]\ttrain-rmse:0.631577\n",
      "[143]\ttrain-rmse:0.630732\n",
      "[144]\ttrain-rmse:0.629949\n",
      "[145]\ttrain-rmse:0.629112\n",
      "[146]\ttrain-rmse:0.628317\n",
      "[147]\ttrain-rmse:0.627552\n",
      "[148]\ttrain-rmse:0.626734\n",
      "[149]\ttrain-rmse:0.625946\n",
      "[150]\ttrain-rmse:0.625193\n",
      "[151]\ttrain-rmse:0.624426\n",
      "[152]\ttrain-rmse:0.623599\n",
      "[153]\ttrain-rmse:0.622871\n",
      "[154]\ttrain-rmse:0.622141\n",
      "[155]\ttrain-rmse:0.621444\n",
      "[156]\ttrain-rmse:0.620678\n",
      "[157]\ttrain-rmse:0.619965\n",
      "[158]\ttrain-rmse:0.619241\n",
      "[159]\ttrain-rmse:0.618582\n",
      "[160]\ttrain-rmse:0.617904\n",
      "[161]\ttrain-rmse:0.617133\n",
      "[162]\ttrain-rmse:0.616434\n",
      "[163]\ttrain-rmse:0.615802\n",
      "[164]\ttrain-rmse:0.615155\n",
      "[165]\ttrain-rmse:0.614436\n",
      "[166]\ttrain-rmse:0.613763\n",
      "[167]\ttrain-rmse:0.613088\n",
      "[168]\ttrain-rmse:0.612492\n",
      "[169]\ttrain-rmse:0.611799\n",
      "[170]\ttrain-rmse:0.611152\n",
      "[171]\ttrain-rmse:0.610575\n",
      "[172]\ttrain-rmse:0.609932\n",
      "[173]\ttrain-rmse:0.609227\n",
      "[174]\ttrain-rmse:0.608602\n",
      "[175]\ttrain-rmse:0.608047\n",
      "[176]\ttrain-rmse:0.607437\n",
      "[177]\ttrain-rmse:0.606784\n",
      "[178]\ttrain-rmse:0.606123\n",
      "[179]\ttrain-rmse:0.605524\n",
      "[180]\ttrain-rmse:0.604889\n",
      "[181]\ttrain-rmse:0.604308\n",
      "[182]\ttrain-rmse:0.603674\n",
      "[183]\ttrain-rmse:0.603110\n",
      "[184]\ttrain-rmse:0.602540\n",
      "[185]\ttrain-rmse:0.602031\n",
      "[186]\ttrain-rmse:0.601416\n",
      "[187]\ttrain-rmse:0.600862\n",
      "[188]\ttrain-rmse:0.600262\n",
      "[189]\ttrain-rmse:0.599666\n",
      "[190]\ttrain-rmse:0.599081\n",
      "[191]\ttrain-rmse:0.598564\n",
      "[192]\ttrain-rmse:0.597941\n",
      "[193]\ttrain-rmse:0.597436\n",
      "[194]\ttrain-rmse:0.596871\n",
      "[195]\ttrain-rmse:0.596355\n",
      "[196]\ttrain-rmse:0.595867\n",
      "[197]\ttrain-rmse:0.595401\n",
      "[198]\ttrain-rmse:0.594924\n",
      "[199]\ttrain-rmse:0.594468\n",
      "[200]\ttrain-rmse:0.593975\n",
      "[201]\ttrain-rmse:0.593469\n",
      "[202]\ttrain-rmse:0.592929\n",
      "[203]\ttrain-rmse:0.592484\n",
      "[204]\ttrain-rmse:0.591951\n",
      "[205]\ttrain-rmse:0.591431\n",
      "[206]\ttrain-rmse:0.591001\n",
      "[207]\ttrain-rmse:0.590520\n",
      "[208]\ttrain-rmse:0.590015\n",
      "[209]\ttrain-rmse:0.589548\n",
      "[210]\ttrain-rmse:0.589114\n",
      "[211]\ttrain-rmse:0.588644\n",
      "[212]\ttrain-rmse:0.588247\n",
      "[213]\ttrain-rmse:0.587759\n",
      "[214]\ttrain-rmse:0.587363\n",
      "[215]\ttrain-rmse:0.586871\n",
      "[216]\ttrain-rmse:0.586420\n",
      "[217]\ttrain-rmse:0.585976\n",
      "[218]\ttrain-rmse:0.585535\n",
      "[219]\ttrain-rmse:0.585155\n",
      "[220]\ttrain-rmse:0.584786\n",
      "[221]\ttrain-rmse:0.584331\n",
      "[222]\ttrain-rmse:0.583963\n",
      "[223]\ttrain-rmse:0.583539\n",
      "[224]\ttrain-rmse:0.583059\n",
      "[225]\ttrain-rmse:0.582702\n",
      "[226]\ttrain-rmse:0.582241\n",
      "[227]\ttrain-rmse:0.581892\n",
      "[228]\ttrain-rmse:0.581441\n",
      "[229]\ttrain-rmse:0.581150\n",
      "[230]\ttrain-rmse:0.580722\n",
      "[231]\ttrain-rmse:0.580321\n",
      "[232]\ttrain-rmse:0.579866\n",
      "[233]\ttrain-rmse:0.579534\n",
      "[234]\ttrain-rmse:0.579066\n",
      "[235]\ttrain-rmse:0.578764\n",
      "[236]\ttrain-rmse:0.578239\n",
      "[237]\ttrain-rmse:0.577781\n",
      "[238]\ttrain-rmse:0.577458\n",
      "[239]\ttrain-rmse:0.577187\n",
      "[240]\ttrain-rmse:0.576802\n",
      "[241]\ttrain-rmse:0.576337\n",
      "[242]\ttrain-rmse:0.575829\n",
      "[243]\ttrain-rmse:0.575329\n",
      "[244]\ttrain-rmse:0.575067\n",
      "[245]\ttrain-rmse:0.574576\n",
      "[246]\ttrain-rmse:0.574190\n",
      "[247]\ttrain-rmse:0.573742\n",
      "[248]\ttrain-rmse:0.573298\n",
      "[249]\ttrain-rmse:0.572875\n",
      "[250]\ttrain-rmse:0.572502\n",
      "[251]\ttrain-rmse:0.572250\n",
      "[252]\ttrain-rmse:0.571780\n",
      "[253]\ttrain-rmse:0.571389\n",
      "[254]\ttrain-rmse:0.570963\n",
      "[255]\ttrain-rmse:0.570614\n",
      "[256]\ttrain-rmse:0.570188\n",
      "[257]\ttrain-rmse:0.569735\n",
      "[258]\ttrain-rmse:0.569407\n",
      "[259]\ttrain-rmse:0.569052\n",
      "[260]\ttrain-rmse:0.568812\n",
      "[261]\ttrain-rmse:0.568403\n",
      "[262]\ttrain-rmse:0.568055\n",
      "[263]\ttrain-rmse:0.567648\n",
      "[264]\ttrain-rmse:0.567212\n",
      "[265]\ttrain-rmse:0.566813\n",
      "[266]\ttrain-rmse:0.566436\n",
      "[267]\ttrain-rmse:0.566157\n",
      "[268]\ttrain-rmse:0.565883\n",
      "[269]\ttrain-rmse:0.565506\n",
      "[270]\ttrain-rmse:0.565176\n",
      "[271]\ttrain-rmse:0.564869\n",
      "[272]\ttrain-rmse:0.564451\n",
      "[273]\ttrain-rmse:0.564090\n",
      "[274]\ttrain-rmse:0.563731\n",
      "[275]\ttrain-rmse:0.563424\n",
      "[276]\ttrain-rmse:0.563048\n",
      "[277]\ttrain-rmse:0.562697\n",
      "[278]\ttrain-rmse:0.562347\n",
      "[279]\ttrain-rmse:0.562011\n",
      "[280]\ttrain-rmse:0.561645\n",
      "[281]\ttrain-rmse:0.561304\n",
      "[282]\ttrain-rmse:0.560892\n",
      "[283]\ttrain-rmse:0.560564\n",
      "[284]\ttrain-rmse:0.560217\n",
      "[285]\ttrain-rmse:0.559911\n",
      "[286]\ttrain-rmse:0.559622\n",
      "[287]\ttrain-rmse:0.559218\n",
      "[288]\ttrain-rmse:0.558917\n",
      "[289]\ttrain-rmse:0.558521\n",
      "[290]\ttrain-rmse:0.558182\n",
      "[291]\ttrain-rmse:0.557756\n",
      "[292]\ttrain-rmse:0.557411\n",
      "[293]\ttrain-rmse:0.557080\n",
      "[294]\ttrain-rmse:0.556723\n",
      "[295]\ttrain-rmse:0.556399\n",
      "[296]\ttrain-rmse:0.556012\n",
      "[297]\ttrain-rmse:0.555533\n",
      "[298]\ttrain-rmse:0.555287\n",
      "[299]\ttrain-rmse:0.554961\n",
      "[300]\ttrain-rmse:0.554646\n",
      "[301]\ttrain-rmse:0.554327\n",
      "[302]\ttrain-rmse:0.554080\n",
      "[303]\ttrain-rmse:0.553797\n",
      "[304]\ttrain-rmse:0.553460\n",
      "[305]\ttrain-rmse:0.552960\n",
      "[306]\ttrain-rmse:0.552641\n",
      "[307]\ttrain-rmse:0.552400\n",
      "[308]\ttrain-rmse:0.552073\n",
      "[309]\ttrain-rmse:0.551836\n",
      "[310]\ttrain-rmse:0.551531\n",
      "[311]\ttrain-rmse:0.551259\n",
      "[312]\ttrain-rmse:0.550809\n",
      "[313]\ttrain-rmse:0.550544\n",
      "[314]\ttrain-rmse:0.550313\n",
      "[315]\ttrain-rmse:0.549836\n",
      "[316]\ttrain-rmse:0.549540\n",
      "[317]\ttrain-rmse:0.549304\n",
      "[318]\ttrain-rmse:0.549003\n",
      "[319]\ttrain-rmse:0.548693\n",
      "[320]\ttrain-rmse:0.548468\n",
      "[321]\ttrain-rmse:0.548236\n",
      "[322]\ttrain-rmse:0.547949\n",
      "[323]\ttrain-rmse:0.547689\n",
      "[324]\ttrain-rmse:0.547462\n",
      "[325]\ttrain-rmse:0.547193\n",
      "[326]\ttrain-rmse:0.546768\n",
      "[327]\ttrain-rmse:0.546497\n",
      "[328]\ttrain-rmse:0.546233\n",
      "[329]\ttrain-rmse:0.546010\n",
      "[330]\ttrain-rmse:0.545745\n",
      "[331]\ttrain-rmse:0.545472\n",
      "[332]\ttrain-rmse:0.545254\n",
      "[333]\ttrain-rmse:0.544982\n",
      "[334]\ttrain-rmse:0.544731\n",
      "[335]\ttrain-rmse:0.544473\n",
      "[336]\ttrain-rmse:0.544262\n",
      "[337]\ttrain-rmse:0.544049\n",
      "[338]\ttrain-rmse:0.543748\n",
      "[339]\ttrain-rmse:0.543439\n",
      "[340]\ttrain-rmse:0.542995\n",
      "[341]\ttrain-rmse:0.542790\n",
      "[342]\ttrain-rmse:0.542553\n",
      "[343]\ttrain-rmse:0.542258\n",
      "[344]\ttrain-rmse:0.541825\n",
      "[345]\ttrain-rmse:0.541577\n",
      "[346]\ttrain-rmse:0.541298\n",
      "[347]\ttrain-rmse:0.541098\n",
      "[348]\ttrain-rmse:0.540870\n",
      "[349]\ttrain-rmse:0.540563\n",
      "[350]\ttrain-rmse:0.540367\n",
      "[351]\ttrain-rmse:0.540082\n",
      "[352]\ttrain-rmse:0.539664\n",
      "[353]\ttrain-rmse:0.539451\n",
      "[354]\ttrain-rmse:0.539229\n",
      "[355]\ttrain-rmse:0.538950\n",
      "[356]\ttrain-rmse:0.538655\n",
      "[357]\ttrain-rmse:0.538407\n",
      "[358]\ttrain-rmse:0.538189\n",
      "[359]\ttrain-rmse:0.537946\n",
      "[360]\ttrain-rmse:0.537673\n",
      "[361]\ttrain-rmse:0.537300\n",
      "[362]\ttrain-rmse:0.537115\n",
      "[363]\ttrain-rmse:0.536847\n",
      "[364]\ttrain-rmse:0.536635\n",
      "[365]\ttrain-rmse:0.536404\n",
      "[366]\ttrain-rmse:0.536151\n",
      "[367]\ttrain-rmse:0.535915\n",
      "[368]\ttrain-rmse:0.535708\n",
      "[369]\ttrain-rmse:0.535459\n",
      "[370]\ttrain-rmse:0.535227\n",
      "[371]\ttrain-rmse:0.535041\n",
      "[372]\ttrain-rmse:0.534782\n",
      "[373]\ttrain-rmse:0.534390\n",
      "[374]\ttrain-rmse:0.534135\n",
      "[375]\ttrain-rmse:0.533913\n",
      "[376]\ttrain-rmse:0.533714\n",
      "[377]\ttrain-rmse:0.533473\n",
      "[378]\ttrain-rmse:0.533281\n",
      "[379]\ttrain-rmse:0.533086\n",
      "[380]\ttrain-rmse:0.532862\n",
      "[381]\ttrain-rmse:0.532627\n",
      "[382]\ttrain-rmse:0.532449\n",
      "[383]\ttrain-rmse:0.532202\n",
      "[384]\ttrain-rmse:0.532026\n",
      "[385]\ttrain-rmse:0.531648\n",
      "[386]\ttrain-rmse:0.531405\n",
      "[387]\ttrain-rmse:0.531034\n",
      "[388]\ttrain-rmse:0.530849\n",
      "[389]\ttrain-rmse:0.530660\n",
      "[390]\ttrain-rmse:0.530373\n",
      "[391]\ttrain-rmse:0.530160\n",
      "[392]\ttrain-rmse:0.529935\n",
      "[393]\ttrain-rmse:0.529709\n",
      "[394]\ttrain-rmse:0.529495\n",
      "[395]\ttrain-rmse:0.529164\n",
      "[396]\ttrain-rmse:0.528981\n",
      "[397]\ttrain-rmse:0.528803\n",
      "[398]\ttrain-rmse:0.528522\n",
      "[399]\ttrain-rmse:0.528197\n",
      "[400]\ttrain-rmse:0.527990\n",
      "[401]\ttrain-rmse:0.527714\n",
      "[402]\ttrain-rmse:0.527583\n",
      "[403]\ttrain-rmse:0.527361\n",
      "[404]\ttrain-rmse:0.527146\n",
      "[405]\ttrain-rmse:0.526942\n",
      "[406]\ttrain-rmse:0.526761\n",
      "[407]\ttrain-rmse:0.526516\n",
      "[408]\ttrain-rmse:0.526271\n",
      "[409]\ttrain-rmse:0.526028\n",
      "[410]\ttrain-rmse:0.525901\n",
      "[411]\ttrain-rmse:0.525556\n",
      "[412]\ttrain-rmse:0.525316\n",
      "[413]\ttrain-rmse:0.525078\n",
      "[414]\ttrain-rmse:0.524954\n",
      "[415]\ttrain-rmse:0.524791\n",
      "[416]\ttrain-rmse:0.524576\n",
      "[417]\ttrain-rmse:0.524370\n",
      "[418]\ttrain-rmse:0.524248\n",
      "[419]\ttrain-rmse:0.524013\n",
      "[420]\ttrain-rmse:0.523680\n",
      "[421]\ttrain-rmse:0.523457\n",
      "[422]\ttrain-rmse:0.523249\n",
      "[423]\ttrain-rmse:0.523021\n",
      "[424]\ttrain-rmse:0.522903\n",
      "[425]\ttrain-rmse:0.522670\n",
      "[426]\ttrain-rmse:0.522452\n",
      "[427]\ttrain-rmse:0.522230\n",
      "[428]\ttrain-rmse:0.522113\n",
      "[429]\ttrain-rmse:0.521789\n",
      "[430]\ttrain-rmse:0.521598\n",
      "[431]\ttrain-rmse:0.521390\n",
      "[432]\ttrain-rmse:0.521100\n",
      "[433]\ttrain-rmse:0.520899\n",
      "[434]\ttrain-rmse:0.520686\n",
      "[435]\ttrain-rmse:0.520441\n",
      "[436]\ttrain-rmse:0.520327\n",
      "[437]\ttrain-rmse:0.520014\n",
      "[438]\ttrain-rmse:0.519806\n",
      "[439]\ttrain-rmse:0.519607\n",
      "[440]\ttrain-rmse:0.519379\n",
      "[441]\ttrain-rmse:0.519140\n",
      "[442]\ttrain-rmse:0.519028\n",
      "[443]\ttrain-rmse:0.518746\n",
      "[444]\ttrain-rmse:0.518543\n",
      "[445]\ttrain-rmse:0.518308\n",
      "[446]\ttrain-rmse:0.518074\n",
      "[447]\ttrain-rmse:0.517875\n",
      "[448]\ttrain-rmse:0.517681\n",
      "[449]\ttrain-rmse:0.517383\n",
      "[450]\ttrain-rmse:0.517273\n",
      "[451]\ttrain-rmse:0.517078\n",
      "[452]\ttrain-rmse:0.516848\n",
      "[453]\ttrain-rmse:0.516593\n",
      "[454]\ttrain-rmse:0.516293\n",
      "[455]\ttrain-rmse:0.516184\n",
      "[456]\ttrain-rmse:0.516021\n",
      "[457]\ttrain-rmse:0.515912\n",
      "[458]\ttrain-rmse:0.515720\n",
      "[459]\ttrain-rmse:0.515497\n",
      "[460]\ttrain-rmse:0.515367\n",
      "[461]\ttrain-rmse:0.515177\n",
      "[462]\ttrain-rmse:0.514878\n",
      "[463]\ttrain-rmse:0.514690\n",
      "[464]\ttrain-rmse:0.514586\n",
      "[465]\ttrain-rmse:0.514419\n",
      "[466]\ttrain-rmse:0.514214\n",
      "[467]\ttrain-rmse:0.513928\n",
      "[468]\ttrain-rmse:0.513790\n",
      "[469]\ttrain-rmse:0.513539\n",
      "[470]\ttrain-rmse:0.513412\n",
      "[471]\ttrain-rmse:0.513131\n",
      "[472]\ttrain-rmse:0.513029\n",
      "[473]\ttrain-rmse:0.512866\n",
      "[474]\ttrain-rmse:0.512732\n",
      "[475]\ttrain-rmse:0.512549\n",
      "[476]\ttrain-rmse:0.512435\n",
      "[477]\ttrain-rmse:0.512243\n",
      "[478]\ttrain-rmse:0.511958\n",
      "[479]\ttrain-rmse:0.511859\n",
      "[480]\ttrain-rmse:0.511746\n",
      "[481]\ttrain-rmse:0.511586\n",
      "[482]\ttrain-rmse:0.511435\n",
      "[483]\ttrain-rmse:0.511256\n",
      "[484]\ttrain-rmse:0.511145\n",
      "[485]\ttrain-rmse:0.511023\n",
      "[486]\ttrain-rmse:0.510753\n",
      "[487]\ttrain-rmse:0.510535\n",
      "[488]\ttrain-rmse:0.510438\n",
      "[489]\ttrain-rmse:0.510352\n",
      "[490]\ttrain-rmse:0.510159\n",
      "[491]\ttrain-rmse:0.510065\n",
      "[492]\ttrain-rmse:0.509956\n",
      "[493]\ttrain-rmse:0.509862\n",
      "[494]\ttrain-rmse:0.509589\n",
      "[495]\ttrain-rmse:0.509353\n",
      "[496]\ttrain-rmse:0.509177\n",
      "[497]\ttrain-rmse:0.509084\n",
      "[498]\ttrain-rmse:0.508977\n",
      "[499]\ttrain-rmse:0.508823\n",
      "[500]\ttrain-rmse:0.508643\n",
      "[501]\ttrain-rmse:0.508553\n"
     ]
    },
    {
     "name": "stdout",
     "output_type": "stream",
     "text": [
      "  0.815120 seconds (1.43 M allocations: 83.886 MiB, 1.65% gc time, 63.36% compilation time)\n"
     ]
    }
   ],
   "source": [
    "B = 501\n",
    "@time bst = xgboost(X, B, label = Y, eta = 0.01, max_depth = 3);"
   ]
  },
  {
   "cell_type": "code",
   "execution_count": 7,
   "id": "524eb3c6-e126-439b-bc64-d34ab75072c5",
   "metadata": {
    "tags": []
   },
   "outputs": [],
   "source": [
    "ntrees = 1:B # 1:100:B\n",
    "bst_val_loss = map(ntrees) do ntree\n",
    "    Ŷ = predict(bst, X_val, ntree_limit=ntree)\n",
    "    mean((Y_val - Ŷ).^2)\n",
    "end;"
   ]
  },
  {
   "cell_type": "code",
   "execution_count": 8,
   "id": "a5f0ee57-4666-43d6-adb2-44ea1c136320",
   "metadata": {},
   "outputs": [],
   "source": [
    "df_xgb = DataFrame(\n",
    "    n_iter = ntrees,\n",
    "    loss = bst_val_loss,\n",
    "    learner = \"XGBoost\",\n",
    ");"
   ]
  },
  {
   "cell_type": "code",
   "execution_count": 9,
   "id": "a0b47544-e11d-4e38-ae27-e33ac46be65f",
   "metadata": {},
   "outputs": [
    {
     "data": {
      "text/plain": [
       "(0.401185902518711, 309)"
      ]
     },
     "execution_count": 9,
     "metadata": {},
     "output_type": "execute_result"
    }
   ],
   "source": [
    "findmin(bst_val_loss)"
   ]
  },
  {
   "cell_type": "markdown",
   "id": "17afbc85-5e08-48d4-8474-e60e1a9bb248",
   "metadata": {},
   "source": [
    "# SAL"
   ]
  },
  {
   "cell_type": "code",
   "execution_count": 31,
   "id": "cc871c5c-b1f4-4da9-b74b-ddec089c413a",
   "metadata": {},
   "outputs": [],
   "source": [
    "import SelectivelyAdaptiveLasso as SAL\n",
    "import StatsBase: sample"
   ]
  },
  {
   "cell_type": "code",
   "execution_count": 42,
   "id": "9b60cd9c-09a2-49ef-9700-17e8122df803",
   "metadata": {
    "tags": []
   },
   "outputs": [
    {
     "name": "stdout",
     "output_type": "stream",
     "text": [
      "(0.7055302088138821, 0.6114386336526839)\n",
      "(0.4988642625696083, 0.4909746155309575)\n",
      "(0.49028610677644985, 0.47222200153919563)\n",
      "(0.47769785602605447, 0.4573300355234578)\n",
      "(0.4744588472889, 0.4512863295908432)\n",
      "(0.4683591188456145, 0.4514263256218401)\n",
      "(0.46169564709616306, 0.4393603301967419)\n",
      "(0.4605348685155952, 0.4398892147968298)\n",
      "(0.4584870882726862, 0.4372150140759557)\n",
      "(0.4541068602959808, 0.43961681143168724)\n",
      "(0.45327143731433267, 0.4382319759179812)\n",
      "(0.45041471278809464, 0.43913362121732613)\n",
      "(0.44989997509965185, 0.4399094808678784)\n",
      "(0.45001829331622584, 0.43959615517679057)\n",
      "(0.4498681247108349, 0.43861155804531565)\n",
      "(0.44803795093573473, 0.43755670704358013)\n",
      "(0.4472698879359043, 0.4372425986863183)\n",
      "(0.4477012247797608, 0.43723810451999506)\n",
      "(0.44769154229124103, 0.43718055402962946)\n",
      "(0.4474634788703275, 0.43527414662908614)\n",
      "(0.4474074106575039, 0.4366443497463562)\n",
      "  1.601297 seconds (598.69 k allocations: 1.311 GiB, 13.03% gc time)\n"
     ]
    }
   ],
   "source": [
    "sal_spec = SAL.SALSpec(\n",
    "    max_iter=1000,\n",
    "    λ = 0.005,\n",
    "    bases_per_iter=1,\n",
    "    m_subsample=10,\n",
    "    n_subsample=400,\n",
    "    tol = 1e-3,\n",
    ")\n",
    "shuffle = sample(1:n_val, n_val, replace=false)\n",
    "@time sal_fit, log = SAL.fit(\n",
    "    sal_spec, \n",
    "    X, Y, \n",
    "    X_val=X_val[shuffle,:], Y_val=Y_val[shuffle],\n",
    "    verbose=true, print_iter=50,\n",
    ")\n",
    "loss, loss_val = log;"
   ]
  },
  {
   "cell_type": "code",
   "execution_count": 43,
   "id": "03ea5e82-c782-40a8-b6ba-033997c9b613",
   "metadata": {},
   "outputs": [
    {
     "data": {
      "text/plain": [
       "KeySet for a Dict{Set{CartesianIndex{2}}, Float64} with 34 entries. Keys:\n",
       "  Set(CartesianIndex{2}[CartesianIndex(0, 0), CartesianIndex(2, 1), CartesianIn…\n",
       "  Set(CartesianIndex{2}[CartesianIndex(0, 0), CartesianIndex(2, 10)])\n",
       "  Set(CartesianIndex{2}[CartesianIndex(0, 0), CartesianIndex(2, 1), CartesianIn…\n",
       "  Set(CartesianIndex{2}[CartesianIndex(0, 0), CartesianIndex(2, 11), CartesianI…\n",
       "  Set(CartesianIndex{2}[CartesianIndex(0, 0), CartesianIndex(2, 4), CartesianIn…\n",
       "  Set(CartesianIndex{2}[CartesianIndex(0, 0), CartesianIndex(2, 1), CartesianIn…\n",
       "  Set(CartesianIndex{2}[CartesianIndex(0, 0), CartesianIndex(2, 11), CartesianI…\n",
       "  Set(CartesianIndex{2}[CartesianIndex(0, 0), CartesianIndex(2, 1), CartesianIn…\n",
       "  Set(CartesianIndex{2}[CartesianIndex(0, 0), CartesianIndex(2, 9), CartesianIn…\n",
       "  Set(CartesianIndex{2}[CartesianIndex(0, 0), CartesianIndex(2, 4), CartesianIn…\n",
       "  Set(CartesianIndex{2}[CartesianIndex(0, 0), CartesianIndex(2, 2), CartesianIn…\n",
       "  Set(CartesianIndex{2}[CartesianIndex(0, 0), CartesianIndex(1, 5), CartesianIn…\n",
       "  Set(CartesianIndex{2}[CartesianIndex(0, 0), CartesianIndex(2, 3), CartesianIn…\n",
       "  Set(CartesianIndex{2}[CartesianIndex(0, 0), CartesianIndex(1, 1), CartesianIn…\n",
       "  Set(CartesianIndex{2}[CartesianIndex(0, 0), CartesianIndex(1, 7), CartesianIn…\n",
       "  Set(CartesianIndex{2}[CartesianIndex(0, 0), CartesianIndex(1, 7), CartesianIn…\n",
       "  Set(CartesianIndex{2}[CartesianIndex(0, 0), CartesianIndex(1, 3), CartesianIn…\n",
       "  Set(CartesianIndex{2}[CartesianIndex(0, 0), CartesianIndex(2, 1), CartesianIn…\n",
       "  Set(CartesianIndex{2}[CartesianIndex(0, 0), CartesianIndex(1, 5), CartesianIn…\n",
       "  Set(CartesianIndex{2}[CartesianIndex(0, 0), CartesianIndex(2, 7), CartesianIn…\n",
       "  Set(CartesianIndex{2}[CartesianIndex(0, 0), CartesianIndex(1, 5)])\n",
       "  Set(CartesianIndex{2}[CartesianIndex(0, 0), CartesianIndex(1, 3), CartesianIn…\n",
       "  Set(CartesianIndex{2}[CartesianIndex(0, 0), CartesianIndex(2, 1), CartesianIn…\n",
       "  Set(CartesianIndex{2}[CartesianIndex(0, 0), CartesianIndex(2, 10), CartesianI…\n",
       "  Set(CartesianIndex{2}[CartesianIndex(0, 0)])\n",
       "  ⋮"
      ]
     },
     "execution_count": 43,
     "metadata": {},
     "output_type": "execute_result"
    }
   ],
   "source": [
    "keys(sal_fit.β)"
   ]
  },
  {
   "cell_type": "code",
   "execution_count": 13,
   "id": "e63c09e6-8568-498f-a705-5d9a02f6d0b2",
   "metadata": {},
   "outputs": [
    {
     "data": {
      "text/plain": [
       "(0.41171625885177404, 382)"
      ]
     },
     "execution_count": 13,
     "metadata": {},
     "output_type": "execute_result"
    }
   ],
   "source": [
    "findmin(loss_val)"
   ]
  },
  {
   "cell_type": "code",
   "execution_count": 14,
   "id": "80d8f1a3-de94-45c6-95e7-841e60ba5acf",
   "metadata": {},
   "outputs": [],
   "source": [
    "df_sal = DataFrame(\n",
    "    n_iter = 1:length(loss_val),\n",
    "    loss = loss_val,\n",
    "    learner = \"SAL\"\n",
    ");"
   ]
  },
  {
   "cell_type": "markdown",
   "id": "5d8c32c7-e280-4d39-a3d5-43ab23b22c2a",
   "metadata": {},
   "source": [
    "# Plot"
   ]
  },
  {
   "cell_type": "code",
   "execution_count": 15,
   "id": "4a596366-3492-4994-9afa-e4d27e347c98",
   "metadata": {},
   "outputs": [
    {
     "data": {
      "application/vnd.vegalite.v4+json": {
       "data": {
        "values": [
         {
          "learner": "XGBoost",
          "loss": 0.9225417714573934,
          "n_iter": 1
         },
         {
          "learner": "XGBoost",
          "loss": 0.9123402664792111,
          "n_iter": 2
         },
         {
          "learner": "XGBoost",
          "loss": 0.9021925299307959,
          "n_iter": 3
         },
         {
          "learner": "XGBoost",
          "loss": 0.8924162042167851,
          "n_iter": 4
         },
         {
          "learner": "XGBoost",
          "loss": 0.8835876199136137,
          "n_iter": 5
         },
         {
          "learner": "XGBoost",
          "loss": 0.8739170988090583,
          "n_iter": 6
         },
         {
          "learner": "XGBoost",
          "loss": 0.8652235718333315,
          "n_iter": 7
         },
         {
          "learner": "XGBoost",
          "loss": 0.8569620865351247,
          "n_iter": 8
         },
         {
          "learner": "XGBoost",
          "loss": 0.848329902750654,
          "n_iter": 9
         },
         {
          "learner": "XGBoost",
          "loss": 0.8403841342945718,
          "n_iter": 10
         },
         {
          "learner": "XGBoost",
          "loss": 0.8320744637283878,
          "n_iter": 11
         },
         {
          "learner": "XGBoost",
          "loss": 0.823139020729722,
          "n_iter": 12
         },
         {
          "learner": "XGBoost",
          "loss": 0.8151765584947741,
          "n_iter": 13
         },
         {
          "learner": "XGBoost",
          "loss": 0.8070019800613782,
          "n_iter": 14
         },
         {
          "learner": "XGBoost",
          "loss": 0.7993847823571535,
          "n_iter": 15
         },
         {
          "learner": "XGBoost",
          "loss": 0.7920974482495005,
          "n_iter": 16
         },
         {
          "learner": "XGBoost",
          "loss": 0.7847225817409093,
          "n_iter": 17
         },
         {
          "learner": "XGBoost",
          "loss": 0.7767412963692045,
          "n_iter": 18
         },
         {
          "learner": "XGBoost",
          "loss": 0.7696982654246689,
          "n_iter": 19
         },
         {
          "learner": "XGBoost",
          "loss": 0.7621831038871476,
          "n_iter": 20
         },
         {
          "learner": "XGBoost",
          "loss": 0.7553214410822732,
          "n_iter": 21
         },
         {
          "learner": "XGBoost",
          "loss": 0.7487076567790788,
          "n_iter": 22
         },
         {
          "learner": "XGBoost",
          "loss": 0.7417112121110747,
          "n_iter": 23
         },
         {
          "learner": "XGBoost",
          "loss": 0.7351339633395682,
          "n_iter": 24
         },
         {
          "learner": "XGBoost",
          "loss": 0.7290342425131372,
          "n_iter": 25
         },
         {
          "learner": "XGBoost",
          "loss": 0.7229205964947123,
          "n_iter": 26
         },
         {
          "learner": "XGBoost",
          "loss": 0.716353802384876,
          "n_iter": 27
         },
         {
          "learner": "XGBoost",
          "loss": 0.7103435987417357,
          "n_iter": 28
         },
         {
          "learner": "XGBoost",
          "loss": 0.7047768756602079,
          "n_iter": 29
         },
         {
          "learner": "XGBoost",
          "loss": 0.698910619773139,
          "n_iter": 30
         },
         {
          "learner": "XGBoost",
          "loss": 0.6931360223493813,
          "n_iter": 31
         },
         {
          "learner": "XGBoost",
          "loss": 0.6872819011596001,
          "n_iter": 32
         },
         {
          "learner": "XGBoost",
          "loss": 0.6817466604782204,
          "n_iter": 33
         },
         {
          "learner": "XGBoost",
          "loss": 0.6765345206560188,
          "n_iter": 34
         },
         {
          "learner": "XGBoost",
          "loss": 0.6714636688367939,
          "n_iter": 35
         },
         {
          "learner": "XGBoost",
          "loss": 0.6661796284013822,
          "n_iter": 36
         },
         {
          "learner": "XGBoost",
          "loss": 0.6609693570024833,
          "n_iter": 37
         },
         {
          "learner": "XGBoost",
          "loss": 0.6560087175838875,
          "n_iter": 38
         },
         {
          "learner": "XGBoost",
          "loss": 0.6513550957529624,
          "n_iter": 39
         },
         {
          "learner": "XGBoost",
          "loss": 0.6464457980755851,
          "n_iter": 40
         },
         {
          "learner": "XGBoost",
          "loss": 0.6416847821645822,
          "n_iter": 41
         },
         {
          "learner": "XGBoost",
          "loss": 0.637300820438625,
          "n_iter": 42
         },
         {
          "learner": "XGBoost",
          "loss": 0.6328022366449717,
          "n_iter": 43
         },
         {
          "learner": "XGBoost",
          "loss": 0.6282415810832338,
          "n_iter": 44
         },
         {
          "learner": "XGBoost",
          "loss": 0.6241058444736604,
          "n_iter": 45
         },
         {
          "learner": "XGBoost",
          "loss": 0.6197813872921155,
          "n_iter": 46
         },
         {
          "learner": "XGBoost",
          "loss": 0.6152178967962215,
          "n_iter": 47
         },
         {
          "learner": "XGBoost",
          "loss": 0.6113822692023468,
          "n_iter": 48
         },
         {
          "learner": "XGBoost",
          "loss": 0.6072801028380735,
          "n_iter": 49
         },
         {
          "learner": "XGBoost",
          "loss": 0.6034300107385734,
          "n_iter": 50
         },
         {
          "learner": "XGBoost",
          "loss": 0.5992031831002333,
          "n_iter": 51
         },
         {
          "learner": "XGBoost",
          "loss": 0.5955866398842753,
          "n_iter": 52
         },
         {
          "learner": "XGBoost",
          "loss": 0.5919221410985454,
          "n_iter": 53
         },
         {
          "learner": "XGBoost",
          "loss": 0.5880257880578339,
          "n_iter": 54
         },
         {
          "learner": "XGBoost",
          "loss": 0.5843460633211592,
          "n_iter": 55
         },
         {
          "learner": "XGBoost",
          "loss": 0.5804022781530402,
          "n_iter": 56
         },
         {
          "learner": "XGBoost",
          "loss": 0.5769844374472808,
          "n_iter": 57
         },
         {
          "learner": "XGBoost",
          "loss": 0.5732005393690399,
          "n_iter": 58
         },
         {
          "learner": "XGBoost",
          "loss": 0.5699286541922436,
          "n_iter": 59
         },
         {
          "learner": "XGBoost",
          "loss": 0.566922097958872,
          "n_iter": 60
         },
         {
          "learner": "XGBoost",
          "loss": 0.5636992653280489,
          "n_iter": 61
         },
         {
          "learner": "XGBoost",
          "loss": 0.5607175406351876,
          "n_iter": 62
         },
         {
          "learner": "XGBoost",
          "loss": 0.5575429652245901,
          "n_iter": 63
         },
         {
          "learner": "XGBoost",
          "loss": 0.5542161159956867,
          "n_iter": 64
         },
         {
          "learner": "XGBoost",
          "loss": 0.5512968049210802,
          "n_iter": 65
         },
         {
          "learner": "XGBoost",
          "loss": 0.5480611436457683,
          "n_iter": 66
         },
         {
          "learner": "XGBoost",
          "loss": 0.5453287132708516,
          "n_iter": 67
         },
         {
          "learner": "XGBoost",
          "loss": 0.542688493127164,
          "n_iter": 68
         },
         {
          "learner": "XGBoost",
          "loss": 0.5398869496339919,
          "n_iter": 69
         },
         {
          "learner": "XGBoost",
          "loss": 0.5370666354819662,
          "n_iter": 70
         },
         {
          "learner": "XGBoost",
          "loss": 0.53436802431427,
          "n_iter": 71
         },
         {
          "learner": "XGBoost",
          "loss": 0.5319508573770118,
          "n_iter": 72
         },
         {
          "learner": "XGBoost",
          "loss": 0.5291563076620739,
          "n_iter": 73
         },
         {
          "learner": "XGBoost",
          "loss": 0.5266382956679962,
          "n_iter": 74
         },
         {
          "learner": "XGBoost",
          "loss": 0.524258222052682,
          "n_iter": 75
         },
         {
          "learner": "XGBoost",
          "loss": 0.5217006379435742,
          "n_iter": 76
         },
         {
          "learner": "XGBoost",
          "loss": 0.5190863245548097,
          "n_iter": 77
         },
         {
          "learner": "XGBoost",
          "loss": 0.5167166222704458,
          "n_iter": 78
         },
         {
          "learner": "XGBoost",
          "loss": 0.5145607916089001,
          "n_iter": 79
         },
         {
          "learner": "XGBoost",
          "loss": 0.5121313999021604,
          "n_iter": 80
         },
         {
          "learner": "XGBoost",
          "loss": 0.5098891671178142,
          "n_iter": 81
         },
         {
          "learner": "XGBoost",
          "loss": 0.5079899521179404,
          "n_iter": 82
         },
         {
          "learner": "XGBoost",
          "loss": 0.5058317231163044,
          "n_iter": 83
         },
         {
          "learner": "XGBoost",
          "loss": 0.5036938667558928,
          "n_iter": 84
         },
         {
          "learner": "XGBoost",
          "loss": 0.5014557243484565,
          "n_iter": 85
         },
         {
          "learner": "XGBoost",
          "loss": 0.4995751610472239,
          "n_iter": 86
         },
         {
          "learner": "XGBoost",
          "loss": 0.4977827788440199,
          "n_iter": 87
         },
         {
          "learner": "XGBoost",
          "loss": 0.4958136797873061,
          "n_iter": 88
         },
         {
          "learner": "XGBoost",
          "loss": 0.4939649321557645,
          "n_iter": 89
         },
         {
          "learner": "XGBoost",
          "loss": 0.4921602139267215,
          "n_iter": 90
         },
         {
          "learner": "XGBoost",
          "loss": 0.49016243746528587,
          "n_iter": 91
         },
         {
          "learner": "XGBoost",
          "loss": 0.4885773275176381,
          "n_iter": 92
         },
         {
          "learner": "XGBoost",
          "loss": 0.4869412735623152,
          "n_iter": 93
         },
         {
          "learner": "XGBoost",
          "loss": 0.48521487918283895,
          "n_iter": 94
         },
         {
          "learner": "XGBoost",
          "loss": 0.48356687912037954,
          "n_iter": 95
         },
         {
          "learner": "XGBoost",
          "loss": 0.48192037601864807,
          "n_iter": 96
         },
         {
          "learner": "XGBoost",
          "loss": 0.480324191619819,
          "n_iter": 97
         },
         {
          "learner": "XGBoost",
          "loss": 0.47882997312835957,
          "n_iter": 98
         },
         {
          "learner": "XGBoost",
          "loss": 0.4772736747183765,
          "n_iter": 99
         },
         {
          "learner": "XGBoost",
          "loss": 0.47584395536803675,
          "n_iter": 100
         },
         {
          "learner": "XGBoost",
          "loss": 0.4744136557036288,
          "n_iter": 101
         },
         {
          "learner": "XGBoost",
          "loss": 0.4729477170893028,
          "n_iter": 102
         },
         {
          "learner": "XGBoost",
          "loss": 0.4715914083008886,
          "n_iter": 103
         },
         {
          "learner": "XGBoost",
          "loss": 0.4702449945279293,
          "n_iter": 104
         },
         {
          "learner": "XGBoost",
          "loss": 0.468775924455718,
          "n_iter": 105
         },
         {
          "learner": "XGBoost",
          "loss": 0.46764461011746433,
          "n_iter": 106
         },
         {
          "learner": "XGBoost",
          "loss": 0.466222472517477,
          "n_iter": 107
         },
         {
          "learner": "XGBoost",
          "loss": 0.4650955557369276,
          "n_iter": 108
         },
         {
          "learner": "XGBoost",
          "loss": 0.46381019723539546,
          "n_iter": 109
         },
         {
          "learner": "XGBoost",
          "loss": 0.4625719950164895,
          "n_iter": 110
         },
         {
          "learner": "XGBoost",
          "loss": 0.461403520062535,
          "n_iter": 111
         },
         {
          "learner": "XGBoost",
          "loss": 0.4602732085500938,
          "n_iter": 112
         },
         {
          "learner": "XGBoost",
          "loss": 0.45879971688111915,
          "n_iter": 113
         },
         {
          "learner": "XGBoost",
          "loss": 0.45788248686297045,
          "n_iter": 114
         },
         {
          "learner": "XGBoost",
          "loss": 0.4568286767120084,
          "n_iter": 115
         },
         {
          "learner": "XGBoost",
          "loss": 0.45542828700362925,
          "n_iter": 116
         },
         {
          "learner": "XGBoost",
          "loss": 0.4544287333927216,
          "n_iter": 117
         },
         {
          "learner": "XGBoost",
          "loss": 0.45308066067148167,
          "n_iter": 118
         },
         {
          "learner": "XGBoost",
          "loss": 0.4521777701973304,
          "n_iter": 119
         },
         {
          "learner": "XGBoost",
          "loss": 0.4512504484364919,
          "n_iter": 120
         },
         {
          "learner": "XGBoost",
          "loss": 0.449976244875011,
          "n_iter": 121
         },
         {
          "learner": "XGBoost",
          "loss": 0.44922538510503257,
          "n_iter": 122
         },
         {
          "learner": "XGBoost",
          "loss": 0.4483962999454137,
          "n_iter": 123
         },
         {
          "learner": "XGBoost",
          "loss": 0.4471561619547012,
          "n_iter": 124
         },
         {
          "learner": "XGBoost",
          "loss": 0.4462889687627927,
          "n_iter": 125
         },
         {
          "learner": "XGBoost",
          "loss": 0.44561448779713264,
          "n_iter": 126
         },
         {
          "learner": "XGBoost",
          "loss": 0.4444600831054138,
          "n_iter": 127
         },
         {
          "learner": "XGBoost",
          "loss": 0.44377977660097606,
          "n_iter": 128
         },
         {
          "learner": "XGBoost",
          "loss": 0.443136299590093,
          "n_iter": 129
         },
         {
          "learner": "XGBoost",
          "loss": 0.4422238908462868,
          "n_iter": 130
         },
         {
          "learner": "XGBoost",
          "loss": 0.4414742750899616,
          "n_iter": 131
         },
         {
          "learner": "XGBoost",
          "loss": 0.4406031942041567,
          "n_iter": 132
         },
         {
          "learner": "XGBoost",
          "loss": 0.4398349992843733,
          "n_iter": 133
         },
         {
          "learner": "XGBoost",
          "loss": 0.43929230489857674,
          "n_iter": 134
         },
         {
          "learner": "XGBoost",
          "loss": 0.4384551734191491,
          "n_iter": 135
         },
         {
          "learner": "XGBoost",
          "loss": 0.43766567028310877,
          "n_iter": 136
         },
         {
          "learner": "XGBoost",
          "loss": 0.43688362412141574,
          "n_iter": 137
         },
         {
          "learner": "XGBoost",
          "loss": 0.4360565528454914,
          "n_iter": 138
         },
         {
          "learner": "XGBoost",
          "loss": 0.4352878437211668,
          "n_iter": 139
         },
         {
          "learner": "XGBoost",
          "loss": 0.43476746630545654,
          "n_iter": 140
         },
         {
          "learner": "XGBoost",
          "loss": 0.43410462265560573,
          "n_iter": 141
         },
         {
          "learner": "XGBoost",
          "loss": 0.43340477859183646,
          "n_iter": 142
         },
         {
          "learner": "XGBoost",
          "loss": 0.4329763921657986,
          "n_iter": 143
         },
         {
          "learner": "XGBoost",
          "loss": 0.4323076229587696,
          "n_iter": 144
         },
         {
          "learner": "XGBoost",
          "loss": 0.43184519425412055,
          "n_iter": 145
         },
         {
          "learner": "XGBoost",
          "loss": 0.43142898008418085,
          "n_iter": 146
         },
         {
          "learner": "XGBoost",
          "loss": 0.43056864513244547,
          "n_iter": 147
         },
         {
          "learner": "XGBoost",
          "loss": 0.43002454543217533,
          "n_iter": 148
         },
         {
          "learner": "XGBoost",
          "loss": 0.42969875941918956,
          "n_iter": 149
         },
         {
          "learner": "XGBoost",
          "loss": 0.42905128397095316,
          "n_iter": 150
         },
         {
          "learner": "XGBoost",
          "loss": 0.42873373702737266,
          "n_iter": 151
         },
         {
          "learner": "XGBoost",
          "loss": 0.42787753127068,
          "n_iter": 152
         },
         {
          "learner": "XGBoost",
          "loss": 0.4273908799849675,
          "n_iter": 153
         },
         {
          "learner": "XGBoost",
          "loss": 0.42708918656666733,
          "n_iter": 154
         },
         {
          "learner": "XGBoost",
          "loss": 0.42655520774976907,
          "n_iter": 155
         },
         {
          "learner": "XGBoost",
          "loss": 0.4260092085905004,
          "n_iter": 156
         },
         {
          "learner": "XGBoost",
          "loss": 0.4253932456852504,
          "n_iter": 157
         },
         {
          "learner": "XGBoost",
          "loss": 0.42491283640879124,
          "n_iter": 158
         },
         {
          "learner": "XGBoost",
          "loss": 0.4246360899931156,
          "n_iter": 159
         },
         {
          "learner": "XGBoost",
          "loss": 0.42421605812843516,
          "n_iter": 160
         },
         {
          "learner": "XGBoost",
          "loss": 0.4234652343246475,
          "n_iter": 161
         },
         {
          "learner": "XGBoost",
          "loss": 0.4231603567960366,
          "n_iter": 162
         },
         {
          "learner": "XGBoost",
          "loss": 0.42291688949940076,
          "n_iter": 163
         },
         {
          "learner": "XGBoost",
          "loss": 0.4224872161972073,
          "n_iter": 164
         },
         {
          "learner": "XGBoost",
          "loss": 0.42196863933936996,
          "n_iter": 165
         },
         {
          "learner": "XGBoost",
          "loss": 0.421693240241833,
          "n_iter": 166
         },
         {
          "learner": "XGBoost",
          "loss": 0.42140275242174235,
          "n_iter": 167
         },
         {
          "learner": "XGBoost",
          "loss": 0.42121639221714874,
          "n_iter": 168
         },
         {
          "learner": "XGBoost",
          "loss": 0.4207401471421811,
          "n_iter": 169
         },
         {
          "learner": "XGBoost",
          "loss": 0.4204932167851909,
          "n_iter": 170
         },
         {
          "learner": "XGBoost",
          "loss": 0.42031138798158113,
          "n_iter": 171
         },
         {
          "learner": "XGBoost",
          "loss": 0.42014062072172237,
          "n_iter": 172
         },
         {
          "learner": "XGBoost",
          "loss": 0.4195143423939014,
          "n_iter": 173
         },
         {
          "learner": "XGBoost",
          "loss": 0.41929231047774446,
          "n_iter": 174
         },
         {
          "learner": "XGBoost",
          "loss": 0.4191544997163535,
          "n_iter": 175
         },
         {
          "learner": "XGBoost",
          "loss": 0.41888723512639714,
          "n_iter": 176
         },
         {
          "learner": "XGBoost",
          "loss": 0.4186691486981596,
          "n_iter": 177
         },
         {
          "learner": "XGBoost",
          "loss": 0.4183584798876815,
          "n_iter": 178
         },
         {
          "learner": "XGBoost",
          "loss": 0.4181314834219211,
          "n_iter": 179
         },
         {
          "learner": "XGBoost",
          "loss": 0.4177515920847267,
          "n_iter": 180
         },
         {
          "learner": "XGBoost",
          "loss": 0.4176158146835057,
          "n_iter": 181
         },
         {
          "learner": "XGBoost",
          "loss": 0.417331229566704,
          "n_iter": 182
         },
         {
          "learner": "XGBoost",
          "loss": 0.41682784137528023,
          "n_iter": 183
         },
         {
          "learner": "XGBoost",
          "loss": 0.41666443404659215,
          "n_iter": 184
         },
         {
          "learner": "XGBoost",
          "loss": 0.41656611504191515,
          "n_iter": 185
         },
         {
          "learner": "XGBoost",
          "loss": 0.4159586618318585,
          "n_iter": 186
         },
         {
          "learner": "XGBoost",
          "loss": 0.4157727096511036,
          "n_iter": 187
         },
         {
          "learner": "XGBoost",
          "loss": 0.4151842580760434,
          "n_iter": 188
         },
         {
          "learner": "XGBoost",
          "loss": 0.4149383064936017,
          "n_iter": 189
         },
         {
          "learner": "XGBoost",
          "loss": 0.41470061596482233,
          "n_iter": 190
         },
         {
          "learner": "XGBoost",
          "loss": 0.4143707693663281,
          "n_iter": 191
         },
         {
          "learner": "XGBoost",
          "loss": 0.413893867601009,
          "n_iter": 192
         },
         {
          "learner": "XGBoost",
          "loss": 0.41357847902108036,
          "n_iter": 193
         },
         {
          "learner": "XGBoost",
          "loss": 0.4130332560890095,
          "n_iter": 194
         },
         {
          "learner": "XGBoost",
          "loss": 0.41296895793686467,
          "n_iter": 195
         },
         {
          "learner": "XGBoost",
          "loss": 0.4126709609876659,
          "n_iter": 196
         },
         {
          "learner": "XGBoost",
          "loss": 0.4124488801925408,
          "n_iter": 197
         },
         {
          "learner": "XGBoost",
          "loss": 0.412163662569392,
          "n_iter": 198
         },
         {
          "learner": "XGBoost",
          "loss": 0.41199011086629844,
          "n_iter": 199
         },
         {
          "learner": "XGBoost",
          "loss": 0.41186513340349074,
          "n_iter": 200
         },
         {
          "learner": "XGBoost",
          "loss": 0.41170945516602886,
          "n_iter": 201
         },
         {
          "learner": "XGBoost",
          "loss": 0.4114767196700104,
          "n_iter": 202
         },
         {
          "learner": "XGBoost",
          "loss": 0.4112300064675816,
          "n_iter": 203
         },
         {
          "learner": "XGBoost",
          "loss": 0.41104676385068445,
          "n_iter": 204
         },
         {
          "learner": "XGBoost",
          "loss": 0.41054532855289055,
          "n_iter": 205
         },
         {
          "learner": "XGBoost",
          "loss": 0.4103136518422795,
          "n_iter": 206
         },
         {
          "learner": "XGBoost",
          "loss": 0.41027774714905424,
          "n_iter": 207
         },
         {
          "learner": "XGBoost",
          "loss": 0.4101082013980698,
          "n_iter": 208
         },
         {
          "learner": "XGBoost",
          "loss": 0.4097750262152973,
          "n_iter": 209
         },
         {
          "learner": "XGBoost",
          "loss": 0.4095332602953323,
          "n_iter": 210
         },
         {
          "learner": "XGBoost",
          "loss": 0.40941750900114904,
          "n_iter": 211
         },
         {
          "learner": "XGBoost",
          "loss": 0.4092752371593531,
          "n_iter": 212
         },
         {
          "learner": "XGBoost",
          "loss": 0.40906624563393296,
          "n_iter": 213
         },
         {
          "learner": "XGBoost",
          "loss": 0.4088623155134337,
          "n_iter": 214
         },
         {
          "learner": "XGBoost",
          "loss": 0.4086828817351072,
          "n_iter": 215
         },
         {
          "learner": "XGBoost",
          "loss": 0.4086051378470269,
          "n_iter": 216
         },
         {
          "learner": "XGBoost",
          "loss": 0.4085423834651887,
          "n_iter": 217
         },
         {
          "learner": "XGBoost",
          "loss": 0.40842091811153997,
          "n_iter": 218
         },
         {
          "learner": "XGBoost",
          "loss": 0.4082342116444957,
          "n_iter": 219
         },
         {
          "learner": "XGBoost",
          "loss": 0.40808372796541675,
          "n_iter": 220
         },
         {
          "learner": "XGBoost",
          "loss": 0.4079259963548978,
          "n_iter": 221
         },
         {
          "learner": "XGBoost",
          "loss": 0.40773428214762414,
          "n_iter": 222
         },
         {
          "learner": "XGBoost",
          "loss": 0.40767925069250316,
          "n_iter": 223
         },
         {
          "learner": "XGBoost",
          "loss": 0.4072855216778789,
          "n_iter": 224
         },
         {
          "learner": "XGBoost",
          "loss": 0.40710430706792655,
          "n_iter": 225
         },
         {
          "learner": "XGBoost",
          "loss": 0.4069650902948903,
          "n_iter": 226
         },
         {
          "learner": "XGBoost",
          "loss": 0.4067911554615089,
          "n_iter": 227
         },
         {
          "learner": "XGBoost",
          "loss": 0.40666195851198955,
          "n_iter": 228
         },
         {
          "learner": "XGBoost",
          "loss": 0.4063141467876901,
          "n_iter": 229
         },
         {
          "learner": "XGBoost",
          "loss": 0.4060459035759396,
          "n_iter": 230
         },
         {
          "learner": "XGBoost",
          "loss": 0.4059006383951928,
          "n_iter": 231
         },
         {
          "learner": "XGBoost",
          "loss": 0.4055422496539302,
          "n_iter": 232
         },
         {
          "learner": "XGBoost",
          "loss": 0.40538399583098955,
          "n_iter": 233
         },
         {
          "learner": "XGBoost",
          "loss": 0.40549472804642234,
          "n_iter": 234
         },
         {
          "learner": "XGBoost",
          "loss": 0.4051476091538153,
          "n_iter": 235
         },
         {
          "learner": "XGBoost",
          "loss": 0.40507587152821567,
          "n_iter": 236
         },
         {
          "learner": "XGBoost",
          "loss": 0.40519921234306955,
          "n_iter": 237
         },
         {
          "learner": "XGBoost",
          "loss": 0.4051068304823773,
          "n_iter": 238
         },
         {
          "learner": "XGBoost",
          "loss": 0.40479318803291753,
          "n_iter": 239
         },
         {
          "learner": "XGBoost",
          "loss": 0.4045071567670677,
          "n_iter": 240
         },
         {
          "learner": "XGBoost",
          "loss": 0.4046873504973827,
          "n_iter": 241
         },
         {
          "learner": "XGBoost",
          "loss": 0.40463512123321926,
          "n_iter": 242
         },
         {
          "learner": "XGBoost",
          "loss": 0.40458983867297166,
          "n_iter": 243
         },
         {
          "learner": "XGBoost",
          "loss": 0.4042917187021247,
          "n_iter": 244
         },
         {
          "learner": "XGBoost",
          "loss": 0.40425465587415405,
          "n_iter": 245
         },
         {
          "learner": "XGBoost",
          "loss": 0.40387153200171455,
          "n_iter": 246
         },
         {
          "learner": "XGBoost",
          "loss": 0.4040716293306047,
          "n_iter": 247
         },
         {
          "learner": "XGBoost",
          "loss": 0.4040974203711084,
          "n_iter": 248
         },
         {
          "learner": "XGBoost",
          "loss": 0.40425719784950603,
          "n_iter": 249
         },
         {
          "learner": "XGBoost",
          "loss": 0.4038912035488956,
          "n_iter": 250
         },
         {
          "learner": "XGBoost",
          "loss": 0.4036090239721454,
          "n_iter": 251
         },
         {
          "learner": "XGBoost",
          "loss": 0.4035965826384615,
          "n_iter": 252
         },
         {
          "learner": "XGBoost",
          "loss": 0.4035955141974996,
          "n_iter": 253
         },
         {
          "learner": "XGBoost",
          "loss": 0.4036325014910585,
          "n_iter": 254
         },
         {
          "learner": "XGBoost",
          "loss": 0.40338443901287285,
          "n_iter": 255
         },
         {
          "learner": "XGBoost",
          "loss": 0.4036058617655111,
          "n_iter": 256
         },
         {
          "learner": "XGBoost",
          "loss": 0.4036052139318841,
          "n_iter": 257
         },
         {
          "learner": "XGBoost",
          "loss": 0.4036039582820398,
          "n_iter": 258
         },
         {
          "learner": "XGBoost",
          "loss": 0.4032642790331661,
          "n_iter": 259
         },
         {
          "learner": "XGBoost",
          "loss": 0.40296267577944134,
          "n_iter": 260
         },
         {
          "learner": "XGBoost",
          "loss": 0.40302166987609417,
          "n_iter": 261
         },
         {
          "learner": "XGBoost",
          "loss": 0.40269341477043336,
          "n_iter": 262
         },
         {
          "learner": "XGBoost",
          "loss": 0.4029299061762584,
          "n_iter": 263
         },
         {
          "learner": "XGBoost",
          "loss": 0.40294568478964105,
          "n_iter": 264
         },
         {
          "learner": "XGBoost",
          "loss": 0.40319038835983195,
          "n_iter": 265
         },
         {
          "learner": "XGBoost",
          "loss": 0.40295174650492543,
          "n_iter": 266
         },
         {
          "learner": "XGBoost",
          "loss": 0.4027493525435722,
          "n_iter": 267
         },
         {
          "learner": "XGBoost",
          "loss": 0.40272244840020294,
          "n_iter": 268
         },
         {
          "learner": "XGBoost",
          "loss": 0.40292595447962193,
          "n_iter": 269
         },
         {
          "learner": "XGBoost",
          "loss": 0.4026198103509713,
          "n_iter": 270
         },
         {
          "learner": "XGBoost",
          "loss": 0.40245128876768965,
          "n_iter": 271
         },
         {
          "learner": "XGBoost",
          "loss": 0.4024848330633501,
          "n_iter": 272
         },
         {
          "learner": "XGBoost",
          "loss": 0.40251256313811656,
          "n_iter": 273
         },
         {
          "learner": "XGBoost",
          "loss": 0.4023005382674063,
          "n_iter": 274
         },
         {
          "learner": "XGBoost",
          "loss": 0.40209249434771005,
          "n_iter": 275
         },
         {
          "learner": "XGBoost",
          "loss": 0.4023558515896248,
          "n_iter": 276
         },
         {
          "learner": "XGBoost",
          "loss": 0.40215163588527175,
          "n_iter": 277
         },
         {
          "learner": "XGBoost",
          "loss": 0.40218713678932566,
          "n_iter": 278
         },
         {
          "learner": "XGBoost",
          "loss": 0.402191913394428,
          "n_iter": 279
         },
         {
          "learner": "XGBoost",
          "loss": 0.4024620950131036,
          "n_iter": 280
         },
         {
          "learner": "XGBoost",
          "loss": 0.4021969463952393,
          "n_iter": 281
         },
         {
          "learner": "XGBoost",
          "loss": 0.4022324737818369,
          "n_iter": 282
         },
         {
          "learner": "XGBoost",
          "loss": 0.40229225255149814,
          "n_iter": 283
         },
         {
          "learner": "XGBoost",
          "loss": 0.40251964111820215,
          "n_iter": 284
         },
         {
          "learner": "XGBoost",
          "loss": 0.40222080833284685,
          "n_iter": 285
         },
         {
          "learner": "XGBoost",
          "loss": 0.4021039568372229,
          "n_iter": 286
         },
         {
          "learner": "XGBoost",
          "loss": 0.4021448514957363,
          "n_iter": 287
         },
         {
          "learner": "XGBoost",
          "loss": 0.40187937675402047,
          "n_iter": 288
         },
         {
          "learner": "XGBoost",
          "loss": 0.4019235254627258,
          "n_iter": 289
         },
         {
          "learner": "XGBoost",
          "loss": 0.40162186095994,
          "n_iter": 290
         },
         {
          "learner": "XGBoost",
          "loss": 0.40161139252336847,
          "n_iter": 291
         },
         {
          "learner": "XGBoost",
          "loss": 0.40189847390889255,
          "n_iter": 292
         },
         {
          "learner": "XGBoost",
          "loss": 0.4016786813849313,
          "n_iter": 293
         },
         {
          "learner": "XGBoost",
          "loss": 0.4016949910646472,
          "n_iter": 294
         },
         {
          "learner": "XGBoost",
          "loss": 0.4014250517553443,
          "n_iter": 295
         },
         {
          "learner": "XGBoost",
          "loss": 0.4013890975702303,
          "n_iter": 296
         },
         {
          "learner": "XGBoost",
          "loss": 0.40143932742444605,
          "n_iter": 297
         },
         {
          "learner": "XGBoost",
          "loss": 0.40126477379330683,
          "n_iter": 298
         },
         {
          "learner": "XGBoost",
          "loss": 0.4015836231262031,
          "n_iter": 299
         },
         {
          "learner": "XGBoost",
          "loss": 0.40132848994728043,
          "n_iter": 300
         },
         {
          "learner": "XGBoost",
          "loss": 0.401650881426362,
          "n_iter": 301
         },
         {
          "learner": "XGBoost",
          "loss": 0.4014557968515841,
          "n_iter": 302
         },
         {
          "learner": "XGBoost",
          "loss": 0.40118611983077257,
          "n_iter": 303
         },
         {
          "learner": "XGBoost",
          "loss": 0.4012113969573091,
          "n_iter": 304
         },
         {
          "learner": "XGBoost",
          "loss": 0.40121607306561846,
          "n_iter": 305
         },
         {
          "learner": "XGBoost",
          "loss": 0.4015265261566728,
          "n_iter": 306
         },
         {
          "learner": "XGBoost",
          "loss": 0.40133870160020085,
          "n_iter": 307
         },
         {
          "learner": "XGBoost",
          "loss": 0.4013674864397453,
          "n_iter": 308
         },
         {
          "learner": "XGBoost",
          "loss": 0.401185902518711,
          "n_iter": 309
         },
         {
          "learner": "XGBoost",
          "loss": 0.40151524483441486,
          "n_iter": 310
         },
         {
          "learner": "XGBoost",
          "loss": 0.40125792069199356,
          "n_iter": 311
         },
         {
          "learner": "XGBoost",
          "loss": 0.4013213811703633,
          "n_iter": 312
         },
         {
          "learner": "XGBoost",
          "loss": 0.401240232180521,
          "n_iter": 313
         },
         {
          "learner": "XGBoost",
          "loss": 0.401263072870899,
          "n_iter": 314
         },
         {
          "learner": "XGBoost",
          "loss": 0.40127796050159537,
          "n_iter": 315
         },
         {
          "learner": "XGBoost",
          "loss": 0.4016114059755029,
          "n_iter": 316
         },
         {
          "learner": "XGBoost",
          "loss": 0.4014723911992878,
          "n_iter": 317
         },
         {
          "learner": "XGBoost",
          "loss": 0.4017929461466989,
          "n_iter": 318
         },
         {
          "learner": "XGBoost",
          "loss": 0.40182805421209145,
          "n_iter": 319
         },
         {
          "learner": "XGBoost",
          "loss": 0.4016588867469036,
          "n_iter": 320
         },
         {
          "learner": "XGBoost",
          "loss": 0.40162472627356344,
          "n_iter": 321
         },
         {
          "learner": "XGBoost",
          "loss": 0.4019741734779431,
          "n_iter": 322
         },
         {
          "learner": "XGBoost",
          "loss": 0.4017306734217736,
          "n_iter": 323
         },
         {
          "learner": "XGBoost",
          "loss": 0.40159782810378886,
          "n_iter": 324
         },
         {
          "learner": "XGBoost",
          "loss": 0.40160675040033444,
          "n_iter": 325
         },
         {
          "learner": "XGBoost",
          "loss": 0.4016786490813809,
          "n_iter": 326
         },
         {
          "learner": "XGBoost",
          "loss": 0.40192178939118156,
          "n_iter": 327
         },
         {
          "learner": "XGBoost",
          "loss": 0.4019338898816476,
          "n_iter": 328
         },
         {
          "learner": "XGBoost",
          "loss": 0.40190272294155094,
          "n_iter": 329
         },
         {
          "learner": "XGBoost",
          "loss": 0.40214958230722003,
          "n_iter": 330
         },
         {
          "learner": "XGBoost",
          "loss": 0.4024931704548624,
          "n_iter": 331
         },
         {
          "learner": "XGBoost",
          "loss": 0.402363853412379,
          "n_iter": 332
         },
         {
          "learner": "XGBoost",
          "loss": 0.4023644310918907,
          "n_iter": 333
         },
         {
          "learner": "XGBoost",
          "loss": 0.40229279208796953,
          "n_iter": 334
         },
         {
          "learner": "XGBoost",
          "loss": 0.4025451043768254,
          "n_iter": 335
         },
         {
          "learner": "XGBoost",
          "loss": 0.40241231180165826,
          "n_iter": 336
         },
         {
          "learner": "XGBoost",
          "loss": 0.4023844146271992,
          "n_iter": 337
         },
         {
          "learner": "XGBoost",
          "loss": 0.40238583729648814,
          "n_iter": 338
         },
         {
          "learner": "XGBoost",
          "loss": 0.4023940890884268,
          "n_iter": 339
         },
         {
          "learner": "XGBoost",
          "loss": 0.4024228666895995,
          "n_iter": 340
         },
         {
          "learner": "XGBoost",
          "loss": 0.40227492786625096,
          "n_iter": 341
         },
         {
          "learner": "XGBoost",
          "loss": 0.4023561247967632,
          "n_iter": 342
         },
         {
          "learner": "XGBoost",
          "loss": 0.4023615376534974,
          "n_iter": 343
         },
         {
          "learner": "XGBoost",
          "loss": 0.40239435157124503,
          "n_iter": 344
         },
         {
          "learner": "XGBoost",
          "loss": 0.4022764058287106,
          "n_iter": 345
         },
         {
          "learner": "XGBoost",
          "loss": 0.40232094578534594,
          "n_iter": 346
         },
         {
          "learner": "XGBoost",
          "loss": 0.40218132824208636,
          "n_iter": 347
         },
         {
          "learner": "XGBoost",
          "loss": 0.4022662335428657,
          "n_iter": 348
         },
         {
          "learner": "XGBoost",
          "loss": 0.40226777788079543,
          "n_iter": 349
         },
         {
          "learner": "XGBoost",
          "loss": 0.40215619398543384,
          "n_iter": 350
         },
         {
          "learner": "XGBoost",
          "loss": 0.40216617560987333,
          "n_iter": 351
         },
         {
          "learner": "XGBoost",
          "loss": 0.40220678679410043,
          "n_iter": 352
         },
         {
          "learner": "XGBoost",
          "loss": 0.4022896203838482,
          "n_iter": 353
         },
         {
          "learner": "XGBoost",
          "loss": 0.40237791997503647,
          "n_iter": 354
         },
         {
          "learner": "XGBoost",
          "loss": 0.4023910499141475,
          "n_iter": 355
         },
         {
          "learner": "XGBoost",
          "loss": 0.4023987301832277,
          "n_iter": 356
         },
         {
          "learner": "XGBoost",
          "loss": 0.4024792088440083,
          "n_iter": 357
         },
         {
          "learner": "XGBoost",
          "loss": 0.4025700927209288,
          "n_iter": 358
         },
         {
          "learner": "XGBoost",
          "loss": 0.40265147263816803,
          "n_iter": 359
         },
         {
          "learner": "XGBoost",
          "loss": 0.4026678826174379,
          "n_iter": 360
         },
         {
          "learner": "XGBoost",
          "loss": 0.40275523035976335,
          "n_iter": 361
         },
         {
          "learner": "XGBoost",
          "loss": 0.4026957170208547,
          "n_iter": 362
         },
         {
          "learner": "XGBoost",
          "loss": 0.4027143529169438,
          "n_iter": 363
         },
         {
          "learner": "XGBoost",
          "loss": 0.4028074407737972,
          "n_iter": 364
         },
         {
          "learner": "XGBoost",
          "loss": 0.4026547353154889,
          "n_iter": 365
         },
         {
          "learner": "XGBoost",
          "loss": 0.4027070561915598,
          "n_iter": 366
         },
         {
          "learner": "XGBoost",
          "loss": 0.402791037571666,
          "n_iter": 367
         },
         {
          "learner": "XGBoost",
          "loss": 0.4028864187069796,
          "n_iter": 368
         },
         {
          "learner": "XGBoost",
          "loss": 0.40293195117535757,
          "n_iter": 369
         },
         {
          "learner": "XGBoost",
          "loss": 0.403016831462399,
          "n_iter": 370
         },
         {
          "learner": "XGBoost",
          "loss": 0.40299548694787857,
          "n_iter": 371
         },
         {
          "learner": "XGBoost",
          "loss": 0.4030181650444034,
          "n_iter": 372
         },
         {
          "learner": "XGBoost",
          "loss": 0.40307095765963913,
          "n_iter": 373
         },
         {
          "learner": "XGBoost",
          "loss": 0.4030722582002677,
          "n_iter": 374
         },
         {
          "learner": "XGBoost",
          "loss": 0.4029292087801179,
          "n_iter": 375
         },
         {
          "learner": "XGBoost",
          "loss": 0.4030266961952038,
          "n_iter": 376
         },
         {
          "learner": "XGBoost",
          "loss": 0.4030742971015497,
          "n_iter": 377
         },
         {
          "learner": "XGBoost",
          "loss": 0.4030519957401776,
          "n_iter": 378
         },
         {
          "learner": "XGBoost",
          "loss": 0.4031513945138908,
          "n_iter": 379
         },
         {
          "learner": "XGBoost",
          "loss": 0.4032389915290504,
          "n_iter": 380
         },
         {
          "learner": "XGBoost",
          "loss": 0.40329401232416245,
          "n_iter": 381
         },
         {
          "learner": "XGBoost",
          "loss": 0.40327503707530127,
          "n_iter": 382
         },
         {
          "learner": "XGBoost",
          "loss": 0.40330301406943525,
          "n_iter": 383
         },
         {
          "learner": "XGBoost",
          "loss": 0.4034504010696815,
          "n_iter": 384
         },
         {
          "learner": "XGBoost",
          "loss": 0.4035094928156657,
          "n_iter": 385
         },
         {
          "learner": "XGBoost",
          "loss": 0.4034311748880067,
          "n_iter": 386
         },
         {
          "learner": "XGBoost",
          "loss": 0.4034945151784409,
          "n_iter": 387
         },
         {
          "learner": "XGBoost",
          "loss": 0.40347751890928657,
          "n_iter": 388
         },
         {
          "learner": "XGBoost",
          "loss": 0.4034593258665921,
          "n_iter": 389
         },
         {
          "learner": "XGBoost",
          "loss": 0.4034818380161536,
          "n_iter": 390
         },
         {
          "learner": "XGBoost",
          "loss": 0.40337754735774956,
          "n_iter": 391
         },
         {
          "learner": "XGBoost",
          "loss": 0.4034287554641246,
          "n_iter": 392
         },
         {
          "learner": "XGBoost",
          "loss": 0.4034290894695449,
          "n_iter": 393
         },
         {
          "learner": "XGBoost",
          "loss": 0.4035196388873345,
          "n_iter": 394
         },
         {
          "learner": "XGBoost",
          "loss": 0.40361570872246616,
          "n_iter": 395
         },
         {
          "learner": "XGBoost",
          "loss": 0.4035993784504186,
          "n_iter": 396
         },
         {
          "learner": "XGBoost",
          "loss": 0.40358652608692563,
          "n_iter": 397
         },
         {
          "learner": "XGBoost",
          "loss": 0.4036184674514905,
          "n_iter": 398
         },
         {
          "learner": "XGBoost",
          "loss": 0.4037178245692219,
          "n_iter": 399
         },
         {
          "learner": "XGBoost",
          "loss": 0.40380056200462106,
          "n_iter": 400
         },
         {
          "learner": "XGBoost",
          "loss": 0.40383480586335124,
          "n_iter": 401
         },
         {
          "learner": "XGBoost",
          "loss": 0.4037687510395515,
          "n_iter": 402
         },
         {
          "learner": "XGBoost",
          "loss": 0.4037606649444881,
          "n_iter": 403
         },
         {
          "learner": "XGBoost",
          "loss": 0.403820211909144,
          "n_iter": 404
         },
         {
          "learner": "XGBoost",
          "loss": 0.40371483238240047,
          "n_iter": 405
         },
         {
          "learner": "XGBoost",
          "loss": 0.40380815468428866,
          "n_iter": 406
         },
         {
          "learner": "XGBoost",
          "loss": 0.40378480532106864,
          "n_iter": 407
         },
         {
          "learner": "XGBoost",
          "loss": 0.4037043223737985,
          "n_iter": 408
         },
         {
          "learner": "XGBoost",
          "loss": 0.4038505512376605,
          "n_iter": 409
         },
         {
          "learner": "XGBoost",
          "loss": 0.40378885362787814,
          "n_iter": 410
         },
         {
          "learner": "XGBoost",
          "loss": 0.40381383606645976,
          "n_iter": 411
         },
         {
          "learner": "XGBoost",
          "loss": 0.40373558840413387,
          "n_iter": 412
         },
         {
          "learner": "XGBoost",
          "loss": 0.403724342271356,
          "n_iter": 413
         },
         {
          "learner": "XGBoost",
          "loss": 0.4036647693780528,
          "n_iter": 414
         },
         {
          "learner": "XGBoost",
          "loss": 0.4038385014098996,
          "n_iter": 415
         },
         {
          "learner": "XGBoost",
          "loss": 0.4038316902223208,
          "n_iter": 416
         },
         {
          "learner": "XGBoost",
          "loss": 0.4038825985571246,
          "n_iter": 417
         },
         {
          "learner": "XGBoost",
          "loss": 0.4038253681733285,
          "n_iter": 418
         },
         {
          "learner": "XGBoost",
          "loss": 0.4039727185188329,
          "n_iter": 419
         },
         {
          "learner": "XGBoost",
          "loss": 0.4040045060201821,
          "n_iter": 420
         },
         {
          "learner": "XGBoost",
          "loss": 0.404026120128016,
          "n_iter": 421
         },
         {
          "learner": "XGBoost",
          "loss": 0.40382470474480797,
          "n_iter": 422
         },
         {
          "learner": "XGBoost",
          "loss": 0.40381329731209475,
          "n_iter": 423
         },
         {
          "learner": "XGBoost",
          "loss": 0.40375893257403783,
          "n_iter": 424
         },
         {
          "learner": "XGBoost",
          "loss": 0.40368497073767434,
          "n_iter": 425
         },
         {
          "learner": "XGBoost",
          "loss": 0.4037075470114349,
          "n_iter": 426
         },
         {
          "learner": "XGBoost",
          "loss": 0.4036906987369891,
          "n_iter": 427
         },
         {
          "learner": "XGBoost",
          "loss": 0.4036381346113508,
          "n_iter": 428
         },
         {
          "learner": "XGBoost",
          "loss": 0.40371924446893886,
          "n_iter": 429
         },
         {
          "learner": "XGBoost",
          "loss": 0.40367405603921497,
          "n_iter": 430
         },
         {
          "learner": "XGBoost",
          "loss": 0.40366514053087355,
          "n_iter": 431
         },
         {
          "learner": "XGBoost",
          "loss": 0.4038627888168088,
          "n_iter": 432
         },
         {
          "learner": "XGBoost",
          "loss": 0.4036937473414482,
          "n_iter": 433
         },
         {
          "learner": "XGBoost",
          "loss": 0.4037172834780572,
          "n_iter": 434
         },
         {
          "learner": "XGBoost",
          "loss": 0.40368019502399677,
          "n_iter": 435
         },
         {
          "learner": "XGBoost",
          "loss": 0.4036312755535863,
          "n_iter": 436
         },
         {
          "learner": "XGBoost",
          "loss": 0.4036409129083055,
          "n_iter": 437
         },
         {
          "learner": "XGBoost",
          "loss": 0.40366565260321685,
          "n_iter": 438
         },
         {
          "learner": "XGBoost",
          "loss": 0.40350052753781995,
          "n_iter": 439
         },
         {
          "learner": "XGBoost",
          "loss": 0.403512891582915,
          "n_iter": 440
         },
         {
          "learner": "XGBoost",
          "loss": 0.4034845776681,
          "n_iter": 441
         },
         {
          "learner": "XGBoost",
          "loss": 0.40343797847398954,
          "n_iter": 442
         },
         {
          "learner": "XGBoost",
          "loss": 0.4036371384935559,
          "n_iter": 443
         },
         {
          "learner": "XGBoost",
          "loss": 0.40366271992686587,
          "n_iter": 444
         },
         {
          "learner": "XGBoost",
          "loss": 0.40358032329411936,
          "n_iter": 445
         },
         {
          "learner": "XGBoost",
          "loss": 0.4035602034059814,
          "n_iter": 446
         },
         {
          "learner": "XGBoost",
          "loss": 0.4035870521682693,
          "n_iter": 447
         },
         {
          "learner": "XGBoost",
          "loss": 0.4034044637928851,
          "n_iter": 448
         },
         {
          "learner": "XGBoost",
          "loss": 0.403547452477265,
          "n_iter": 449
         },
         {
          "learner": "XGBoost",
          "loss": 0.4035036222472536,
          "n_iter": 450
         },
         {
          "learner": "XGBoost",
          "loss": 0.4035311061593703,
          "n_iter": 451
         },
         {
          "learner": "XGBoost",
          "loss": 0.40351945780239956,
          "n_iter": 452
         },
         {
          "learner": "XGBoost",
          "loss": 0.4035310609491824,
          "n_iter": 453
         },
         {
          "learner": "XGBoost",
          "loss": 0.40337225622868317,
          "n_iter": 454
         },
         {
          "learner": "XGBoost",
          "loss": 0.4033779583299954,
          "n_iter": 455
         },
         {
          "learner": "XGBoost",
          "loss": 0.40335890140321257,
          "n_iter": 456
         },
         {
          "learner": "XGBoost",
          "loss": 0.4032749029946434,
          "n_iter": 457
         },
         {
          "learner": "XGBoost",
          "loss": 0.4033031750049363,
          "n_iter": 458
         },
         {
          "learner": "XGBoost",
          "loss": 0.40329963996287094,
          "n_iter": 459
         },
         {
          "learner": "XGBoost",
          "loss": 0.40336682075613595,
          "n_iter": 460
         },
         {
          "learner": "XGBoost",
          "loss": 0.403210654843873,
          "n_iter": 461
         },
         {
          "learner": "XGBoost",
          "loss": 0.4032277318145551,
          "n_iter": 462
         },
         {
          "learner": "XGBoost",
          "loss": 0.4032571312462755,
          "n_iter": 463
         },
         {
          "learner": "XGBoost",
          "loss": 0.4032182417230375,
          "n_iter": 464
         },
         {
          "learner": "XGBoost",
          "loss": 0.40320392152128975,
          "n_iter": 465
         },
         {
          "learner": "XGBoost",
          "loss": 0.4031722711244563,
          "n_iter": 466
         },
         {
          "learner": "XGBoost",
          "loss": 0.4033208582988113,
          "n_iter": 467
         },
         {
          "learner": "XGBoost",
          "loss": 0.40330377549813884,
          "n_iter": 468
         },
         {
          "learner": "XGBoost",
          "loss": 0.40330560675426114,
          "n_iter": 469
         },
         {
          "learner": "XGBoost",
          "loss": 0.4033748388184833,
          "n_iter": 470
         },
         {
          "learner": "XGBoost",
          "loss": 0.4035257985458868,
          "n_iter": 471
         },
         {
          "learner": "XGBoost",
          "loss": 0.4034501605308824,
          "n_iter": 472
         },
         {
          "learner": "XGBoost",
          "loss": 0.4034377732953218,
          "n_iter": 473
         },
         {
          "learner": "XGBoost",
          "loss": 0.40342475344958834,
          "n_iter": 474
         },
         {
          "learner": "XGBoost",
          "loss": 0.4034545667114069,
          "n_iter": 475
         },
         {
          "learner": "XGBoost",
          "loss": 0.4034621261395018,
          "n_iter": 476
         },
         {
          "learner": "XGBoost",
          "loss": 0.4034010844349229,
          "n_iter": 477
         },
         {
          "learner": "XGBoost",
          "loss": 0.4034792155008469,
          "n_iter": 478
         },
         {
          "learner": "XGBoost",
          "loss": 0.4034079295326691,
          "n_iter": 479
         },
         {
          "learner": "XGBoost",
          "loss": 0.40341956738235807,
          "n_iter": 480
         },
         {
          "learner": "XGBoost",
          "loss": 0.4034128336625235,
          "n_iter": 481
         },
         {
          "learner": "XGBoost",
          "loss": 0.4033889577409203,
          "n_iter": 482
         },
         {
          "learner": "XGBoost",
          "loss": 0.40341934094502746,
          "n_iter": 483
         },
         {
          "learner": "XGBoost",
          "loss": 0.40342848076596,
          "n_iter": 484
         },
         {
          "learner": "XGBoost",
          "loss": 0.4034998913119021,
          "n_iter": 485
         },
         {
          "learner": "XGBoost",
          "loss": 0.4035931332554331,
          "n_iter": 486
         },
         {
          "learner": "XGBoost",
          "loss": 0.4036098061892578,
          "n_iter": 487
         },
         {
          "learner": "XGBoost",
          "loss": 0.4035323271168496,
          "n_iter": 488
         },
         {
          "learner": "XGBoost",
          "loss": 0.40355074543574126,
          "n_iter": 489
         },
         {
          "learner": "XGBoost",
          "loss": 0.4035092712465466,
          "n_iter": 490
         },
         {
          "learner": "XGBoost",
          "loss": 0.40347993248934827,
          "n_iter": 491
         },
         {
          "learner": "XGBoost",
          "loss": 0.4034924012223001,
          "n_iter": 492
         },
         {
          "learner": "XGBoost",
          "loss": 0.4034303345759597,
          "n_iter": 493
         },
         {
          "learner": "XGBoost",
          "loss": 0.40348237143182025,
          "n_iter": 494
         },
         {
          "learner": "XGBoost",
          "loss": 0.40349606279040323,
          "n_iter": 495
         },
         {
          "learner": "XGBoost",
          "loss": 0.4035265406995272,
          "n_iter": 496
         },
         {
          "learner": "XGBoost",
          "loss": 0.4034554987156227,
          "n_iter": 497
         },
         {
          "learner": "XGBoost",
          "loss": 0.40346634889201155,
          "n_iter": 498
         },
         {
          "learner": "XGBoost",
          "loss": 0.40346168637323776,
          "n_iter": 499
         },
         {
          "learner": "XGBoost",
          "loss": 0.4035143536735371,
          "n_iter": 500
         },
         {
          "learner": "XGBoost",
          "loss": 0.4034789654023642,
          "n_iter": 501
         },
         {
          "learner": "SAL",
          "loss": 0.6114386336526848,
          "n_iter": 1
         },
         {
          "learner": "SAL",
          "loss": 0.5036863019619358,
          "n_iter": 2
         },
         {
          "learner": "SAL",
          "loss": 0.5025338311231667,
          "n_iter": 3
         },
         {
          "learner": "SAL",
          "loss": 0.4824736412562566,
          "n_iter": 4
         },
         {
          "learner": "SAL",
          "loss": 0.4794086532804716,
          "n_iter": 5
         },
         {
          "learner": "SAL",
          "loss": 0.47135353037066546,
          "n_iter": 6
         },
         {
          "learner": "SAL",
          "loss": 0.47119737248725024,
          "n_iter": 7
         },
         {
          "learner": "SAL",
          "loss": 0.4712430515057001,
          "n_iter": 8
         },
         {
          "learner": "SAL",
          "loss": 0.45139122517418867,
          "n_iter": 9
         },
         {
          "learner": "SAL",
          "loss": 0.449883151992966,
          "n_iter": 10
         },
         {
          "learner": "SAL",
          "loss": 0.449832126841064,
          "n_iter": 11
         },
         {
          "learner": "SAL",
          "loss": 0.450029283821912,
          "n_iter": 12
         },
         {
          "learner": "SAL",
          "loss": 0.44969899543822706,
          "n_iter": 13
         },
         {
          "learner": "SAL",
          "loss": 0.44997339915027135,
          "n_iter": 14
         },
         {
          "learner": "SAL",
          "loss": 0.44947988558640484,
          "n_iter": 15
         },
         {
          "learner": "SAL",
          "loss": 0.4473640013001487,
          "n_iter": 16
         },
         {
          "learner": "SAL",
          "loss": 0.44522592041345227,
          "n_iter": 17
         },
         {
          "learner": "SAL",
          "loss": 0.4438431915877655,
          "n_iter": 18
         },
         {
          "learner": "SAL",
          "loss": 0.4418567088053292,
          "n_iter": 19
         },
         {
          "learner": "SAL",
          "loss": 0.4393976741028856,
          "n_iter": 20
         },
         {
          "learner": "SAL",
          "loss": 0.4382983999018397,
          "n_iter": 21
         },
         {
          "learner": "SAL",
          "loss": 0.4376663224049574,
          "n_iter": 22
         },
         {
          "learner": "SAL",
          "loss": 0.43683184415938137,
          "n_iter": 23
         },
         {
          "learner": "SAL",
          "loss": 0.43633085763291907,
          "n_iter": 24
         },
         {
          "learner": "SAL",
          "loss": 0.4360250704517975,
          "n_iter": 25
         },
         {
          "learner": "SAL",
          "loss": 0.4355156046723294,
          "n_iter": 26
         },
         {
          "learner": "SAL",
          "loss": 0.4354567799159031,
          "n_iter": 27
         },
         {
          "learner": "SAL",
          "loss": 0.43555485776545055,
          "n_iter": 28
         },
         {
          "learner": "SAL",
          "loss": 0.43553987132293237,
          "n_iter": 29
         },
         {
          "learner": "SAL",
          "loss": 0.4355823395092303,
          "n_iter": 30
         },
         {
          "learner": "SAL",
          "loss": 0.4354411063568265,
          "n_iter": 31
         },
         {
          "learner": "SAL",
          "loss": 0.43615047485950653,
          "n_iter": 32
         },
         {
          "learner": "SAL",
          "loss": 0.4367419182789943,
          "n_iter": 33
         },
         {
          "learner": "SAL",
          "loss": 0.43731657317041395,
          "n_iter": 34
         },
         {
          "learner": "SAL",
          "loss": 0.43851914093891703,
          "n_iter": 35
         },
         {
          "learner": "SAL",
          "loss": 0.4397363569698871,
          "n_iter": 36
         },
         {
          "learner": "SAL",
          "loss": 0.44031735267008565,
          "n_iter": 37
         },
         {
          "learner": "SAL",
          "loss": 0.44077493100200804,
          "n_iter": 38
         },
         {
          "learner": "SAL",
          "loss": 0.44136959761725386,
          "n_iter": 39
         },
         {
          "learner": "SAL",
          "loss": 0.43996629648431723,
          "n_iter": 40
         },
         {
          "learner": "SAL",
          "loss": 0.43979829751180605,
          "n_iter": 41
         },
         {
          "learner": "SAL",
          "loss": 0.4399896395930525,
          "n_iter": 42
         },
         {
          "learner": "SAL",
          "loss": 0.4405913516959441,
          "n_iter": 43
         },
         {
          "learner": "SAL",
          "loss": 0.44077813154063944,
          "n_iter": 44
         },
         {
          "learner": "SAL",
          "loss": 0.4409062033539498,
          "n_iter": 45
         },
         {
          "learner": "SAL",
          "loss": 0.44098937055457404,
          "n_iter": 46
         },
         {
          "learner": "SAL",
          "loss": 0.4406917894023298,
          "n_iter": 47
         },
         {
          "learner": "SAL",
          "loss": 0.44044607643999967,
          "n_iter": 48
         },
         {
          "learner": "SAL",
          "loss": 0.4401366198151957,
          "n_iter": 49
         },
         {
          "learner": "SAL",
          "loss": 0.4398996052791892,
          "n_iter": 50
         },
         {
          "learner": "SAL",
          "loss": 0.4397664982473326,
          "n_iter": 51
         },
         {
          "learner": "SAL",
          "loss": 0.4400377013876092,
          "n_iter": 52
         },
         {
          "learner": "SAL",
          "loss": 0.4404412291724826,
          "n_iter": 53
         },
         {
          "learner": "SAL",
          "loss": 0.4409562669637338,
          "n_iter": 54
         },
         {
          "learner": "SAL",
          "loss": 0.44137460163811437,
          "n_iter": 55
         },
         {
          "learner": "SAL",
          "loss": 0.44161867917575476,
          "n_iter": 56
         },
         {
          "learner": "SAL",
          "loss": 0.4408928908362409,
          "n_iter": 57
         },
         {
          "learner": "SAL",
          "loss": 0.4406979960772338,
          "n_iter": 58
         },
         {
          "learner": "SAL",
          "loss": 0.44070241516031194,
          "n_iter": 59
         },
         {
          "learner": "SAL",
          "loss": 0.44076339301883694,
          "n_iter": 60
         },
         {
          "learner": "SAL",
          "loss": 0.4408481745648921,
          "n_iter": 61
         },
         {
          "learner": "SAL",
          "loss": 0.44091755399550336,
          "n_iter": 62
         },
         {
          "learner": "SAL",
          "loss": 0.440967558148205,
          "n_iter": 63
         },
         {
          "learner": "SAL",
          "loss": 0.44101664599528445,
          "n_iter": 64
         },
         {
          "learner": "SAL",
          "loss": 0.4410656272009061,
          "n_iter": 65
         },
         {
          "learner": "SAL",
          "loss": 0.4410804204160643,
          "n_iter": 66
         },
         {
          "learner": "SAL",
          "loss": 0.4410541637866175,
          "n_iter": 67
         },
         {
          "learner": "SAL",
          "loss": 0.44102177661060515,
          "n_iter": 68
         },
         {
          "learner": "SAL",
          "loss": 0.4409994331253322,
          "n_iter": 69
         },
         {
          "learner": "SAL",
          "loss": 0.4403048660884896,
          "n_iter": 70
         },
         {
          "learner": "SAL",
          "loss": 0.4395263709082966,
          "n_iter": 71
         },
         {
          "learner": "SAL",
          "loss": 0.439360229933167,
          "n_iter": 72
         },
         {
          "learner": "SAL",
          "loss": 0.439151969584578,
          "n_iter": 73
         },
         {
          "learner": "SAL",
          "loss": 0.43896464747442665,
          "n_iter": 74
         },
         {
          "learner": "SAL",
          "loss": 0.4388053520170093,
          "n_iter": 75
         },
         {
          "learner": "SAL",
          "loss": 0.43883018375879534,
          "n_iter": 76
         },
         {
          "learner": "SAL",
          "loss": 0.43867556461750545,
          "n_iter": 77
         },
         {
          "learner": "SAL",
          "loss": 0.43832051502839225,
          "n_iter": 78
         },
         {
          "learner": "SAL",
          "loss": 0.43798059296434133,
          "n_iter": 79
         },
         {
          "learner": "SAL",
          "loss": 0.43775072156571837,
          "n_iter": 80
         },
         {
          "learner": "SAL",
          "loss": 0.43752448278915,
          "n_iter": 81
         },
         {
          "learner": "SAL",
          "loss": 0.43733363777847084,
          "n_iter": 82
         },
         {
          "learner": "SAL",
          "loss": 0.4371739289425039,
          "n_iter": 83
         },
         {
          "learner": "SAL",
          "loss": 0.43704021059333065,
          "n_iter": 84
         },
         {
          "learner": "SAL",
          "loss": 0.4369274665966566,
          "n_iter": 85
         },
         {
          "learner": "SAL",
          "loss": 0.43683146611219525,
          "n_iter": 86
         },
         {
          "learner": "SAL",
          "loss": 0.43674888594084726,
          "n_iter": 87
         },
         {
          "learner": "SAL",
          "loss": 0.4366772045702904,
          "n_iter": 88
         },
         {
          "learner": "SAL",
          "loss": 0.4366114725650457,
          "n_iter": 89
         },
         {
          "learner": "SAL",
          "loss": 0.4361654094158522,
          "n_iter": 90
         },
         {
          "learner": "SAL",
          "loss": 0.4359436480017384,
          "n_iter": 91
         },
         {
          "learner": "SAL",
          "loss": 0.4358217727628034,
          "n_iter": 92
         },
         {
          "learner": "SAL",
          "loss": 0.43578034854138964,
          "n_iter": 93
         },
         {
          "learner": "SAL",
          "loss": 0.43576858173872507,
          "n_iter": 94
         },
         {
          "learner": "SAL",
          "loss": 0.4357678196921369,
          "n_iter": 95
         },
         {
          "learner": "SAL",
          "loss": 0.4357625770403657,
          "n_iter": 96
         },
         {
          "learner": "SAL",
          "loss": 0.43675278071937773,
          "n_iter": 97
         },
         {
          "learner": "SAL",
          "loss": 0.4367789303919221,
          "n_iter": 98
         },
         {
          "learner": "SAL",
          "loss": 0.43658931068023166,
          "n_iter": 99
         },
         {
          "learner": "SAL",
          "loss": 0.43638829280402675,
          "n_iter": 100
         },
         {
          "learner": "SAL",
          "loss": 0.4362291848581396,
          "n_iter": 101
         },
         {
          "learner": "SAL",
          "loss": 0.4361084106614097,
          "n_iter": 102
         },
         {
          "learner": "SAL",
          "loss": 0.4360152452614441,
          "n_iter": 103
         },
         {
          "learner": "SAL",
          "loss": 0.4359434057096522,
          "n_iter": 104
         },
         {
          "learner": "SAL",
          "loss": 0.43588857379454743,
          "n_iter": 105
         },
         {
          "learner": "SAL",
          "loss": 0.4358078930539414,
          "n_iter": 106
         },
         {
          "learner": "SAL",
          "loss": 0.43574592677090385,
          "n_iter": 107
         },
         {
          "learner": "SAL",
          "loss": 0.43569728440605454,
          "n_iter": 108
         },
         {
          "learner": "SAL",
          "loss": 0.4356576336218885,
          "n_iter": 109
         },
         {
          "learner": "SAL",
          "loss": 0.43562479766941353,
          "n_iter": 110
         },
         {
          "learner": "SAL",
          "loss": 0.43559752842767197,
          "n_iter": 111
         },
         {
          "learner": "SAL",
          "loss": 0.43557501126581094,
          "n_iter": 112
         },
         {
          "learner": "SAL",
          "loss": 0.43555667002196524,
          "n_iter": 113
         },
         {
          "learner": "SAL",
          "loss": 0.43554207423017743,
          "n_iter": 114
         },
         {
          "learner": "SAL",
          "loss": 0.4355308867884684,
          "n_iter": 115
         },
         {
          "learner": "SAL",
          "loss": 0.4355228314637863,
          "n_iter": 116
         },
         {
          "learner": "SAL",
          "loss": 0.43551767185882084,
          "n_iter": 117
         },
         {
          "learner": "SAL",
          "loss": 0.4355151976366616,
          "n_iter": 118
         },
         {
          "learner": "SAL",
          "loss": 0.435515215552469,
          "n_iter": 119
         },
         {
          "learner": "SAL",
          "loss": 0.43536590046622764,
          "n_iter": 120
         },
         {
          "learner": "SAL",
          "loss": 0.4354152588340062,
          "n_iter": 121
         },
         {
          "learner": "SAL",
          "loss": 0.43546019182330853,
          "n_iter": 122
         },
         {
          "learner": "SAL",
          "loss": 0.43550019059852296,
          "n_iter": 123
         },
         {
          "learner": "SAL",
          "loss": 0.4355374910366965,
          "n_iter": 124
         },
         {
          "learner": "SAL",
          "loss": 0.435573724398025,
          "n_iter": 125
         },
         {
          "learner": "SAL",
          "loss": 0.43560902481879055,
          "n_iter": 126
         },
         {
          "learner": "SAL",
          "loss": 0.4356430127860289,
          "n_iter": 127
         },
         {
          "learner": "SAL",
          "loss": 0.43567578542251445,
          "n_iter": 128
         },
         {
          "learner": "SAL",
          "loss": 0.4357074536808953,
          "n_iter": 129
         },
         {
          "learner": "SAL",
          "loss": 0.43573808431071454,
          "n_iter": 130
         },
         {
          "learner": "SAL",
          "loss": 0.43576775969734544,
          "n_iter": 131
         },
         {
          "learner": "SAL",
          "loss": 0.4357965861056492,
          "n_iter": 132
         },
         {
          "learner": "SAL",
          "loss": 0.43582468213290165,
          "n_iter": 133
         },
         {
          "learner": "SAL",
          "loss": 0.4358521648448532,
          "n_iter": 134
         },
         {
          "learner": "SAL",
          "loss": 0.4358791389679651,
          "n_iter": 135
         },
         {
          "learner": "SAL",
          "loss": 0.4359153682802878,
          "n_iter": 136
         },
         {
          "learner": "SAL",
          "loss": 0.43593449448588695,
          "n_iter": 137
         },
         {
          "learner": "SAL",
          "loss": 0.4359510525677319,
          "n_iter": 138
         },
         {
          "learner": "SAL",
          "loss": 0.4359687927376156,
          "n_iter": 139
         },
         {
          "learner": "SAL",
          "loss": 0.43598808315001236,
          "n_iter": 140
         },
         {
          "learner": "SAL",
          "loss": 0.4360087923504472,
          "n_iter": 141
         },
         {
          "learner": "SAL",
          "loss": 0.4359987440162867,
          "n_iter": 142
         },
         {
          "learner": "SAL",
          "loss": 0.43613383905549796,
          "n_iter": 143
         },
         {
          "learner": "SAL",
          "loss": 0.4361013499951108,
          "n_iter": 144
         },
         {
          "learner": "SAL",
          "loss": 0.4360436428711379,
          "n_iter": 145
         },
         {
          "learner": "SAL",
          "loss": 0.4359780744280751,
          "n_iter": 146
         },
         {
          "learner": "SAL",
          "loss": 0.4358755343182116,
          "n_iter": 147
         },
         {
          "learner": "SAL",
          "loss": 0.4358554326527668,
          "n_iter": 148
         },
         {
          "learner": "SAL",
          "loss": 0.4358543576716016,
          "n_iter": 149
         },
         {
          "learner": "SAL",
          "loss": 0.4358446890371645,
          "n_iter": 150
         },
         {
          "learner": "SAL",
          "loss": 0.43556944026296385,
          "n_iter": 151
         },
         {
          "learner": "SAL",
          "loss": 0.4354810967383144,
          "n_iter": 152
         },
         {
          "learner": "SAL",
          "loss": 0.4354497962076971,
          "n_iter": 153
         },
         {
          "learner": "SAL",
          "loss": 0.4354427770230885,
          "n_iter": 154
         },
         {
          "learner": "SAL",
          "loss": 0.4354457822339768,
          "n_iter": 155
         },
         {
          "learner": "SAL",
          "loss": 0.4354596213262254,
          "n_iter": 156
         },
         {
          "learner": "SAL",
          "loss": 0.4354813693824438,
          "n_iter": 157
         },
         {
          "learner": "SAL",
          "loss": 0.43575479649367277,
          "n_iter": 158
         },
         {
          "learner": "SAL",
          "loss": 0.43594680375293804,
          "n_iter": 159
         },
         {
          "learner": "SAL",
          "loss": 0.43612928397925693,
          "n_iter": 160
         },
         {
          "learner": "SAL",
          "loss": 0.436302350523584,
          "n_iter": 161
         },
         {
          "learner": "SAL",
          "loss": 0.43645956794956065,
          "n_iter": 162
         },
         {
          "learner": "SAL",
          "loss": 0.4365973919464107,
          "n_iter": 163
         },
         {
          "learner": "SAL",
          "loss": 0.4367135693479232,
          "n_iter": 164
         },
         {
          "learner": "SAL",
          "loss": 0.436808929230297,
          "n_iter": 165
         },
         {
          "learner": "SAL",
          "loss": 0.4368867867932403,
          "n_iter": 166
         },
         {
          "learner": "SAL",
          "loss": 0.4369481083449927,
          "n_iter": 167
         },
         {
          "learner": "SAL",
          "loss": 0.4371168853723619,
          "n_iter": 168
         },
         {
          "learner": "SAL",
          "loss": 0.4372693632563614,
          "n_iter": 169
         },
         {
          "learner": "SAL",
          "loss": 0.43741207951650773,
          "n_iter": 170
         },
         {
          "learner": "SAL",
          "loss": 0.4374889862115529,
          "n_iter": 171
         },
         {
          "learner": "SAL",
          "loss": 0.4374100956714084,
          "n_iter": 172
         },
         {
          "learner": "SAL",
          "loss": 0.4373925260405951,
          "n_iter": 173
         },
         {
          "learner": "SAL",
          "loss": 0.43738088803637376,
          "n_iter": 174
         },
         {
          "learner": "SAL",
          "loss": 0.4373670854350415,
          "n_iter": 175
         },
         {
          "learner": "SAL",
          "loss": 0.43734613978913195,
          "n_iter": 176
         },
         {
          "learner": "SAL",
          "loss": 0.43731644298981887,
          "n_iter": 177
         },
         {
          "learner": "SAL",
          "loss": 0.43721596961986514,
          "n_iter": 178
         },
         {
          "learner": "SAL",
          "loss": 0.43710170548022914,
          "n_iter": 179
         },
         {
          "learner": "SAL",
          "loss": 0.436992544072851,
          "n_iter": 180
         },
         {
          "learner": "SAL",
          "loss": 0.4368905605194406,
          "n_iter": 181
         },
         {
          "learner": "SAL",
          "loss": 0.4367980880022918,
          "n_iter": 182
         },
         {
          "learner": "SAL",
          "loss": 0.4367286030699285,
          "n_iter": 183
         },
         {
          "learner": "SAL",
          "loss": 0.4366601073630032,
          "n_iter": 184
         },
         {
          "learner": "SAL",
          "loss": 0.4371353302628806,
          "n_iter": 185
         },
         {
          "learner": "SAL",
          "loss": 0.43721295546402195,
          "n_iter": 186
         },
         {
          "learner": "SAL",
          "loss": 0.4374182715371619,
          "n_iter": 187
         },
         {
          "learner": "SAL",
          "loss": 0.43580049701523366,
          "n_iter": 188
         },
         {
          "learner": "SAL",
          "loss": 0.43490264240168536,
          "n_iter": 189
         },
         {
          "learner": "SAL",
          "loss": 0.4337172553766726,
          "n_iter": 190
         },
         {
          "learner": "SAL",
          "loss": 0.43287188243928426,
          "n_iter": 191
         },
         {
          "learner": "SAL",
          "loss": 0.4322299137847655,
          "n_iter": 192
         },
         {
          "learner": "SAL",
          "loss": 0.43172208729880635,
          "n_iter": 193
         },
         {
          "learner": "SAL",
          "loss": 0.4313194816290756,
          "n_iter": 194
         },
         {
          "learner": "SAL",
          "loss": 0.43099682394363986,
          "n_iter": 195
         },
         {
          "learner": "SAL",
          "loss": 0.43074999636997063,
          "n_iter": 196
         },
         {
          "learner": "SAL",
          "loss": 0.4305664050551636,
          "n_iter": 197
         },
         {
          "learner": "SAL",
          "loss": 0.4304497329614199,
          "n_iter": 198
         },
         {
          "learner": "SAL",
          "loss": 0.4303820234781912,
          "n_iter": 199
         },
         {
          "learner": "SAL",
          "loss": 0.43032612392510855,
          "n_iter": 200
         },
         {
          "learner": "SAL",
          "loss": 0.4302802129202743,
          "n_iter": 201
         },
         {
          "learner": "SAL",
          "loss": 0.43025052099587013,
          "n_iter": 202
         },
         {
          "learner": "SAL",
          "loss": 0.4302181016521239,
          "n_iter": 203
         },
         {
          "learner": "SAL",
          "loss": 0.43022477217644983,
          "n_iter": 204
         },
         {
          "learner": "SAL",
          "loss": 0.43024964753257317,
          "n_iter": 205
         },
         {
          "learner": "SAL",
          "loss": 0.43028475379260633,
          "n_iter": 206
         },
         {
          "learner": "SAL",
          "loss": 0.4303290380743271,
          "n_iter": 207
         },
         {
          "learner": "SAL",
          "loss": 0.4303785258743169,
          "n_iter": 208
         },
         {
          "learner": "SAL",
          "loss": 0.4304000660746174,
          "n_iter": 209
         },
         {
          "learner": "SAL",
          "loss": 0.4304122221487644,
          "n_iter": 210
         },
         {
          "learner": "SAL",
          "loss": 0.4304204255210379,
          "n_iter": 211
         },
         {
          "learner": "SAL",
          "loss": 0.43045453362111386,
          "n_iter": 212
         },
         {
          "learner": "SAL",
          "loss": 0.43049065366211986,
          "n_iter": 213
         },
         {
          "learner": "SAL",
          "loss": 0.4305263983156168,
          "n_iter": 214
         },
         {
          "learner": "SAL",
          "loss": 0.430563712679088,
          "n_iter": 215
         },
         {
          "learner": "SAL",
          "loss": 0.430602304674635,
          "n_iter": 216
         },
         {
          "learner": "SAL",
          "loss": 0.4306416492220999,
          "n_iter": 217
         },
         {
          "learner": "SAL",
          "loss": 0.43068133239308437,
          "n_iter": 218
         },
         {
          "learner": "SAL",
          "loss": 0.4307210519065553,
          "n_iter": 219
         },
         {
          "learner": "SAL",
          "loss": 0.43075408258541176,
          "n_iter": 220
         },
         {
          "learner": "SAL",
          "loss": 0.4307850071615563,
          "n_iter": 221
         },
         {
          "learner": "SAL",
          "loss": 0.43081814287005643,
          "n_iter": 222
         },
         {
          "learner": "SAL",
          "loss": 0.4308531215291256,
          "n_iter": 223
         },
         {
          "learner": "SAL",
          "loss": 0.4308886978706052,
          "n_iter": 224
         },
         {
          "learner": "SAL",
          "loss": 0.43092406123870836,
          "n_iter": 225
         },
         {
          "learner": "SAL",
          "loss": 0.43095872203233737,
          "n_iter": 226
         },
         {
          "learner": "SAL",
          "loss": 0.4187655790541539,
          "n_iter": 227
         },
         {
          "learner": "SAL",
          "loss": 0.41790732694217164,
          "n_iter": 228
         },
         {
          "learner": "SAL",
          "loss": 0.4172443634716423,
          "n_iter": 229
         },
         {
          "learner": "SAL",
          "loss": 0.4167607127457834,
          "n_iter": 230
         },
         {
          "learner": "SAL",
          "loss": 0.4161466694755035,
          "n_iter": 231
         },
         {
          "learner": "SAL",
          "loss": 0.4163437837851174,
          "n_iter": 232
         },
         {
          "learner": "SAL",
          "loss": 0.4165686659185823,
          "n_iter": 233
         },
         {
          "learner": "SAL",
          "loss": 0.4167708109021222,
          "n_iter": 234
         },
         {
          "learner": "SAL",
          "loss": 0.4169391021566309,
          "n_iter": 235
         },
         {
          "learner": "SAL",
          "loss": 0.417071845030036,
          "n_iter": 236
         },
         {
          "learner": "SAL",
          "loss": 0.41715018474902826,
          "n_iter": 237
         },
         {
          "learner": "SAL",
          "loss": 0.4171746232401307,
          "n_iter": 238
         },
         {
          "learner": "SAL",
          "loss": 0.41707806539477504,
          "n_iter": 239
         },
         {
          "learner": "SAL",
          "loss": 0.4169753758344185,
          "n_iter": 240
         },
         {
          "learner": "SAL",
          "loss": 0.417405341374465,
          "n_iter": 241
         },
         {
          "learner": "SAL",
          "loss": 0.41785354278988657,
          "n_iter": 242
         },
         {
          "learner": "SAL",
          "loss": 0.41824741989206937,
          "n_iter": 243
         },
         {
          "learner": "SAL",
          "loss": 0.4187359084973561,
          "n_iter": 244
         },
         {
          "learner": "SAL",
          "loss": 0.4192433827168104,
          "n_iter": 245
         },
         {
          "learner": "SAL",
          "loss": 0.41973582775773366,
          "n_iter": 246
         },
         {
          "learner": "SAL",
          "loss": 0.420151318632189,
          "n_iter": 247
         },
         {
          "learner": "SAL",
          "loss": 0.4204582466750675,
          "n_iter": 248
         },
         {
          "learner": "SAL",
          "loss": 0.4206838390905772,
          "n_iter": 249
         },
         {
          "learner": "SAL",
          "loss": 0.4208298598719357,
          "n_iter": 250
         },
         {
          "learner": "SAL",
          "loss": 0.42105910430843424,
          "n_iter": 251
         },
         {
          "learner": "SAL",
          "loss": 0.42129683238004895,
          "n_iter": 252
         },
         {
          "learner": "SAL",
          "loss": 0.42150097752659277,
          "n_iter": 253
         },
         {
          "learner": "SAL",
          "loss": 0.4216763930463637,
          "n_iter": 254
         },
         {
          "learner": "SAL",
          "loss": 0.4218109518689157,
          "n_iter": 255
         },
         {
          "learner": "SAL",
          "loss": 0.4219416916561267,
          "n_iter": 256
         },
         {
          "learner": "SAL",
          "loss": 0.42208135899710475,
          "n_iter": 257
         },
         {
          "learner": "SAL",
          "loss": 0.4221729110761948,
          "n_iter": 258
         },
         {
          "learner": "SAL",
          "loss": 0.4222540925424523,
          "n_iter": 259
         },
         {
          "learner": "SAL",
          "loss": 0.42232741433023185,
          "n_iter": 260
         },
         {
          "learner": "SAL",
          "loss": 0.4223939780367774,
          "n_iter": 261
         },
         {
          "learner": "SAL",
          "loss": 0.4224529922617439,
          "n_iter": 262
         },
         {
          "learner": "SAL",
          "loss": 0.42241567152810505,
          "n_iter": 263
         },
         {
          "learner": "SAL",
          "loss": 0.422338467483476,
          "n_iter": 264
         },
         {
          "learner": "SAL",
          "loss": 0.422272406676822,
          "n_iter": 265
         },
         {
          "learner": "SAL",
          "loss": 0.4222226129952125,
          "n_iter": 266
         },
         {
          "learner": "SAL",
          "loss": 0.4221868451659755,
          "n_iter": 267
         },
         {
          "learner": "SAL",
          "loss": 0.4221567389237553,
          "n_iter": 268
         },
         {
          "learner": "SAL",
          "loss": 0.4221291204766974,
          "n_iter": 269
         },
         {
          "learner": "SAL",
          "loss": 0.42210613363879324,
          "n_iter": 270
         },
         {
          "learner": "SAL",
          "loss": 0.4218265875416718,
          "n_iter": 271
         },
         {
          "learner": "SAL",
          "loss": 0.4218042780634877,
          "n_iter": 272
         },
         {
          "learner": "SAL",
          "loss": 0.421777683754895,
          "n_iter": 273
         },
         {
          "learner": "SAL",
          "loss": 0.42176981144471365,
          "n_iter": 274
         },
         {
          "learner": "SAL",
          "loss": 0.42177970683322946,
          "n_iter": 275
         },
         {
          "learner": "SAL",
          "loss": 0.4217918420588639,
          "n_iter": 276
         },
         {
          "learner": "SAL",
          "loss": 0.4218065954022989,
          "n_iter": 277
         },
         {
          "learner": "SAL",
          "loss": 0.4218228402271611,
          "n_iter": 278
         },
         {
          "learner": "SAL",
          "loss": 0.4218386570672076,
          "n_iter": 279
         },
         {
          "learner": "SAL",
          "loss": 0.42185367980221883,
          "n_iter": 280
         },
         {
          "learner": "SAL",
          "loss": 0.42185871615152953,
          "n_iter": 281
         },
         {
          "learner": "SAL",
          "loss": 0.42186605449157,
          "n_iter": 282
         },
         {
          "learner": "SAL",
          "loss": 0.4218744489288114,
          "n_iter": 283
         },
         {
          "learner": "SAL",
          "loss": 0.42188455125837104,
          "n_iter": 284
         },
         {
          "learner": "SAL",
          "loss": 0.42189590147813427,
          "n_iter": 285
         },
         {
          "learner": "SAL",
          "loss": 0.4219080570678442,
          "n_iter": 286
         },
         {
          "learner": "SAL",
          "loss": 0.4219222963951072,
          "n_iter": 287
         },
         {
          "learner": "SAL",
          "loss": 0.42196783585138326,
          "n_iter": 288
         },
         {
          "learner": "SAL",
          "loss": 0.4219650423001211,
          "n_iter": 289
         },
         {
          "learner": "SAL",
          "loss": 0.4220212588769649,
          "n_iter": 290
         },
         {
          "learner": "SAL",
          "loss": 0.42207839593998797,
          "n_iter": 291
         },
         {
          "learner": "SAL",
          "loss": 0.4221307408042432,
          "n_iter": 292
         },
         {
          "learner": "SAL",
          "loss": 0.4221779309129102,
          "n_iter": 293
         },
         {
          "learner": "SAL",
          "loss": 0.422219928158494,
          "n_iter": 294
         },
         {
          "learner": "SAL",
          "loss": 0.4221661471905039,
          "n_iter": 295
         },
         {
          "learner": "SAL",
          "loss": 0.4221740188716207,
          "n_iter": 296
         },
         {
          "learner": "SAL",
          "loss": 0.4221899832433572,
          "n_iter": 297
         },
         {
          "learner": "SAL",
          "loss": 0.4217425019938483,
          "n_iter": 298
         },
         {
          "learner": "SAL",
          "loss": 0.42154230942443727,
          "n_iter": 299
         },
         {
          "learner": "SAL",
          "loss": 0.42142935761627676,
          "n_iter": 300
         },
         {
          "learner": "SAL",
          "loss": 0.42173587096007537,
          "n_iter": 301
         },
         {
          "learner": "SAL",
          "loss": 0.4217298808206331,
          "n_iter": 302
         },
         {
          "learner": "SAL",
          "loss": 0.4217012169720165,
          "n_iter": 303
         },
         {
          "learner": "SAL",
          "loss": 0.42157165996998364,
          "n_iter": 304
         },
         {
          "learner": "SAL",
          "loss": 0.42154728432747085,
          "n_iter": 305
         },
         {
          "learner": "SAL",
          "loss": 0.4215504002047339,
          "n_iter": 306
         },
         {
          "learner": "SAL",
          "loss": 0.4215036262642144,
          "n_iter": 307
         },
         {
          "learner": "SAL",
          "loss": 0.42149213034289806,
          "n_iter": 308
         },
         {
          "learner": "SAL",
          "loss": 0.42148336366697564,
          "n_iter": 309
         },
         {
          "learner": "SAL",
          "loss": 0.4214748695125238,
          "n_iter": 310
         },
         {
          "learner": "SAL",
          "loss": 0.42146674270429313,
          "n_iter": 311
         },
         {
          "learner": "SAL",
          "loss": 0.4214588425949944,
          "n_iter": 312
         },
         {
          "learner": "SAL",
          "loss": 0.42145196228324033,
          "n_iter": 313
         },
         {
          "learner": "SAL",
          "loss": 0.4214458315867423,
          "n_iter": 314
         },
         {
          "learner": "SAL",
          "loss": 0.42144167482629796,
          "n_iter": 315
         },
         {
          "learner": "SAL",
          "loss": 0.4214407075363752,
          "n_iter": 316
         },
         {
          "learner": "SAL",
          "loss": 0.421437009783436,
          "n_iter": 317
         },
         {
          "learner": "SAL",
          "loss": 0.42143404733166767,
          "n_iter": 318
         },
         {
          "learner": "SAL",
          "loss": 0.42143180877185493,
          "n_iter": 319
         },
         {
          "learner": "SAL",
          "loss": 0.4214301475606968,
          "n_iter": 320
         },
         {
          "learner": "SAL",
          "loss": 0.4214291994216235,
          "n_iter": 321
         },
         {
          "learner": "SAL",
          "loss": 0.4214298149262738,
          "n_iter": 322
         },
         {
          "learner": "SAL",
          "loss": 0.42143134425437645,
          "n_iter": 323
         },
         {
          "learner": "SAL",
          "loss": 0.4214465444666811,
          "n_iter": 324
         },
         {
          "learner": "SAL",
          "loss": 0.42144709954175424,
          "n_iter": 325
         },
         {
          "learner": "SAL",
          "loss": 0.421444916711743,
          "n_iter": 326
         },
         {
          "learner": "SAL",
          "loss": 0.42144242426643225,
          "n_iter": 327
         },
         {
          "learner": "SAL",
          "loss": 0.42144212189686037,
          "n_iter": 328
         },
         {
          "learner": "SAL",
          "loss": 0.4214414207079604,
          "n_iter": 329
         },
         {
          "learner": "SAL",
          "loss": 0.42144407296812436,
          "n_iter": 330
         },
         {
          "learner": "SAL",
          "loss": 0.4214473522350765,
          "n_iter": 331
         },
         {
          "learner": "SAL",
          "loss": 0.4214502497631106,
          "n_iter": 332
         },
         {
          "learner": "SAL",
          "loss": 0.4214528112079637,
          "n_iter": 333
         },
         {
          "learner": "SAL",
          "loss": 0.4214551131949019,
          "n_iter": 334
         },
         {
          "learner": "SAL",
          "loss": 0.4214572175098831,
          "n_iter": 335
         },
         {
          "learner": "SAL",
          "loss": 0.42145916522842825,
          "n_iter": 336
         },
         {
          "learner": "SAL",
          "loss": 0.4214609817096943,
          "n_iter": 337
         },
         {
          "learner": "SAL",
          "loss": 0.4214626826974321,
          "n_iter": 338
         },
         {
          "learner": "SAL",
          "loss": 0.4214642787123954,
          "n_iter": 339
         },
         {
          "learner": "SAL",
          "loss": 0.4214657776507329,
          "n_iter": 340
         },
         {
          "learner": "SAL",
          "loss": 0.4214671861357885,
          "n_iter": 341
         },
         {
          "learner": "SAL",
          "loss": 0.421468510139209,
          "n_iter": 342
         },
         {
          "learner": "SAL",
          "loss": 0.4214694617152063,
          "n_iter": 343
         },
         {
          "learner": "SAL",
          "loss": 0.4214701306204618,
          "n_iter": 344
         },
         {
          "learner": "SAL",
          "loss": 0.42147054931977124,
          "n_iter": 345
         },
         {
          "learner": "SAL",
          "loss": 0.4214707502411878,
          "n_iter": 346
         },
         {
          "learner": "SAL",
          "loss": 0.4214707639346777,
          "n_iter": 347
         },
         {
          "learner": "SAL",
          "loss": 0.42147061373347194,
          "n_iter": 348
         },
         {
          "learner": "SAL",
          "loss": 0.42147032612136415,
          "n_iter": 349
         },
         {
          "learner": "SAL",
          "loss": 0.4214699238910841,
          "n_iter": 350
         },
         {
          "learner": "SAL",
          "loss": 0.4207000245648162,
          "n_iter": 351
         },
         {
          "learner": "SAL",
          "loss": 0.42029986858968793,
          "n_iter": 352
         },
         {
          "learner": "SAL",
          "loss": 0.41997195909536567,
          "n_iter": 353
         },
         {
          "learner": "SAL",
          "loss": 0.41972667398125507,
          "n_iter": 354
         },
         {
          "learner": "SAL",
          "loss": 0.41953078913503256,
          "n_iter": 355
         },
         {
          "learner": "SAL",
          "loss": 0.41936662798203544,
          "n_iter": 356
         },
         {
          "learner": "SAL",
          "loss": 0.4193930394350459,
          "n_iter": 357
         },
         {
          "learner": "SAL",
          "loss": 0.4193996765120423,
          "n_iter": 358
         },
         {
          "learner": "SAL",
          "loss": 0.41942359408245666,
          "n_iter": 359
         },
         {
          "learner": "SAL",
          "loss": 0.4194119678073347,
          "n_iter": 360
         },
         {
          "learner": "SAL",
          "loss": 0.4194128738767429,
          "n_iter": 361
         },
         {
          "learner": "SAL",
          "loss": 0.4194127387675897,
          "n_iter": 362
         },
         {
          "learner": "SAL",
          "loss": 0.41941267960276785,
          "n_iter": 363
         },
         {
          "learner": "SAL",
          "loss": 0.41314467435095736,
          "n_iter": 364
         },
         {
          "learner": "SAL",
          "loss": 0.41332731812806645,
          "n_iter": 365
         },
         {
          "learner": "SAL",
          "loss": 0.4135012739058584,
          "n_iter": 366
         },
         {
          "learner": "SAL",
          "loss": 0.41364294399799645,
          "n_iter": 367
         },
         {
          "learner": "SAL",
          "loss": 0.4137330573892795,
          "n_iter": 368
         },
         {
          "learner": "SAL",
          "loss": 0.41357103625042657,
          "n_iter": 369
         },
         {
          "learner": "SAL",
          "loss": 0.4133499905914942,
          "n_iter": 370
         },
         {
          "learner": "SAL",
          "loss": 0.41311881051898847,
          "n_iter": 371
         },
         {
          "learner": "SAL",
          "loss": 0.41290072721729054,
          "n_iter": 372
         },
         {
          "learner": "SAL",
          "loss": 0.4125923881348353,
          "n_iter": 373
         },
         {
          "learner": "SAL",
          "loss": 0.4123550873648613,
          "n_iter": 374
         },
         {
          "learner": "SAL",
          "loss": 0.4121700447134852,
          "n_iter": 375
         },
         {
          "learner": "SAL",
          "loss": 0.4120150198092154,
          "n_iter": 376
         },
         {
          "learner": "SAL",
          "loss": 0.41190109078567116,
          "n_iter": 377
         },
         {
          "learner": "SAL",
          "loss": 0.411821192476353,
          "n_iter": 378
         },
         {
          "learner": "SAL",
          "loss": 0.41176676134460577,
          "n_iter": 379
         },
         {
          "learner": "SAL",
          "loss": 0.41173369753042866,
          "n_iter": 380
         },
         {
          "learner": "SAL",
          "loss": 0.4117182810818478,
          "n_iter": 381
         },
         {
          "learner": "SAL",
          "loss": 0.41171625885177404,
          "n_iter": 382
         },
         {
          "learner": "SAL",
          "loss": 0.41172435079443853,
          "n_iter": 383
         },
         {
          "learner": "SAL",
          "loss": 0.41174004960294647,
          "n_iter": 384
         },
         {
          "learner": "SAL",
          "loss": 0.4120529938418941,
          "n_iter": 385
         },
         {
          "learner": "SAL",
          "loss": 0.4122732044061345,
          "n_iter": 386
         },
         {
          "learner": "SAL",
          "loss": 0.4124769701846629,
          "n_iter": 387
         },
         {
          "learner": "SAL",
          "loss": 0.41263039047440664,
          "n_iter": 388
         },
         {
          "learner": "SAL",
          "loss": 0.41271792963610293,
          "n_iter": 389
         },
         {
          "learner": "SAL",
          "loss": 0.41270141339722755,
          "n_iter": 390
         },
         {
          "learner": "SAL",
          "loss": 0.4127168050437566,
          "n_iter": 391
         },
         {
          "learner": "SAL",
          "loss": 0.41275338349217505,
          "n_iter": 392
         },
         {
          "learner": "SAL",
          "loss": 0.4127897320647522,
          "n_iter": 393
         },
         {
          "learner": "SAL",
          "loss": 0.41282891664466426,
          "n_iter": 394
         },
         {
          "learner": "SAL",
          "loss": 0.41282802212625286,
          "n_iter": 395
         },
         {
          "learner": "SAL",
          "loss": 0.4127136272838151,
          "n_iter": 396
         },
         {
          "learner": "SAL",
          "loss": 0.41268053969748586,
          "n_iter": 397
         },
         {
          "learner": "SAL",
          "loss": 0.412687752004455,
          "n_iter": 398
         },
         {
          "learner": "SAL",
          "loss": 0.41270859014539474,
          "n_iter": 399
         },
         {
          "learner": "SAL",
          "loss": 0.41273547161044893,
          "n_iter": 400
         },
         {
          "learner": "SAL",
          "loss": 0.4127642068232872,
          "n_iter": 401
         },
         {
          "learner": "SAL",
          "loss": 0.412792592711768,
          "n_iter": 402
         },
         {
          "learner": "SAL",
          "loss": 0.41298378794610197,
          "n_iter": 403
         },
         {
          "learner": "SAL",
          "loss": 0.41311899822487974,
          "n_iter": 404
         },
         {
          "learner": "SAL",
          "loss": 0.4132025353515896,
          "n_iter": 405
         },
         {
          "learner": "SAL",
          "loss": 0.4132345707235161,
          "n_iter": 406
         },
         {
          "learner": "SAL",
          "loss": 0.4131680143314444,
          "n_iter": 407
         },
         {
          "learner": "SAL",
          "loss": 0.41307468080430254,
          "n_iter": 408
         },
         {
          "learner": "SAL",
          "loss": 0.41297613686993573,
          "n_iter": 409
         },
         {
          "learner": "SAL",
          "loss": 0.41293686964762394,
          "n_iter": 410
         },
         {
          "learner": "SAL",
          "loss": 0.4128827747882168,
          "n_iter": 411
         },
         {
          "learner": "SAL",
          "loss": 0.4128261561208542,
          "n_iter": 412
         },
         {
          "learner": "SAL",
          "loss": 0.41277675154763016,
          "n_iter": 413
         },
         {
          "learner": "SAL",
          "loss": 0.41274744248271333,
          "n_iter": 414
         },
         {
          "learner": "SAL",
          "loss": 0.4127294087595248,
          "n_iter": 415
         },
         {
          "learner": "SAL",
          "loss": 0.41268623323997766,
          "n_iter": 416
         },
         {
          "learner": "SAL",
          "loss": 0.412630529824186,
          "n_iter": 417
         },
         {
          "learner": "SAL",
          "loss": 0.41258385722981544,
          "n_iter": 418
         },
         {
          "learner": "SAL",
          "loss": 0.41254587737542214,
          "n_iter": 419
         },
         {
          "learner": "SAL",
          "loss": 0.4125143272644667,
          "n_iter": 420
         },
         {
          "learner": "SAL",
          "loss": 0.41248786214885963,
          "n_iter": 421
         },
         {
          "learner": "SAL",
          "loss": 0.41246547576642556,
          "n_iter": 422
         },
         {
          "learner": "SAL",
          "loss": 0.412446347225218,
          "n_iter": 423
         },
         {
          "learner": "SAL",
          "loss": 0.4124390530987654,
          "n_iter": 424
         },
         {
          "learner": "SAL",
          "loss": 0.4124741070736915,
          "n_iter": 425
         },
         {
          "learner": "SAL",
          "loss": 0.41251742250570755,
          "n_iter": 426
         },
         {
          "learner": "SAL",
          "loss": 0.4125424090140568,
          "n_iter": 427
         },
         {
          "learner": "SAL",
          "loss": 0.41255728870462177,
          "n_iter": 428
         },
         {
          "learner": "SAL",
          "loss": 0.4125661494784903,
          "n_iter": 429
         },
         {
          "learner": "SAL",
          "loss": 0.4125618975343236,
          "n_iter": 430
         },
         {
          "learner": "SAL",
          "loss": 0.4125661699876036,
          "n_iter": 431
         },
         {
          "learner": "SAL",
          "loss": 0.41256974060975515,
          "n_iter": 432
         },
         {
          "learner": "SAL",
          "loss": 0.41257184727526947,
          "n_iter": 433
         },
         {
          "learner": "SAL",
          "loss": 0.41257287477000054,
          "n_iter": 434
         },
         {
          "learner": "SAL",
          "loss": 0.41257283952282015,
          "n_iter": 435
         },
         {
          "learner": "SAL",
          "loss": 0.41257238431217597,
          "n_iter": 436
         },
         {
          "learner": "SAL",
          "loss": 0.41257173467475183,
          "n_iter": 437
         },
         {
          "learner": "SAL",
          "loss": 0.4125709592739652,
          "n_iter": 438
         },
         {
          "learner": "SAL",
          "loss": 0.4125700899311962,
          "n_iter": 439
         },
         {
          "learner": "SAL",
          "loss": 0.4125691524380812,
          "n_iter": 440
         },
         {
          "learner": "SAL",
          "loss": 0.41255208869925314,
          "n_iter": 441
         },
         {
          "learner": "SAL",
          "loss": 0.4125930082195754,
          "n_iter": 442
         },
         {
          "learner": "SAL",
          "loss": 0.4125594633617093,
          "n_iter": 443
         },
         {
          "learner": "SAL",
          "loss": 0.4125181905271314,
          "n_iter": 444
         },
         {
          "learner": "SAL",
          "loss": 0.4124859501436,
          "n_iter": 445
         },
         {
          "learner": "SAL",
          "loss": 0.4124567268553563,
          "n_iter": 446
         },
         {
          "learner": "SAL",
          "loss": 0.4124492031006352,
          "n_iter": 447
         },
         {
          "learner": "SAL",
          "loss": 0.41250378825699197,
          "n_iter": 448
         },
         {
          "learner": "SAL",
          "loss": 0.41246742722335933,
          "n_iter": 449
         },
         {
          "learner": "SAL",
          "loss": 0.41243630150473914,
          "n_iter": 450
         },
         {
          "learner": "SAL",
          "loss": 0.41241168655157523,
          "n_iter": 451
         },
         {
          "learner": "SAL",
          "loss": 0.41239312214430257,
          "n_iter": 452
         },
         {
          "learner": "SAL",
          "loss": 0.41237984853600373,
          "n_iter": 453
         },
         {
          "learner": "SAL",
          "loss": 0.4123724079985843,
          "n_iter": 454
         },
         {
          "learner": "SAL",
          "loss": 0.4123625662026761,
          "n_iter": 455
         },
         {
          "learner": "SAL",
          "loss": 0.4123645291418059,
          "n_iter": 456
         },
         {
          "learner": "SAL",
          "loss": 0.412360918396214,
          "n_iter": 457
         },
         {
          "learner": "SAL",
          "loss": 0.41236628930517916,
          "n_iter": 458
         },
         {
          "learner": "SAL",
          "loss": 0.41236577306181105,
          "n_iter": 459
         },
         {
          "learner": "SAL",
          "loss": 0.41236526247620103,
          "n_iter": 460
         },
         {
          "learner": "SAL",
          "loss": 0.41236597441388895,
          "n_iter": 461
         },
         {
          "learner": "SAL",
          "loss": 0.41237607554231887,
          "n_iter": 462
         },
         {
          "learner": "SAL",
          "loss": 0.4123827566607157,
          "n_iter": 463
         },
         {
          "learner": "SAL",
          "loss": 0.41238969534124514,
          "n_iter": 464
         },
         {
          "learner": "SAL",
          "loss": 0.4123973267689084,
          "n_iter": 465
         },
         {
          "learner": "SAL",
          "loss": 0.4124053976860538,
          "n_iter": 466
         },
         {
          "learner": "SAL",
          "loss": 0.41241395712257706,
          "n_iter": 467
         },
         {
          "learner": "SAL",
          "loss": 0.41242432165389553,
          "n_iter": 468
         },
         {
          "learner": "SAL",
          "loss": 0.41243329696020103,
          "n_iter": 469
         },
         {
          "learner": "SAL",
          "loss": 0.4124417786772726,
          "n_iter": 470
         },
         {
          "learner": "SAL",
          "loss": 0.4124500195158945,
          "n_iter": 471
         },
         {
          "learner": "SAL",
          "loss": 0.41274944762695653,
          "n_iter": 472
         },
         {
          "learner": "SAL",
          "loss": 0.4129181167902942,
          "n_iter": 473
         },
         {
          "learner": "SAL",
          "loss": 0.41312791246525576,
          "n_iter": 474
         },
         {
          "learner": "SAL",
          "loss": 0.4133366091560097,
          "n_iter": 475
         },
         {
          "learner": "SAL",
          "loss": 0.41353592988186405,
          "n_iter": 476
         },
         {
          "learner": "SAL",
          "loss": 0.41372075795994045,
          "n_iter": 477
         },
         {
          "learner": "SAL",
          "loss": 0.41378152255196604,
          "n_iter": 478
         },
         {
          "learner": "SAL",
          "loss": 0.41383383009274355,
          "n_iter": 479
         },
         {
          "learner": "SAL",
          "loss": 0.41388706725855146,
          "n_iter": 480
         },
         {
          "learner": "SAL",
          "loss": 0.4139419710865559,
          "n_iter": 481
         },
         {
          "learner": "SAL",
          "loss": 0.414019197171151,
          "n_iter": 482
         },
         {
          "learner": "SAL",
          "loss": 0.4143821010945771,
          "n_iter": 483
         },
         {
          "learner": "SAL",
          "loss": 0.41449048311715325,
          "n_iter": 484
         },
         {
          "learner": "SAL",
          "loss": 0.4143818424941282,
          "n_iter": 485
         },
         {
          "learner": "SAL",
          "loss": 0.41426395029054197,
          "n_iter": 486
         },
         {
          "learner": "SAL",
          "loss": 0.4141076238930312,
          "n_iter": 487
         },
         {
          "learner": "SAL",
          "loss": 0.41398051486580123,
          "n_iter": 488
         },
         {
          "learner": "SAL",
          "loss": 0.41387140266061784,
          "n_iter": 489
         },
         {
          "learner": "SAL",
          "loss": 0.41377644630364613,
          "n_iter": 490
         },
         {
          "learner": "SAL",
          "loss": 0.413677071386663,
          "n_iter": 491
         },
         {
          "learner": "SAL",
          "loss": 0.4135909927958993,
          "n_iter": 492
         },
         {
          "learner": "SAL",
          "loss": 0.41352629677876057,
          "n_iter": 493
         },
         {
          "learner": "SAL",
          "loss": 0.4134790294314189,
          "n_iter": 494
         },
         {
          "learner": "SAL",
          "loss": 0.41343136881066683,
          "n_iter": 495
         },
         {
          "learner": "SAL",
          "loss": 0.41339377471745814,
          "n_iter": 496
         },
         {
          "learner": "SAL",
          "loss": 0.41337635016449836,
          "n_iter": 497
         },
         {
          "learner": "SAL",
          "loss": 0.4133742659073302,
          "n_iter": 498
         },
         {
          "learner": "SAL",
          "loss": 0.4134619696679955,
          "n_iter": 499
         },
         {
          "learner": "SAL",
          "loss": 0.41343734837646556,
          "n_iter": 500
         },
         {
          "learner": "SAL",
          "loss": 0.41348206167776813,
          "n_iter": 501
         },
         {
          "learner": "SAL",
          "loss": 0.4135403009509513,
          "n_iter": 502
         }
        ]
       },
       "encoding": {
        "color": {
         "field": "learner",
         "type": "nominal"
        },
        "x": {
         "field": "n_iter",
         "type": "quantitative"
        },
        "y": {
         "field": "loss",
         "type": "quantitative"
        }
       },
       "height": 200,
       "mark": "line",
       "width": 400
      },
      "image/png": "[encoded data removed]",
      "image/svg+xml": [
       "<?xml version=\"1.0\" encoding=\"utf-8\"?>\n",
       "<!DOCTYPE svg PUBLIC \"-//W3C//DTD SVG 1.1//EN\" \"http://www.w3.org/Graphics/SVG/1.1/DTD/svg11.dtd\">\n",
       "<svg xmlns=\"http://www.w3.org/2000/svg\" xmlns:xlink=\"http://www.w3.org/1999/xlink\" version=\"1.1\" class=\"marks\" width=\"523\" height=\"247\" viewBox=\"0 0 523 247\"><rect width=\"523\" height=\"247\" fill=\"white\"/><g fill=\"none\" stroke-miterlimit=\"10\" transform=\"translate(42,10)\"><g class=\"mark-group role-frame root\" role=\"graphics-object\" aria-roledescription=\"group mark container\"><g transform=\"translate(0,0)\"><path class=\"background\" aria-hidden=\"true\" d=\"M0.5,0.5h400v200h-400Z\" stroke=\"#ddd\"/><g><g class=\"mark-group role-axis\" aria-hidden=\"true\"><g transform=\"translate(0.5,200.5)\"><path class=\"background\" aria-hidden=\"true\" d=\"M0,0h0v0h0Z\" pointer-events=\"none\"/><g><g class=\"mark-rule role-axis-grid\" pointer-events=\"none\"><line transform=\"translate(0,-200)\" x2=\"0\" y2=\"200\" stroke=\"#ddd\" stroke-width=\"1\" opacity=\"1\"/><line transform=\"translate(36,-200)\" x2=\"0\" y2=\"200\" stroke=\"#ddd\" stroke-width=\"1\" opacity=\"1\"/><line transform=\"translate(73,-200)\" x2=\"0\" y2=\"200\" stroke=\"#ddd\" stroke-width=\"1\" opacity=\"1\"/><line transform=\"translate(109,-200)\" x2=\"0\" y2=\"200\" stroke=\"#ddd\" stroke-width=\"1\" opacity=\"1\"/><line transform=\"translate(145,-200)\" x2=\"0\" y2=\"200\" stroke=\"#ddd\" stroke-width=\"1\" opacity=\"1\"/><line transform=\"translate(182,-200)\" x2=\"0\" y2=\"200\" stroke=\"#ddd\" stroke-width=\"1\" opacity=\"1\"/><line transform=\"translate(218,-200)\" x2=\"0\" y2=\"200\" stroke=\"#ddd\" stroke-width=\"1\" opacity=\"1\"/><line transform=\"translate(255,-200)\" x2=\"0\" y2=\"200\" stroke=\"#ddd\" stroke-width=\"1\" opacity=\"1\"/><line transform=\"translate(291,-200)\" x2=\"0\" y2=\"200\" stroke=\"#ddd\" stroke-width=\"1\" opacity=\"1\"/><line transform=\"translate(327,-200)\" x2=\"0\" y2=\"200\" stroke=\"#ddd\" stroke-width=\"1\" opacity=\"1\"/><line transform=\"translate(364,-200)\" x2=\"0\" y2=\"200\" stroke=\"#ddd\" stroke-width=\"1\" opacity=\"1\"/><line transform=\"translate(400,-200)\" x2=\"0\" y2=\"200\" stroke=\"#ddd\" stroke-width=\"1\" opacity=\"1\"/></g></g><path class=\"foreground\" aria-hidden=\"true\" d=\"\" pointer-events=\"none\" display=\"none\"/></g></g><g class=\"mark-group role-axis\" aria-hidden=\"true\"><g transform=\"translate(0.5,0.5)\"><path class=\"background\" aria-hidden=\"true\" d=\"M0,0h0v0h0Z\" pointer-events=\"none\"/><g><g class=\"mark-rule role-axis-grid\" pointer-events=\"none\"><line transform=\"translate(0,200)\" x2=\"400\" y2=\"0\" stroke=\"#ddd\" stroke-width=\"1\" opacity=\"1\"/><line transform=\"translate(0,160)\" x2=\"400\" y2=\"0\" stroke=\"#ddd\" stroke-width=\"1\" opacity=\"1\"/><line transform=\"translate(0,120)\" x2=\"400\" y2=\"0\" stroke=\"#ddd\" stroke-width=\"1\" opacity=\"1\"/><line transform=\"translate(0,80)\" x2=\"400\" y2=\"0\" stroke=\"#ddd\" stroke-width=\"1\" opacity=\"1\"/><line transform=\"translate(0,40)\" x2=\"400\" y2=\"0\" stroke=\"#ddd\" stroke-width=\"1\" opacity=\"1\"/><line transform=\"translate(0,0)\" x2=\"400\" y2=\"0\" stroke=\"#ddd\" stroke-width=\"1\" opacity=\"1\"/></g></g><path class=\"foreground\" aria-hidden=\"true\" d=\"\" pointer-events=\"none\" display=\"none\"/></g></g><g class=\"mark-group role-axis\" role=\"graphics-symbol\" aria-roledescription=\"axis\" aria-label=\"X-axis titled 'n_iter' for a linear scale with values from 0 to 550\"><g transform=\"translate(0.5,200.5)\"><path class=\"background\" aria-hidden=\"true\" d=\"M0,0h0v0h0Z\" pointer-events=\"none\"/><g><g class=\"mark-rule role-axis-tick\" pointer-events=\"none\"><line transform=\"translate(0,0)\" x2=\"0\" y2=\"5\" stroke=\"#888\" stroke-width=\"1\" opacity=\"1\"/><line transform=\"translate(36,0)\" x2=\"0\" y2=\"5\" stroke=\"#888\" stroke-width=\"1\" opacity=\"1\"/><line transform=\"translate(73,0)\" x2=\"0\" y2=\"5\" stroke=\"#888\" stroke-width=\"1\" opacity=\"1\"/><line transform=\"translate(109,0)\" x2=\"0\" y2=\"5\" stroke=\"#888\" stroke-width=\"1\" opacity=\"1\"/><line transform=\"translate(145,0)\" x2=\"0\" y2=\"5\" stroke=\"#888\" stroke-width=\"1\" opacity=\"1\"/><line transform=\"translate(182,0)\" x2=\"0\" y2=\"5\" stroke=\"#888\" stroke-width=\"1\" opacity=\"1\"/><line transform=\"translate(218,0)\" x2=\"0\" y2=\"5\" stroke=\"#888\" stroke-width=\"1\" opacity=\"1\"/><line transform=\"translate(255,0)\" x2=\"0\" y2=\"5\" stroke=\"#888\" stroke-width=\"1\" opacity=\"1\"/><line transform=\"translate(291,0)\" x2=\"0\" y2=\"5\" stroke=\"#888\" stroke-width=\"1\" opacity=\"1\"/><line transform=\"translate(327,0)\" x2=\"0\" y2=\"5\" stroke=\"#888\" stroke-width=\"1\" opacity=\"1\"/><line transform=\"translate(364,0)\" x2=\"0\" y2=\"5\" stroke=\"#888\" stroke-width=\"1\" opacity=\"1\"/><line transform=\"translate(400,0)\" x2=\"0\" y2=\"5\" stroke=\"#888\" stroke-width=\"1\" opacity=\"1\"/></g><g class=\"mark-text role-axis-label\" pointer-events=\"none\"><text text-anchor=\"start\" transform=\"translate(0,15)\" font-family=\"sans-serif\" font-size=\"10px\" fill=\"#000\" opacity=\"1\">0</text><text text-anchor=\"middle\" transform=\"translate(36.36363636363637,15)\" font-family=\"sans-serif\" font-size=\"10px\" fill=\"#000\" opacity=\"1\">50</text><text text-anchor=\"middle\" transform=\"translate(72.72727272727273,15)\" font-family=\"sans-serif\" font-size=\"10px\" fill=\"#000\" opacity=\"1\">100</text><text text-anchor=\"middle\" transform=\"translate(109.09090909090908,15)\" font-family=\"sans-serif\" font-size=\"10px\" fill=\"#000\" opacity=\"1\">150</text><text text-anchor=\"middle\" transform=\"translate(145.45454545454547,15)\" font-family=\"sans-serif\" font-size=\"10px\" fill=\"#000\" opacity=\"1\">200</text><text text-anchor=\"middle\" transform=\"translate(181.8181818181818,15)\" font-family=\"sans-serif\" font-size=\"10px\" fill=\"#000\" opacity=\"1\">250</text><text text-anchor=\"middle\" transform=\"translate(218.18181818181816,15)\" font-family=\"sans-serif\" font-size=\"10px\" fill=\"#000\" opacity=\"1\">300</text><text text-anchor=\"middle\" transform=\"translate(254.54545454545453,15)\" font-family=\"sans-serif\" font-size=\"10px\" fill=\"#000\" opacity=\"1\">350</text><text text-anchor=\"middle\" transform=\"translate(290.90909090909093,15)\" font-family=\"sans-serif\" font-size=\"10px\" fill=\"#000\" opacity=\"1\">400</text><text text-anchor=\"middle\" transform=\"translate(327.2727272727273,15)\" font-family=\"sans-serif\" font-size=\"10px\" fill=\"#000\" opacity=\"1\">450</text><text text-anchor=\"middle\" transform=\"translate(363.6363636363636,15)\" font-family=\"sans-serif\" font-size=\"10px\" fill=\"#000\" opacity=\"1\">500</text><text text-anchor=\"end\" transform=\"translate(400,15)\" font-family=\"sans-serif\" font-size=\"10px\" fill=\"#000\" opacity=\"1\">550</text></g><g class=\"mark-rule role-axis-domain\" pointer-events=\"none\"><line transform=\"translate(0,0)\" x2=\"400\" y2=\"0\" stroke=\"#888\" stroke-width=\"1\" opacity=\"1\"/></g><g class=\"mark-text role-axis-title\" pointer-events=\"none\"><text text-anchor=\"middle\" transform=\"translate(200,30)\" font-family=\"sans-serif\" font-size=\"11px\" font-weight=\"bold\" fill=\"#000\" opacity=\"1\">n_iter</text></g></g><path class=\"foreground\" aria-hidden=\"true\" d=\"\" pointer-events=\"none\" display=\"none\"/></g></g><g class=\"mark-group role-axis\" role=\"graphics-symbol\" aria-roledescription=\"axis\" aria-label=\"Y-axis titled 'loss' for a linear scale with values from 0.0 to 1.0\"><g transform=\"translate(0.5,0.5)\"><path class=\"background\" aria-hidden=\"true\" d=\"M0,0h0v0h0Z\" pointer-events=\"none\"/><g><g class=\"mark-rule role-axis-tick\" pointer-events=\"none\"><line transform=\"translate(0,200)\" x2=\"-5\" y2=\"0\" stroke=\"#888\" stroke-width=\"1\" opacity=\"1\"/><line transform=\"translate(0,160)\" x2=\"-5\" y2=\"0\" stroke=\"#888\" stroke-width=\"1\" opacity=\"1\"/><line transform=\"translate(0,120)\" x2=\"-5\" y2=\"0\" stroke=\"#888\" stroke-width=\"1\" opacity=\"1\"/><line transform=\"translate(0,80)\" x2=\"-5\" y2=\"0\" stroke=\"#888\" stroke-width=\"1\" opacity=\"1\"/><line transform=\"translate(0,40)\" x2=\"-5\" y2=\"0\" stroke=\"#888\" stroke-width=\"1\" opacity=\"1\"/><line transform=\"translate(0,0)\" x2=\"-5\" y2=\"0\" stroke=\"#888\" stroke-width=\"1\" opacity=\"1\"/></g><g class=\"mark-text role-axis-label\" pointer-events=\"none\"><text text-anchor=\"end\" transform=\"translate(-7,203)\" font-family=\"sans-serif\" font-size=\"10px\" fill=\"#000\" opacity=\"1\">0.0</text><text text-anchor=\"end\" transform=\"translate(-7,163)\" font-family=\"sans-serif\" font-size=\"10px\" fill=\"#000\" opacity=\"1\">0.2</text><text text-anchor=\"end\" transform=\"translate(-7,123)\" font-family=\"sans-serif\" font-size=\"10px\" fill=\"#000\" opacity=\"1\">0.4</text><text text-anchor=\"end\" transform=\"translate(-7,83)\" font-family=\"sans-serif\" font-size=\"10px\" fill=\"#000\" opacity=\"1\">0.6</text><text text-anchor=\"end\" transform=\"translate(-7,42.99999999999999)\" font-family=\"sans-serif\" font-size=\"10px\" fill=\"#000\" opacity=\"1\">0.8</text><text text-anchor=\"end\" transform=\"translate(-7,3)\" font-family=\"sans-serif\" font-size=\"10px\" fill=\"#000\" opacity=\"1\">1.0</text></g><g class=\"mark-rule role-axis-domain\" pointer-events=\"none\"><line transform=\"translate(0,200)\" x2=\"0\" y2=\"-200\" stroke=\"#888\" stroke-width=\"1\" opacity=\"1\"/></g><g class=\"mark-text role-axis-title\" pointer-events=\"none\"><text text-anchor=\"middle\" transform=\"translate(-26,100) rotate(-90) translate(0,-2)\" font-family=\"sans-serif\" font-size=\"11px\" font-weight=\"bold\" fill=\"#000\" opacity=\"1\">loss</text></g></g><path class=\"foreground\" aria-hidden=\"true\" d=\"\" pointer-events=\"none\" display=\"none\"/></g></g><g class=\"mark-group role-scope pathgroup\" role=\"graphics-object\" aria-roledescription=\"group mark container\"><g transform=\"translate(0,0)\"><path class=\"background\" aria-hidden=\"true\" d=\"M0,0h400v200h-400Z\"/><g><g class=\"mark-line role-mark marks\" role=\"graphics-object\" aria-roledescription=\"line mark container\"><path aria-label=\"n_iter: 1; loss: 0.922541771457; learner: XGBoost\" role=\"graphics-symbol\" aria-roledescription=\"line mark\" d=\"M0.7272727272727273,15.491645708521329L1.4545454545454546,17.531946704157786L2.181818181818182,19.561494013840818L2.909090909090909,21.516759156642973L3.6363636363636362,23.282476017277265L4.363636363636364,25.216580238188335L5.090909090909091,26.95528563333369L5.818181818181818,28.607582692975054L6.545454545454546,30.3340194498692L7.2727272727272725,31.923173141085638L8,33.585107254322445L8.727272727272728,35.3721958540556L9.454545454545455,36.96468830104518L10.181818181818182,38.59960398772435L10.909090909090908,40.123043528569305L11.636363636363637,41.58051035009991L12.363636363636363,43.05548365181815L13.090909090909092,44.6517407261591L13.818181818181818,46.06034691506622L14.545454545454545,47.563379222570475L15.272727272727273,48.935711783545365L16,50.25846864418424L16.727272727272727,51.657757577785056L17.454545454545457,52.97320733208637L18.181818181818183,54.19315149737256L18.90909090909091,55.41588070105754L19.636363636363637,56.7292395230248L20.363636363636363,57.931280251652865L21.09090909090909,59.044624867958426L21.818181818181817,60.21787604537221L22.545454545454547,61.37279553012374L23.272727272727273,62.543619768079985L24,63.65066790435592L24.727272727272727,64.69309586879623L25.454545454545453,65.70726623264123L26.181818181818183,66.76407431972355L26.90909090909091,67.80612859950335L27.636363636363637,68.7982564832225L28.363636363636363,69.72898084940753L29.09090909090909,70.71084038488297L29.818181818181817,71.66304356708355L30.545454545454547,72.539835912275L31.272727272727273,73.43955267100566L32,74.35168378335324L32.72727272727273,75.17883110526793L33.45454545454545,76.0437225415769L34.18181818181818,76.9564206407557L34.909090909090914,77.72354615953063L35.63636363636364,78.54397943238529L36.36363636363637,79.31399785228533L37.09090909090909,80.15936337995333L37.81818181818182,80.88267202314495L38.54545454545455,81.61557178029094L39.27272727272727,82.39484238843322L40,83.13078733576815L40.72727272727273,83.91954436939196L41.45454545454545,84.60311251054384L42.18181818181818,85.35989212619202L42.90909090909091,86.01426916155128L43.63636363636363,86.61558040822558L44.36363636363637,87.26014693439022L45.09090909090909,87.85649187296247L45.81818181818182,88.49140695508197L46.54545454545455,89.15677680086267L47.27272727272727,89.74063901578396L48,90.38777127084634L48.72727272727273,90.93425734582968L49.45454545454545,91.46230137456719L50.18181818181818,92.02261007320163L50.90909090909091,92.58667290360675L51.63636363636363,93.126395137146L52.36363636363637,93.60982852459765L53.090909090909086,94.16873846758523L53.81818181818182,94.67234086640075L54.54545454545454,95.14835558946359L55.27272727272727,95.65987241128515L56.00000000000001,96.18273508903805L56.72727272727273,96.65667554591084L57.45454545454546,97.08784167821997L58.18181818181818,97.57372001956793L58.909090909090914,98.02216657643716L59.63636363636363,98.40200957641191L60.36363636363637,98.83365537673912L61.09090909090909,99.26122664882145L61.81818181818181,99.70885513030869L62.54545454545455,100.08496779055523L63.272727272727266,100.44344423119603L64,100.83726404253879L64.72727272727272,101.20701356884712L65.45454545454545,101.5679572146557L66.18181818181819,101.96751250694282L66.9090909090909,102.28453449647236L67.63636363636364,102.61174528753696L68.36363636363636,102.9570241634322L69.0909090909091,103.28662417592409L69.81818181818183,103.61592479627038L70.54545454545455,103.9351616760362L71.27272727272728,104.23400537432808L72,104.5452650563247L72.72727272727273,104.83120892639266L73.45454545454545,105.11726885927423L74.18181818181819,105.41045658213943L74.90909090909092,105.6817183398223L75.63636363636364,105.95100109441415L76.36363636363637,106.24481510885641L77.0909090909091,106.47107797650715L77.81818181818181,106.75550549650458L78.54545454545455,106.98088885261447L79.27272727272727,107.23796055292092L80,107.4856009967021L80.72727272727272,107.71929598749298L81.45454545454545,107.94535828998124L82.18181818181817,108.24005662377618L82.9090909090909,108.4235026274059L83.63636363636363,108.63426465759831L84.36363636363636,108.91434259927415L85.0909090909091,109.11425332145568L85.81818181818181,109.38386786570366L86.54545454545455,109.56444596053392L87.27272727272727,109.74991031270163L88,110.0047510249978L88.72727272727273,110.1549229789935L89.45454545454545,110.32074001091728L90.18181818181819,110.56876760905976L90.9090909090909,110.74220624744146L91.63636363636364,110.87710244057347L92.36363636363636,111.10798337891725L93.0909090909091,111.24404467980477L93.81818181818183,111.37274008198142L94.54545454545455,111.55522183074265L95.27272727272728,111.70514498200768L96,111.87936115916865L96.72727272727273,112.03300014312534L97.45454545454545,112.14153902028465L98.18181818181819,112.30896531617019L98.9090909090909,112.46686594337825L99.63636363636364,112.62327517571684L100.36363636363636,112.78868943090173L101.0909090909091,112.94243125576664L101.81818181818181,113.04650673890868L102.54545454545453,113.17907546887884L103.27272727272727,113.31904428163271L104,113.4047215668403L104.72727272727273,113.53847540824606L105.45454545454544,113.63096114917587L106.18181818181817,113.71420398316383L106.9090909090909,113.88627097351089L107.63636363636364,113.99509091356492L108.36363636363637,114.06024811616209L109.09090909090908,114.18974320580936L109.81818181818181,114.25325259452546L110.54545454545455,114.42449374586401L111.27272727272728,114.5218240030065L112.00000000000001,114.58216268666655L112.72727272727272,114.68895845004619L113.45454545454545,114.79815828189992L114.18181818181819,114.92135086294992L114.90909090909092,115.01743271824174L115.63636363636363,115.07278200137688L116.36363636363636,115.15678837431298L117.0909090909091,115.30695313507051L117.81818181818183,115.36792864079268L118.54545454545456,115.41662210011985L119.27272727272727,115.50255676055853L120,115.606272132126L120.72727272727273,115.6613519516334L121.45454545454545,115.71944951565155L122.18181818181819,115.75672155657024L122.9090909090909,115.85197057156378L123.63636363636363,115.90135664296182L124.36363636363636,115.93772240368376L125.0909090909091,115.97187585565551L125.81818181818183,116.09713152121972L126.54545454545453,116.14153790445113L127.27272727272727,116.16910005672932L128,116.22255297472057L128.72727272727275,116.2661702603681L129.45454545454544,116.3283040224637L130.1818181818182,116.37370331561578L130.9090909090909,116.44968158305467L131.63636363636363,116.47683706329886L132.36363636363637,116.5337540866592L133.0909090909091,116.63443172494397L133.8181818181818,116.66711319068158L134.54545454545453,116.68677699161698L135.27272727272728,116.8082676336283L136,116.84545806977928L136.72727272727272,116.96314838479131L137.45454545454544,117.01233870127967L138.1818181818182,117.05987680703554L138.9090909090909,117.12584612673437L139.63636363636365,117.2212264797982L140.36363636363635,117.28430419578393L141.0909090909091,117.39334878219809L141.8181818181818,117.40620841262705L142.54545454545456,117.4658078024668L143.27272727272725,117.51022396149185L144,117.56726748612158L144.72727272727272,117.60197782674031L145.45454545454547,117.62697331930185L146.1818181818182,117.65810896679423L146.9090909090909,117.70465606599791L147.63636363636363,117.75399870648369L148.36363636363637,117.7906472298631L149.0909090909091,117.89093428942188L149.81818181818184,117.9372696315441L150.54545454545453,117.94445057018916L151.27272727272728,117.97835972038604L152,118.04499475694055L152.72727272727275,118.09334794093354L153.45454545454544,118.11649819977019L154.1818181818182,118.14495256812938L154.9090909090909,118.18675087321341L155.63636363636363,118.22753689731327L156.36363636363637,118.26342365297857L157.0909090909091,118.27897243059462L157.8181818181818,118.29152330696226L158.54545454545453,118.31581637769202L159.27272727272728,118.35315767110086L160,118.38325440691663L160.72727272727272,118.41480072902044L161.45454545454544,118.45314357047516L162.1818181818182,118.46414986149938L162.9090909090909,118.54289566442422L163.63636363636365,118.57913858641469L164.36363636363635,118.60698194102196L165.0909090909091,118.64176890769822L165.8181818181818,118.6676082976021L166.54545454545456,118.73717064246199L167.27272727272725,118.79081928481207L168,118.81987232096142L168.72727272727272,118.89155006921395L169.45454545454547,118.9232008338021L170.1818181818182,118.90105439071554L170.9090909090909,118.97047816923694L171.63636363636363,118.98482569435687L172.36363636363637,118.96015753138609L173.0909090909091,118.97863390352454L173.8181818181818,119.04136239341649L174.54545454545453,119.09856864658646L175.27272727272728,119.06252990052346L176,119.07297575335613L176.72727272727272,119.08203226540567L177.45454545454547,119.14165625957507L178.1818181818182,119.1490688251692L178.9090909090909,119.22569359965709L179.63636363636363,119.18567413387906L180.36363636363637,119.18051592577832L181.0909090909091,119.1485604300988L181.8181818181818,119.22175929022087L182.54545454545453,119.27819520557092L183.27272727272728,119.28068347230769L184,119.28089716050007L184.72727272727272,119.27349970178831L185.45454545454544,119.32311219742542L186.1818181818182,119.27882764689777L186.9090909090909,119.27895721362319L187.63636363636365,119.27920834359202L188.36363636363635,119.34714419336679L189.0909090909091,119.40746484411173L189.8181818181818,119.39566602478115L190.54545454545456,119.46131704591335L191.27272727272728,119.41401876474833L192,119.41086304207178L192.72727272727272,119.3619223280336L193.45454545454547,119.4096506990149L194.1818181818182,119.45012949128557L194.9090909090909,119.4555103199594L195.63636363636363,119.4148091040756L196.36363636363637,119.47603792980574L197.0909090909091,119.50974224646207L197.8181818181818,119.50303338732996L198.54545454545453,119.49748737237668L199.27272727272728,119.53989234651874L200,119.58150113045801L200.72727272727272,119.52882968207503L201.45454545454547,119.56967282294566L202.1818181818182,119.56257264213485L202.90909090909093,119.56161732111438L203.63636363636363,119.50758099737928L204.36363636363635,119.56061072095214L205.09090909090907,119.55350524363261L205.8181818181818,119.54154948970037L206.54545454545453,119.49607177635957L207.27272727272728,119.55583833343061L208,119.57920863255542L208.72727272727275,119.57102970085273L209.45454545454547,119.62412464919589L210.18181818181822,119.61529490745484L210.90909090909088,119.675627808012L211.63636363636363,119.67772149532632L212.36363636363635,119.62030521822149L213.0909090909091,119.66426372301373L213.8181818181818,119.66100178707055L214.54545454545456,119.71498964893112L215.27272727272728,119.72218048595393L216,119.71213451511078L216.72727272727275,119.74704524133864L217.45454545454544,119.68327537475938L218.18181818181816,119.73430201054391L218.9090909090909,119.66982371472761L219.63636363636363,119.70884062968317L220.36363636363637,119.76277603384548L221.0909090909091,119.75772060853818L221.8181818181818,119.7567853868763L222.54545454545456,119.69469476866546L223.27272727272728,119.73225967995984L224.00000000000003,119.72650271205094L224.72727272727272,119.7628194962578L225.45454545454544,119.69695103311705L226.1818181818182,119.7484158616013L226.9090909090909,119.73572376592733L227.63636363636363,119.75195356389578L228.36363636363637,119.7473854258202L229.0909090909091,119.74440789968092L229.81818181818184,119.67771880489941L230.54545454545456,119.70552176014245L231.27272727272725,119.64141077066022L231.99999999999997,119.63438915758171L232.72727272727272,119.6682226506193L233.45454545454544,119.6750547452873L234.1818181818182,119.60516530441137L234.9090909090909,119.65386531564528L235.63636363636365,119.68043437924223L236.36363636363637,119.67864991993311L237.09090909090912,119.66427018372383L237.81818181818184,119.6156421217637L238.54545454545453,119.61322202367049L239.27272727272725,119.61945541168981L240,119.57008353855598L240.72727272727272,119.50136590902751L241.45454545454547,119.5272293175242L242.1818181818182,119.52711378162186L242.9090909090909,119.5414415824061L243.63636363636365,119.49097912463493L244.36363636363637,119.51753763966835L245.09090909090907,119.52311707456016L245.8181818181818,119.52283254070237L246.54545454545453,119.52118218231465L247.27272727272725,119.5154266620801L248,119.5450144267498L248.72727272727272,119.52877504064736L249.45454545454547,119.5276924693005L250.1818181818182,119.52112968575099L250.90909090909093,119.54471883425788L251.63636363636365,119.53581084293081L252.36363636363635,119.56373435158274L253.09090909090907,119.54675329142685L253.8181818181818,119.54644442384091L254.54545454545453,119.56876120291322L255.27272727272728,119.56676487802534L256,119.55864264117993L256.72727272727275,119.54207592323036L257.4545454545455,119.5244160049927L258.1818181818182,119.52179001717052L258.9090909090909,119.52025396335446L259.6363636363636,119.50415823119833L260.3636363636364,119.48598145581424L261.09090909090907,119.4697054723664L261.8181818181818,119.46642347651242L262.54545454545456,119.44895392804733L263.27272727272725,119.46085659582906L264,119.45712941661124L264.72727272727275,119.43851184524057L265.4545454545455,119.46905293690222L266.1818181818182,119.45858876168805L266.9090909090909,119.4417924856668L267.6363636363636,119.42271625860408L268.3636363636364,119.4136097649285L269.09090909090907,119.39663370752021L269.8181818181818,119.40090261042428L270.54545454545456,119.39636699111932L271.2727272727273,119.38580846807216L272,119.38554835994645L272.7272727272727,119.4141582439764L273.45454545454544,119.39466076095924L274.1818181818182,119.38514057969005L274.9090909090909,119.38960085196449L275.6363636363636,119.36972109722184L276.3636363636364,119.35220169418992L277.0909090909091,119.34119753516752L277.8181818181818,119.34499258493973L278.54545454545456,119.33939718611295L279.2727272727273,119.30991978606369L280,119.29810143686686L280.7272727272727,119.31376502239866L281.45454545454544,119.30109696431181L282.1818181818182,119.3044962181427L282.90909090909093,119.30813482668157L283.6363636363636,119.30363239676929L284.3636363636364,119.32449052845008L285.0909090909091,119.31424890717508L285.8181818181818,119.31418210609101L286.5454545454545,119.29607222253308L287.27272727272725,119.27685825550678L288,119.28012430991627L288.72727272727275,119.28269478261488L289.45454545454544,119.27630650970191L290.1818181818182,119.25643508615562L290.90909090909093,119.2398875990758L291.6363636363636,119.23303882732976L292.3636363636364,119.24624979208969L293.0909090909091,119.24786701110239L293.8181818181818,119.23595761817118L294.5454545454545,119.25703352351991L295.27272727272725,119.23836906314227L296,119.24303893578627L296.72727272727275,119.2591355252403L297.45454545454544,119.22988975246791L298.1818181818182,119.24222927442436L298.90909090909093,119.23723278670803L299.6363636363637,119.25288231917324L300.3636363636363,119.2551315457288L301.09090909090907,119.26704612438942L301.8181818181818,119.2322997180201L302.54545454545456,119.23366195553584L303.27272727272725,119.22348028857508L304,119.2349263653343L304.72727272727275,119.20545629623342L305.4545454545455,119.19909879596358L306.1818181818182,119.1947759743968L306.9090909090909,119.23505905103839L307.6363636363636,119.23734053758106L308.3636363636364,119.24821348519244L309.09090909090907,119.26300585246511L309.8181818181818,119.25849059771303L310.54545454545456,119.26186025260219L311.27272727272725,119.27237307772984L312,119.25615110621224L312.72727272727275,119.26518879215702L313.4545454545455,119.26697189382529L314.1818181818182,119.22744223663824L314.9090909090909,119.26125053171037L315.6363636363636,119.25654330438857L316.3636363636364,119.26396099520065L317.09090909090907,119.27374488928275L317.8181818181818,119.2718174183389L318.54545454545456,119.26686947935663L319.2727272727273,119.29989449243601L320,119.29742168341701L320.7272727272727,119.30308446638L321.45454545454544,119.3124043052021L322.1818181818182,119.2725723012888L322.9090909090909,119.26745601462683L323.6363636363636,119.28393534117615L324.3636363636364,119.28795931880371L325.0909090909091,119.28258956634615L325.8181818181818,119.31910724142298L326.54545454545456,119.290509504547L327.2727272727273,119.29927555054927L328,119.29377876812595L328.7272727272727,119.2961084395201L329.45454545454544,119.29378781016351L330.1818181818182,119.32554875426335L330.90909090909093,119.3244083340009L331.6363636363636,119.32821971935748L332.3636363636364,119.34501940107131L333.0909090909091,119.33936499901274L333.8181818181818,119.3400720074258L334.5454545454545,119.32663584877281L335.27272727272725,119.3578690312254L336,119.35445363708897L336.72727272727275,119.3485737507449L337.45454545454544,119.35635165539252L338.1818181818182,119.35921569574207L338.90909090909093,119.36554577510874L339.6363636363636,119.33582834023775L340.3636363636364,119.33924490037225L341.0909090909091,119.33887864914779L341.8181818181818,119.32503223630336L342.5454545454545,119.29484029082262L343.27272727272725,119.30996789382351L344,119.31244534093564L344.72727272727275,119.31504931008234L345.45454545454544,119.30908665771862L346.1818181818182,119.30757477209966L346.90909090909093,119.3197831130154L347.6363636363636,119.30415689983063L348.3636363636363,119.31841409346617L349.09090909090907,119.31608652352838L349.8181818181818,119.31743326749529L350.54545454545456,119.32220845181594L351.27272727272725,119.31613181099449L352,119.31430384680799L352.72727272727275,119.30002173761957L353.45454545454544,119.28137334891338L354.1818181818182,119.27803876214844L354.90909090909093,119.29353457663008L355.6363636363636,119.28985091285176L356.3636363636364,119.29814575069067L357.09090909090907,119.30401350213033L357.8181818181818,119.30151975553997L358.54545454545456,119.31393308480804L359.27272727272725,119.30352571363593L360,119.30078744191937L360.72727272727275,119.29469186009456L361.4545454545455,119.30890025687546L362.1818181818182,119.30673022159768L362.9090909090909,119.30766272535244L363.6363636363636,119.2971292652926L364.3636363636364,119.30420691952715\" stroke=\"#f58518\" stroke-width=\"2\"/></g></g><path class=\"foreground\" aria-hidden=\"true\" d=\"\" display=\"none\"/></g><g transform=\"translate(0,0)\"><path class=\"background\" aria-hidden=\"true\" d=\"M0,0h400v200h-400Z\"/><g><g class=\"mark-line role-mark marks\" role=\"graphics-object\" aria-roledescription=\"line mark container\"><path aria-label=\"n_iter: 1; loss: 0.611438633653; learner: SAL\" role=\"graphics-symbol\" aria-roledescription=\"line mark\" d=\"M0.7272727272727273,77.71227326946304L1.4545454545454546,99.26273960761284L2.181818181818182,99.49323377536665L2.909090909090909,103.50527174874868L3.6363636363636362,104.1182693439057L4.363636363636364,105.7292939258669L5.090909090909091,105.76052550254995L5.818181818181818,105.75138969885998L6.545454545454546,109.72175496516226L7.2727272727272725,110.0233696014068L8,110.0335746317872L8.727272727272728,109.9941432356176L9.454545454545455,110.06020091235457L10.181818181818182,110.00532016994573L10.909090909090908,110.10402288271904L11.636363636363637,110.52719973997026L12.363636363636363,110.95481591730953L13.090909090909092,111.23136168244692L13.818181818181818,111.62865823893418L14.545454545454545,112.1204651794229L15.272727272727273,112.34032001963206L16,112.46673551900852L16.727272727272727,112.63363116812373L17.454545454545457,112.7338284734162L18.181818181818183,112.7949859096405L18.90909090909091,112.89687906553412L19.636363636363637,112.9086440168194L20.363636363636363,112.88902844690989L21.09090909090909,112.89202573541353L21.818181818181817,112.88353209815394L22.545454545454547,112.91177872863472L23.272727272727273,112.76990502809869L24,112.65161634420116L24.727272727272727,112.53668536591721L25.454545454545453,112.29617181221658L26.181818181818183,112.05272860602258L26.90909090909091,111.93652946598287L27.636363636363637,111.84501379959839L28.363636363636363,111.72608047654924L29.09090909090909,112.00674070313656L29.818181818181817,112.0403404976388L30.545454545454547,112.0020720813895L31.272727272727273,111.88172966081117L32,111.84437369187212L32.72727272727273,111.81875932921004L33.45454545454545,111.8021258890852L34.18181818181818,111.86164211953404L34.909090909090914,111.91078471200007L35.63636363636364,111.97267603696086L36.36363636363637,112.02007894416215L37.09090909090909,112.04670035053348L37.81818181818182,111.99245972247816L38.54545454545455,111.91175416550348L39.27272727272727,111.80874660725324L40,111.72507967237712L40.72727272727273,111.67626416484904L41.45454545454545,111.82142183275184L42.18181818181818,111.86040078455324L42.90909090909091,111.85951696793761L43.63636363636363,111.84732139623262L44.36363636363637,111.83036508702158L45.09090909090909,111.81648920089933L45.81818181818182,111.806488370359L46.54545454545455,111.7966708009431L47.27272727272727,111.78687455981877L48,111.78391591678714L48.72727272727273,111.78916724267651L49.45454545454545,111.79564467787897L50.18181818181818,111.80011337493356L50.90909090909091,111.93902678230208L51.63636363636363,112.09472581834068L52.36363636363637,112.12795401336662L53.090909090909086,112.16960608308439L53.81818181818182,112.20707050511467L54.54545454545454,112.23892959659814L55.27272727272727,112.23396324824093L56.00000000000001,112.26488707649891L56.72727272727273,112.33589699432156L57.45454545454546,112.40388140713173L58.18181818181818,112.44985568685632L58.909090909090914,112.49510344216999L59.63636363636363,112.53327244430582L60.36363636363637,112.56521421149924L61.09090909090909,112.59195788133387L61.81818181818181,112.61450668066868L62.54545454545455,112.63370677756095L63.272727272727266,112.65022281183055L64,112.6645590859419L64.72727272727272,112.67770548699087L65.45454545454545,112.76691811682954L66.18181818181819,112.8112703996523L66.9090909090909,112.83564544743932L67.63636363636364,112.84393029172209L68.36363636363636,112.84628365225498L69.0909090909091,112.84643606157263L69.81818181818183,112.84748459192686L70.54545454545455,112.64944385612445L71.27272727272728,112.64421392161559L72,112.68213786395367L72.72727272727273,112.72234143919464L73.45454545454545,112.75416302837206L74.18181818181819,112.77831786771806L74.90909090909092,112.79695094771118L75.63636363636364,112.81131885806957L76.36363636363637,112.8222852410905L77.0909090909091,112.83842138921172L77.81818181818181,112.85081464581923L78.54545454545455,112.86054311878911L79.27272727272727,112.8684732756223L80,112.8750404661173L80.72727272727272,112.88049431446561L81.45454545454545,112.8849977468378L82.18181818181817,112.88866599560694L82.9090909090909,112.89158515396451L83.63636363636363,112.89382264230632L84.36363636363636,112.89543370724276L85.0909090909091,112.89646562823583L85.81818181818181,112.89696047266769L86.54545454545455,112.89695688950619L87.27272727272727,112.92681990675449L88,112.91694823319875L88.72727272727273,112.9079616353383L89.45454545454545,112.89996188029541L90.18181818181819,112.89250179266071L90.9090909090909,112.885255120395L91.63636363636364,112.8781950362419L92.36363636363636,112.87139744279422L93.0909090909091,112.86484291549712L93.81818181818183,112.85850926382093L94.54545454545455,112.85238313785709L95.27272727272728,112.8464480605309L96,112.84068277887016L96.72727272727273,112.83506357341966L97.45454545454545,112.82956703102936L98.18181818181819,112.82417220640698L98.9090909090909,112.81692634394243L99.63636363636364,112.81310110282261L100.36363636363636,112.80978948645361L101.0909090909091,112.80624145247688L101.81818181818181,112.80238336999753L102.54545454545453,112.79824152991056L103.27272727272727,112.80025119674266L104,112.77323218890041L104.72727272727273,112.77973000097785L105.45454545454544,112.79127142577244L106.18181818181817,112.80438511438497L106.9090909090909,112.82489313635769L107.63636363636364,112.82891346944663L108.36363636363637,112.82912846567967L109.09090909090908,112.83106219256709L109.81818181818181,112.88611194740723L110.54545454545455,112.9037806523371L111.27272727272728,112.91004075846058L112.00000000000001,112.91144459538232L112.72727272727272,112.91084355320464L113.45454545454545,112.90807573475492L114.18181818181819,112.90372612351125L114.90909090909092,112.84904070126545L115.63636363636363,112.81063924941239L116.36363636363636,112.7741432041486L117.0909090909091,112.7395298952832L117.81818181818183,112.70808641008787L118.54545454545456,112.68052161071786L119.27272727272727,112.65728613041537L120,112.6382141539406L120.72727272727273,112.62264264135196L121.45454545454545,112.61037833100147L122.18181818181819,112.57662292552762L122.9090909090909,112.54612734872774L123.63636363636363,112.51758409669846L124.36363636363636,112.5022027576894L125.0909090909091,112.51798086571831L125.81818181818183,112.52149479188098L126.54545454545453,112.52382239272525L127.27272727272727,112.52658291299169L128,112.53077204217361L128.72727272727275,112.53671140203623L129.45454545454544,112.55680607602696L130.1818181818182,112.57965890395418L130.9090909090909,112.6014911854298L131.63636363636363,112.62188789611187L132.36363636363637,112.64038239954164L133.0909090909091,112.65427938601431L133.8181818181818,112.66797852739936L134.54545454545453,112.57293394742388L135.27272727272728,112.55740890719561L136,112.51634569256761L136.72727272727272,112.83990059695329L137.45454545454544,113.01947151966294L138.1818181818182,113.25654892466548L138.9090909090909,113.42562351214313L139.63636363636365,113.5540172430469L140.36363636363635,113.65558254023873L141.0909090909091,113.7361036741849L141.8181818181818,113.80063521127201L142.54545454545456,113.85000072600589L143.27272727272725,113.88671898896727L144,113.91005340771602L144.72727272727272,113.92359530436175L145.45454545454547,113.93477521497827L146.1818181818182,113.94395741594514L146.9090909090909,113.94989580082597L147.63636363636363,113.95637966957524L148.36363636363637,113.95504556471003L149.0909090909091,113.95007049348536L149.81818181818184,113.94304924147873L150.54545454545453,113.93419238513458L151.27272727272728,113.92429482513661L152,113.9199867850765L152.72727272727275,113.91755557024712L153.45454545454544,113.91591489579243L154.1818181818182,113.90909327577722L154.9090909090909,113.90186926757605L155.63636363636363,113.89472033687665L156.36363636363637,113.8872574641824L157.0909090909091,113.879539065073L157.8181818181818,113.87167015558002L158.54545454545453,113.86373352138312L159.27272727272728,113.85578961868895L160,113.84918348291765L160.72727272727272,113.84299856768874L161.45454545454544,113.83637142598873L162.1818181818182,113.82937569417489L162.9090909090909,113.82226042587895L163.63636363636365,113.81518775225831L164.36363636363635,113.80825559353252L165.0909090909091,116.24688418916922L165.8181818181818,116.41853461156569L166.54545454545456,116.55112730567154L167.27272727272725,116.64785745084332L168,116.7706661048993L168.72727272727272,116.73124324297652L169.45454545454547,116.68626681628353L170.1818181818182,116.64583781957556L170.9090909090909,116.61217956867382L171.63636363636363,116.5856309939928L172.36363636363637,116.56996305019436L173.0909090909091,116.56507535197385L173.8181818181818,116.584386921045L174.54545454545453,116.60492483311629L175.27272727272728,116.51893172510701L176,116.42929144202267L176.72727272727272,116.35051602158613L177.45454545454547,116.25281830052879L178.1818181818182,116.15132345663793L178.9090909090909,116.05283444845327L179.63636363636363,115.96973627356219L180.36363636363637,115.9083506649865L181.0909090909091,115.86323218188457L181.8181818181818,115.83402802561284L182.54545454545453,115.78817913831317L183.27272727272728,115.7406335239902L184,115.69980449468144L184.72727272727272,115.66472139072728L185.45454545454544,115.63780962621686L186.1818181818182,115.61166166877466L186.9090909090909,115.58372820057905L187.63636363636365,115.56541778476104L188.36363636363635,115.54918149150954L189.0909090909091,115.53451713395364L189.8181818181818,115.52120439264453L190.54545454545456,115.50940154765121L191.27272727272728,115.51686569437898L192,115.5323065033048L192.72727272727272,115.54551866463561L193.45454545454547,115.5554774009575L194.1818181818182,115.5626309668049L194.9090909090909,115.56865221524895L195.63636363636363,115.57417590466052L196.36363636363637,115.57877327224135L197.0909090909091,115.63468249166564L197.8181818181818,115.63914438730248L198.54545454545453,115.644463249021L199.27272727272728,115.64603771105726L200,115.64405863335412L200.72727272727272,115.64163158822723L201.45454545454547,115.63868091954022L202.1818181818182,115.63543195456778L202.90909090909093,115.63226858655848L203.63636363636363,115.62926403955625L204.36363636363635,115.6282567696941L205.09090909090907,115.626789101686L205.8181818181818,115.62511021423774L206.54545454545453,115.62308974832578L207.27272727272728,115.62081970437315L208,115.61838858643117L208.72727272727275,115.61554072097854L209.45454545454547,115.60643282972336L210.18181818181822,115.60699153997578L210.90909090909088,115.59574822460701L211.63636363636363,115.5843208120024L212.36363636363635,115.57385183915136L213.0909090909091,115.56441381741796L213.8181818181818,115.5560143683012L214.54545454545456,115.56677056189923L215.27272727272728,115.56519622567585L216,115.56200335132856L216.72727272727275,115.65149960123034L217.45454545454544,115.69153811511255L218.18181818181816,115.71412847674465L218.9090909090909,115.65282580798493L219.63636363636363,115.65402383587337L220.36363636363637,115.65975660559671L221.0909090909091,115.68566800600325L221.8181818181818,115.69054313450584L222.54545454545456,115.68991995905323L223.27272727272728,115.6992747471571L224.00000000000003,115.7015739314204L224.72727272727272,115.70332726660486L225.45454545454544,115.70502609749525L226.1818181818182,115.70665145914138L226.9090909090909,115.70823148100114L227.63636363636363,115.70960754335194L228.36363636363637,115.71083368265154L229.0909090909091,115.71166503474042L229.81818181818184,115.71185849272496L230.54545454545456,115.7125980433128L231.27272727272725,115.71319053366646L231.99999999999997,115.71363824562901L232.72727272727272,115.71397048786065L233.45454545454544,115.7141601156753L234.1818181818182,115.71403701474523L234.9090909090909,115.71373114912471L235.63636363636365,115.71069110666379L236.36363636363637,115.71058009164913L237.09090909090912,115.7110166576514L237.81818181818184,115.71151514671354L238.54545454545453,115.71157562062793L239.27272727272725,115.71171585840791L240,115.71118540637512L240.72727272727272,115.71052955298468L241.45454545454547,115.7099500473779L242.1818181818182,115.70943775840728L242.9090909090909,115.70897736101962L243.63636363636365,115.70855649802338L244.36363636363637,115.70816695431434L245.09090909090907,115.70780365806112L245.8181818181818,115.70746346051357L246.54545454545453,115.70714425752091L247.27272727272725,115.70684446985342L248,115.7065627728423L248.72727272727272,115.70629797215818L249.45454545454547,115.70610765695875L250.1818181818182,115.70597387590765L250.90909090909093,115.70589013604575L251.63636363636365,115.70584995176243L252.36363636363635,115.70584721306444L253.09090909090907,115.70587725330562L253.8181818181818,115.70593477572717L254.54545454545453,115.70601522178316L255.27272727272728,115.85999508703675L256,115.94002628206242L256.72727272727275,116.00560818092687L257.4545454545455,116.05466520374898L258.1818181818182,116.09384217299348L258.9090909090909,116.12667440359292L259.6363636363636,116.12139211299082L260.3636363636364,116.12006469759154L261.09090909090907,116.11528118350867L261.8181818181818,116.11760643853306L262.54545454545456,116.11742522465143L263.27272727272725,116.11745224648206L264,116.11746407944644L264.72727272727275,117.37106512980853L265.4545454545455,117.33453637438672L266.1818181818182,117.29974521882833L266.9090909090909,117.2714112004007L267.6363636363636,117.2533885221441L268.3636363636364,117.28579274991469L269.09090909090907,117.33000188170118L269.8181818181818,117.37623789620231L270.54545454545456,117.41985455654189L271.2727272727273,117.48152237303296L272,117.52898252702772L272.7272727272727,117.56599105730297L273.45454545454544,117.59699603815692L274.1818181818182,117.61978184286576L274.9090909090909,117.63576150472939L275.6363636363636,117.64664773107884L276.3636363636364,117.65326049391427L277.0909090909091,117.65634378363043L277.8181818181818,117.6567482296452L278.54545454545456,117.65512984111228L279.2727272727273,117.65199007941072L280,117.58940123162118L280.7272727272727,117.54535911877309L281.45454545454544,117.50460596306742L282.1818181818182,117.47392190511867L282.90909090909093,117.45641407277941L283.6363636363636,117.45971732055449L284.3636363636364,117.45663899124867L285.0909090909091,117.44932330156499L285.8181818181818,117.44205358704956L286.5454545454545,117.43421667106715L287.27272727272725,117.43439557474944L288,117.45727454323698L288.72727272727275,117.46389206050283L289.45454545454544,117.46244959910901L290.1818181818182,117.45828197092105L290.90909090909093,117.4529056779102L291.6363636363636,117.44715863534256L292.3636363636364,117.44148145764642L293.0909090909091,117.4032424107796L293.8181818181818,117.37620035502405L294.5454545454545,117.35949292968209L295.27272727272725,117.35308585529678L296,117.3663971337111L296.72727272727275,117.38506383913949L297.45454545454544,117.40477262601286L298.1818181818182,117.41262607047523L298.90909090909093,117.42344504235665L299.6363636363637,117.43476877582917L300.3636363636363,117.44464969047397L301.09090909090907,117.45051150345734L301.8181818181818,117.45411824809504L302.54545454545456,117.46275335200447L303.27272727272725,117.4738940351628L304,117.4832285540369L304.72727272727275,117.49082452491557L305.4545454545455,117.49713454710667L306.1818181818182,117.50242757022806L306.9090909090909,117.50690484671489L307.6363636363636,117.5107305549564L308.3636363636364,117.51218938024692L309.09090909090907,117.5051785852617L309.8181818181818,117.49651549885849L310.54545454545456,117.49151819718864L311.27272727272725,117.48854225907563L312,117.48677010430195L312.72727272727275,117.48762049313528L313.4545454545455,117.4867660024793L314.1818181818182,117.48605187804897L314.9090909090909,117.48563054494609L315.6363636363636,117.48542504599988L316.3636363636364,117.48543209543598L317.09090909090907,117.4855231375648L317.8181818181818,117.48565306504963L318.54545454545456,117.48580814520695L319.2727272727273,117.48598201376078L320,117.48616951238375L320.7272727272727,117.48958226014938L321.45454545454544,117.48139835608491L322.1818181818182,117.48810732765813L322.9090909090909,117.49636189457374L323.6363636363636,117.50280997128L324.3636363636364,117.50865462892874L325.0909090909091,117.51015937987295L325.8181818181818,117.49924234860161L326.54545454545456,117.50651455532815L327.2727272727273,117.51273969905216L328,117.51766268968495L328.7272727272727,117.52137557113949L329.45454545454544,117.52403029279925L330.1818181818182,117.52551840028313L330.90909090909093,117.52748675946478L331.6363636363636,117.52709417163882L332.3636363636364,117.5278163207572L333.0909090909091,117.52674213896417L333.8181818181818,117.52684538763778L334.5454545454545,117.52694750475979L335.27272727272725,117.5268051172222L336,117.52478489153621L336.72727272727275,117.52344866785687L337.45454545454544,117.52206093175097L338.1818181818182,117.52053464621832L338.90909090909093,117.51892046278924L339.6363636363636,117.51720857548457L340.3636363636364,117.5151356692209L341.0909090909091,117.51334060795979L341.8181818181818,117.51164426454548L342.5454545454545,117.50999609682111L343.27272727272725,117.45011047460869L344,117.41637664194116L344.72727272727275,117.37441750694883L345.45454545454544,117.33267816879804L346.1818181818182,117.29281402362719L346.90909090909093,117.25584840801191L347.6363636363636,117.24369548960678L348.3636363636363,117.23323398145129L349.09090909090907,117.2225865482897L349.8181818181818,117.2116057826888L350.54545454545456,117.1961605657698L351.27272727272725,117.12357978108456L352,117.10190337656937L352.72727272727275,117.12363150117437L353.45454545454544,117.1472099418916L354.1818181818182,117.17847522139375L354.90909090909093,117.20389702683975L355.6363636363636,117.22571946787643L356.3636363636364,117.24471073927076L357.09090909090907,117.2645857226674L357.8181818181818,117.28180144082015L358.54545454545456,117.2947406442479L359.27272727272725,117.30419411371622L360,117.31372623786665L360.72727272727275,117.32124505650839L361.4545454545455,117.32472996710032L362.1818181818182,117.32514681853397L362.9090909090909,117.3076060664009L363.6363636363636,117.3125303247069L364.3636363636364,117.30358766444637L365.09090909090907,117.29193980980975\" stroke=\"#4c78a8\" stroke-width=\"2\"/></g></g><path class=\"foreground\" aria-hidden=\"true\" d=\"\" display=\"none\"/></g></g><g class=\"mark-group role-legend\" role=\"graphics-symbol\" aria-roledescription=\"legend\" aria-label=\"Symbol legend titled 'learner' for stroke color with 2 values: SAL, XGBoost\"><g transform=\"translate(418,0)\"><path class=\"background\" aria-hidden=\"true\" d=\"M0,0h58v40h-58Z\" pointer-events=\"none\"/><g><g class=\"mark-group role-legend-entry\"><g transform=\"translate(0,16)\"><path class=\"background\" aria-hidden=\"true\" d=\"M0,0h0v0h0Z\" pointer-events=\"none\"/><g><g class=\"mark-group role-scope\" role=\"graphics-object\" aria-roledescription=\"group mark container\"><g transform=\"translate(0,0)\"><path class=\"background\" aria-hidden=\"true\" d=\"M0,0h58v11h-58Z\" pointer-events=\"none\" opacity=\"1\"/><g><g class=\"mark-symbol role-legend-symbol\" pointer-events=\"none\"><path transform=\"translate(6,6)\" d=\"M-5,0L5,0\" stroke=\"#4c78a8\" stroke-width=\"1.5\" opacity=\"1\"/></g><g class=\"mark-text role-legend-label\" pointer-events=\"none\"><text text-anchor=\"start\" transform=\"translate(16,9)\" font-family=\"sans-serif\" font-size=\"10px\" fill=\"#000\" opacity=\"1\">SAL</text></g></g><path class=\"foreground\" aria-hidden=\"true\" d=\"\" pointer-events=\"none\" display=\"none\"/></g><g transform=\"translate(0,13)\"><path class=\"background\" aria-hidden=\"true\" d=\"M0,0h58v11h-58Z\" pointer-events=\"none\" opacity=\"1\"/><g><g class=\"mark-symbol role-legend-symbol\" pointer-events=\"none\"><path transform=\"translate(6,6)\" d=\"M-5,0L5,0\" stroke=\"#f58518\" stroke-width=\"1.5\" opacity=\"1\"/></g><g class=\"mark-text role-legend-label\" pointer-events=\"none\"><text text-anchor=\"start\" transform=\"translate(16,9)\" font-family=\"sans-serif\" font-size=\"10px\" fill=\"#000\" opacity=\"1\">XGBoost</text></g></g><path class=\"foreground\" aria-hidden=\"true\" d=\"\" pointer-events=\"none\" display=\"none\"/></g></g></g><path class=\"foreground\" aria-hidden=\"true\" d=\"\" pointer-events=\"none\" display=\"none\"/></g></g><g class=\"mark-text role-legend-title\" pointer-events=\"none\"><text text-anchor=\"start\" transform=\"translate(0,9)\" font-family=\"sans-serif\" font-size=\"11px\" font-weight=\"bold\" fill=\"#000\" opacity=\"1\">learner</text></g></g><path class=\"foreground\" aria-hidden=\"true\" d=\"\" pointer-events=\"none\" display=\"none\"/></g></g></g><path class=\"foreground\" aria-hidden=\"true\" d=\"\" display=\"none\"/></g></g></g></svg>\n"
      ],
      "text/plain": [
       "@vlplot(\n",
       "    width=400,\n",
       "    height=200,\n",
       "    mark=\"line\",\n",
       "    encoding={\n",
       "        x={\n",
       "            field=\"n_iter\"\n",
       "        },\n",
       "        y={\n",
       "            field=\"loss\"\n",
       "        },\n",
       "        color={\n",
       "            field=\"learner\"\n",
       "        }\n",
       "    },\n",
       "    data={\n",
       "        values=...\n",
       "    }\n",
       ")"
      ]
     },
     "execution_count": 15,
     "metadata": {},
     "output_type": "execute_result"
    }
   ],
   "source": [
    "df = vcat(df_xgb, df_sal);\n",
    "df |>\n",
    "@vlplot(\n",
    "    :line,\n",
    "    x=:n_iter,\n",
    "    y=:loss,\n",
    "    color=:learner,\n",
    "    width=400,\n",
    "    height=200\n",
    ")"
   ]
  },
  {
   "cell_type": "code",
   "execution_count": null,
   "id": "19087454-d6dd-4608-affb-8f4c4f7a5457",
   "metadata": {},
   "outputs": [],
   "source": []
  }
 ],
 "metadata": {
  "kernelspec": {
   "display_name": "Julia 1.6.3",
   "language": "julia",
   "name": "julia-1.6"
  },
  "language_info": {
   "file_extension": ".jl",
   "mimetype": "application/julia",
   "name": "julia",
   "version": "1.6.3"
  }
 },
 "nbformat": 4,
 "nbformat_minor": 5
}
