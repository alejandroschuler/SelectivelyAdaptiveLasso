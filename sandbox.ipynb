{
 "cells": [
  {
   "cell_type": "code",
   "execution_count": 1,
   "id": "0a0b8858-e530-4f24-979a-eda8295481ff",
   "metadata": {},
   "outputs": [
    {
     "name": "stderr",
     "output_type": "stream",
     "text": [
      "\u001b[32m\u001b[1m  Activating\u001b[22m\u001b[39m environment at `~/Desktop/SelectivelyAdaptiveLasso/Project.toml`\n"
     ]
    }
   ],
   "source": [
    "using Pkg, Revise\n",
    "Pkg.activate(\".\")"
   ]
  },
  {
   "cell_type": "code",
   "execution_count": 45,
   "id": "a09dbc3e-3d62-42ec-9ae3-cb4bdb156b4e",
   "metadata": {},
   "outputs": [],
   "source": [
    "using CSV"
   ]
  },
  {
   "cell_type": "code",
   "execution_count": 80,
   "id": "1b977ebc-9446-4b7e-a633-170dd9e79be3",
   "metadata": {},
   "outputs": [],
   "source": [
    "data = CSV.read(open(\"/Users/aschuler/Downloads/winequality-red.csv\"), DataFrame, copycols=true)\n",
    "Y = float(data.quality)\n",
    "Y = Y .- mean(Y)\n",
    "X = Matrix(data[:,[var for var in names(data) if var ≠ \"quality\"]]);\n",
    "\n",
    "n_val = Int(round(length(Y)/2))\n",
    "X_val, Y_val = X[1:n_val,:], Y[1:n_val]\n",
    "X, Y = X[(n_val+1):end,:], Y[(n_val+1):end];"
   ]
  },
  {
   "cell_type": "code",
   "execution_count": 2,
   "id": "8ba0fa83-d553-403f-abb5-6756201e836a",
   "metadata": {},
   "outputs": [],
   "source": [
    "using VegaLite, DataFrames"
   ]
  },
  {
   "cell_type": "code",
   "execution_count": 3,
   "id": "ca93938e-0ecf-44fe-983f-95d7060797c8",
   "metadata": {},
   "outputs": [],
   "source": [
    "import Statistics: mean\n",
    "import Distributions as Dist\n",
    "import LinearAlgebra: diagm\n",
    "\n",
    "n, p = 5000, 10\n",
    "\n",
    "X_dist = Dist.reshape(\n",
    "    Dist.MvNormal(zeros(p), 0.1ones(p,p) + 0.9diagm(ones(p))), \n",
    "    (1,p)\n",
    ")\n",
    "ϵ_dist = Dist.Normal(0,1)\n",
    "\n",
    "X = vcat(rand(X_dist, n)...)\n",
    "ϵ = rand(ϵ_dist, n)\n",
    "\n",
    "Y = 5X[:,1] + X[:,2].^2 - 3X[:,3].*X[:,4] + ϵ\n",
    "Y = Y .- mean(Y)\n",
    "\n",
    "n_val = Int(round(n/2))\n",
    "X_val, Y_val = X[1:n_val,:], Y[1:n_val]\n",
    "X, Y = X[(n_val+1):end,:], Y[(n_val+1):end];"
   ]
  },
  {
   "cell_type": "markdown",
   "id": "98fd4c13-8f3e-475a-b8e1-218be54c9530",
   "metadata": {},
   "source": [
    "# xgboost"
   ]
  },
  {
   "cell_type": "code",
   "execution_count": 4,
   "id": "ed9036c3-17ef-4718-9b8f-a6a42cd0ca22",
   "metadata": {},
   "outputs": [],
   "source": [
    "using XGBoost"
   ]
  },
  {
   "cell_type": "code",
   "execution_count": 81,
   "id": "36c88d86-4ab5-4a47-bf31-18a880f0d502",
   "metadata": {
    "collapsed": true,
    "jupyter": {
     "outputs_hidden": true
    },
    "tags": []
   },
   "outputs": [
    {
     "name": "stderr",
     "output_type": "stream",
     "text": [
      "[1]\ttrain-rmse:0.928552\n",
      "[2]\ttrain-rmse:0.924153\n",
      "[3]\ttrain-rmse:0.919854\n",
      "[4]\ttrain-rmse:0.915585\n",
      "[5]\ttrain-rmse:0.911371\n",
      "[6]\ttrain-rmse:0.907255\n",
      "[7]\ttrain-rmse:0.903193\n",
      "[8]\ttrain-rmse:0.899157\n",
      "[9]\ttrain-rmse:0.894977\n",
      "[10]\ttrain-rmse:0.891051\n",
      "[11]\ttrain-rmse:0.886982\n",
      "[12]\ttrain-rmse:0.883125\n",
      "[13]\ttrain-rmse:0.879164\n",
      "[14]\ttrain-rmse:0.875470\n",
      "[15]\ttrain-rmse:0.871611\n",
      "[16]\ttrain-rmse:0.867981\n",
      "[17]\ttrain-rmse:0.864223\n",
      "[18]\ttrain-rmse:0.860653\n",
      "[19]\ttrain-rmse:0.856994\n",
      "[20]\ttrain-rmse:0.853527\n",
      "[21]\ttrain-rmse:0.850103\n",
      "[22]\ttrain-rmse:0.846583\n",
      "[23]\ttrain-rmse:0.843263\n",
      "[24]\ttrain-rmse:0.839757\n",
      "[25]\ttrain-rmse:0.836425\n",
      "[26]\ttrain-rmse:0.833088\n",
      "[27]\ttrain-rmse:0.829929\n",
      "[28]\ttrain-rmse:0.826584\n",
      "[29]\ttrain-rmse:0.823502\n",
      "[30]\ttrain-rmse:0.820265\n",
      "[31]\ttrain-rmse:0.817122\n",
      "[32]\ttrain-rmse:0.814162\n",
      "[33]\ttrain-rmse:0.811053\n",
      "[34]\ttrain-rmse:0.808179\n",
      "[35]\ttrain-rmse:0.805193\n",
      "[36]\ttrain-rmse:0.802299\n",
      "[37]\ttrain-rmse:0.799537\n",
      "[38]\ttrain-rmse:0.796605\n",
      "[39]\ttrain-rmse:0.793749\n",
      "[40]\ttrain-rmse:0.791065\n",
      "[41]\ttrain-rmse:0.788267\n",
      "[42]\ttrain-rmse:0.785602\n",
      "[43]\ttrain-rmse:0.782863\n",
      "[44]\ttrain-rmse:0.780345\n",
      "[45]\ttrain-rmse:0.777702\n",
      "[46]\ttrain-rmse:0.775090\n",
      "[47]\ttrain-rmse:0.772656\n",
      "[48]\ttrain-rmse:0.770168\n",
      "[49]\ttrain-rmse:0.767724\n",
      "[50]\ttrain-rmse:0.765239\n",
      "[51]\ttrain-rmse:0.762930\n",
      "[52]\ttrain-rmse:0.760456\n",
      "[53]\ttrain-rmse:0.758099\n",
      "[54]\ttrain-rmse:0.755854\n",
      "[55]\ttrain-rmse:0.753645\n",
      "[56]\ttrain-rmse:0.751272\n",
      "[57]\ttrain-rmse:0.749076\n",
      "[58]\ttrain-rmse:0.746770\n",
      "[59]\ttrain-rmse:0.744684\n",
      "[60]\ttrain-rmse:0.742474\n",
      "[61]\ttrain-rmse:0.740440\n",
      "[62]\ttrain-rmse:0.738254\n",
      "[63]\ttrain-rmse:0.736275\n",
      "[64]\ttrain-rmse:0.734142\n",
      "[65]\ttrain-rmse:0.732167\n",
      "[66]\ttrain-rmse:0.730092\n",
      "[67]\ttrain-rmse:0.728217\n",
      "[68]\ttrain-rmse:0.726193\n",
      "[69]\ttrain-rmse:0.724236\n",
      "[70]\ttrain-rmse:0.722417\n",
      "[71]\ttrain-rmse:0.720514\n",
      "[72]\ttrain-rmse:0.718761\n",
      "[73]\ttrain-rmse:0.716866\n",
      "[74]\ttrain-rmse:0.715041\n",
      "[75]\ttrain-rmse:0.713220\n",
      "[76]\ttrain-rmse:0.711558\n",
      "[77]\ttrain-rmse:0.709762\n",
      "[78]\ttrain-rmse:0.708032\n",
      "[79]\ttrain-rmse:0.706421\n",
      "[80]\ttrain-rmse:0.704697\n",
      "[81]\ttrain-rmse:0.703036\n",
      "[82]\ttrain-rmse:0.701500\n",
      "[83]\ttrain-rmse:0.699887\n",
      "[84]\ttrain-rmse:0.698379\n",
      "[85]\ttrain-rmse:0.696762\n",
      "[86]\ttrain-rmse:0.695293\n",
      "[87]\ttrain-rmse:0.693690\n",
      "[88]\ttrain-rmse:0.692182\n",
      "[89]\ttrain-rmse:0.690755\n",
      "[90]\ttrain-rmse:0.689291\n",
      "[91]\ttrain-rmse:0.687795\n",
      "[92]\ttrain-rmse:0.686333\n",
      "[93]\ttrain-rmse:0.684923\n",
      "[94]\ttrain-rmse:0.683603\n",
      "[95]\ttrain-rmse:0.682234\n",
      "[96]\ttrain-rmse:0.680961\n",
      "[97]\ttrain-rmse:0.679674\n",
      "[98]\ttrain-rmse:0.678304\n",
      "[99]\ttrain-rmse:0.677065\n",
      "[100]\ttrain-rmse:0.675778\n",
      "[101]\ttrain-rmse:0.674455\n",
      "[102]\ttrain-rmse:0.673280\n",
      "[103]\ttrain-rmse:0.672041\n",
      "[104]\ttrain-rmse:0.670770\n",
      "[105]\ttrain-rmse:0.669547\n",
      "[106]\ttrain-rmse:0.668338\n",
      "[107]\ttrain-rmse:0.667165\n",
      "[108]\ttrain-rmse:0.665952\n",
      "[109]\ttrain-rmse:0.664805\n",
      "[110]\ttrain-rmse:0.663743\n",
      "[111]\ttrain-rmse:0.662571\n",
      "[112]\ttrain-rmse:0.661390\n",
      "[113]\ttrain-rmse:0.660211\n",
      "[114]\ttrain-rmse:0.659116\n",
      "[115]\ttrain-rmse:0.657976\n",
      "[116]\ttrain-rmse:0.656837\n",
      "[117]\ttrain-rmse:0.655727\n",
      "[118]\ttrain-rmse:0.654617\n",
      "[119]\ttrain-rmse:0.653550\n",
      "[120]\ttrain-rmse:0.652480\n",
      "[121]\ttrain-rmse:0.651409\n",
      "[122]\ttrain-rmse:0.650406\n",
      "[123]\ttrain-rmse:0.649372\n",
      "[124]\ttrain-rmse:0.648337\n",
      "[125]\ttrain-rmse:0.647332\n",
      "[126]\ttrain-rmse:0.646328\n",
      "[127]\ttrain-rmse:0.645327\n",
      "[128]\ttrain-rmse:0.644388\n",
      "[129]\ttrain-rmse:0.643440\n",
      "[130]\ttrain-rmse:0.642442\n",
      "[131]\ttrain-rmse:0.641499\n",
      "[132]\ttrain-rmse:0.640527\n",
      "[133]\ttrain-rmse:0.639543\n",
      "[134]\ttrain-rmse:0.638644\n",
      "[135]\ttrain-rmse:0.637705\n",
      "[136]\ttrain-rmse:0.636819\n",
      "[137]\ttrain-rmse:0.635907\n",
      "[138]\ttrain-rmse:0.635039\n",
      "[139]\ttrain-rmse:0.634152\n",
      "[140]\ttrain-rmse:0.633325\n",
      "[141]\ttrain-rmse:0.632443\n",
      "[142]\ttrain-rmse:0.631577\n",
      "[143]\ttrain-rmse:0.630732\n",
      "[144]\ttrain-rmse:0.629949\n",
      "[145]\ttrain-rmse:0.629112\n",
      "[146]\ttrain-rmse:0.628317\n",
      "[147]\ttrain-rmse:0.627552\n",
      "[148]\ttrain-rmse:0.626734\n",
      "[149]\ttrain-rmse:0.625946\n",
      "[150]\ttrain-rmse:0.625193\n",
      "[151]\ttrain-rmse:0.624426\n",
      "[152]\ttrain-rmse:0.623599\n",
      "[153]\ttrain-rmse:0.622871\n",
      "[154]\ttrain-rmse:0.622141\n",
      "[155]\ttrain-rmse:0.621444\n",
      "[156]\ttrain-rmse:0.620678\n",
      "[157]\ttrain-rmse:0.619965\n",
      "[158]\ttrain-rmse:0.619241\n",
      "[159]\ttrain-rmse:0.618582\n",
      "[160]\ttrain-rmse:0.617904\n",
      "[161]\ttrain-rmse:0.617133\n",
      "[162]\ttrain-rmse:0.616434\n",
      "[163]\ttrain-rmse:0.615802\n",
      "[164]\ttrain-rmse:0.615155\n",
      "[165]\ttrain-rmse:0.614436\n",
      "[166]\ttrain-rmse:0.613763\n",
      "[167]\ttrain-rmse:0.613088\n",
      "[168]\ttrain-rmse:0.612492\n",
      "[169]\ttrain-rmse:0.611799\n",
      "[170]\ttrain-rmse:0.611152\n",
      "[171]\ttrain-rmse:0.610575\n",
      "[172]\ttrain-rmse:0.609932\n",
      "[173]\ttrain-rmse:0.609227\n",
      "[174]\ttrain-rmse:0.608602\n",
      "[175]\ttrain-rmse:0.608047\n",
      "[176]\ttrain-rmse:0.607437\n",
      "[177]\ttrain-rmse:0.606784\n",
      "[178]\ttrain-rmse:0.606123\n",
      "[179]\ttrain-rmse:0.605524\n",
      "[180]\ttrain-rmse:0.604889\n",
      "[181]\ttrain-rmse:0.604308\n",
      "[182]\ttrain-rmse:0.603674\n",
      "[183]\ttrain-rmse:0.603110\n",
      "[184]\ttrain-rmse:0.602540\n",
      "[185]\ttrain-rmse:0.602031\n",
      "[186]\ttrain-rmse:0.601416\n",
      "[187]\ttrain-rmse:0.600862\n",
      "[188]\ttrain-rmse:0.600262\n",
      "[189]\ttrain-rmse:0.599666\n",
      "[190]\ttrain-rmse:0.599081\n",
      "[191]\ttrain-rmse:0.598564\n",
      "[192]\ttrain-rmse:0.597941\n",
      "[193]\ttrain-rmse:0.597436\n",
      "[194]\ttrain-rmse:0.596871\n",
      "[195]\ttrain-rmse:0.596355\n",
      "[196]\ttrain-rmse:0.595867\n",
      "[197]\ttrain-rmse:0.595401\n",
      "[198]\ttrain-rmse:0.594924\n",
      "[199]\ttrain-rmse:0.594468\n",
      "[200]\ttrain-rmse:0.593975\n",
      "[201]\ttrain-rmse:0.593469\n",
      "[202]\ttrain-rmse:0.592929\n",
      "[203]\ttrain-rmse:0.592484\n",
      "[204]\ttrain-rmse:0.591951\n",
      "[205]\ttrain-rmse:0.591431\n",
      "[206]\ttrain-rmse:0.591001\n",
      "[207]\ttrain-rmse:0.590520\n",
      "[208]\ttrain-rmse:0.590015\n",
      "[209]\ttrain-rmse:0.589548\n",
      "[210]\ttrain-rmse:0.589114\n",
      "[211]\ttrain-rmse:0.588644\n",
      "[212]\ttrain-rmse:0.588247\n",
      "[213]\ttrain-rmse:0.587759\n",
      "[214]\ttrain-rmse:0.587363\n",
      "[215]\ttrain-rmse:0.586871\n",
      "[216]\ttrain-rmse:0.586420\n",
      "[217]\ttrain-rmse:0.585976\n",
      "[218]\ttrain-rmse:0.585535\n",
      "[219]\ttrain-rmse:0.585155\n",
      "[220]\ttrain-rmse:0.584786\n",
      "[221]\ttrain-rmse:0.584331\n",
      "[222]\ttrain-rmse:0.583963\n",
      "[223]\ttrain-rmse:0.583539\n",
      "[224]\ttrain-rmse:0.583059\n",
      "[225]\ttrain-rmse:0.582702\n",
      "[226]\ttrain-rmse:0.582241\n",
      "[227]\ttrain-rmse:0.581892\n",
      "[228]\ttrain-rmse:0.581441\n",
      "[229]\ttrain-rmse:0.581150\n",
      "[230]\ttrain-rmse:0.580722\n",
      "[231]\ttrain-rmse:0.580321\n",
      "[232]\ttrain-rmse:0.579866\n",
      "[233]\ttrain-rmse:0.579534\n",
      "[234]\ttrain-rmse:0.579066\n",
      "[235]\ttrain-rmse:0.578764\n",
      "[236]\ttrain-rmse:0.578239\n",
      "[237]\ttrain-rmse:0.577781\n",
      "[238]\ttrain-rmse:0.577458\n",
      "[239]\ttrain-rmse:0.577187\n",
      "[240]\ttrain-rmse:0.576802\n",
      "[241]\ttrain-rmse:0.576337\n",
      "[242]\ttrain-rmse:0.575829\n",
      "[243]\ttrain-rmse:0.575329\n",
      "[244]\ttrain-rmse:0.575067\n",
      "[245]\ttrain-rmse:0.574576\n",
      "[246]\ttrain-rmse:0.574190\n",
      "[247]\ttrain-rmse:0.573742\n",
      "[248]\ttrain-rmse:0.573298\n",
      "[249]\ttrain-rmse:0.572875\n",
      "[250]\ttrain-rmse:0.572502\n",
      "[251]\ttrain-rmse:0.572250\n",
      "[252]\ttrain-rmse:0.571780\n",
      "[253]\ttrain-rmse:0.571389\n",
      "[254]\ttrain-rmse:0.570963\n",
      "[255]\ttrain-rmse:0.570614\n",
      "[256]\ttrain-rmse:0.570188\n",
      "[257]\ttrain-rmse:0.569735\n",
      "[258]\ttrain-rmse:0.569407\n",
      "[259]\ttrain-rmse:0.569052\n",
      "[260]\ttrain-rmse:0.568812\n",
      "[261]\ttrain-rmse:0.568403\n",
      "[262]\ttrain-rmse:0.568055\n",
      "[263]\ttrain-rmse:0.567648\n",
      "[264]\ttrain-rmse:0.567212\n",
      "[265]\ttrain-rmse:0.566813\n",
      "[266]\ttrain-rmse:0.566436\n",
      "[267]\ttrain-rmse:0.566157\n",
      "[268]\ttrain-rmse:0.565883\n",
      "[269]\ttrain-rmse:0.565506\n",
      "[270]\ttrain-rmse:0.565176\n",
      "[271]\ttrain-rmse:0.564869\n",
      "[272]\ttrain-rmse:0.564451\n",
      "[273]\ttrain-rmse:0.564090\n",
      "[274]\ttrain-rmse:0.563731\n",
      "[275]\ttrain-rmse:0.563424\n",
      "[276]\ttrain-rmse:0.563048\n",
      "[277]\ttrain-rmse:0.562697\n",
      "[278]\ttrain-rmse:0.562347\n",
      "[279]\ttrain-rmse:0.562011\n",
      "[280]\ttrain-rmse:0.561645\n",
      "[281]\ttrain-rmse:0.561304\n",
      "[282]\ttrain-rmse:0.560892\n",
      "[283]\ttrain-rmse:0.560564\n",
      "[284]\ttrain-rmse:0.560217\n",
      "[285]\ttrain-rmse:0.559911\n",
      "[286]\ttrain-rmse:0.559622\n",
      "[287]\ttrain-rmse:0.559218\n",
      "[288]\ttrain-rmse:0.558917\n",
      "[289]\ttrain-rmse:0.558521\n",
      "[290]\ttrain-rmse:0.558182\n",
      "[291]\ttrain-rmse:0.557756\n",
      "[292]\ttrain-rmse:0.557411\n",
      "[293]\ttrain-rmse:0.557080\n",
      "[294]\ttrain-rmse:0.556723\n",
      "[295]\ttrain-rmse:0.556399\n",
      "[296]\ttrain-rmse:0.556012\n",
      "[297]\ttrain-rmse:0.555533\n",
      "[298]\ttrain-rmse:0.555287\n",
      "[299]\ttrain-rmse:0.554961\n",
      "[300]\ttrain-rmse:0.554646\n",
      "[301]\ttrain-rmse:0.554327\n",
      "[302]\ttrain-rmse:0.554080\n",
      "[303]\ttrain-rmse:0.553797\n",
      "[304]\ttrain-rmse:0.553460\n",
      "[305]\ttrain-rmse:0.552960\n",
      "[306]\ttrain-rmse:0.552641\n",
      "[307]\ttrain-rmse:0.552400\n",
      "[308]\ttrain-rmse:0.552073\n",
      "[309]\ttrain-rmse:0.551836\n",
      "[310]\ttrain-rmse:0.551531\n",
      "[311]\ttrain-rmse:0.551259\n",
      "[312]\ttrain-rmse:0.550809\n",
      "[313]\ttrain-rmse:0.550544\n",
      "[314]\ttrain-rmse:0.550313\n",
      "[315]\ttrain-rmse:0.549836\n",
      "[316]\ttrain-rmse:0.549540\n",
      "[317]\ttrain-rmse:0.549304\n",
      "[318]\ttrain-rmse:0.549003\n",
      "[319]\ttrain-rmse:0.548693\n",
      "[320]\ttrain-rmse:0.548468\n",
      "[321]\ttrain-rmse:0.548236\n",
      "[322]\ttrain-rmse:0.547949\n",
      "[323]\ttrain-rmse:0.547689\n",
      "[324]\ttrain-rmse:0.547462\n",
      "[325]\ttrain-rmse:0.547193\n",
      "[326]\ttrain-rmse:0.546768\n",
      "[327]\ttrain-rmse:0.546497\n",
      "[328]\ttrain-rmse:0.546233\n",
      "[329]\ttrain-rmse:0.546010\n",
      "[330]\ttrain-rmse:0.545745\n",
      "[331]\ttrain-rmse:0.545472\n",
      "[332]\ttrain-rmse:0.545254\n",
      "[333]\ttrain-rmse:0.544982\n",
      "[334]\ttrain-rmse:0.544731\n",
      "[335]\ttrain-rmse:0.544473\n",
      "[336]\ttrain-rmse:0.544262\n",
      "[337]\ttrain-rmse:0.544049\n",
      "[338]\ttrain-rmse:0.543748\n",
      "[339]\ttrain-rmse:0.543439\n",
      "[340]\ttrain-rmse:0.542995\n",
      "[341]\ttrain-rmse:0.542790\n",
      "[342]\ttrain-rmse:0.542553\n",
      "[343]\ttrain-rmse:0.542258\n",
      "[344]\ttrain-rmse:0.541825\n",
      "[345]\ttrain-rmse:0.541577\n",
      "[346]\ttrain-rmse:0.541298\n",
      "[347]\ttrain-rmse:0.541098\n",
      "[348]\ttrain-rmse:0.540870\n",
      "[349]\ttrain-rmse:0.540563\n",
      "[350]\ttrain-rmse:0.540367\n",
      "[351]\ttrain-rmse:0.540082\n",
      "[352]\ttrain-rmse:0.539664\n",
      "[353]\ttrain-rmse:0.539451\n",
      "[354]\ttrain-rmse:0.539229\n",
      "[355]\ttrain-rmse:0.538950\n",
      "[356]\ttrain-rmse:0.538655\n",
      "[357]\ttrain-rmse:0.538407\n",
      "[358]\ttrain-rmse:0.538189\n",
      "[359]\ttrain-rmse:0.537946\n",
      "[360]\ttrain-rmse:0.537673\n",
      "[361]\ttrain-rmse:0.537300\n",
      "[362]\ttrain-rmse:0.537115\n",
      "[363]\ttrain-rmse:0.536847\n",
      "[364]\ttrain-rmse:0.536635\n",
      "[365]\ttrain-rmse:0.536404\n",
      "[366]\ttrain-rmse:0.536151\n",
      "[367]\ttrain-rmse:0.535915\n",
      "[368]\ttrain-rmse:0.535708\n",
      "[369]\ttrain-rmse:0.535459\n",
      "[370]\ttrain-rmse:0.535227\n",
      "[371]\ttrain-rmse:0.535041\n",
      "[372]\ttrain-rmse:0.534782\n",
      "[373]\ttrain-rmse:0.534390\n",
      "[374]\ttrain-rmse:0.534135\n",
      "[375]\ttrain-rmse:0.533913\n",
      "[376]\ttrain-rmse:0.533714\n",
      "[377]\ttrain-rmse:0.533473\n",
      "[378]\ttrain-rmse:0.533281\n",
      "[379]\ttrain-rmse:0.533086\n",
      "[380]\ttrain-rmse:0.532862\n",
      "[381]\ttrain-rmse:0.532627\n",
      "[382]\ttrain-rmse:0.532449\n",
      "[383]\ttrain-rmse:0.532202\n",
      "[384]\ttrain-rmse:0.532026\n",
      "[385]\ttrain-rmse:0.531648\n",
      "[386]\ttrain-rmse:0.531405\n",
      "[387]\ttrain-rmse:0.531034\n",
      "[388]\ttrain-rmse:0.530849\n",
      "[389]\ttrain-rmse:0.530660\n",
      "[390]\ttrain-rmse:0.530373\n",
      "[391]\ttrain-rmse:0.530160\n",
      "[392]\ttrain-rmse:0.529935\n",
      "[393]\ttrain-rmse:0.529709\n",
      "[394]\ttrain-rmse:0.529495\n",
      "[395]\ttrain-rmse:0.529164\n",
      "[396]\ttrain-rmse:0.528981\n",
      "[397]\ttrain-rmse:0.528803\n",
      "[398]\ttrain-rmse:0.528522\n",
      "[399]\ttrain-rmse:0.528197\n",
      "[400]\ttrain-rmse:0.527990\n",
      "[401]\ttrain-rmse:0.527714\n",
      "[402]\ttrain-rmse:0.527583\n",
      "[403]\ttrain-rmse:0.527361\n",
      "[404]\ttrain-rmse:0.527146\n",
      "[405]\ttrain-rmse:0.526942\n",
      "[406]\ttrain-rmse:0.526761\n",
      "[407]\ttrain-rmse:0.526516\n",
      "[408]\ttrain-rmse:0.526271\n",
      "[409]\ttrain-rmse:0.526028\n",
      "[410]\ttrain-rmse:0.525901\n",
      "[411]\ttrain-rmse:0.525556\n",
      "[412]\ttrain-rmse:0.525316\n",
      "[413]\ttrain-rmse:0.525078\n",
      "[414]\ttrain-rmse:0.524954\n",
      "[415]\ttrain-rmse:0.524791\n",
      "[416]\ttrain-rmse:0.524576\n",
      "[417]\ttrain-rmse:0.524370\n",
      "[418]\ttrain-rmse:0.524248\n",
      "[419]\ttrain-rmse:0.524013\n",
      "[420]\ttrain-rmse:0.523680\n",
      "[421]\ttrain-rmse:0.523457\n",
      "[422]\ttrain-rmse:0.523249\n",
      "[423]\ttrain-rmse:0.523021\n",
      "[424]\ttrain-rmse:0.522903\n",
      "[425]\ttrain-rmse:0.522670\n",
      "[426]\ttrain-rmse:0.522452\n",
      "[427]\ttrain-rmse:0.522230\n",
      "[428]\ttrain-rmse:0.522113\n",
      "[429]\ttrain-rmse:0.521789\n",
      "[430]\ttrain-rmse:0.521598\n",
      "[431]\ttrain-rmse:0.521390\n",
      "[432]\ttrain-rmse:0.521100\n",
      "[433]\ttrain-rmse:0.520899\n",
      "[434]\ttrain-rmse:0.520686\n",
      "[435]\ttrain-rmse:0.520441\n",
      "[436]\ttrain-rmse:0.520327\n",
      "[437]\ttrain-rmse:0.520014\n",
      "[438]\ttrain-rmse:0.519806\n",
      "[439]\ttrain-rmse:0.519607\n",
      "[440]\ttrain-rmse:0.519379\n",
      "[441]\ttrain-rmse:0.519140\n",
      "[442]\ttrain-rmse:0.519028\n",
      "[443]\ttrain-rmse:0.518746\n",
      "[444]\ttrain-rmse:0.518543\n",
      "[445]\ttrain-rmse:0.518308\n",
      "[446]\ttrain-rmse:0.518074\n",
      "[447]\ttrain-rmse:0.517875\n",
      "[448]\ttrain-rmse:0.517681\n",
      "[449]\ttrain-rmse:0.517383\n",
      "[450]\ttrain-rmse:0.517273\n",
      "[451]\ttrain-rmse:0.517078\n",
      "[452]\ttrain-rmse:0.516848\n",
      "[453]\ttrain-rmse:0.516593\n",
      "[454]\ttrain-rmse:0.516293\n",
      "[455]\ttrain-rmse:0.516184\n",
      "[456]\ttrain-rmse:0.516021\n",
      "[457]\ttrain-rmse:0.515912\n",
      "[458]\ttrain-rmse:0.515720\n",
      "[459]\ttrain-rmse:0.515497\n",
      "[460]\ttrain-rmse:0.515367\n",
      "[461]\ttrain-rmse:0.515177\n",
      "[462]\ttrain-rmse:0.514878\n",
      "[463]\ttrain-rmse:0.514690\n",
      "[464]\ttrain-rmse:0.514586\n",
      "[465]\ttrain-rmse:0.514419\n",
      "[466]\ttrain-rmse:0.514214\n",
      "[467]\ttrain-rmse:0.513928\n",
      "[468]\ttrain-rmse:0.513790\n",
      "[469]\ttrain-rmse:0.513539\n",
      "[470]\ttrain-rmse:0.513412\n",
      "[471]\ttrain-rmse:0.513131\n",
      "[472]\ttrain-rmse:0.513029\n",
      "[473]\ttrain-rmse:0.512866\n",
      "[474]\ttrain-rmse:0.512732\n",
      "[475]\ttrain-rmse:0.512549\n",
      "[476]\ttrain-rmse:0.512435\n",
      "[477]\ttrain-rmse:0.512243\n",
      "[478]\ttrain-rmse:0.511958\n",
      "[479]\ttrain-rmse:0.511859\n",
      "[480]\ttrain-rmse:0.511746\n",
      "[481]\ttrain-rmse:0.511586\n",
      "[482]\ttrain-rmse:0.511435\n",
      "[483]\ttrain-rmse:0.511256\n",
      "[484]\ttrain-rmse:0.511145\n",
      "[485]\ttrain-rmse:0.511023\n",
      "[486]\ttrain-rmse:0.510753\n",
      "[487]\ttrain-rmse:0.510535\n",
      "[488]\ttrain-rmse:0.510438\n",
      "[489]\ttrain-rmse:0.510352\n",
      "[490]\ttrain-rmse:0.510159\n",
      "[491]\ttrain-rmse:0.510065\n",
      "[492]\ttrain-rmse:0.509956\n",
      "[493]\ttrain-rmse:0.509862\n",
      "[494]\ttrain-rmse:0.509589\n",
      "[495]\ttrain-rmse:0.509353\n",
      "[496]\ttrain-rmse:0.509177\n",
      "[497]\ttrain-rmse:0.509084\n",
      "[498]\ttrain-rmse:0.508977\n",
      "[499]\ttrain-rmse:0.508823\n",
      "[500]\ttrain-rmse:0.508643\n",
      "[501]\ttrain-rmse:0.508553\n",
      "[502]\ttrain-rmse:0.508366\n",
      "[503]\ttrain-rmse:0.508284\n",
      "[504]\ttrain-rmse:0.508195\n",
      "[505]\ttrain-rmse:0.507937\n",
      "[506]\ttrain-rmse:0.507848\n",
      "[507]\ttrain-rmse:0.507742\n",
      "[508]\ttrain-rmse:0.507534\n",
      "[509]\ttrain-rmse:0.507362\n",
      "[510]\ttrain-rmse:0.507275\n",
      "[511]\ttrain-rmse:0.507092\n",
      "[512]\ttrain-rmse:0.506989\n",
      "[513]\ttrain-rmse:0.506820\n",
      "[514]\ttrain-rmse:0.506639\n",
      "[515]\ttrain-rmse:0.506539\n",
      "[516]\ttrain-rmse:0.506389\n",
      "[517]\ttrain-rmse:0.506275\n",
      "[518]\ttrain-rmse:0.506014\n",
      "[519]\ttrain-rmse:0.505790\n",
      "[520]\ttrain-rmse:0.505705\n",
      "[521]\ttrain-rmse:0.505540\n",
      "[522]\ttrain-rmse:0.505438\n",
      "[523]\ttrain-rmse:0.505293\n",
      "[524]\ttrain-rmse:0.505044\n",
      "[525]\ttrain-rmse:0.504961\n",
      "[526]\ttrain-rmse:0.504762\n",
      "[527]\ttrain-rmse:0.504586\n",
      "[528]\ttrain-rmse:0.504504\n",
      "[529]\ttrain-rmse:0.504361\n",
      "[530]\ttrain-rmse:0.504199\n",
      "[531]\ttrain-rmse:0.504104\n",
      "[532]\ttrain-rmse:0.503998\n",
      "[533]\ttrain-rmse:0.503746\n",
      "[534]\ttrain-rmse:0.503572\n",
      "[535]\ttrain-rmse:0.503493\n",
      "[536]\ttrain-rmse:0.503253\n",
      "[537]\ttrain-rmse:0.503114\n",
      "[538]\ttrain-rmse:0.503035\n",
      "[539]\ttrain-rmse:0.502876\n",
      "[540]\ttrain-rmse:0.502703\n",
      "[541]\ttrain-rmse:0.502611\n",
      "[542]\ttrain-rmse:0.502467\n",
      "[543]\ttrain-rmse:0.502364\n",
      "[544]\ttrain-rmse:0.502194\n",
      "[545]\ttrain-rmse:0.502118\n",
      "[546]\ttrain-rmse:0.501962\n",
      "[547]\ttrain-rmse:0.501865\n",
      "[548]\ttrain-rmse:0.501731\n",
      "[549]\ttrain-rmse:0.501630\n",
      "[550]\ttrain-rmse:0.501409\n",
      "[551]\ttrain-rmse:0.501175\n",
      "[552]\ttrain-rmse:0.501042\n",
      "[553]\ttrain-rmse:0.500943\n",
      "[554]\ttrain-rmse:0.500703\n",
      "[555]\ttrain-rmse:0.500596\n",
      "[556]\ttrain-rmse:0.500404\n",
      "[557]\ttrain-rmse:0.500252\n",
      "[558]\ttrain-rmse:0.499981\n",
      "[559]\ttrain-rmse:0.499883\n",
      "[560]\ttrain-rmse:0.499784\n",
      "[561]\ttrain-rmse:0.499697\n",
      "[562]\ttrain-rmse:0.499431\n",
      "[563]\ttrain-rmse:0.499374\n",
      "[564]\ttrain-rmse:0.499278\n",
      "[565]\ttrain-rmse:0.499155\n",
      "[566]\ttrain-rmse:0.498928\n",
      "[567]\ttrain-rmse:0.498824\n",
      "[568]\ttrain-rmse:0.498687\n",
      "[569]\ttrain-rmse:0.498538\n",
      "[570]\ttrain-rmse:0.498277\n",
      "[571]\ttrain-rmse:0.498179\n",
      "[572]\ttrain-rmse:0.498095\n",
      "[573]\ttrain-rmse:0.497918\n",
      "[574]\ttrain-rmse:0.497864\n",
      "[575]\ttrain-rmse:0.497717\n",
      "[576]\ttrain-rmse:0.497460\n",
      "[577]\ttrain-rmse:0.497365\n",
      "[578]\ttrain-rmse:0.497282\n",
      "[579]\ttrain-rmse:0.497149\n",
      "[580]\ttrain-rmse:0.497030\n",
      "[581]\ttrain-rmse:0.496777\n",
      "[582]\ttrain-rmse:0.496684\n",
      "[583]\ttrain-rmse:0.496552\n",
      "[584]\ttrain-rmse:0.496458\n",
      "[585]\ttrain-rmse:0.496405\n",
      "[586]\ttrain-rmse:0.496150\n",
      "[587]\ttrain-rmse:0.496058\n",
      "[588]\ttrain-rmse:0.495969\n",
      "[589]\ttrain-rmse:0.495855\n",
      "[590]\ttrain-rmse:0.495684\n",
      "[591]\ttrain-rmse:0.495586\n",
      "[592]\ttrain-rmse:0.495403\n",
      "[593]\ttrain-rmse:0.495315\n",
      "[594]\ttrain-rmse:0.495085\n",
      "[595]\ttrain-rmse:0.494925\n",
      "[596]\ttrain-rmse:0.494845\n",
      "[597]\ttrain-rmse:0.494754\n",
      "[598]\ttrain-rmse:0.494640\n",
      "[599]\ttrain-rmse:0.494549\n",
      "[600]\ttrain-rmse:0.494330\n",
      "[601]\ttrain-rmse:0.494244\n",
      "[602]\ttrain-rmse:0.494078\n",
      "[603]\ttrain-rmse:0.493912\n",
      "[604]\ttrain-rmse:0.493732\n",
      "[605]\ttrain-rmse:0.493624\n",
      "[606]\ttrain-rmse:0.493536\n",
      "[607]\ttrain-rmse:0.493458\n",
      "[608]\ttrain-rmse:0.493348\n",
      "[609]\ttrain-rmse:0.493241\n",
      "[610]\ttrain-rmse:0.493155\n",
      "[611]\ttrain-rmse:0.492992\n",
      "[612]\ttrain-rmse:0.492773\n",
      "[613]\ttrain-rmse:0.492551\n",
      "[614]\ttrain-rmse:0.492468\n",
      "[615]\ttrain-rmse:0.492358\n",
      "[616]\ttrain-rmse:0.492272\n",
      "[617]\ttrain-rmse:0.492112\n",
      "[618]\ttrain-rmse:0.491940\n",
      "[619]\ttrain-rmse:0.491724\n",
      "[620]\ttrain-rmse:0.491620\n",
      "[621]\ttrain-rmse:0.491535\n",
      "[622]\ttrain-rmse:0.491460\n",
      "[623]\ttrain-rmse:0.491242\n",
      "[624]\ttrain-rmse:0.491030\n",
      "[625]\ttrain-rmse:0.490947\n",
      "[626]\ttrain-rmse:0.490790\n",
      "[627]\ttrain-rmse:0.490684\n",
      "[628]\ttrain-rmse:0.490582\n",
      "[629]\ttrain-rmse:0.490502\n",
      "[630]\ttrain-rmse:0.490393\n",
      "[631]\ttrain-rmse:0.490204\n",
      "[632]\ttrain-rmse:0.490097\n",
      "[633]\ttrain-rmse:0.489889\n",
      "[634]\ttrain-rmse:0.489808\n",
      "[635]\ttrain-rmse:0.489600\n",
      "[636]\ttrain-rmse:0.489447\n",
      "[637]\ttrain-rmse:0.489243\n",
      "[638]\ttrain-rmse:0.489143\n",
      "[639]\ttrain-rmse:0.489061\n",
      "[640]\ttrain-rmse:0.488983\n",
      "[641]\ttrain-rmse:0.488881\n",
      "[642]\ttrain-rmse:0.488782\n",
      "[643]\ttrain-rmse:0.488631\n",
      "[644]\ttrain-rmse:0.488431\n",
      "[645]\ttrain-rmse:0.488351\n",
      "[646]\ttrain-rmse:0.488195\n",
      "[647]\ttrain-rmse:0.488046\n",
      "[648]\ttrain-rmse:0.487832\n",
      "[649]\ttrain-rmse:0.487753\n",
      "[650]\ttrain-rmse:0.487653\n",
      "[651]\ttrain-rmse:0.487574\n",
      "[652]\ttrain-rmse:0.487496\n",
      "[653]\ttrain-rmse:0.487316\n",
      "[654]\ttrain-rmse:0.487164\n",
      "[655]\ttrain-rmse:0.486954\n",
      "[656]\ttrain-rmse:0.486878\n",
      "[657]\ttrain-rmse:0.486675\n",
      "[658]\ttrain-rmse:0.486469\n",
      "[659]\ttrain-rmse:0.486321\n",
      "[660]\ttrain-rmse:0.486146\n",
      "[661]\ttrain-rmse:0.486047\n",
      "[662]\ttrain-rmse:0.485973\n",
      "[663]\ttrain-rmse:0.485823\n",
      "[664]\ttrain-rmse:0.485620\n",
      "[665]\ttrain-rmse:0.485448\n",
      "[666]\ttrain-rmse:0.485351\n",
      "[667]\ttrain-rmse:0.485277\n",
      "[668]\ttrain-rmse:0.485133\n",
      "[669]\ttrain-rmse:0.484933\n",
      "[670]\ttrain-rmse:0.484860\n",
      "[671]\ttrain-rmse:0.484758\n",
      "[672]\ttrain-rmse:0.484589\n",
      "[673]\ttrain-rmse:0.484454\n",
      "[674]\ttrain-rmse:0.484308\n",
      "[675]\ttrain-rmse:0.484112\n",
      "[676]\ttrain-rmse:0.483945\n",
      "[677]\ttrain-rmse:0.483884\n",
      "[678]\ttrain-rmse:0.483691\n",
      "[679]\ttrain-rmse:0.483635\n",
      "[680]\ttrain-rmse:0.483494\n",
      "[681]\ttrain-rmse:0.483350\n",
      "[682]\ttrain-rmse:0.483187\n",
      "[683]\ttrain-rmse:0.483046\n",
      "[684]\ttrain-rmse:0.482837\n",
      "[685]\ttrain-rmse:0.482781\n",
      "[686]\ttrain-rmse:0.482722\n",
      "[687]\ttrain-rmse:0.482627\n",
      "[688]\ttrain-rmse:0.482465\n",
      "[689]\ttrain-rmse:0.482277\n",
      "[690]\ttrain-rmse:0.482137\n",
      "[691]\ttrain-rmse:0.482083\n",
      "[692]\ttrain-rmse:0.481946\n",
      "[693]\ttrain-rmse:0.481787\n",
      "[694]\ttrain-rmse:0.481541\n",
      "[695]\ttrain-rmse:0.481404\n",
      "[696]\ttrain-rmse:0.481206\n",
      "[697]\ttrain-rmse:0.481136\n",
      "[698]\ttrain-rmse:0.481078\n",
      "[699]\ttrain-rmse:0.480985\n",
      "[700]\ttrain-rmse:0.480848\n",
      "[701]\ttrain-rmse:0.480798\n",
      "[702]\ttrain-rmse:0.480714\n",
      "[703]\ttrain-rmse:0.480559\n",
      "[704]\ttrain-rmse:0.480409\n",
      "[705]\ttrain-rmse:0.480274\n",
      "[706]\ttrain-rmse:0.480140\n",
      "[707]\ttrain-rmse:0.480096\n",
      "[708]\ttrain-rmse:0.480013\n",
      "[709]\ttrain-rmse:0.479926\n",
      "[710]\ttrain-rmse:0.479873\n",
      "[711]\ttrain-rmse:0.479721\n",
      "[712]\ttrain-rmse:0.479572\n",
      "[713]\ttrain-rmse:0.479331\n",
      "[714]\ttrain-rmse:0.479199\n",
      "[715]\ttrain-rmse:0.479119\n",
      "[716]\ttrain-rmse:0.479074\n",
      "[717]\ttrain-rmse:0.478943\n",
      "[718]\ttrain-rmse:0.478793\n",
      "[719]\ttrain-rmse:0.478556\n",
      "[720]\ttrain-rmse:0.478358\n",
      "[721]\ttrain-rmse:0.478306\n",
      "[722]\ttrain-rmse:0.478176\n",
      "[723]\ttrain-rmse:0.478036\n",
      "[724]\ttrain-rmse:0.477980\n",
      "[725]\ttrain-rmse:0.477889\n",
      "[726]\ttrain-rmse:0.477823\n",
      "[727]\ttrain-rmse:0.477676\n",
      "[728]\ttrain-rmse:0.477508\n",
      "[729]\ttrain-rmse:0.477379\n",
      "[730]\ttrain-rmse:0.477335\n",
      "[731]\ttrain-rmse:0.477250\n",
      "[732]\ttrain-rmse:0.477172\n",
      "[733]\ttrain-rmse:0.477028\n",
      "[734]\ttrain-rmse:0.476828\n",
      "[735]\ttrain-rmse:0.476759\n",
      "[736]\ttrain-rmse:0.476669\n",
      "[737]\ttrain-rmse:0.476618\n",
      "[738]\ttrain-rmse:0.476428\n",
      "[739]\ttrain-rmse:0.476196\n",
      "[740]\ttrain-rmse:0.476069\n",
      "[741]\ttrain-rmse:0.475842\n",
      "[742]\ttrain-rmse:0.475754\n",
      "[743]\ttrain-rmse:0.475699\n",
      "[744]\ttrain-rmse:0.475635\n",
      "[745]\ttrain-rmse:0.475462\n",
      "[746]\ttrain-rmse:0.475319\n",
      "[747]\ttrain-rmse:0.475206\n",
      "[748]\ttrain-rmse:0.475118\n",
      "[749]\ttrain-rmse:0.475076\n",
      "[750]\ttrain-rmse:0.474951\n",
      "[751]\ttrain-rmse:0.474811\n",
      "[752]\ttrain-rmse:0.474589\n",
      "[753]\ttrain-rmse:0.474361\n",
      "[754]\ttrain-rmse:0.474312\n",
      "[755]\ttrain-rmse:0.474127\n",
      "[756]\ttrain-rmse:0.474040\n",
      "[757]\ttrain-rmse:0.473987\n",
      "[758]\ttrain-rmse:0.473864\n",
      "[759]\ttrain-rmse:0.473695\n",
      "[760]\ttrain-rmse:0.473633\n",
      "[761]\ttrain-rmse:0.473528\n",
      "[762]\ttrain-rmse:0.473412\n",
      "[763]\ttrain-rmse:0.473193\n",
      "[764]\ttrain-rmse:0.473100\n",
      "[765]\ttrain-rmse:0.473015\n",
      "[766]\ttrain-rmse:0.472895\n",
      "[767]\ttrain-rmse:0.472756\n",
      "[768]\ttrain-rmse:0.472671\n",
      "[769]\ttrain-rmse:0.472596\n",
      "[770]\ttrain-rmse:0.472506\n",
      "[771]\ttrain-rmse:0.472393\n",
      "[772]\ttrain-rmse:0.472329\n",
      "[773]\ttrain-rmse:0.472226\n",
      "[774]\ttrain-rmse:0.472134\n",
      "[775]\ttrain-rmse:0.471921\n",
      "[776]\ttrain-rmse:0.471772\n",
      "[777]\ttrain-rmse:0.471654\n",
      "[778]\ttrain-rmse:0.471544\n",
      "[779]\ttrain-rmse:0.471321\n",
      "[780]\ttrain-rmse:0.471260\n",
      "[781]\ttrain-rmse:0.471176\n",
      "[782]\ttrain-rmse:0.471063\n",
      "[783]\ttrain-rmse:0.470854\n",
      "[784]\ttrain-rmse:0.470724\n",
      "[785]\ttrain-rmse:0.470504\n",
      "[786]\ttrain-rmse:0.470417\n",
      "[787]\ttrain-rmse:0.470318\n",
      "[788]\ttrain-rmse:0.470210\n",
      "[789]\ttrain-rmse:0.470096\n",
      "[790]\ttrain-rmse:0.469934\n",
      "[791]\ttrain-rmse:0.469873\n",
      "[792]\ttrain-rmse:0.469746\n",
      "[793]\ttrain-rmse:0.469660\n",
      "[794]\ttrain-rmse:0.469444\n",
      "[795]\ttrain-rmse:0.469333\n",
      "[796]\ttrain-rmse:0.469213\n",
      "[797]\ttrain-rmse:0.469128\n",
      "[798]\ttrain-rmse:0.469003\n",
      "[799]\ttrain-rmse:0.468920\n",
      "[800]\ttrain-rmse:0.468786\n",
      "[801]\ttrain-rmse:0.468573\n",
      "[802]\ttrain-rmse:0.468468\n",
      "[803]\ttrain-rmse:0.468360\n",
      "[804]\ttrain-rmse:0.468302\n",
      "[805]\ttrain-rmse:0.468144\n",
      "[806]\ttrain-rmse:0.468021\n",
      "[807]\ttrain-rmse:0.467938\n",
      "[808]\ttrain-rmse:0.467840\n",
      "[809]\ttrain-rmse:0.467685\n",
      "[810]\ttrain-rmse:0.467564\n",
      "[811]\ttrain-rmse:0.467419\n",
      "[812]\ttrain-rmse:0.467361\n",
      "[813]\ttrain-rmse:0.467290\n",
      "[814]\ttrain-rmse:0.467194\n",
      "[815]\ttrain-rmse:0.467097\n",
      "[816]\ttrain-rmse:0.466986\n",
      "[817]\ttrain-rmse:0.466904\n",
      "[818]\ttrain-rmse:0.466761\n",
      "[819]\ttrain-rmse:0.466656\n",
      "[820]\ttrain-rmse:0.466454\n",
      "[821]\ttrain-rmse:0.466371\n",
      "[822]\ttrain-rmse:0.466291\n",
      "[823]\ttrain-rmse:0.466241\n",
      "[824]\ttrain-rmse:0.466161\n",
      "[825]\ttrain-rmse:0.465953\n",
      "[826]\ttrain-rmse:0.465880\n",
      "[827]\ttrain-rmse:0.465837\n",
      "[828]\ttrain-rmse:0.465696\n",
      "[829]\ttrain-rmse:0.465623\n",
      "[830]\ttrain-rmse:0.465521\n",
      "[831]\ttrain-rmse:0.465404\n",
      "[832]\ttrain-rmse:0.465347\n",
      "[833]\ttrain-rmse:0.465268\n",
      "[834]\ttrain-rmse:0.465165\n",
      "[835]\ttrain-rmse:0.465013\n",
      "[836]\ttrain-rmse:0.464913\n",
      "[837]\ttrain-rmse:0.464794\n",
      "[838]\ttrain-rmse:0.464641\n",
      "[839]\ttrain-rmse:0.464439\n",
      "[840]\ttrain-rmse:0.464381\n",
      "[841]\ttrain-rmse:0.464290\n",
      "[842]\ttrain-rmse:0.464197\n",
      "[843]\ttrain-rmse:0.463993\n",
      "[844]\ttrain-rmse:0.463878\n",
      "[845]\ttrain-rmse:0.463822\n",
      "[846]\ttrain-rmse:0.463733\n",
      "[847]\ttrain-rmse:0.463596\n",
      "[848]\ttrain-rmse:0.463493\n",
      "[849]\ttrain-rmse:0.463344\n",
      "[850]\ttrain-rmse:0.463146\n",
      "[851]\ttrain-rmse:0.463029\n",
      "[852]\ttrain-rmse:0.462952\n",
      "[853]\ttrain-rmse:0.462860\n",
      "[854]\ttrain-rmse:0.462725\n",
      "[855]\ttrain-rmse:0.462625\n",
      "[856]\ttrain-rmse:0.462402\n",
      "[857]\ttrain-rmse:0.462266\n",
      "[858]\ttrain-rmse:0.462154\n",
      "[859]\ttrain-rmse:0.462113\n",
      "[860]\ttrain-rmse:0.462056\n",
      "[861]\ttrain-rmse:0.461987\n",
      "[862]\ttrain-rmse:0.461885\n",
      "[863]\ttrain-rmse:0.461738\n",
      "[864]\ttrain-rmse:0.461682\n",
      "[865]\ttrain-rmse:0.461626\n",
      "[866]\ttrain-rmse:0.461523\n",
      "[867]\ttrain-rmse:0.461412\n",
      "[868]\ttrain-rmse:0.461193\n",
      "[869]\ttrain-rmse:0.461094\n",
      "[870]\ttrain-rmse:0.460901\n",
      "[871]\ttrain-rmse:0.460826\n",
      "[872]\ttrain-rmse:0.460736\n",
      "[873]\ttrain-rmse:0.460604\n",
      "[874]\ttrain-rmse:0.460499\n",
      "[875]\ttrain-rmse:0.460366\n",
      "[876]\ttrain-rmse:0.460263\n",
      "[877]\ttrain-rmse:0.460151\n",
      "[878]\ttrain-rmse:0.459979\n",
      "[879]\ttrain-rmse:0.459869\n",
      "[880]\ttrain-rmse:0.459755\n",
      "[881]\ttrain-rmse:0.459640\n",
      "[882]\ttrain-rmse:0.459552\n",
      "[883]\ttrain-rmse:0.459356\n",
      "[884]\ttrain-rmse:0.459213\n",
      "[885]\ttrain-rmse:0.459117\n",
      "[886]\ttrain-rmse:0.459009\n",
      "[887]\ttrain-rmse:0.458956\n",
      "[888]\ttrain-rmse:0.458857\n",
      "[889]\ttrain-rmse:0.458716\n",
      "[890]\ttrain-rmse:0.458607\n",
      "[891]\ttrain-rmse:0.458549\n",
      "[892]\ttrain-rmse:0.458452\n",
      "[893]\ttrain-rmse:0.458264\n",
      "[894]\ttrain-rmse:0.458136\n",
      "[895]\ttrain-rmse:0.458072\n",
      "[896]\ttrain-rmse:0.457933\n",
      "[897]\ttrain-rmse:0.457880\n",
      "[898]\ttrain-rmse:0.457683\n",
      "[899]\ttrain-rmse:0.457609\n",
      "[900]\ttrain-rmse:0.457522\n",
      "[901]\ttrain-rmse:0.457392\n",
      "[902]\ttrain-rmse:0.457180\n",
      "[903]\ttrain-rmse:0.457116\n",
      "[904]\ttrain-rmse:0.457063\n",
      "[905]\ttrain-rmse:0.456998\n",
      "[906]\ttrain-rmse:0.456870\n",
      "[907]\ttrain-rmse:0.456759\n",
      "[908]\ttrain-rmse:0.456660\n",
      "[909]\ttrain-rmse:0.456554\n",
      "[910]\ttrain-rmse:0.456386\n",
      "[911]\ttrain-rmse:0.456281\n",
      "[912]\ttrain-rmse:0.456243\n",
      "[913]\ttrain-rmse:0.456134\n",
      "[914]\ttrain-rmse:0.456078\n",
      "[915]\ttrain-rmse:0.455972\n",
      "[916]\ttrain-rmse:0.455901\n",
      "[917]\ttrain-rmse:0.455839\n",
      "[918]\ttrain-rmse:0.455731\n",
      "[919]\ttrain-rmse:0.455566\n",
      "[920]\ttrain-rmse:0.455480\n",
      "[921]\ttrain-rmse:0.455381\n",
      "[922]\ttrain-rmse:0.455172\n",
      "[923]\ttrain-rmse:0.455006\n",
      "[924]\ttrain-rmse:0.454935\n",
      "[925]\ttrain-rmse:0.454880\n",
      "[926]\ttrain-rmse:0.454782\n",
      "[927]\ttrain-rmse:0.454679\n",
      "[928]\ttrain-rmse:0.454517\n",
      "[929]\ttrain-rmse:0.454466\n",
      "[930]\ttrain-rmse:0.454382\n",
      "[931]\ttrain-rmse:0.454256\n",
      "[932]\ttrain-rmse:0.454165\n",
      "[933]\ttrain-rmse:0.454070\n",
      "[934]\ttrain-rmse:0.453968\n",
      "[935]\ttrain-rmse:0.453757\n",
      "[936]\ttrain-rmse:0.453656\n",
      "[937]\ttrain-rmse:0.453473\n",
      "[938]\ttrain-rmse:0.453390\n",
      "[939]\ttrain-rmse:0.453255\n",
      "[940]\ttrain-rmse:0.453131\n",
      "[941]\ttrain-rmse:0.453025\n",
      "[942]\ttrain-rmse:0.452903\n",
      "[943]\ttrain-rmse:0.452700\n",
      "[944]\ttrain-rmse:0.452612\n",
      "[945]\ttrain-rmse:0.452490\n",
      "[946]\ttrain-rmse:0.452407\n",
      "[947]\ttrain-rmse:0.452308\n",
      "[948]\ttrain-rmse:0.452258\n",
      "[949]\ttrain-rmse:0.452189\n",
      "[950]\ttrain-rmse:0.452107\n",
      "[951]\ttrain-rmse:0.452010\n",
      "[952]\ttrain-rmse:0.451905\n",
      "[953]\ttrain-rmse:0.451749\n",
      "[954]\ttrain-rmse:0.451696\n",
      "[955]\ttrain-rmse:0.451643\n",
      "[956]\ttrain-rmse:0.451512\n",
      "[957]\ttrain-rmse:0.451416\n",
      "[958]\ttrain-rmse:0.451380\n",
      "[959]\ttrain-rmse:0.451196\n",
      "[960]\ttrain-rmse:0.451116\n",
      "[961]\ttrain-rmse:0.451048\n",
      "[962]\ttrain-rmse:0.450945\n",
      "[963]\ttrain-rmse:0.450892\n",
      "[964]\ttrain-rmse:0.450701\n",
      "[965]\ttrain-rmse:0.450582\n",
      "[966]\ttrain-rmse:0.450454\n",
      "[967]\ttrain-rmse:0.450265\n",
      "[968]\ttrain-rmse:0.450162\n",
      "[969]\ttrain-rmse:0.450040\n",
      "[970]\ttrain-rmse:0.449948\n",
      "[971]\ttrain-rmse:0.449768\n",
      "[972]\ttrain-rmse:0.449616\n",
      "[973]\ttrain-rmse:0.449522\n",
      "[974]\ttrain-rmse:0.449443\n",
      "[975]\ttrain-rmse:0.449363\n",
      "[976]\ttrain-rmse:0.449314\n",
      "[977]\ttrain-rmse:0.449213\n",
      "[978]\ttrain-rmse:0.449015\n",
      "[979]\ttrain-rmse:0.448925\n",
      "[980]\ttrain-rmse:0.448805\n",
      "[981]\ttrain-rmse:0.448628\n",
      "[982]\ttrain-rmse:0.448533\n",
      "[983]\ttrain-rmse:0.448407\n",
      "[984]\ttrain-rmse:0.448372\n",
      "[985]\ttrain-rmse:0.448305\n",
      "[986]\ttrain-rmse:0.448250\n",
      "[987]\ttrain-rmse:0.448158\n",
      "[988]\ttrain-rmse:0.448000\n",
      "[989]\ttrain-rmse:0.447853\n",
      "[990]\ttrain-rmse:0.447764\n",
      "[991]\ttrain-rmse:0.447675\n",
      "[992]\ttrain-rmse:0.447575\n",
      "[993]\ttrain-rmse:0.447496\n",
      "[994]\ttrain-rmse:0.447461\n",
      "[995]\ttrain-rmse:0.447361\n",
      "[996]\ttrain-rmse:0.447273\n",
      "[997]\ttrain-rmse:0.447200\n",
      "[998]\ttrain-rmse:0.447107\n",
      "[999]\ttrain-rmse:0.446912\n",
      "[1000]\ttrain-rmse:0.446833\n",
      "[1001]\ttrain-rmse:0.446710\n"
     ]
    }
   ],
   "source": [
    "B = 1001\n",
    "bst = xgboost(X, B, label = Y, eta = 0.01, max_depth = 3);"
   ]
  },
  {
   "cell_type": "code",
   "execution_count": 82,
   "id": "524eb3c6-e126-439b-bc64-d34ab75072c5",
   "metadata": {
    "tags": []
   },
   "outputs": [],
   "source": [
    "ntrees = 1:B # 1:100:B\n",
    "bst_val_loss = map(ntrees) do ntree\n",
    "    Ŷ = predict(bst, X_val, ntree_limit=ntree)\n",
    "    mean((Y_val - Ŷ).^2)\n",
    "end;"
   ]
  },
  {
   "cell_type": "code",
   "execution_count": 83,
   "id": "a5f0ee57-4666-43d6-adb2-44ea1c136320",
   "metadata": {},
   "outputs": [],
   "source": [
    "df_xgb = DataFrame(\n",
    "    n_iter = ntrees,\n",
    "    loss = bst_val_loss,\n",
    "    learner = \"XGBoost\",\n",
    ");"
   ]
  },
  {
   "cell_type": "code",
   "execution_count": 84,
   "id": "a0b47544-e11d-4e38-ae27-e33ac46be65f",
   "metadata": {},
   "outputs": [
    {
     "data": {
      "text/plain": [
       "(0.401185902518711, 309)"
      ]
     },
     "execution_count": 84,
     "metadata": {},
     "output_type": "execute_result"
    }
   ],
   "source": [
    "findmin(bst_val_loss)"
   ]
  },
  {
   "cell_type": "markdown",
   "id": "17afbc85-5e08-48d4-8474-e60e1a9bb248",
   "metadata": {},
   "source": [
    "# SAL"
   ]
  },
  {
   "cell_type": "code",
   "execution_count": 70,
   "id": "cc871c5c-b1f4-4da9-b74b-ddec089c413a",
   "metadata": {},
   "outputs": [],
   "source": [
    "import SelectivelyAdaptiveLasso as SAL"
   ]
  },
  {
   "cell_type": "code",
   "execution_count": 89,
   "id": "9b60cd9c-09a2-49ef-9700-17e8122df803",
   "metadata": {
    "tags": []
   },
   "outputs": [
    {
     "name": "stdout",
     "output_type": "stream",
     "text": [
      "(0.5750812941536394, 0.5281623962042883)\n",
      "(0.5009448589474125, 0.47389130286226416)\n",
      "(0.4901465357594598, 0.46544671464177745)\n",
      "(0.47674583301950046, 0.46208196293476383)\n",
      "(0.47337513645498003, 0.4674629033034129)\n",
      "(0.4575750046869093, 0.4413812637126433)\n",
      "(0.424119109315623, 0.4254080845184133)\n",
      "(0.42208644901143383, 0.4239889397156752)\n",
      "(0.41246321479038245, 0.4234471131079517)\n",
      "(0.41261740333786134, 0.42560152014171626)\n",
      "(0.4123077624043015, 0.42248706480906106)\n",
      "(0.4123230931799208, 0.4226757104339473)\n",
      "(0.4110208528511203, 0.4212731302290094)\n",
      "(0.4034006393857332, 0.42467832720354887)\n",
      "(0.3999941872177804, 0.4281685376755132)\n",
      "(0.3991641462560885, 0.42849765934821155)\n",
      "(0.3988888383836092, 0.4295458878892211)\n",
      "(0.3953916544385736, 0.42400073010811007)\n",
      "(0.39441778609439115, 0.4244517038201882)\n",
      "(0.39253613069490106, 0.42523860939246483)\n",
      "(0.39187603213196115, 0.42728453563121754)\n",
      "(0.39073967864031367, 0.4268723079626364)\n",
      "(0.3896430469338219, 0.4268788583604097)\n",
      "(0.389307904728694, 0.42682527301218054)\n",
      "(0.3889576885776922, 0.4259589584425811)\n",
      "(0.3889454688055185, 0.42628829313058714)\n",
      "(0.38582824886600214, 0.4214487610475662)\n",
      "(0.38341167097329665, 0.42133340935878727)\n",
      "(0.38333146032203463, 0.42147574724152265)\n",
      "(0.38291020310261525, 0.42184603722952546)\n",
      "(0.38285209491371786, 0.4219992399678027)\n",
      "(0.3828825623041777, 0.42211753606255514)\n",
      "(0.38288380245511505, 0.42182958515032665)\n",
      "(0.38183487573531494, 0.4197828436760037)\n",
      "(0.38191254508603123, 0.41943042745516174)\n",
      "(0.381798152541724, 0.4193850669071585)\n",
      "(0.3817598478935998, 0.41927462376849756)\n",
      "(0.3817960541994649, 0.419129626394661)\n",
      "(0.3816743006427217, 0.4186672837608659)\n",
      "(0.38155379585020327, 0.41861398803206945)\n",
      "(0.38099121387718393, 0.41745050702951153)\n",
      "(0.3805734590011891, 0.4163572556724342)\n",
      "(0.37975335372338886, 0.416457148030695)\n",
      "(0.379853178790259, 0.41681110363873636)\n",
      "(0.37991230698136913, 0.41673313823681)\n",
      "(0.3777542982219284, 0.4175058948999126)\n",
      "(0.3775545899481207, 0.41748248381262515)\n",
      "(0.37736396923291793, 0.4175430785786787)\n",
      "(0.3773125909971031, 0.4174978389989857)\n",
      "(0.37729286741037316, 0.4174801595570883)\n",
      "(0.37388965102837707, 0.4175545651196702)\n",
      "(0.3730135492055435, 0.41561857564019)\n",
      "(0.37261553121898316, 0.41551869050183626)\n",
      "(0.37180497188338074, 0.4157488006114486)\n",
      "(0.3711587175522469, 0.41565837099854486)\n",
      "(0.37021443215131894, 0.4147428100284995)\n",
      "(0.3680453876532437, 0.41523170742736715)\n",
      "(0.3672890366393138, 0.4146315943581593)\n",
      "(0.3668632842956191, 0.4153342385473314)\n",
      "(0.36555550023639255, 0.4169067989057937)\n",
      "(0.3656327785117351, 0.41734923887026226)\n",
      "(0.3656081837694428, 0.41737455768762544)\n",
      "(0.3654334633524255, 0.4169430490893713)\n",
      "(0.3649808308098134, 0.41752497772753244)\n",
      "(0.364865620988601, 0.4176338265570824)\n",
      "(0.36485375417888993, 0.4174236449140532)\n",
      "(0.3648054659407616, 0.4172390421238294)\n",
      "(0.36469084391419193, 0.41737145582616036)\n",
      "(0.3645282804215549, 0.41786431812826713)\n",
      "(0.36428443194405585, 0.41789578316880244)\n",
      "(0.3628806415198697, 0.4155573200931938)\n",
      "(0.36166312295796665, 0.41497141914520547)\n",
      "(0.361670753886313, 0.4156103665360018)\n",
      "(0.36105782281189647, 0.41610974824018226)\n",
      "(0.3607397846401401, 0.41602788362046916)\n",
      "(0.3592997394544202, 0.4166725217614626)\n",
      "(0.35856597139756285, 0.416968558296892)\n",
      "(0.35732971839685357, 0.41581099227633345)\n",
      "(0.357051245875969, 0.41591894371242705)\n",
      "(0.35688455115604867, 0.4158863435732587)\n",
      "(0.3568406180021319, 0.4161919555545359)\n",
      "(0.35579761001751475, 0.4155954104781673)\n",
      "(0.3557958094441672, 0.4150799295044707)\n",
      "(0.35546420509754256, 0.4144511541572774)\n",
      "(0.35429771824845224, 0.41521329638188836)\n",
      "(0.3541453661252699, 0.41491854882345414)\n",
      "(0.35438597648683884, 0.41443662498141426)\n",
      "(0.3534898636106894, 0.4152744825897545)\n",
      "(0.3532816870432054, 0.4156690655823606)\n",
      "(0.35326303038046264, 0.41576617665709553)\n",
      "(0.35330877200635247, 0.41580268618875416)\n",
      "(0.3533578156583493, 0.41581870768992407)\n",
      "(0.35338947848113517, 0.415818920398696)\n",
      "(0.3534136348716849, 0.41581081068073245)\n",
      "(0.3525349657480135, 0.4162100229437311)\n",
      "(0.3499834916530939, 0.41808885851695854)\n",
      "(0.3496538334156725, 0.4195043989226315)\n",
      "(0.3496805191542733, 0.419667617659102)\n",
      "(0.3495156440240571, 0.4197441294272878)\n",
      "(0.3494124111526003, 0.41982879432265574)\n",
      "(0.34929820699865477, 0.41987506064073576)\n",
      " 56.700427 seconds (1.15 M allocations: 42.175 GiB, 8.56% gc time)\n"
     ]
    }
   ],
   "source": [
    "sal_spec = SAL.SALSpec(\n",
    "    max_iter=1000,\n",
    "    λ = 0.003,\n",
    "    bases_per_iter=1,\n",
    "    m_subsample=400,\n",
    "    n_subsample=400,\n",
    "    tol = 1e-3,\n",
    ")\n",
    "@time sal_fit, log = SAL.fit(\n",
    "    sal_spec, \n",
    "    X, Y, \n",
    "    X_val=X_val, Y_val=Y_val,\n",
    "    verbose=true, print_iter=10,\n",
    ")\n",
    "loss, loss_val = log;"
   ]
  },
  {
   "cell_type": "code",
   "execution_count": 102,
   "id": "c4aea174-511c-4e4f-bd2d-2bec3998cc78",
   "metadata": {
    "tags": []
   },
   "outputs": [],
   "source": [
    "# sal_spec = SAL.SALSpec(\n",
    "#     max_iter=1000,\n",
    "#     λ = 0.0001,\n",
    "#     m_subsample=400,\n",
    "#     n_subsample=400\n",
    "# )\n",
    "# @time sal_fit, log = SAL.fit(\n",
    "#     sal_spec, \n",
    "#     X, Y, \n",
    "#     X_val=X_val, Y_val=Y_val,\n",
    "#     sal_fit = sal_fit,\n",
    "#     verbose=true, print_iter=100,\n",
    "# )\n",
    "# loss, loss_val, _, _ = log;"
   ]
  },
  {
   "cell_type": "code",
   "execution_count": 90,
   "id": "e63c09e6-8568-498f-a705-5d9a02f6d0b2",
   "metadata": {},
   "outputs": [
    {
     "data": {
      "text/plain": [
       "(0.41442377909327704, 864)"
      ]
     },
     "execution_count": 90,
     "metadata": {},
     "output_type": "execute_result"
    }
   ],
   "source": [
    "findmin(loss_val)"
   ]
  },
  {
   "cell_type": "code",
   "execution_count": 91,
   "id": "80d8f1a3-de94-45c6-95e7-841e60ba5acf",
   "metadata": {},
   "outputs": [],
   "source": [
    "df_sal = DataFrame(\n",
    "    n_iter = 1:length(loss_val),\n",
    "    loss = loss_val,\n",
    "    learner = \"SAL\"\n",
    ");"
   ]
  },
  {
   "cell_type": "markdown",
   "id": "5d8c32c7-e280-4d39-a3d5-43ab23b22c2a",
   "metadata": {},
   "source": [
    "# Plot"
   ]
  },
  {
   "cell_type": "code",
   "execution_count": 92,
   "id": "4a596366-3492-4994-9afa-e4d27e347c98",
   "metadata": {},
   "outputs": [
    {
     "data": {
      "application/vnd.vegalite.v4+json": {
       "data": {
        "values": [
         {
          "learner": "XGBoost",
          "loss": 0.9225417714573934,
          "n_iter": 1
         },
         {
          "learner": "XGBoost",
          "loss": 0.9123402664792111,
          "n_iter": 2
         },
         {
          "learner": "XGBoost",
          "loss": 0.9021925299307959,
          "n_iter": 3
         },
         {
          "learner": "XGBoost",
          "loss": 0.8924162042167851,
          "n_iter": 4
         },
         {
          "learner": "XGBoost",
          "loss": 0.8835876199136137,
          "n_iter": 5
         },
         {
          "learner": "XGBoost",
          "loss": 0.8739170988090583,
          "n_iter": 6
         },
         {
          "learner": "XGBoost",
          "loss": 0.8652235718333315,
          "n_iter": 7
         },
         {
          "learner": "XGBoost",
          "loss": 0.8569620865351247,
          "n_iter": 8
         },
         {
          "learner": "XGBoost",
          "loss": 0.848329902750654,
          "n_iter": 9
         },
         {
          "learner": "XGBoost",
          "loss": 0.8403841342945718,
          "n_iter": 10
         },
         {
          "learner": "XGBoost",
          "loss": 0.8320744637283878,
          "n_iter": 11
         },
         {
          "learner": "XGBoost",
          "loss": 0.823139020729722,
          "n_iter": 12
         },
         {
          "learner": "XGBoost",
          "loss": 0.8151765584947741,
          "n_iter": 13
         },
         {
          "learner": "XGBoost",
          "loss": 0.8070019800613782,
          "n_iter": 14
         },
         {
          "learner": "XGBoost",
          "loss": 0.7993847823571535,
          "n_iter": 15
         },
         {
          "learner": "XGBoost",
          "loss": 0.7920974482495005,
          "n_iter": 16
         },
         {
          "learner": "XGBoost",
          "loss": 0.7847225817409093,
          "n_iter": 17
         },
         {
          "learner": "XGBoost",
          "loss": 0.7767412963692045,
          "n_iter": 18
         },
         {
          "learner": "XGBoost",
          "loss": 0.7696982654246689,
          "n_iter": 19
         },
         {
          "learner": "XGBoost",
          "loss": 0.7621831038871476,
          "n_iter": 20
         },
         {
          "learner": "XGBoost",
          "loss": 0.7553214410822732,
          "n_iter": 21
         },
         {
          "learner": "XGBoost",
          "loss": 0.7487076567790788,
          "n_iter": 22
         },
         {
          "learner": "XGBoost",
          "loss": 0.7417112121110747,
          "n_iter": 23
         },
         {
          "learner": "XGBoost",
          "loss": 0.7351339633395682,
          "n_iter": 24
         },
         {
          "learner": "XGBoost",
          "loss": 0.7290342425131372,
          "n_iter": 25
         },
         {
          "learner": "XGBoost",
          "loss": 0.7229205964947123,
          "n_iter": 26
         },
         {
          "learner": "XGBoost",
          "loss": 0.716353802384876,
          "n_iter": 27
         },
         {
          "learner": "XGBoost",
          "loss": 0.7103435987417357,
          "n_iter": 28
         },
         {
          "learner": "XGBoost",
          "loss": 0.7047768756602079,
          "n_iter": 29
         },
         {
          "learner": "XGBoost",
          "loss": 0.698910619773139,
          "n_iter": 30
         },
         {
          "learner": "XGBoost",
          "loss": 0.6931360223493813,
          "n_iter": 31
         },
         {
          "learner": "XGBoost",
          "loss": 0.6872819011596001,
          "n_iter": 32
         },
         {
          "learner": "XGBoost",
          "loss": 0.6817466604782204,
          "n_iter": 33
         },
         {
          "learner": "XGBoost",
          "loss": 0.6765345206560188,
          "n_iter": 34
         },
         {
          "learner": "XGBoost",
          "loss": 0.6714636688367939,
          "n_iter": 35
         },
         {
          "learner": "XGBoost",
          "loss": 0.6661796284013822,
          "n_iter": 36
         },
         {
          "learner": "XGBoost",
          "loss": 0.6609693570024833,
          "n_iter": 37
         },
         {
          "learner": "XGBoost",
          "loss": 0.6560087175838875,
          "n_iter": 38
         },
         {
          "learner": "XGBoost",
          "loss": 0.6513550957529624,
          "n_iter": 39
         },
         {
          "learner": "XGBoost",
          "loss": 0.6464457980755851,
          "n_iter": 40
         },
         {
          "learner": "XGBoost",
          "loss": 0.6416847821645822,
          "n_iter": 41
         },
         {
          "learner": "XGBoost",
          "loss": 0.637300820438625,
          "n_iter": 42
         },
         {
          "learner": "XGBoost",
          "loss": 0.6328022366449717,
          "n_iter": 43
         },
         {
          "learner": "XGBoost",
          "loss": 0.6282415810832338,
          "n_iter": 44
         },
         {
          "learner": "XGBoost",
          "loss": 0.6241058444736604,
          "n_iter": 45
         },
         {
          "learner": "XGBoost",
          "loss": 0.6197813872921155,
          "n_iter": 46
         },
         {
          "learner": "XGBoost",
          "loss": 0.6152178967962215,
          "n_iter": 47
         },
         {
          "learner": "XGBoost",
          "loss": 0.6113822692023468,
          "n_iter": 48
         },
         {
          "learner": "XGBoost",
          "loss": 0.6072801028380735,
          "n_iter": 49
         },
         {
          "learner": "XGBoost",
          "loss": 0.6034300107385734,
          "n_iter": 50
         },
         {
          "learner": "XGBoost",
          "loss": 0.5992031831002333,
          "n_iter": 51
         },
         {
          "learner": "XGBoost",
          "loss": 0.5955866398842753,
          "n_iter": 52
         },
         {
          "learner": "XGBoost",
          "loss": 0.5919221410985454,
          "n_iter": 53
         },
         {
          "learner": "XGBoost",
          "loss": 0.5880257880578339,
          "n_iter": 54
         },
         {
          "learner": "XGBoost",
          "loss": 0.5843460633211592,
          "n_iter": 55
         },
         {
          "learner": "XGBoost",
          "loss": 0.5804022781530402,
          "n_iter": 56
         },
         {
          "learner": "XGBoost",
          "loss": 0.5769844374472808,
          "n_iter": 57
         },
         {
          "learner": "XGBoost",
          "loss": 0.5732005393690399,
          "n_iter": 58
         },
         {
          "learner": "XGBoost",
          "loss": 0.5699286541922436,
          "n_iter": 59
         },
         {
          "learner": "XGBoost",
          "loss": 0.566922097958872,
          "n_iter": 60
         },
         {
          "learner": "XGBoost",
          "loss": 0.5636992653280489,
          "n_iter": 61
         },
         {
          "learner": "XGBoost",
          "loss": 0.5607175406351876,
          "n_iter": 62
         },
         {
          "learner": "XGBoost",
          "loss": 0.5575429652245901,
          "n_iter": 63
         },
         {
          "learner": "XGBoost",
          "loss": 0.5542161159956867,
          "n_iter": 64
         },
         {
          "learner": "XGBoost",
          "loss": 0.5512968049210802,
          "n_iter": 65
         },
         {
          "learner": "XGBoost",
          "loss": 0.5480611436457683,
          "n_iter": 66
         },
         {
          "learner": "XGBoost",
          "loss": 0.5453287132708516,
          "n_iter": 67
         },
         {
          "learner": "XGBoost",
          "loss": 0.542688493127164,
          "n_iter": 68
         },
         {
          "learner": "XGBoost",
          "loss": 0.5398869496339919,
          "n_iter": 69
         },
         {
          "learner": "XGBoost",
          "loss": 0.5370666354819662,
          "n_iter": 70
         },
         {
          "learner": "XGBoost",
          "loss": 0.53436802431427,
          "n_iter": 71
         },
         {
          "learner": "XGBoost",
          "loss": 0.5319508573770118,
          "n_iter": 72
         },
         {
          "learner": "XGBoost",
          "loss": 0.5291563076620739,
          "n_iter": 73
         },
         {
          "learner": "XGBoost",
          "loss": 0.5266382956679962,
          "n_iter": 74
         },
         {
          "learner": "XGBoost",
          "loss": 0.524258222052682,
          "n_iter": 75
         },
         {
          "learner": "XGBoost",
          "loss": 0.5217006379435742,
          "n_iter": 76
         },
         {
          "learner": "XGBoost",
          "loss": 0.5190863245548097,
          "n_iter": 77
         },
         {
          "learner": "XGBoost",
          "loss": 0.5167166222704458,
          "n_iter": 78
         },
         {
          "learner": "XGBoost",
          "loss": 0.5145607916089001,
          "n_iter": 79
         },
         {
          "learner": "XGBoost",
          "loss": 0.5121313999021604,
          "n_iter": 80
         },
         {
          "learner": "XGBoost",
          "loss": 0.5098891671178142,
          "n_iter": 81
         },
         {
          "learner": "XGBoost",
          "loss": 0.5079899521179404,
          "n_iter": 82
         },
         {
          "learner": "XGBoost",
          "loss": 0.5058317231163044,
          "n_iter": 83
         },
         {
          "learner": "XGBoost",
          "loss": 0.5036938667558928,
          "n_iter": 84
         },
         {
          "learner": "XGBoost",
          "loss": 0.5014557243484565,
          "n_iter": 85
         },
         {
          "learner": "XGBoost",
          "loss": 0.4995751610472239,
          "n_iter": 86
         },
         {
          "learner": "XGBoost",
          "loss": 0.4977827788440199,
          "n_iter": 87
         },
         {
          "learner": "XGBoost",
          "loss": 0.4958136797873061,
          "n_iter": 88
         },
         {
          "learner": "XGBoost",
          "loss": 0.4939649321557645,
          "n_iter": 89
         },
         {
          "learner": "XGBoost",
          "loss": 0.4921602139267215,
          "n_iter": 90
         },
         {
          "learner": "XGBoost",
          "loss": 0.49016243746528587,
          "n_iter": 91
         },
         {
          "learner": "XGBoost",
          "loss": 0.4885773275176381,
          "n_iter": 92
         },
         {
          "learner": "XGBoost",
          "loss": 0.4869412735623152,
          "n_iter": 93
         },
         {
          "learner": "XGBoost",
          "loss": 0.48521487918283895,
          "n_iter": 94
         },
         {
          "learner": "XGBoost",
          "loss": 0.48356687912037954,
          "n_iter": 95
         },
         {
          "learner": "XGBoost",
          "loss": 0.48192037601864807,
          "n_iter": 96
         },
         {
          "learner": "XGBoost",
          "loss": 0.480324191619819,
          "n_iter": 97
         },
         {
          "learner": "XGBoost",
          "loss": 0.47882997312835957,
          "n_iter": 98
         },
         {
          "learner": "XGBoost",
          "loss": 0.4772736747183765,
          "n_iter": 99
         },
         {
          "learner": "XGBoost",
          "loss": 0.47584395536803675,
          "n_iter": 100
         },
         {
          "learner": "XGBoost",
          "loss": 0.4744136557036288,
          "n_iter": 101
         },
         {
          "learner": "XGBoost",
          "loss": 0.4729477170893028,
          "n_iter": 102
         },
         {
          "learner": "XGBoost",
          "loss": 0.4715914083008886,
          "n_iter": 103
         },
         {
          "learner": "XGBoost",
          "loss": 0.4702449945279293,
          "n_iter": 104
         },
         {
          "learner": "XGBoost",
          "loss": 0.468775924455718,
          "n_iter": 105
         },
         {
          "learner": "XGBoost",
          "loss": 0.46764461011746433,
          "n_iter": 106
         },
         {
          "learner": "XGBoost",
          "loss": 0.466222472517477,
          "n_iter": 107
         },
         {
          "learner": "XGBoost",
          "loss": 0.4650955557369276,
          "n_iter": 108
         },
         {
          "learner": "XGBoost",
          "loss": 0.46381019723539546,
          "n_iter": 109
         },
         {
          "learner": "XGBoost",
          "loss": 0.4625719950164895,
          "n_iter": 110
         },
         {
          "learner": "XGBoost",
          "loss": 0.461403520062535,
          "n_iter": 111
         },
         {
          "learner": "XGBoost",
          "loss": 0.4602732085500938,
          "n_iter": 112
         },
         {
          "learner": "XGBoost",
          "loss": 0.45879971688111915,
          "n_iter": 113
         },
         {
          "learner": "XGBoost",
          "loss": 0.45788248686297045,
          "n_iter": 114
         },
         {
          "learner": "XGBoost",
          "loss": 0.4568286767120084,
          "n_iter": 115
         },
         {
          "learner": "XGBoost",
          "loss": 0.45542828700362925,
          "n_iter": 116
         },
         {
          "learner": "XGBoost",
          "loss": 0.4544287333927216,
          "n_iter": 117
         },
         {
          "learner": "XGBoost",
          "loss": 0.45308066067148167,
          "n_iter": 118
         },
         {
          "learner": "XGBoost",
          "loss": 0.4521777701973304,
          "n_iter": 119
         },
         {
          "learner": "XGBoost",
          "loss": 0.4512504484364919,
          "n_iter": 120
         },
         {
          "learner": "XGBoost",
          "loss": 0.449976244875011,
          "n_iter": 121
         },
         {
          "learner": "XGBoost",
          "loss": 0.44922538510503257,
          "n_iter": 122
         },
         {
          "learner": "XGBoost",
          "loss": 0.4483962999454137,
          "n_iter": 123
         },
         {
          "learner": "XGBoost",
          "loss": 0.4471561619547012,
          "n_iter": 124
         },
         {
          "learner": "XGBoost",
          "loss": 0.4462889687627927,
          "n_iter": 125
         },
         {
          "learner": "XGBoost",
          "loss": 0.44561448779713264,
          "n_iter": 126
         },
         {
          "learner": "XGBoost",
          "loss": 0.4444600831054138,
          "n_iter": 127
         },
         {
          "learner": "XGBoost",
          "loss": 0.44377977660097606,
          "n_iter": 128
         },
         {
          "learner": "XGBoost",
          "loss": 0.443136299590093,
          "n_iter": 129
         },
         {
          "learner": "XGBoost",
          "loss": 0.4422238908462868,
          "n_iter": 130
         },
         {
          "learner": "XGBoost",
          "loss": 0.4414742750899616,
          "n_iter": 131
         },
         {
          "learner": "XGBoost",
          "loss": 0.4406031942041567,
          "n_iter": 132
         },
         {
          "learner": "XGBoost",
          "loss": 0.4398349992843733,
          "n_iter": 133
         },
         {
          "learner": "XGBoost",
          "loss": 0.43929230489857674,
          "n_iter": 134
         },
         {
          "learner": "XGBoost",
          "loss": 0.4384551734191491,
          "n_iter": 135
         },
         {
          "learner": "XGBoost",
          "loss": 0.43766567028310877,
          "n_iter": 136
         },
         {
          "learner": "XGBoost",
          "loss": 0.43688362412141574,
          "n_iter": 137
         },
         {
          "learner": "XGBoost",
          "loss": 0.4360565528454914,
          "n_iter": 138
         },
         {
          "learner": "XGBoost",
          "loss": 0.4352878437211668,
          "n_iter": 139
         },
         {
          "learner": "XGBoost",
          "loss": 0.43476746630545654,
          "n_iter": 140
         },
         {
          "learner": "XGBoost",
          "loss": 0.43410462265560573,
          "n_iter": 141
         },
         {
          "learner": "XGBoost",
          "loss": 0.43340477859183646,
          "n_iter": 142
         },
         {
          "learner": "XGBoost",
          "loss": 0.4329763921657986,
          "n_iter": 143
         },
         {
          "learner": "XGBoost",
          "loss": 0.4323076229587696,
          "n_iter": 144
         },
         {
          "learner": "XGBoost",
          "loss": 0.43184519425412055,
          "n_iter": 145
         },
         {
          "learner": "XGBoost",
          "loss": 0.43142898008418085,
          "n_iter": 146
         },
         {
          "learner": "XGBoost",
          "loss": 0.43056864513244547,
          "n_iter": 147
         },
         {
          "learner": "XGBoost",
          "loss": 0.43002454543217533,
          "n_iter": 148
         },
         {
          "learner": "XGBoost",
          "loss": 0.42969875941918956,
          "n_iter": 149
         },
         {
          "learner": "XGBoost",
          "loss": 0.42905128397095316,
          "n_iter": 150
         },
         {
          "learner": "XGBoost",
          "loss": 0.42873373702737266,
          "n_iter": 151
         },
         {
          "learner": "XGBoost",
          "loss": 0.42787753127068,
          "n_iter": 152
         },
         {
          "learner": "XGBoost",
          "loss": 0.4273908799849675,
          "n_iter": 153
         },
         {
          "learner": "XGBoost",
          "loss": 0.42708918656666733,
          "n_iter": 154
         },
         {
          "learner": "XGBoost",
          "loss": 0.42655520774976907,
          "n_iter": 155
         },
         {
          "learner": "XGBoost",
          "loss": 0.4260092085905004,
          "n_iter": 156
         },
         {
          "learner": "XGBoost",
          "loss": 0.4253932456852504,
          "n_iter": 157
         },
         {
          "learner": "XGBoost",
          "loss": 0.42491283640879124,
          "n_iter": 158
         },
         {
          "learner": "XGBoost",
          "loss": 0.4246360899931156,
          "n_iter": 159
         },
         {
          "learner": "XGBoost",
          "loss": 0.42421605812843516,
          "n_iter": 160
         },
         {
          "learner": "XGBoost",
          "loss": 0.4234652343246475,
          "n_iter": 161
         },
         {
          "learner": "XGBoost",
          "loss": 0.4231603567960366,
          "n_iter": 162
         },
         {
          "learner": "XGBoost",
          "loss": 0.42291688949940076,
          "n_iter": 163
         },
         {
          "learner": "XGBoost",
          "loss": 0.4224872161972073,
          "n_iter": 164
         },
         {
          "learner": "XGBoost",
          "loss": 0.42196863933936996,
          "n_iter": 165
         },
         {
          "learner": "XGBoost",
          "loss": 0.421693240241833,
          "n_iter": 166
         },
         {
          "learner": "XGBoost",
          "loss": 0.42140275242174235,
          "n_iter": 167
         },
         {
          "learner": "XGBoost",
          "loss": 0.42121639221714874,
          "n_iter": 168
         },
         {
          "learner": "XGBoost",
          "loss": 0.4207401471421811,
          "n_iter": 169
         },
         {
          "learner": "XGBoost",
          "loss": 0.4204932167851909,
          "n_iter": 170
         },
         {
          "learner": "XGBoost",
          "loss": 0.42031138798158113,
          "n_iter": 171
         },
         {
          "learner": "XGBoost",
          "loss": 0.42014062072172237,
          "n_iter": 172
         },
         {
          "learner": "XGBoost",
          "loss": 0.4195143423939014,
          "n_iter": 173
         },
         {
          "learner": "XGBoost",
          "loss": 0.41929231047774446,
          "n_iter": 174
         },
         {
          "learner": "XGBoost",
          "loss": 0.4191544997163535,
          "n_iter": 175
         },
         {
          "learner": "XGBoost",
          "loss": 0.41888723512639714,
          "n_iter": 176
         },
         {
          "learner": "XGBoost",
          "loss": 0.4186691486981596,
          "n_iter": 177
         },
         {
          "learner": "XGBoost",
          "loss": 0.4183584798876815,
          "n_iter": 178
         },
         {
          "learner": "XGBoost",
          "loss": 0.4181314834219211,
          "n_iter": 179
         },
         {
          "learner": "XGBoost",
          "loss": 0.4177515920847267,
          "n_iter": 180
         },
         {
          "learner": "XGBoost",
          "loss": 0.4176158146835057,
          "n_iter": 181
         },
         {
          "learner": "XGBoost",
          "loss": 0.417331229566704,
          "n_iter": 182
         },
         {
          "learner": "XGBoost",
          "loss": 0.41682784137528023,
          "n_iter": 183
         },
         {
          "learner": "XGBoost",
          "loss": 0.41666443404659215,
          "n_iter": 184
         },
         {
          "learner": "XGBoost",
          "loss": 0.41656611504191515,
          "n_iter": 185
         },
         {
          "learner": "XGBoost",
          "loss": 0.4159586618318585,
          "n_iter": 186
         },
         {
          "learner": "XGBoost",
          "loss": 0.4157727096511036,
          "n_iter": 187
         },
         {
          "learner": "XGBoost",
          "loss": 0.4151842580760434,
          "n_iter": 188
         },
         {
          "learner": "XGBoost",
          "loss": 0.4149383064936017,
          "n_iter": 189
         },
         {
          "learner": "XGBoost",
          "loss": 0.41470061596482233,
          "n_iter": 190
         },
         {
          "learner": "XGBoost",
          "loss": 0.4143707693663281,
          "n_iter": 191
         },
         {
          "learner": "XGBoost",
          "loss": 0.413893867601009,
          "n_iter": 192
         },
         {
          "learner": "XGBoost",
          "loss": 0.41357847902108036,
          "n_iter": 193
         },
         {
          "learner": "XGBoost",
          "loss": 0.4130332560890095,
          "n_iter": 194
         },
         {
          "learner": "XGBoost",
          "loss": 0.41296895793686467,
          "n_iter": 195
         },
         {
          "learner": "XGBoost",
          "loss": 0.4126709609876659,
          "n_iter": 196
         },
         {
          "learner": "XGBoost",
          "loss": 0.4124488801925408,
          "n_iter": 197
         },
         {
          "learner": "XGBoost",
          "loss": 0.412163662569392,
          "n_iter": 198
         },
         {
          "learner": "XGBoost",
          "loss": 0.41199011086629844,
          "n_iter": 199
         },
         {
          "learner": "XGBoost",
          "loss": 0.41186513340349074,
          "n_iter": 200
         },
         {
          "learner": "XGBoost",
          "loss": 0.41170945516602886,
          "n_iter": 201
         },
         {
          "learner": "XGBoost",
          "loss": 0.4114767196700104,
          "n_iter": 202
         },
         {
          "learner": "XGBoost",
          "loss": 0.4112300064675816,
          "n_iter": 203
         },
         {
          "learner": "XGBoost",
          "loss": 0.41104676385068445,
          "n_iter": 204
         },
         {
          "learner": "XGBoost",
          "loss": 0.41054532855289055,
          "n_iter": 205
         },
         {
          "learner": "XGBoost",
          "loss": 0.4103136518422795,
          "n_iter": 206
         },
         {
          "learner": "XGBoost",
          "loss": 0.41027774714905424,
          "n_iter": 207
         },
         {
          "learner": "XGBoost",
          "loss": 0.4101082013980698,
          "n_iter": 208
         },
         {
          "learner": "XGBoost",
          "loss": 0.4097750262152973,
          "n_iter": 209
         },
         {
          "learner": "XGBoost",
          "loss": 0.4095332602953323,
          "n_iter": 210
         },
         {
          "learner": "XGBoost",
          "loss": 0.40941750900114904,
          "n_iter": 211
         },
         {
          "learner": "XGBoost",
          "loss": 0.4092752371593531,
          "n_iter": 212
         },
         {
          "learner": "XGBoost",
          "loss": 0.40906624563393296,
          "n_iter": 213
         },
         {
          "learner": "XGBoost",
          "loss": 0.4088623155134337,
          "n_iter": 214
         },
         {
          "learner": "XGBoost",
          "loss": 0.4086828817351072,
          "n_iter": 215
         },
         {
          "learner": "XGBoost",
          "loss": 0.4086051378470269,
          "n_iter": 216
         },
         {
          "learner": "XGBoost",
          "loss": 0.4085423834651887,
          "n_iter": 217
         },
         {
          "learner": "XGBoost",
          "loss": 0.40842091811153997,
          "n_iter": 218
         },
         {
          "learner": "XGBoost",
          "loss": 0.4082342116444957,
          "n_iter": 219
         },
         {
          "learner": "XGBoost",
          "loss": 0.40808372796541675,
          "n_iter": 220
         },
         {
          "learner": "XGBoost",
          "loss": 0.4079259963548978,
          "n_iter": 221
         },
         {
          "learner": "XGBoost",
          "loss": 0.40773428214762414,
          "n_iter": 222
         },
         {
          "learner": "XGBoost",
          "loss": 0.40767925069250316,
          "n_iter": 223
         },
         {
          "learner": "XGBoost",
          "loss": 0.4072855216778789,
          "n_iter": 224
         },
         {
          "learner": "XGBoost",
          "loss": 0.40710430706792655,
          "n_iter": 225
         },
         {
          "learner": "XGBoost",
          "loss": 0.4069650902948903,
          "n_iter": 226
         },
         {
          "learner": "XGBoost",
          "loss": 0.4067911554615089,
          "n_iter": 227
         },
         {
          "learner": "XGBoost",
          "loss": 0.40666195851198955,
          "n_iter": 228
         },
         {
          "learner": "XGBoost",
          "loss": 0.4063141467876901,
          "n_iter": 229
         },
         {
          "learner": "XGBoost",
          "loss": 0.4060459035759396,
          "n_iter": 230
         },
         {
          "learner": "XGBoost",
          "loss": 0.4059006383951928,
          "n_iter": 231
         },
         {
          "learner": "XGBoost",
          "loss": 0.4055422496539302,
          "n_iter": 232
         },
         {
          "learner": "XGBoost",
          "loss": 0.40538399583098955,
          "n_iter": 233
         },
         {
          "learner": "XGBoost",
          "loss": 0.40549472804642234,
          "n_iter": 234
         },
         {
          "learner": "XGBoost",
          "loss": 0.4051476091538153,
          "n_iter": 235
         },
         {
          "learner": "XGBoost",
          "loss": 0.40507587152821567,
          "n_iter": 236
         },
         {
          "learner": "XGBoost",
          "loss": 0.40519921234306955,
          "n_iter": 237
         },
         {
          "learner": "XGBoost",
          "loss": 0.4051068304823773,
          "n_iter": 238
         },
         {
          "learner": "XGBoost",
          "loss": 0.40479318803291753,
          "n_iter": 239
         },
         {
          "learner": "XGBoost",
          "loss": 0.4045071567670677,
          "n_iter": 240
         },
         {
          "learner": "XGBoost",
          "loss": 0.4046873504973827,
          "n_iter": 241
         },
         {
          "learner": "XGBoost",
          "loss": 0.40463512123321926,
          "n_iter": 242
         },
         {
          "learner": "XGBoost",
          "loss": 0.40458983867297166,
          "n_iter": 243
         },
         {
          "learner": "XGBoost",
          "loss": 0.4042917187021247,
          "n_iter": 244
         },
         {
          "learner": "XGBoost",
          "loss": 0.40425465587415405,
          "n_iter": 245
         },
         {
          "learner": "XGBoost",
          "loss": 0.40387153200171455,
          "n_iter": 246
         },
         {
          "learner": "XGBoost",
          "loss": 0.4040716293306047,
          "n_iter": 247
         },
         {
          "learner": "XGBoost",
          "loss": 0.4040974203711084,
          "n_iter": 248
         },
         {
          "learner": "XGBoost",
          "loss": 0.40425719784950603,
          "n_iter": 249
         },
         {
          "learner": "XGBoost",
          "loss": 0.4038912035488956,
          "n_iter": 250
         },
         {
          "learner": "XGBoost",
          "loss": 0.4036090239721454,
          "n_iter": 251
         },
         {
          "learner": "XGBoost",
          "loss": 0.4035965826384615,
          "n_iter": 252
         },
         {
          "learner": "XGBoost",
          "loss": 0.4035955141974996,
          "n_iter": 253
         },
         {
          "learner": "XGBoost",
          "loss": 0.4036325014910585,
          "n_iter": 254
         },
         {
          "learner": "XGBoost",
          "loss": 0.40338443901287285,
          "n_iter": 255
         },
         {
          "learner": "XGBoost",
          "loss": 0.4036058617655111,
          "n_iter": 256
         },
         {
          "learner": "XGBoost",
          "loss": 0.4036052139318841,
          "n_iter": 257
         },
         {
          "learner": "XGBoost",
          "loss": 0.4036039582820398,
          "n_iter": 258
         },
         {
          "learner": "XGBoost",
          "loss": 0.4032642790331661,
          "n_iter": 259
         },
         {
          "learner": "XGBoost",
          "loss": 0.40296267577944134,
          "n_iter": 260
         },
         {
          "learner": "XGBoost",
          "loss": 0.40302166987609417,
          "n_iter": 261
         },
         {
          "learner": "XGBoost",
          "loss": 0.40269341477043336,
          "n_iter": 262
         },
         {
          "learner": "XGBoost",
          "loss": 0.4029299061762584,
          "n_iter": 263
         },
         {
          "learner": "XGBoost",
          "loss": 0.40294568478964105,
          "n_iter": 264
         },
         {
          "learner": "XGBoost",
          "loss": 0.40319038835983195,
          "n_iter": 265
         },
         {
          "learner": "XGBoost",
          "loss": 0.40295174650492543,
          "n_iter": 266
         },
         {
          "learner": "XGBoost",
          "loss": 0.4027493525435722,
          "n_iter": 267
         },
         {
          "learner": "XGBoost",
          "loss": 0.40272244840020294,
          "n_iter": 268
         },
         {
          "learner": "XGBoost",
          "loss": 0.40292595447962193,
          "n_iter": 269
         },
         {
          "learner": "XGBoost",
          "loss": 0.4026198103509713,
          "n_iter": 270
         },
         {
          "learner": "XGBoost",
          "loss": 0.40245128876768965,
          "n_iter": 271
         },
         {
          "learner": "XGBoost",
          "loss": 0.4024848330633501,
          "n_iter": 272
         },
         {
          "learner": "XGBoost",
          "loss": 0.40251256313811656,
          "n_iter": 273
         },
         {
          "learner": "XGBoost",
          "loss": 0.4023005382674063,
          "n_iter": 274
         },
         {
          "learner": "XGBoost",
          "loss": 0.40209249434771005,
          "n_iter": 275
         },
         {
          "learner": "XGBoost",
          "loss": 0.4023558515896248,
          "n_iter": 276
         },
         {
          "learner": "XGBoost",
          "loss": 0.40215163588527175,
          "n_iter": 277
         },
         {
          "learner": "XGBoost",
          "loss": 0.40218713678932566,
          "n_iter": 278
         },
         {
          "learner": "XGBoost",
          "loss": 0.402191913394428,
          "n_iter": 279
         },
         {
          "learner": "XGBoost",
          "loss": 0.4024620950131036,
          "n_iter": 280
         },
         {
          "learner": "XGBoost",
          "loss": 0.4021969463952393,
          "n_iter": 281
         },
         {
          "learner": "XGBoost",
          "loss": 0.4022324737818369,
          "n_iter": 282
         },
         {
          "learner": "XGBoost",
          "loss": 0.40229225255149814,
          "n_iter": 283
         },
         {
          "learner": "XGBoost",
          "loss": 0.40251964111820215,
          "n_iter": 284
         },
         {
          "learner": "XGBoost",
          "loss": 0.40222080833284685,
          "n_iter": 285
         },
         {
          "learner": "XGBoost",
          "loss": 0.4021039568372229,
          "n_iter": 286
         },
         {
          "learner": "XGBoost",
          "loss": 0.4021448514957363,
          "n_iter": 287
         },
         {
          "learner": "XGBoost",
          "loss": 0.40187937675402047,
          "n_iter": 288
         },
         {
          "learner": "XGBoost",
          "loss": 0.4019235254627258,
          "n_iter": 289
         },
         {
          "learner": "XGBoost",
          "loss": 0.40162186095994,
          "n_iter": 290
         },
         {
          "learner": "XGBoost",
          "loss": 0.40161139252336847,
          "n_iter": 291
         },
         {
          "learner": "XGBoost",
          "loss": 0.40189847390889255,
          "n_iter": 292
         },
         {
          "learner": "XGBoost",
          "loss": 0.4016786813849313,
          "n_iter": 293
         },
         {
          "learner": "XGBoost",
          "loss": 0.4016949910646472,
          "n_iter": 294
         },
         {
          "learner": "XGBoost",
          "loss": 0.4014250517553443,
          "n_iter": 295
         },
         {
          "learner": "XGBoost",
          "loss": 0.4013890975702303,
          "n_iter": 296
         },
         {
          "learner": "XGBoost",
          "loss": 0.40143932742444605,
          "n_iter": 297
         },
         {
          "learner": "XGBoost",
          "loss": 0.40126477379330683,
          "n_iter": 298
         },
         {
          "learner": "XGBoost",
          "loss": 0.4015836231262031,
          "n_iter": 299
         },
         {
          "learner": "XGBoost",
          "loss": 0.40132848994728043,
          "n_iter": 300
         },
         {
          "learner": "XGBoost",
          "loss": 0.401650881426362,
          "n_iter": 301
         },
         {
          "learner": "XGBoost",
          "loss": 0.4014557968515841,
          "n_iter": 302
         },
         {
          "learner": "XGBoost",
          "loss": 0.40118611983077257,
          "n_iter": 303
         },
         {
          "learner": "XGBoost",
          "loss": 0.4012113969573091,
          "n_iter": 304
         },
         {
          "learner": "XGBoost",
          "loss": 0.40121607306561846,
          "n_iter": 305
         },
         {
          "learner": "XGBoost",
          "loss": 0.4015265261566728,
          "n_iter": 306
         },
         {
          "learner": "XGBoost",
          "loss": 0.40133870160020085,
          "n_iter": 307
         },
         {
          "learner": "XGBoost",
          "loss": 0.4013674864397453,
          "n_iter": 308
         },
         {
          "learner": "XGBoost",
          "loss": 0.401185902518711,
          "n_iter": 309
         },
         {
          "learner": "XGBoost",
          "loss": 0.40151524483441486,
          "n_iter": 310
         },
         {
          "learner": "XGBoost",
          "loss": 0.40125792069199356,
          "n_iter": 311
         },
         {
          "learner": "XGBoost",
          "loss": 0.4013213811703633,
          "n_iter": 312
         },
         {
          "learner": "XGBoost",
          "loss": 0.401240232180521,
          "n_iter": 313
         },
         {
          "learner": "XGBoost",
          "loss": 0.401263072870899,
          "n_iter": 314
         },
         {
          "learner": "XGBoost",
          "loss": 0.40127796050159537,
          "n_iter": 315
         },
         {
          "learner": "XGBoost",
          "loss": 0.4016114059755029,
          "n_iter": 316
         },
         {
          "learner": "XGBoost",
          "loss": 0.4014723911992878,
          "n_iter": 317
         },
         {
          "learner": "XGBoost",
          "loss": 0.4017929461466989,
          "n_iter": 318
         },
         {
          "learner": "XGBoost",
          "loss": 0.40182805421209145,
          "n_iter": 319
         },
         {
          "learner": "XGBoost",
          "loss": 0.4016588867469036,
          "n_iter": 320
         },
         {
          "learner": "XGBoost",
          "loss": 0.40162472627356344,
          "n_iter": 321
         },
         {
          "learner": "XGBoost",
          "loss": 0.4019741734779431,
          "n_iter": 322
         },
         {
          "learner": "XGBoost",
          "loss": 0.4017306734217736,
          "n_iter": 323
         },
         {
          "learner": "XGBoost",
          "loss": 0.40159782810378886,
          "n_iter": 324
         },
         {
          "learner": "XGBoost",
          "loss": 0.40160675040033444,
          "n_iter": 325
         },
         {
          "learner": "XGBoost",
          "loss": 0.4016786490813809,
          "n_iter": 326
         },
         {
          "learner": "XGBoost",
          "loss": 0.40192178939118156,
          "n_iter": 327
         },
         {
          "learner": "XGBoost",
          "loss": 0.4019338898816476,
          "n_iter": 328
         },
         {
          "learner": "XGBoost",
          "loss": 0.40190272294155094,
          "n_iter": 329
         },
         {
          "learner": "XGBoost",
          "loss": 0.40214958230722003,
          "n_iter": 330
         },
         {
          "learner": "XGBoost",
          "loss": 0.4024931704548624,
          "n_iter": 331
         },
         {
          "learner": "XGBoost",
          "loss": 0.402363853412379,
          "n_iter": 332
         },
         {
          "learner": "XGBoost",
          "loss": 0.4023644310918907,
          "n_iter": 333
         },
         {
          "learner": "XGBoost",
          "loss": 0.40229279208796953,
          "n_iter": 334
         },
         {
          "learner": "XGBoost",
          "loss": 0.4025451043768254,
          "n_iter": 335
         },
         {
          "learner": "XGBoost",
          "loss": 0.40241231180165826,
          "n_iter": 336
         },
         {
          "learner": "XGBoost",
          "loss": 0.4023844146271992,
          "n_iter": 337
         },
         {
          "learner": "XGBoost",
          "loss": 0.40238583729648814,
          "n_iter": 338
         },
         {
          "learner": "XGBoost",
          "loss": 0.4023940890884268,
          "n_iter": 339
         },
         {
          "learner": "XGBoost",
          "loss": 0.4024228666895995,
          "n_iter": 340
         },
         {
          "learner": "XGBoost",
          "loss": 0.40227492786625096,
          "n_iter": 341
         },
         {
          "learner": "XGBoost",
          "loss": 0.4023561247967632,
          "n_iter": 342
         },
         {
          "learner": "XGBoost",
          "loss": 0.4023615376534974,
          "n_iter": 343
         },
         {
          "learner": "XGBoost",
          "loss": 0.40239435157124503,
          "n_iter": 344
         },
         {
          "learner": "XGBoost",
          "loss": 0.4022764058287106,
          "n_iter": 345
         },
         {
          "learner": "XGBoost",
          "loss": 0.40232094578534594,
          "n_iter": 346
         },
         {
          "learner": "XGBoost",
          "loss": 0.40218132824208636,
          "n_iter": 347
         },
         {
          "learner": "XGBoost",
          "loss": 0.4022662335428657,
          "n_iter": 348
         },
         {
          "learner": "XGBoost",
          "loss": 0.40226777788079543,
          "n_iter": 349
         },
         {
          "learner": "XGBoost",
          "loss": 0.40215619398543384,
          "n_iter": 350
         },
         {
          "learner": "XGBoost",
          "loss": 0.40216617560987333,
          "n_iter": 351
         },
         {
          "learner": "XGBoost",
          "loss": 0.40220678679410043,
          "n_iter": 352
         },
         {
          "learner": "XGBoost",
          "loss": 0.4022896203838482,
          "n_iter": 353
         },
         {
          "learner": "XGBoost",
          "loss": 0.40237791997503647,
          "n_iter": 354
         },
         {
          "learner": "XGBoost",
          "loss": 0.4023910499141475,
          "n_iter": 355
         },
         {
          "learner": "XGBoost",
          "loss": 0.4023987301832277,
          "n_iter": 356
         },
         {
          "learner": "XGBoost",
          "loss": 0.4024792088440083,
          "n_iter": 357
         },
         {
          "learner": "XGBoost",
          "loss": 0.4025700927209288,
          "n_iter": 358
         },
         {
          "learner": "XGBoost",
          "loss": 0.40265147263816803,
          "n_iter": 359
         },
         {
          "learner": "XGBoost",
          "loss": 0.4026678826174379,
          "n_iter": 360
         },
         {
          "learner": "XGBoost",
          "loss": 0.40275523035976335,
          "n_iter": 361
         },
         {
          "learner": "XGBoost",
          "loss": 0.4026957170208547,
          "n_iter": 362
         },
         {
          "learner": "XGBoost",
          "loss": 0.4027143529169438,
          "n_iter": 363
         },
         {
          "learner": "XGBoost",
          "loss": 0.4028074407737972,
          "n_iter": 364
         },
         {
          "learner": "XGBoost",
          "loss": 0.4026547353154889,
          "n_iter": 365
         },
         {
          "learner": "XGBoost",
          "loss": 0.4027070561915598,
          "n_iter": 366
         },
         {
          "learner": "XGBoost",
          "loss": 0.402791037571666,
          "n_iter": 367
         },
         {
          "learner": "XGBoost",
          "loss": 0.4028864187069796,
          "n_iter": 368
         },
         {
          "learner": "XGBoost",
          "loss": 0.40293195117535757,
          "n_iter": 369
         },
         {
          "learner": "XGBoost",
          "loss": 0.403016831462399,
          "n_iter": 370
         },
         {
          "learner": "XGBoost",
          "loss": 0.40299548694787857,
          "n_iter": 371
         },
         {
          "learner": "XGBoost",
          "loss": 0.4030181650444034,
          "n_iter": 372
         },
         {
          "learner": "XGBoost",
          "loss": 0.40307095765963913,
          "n_iter": 373
         },
         {
          "learner": "XGBoost",
          "loss": 0.4030722582002677,
          "n_iter": 374
         },
         {
          "learner": "XGBoost",
          "loss": 0.4029292087801179,
          "n_iter": 375
         },
         {
          "learner": "XGBoost",
          "loss": 0.4030266961952038,
          "n_iter": 376
         },
         {
          "learner": "XGBoost",
          "loss": 0.4030742971015497,
          "n_iter": 377
         },
         {
          "learner": "XGBoost",
          "loss": 0.4030519957401776,
          "n_iter": 378
         },
         {
          "learner": "XGBoost",
          "loss": 0.4031513945138908,
          "n_iter": 379
         },
         {
          "learner": "XGBoost",
          "loss": 0.4032389915290504,
          "n_iter": 380
         },
         {
          "learner": "XGBoost",
          "loss": 0.40329401232416245,
          "n_iter": 381
         },
         {
          "learner": "XGBoost",
          "loss": 0.40327503707530127,
          "n_iter": 382
         },
         {
          "learner": "XGBoost",
          "loss": 0.40330301406943525,
          "n_iter": 383
         },
         {
          "learner": "XGBoost",
          "loss": 0.4034504010696815,
          "n_iter": 384
         },
         {
          "learner": "XGBoost",
          "loss": 0.4035094928156657,
          "n_iter": 385
         },
         {
          "learner": "XGBoost",
          "loss": 0.4034311748880067,
          "n_iter": 386
         },
         {
          "learner": "XGBoost",
          "loss": 0.4034945151784409,
          "n_iter": 387
         },
         {
          "learner": "XGBoost",
          "loss": 0.40347751890928657,
          "n_iter": 388
         },
         {
          "learner": "XGBoost",
          "loss": 0.4034593258665921,
          "n_iter": 389
         },
         {
          "learner": "XGBoost",
          "loss": 0.4034818380161536,
          "n_iter": 390
         },
         {
          "learner": "XGBoost",
          "loss": 0.40337754735774956,
          "n_iter": 391
         },
         {
          "learner": "XGBoost",
          "loss": 0.4034287554641246,
          "n_iter": 392
         },
         {
          "learner": "XGBoost",
          "loss": 0.4034290894695449,
          "n_iter": 393
         },
         {
          "learner": "XGBoost",
          "loss": 0.4035196388873345,
          "n_iter": 394
         },
         {
          "learner": "XGBoost",
          "loss": 0.40361570872246616,
          "n_iter": 395
         },
         {
          "learner": "XGBoost",
          "loss": 0.4035993784504186,
          "n_iter": 396
         },
         {
          "learner": "XGBoost",
          "loss": 0.40358652608692563,
          "n_iter": 397
         },
         {
          "learner": "XGBoost",
          "loss": 0.4036184674514905,
          "n_iter": 398
         },
         {
          "learner": "XGBoost",
          "loss": 0.4037178245692219,
          "n_iter": 399
         },
         {
          "learner": "XGBoost",
          "loss": 0.40380056200462106,
          "n_iter": 400
         },
         {
          "learner": "XGBoost",
          "loss": 0.40383480586335124,
          "n_iter": 401
         },
         {
          "learner": "XGBoost",
          "loss": 0.4037687510395515,
          "n_iter": 402
         },
         {
          "learner": "XGBoost",
          "loss": 0.4037606649444881,
          "n_iter": 403
         },
         {
          "learner": "XGBoost",
          "loss": 0.403820211909144,
          "n_iter": 404
         },
         {
          "learner": "XGBoost",
          "loss": 0.40371483238240047,
          "n_iter": 405
         },
         {
          "learner": "XGBoost",
          "loss": 0.40380815468428866,
          "n_iter": 406
         },
         {
          "learner": "XGBoost",
          "loss": 0.40378480532106864,
          "n_iter": 407
         },
         {
          "learner": "XGBoost",
          "loss": 0.4037043223737985,
          "n_iter": 408
         },
         {
          "learner": "XGBoost",
          "loss": 0.4038505512376605,
          "n_iter": 409
         },
         {
          "learner": "XGBoost",
          "loss": 0.40378885362787814,
          "n_iter": 410
         },
         {
          "learner": "XGBoost",
          "loss": 0.40381383606645976,
          "n_iter": 411
         },
         {
          "learner": "XGBoost",
          "loss": 0.40373558840413387,
          "n_iter": 412
         },
         {
          "learner": "XGBoost",
          "loss": 0.403724342271356,
          "n_iter": 413
         },
         {
          "learner": "XGBoost",
          "loss": 0.4036647693780528,
          "n_iter": 414
         },
         {
          "learner": "XGBoost",
          "loss": 0.4038385014098996,
          "n_iter": 415
         },
         {
          "learner": "XGBoost",
          "loss": 0.4038316902223208,
          "n_iter": 416
         },
         {
          "learner": "XGBoost",
          "loss": 0.4038825985571246,
          "n_iter": 417
         },
         {
          "learner": "XGBoost",
          "loss": 0.4038253681733285,
          "n_iter": 418
         },
         {
          "learner": "XGBoost",
          "loss": 0.4039727185188329,
          "n_iter": 419
         },
         {
          "learner": "XGBoost",
          "loss": 0.4040045060201821,
          "n_iter": 420
         },
         {
          "learner": "XGBoost",
          "loss": 0.404026120128016,
          "n_iter": 421
         },
         {
          "learner": "XGBoost",
          "loss": 0.40382470474480797,
          "n_iter": 422
         },
         {
          "learner": "XGBoost",
          "loss": 0.40381329731209475,
          "n_iter": 423
         },
         {
          "learner": "XGBoost",
          "loss": 0.40375893257403783,
          "n_iter": 424
         },
         {
          "learner": "XGBoost",
          "loss": 0.40368497073767434,
          "n_iter": 425
         },
         {
          "learner": "XGBoost",
          "loss": 0.4037075470114349,
          "n_iter": 426
         },
         {
          "learner": "XGBoost",
          "loss": 0.4036906987369891,
          "n_iter": 427
         },
         {
          "learner": "XGBoost",
          "loss": 0.4036381346113508,
          "n_iter": 428
         },
         {
          "learner": "XGBoost",
          "loss": 0.40371924446893886,
          "n_iter": 429
         },
         {
          "learner": "XGBoost",
          "loss": 0.40367405603921497,
          "n_iter": 430
         },
         {
          "learner": "XGBoost",
          "loss": 0.40366514053087355,
          "n_iter": 431
         },
         {
          "learner": "XGBoost",
          "loss": 0.4038627888168088,
          "n_iter": 432
         },
         {
          "learner": "XGBoost",
          "loss": 0.4036937473414482,
          "n_iter": 433
         },
         {
          "learner": "XGBoost",
          "loss": 0.4037172834780572,
          "n_iter": 434
         },
         {
          "learner": "XGBoost",
          "loss": 0.40368019502399677,
          "n_iter": 435
         },
         {
          "learner": "XGBoost",
          "loss": 0.4036312755535863,
          "n_iter": 436
         },
         {
          "learner": "XGBoost",
          "loss": 0.4036409129083055,
          "n_iter": 437
         },
         {
          "learner": "XGBoost",
          "loss": 0.40366565260321685,
          "n_iter": 438
         },
         {
          "learner": "XGBoost",
          "loss": 0.40350052753781995,
          "n_iter": 439
         },
         {
          "learner": "XGBoost",
          "loss": 0.403512891582915,
          "n_iter": 440
         },
         {
          "learner": "XGBoost",
          "loss": 0.4034845776681,
          "n_iter": 441
         },
         {
          "learner": "XGBoost",
          "loss": 0.40343797847398954,
          "n_iter": 442
         },
         {
          "learner": "XGBoost",
          "loss": 0.4036371384935559,
          "n_iter": 443
         },
         {
          "learner": "XGBoost",
          "loss": 0.40366271992686587,
          "n_iter": 444
         },
         {
          "learner": "XGBoost",
          "loss": 0.40358032329411936,
          "n_iter": 445
         },
         {
          "learner": "XGBoost",
          "loss": 0.4035602034059814,
          "n_iter": 446
         },
         {
          "learner": "XGBoost",
          "loss": 0.4035870521682693,
          "n_iter": 447
         },
         {
          "learner": "XGBoost",
          "loss": 0.4034044637928851,
          "n_iter": 448
         },
         {
          "learner": "XGBoost",
          "loss": 0.403547452477265,
          "n_iter": 449
         },
         {
          "learner": "XGBoost",
          "loss": 0.4035036222472536,
          "n_iter": 450
         },
         {
          "learner": "XGBoost",
          "loss": 0.4035311061593703,
          "n_iter": 451
         },
         {
          "learner": "XGBoost",
          "loss": 0.40351945780239956,
          "n_iter": 452
         },
         {
          "learner": "XGBoost",
          "loss": 0.4035310609491824,
          "n_iter": 453
         },
         {
          "learner": "XGBoost",
          "loss": 0.40337225622868317,
          "n_iter": 454
         },
         {
          "learner": "XGBoost",
          "loss": 0.4033779583299954,
          "n_iter": 455
         },
         {
          "learner": "XGBoost",
          "loss": 0.40335890140321257,
          "n_iter": 456
         },
         {
          "learner": "XGBoost",
          "loss": 0.4032749029946434,
          "n_iter": 457
         },
         {
          "learner": "XGBoost",
          "loss": 0.4033031750049363,
          "n_iter": 458
         },
         {
          "learner": "XGBoost",
          "loss": 0.40329963996287094,
          "n_iter": 459
         },
         {
          "learner": "XGBoost",
          "loss": 0.40336682075613595,
          "n_iter": 460
         },
         {
          "learner": "XGBoost",
          "loss": 0.403210654843873,
          "n_iter": 461
         },
         {
          "learner": "XGBoost",
          "loss": 0.4032277318145551,
          "n_iter": 462
         },
         {
          "learner": "XGBoost",
          "loss": 0.4032571312462755,
          "n_iter": 463
         },
         {
          "learner": "XGBoost",
          "loss": 0.4032182417230375,
          "n_iter": 464
         },
         {
          "learner": "XGBoost",
          "loss": 0.40320392152128975,
          "n_iter": 465
         },
         {
          "learner": "XGBoost",
          "loss": 0.4031722711244563,
          "n_iter": 466
         },
         {
          "learner": "XGBoost",
          "loss": 0.4033208582988113,
          "n_iter": 467
         },
         {
          "learner": "XGBoost",
          "loss": 0.40330377549813884,
          "n_iter": 468
         },
         {
          "learner": "XGBoost",
          "loss": 0.40330560675426114,
          "n_iter": 469
         },
         {
          "learner": "XGBoost",
          "loss": 0.4033748388184833,
          "n_iter": 470
         },
         {
          "learner": "XGBoost",
          "loss": 0.4035257985458868,
          "n_iter": 471
         },
         {
          "learner": "XGBoost",
          "loss": 0.4034501605308824,
          "n_iter": 472
         },
         {
          "learner": "XGBoost",
          "loss": 0.4034377732953218,
          "n_iter": 473
         },
         {
          "learner": "XGBoost",
          "loss": 0.40342475344958834,
          "n_iter": 474
         },
         {
          "learner": "XGBoost",
          "loss": 0.4034545667114069,
          "n_iter": 475
         },
         {
          "learner": "XGBoost",
          "loss": 0.4034621261395018,
          "n_iter": 476
         },
         {
          "learner": "XGBoost",
          "loss": 0.4034010844349229,
          "n_iter": 477
         },
         {
          "learner": "XGBoost",
          "loss": 0.4034792155008469,
          "n_iter": 478
         },
         {
          "learner": "XGBoost",
          "loss": 0.4034079295326691,
          "n_iter": 479
         },
         {
          "learner": "XGBoost",
          "loss": 0.40341956738235807,
          "n_iter": 480
         },
         {
          "learner": "XGBoost",
          "loss": 0.4034128336625235,
          "n_iter": 481
         },
         {
          "learner": "XGBoost",
          "loss": 0.4033889577409203,
          "n_iter": 482
         },
         {
          "learner": "XGBoost",
          "loss": 0.40341934094502746,
          "n_iter": 483
         },
         {
          "learner": "XGBoost",
          "loss": 0.40342848076596,
          "n_iter": 484
         },
         {
          "learner": "XGBoost",
          "loss": 0.4034998913119021,
          "n_iter": 485
         },
         {
          "learner": "XGBoost",
          "loss": 0.4035931332554331,
          "n_iter": 486
         },
         {
          "learner": "XGBoost",
          "loss": 0.4036098061892578,
          "n_iter": 487
         },
         {
          "learner": "XGBoost",
          "loss": 0.4035323271168496,
          "n_iter": 488
         },
         {
          "learner": "XGBoost",
          "loss": 0.40355074543574126,
          "n_iter": 489
         },
         {
          "learner": "XGBoost",
          "loss": 0.4035092712465466,
          "n_iter": 490
         },
         {
          "learner": "XGBoost",
          "loss": 0.40347993248934827,
          "n_iter": 491
         },
         {
          "learner": "XGBoost",
          "loss": 0.4034924012223001,
          "n_iter": 492
         },
         {
          "learner": "XGBoost",
          "loss": 0.4034303345759597,
          "n_iter": 493
         },
         {
          "learner": "XGBoost",
          "loss": 0.40348237143182025,
          "n_iter": 494
         },
         {
          "learner": "XGBoost",
          "loss": 0.40349606279040323,
          "n_iter": 495
         },
         {
          "learner": "XGBoost",
          "loss": 0.4035265406995272,
          "n_iter": 496
         },
         {
          "learner": "XGBoost",
          "loss": 0.4034554987156227,
          "n_iter": 497
         },
         {
          "learner": "XGBoost",
          "loss": 0.40346634889201155,
          "n_iter": 498
         },
         {
          "learner": "XGBoost",
          "loss": 0.40346168637323776,
          "n_iter": 499
         },
         {
          "learner": "XGBoost",
          "loss": 0.4035143536735371,
          "n_iter": 500
         },
         {
          "learner": "XGBoost",
          "loss": 0.4034789654023642,
          "n_iter": 501
         },
         {
          "learner": "XGBoost",
          "loss": 0.4034211839183518,
          "n_iter": 502
         },
         {
          "learner": "XGBoost",
          "loss": 0.4034401921375158,
          "n_iter": 503
         },
         {
          "learner": "XGBoost",
          "loss": 0.4034017885910768,
          "n_iter": 504
         },
         {
          "learner": "XGBoost",
          "loss": 0.4035845413743235,
          "n_iter": 505
         },
         {
          "learner": "XGBoost",
          "loss": 0.4035296137763977,
          "n_iter": 506
         },
         {
          "learner": "XGBoost",
          "loss": 0.4035428857155104,
          "n_iter": 507
         },
         {
          "learner": "XGBoost",
          "loss": 0.40356100390073274,
          "n_iter": 508
         },
         {
          "learner": "XGBoost",
          "loss": 0.4035916339148857,
          "n_iter": 509
         },
         {
          "learner": "XGBoost",
          "loss": 0.4035391308188438,
          "n_iter": 510
         },
         {
          "learner": "XGBoost",
          "loss": 0.4034763867792547,
          "n_iter": 511
         },
         {
          "learner": "XGBoost",
          "loss": 0.4034902104704388,
          "n_iter": 512
         },
         {
          "learner": "XGBoost",
          "loss": 0.4035215785646904,
          "n_iter": 513
         },
         {
          "learner": "XGBoost",
          "loss": 0.4035279224545966,
          "n_iter": 514
         },
         {
          "learner": "XGBoost",
          "loss": 0.4034506725990659,
          "n_iter": 515
         },
         {
          "learner": "XGBoost",
          "loss": 0.40336095122508603,
          "n_iter": 516
         },
         {
          "learner": "XGBoost",
          "loss": 0.4034348942016775,
          "n_iter": 517
         },
         {
          "learner": "XGBoost",
          "loss": 0.40356884164188306,
          "n_iter": 518
         },
         {
          "learner": "XGBoost",
          "loss": 0.4035844039932362,
          "n_iter": 519
         },
         {
          "learner": "XGBoost",
          "loss": 0.40352615884052406,
          "n_iter": 520
         },
         {
          "learner": "XGBoost",
          "loss": 0.40355806833696123,
          "n_iter": 521
         },
         {
          "learner": "XGBoost",
          "loss": 0.4035709730780814,
          "n_iter": 522
         },
         {
          "learner": "XGBoost",
          "loss": 0.4035824251127439,
          "n_iter": 523
         },
         {
          "learner": "XGBoost",
          "loss": 0.40375960514416603,
          "n_iter": 524
         },
         {
          "learner": "XGBoost",
          "loss": 0.40373169583972435,
          "n_iter": 525
         },
         {
          "learner": "XGBoost",
          "loss": 0.4037508547840018,
          "n_iter": 526
         },
         {
          "learner": "XGBoost",
          "loss": 0.4037924152094287,
          "n_iter": 527
         },
         {
          "learner": "XGBoost",
          "loss": 0.40373026258583683,
          "n_iter": 528
         },
         {
          "learner": "XGBoost",
          "loss": 0.40372550330199447,
          "n_iter": 529
         },
         {
          "learner": "XGBoost",
          "loss": 0.4037579632333496,
          "n_iter": 530
         },
         {
          "learner": "XGBoost",
          "loss": 0.4036889179250451,
          "n_iter": 531
         },
         {
          "learner": "XGBoost",
          "loss": 0.40381902305922607,
          "n_iter": 532
         },
         {
          "learner": "XGBoost",
          "loss": 0.4040085005314392,
          "n_iter": 533
         },
         {
          "learner": "XGBoost",
          "loss": 0.4039543357510646,
          "n_iter": 534
         },
         {
          "learner": "XGBoost",
          "loss": 0.4039292969453507,
          "n_iter": 535
         },
         {
          "learner": "XGBoost",
          "loss": 0.40412697758798005,
          "n_iter": 536
         },
         {
          "learner": "XGBoost",
          "loss": 0.40412386248167587,
          "n_iter": 537
         },
         {
          "learner": "XGBoost",
          "loss": 0.4040676908977487,
          "n_iter": 538
         },
         {
          "learner": "XGBoost",
          "loss": 0.40410065222155306,
          "n_iter": 539
         },
         {
          "learner": "XGBoost",
          "loss": 0.4041086561343132,
          "n_iter": 540
         },
         {
          "learner": "XGBoost",
          "loss": 0.40404399185872303,
          "n_iter": 541
         },
         {
          "learner": "XGBoost",
          "loss": 0.4040388114112728,
          "n_iter": 542
         },
         {
          "learner": "XGBoost",
          "loss": 0.4041694652776694,
          "n_iter": 543
         },
         {
          "learner": "XGBoost",
          "loss": 0.40421183429393076,
          "n_iter": 544
         },
         {
          "learner": "XGBoost",
          "loss": 0.404198225754808,
          "n_iter": 545
         },
         {
          "learner": "XGBoost",
          "loss": 0.40423161256656903,
          "n_iter": 546
         },
         {
          "learner": "XGBoost",
          "loss": 0.4042466160796821,
          "n_iter": 547
         },
         {
          "learner": "XGBoost",
          "loss": 0.4041668065897749,
          "n_iter": 548
         },
         {
          "learner": "XGBoost",
          "loss": 0.4042975623457462,
          "n_iter": 549
         },
         {
          "learner": "XGBoost",
          "loss": 0.40429595984448996,
          "n_iter": 550
         },
         {
          "learner": "XGBoost",
          "loss": 0.40440413589753016,
          "n_iter": 551
         },
         {
          "learner": "XGBoost",
          "loss": 0.4044209831101134,
          "n_iter": 552
         },
         {
          "learner": "XGBoost",
          "loss": 0.40455186974149704,
          "n_iter": 553
         },
         {
          "learner": "XGBoost",
          "loss": 0.4046877771457689,
          "n_iter": 554
         },
         {
          "learner": "XGBoost",
          "loss": 0.40466499022691316,
          "n_iter": 555
         },
         {
          "learner": "XGBoost",
          "loss": 0.4046838799209736,
          "n_iter": 556
         },
         {
          "learner": "XGBoost",
          "loss": 0.4047172817581147,
          "n_iter": 557
         },
         {
          "learner": "XGBoost",
          "loss": 0.40459194144080923,
          "n_iter": 558
         },
         {
          "learner": "XGBoost",
          "loss": 0.4047225960817124,
          "n_iter": 559
         },
         {
          "learner": "XGBoost",
          "loss": 0.40475485016454466,
          "n_iter": 560
         },
         {
          "learner": "XGBoost",
          "loss": 0.404696320782535,
          "n_iter": 561
         },
         {
          "learner": "XGBoost",
          "loss": 0.4045789803947973,
          "n_iter": 562
         },
         {
          "learner": "XGBoost",
          "loss": 0.4047832660424934,
          "n_iter": 563
         },
         {
          "learner": "XGBoost",
          "loss": 0.40481574157384737,
          "n_iter": 564
         },
         {
          "learner": "XGBoost",
          "loss": 0.4050029846310012,
          "n_iter": 565
         },
         {
          "learner": "XGBoost",
          "loss": 0.4051142678806216,
          "n_iter": 566
         },
         {
          "learner": "XGBoost",
          "loss": 0.405095989129773,
          "n_iter": 567
         },
         {
          "learner": "XGBoost",
          "loss": 0.40510245641272313,
          "n_iter": 568
         },
         {
          "learner": "XGBoost",
          "loss": 0.40506631044729735,
          "n_iter": 569
         },
         {
          "learner": "XGBoost",
          "loss": 0.4049569758805554,
          "n_iter": 570
         },
         {
          "learner": "XGBoost",
          "loss": 0.4050365610682362,
          "n_iter": 571
         },
         {
          "learner": "XGBoost",
          "loss": 0.4050002661514157,
          "n_iter": 572
         },
         {
          "learner": "XGBoost",
          "loss": 0.4050882454052958,
          "n_iter": 573
         },
         {
          "learner": "XGBoost",
          "loss": 0.40521357450290585,
          "n_iter": 574
         },
         {
          "learner": "XGBoost",
          "loss": 0.4052475741240344,
          "n_iter": 575
         },
         {
          "learner": "XGBoost",
          "loss": 0.4051464482309632,
          "n_iter": 576
         },
         {
          "learner": "XGBoost",
          "loss": 0.40518435263342534,
          "n_iter": 577
         },
         {
          "learner": "XGBoost",
          "loss": 0.40513045731556935,
          "n_iter": 578
         },
         {
          "learner": "XGBoost",
          "loss": 0.4051875397540962,
          "n_iter": 579
         },
         {
          "learner": "XGBoost",
          "loss": 0.4053749263464725,
          "n_iter": 580
         },
         {
          "learner": "XGBoost",
          "loss": 0.40528150498604254,
          "n_iter": 581
         },
         {
          "learner": "XGBoost",
          "loss": 0.4053780385819993,
          "n_iter": 582
         },
         {
          "learner": "XGBoost",
          "loss": 0.40538551823764907,
          "n_iter": 583
         },
         {
          "learner": "XGBoost",
          "loss": 0.40540238252868505,
          "n_iter": 584
         },
         {
          "learner": "XGBoost",
          "loss": 0.40552798997920175,
          "n_iter": 585
         },
         {
          "learner": "XGBoost",
          "loss": 0.40544689264711414,
          "n_iter": 586
         },
         {
          "learner": "XGBoost",
          "loss": 0.4055269989811233,
          "n_iter": 587
         },
         {
          "learner": "XGBoost",
          "loss": 0.4054869990950465,
          "n_iter": 588
         },
         {
          "learner": "XGBoost",
          "loss": 0.40553940213055883,
          "n_iter": 589
         },
         {
          "learner": "XGBoost",
          "loss": 0.4055986126738609,
          "n_iter": 590
         },
         {
          "learner": "XGBoost",
          "loss": 0.40560488577980564,
          "n_iter": 591
         },
         {
          "learner": "XGBoost",
          "loss": 0.4055534003653307,
          "n_iter": 592
         },
         {
          "learner": "XGBoost",
          "loss": 0.4055478607312272,
          "n_iter": 593
         },
         {
          "learner": "XGBoost",
          "loss": 0.40576016649196134,
          "n_iter": 594
         },
         {
          "learner": "XGBoost",
          "loss": 0.40593347832672444,
          "n_iter": 595
         },
         {
          "learner": "XGBoost",
          "loss": 0.4058833059781131,
          "n_iter": 596
         },
         {
          "learner": "XGBoost",
          "loss": 0.40596312696071374,
          "n_iter": 597
         },
         {
          "learner": "XGBoost",
          "loss": 0.4061509102429117,
          "n_iter": 598
         },
         {
          "learner": "XGBoost",
          "loss": 0.40616916555813,
          "n_iter": 599
         },
         {
          "learner": "XGBoost",
          "loss": 0.40636967057764456,
          "n_iter": 600
         },
         {
          "learner": "XGBoost",
          "loss": 0.40635286888709643,
          "n_iter": 601
         },
         {
          "learner": "XGBoost",
          "loss": 0.40641290647812184,
          "n_iter": 602
         },
         {
          "learner": "XGBoost",
          "loss": 0.4064367186405739,
          "n_iter": 603
         },
         {
          "learner": "XGBoost",
          "loss": 0.4065991174594709,
          "n_iter": 604
         },
         {
          "learner": "XGBoost",
          "loss": 0.40657109512051215,
          "n_iter": 605
         },
         {
          "learner": "XGBoost",
          "loss": 0.4066685915569067,
          "n_iter": 606
         },
         {
          "learner": "XGBoost",
          "loss": 0.4066203555426368,
          "n_iter": 607
         },
         {
          "learner": "XGBoost",
          "loss": 0.4066740579732661,
          "n_iter": 608
         },
         {
          "learner": "XGBoost",
          "loss": 0.4066471628604437,
          "n_iter": 609
         },
         {
          "learner": "XGBoost",
          "loss": 0.4066456558029647,
          "n_iter": 610
         },
         {
          "learner": "XGBoost",
          "loss": 0.4067069147453335,
          "n_iter": 611
         },
         {
          "learner": "XGBoost",
          "loss": 0.406688809100227,
          "n_iter": 612
         },
         {
          "learner": "XGBoost",
          "loss": 0.40682773813141787,
          "n_iter": 613
         },
         {
          "learner": "XGBoost",
          "loss": 0.406811922739833,
          "n_iter": 614
         },
         {
          "learner": "XGBoost",
          "loss": 0.4069760092160499,
          "n_iter": 615
         },
         {
          "learner": "XGBoost",
          "loss": 0.4070737768278699,
          "n_iter": 616
         },
         {
          "learner": "XGBoost",
          "loss": 0.40713577084383373,
          "n_iter": 617
         },
         {
          "learner": "XGBoost",
          "loss": 0.4070917961404355,
          "n_iter": 618
         },
         {
          "learner": "XGBoost",
          "loss": 0.40699314970461165,
          "n_iter": 619
         },
         {
          "learner": "XGBoost",
          "loss": 0.4069675946637748,
          "n_iter": 620
         },
         {
          "learner": "XGBoost",
          "loss": 0.40696626339808906,
          "n_iter": 621
         },
         {
          "learner": "XGBoost",
          "loss": 0.40692039431231924,
          "n_iter": 622
         },
         {
          "learner": "XGBoost",
          "loss": 0.4071164006479915,
          "n_iter": 623
         },
         {
          "learner": "XGBoost",
          "loss": 0.40708788597801665,
          "n_iter": 624
         },
         {
          "learner": "XGBoost",
          "loss": 0.40718584586475254,
          "n_iter": 625
         },
         {
          "learner": "XGBoost",
          "loss": 0.40724827265216057,
          "n_iter": 626
         },
         {
          "learner": "XGBoost",
          "loss": 0.4073027660052547,
          "n_iter": 627
         },
         {
          "learner": "XGBoost",
          "loss": 0.4072785942808547,
          "n_iter": 628
         },
         {
          "learner": "XGBoost",
          "loss": 0.4072640958007428,
          "n_iter": 629
         },
         {
          "learner": "XGBoost",
          "loss": 0.40727421885760867,
          "n_iter": 630
         },
         {
          "learner": "XGBoost",
          "loss": 0.40735893173572274,
          "n_iter": 631
         },
         {
          "learner": "XGBoost",
          "loss": 0.4074923004100606,
          "n_iter": 632
         },
         {
          "learner": "XGBoost",
          "loss": 0.40743115408945757,
          "n_iter": 633
         },
         {
          "learner": "XGBoost",
          "loss": 0.40744789278767607,
          "n_iter": 634
         },
         {
          "learner": "XGBoost",
          "loss": 0.4076492212020664,
          "n_iter": 635
         },
         {
          "learner": "XGBoost",
          "loss": 0.407712544049436,
          "n_iter": 636
         },
         {
          "learner": "XGBoost",
          "loss": 0.4076321951862797,
          "n_iter": 637
         },
         {
          "learner": "XGBoost",
          "loss": 0.4076091752653533,
          "n_iter": 638
         },
         {
          "learner": "XGBoost",
          "loss": 0.4076894866291475,
          "n_iter": 639
         },
         {
          "learner": "XGBoost",
          "loss": 0.407657789202713,
          "n_iter": 640
         },
         {
          "learner": "XGBoost",
          "loss": 0.40771291295223805,
          "n_iter": 641
         },
         {
          "learner": "XGBoost",
          "loss": 0.40769089312368073,
          "n_iter": 642
         },
         {
          "learner": "XGBoost",
          "loss": 0.4077813301398827,
          "n_iter": 643
         },
         {
          "learner": "XGBoost",
          "loss": 0.40779563345177655,
          "n_iter": 644
         },
         {
          "learner": "XGBoost",
          "loss": 0.40781248122557984,
          "n_iter": 645
         },
         {
          "learner": "XGBoost",
          "loss": 0.4078068920733273,
          "n_iter": 646
         },
         {
          "learner": "XGBoost",
          "loss": 0.4077560732391023,
          "n_iter": 647
         },
         {
          "learner": "XGBoost",
          "loss": 0.40782226254113974,
          "n_iter": 648
         },
         {
          "learner": "XGBoost",
          "loss": 0.407902630261153,
          "n_iter": 649
         },
         {
          "learner": "XGBoost",
          "loss": 0.40795807634494835,
          "n_iter": 650
         },
         {
          "learner": "XGBoost",
          "loss": 0.40795935347194806,
          "n_iter": 651
         },
         {
          "learner": "XGBoost",
          "loss": 0.4079764313200688,
          "n_iter": 652
         },
         {
          "learner": "XGBoost",
          "loss": 0.408064072692205,
          "n_iter": 653
         },
         {
          "learner": "XGBoost",
          "loss": 0.40805901078466467,
          "n_iter": 654
         },
         {
          "learner": "XGBoost",
          "loss": 0.4080695010707117,
          "n_iter": 655
         },
         {
          "learner": "XGBoost",
          "loss": 0.40814966795691604,
          "n_iter": 656
         },
         {
          "learner": "XGBoost",
          "loss": 0.40833593458618594,
          "n_iter": 657
         },
         {
          "learner": "XGBoost",
          "loss": 0.4084063220757143,
          "n_iter": 658
         },
         {
          "learner": "XGBoost",
          "loss": 0.4084704589129162,
          "n_iter": 659
         },
         {
          "learner": "XGBoost",
          "loss": 0.4085603251004401,
          "n_iter": 660
         },
         {
          "learner": "XGBoost",
          "loss": 0.40861635887666814,
          "n_iter": 661
         },
         {
          "learner": "XGBoost",
          "loss": 0.4085777115207161,
          "n_iter": 662
         },
         {
          "learner": "XGBoost",
          "loss": 0.40857319950496435,
          "n_iter": 663
         },
         {
          "learner": "XGBoost",
          "loss": 0.4085482659545696,
          "n_iter": 664
         },
         {
          "learner": "XGBoost",
          "loss": 0.4086384676191706,
          "n_iter": 665
         },
         {
          "learner": "XGBoost",
          "loss": 0.4086170788682108,
          "n_iter": 666
         },
         {
          "learner": "XGBoost",
          "loss": 0.40860459788279807,
          "n_iter": 667
         },
         {
          "learner": "XGBoost",
          "loss": 0.408669093387981,
          "n_iter": 668
         },
         {
          "learner": "XGBoost",
          "loss": 0.40874314652839155,
          "n_iter": 669
         },
         {
          "learner": "XGBoost",
          "loss": 0.40884042624004757,
          "n_iter": 670
         },
         {
          "learner": "XGBoost",
          "loss": 0.4090196675568838,
          "n_iter": 671
         },
         {
          "learner": "XGBoost",
          "loss": 0.4090750123663728,
          "n_iter": 672
         },
         {
          "learner": "XGBoost",
          "loss": 0.40913375753835296,
          "n_iter": 673
         },
         {
          "learner": "XGBoost",
          "loss": 0.40912982174948537,
          "n_iter": 674
         },
         {
          "learner": "XGBoost",
          "loss": 0.4091983291097294,
          "n_iter": 675
         },
         {
          "learner": "XGBoost",
          "loss": 0.40929166164423875,
          "n_iter": 676
         },
         {
          "learner": "XGBoost",
          "loss": 0.40929184158760484,
          "n_iter": 677
         },
         {
          "learner": "XGBoost",
          "loss": 0.4093689316442281,
          "n_iter": 678
         },
         {
          "learner": "XGBoost",
          "loss": 0.40933074385580026,
          "n_iter": 679
         },
         {
          "learner": "XGBoost",
          "loss": 0.40938183763150926,
          "n_iter": 680
         },
         {
          "learner": "XGBoost",
          "loss": 0.40937841643294137,
          "n_iter": 681
         },
         {
          "learner": "XGBoost",
          "loss": 0.40947287556684614,
          "n_iter": 682
         },
         {
          "learner": "XGBoost",
          "loss": 0.409590172047985,
          "n_iter": 683
         },
         {
          "learner": "XGBoost",
          "loss": 0.4097810088757859,
          "n_iter": 684
         },
         {
          "learner": "XGBoost",
          "loss": 0.40974483386323035,
          "n_iter": 685
         },
         {
          "learner": "XGBoost",
          "loss": 0.40974528746052313,
          "n_iter": 686
         },
         {
          "learner": "XGBoost",
          "loss": 0.4097251023268249,
          "n_iter": 687
         },
         {
          "learner": "XGBoost",
          "loss": 0.4097874705144032,
          "n_iter": 688
         },
         {
          "learner": "XGBoost",
          "loss": 0.40981440894090165,
          "n_iter": 689
         },
         {
          "learner": "XGBoost",
          "loss": 0.40981136446365435,
          "n_iter": 690
         },
         {
          "learner": "XGBoost",
          "loss": 0.4097774354932086,
          "n_iter": 691
         },
         {
          "learner": "XGBoost",
          "loss": 0.4098288834469998,
          "n_iter": 692
         },
         {
          "learner": "XGBoost",
          "loss": 0.4099258251968842,
          "n_iter": 693
         },
         {
          "learner": "XGBoost",
          "loss": 0.40995758593687975,
          "n_iter": 694
         },
         {
          "learner": "XGBoost",
          "loss": 0.41008946831862825,
          "n_iter": 695
         },
         {
          "learner": "XGBoost",
          "loss": 0.410266861711311,
          "n_iter": 696
         },
         {
          "learner": "XGBoost",
          "loss": 0.4102890403429227,
          "n_iter": 697
         },
         {
          "learner": "XGBoost",
          "loss": 0.41028993337387043,
          "n_iter": 698
         },
         {
          "learner": "XGBoost",
          "loss": 0.410288923287523,
          "n_iter": 699
         },
         {
          "learner": "XGBoost",
          "loss": 0.41028637262397943,
          "n_iter": 700
         },
         {
          "learner": "XGBoost",
          "loss": 0.41039822901620293,
          "n_iter": 701
         },
         {
          "learner": "XGBoost",
          "loss": 0.4104132365929844,
          "n_iter": 702
         },
         {
          "learner": "XGBoost",
          "loss": 0.41051087601649383,
          "n_iter": 703
         },
         {
          "learner": "XGBoost",
          "loss": 0.41047508550972833,
          "n_iter": 704
         },
         {
          "learner": "XGBoost",
          "loss": 0.4105940201842352,
          "n_iter": 705
         },
         {
          "learner": "XGBoost",
          "loss": 0.41059187388553087,
          "n_iter": 706
         },
         {
          "learner": "XGBoost",
          "loss": 0.4107166704917966,
          "n_iter": 707
         },
         {
          "learner": "XGBoost",
          "loss": 0.4107324904820668,
          "n_iter": 708
         },
         {
          "learner": "XGBoost",
          "loss": 0.41073418318615085,
          "n_iter": 709
         },
         {
          "learner": "XGBoost",
          "loss": 0.410703254505709,
          "n_iter": 710
         },
         {
          "learner": "XGBoost",
          "loss": 0.41077004159516023,
          "n_iter": 711
         },
         {
          "learner": "XGBoost",
          "loss": 0.4109347988497014,
          "n_iter": 712
         },
         {
          "learner": "XGBoost",
          "loss": 0.4109961163627899,
          "n_iter": 713
         },
         {
          "learner": "XGBoost",
          "loss": 0.4111060501668138,
          "n_iter": 714
         },
         {
          "learner": "XGBoost",
          "loss": 0.41112231689506773,
          "n_iter": 715
         },
         {
          "learner": "XGBoost",
          "loss": 0.41124742393074515,
          "n_iter": 716
         },
         {
          "learner": "XGBoost",
          "loss": 0.4112661654465587,
          "n_iter": 717
         },
         {
          "learner": "XGBoost",
          "loss": 0.41136457275956545,
          "n_iter": 718
         },
         {
          "learner": "XGBoost",
          "loss": 0.4114644097509475,
          "n_iter": 719
         },
         {
          "learner": "XGBoost",
          "loss": 0.4115976597298858,
          "n_iter": 720
         },
         {
          "learner": "XGBoost",
          "loss": 0.4115690452671676,
          "n_iter": 721
         },
         {
          "learner": "XGBoost",
          "loss": 0.41168845670466253,
          "n_iter": 722
         },
         {
          "learner": "XGBoost",
          "loss": 0.41169713504051203,
          "n_iter": 723
         },
         {
          "learner": "XGBoost",
          "loss": 0.41169833103573195,
          "n_iter": 724
         },
         {
          "learner": "XGBoost",
          "loss": 0.41170021860190525,
          "n_iter": 725
         },
         {
          "learner": "XGBoost",
          "loss": 0.4118187598132706,
          "n_iter": 726
         },
         {
          "learner": "XGBoost",
          "loss": 0.41189047191041955,
          "n_iter": 727
         },
         {
          "learner": "XGBoost",
          "loss": 0.4118653494278408,
          "n_iter": 728
         },
         {
          "learner": "XGBoost",
          "loss": 0.411863214879707,
          "n_iter": 729
         },
         {
          "learner": "XGBoost",
          "loss": 0.4119883888594273,
          "n_iter": 730
         },
         {
          "learner": "XGBoost",
          "loss": 0.41199035289400426,
          "n_iter": 731
         },
         {
          "learner": "XGBoost",
          "loss": 0.41200694559693163,
          "n_iter": 732
         },
         {
          "learner": "XGBoost",
          "loss": 0.41210751973498505,
          "n_iter": 733
         },
         {
          "learner": "XGBoost",
          "loss": 0.41225487729339105,
          "n_iter": 734
         },
         {
          "learner": "XGBoost",
          "loss": 0.41222436110705424,
          "n_iter": 735
         },
         {
          "learner": "XGBoost",
          "loss": 0.412292461491957,
          "n_iter": 736
         },
         {
          "learner": "XGBoost",
          "loss": 0.41226756104988177,
          "n_iter": 737
         },
         {
          "learner": "XGBoost",
          "loss": 0.41240022755288364,
          "n_iter": 738
         },
         {
          "learner": "XGBoost",
          "loss": 0.41249073187642277,
          "n_iter": 739
         },
         {
          "learner": "XGBoost",
          "loss": 0.4124889776607563,
          "n_iter": 740
         },
         {
          "learner": "XGBoost",
          "loss": 0.4125846103731807,
          "n_iter": 741
         },
         {
          "learner": "XGBoost",
          "loss": 0.4125876211074329,
          "n_iter": 742
         },
         {
          "learner": "XGBoost",
          "loss": 0.4126161859208195,
          "n_iter": 743
         },
         {
          "learner": "XGBoost",
          "loss": 0.4126587592790715,
          "n_iter": 744
         },
         {
          "learner": "XGBoost",
          "loss": 0.4127190414750305,
          "n_iter": 745
         },
         {
          "learner": "XGBoost",
          "loss": 0.4128206859469115,
          "n_iter": 746
         },
         {
          "learner": "XGBoost",
          "loss": 0.412853197137386,
          "n_iter": 747
         },
         {
          "learner": "XGBoost",
          "loss": 0.41292159033719145,
          "n_iter": 748
         },
         {
          "learner": "XGBoost",
          "loss": 0.4130462788843757,
          "n_iter": 749
         },
         {
          "learner": "XGBoost",
          "loss": 0.41306506877039323,
          "n_iter": 750
         },
         {
          "learner": "XGBoost",
          "loss": 0.4131427567935047,
          "n_iter": 751
         },
         {
          "learner": "XGBoost",
          "loss": 0.4132382757561354,
          "n_iter": 752
         },
         {
          "learner": "XGBoost",
          "loss": 0.41328500676537017,
          "n_iter": 753
         },
         {
          "learner": "XGBoost",
          "loss": 0.41326243452976463,
          "n_iter": 754
         },
         {
          "learner": "XGBoost",
          "loss": 0.4133946890238159,
          "n_iter": 755
         },
         {
          "learner": "XGBoost",
          "loss": 0.4133966372145031,
          "n_iter": 756
         },
         {
          "learner": "XGBoost",
          "loss": 0.4133987522159455,
          "n_iter": 757
         },
         {
          "learner": "XGBoost",
          "loss": 0.4133973035062581,
          "n_iter": 758
         },
         {
          "learner": "XGBoost",
          "loss": 0.4134800856024917,
          "n_iter": 759
         },
         {
          "learner": "XGBoost",
          "loss": 0.4135983351557664,
          "n_iter": 760
         },
         {
          "learner": "XGBoost",
          "loss": 0.4136672089912966,
          "n_iter": 761
         },
         {
          "learner": "XGBoost",
          "loss": 0.4137032042486478,
          "n_iter": 762
         },
         {
          "learner": "XGBoost",
          "loss": 0.4137983536355891,
          "n_iter": 763
         },
         {
          "learner": "XGBoost",
          "loss": 0.41380052805018575,
          "n_iter": 764
         },
         {
          "learner": "XGBoost",
          "loss": 0.4137788005927867,
          "n_iter": 765
         },
         {
          "learner": "XGBoost",
          "loss": 0.41377791327401026,
          "n_iter": 766
         },
         {
          "learner": "XGBoost",
          "loss": 0.4138818557454691,
          "n_iter": 767
         },
         {
          "learner": "XGBoost",
          "loss": 0.4139491665078721,
          "n_iter": 768
         },
         {
          "learner": "XGBoost",
          "loss": 0.41396509292004,
          "n_iter": 769
         },
         {
          "learner": "XGBoost",
          "loss": 0.4139678383929973,
          "n_iter": 770
         },
         {
          "learner": "XGBoost",
          "loss": 0.41410400389474283,
          "n_iter": 771
         },
         {
          "learner": "XGBoost",
          "loss": 0.4140774953536128,
          "n_iter": 772
         },
         {
          "learner": "XGBoost",
          "loss": 0.4141473911406816,
          "n_iter": 773
         },
         {
          "learner": "XGBoost",
          "loss": 0.4141756463845912,
          "n_iter": 774
         },
         {
          "learner": "XGBoost",
          "loss": 0.414270273334682,
          "n_iter": 775
         },
         {
          "learner": "XGBoost",
          "loss": 0.4143791521921829,
          "n_iter": 776
         },
         {
          "learner": "XGBoost",
          "loss": 0.4143788326162191,
          "n_iter": 777
         },
         {
          "learner": "XGBoost",
          "loss": 0.4145153466773303,
          "n_iter": 778
         },
         {
          "learner": "XGBoost",
          "loss": 0.41458566079941434,
          "n_iter": 779
         },
         {
          "learner": "XGBoost",
          "loss": 0.4145577053382567,
          "n_iter": 780
         },
         {
          "learner": "XGBoost",
          "loss": 0.4145536147800592,
          "n_iter": 781
         },
         {
          "learner": "XGBoost",
          "loss": 0.4145699223250783,
          "n_iter": 782
         },
         {
          "learner": "XGBoost",
          "loss": 0.41466464689888755,
          "n_iter": 783
         },
         {
          "learner": "XGBoost",
          "loss": 0.41472564595580996,
          "n_iter": 784
         },
         {
          "learner": "XGBoost",
          "loss": 0.4147791316975825,
          "n_iter": 785
         },
         {
          "learner": "XGBoost",
          "loss": 0.4147825671146682,
          "n_iter": 786
         },
         {
          "learner": "XGBoost",
          "loss": 0.41485101469228625,
          "n_iter": 787
         },
         {
          "learner": "XGBoost",
          "loss": 0.41488754442532716,
          "n_iter": 788
         },
         {
          "learner": "XGBoost",
          "loss": 0.41488769632983846,
          "n_iter": 789
         },
         {
          "learner": "XGBoost",
          "loss": 0.4149720163807459,
          "n_iter": 790
         },
         {
          "learner": "XGBoost",
          "loss": 0.4150001554606344,
          "n_iter": 791
         },
         {
          "learner": "XGBoost",
          "loss": 0.4150640938990132,
          "n_iter": 792
         },
         {
          "learner": "XGBoost",
          "loss": 0.4150680508898121,
          "n_iter": 793
         },
         {
          "learner": "XGBoost",
          "loss": 0.4151449299769399,
          "n_iter": 794
         },
         {
          "learner": "XGBoost",
          "loss": 0.41516428418483253,
          "n_iter": 795
         },
         {
          "learner": "XGBoost",
          "loss": 0.4152156046513442,
          "n_iter": 796
         },
         {
          "learner": "XGBoost",
          "loss": 0.41521996766761726,
          "n_iter": 797
         },
         {
          "learner": "XGBoost",
          "loss": 0.41528767536494876,
          "n_iter": 798
         },
         {
          "learner": "XGBoost",
          "loss": 0.415284211170281,
          "n_iter": 799
         },
         {
          "learner": "XGBoost",
          "loss": 0.4153892593377465,
          "n_iter": 800
         },
         {
          "learner": "XGBoost",
          "loss": 0.41543789973060385,
          "n_iter": 801
         },
         {
          "learner": "XGBoost",
          "loss": 0.4155685444173382,
          "n_iter": 802
         },
         {
          "learner": "XGBoost",
          "loss": 0.41556596865464285,
          "n_iter": 803
         },
         {
          "learner": "XGBoost",
          "loss": 0.415609670314672,
          "n_iter": 804
         },
         {
          "learner": "XGBoost",
          "loss": 0.41566296108274886,
          "n_iter": 805
         },
         {
          "learner": "XGBoost",
          "loss": 0.4157331743879846,
          "n_iter": 806
         },
         {
          "learner": "XGBoost",
          "loss": 0.4157381163232219,
          "n_iter": 807
         },
         {
          "learner": "XGBoost",
          "loss": 0.41580695202328255,
          "n_iter": 808
         },
         {
          "learner": "XGBoost",
          "loss": 0.41587927069627256,
          "n_iter": 809
         },
         {
          "learner": "XGBoost",
          "loss": 0.41595322449501504,
          "n_iter": 810
         },
         {
          "learner": "XGBoost",
          "loss": 0.41606524033717746,
          "n_iter": 811
         },
         {
          "learner": "XGBoost",
          "loss": 0.41609110660742843,
          "n_iter": 812
         },
         {
          "learner": "XGBoost",
          "loss": 0.4160700735471729,
          "n_iter": 813
         },
         {
          "learner": "XGBoost",
          "loss": 0.4161393775742475,
          "n_iter": 814
         },
         {
          "learner": "XGBoost",
          "loss": 0.41621245179816574,
          "n_iter": 815
         },
         {
          "learner": "XGBoost",
          "loss": 0.41624913268873975,
          "n_iter": 816
         },
         {
          "learner": "XGBoost",
          "loss": 0.416254577774846,
          "n_iter": 817
         },
         {
          "learner": "XGBoost",
          "loss": 0.4163647420764114,
          "n_iter": 818
         },
         {
          "learner": "XGBoost",
          "loss": 0.4163811681095935,
          "n_iter": 819
         },
         {
          "learner": "XGBoost",
          "loss": 0.41647480485920313,
          "n_iter": 820
         },
         {
          "learner": "XGBoost",
          "loss": 0.4165419243169828,
          "n_iter": 821
         },
         {
          "learner": "XGBoost",
          "loss": 0.41654775361287405,
          "n_iter": 822
         },
         {
          "learner": "XGBoost",
          "loss": 0.41655046419167385,
          "n_iter": 823
         },
         {
          "learner": "XGBoost",
          "loss": 0.41653166649155243,
          "n_iter": 824
         },
         {
          "learner": "XGBoost",
          "loss": 0.4165771542506538,
          "n_iter": 825
         },
         {
          "learner": "XGBoost",
          "loss": 0.41655952233960164,
          "n_iter": 826
         },
         {
          "learner": "XGBoost",
          "loss": 0.4166741936110007,
          "n_iter": 827
         },
         {
          "learner": "XGBoost",
          "loss": 0.4167865404313501,
          "n_iter": 828
         },
         {
          "learner": "XGBoost",
          "loss": 0.41686309643436276,
          "n_iter": 829
         },
         {
          "learner": "XGBoost",
          "loss": 0.41696373855718444,
          "n_iter": 830
         },
         {
          "learner": "XGBoost",
          "loss": 0.4170407460191347,
          "n_iter": 831
         },
         {
          "learner": "XGBoost",
          "loss": 0.41708536036651184,
          "n_iter": 832
         },
         {
          "learner": "XGBoost",
          "loss": 0.41708372819604406,
          "n_iter": 833
         },
         {
          "learner": "XGBoost",
          "loss": 0.4170815022574497,
          "n_iter": 834
         },
         {
          "learner": "XGBoost",
          "loss": 0.41724203668328846,
          "n_iter": 835
         },
         {
          "learner": "XGBoost",
          "loss": 0.41727197906320934,
          "n_iter": 836
         },
         {
          "learner": "XGBoost",
          "loss": 0.4171937608068005,
          "n_iter": 837
         },
         {
          "learner": "XGBoost",
          "loss": 0.4172119911851799,
          "n_iter": 838
         },
         {
          "learner": "XGBoost",
          "loss": 0.4172687194474461,
          "n_iter": 839
         },
         {
          "learner": "XGBoost",
          "loss": 0.4172759702294416,
          "n_iter": 840
         },
         {
          "learner": "XGBoost",
          "loss": 0.41728196886411417,
          "n_iter": 841
         },
         {
          "learner": "XGBoost",
          "loss": 0.41737508263994694,
          "n_iter": 842
         },
         {
          "learner": "XGBoost",
          "loss": 0.41745148142873467,
          "n_iter": 843
         },
         {
          "learner": "XGBoost",
          "loss": 0.4175309248012784,
          "n_iter": 844
         },
         {
          "learner": "XGBoost",
          "loss": 0.41748306993438455,
          "n_iter": 845
         },
         {
          "learner": "XGBoost",
          "loss": 0.4174899741187928,
          "n_iter": 846
         },
         {
          "learner": "XGBoost",
          "loss": 0.41760093236107076,
          "n_iter": 847
         },
         {
          "learner": "XGBoost",
          "loss": 0.41773685618233614,
          "n_iter": 848
         },
         {
          "learner": "XGBoost",
          "loss": 0.4177584050885831,
          "n_iter": 849
         },
         {
          "learner": "XGBoost",
          "loss": 0.4178157768156824,
          "n_iter": 850
         },
         {
          "learner": "XGBoost",
          "loss": 0.41774137472277145,
          "n_iter": 851
         },
         {
          "learner": "XGBoost",
          "loss": 0.4177409021712395,
          "n_iter": 852
         },
         {
          "learner": "XGBoost",
          "loss": 0.4178114623171429,
          "n_iter": 853
         },
         {
          "learner": "XGBoost",
          "loss": 0.41792239153716415,
          "n_iter": 854
         },
         {
          "learner": "XGBoost",
          "loss": 0.4179206878823555,
          "n_iter": 855
         },
         {
          "learner": "XGBoost",
          "loss": 0.41791902425079974,
          "n_iter": 856
         },
         {
          "learner": "XGBoost",
          "loss": 0.4179178620229939,
          "n_iter": 857
         },
         {
          "learner": "XGBoost",
          "loss": 0.41801095069811484,
          "n_iter": 858
         },
         {
          "learner": "XGBoost",
          "loss": 0.418124764416485,
          "n_iter": 859
         },
         {
          "learner": "XGBoost",
          "loss": 0.41816660915934706,
          "n_iter": 860
         },
         {
          "learner": "XGBoost",
          "loss": 0.4182428914190078,
          "n_iter": 861
         },
         {
          "learner": "XGBoost",
          "loss": 0.41839397438129344,
          "n_iter": 862
         },
         {
          "learner": "XGBoost",
          "loss": 0.41846721318355407,
          "n_iter": 863
         },
         {
          "learner": "XGBoost",
          "loss": 0.41847710011190986,
          "n_iter": 864
         },
         {
          "learner": "XGBoost",
          "loss": 0.41848805270050177,
          "n_iter": 865
         },
         {
          "learner": "XGBoost",
          "loss": 0.4185065304036927,
          "n_iter": 866
         },
         {
          "learner": "XGBoost",
          "loss": 0.41859947013364446,
          "n_iter": 867
         },
         {
          "learner": "XGBoost",
          "loss": 0.4185891333104352,
          "n_iter": 868
         },
         {
          "learner": "XGBoost",
          "loss": 0.41867392011911037,
          "n_iter": 869
         },
         {
          "learner": "XGBoost",
          "loss": 0.41873229804624734,
          "n_iter": 870
         },
         {
          "learner": "XGBoost",
          "loss": 0.41871677574374255,
          "n_iter": 871
         },
         {
          "learner": "XGBoost",
          "loss": 0.4188088591113343,
          "n_iter": 872
         },
         {
          "learner": "XGBoost",
          "loss": 0.41892012971407255,
          "n_iter": 873
         },
         {
          "learner": "XGBoost",
          "loss": 0.41894118253034773,
          "n_iter": 874
         },
         {
          "learner": "XGBoost",
          "loss": 0.4190536663317945,
          "n_iter": 875
         },
         {
          "learner": "XGBoost",
          "loss": 0.41909971042559396,
          "n_iter": 876
         },
         {
          "learner": "XGBoost",
          "loss": 0.41918278549091254,
          "n_iter": 877
         },
         {
          "learner": "XGBoost",
          "loss": 0.4192245654339834,
          "n_iter": 878
         },
         {
          "learner": "XGBoost",
          "loss": 0.4191615153360639,
          "n_iter": 879
         },
         {
          "learner": "XGBoost",
          "loss": 0.4191540020983314,
          "n_iter": 880
         },
         {
          "learner": "XGBoost",
          "loss": 0.41931116456069434,
          "n_iter": 881
         },
         {
          "learner": "XGBoost",
          "loss": 0.41938192329448204,
          "n_iter": 882
         },
         {
          "learner": "XGBoost",
          "loss": 0.4195313504641667,
          "n_iter": 883
         },
         {
          "learner": "XGBoost",
          "loss": 0.41956020652900944,
          "n_iter": 884
         },
         {
          "learner": "XGBoost",
          "loss": 0.41965766370497065,
          "n_iter": 885
         },
         {
          "learner": "XGBoost",
          "loss": 0.4197459953434369,
          "n_iter": 886
         },
         {
          "learner": "XGBoost",
          "loss": 0.4197125717675739,
          "n_iter": 887
         },
         {
          "learner": "XGBoost",
          "loss": 0.419731482352166,
          "n_iter": 888
         },
         {
          "learner": "XGBoost",
          "loss": 0.4197628268241003,
          "n_iter": 889
         },
         {
          "learner": "XGBoost",
          "loss": 0.4198559972407206,
          "n_iter": 890
         },
         {
          "learner": "XGBoost",
          "loss": 0.4198161048860704,
          "n_iter": 891
         },
         {
          "learner": "XGBoost",
          "loss": 0.4199358759695604,
          "n_iter": 892
         },
         {
          "learner": "XGBoost",
          "loss": 0.41999528688175863,
          "n_iter": 893
         },
         {
          "learner": "XGBoost",
          "loss": 0.4199136749665196,
          "n_iter": 894
         },
         {
          "learner": "XGBoost",
          "loss": 0.41989252972149527,
          "n_iter": 895
         },
         {
          "learner": "XGBoost",
          "loss": 0.41992646544391493,
          "n_iter": 896
         },
         {
          "learner": "XGBoost",
          "loss": 0.4199429614964663,
          "n_iter": 897
         },
         {
          "learner": "XGBoost",
          "loss": 0.4199982118249483,
          "n_iter": 898
         },
         {
          "learner": "XGBoost",
          "loss": 0.4199993029045262,
          "n_iter": 899
         },
         {
          "learner": "XGBoost",
          "loss": 0.4200914010676795,
          "n_iter": 900
         },
         {
          "learner": "XGBoost",
          "loss": 0.42018550512724123,
          "n_iter": 901
         },
         {
          "learner": "XGBoost",
          "loss": 0.4201784093132899,
          "n_iter": 902
         },
         {
          "learner": "XGBoost",
          "loss": 0.42018151717828367,
          "n_iter": 903
         },
         {
          "learner": "XGBoost",
          "loss": 0.4201992969910113,
          "n_iter": 904
         },
         {
          "learner": "XGBoost",
          "loss": 0.4201937471463582,
          "n_iter": 905
         },
         {
          "learner": "XGBoost",
          "loss": 0.42028816349611126,
          "n_iter": 906
         },
         {
          "learner": "XGBoost",
          "loss": 0.42028358687514733,
          "n_iter": 907
         },
         {
          "learner": "XGBoost",
          "loss": 0.42035052805023027,
          "n_iter": 908
         },
         {
          "learner": "XGBoost",
          "loss": 0.4202997294711676,
          "n_iter": 909
         },
         {
          "learner": "XGBoost",
          "loss": 0.42034427729096974,
          "n_iter": 910
         },
         {
          "learner": "XGBoost",
          "loss": 0.42043750572524025,
          "n_iter": 911
         },
         {
          "learner": "XGBoost",
          "loss": 0.4205503537259341,
          "n_iter": 912
         },
         {
          "learner": "XGBoost",
          "loss": 0.4205481081426602,
          "n_iter": 913
         },
         {
          "learner": "XGBoost",
          "loss": 0.4205111381451006,
          "n_iter": 914
         },
         {
          "learner": "XGBoost",
          "loss": 0.42060366168156177,
          "n_iter": 915
         },
         {
          "learner": "XGBoost",
          "loss": 0.420605306849609,
          "n_iter": 916
         },
         {
          "learner": "XGBoost",
          "loss": 0.4205521448145524,
          "n_iter": 917
         },
         {
          "learner": "XGBoost",
          "loss": 0.42071079557427504,
          "n_iter": 918
         },
         {
          "learner": "XGBoost",
          "loss": 0.4207566658291879,
          "n_iter": 919
         },
         {
          "learner": "XGBoost",
          "loss": 0.420845135794626,
          "n_iter": 920
         },
         {
          "learner": "XGBoost",
          "loss": 0.4208740470606393,
          "n_iter": 921
         },
         {
          "learner": "XGBoost",
          "loss": 0.4208805019705034,
          "n_iter": 922
         },
         {
          "learner": "XGBoost",
          "loss": 0.4210725193394971,
          "n_iter": 923
         },
         {
          "learner": "XGBoost",
          "loss": 0.4210747131367907,
          "n_iter": 924
         },
         {
          "learner": "XGBoost",
          "loss": 0.421021824056891,
          "n_iter": 925
         },
         {
          "learner": "XGBoost",
          "loss": 0.4210510524696559,
          "n_iter": 926
         },
         {
          "learner": "XGBoost",
          "loss": 0.4211478979462968,
          "n_iter": 927
         },
         {
          "learner": "XGBoost",
          "loss": 0.4211949920421629,
          "n_iter": 928
         },
         {
          "learner": "XGBoost",
          "loss": 0.42122161658884955,
          "n_iter": 929
         },
         {
          "learner": "XGBoost",
          "loss": 0.42129276224987117,
          "n_iter": 930
         },
         {
          "learner": "XGBoost",
          "loss": 0.42140614974713075,
          "n_iter": 931
         },
         {
          "learner": "XGBoost",
          "loss": 0.42148222625392895,
          "n_iter": 932
         },
         {
          "learner": "XGBoost",
          "loss": 0.42153539329124434,
          "n_iter": 933
         },
         {
          "learner": "XGBoost",
          "loss": 0.4214904010481551,
          "n_iter": 934
         },
         {
          "learner": "XGBoost",
          "loss": 0.4215126723479397,
          "n_iter": 935
         },
         {
          "learner": "XGBoost",
          "loss": 0.4216093109105721,
          "n_iter": 936
         },
         {
          "learner": "XGBoost",
          "loss": 0.42170073727701274,
          "n_iter": 937
         },
         {
          "learner": "XGBoost",
          "loss": 0.4217916646025306,
          "n_iter": 938
         },
         {
          "learner": "XGBoost",
          "loss": 0.42183207639221565,
          "n_iter": 939
         },
         {
          "learner": "XGBoost",
          "loss": 0.4219264342069704,
          "n_iter": 940
         },
         {
          "learner": "XGBoost",
          "loss": 0.4219271034507497,
          "n_iter": 941
         },
         {
          "learner": "XGBoost",
          "loss": 0.4218547842563066,
          "n_iter": 942
         },
         {
          "learner": "XGBoost",
          "loss": 0.42186353704898855,
          "n_iter": 943
         },
         {
          "learner": "XGBoost",
          "loss": 0.42189097112735857,
          "n_iter": 944
         },
         {
          "learner": "XGBoost",
          "loss": 0.42191648708435897,
          "n_iter": 945
         },
         {
          "learner": "XGBoost",
          "loss": 0.42188682662585913,
          "n_iter": 946
         },
         {
          "learner": "XGBoost",
          "loss": 0.421850654536809,
          "n_iter": 947
         },
         {
          "learner": "XGBoost",
          "loss": 0.4218697646032362,
          "n_iter": 948
         },
         {
          "learner": "XGBoost",
          "loss": 0.4218722701347402,
          "n_iter": 949
         },
         {
          "learner": "XGBoost",
          "loss": 0.4218878800825442,
          "n_iter": 950
         },
         {
          "learner": "XGBoost",
          "loss": 0.42198923930730003,
          "n_iter": 951
         },
         {
          "learner": "XGBoost",
          "loss": 0.4219315743071603,
          "n_iter": 952
         },
         {
          "learner": "XGBoost",
          "loss": 0.4219819408820613,
          "n_iter": 953
         },
         {
          "learner": "XGBoost",
          "loss": 0.4219488254558153,
          "n_iter": 954
         },
         {
          "learner": "XGBoost",
          "loss": 0.4219182257116846,
          "n_iter": 955
         },
         {
          "learner": "XGBoost",
          "loss": 0.42196355654741874,
          "n_iter": 956
         },
         {
          "learner": "XGBoost",
          "loss": 0.42190847537033804,
          "n_iter": 957
         },
         {
          "learner": "XGBoost",
          "loss": 0.42201989894488434,
          "n_iter": 958
         },
         {
          "learner": "XGBoost",
          "loss": 0.4221014391477361,
          "n_iter": 959
         },
         {
          "learner": "XGBoost",
          "loss": 0.4220721123579482,
          "n_iter": 960
         },
         {
          "learner": "XGBoost",
          "loss": 0.4220749491326937,
          "n_iter": 961
         },
         {
          "learner": "XGBoost",
          "loss": 0.42207881869173197,
          "n_iter": 962
         },
         {
          "learner": "XGBoost",
          "loss": 0.4220464327164931,
          "n_iter": 963
         },
         {
          "learner": "XGBoost",
          "loss": 0.42201956640343324,
          "n_iter": 964
         },
         {
          "learner": "XGBoost",
          "loss": 0.4219567745027414,
          "n_iter": 965
         },
         {
          "learner": "XGBoost",
          "loss": 0.422005058963204,
          "n_iter": 966
         },
         {
          "learner": "XGBoost",
          "loss": 0.4219796134942051,
          "n_iter": 967
         },
         {
          "learner": "XGBoost",
          "loss": 0.4220856997556101,
          "n_iter": 968
         },
         {
          "learner": "XGBoost",
          "loss": 0.42217876537286725,
          "n_iter": 969
         },
         {
          "learner": "XGBoost",
          "loss": 0.42229869466330705,
          "n_iter": 970
         },
         {
          "learner": "XGBoost",
          "loss": 0.4223896900309083,
          "n_iter": 971
         },
         {
          "learner": "XGBoost",
          "loss": 0.42244187990369,
          "n_iter": 972
         },
         {
          "learner": "XGBoost",
          "loss": 0.4225210184699697,
          "n_iter": 973
         },
         {
          "learner": "XGBoost",
          "loss": 0.4224926202197647,
          "n_iter": 974
         },
         {
          "learner": "XGBoost",
          "loss": 0.4225217391681153,
          "n_iter": 975
         },
         {
          "learner": "XGBoost",
          "loss": 0.42249034356367304,
          "n_iter": 976
         },
         {
          "learner": "XGBoost",
          "loss": 0.42259739205271835,
          "n_iter": 977
         },
         {
          "learner": "XGBoost",
          "loss": 0.42258535290981164,
          "n_iter": 978
         },
         {
          "learner": "XGBoost",
          "loss": 0.42270530958456776,
          "n_iter": 979
         },
         {
          "learner": "XGBoost",
          "loss": 0.4228129932670425,
          "n_iter": 980
         },
         {
          "learner": "XGBoost",
          "loss": 0.42290367516863697,
          "n_iter": 981
         },
         {
          "learner": "XGBoost",
          "loss": 0.42293184369658776,
          "n_iter": 982
         },
         {
          "learner": "XGBoost",
          "loss": 0.422982015021952,
          "n_iter": 983
         },
         {
          "learner": "XGBoost",
          "loss": 0.42309316493845095,
          "n_iter": 984
         },
         {
          "learner": "XGBoost",
          "loss": 0.42309622564866267,
          "n_iter": 985
         },
         {
          "learner": "XGBoost",
          "loss": 0.42307075682295997,
          "n_iter": 986
         },
         {
          "learner": "XGBoost",
          "loss": 0.4230488107053656,
          "n_iter": 987
         },
         {
          "learner": "XGBoost",
          "loss": 0.42311770297903634,
          "n_iter": 988
         },
         {
          "learner": "XGBoost",
          "loss": 0.4230879249082084,
          "n_iter": 989
         },
         {
          "learner": "XGBoost",
          "loss": 0.4231314550560692,
          "n_iter": 990
         },
         {
          "learner": "XGBoost",
          "loss": 0.4232034882902328,
          "n_iter": 991
         },
         {
          "learner": "XGBoost",
          "loss": 0.4233118907080015,
          "n_iter": 992
         },
         {
          "learner": "XGBoost",
          "loss": 0.42332809952499956,
          "n_iter": 993
         },
         {
          "learner": "XGBoost",
          "loss": 0.42343908985376094,
          "n_iter": 994
         },
         {
          "learner": "XGBoost",
          "loss": 0.4234457636358385,
          "n_iter": 995
         },
         {
          "learner": "XGBoost",
          "loss": 0.42351921692396827,
          "n_iter": 996
         },
         {
          "learner": "XGBoost",
          "loss": 0.42353285997531104,
          "n_iter": 997
         },
         {
          "learner": "XGBoost",
          "loss": 0.42354943897866465,
          "n_iter": 998
         },
         {
          "learner": "XGBoost",
          "loss": 0.4237275444400066,
          "n_iter": 999
         },
         {
          "learner": "XGBoost",
          "loss": 0.4237562891696647,
          "n_iter": 1000
         },
         {
          "learner": "XGBoost",
          "loss": 0.4238090811394866,
          "n_iter": 1001
         },
         {
          "learner": "SAL",
          "loss": 0.6131190071704562,
          "n_iter": 1
         },
         {
          "learner": "SAL",
          "loss": 0.5281623962042883,
          "n_iter": 2
         },
         {
          "learner": "SAL",
          "loss": 0.497300062893055,
          "n_iter": 3
         },
         {
          "learner": "SAL",
          "loss": 0.4959489477976912,
          "n_iter": 4
         },
         {
          "learner": "SAL",
          "loss": 0.48076881639729047,
          "n_iter": 5
         },
         {
          "learner": "SAL",
          "loss": 0.4804173126193518,
          "n_iter": 6
         },
         {
          "learner": "SAL",
          "loss": 0.47683592936142466,
          "n_iter": 7
         },
         {
          "learner": "SAL",
          "loss": 0.4737361340008254,
          "n_iter": 8
         },
         {
          "learner": "SAL",
          "loss": 0.47392827015673794,
          "n_iter": 9
         },
         {
          "learner": "SAL",
          "loss": 0.47399548905737865,
          "n_iter": 10
         },
         {
          "learner": "SAL",
          "loss": 0.4739318973551983,
          "n_iter": 11
         },
         {
          "learner": "SAL",
          "loss": 0.47389130286226416,
          "n_iter": 12
         },
         {
          "learner": "SAL",
          "loss": 0.4738549757385249,
          "n_iter": 13
         },
         {
          "learner": "SAL",
          "loss": 0.4738179835162634,
          "n_iter": 14
         },
         {
          "learner": "SAL",
          "loss": 0.47378088934544027,
          "n_iter": 15
         },
         {
          "learner": "SAL",
          "loss": 0.4737451480485101,
          "n_iter": 16
         },
         {
          "learner": "SAL",
          "loss": 0.4731305758532732,
          "n_iter": 17
         },
         {
          "learner": "SAL",
          "loss": 0.47316562562329445,
          "n_iter": 18
         },
         {
          "learner": "SAL",
          "loss": 0.4732003888501999,
          "n_iter": 19
         },
         {
          "learner": "SAL",
          "loss": 0.47319156950381924,
          "n_iter": 20
         },
         {
          "learner": "SAL",
          "loss": 0.4665472396230443,
          "n_iter": 21
         },
         {
          "learner": "SAL",
          "loss": 0.46544671464177745,
          "n_iter": 22
         },
         {
          "learner": "SAL",
          "loss": 0.4645047572020332,
          "n_iter": 23
         },
         {
          "learner": "SAL",
          "loss": 0.46119884824382973,
          "n_iter": 24
         },
         {
          "learner": "SAL",
          "loss": 0.45914872983285404,
          "n_iter": 25
         },
         {
          "learner": "SAL",
          "loss": 0.4582388559761768,
          "n_iter": 26
         },
         {
          "learner": "SAL",
          "loss": 0.4576027624230435,
          "n_iter": 27
         },
         {
          "learner": "SAL",
          "loss": 0.4605805692747921,
          "n_iter": 28
         },
         {
          "learner": "SAL",
          "loss": 0.46142329675819094,
          "n_iter": 29
         },
         {
          "learner": "SAL",
          "loss": 0.4617604378683089,
          "n_iter": 30
         },
         {
          "learner": "SAL",
          "loss": 0.4618214174460876,
          "n_iter": 31
         },
         {
          "learner": "SAL",
          "loss": 0.46208196293476383,
          "n_iter": 32
         },
         {
          "learner": "SAL",
          "loss": 0.4624281185187864,
          "n_iter": 33
         },
         {
          "learner": "SAL",
          "loss": 0.46270328230268454,
          "n_iter": 34
         },
         {
          "learner": "SAL",
          "loss": 0.46288448792802794,
          "n_iter": 35
         },
         {
          "learner": "SAL",
          "loss": 0.46316306989107614,
          "n_iter": 36
         },
         {
          "learner": "SAL",
          "loss": 0.4637563867815145,
          "n_iter": 37
         },
         {
          "learner": "SAL",
          "loss": 0.46446042574219054,
          "n_iter": 38
         },
         {
          "learner": "SAL",
          "loss": 0.46530659773646865,
          "n_iter": 39
         },
         {
          "learner": "SAL",
          "loss": 0.4661024102149574,
          "n_iter": 40
         },
         {
          "learner": "SAL",
          "loss": 0.46682057598393567,
          "n_iter": 41
         },
         {
          "learner": "SAL",
          "loss": 0.4674629033034129,
          "n_iter": 42
         },
         {
          "learner": "SAL",
          "loss": 0.46826341568685337,
          "n_iter": 43
         },
         {
          "learner": "SAL",
          "loss": 0.4687428957025498,
          "n_iter": 44
         },
         {
          "learner": "SAL",
          "loss": 0.4692021176778801,
          "n_iter": 45
         },
         {
          "learner": "SAL",
          "loss": 0.4695343383357533,
          "n_iter": 46
         },
         {
          "learner": "SAL",
          "loss": 0.4640203941664668,
          "n_iter": 47
         },
         {
          "learner": "SAL",
          "loss": 0.45935103518008064,
          "n_iter": 48
         },
         {
          "learner": "SAL",
          "loss": 0.45532564617370325,
          "n_iter": 49
         },
         {
          "learner": "SAL",
          "loss": 0.4525691224057966,
          "n_iter": 50
         },
         {
          "learner": "SAL",
          "loss": 0.45070240287872054,
          "n_iter": 51
         },
         {
          "learner": "SAL",
          "loss": 0.4413812637126433,
          "n_iter": 52
         },
         {
          "learner": "SAL",
          "loss": 0.44016373785339247,
          "n_iter": 53
         },
         {
          "learner": "SAL",
          "loss": 0.4392584694745104,
          "n_iter": 54
         },
         {
          "learner": "SAL",
          "loss": 0.43866266903718015,
          "n_iter": 55
         },
         {
          "learner": "SAL",
          "loss": 0.42651479626007477,
          "n_iter": 56
         },
         {
          "learner": "SAL",
          "loss": 0.4261894806706639,
          "n_iter": 57
         },
         {
          "learner": "SAL",
          "loss": 0.4258828882245843,
          "n_iter": 58
         },
         {
          "learner": "SAL",
          "loss": 0.4278151771826601,
          "n_iter": 59
         },
         {
          "learner": "SAL",
          "loss": 0.4261557964957898,
          "n_iter": 60
         },
         {
          "learner": "SAL",
          "loss": 0.4259415762245917,
          "n_iter": 61
         },
         {
          "learner": "SAL",
          "loss": 0.4254080845184133,
          "n_iter": 62
         },
         {
          "learner": "SAL",
          "loss": 0.4243369226157662,
          "n_iter": 63
         },
         {
          "learner": "SAL",
          "loss": 0.4241072411776427,
          "n_iter": 64
         },
         {
          "learner": "SAL",
          "loss": 0.4240829195500264,
          "n_iter": 65
         },
         {
          "learner": "SAL",
          "loss": 0.4245396533695681,
          "n_iter": 66
         },
         {
          "learner": "SAL",
          "loss": 0.42461269348969854,
          "n_iter": 67
         },
         {
          "learner": "SAL",
          "loss": 0.4246340530853526,
          "n_iter": 68
         },
         {
          "learner": "SAL",
          "loss": 0.42443670891228247,
          "n_iter": 69
         },
         {
          "learner": "SAL",
          "loss": 0.42416874533392124,
          "n_iter": 70
         },
         {
          "learner": "SAL",
          "loss": 0.42406526280663337,
          "n_iter": 71
         },
         {
          "learner": "SAL",
          "loss": 0.4239889397156752,
          "n_iter": 72
         },
         {
          "learner": "SAL",
          "loss": 0.42386159463729883,
          "n_iter": 73
         },
         {
          "learner": "SAL",
          "loss": 0.4225280053687223,
          "n_iter": 74
         },
         {
          "learner": "SAL",
          "loss": 0.4228193631031847,
          "n_iter": 75
         },
         {
          "learner": "SAL",
          "loss": 0.4219994459368052,
          "n_iter": 76
         },
         {
          "learner": "SAL",
          "loss": 0.42131557155454596,
          "n_iter": 77
         },
         {
          "learner": "SAL",
          "loss": 0.42190857743032373,
          "n_iter": 78
         },
         {
          "learner": "SAL",
          "loss": 0.4224976199737697,
          "n_iter": 79
         },
         {
          "learner": "SAL",
          "loss": 0.4229042252465271,
          "n_iter": 80
         },
         {
          "learner": "SAL",
          "loss": 0.42315866190881346,
          "n_iter": 81
         },
         {
          "learner": "SAL",
          "loss": 0.4234471131079517,
          "n_iter": 82
         },
         {
          "learner": "SAL",
          "loss": 0.42387372914384275,
          "n_iter": 83
         },
         {
          "learner": "SAL",
          "loss": 0.42443687570937955,
          "n_iter": 84
         },
         {
          "learner": "SAL",
          "loss": 0.4247739475821899,
          "n_iter": 85
         },
         {
          "learner": "SAL",
          "loss": 0.42506061254800664,
          "n_iter": 86
         },
         {
          "learner": "SAL",
          "loss": 0.4252386659432608,
          "n_iter": 87
         },
         {
          "learner": "SAL",
          "loss": 0.425365055777887,
          "n_iter": 88
         },
         {
          "learner": "SAL",
          "loss": 0.4254556576826795,
          "n_iter": 89
         },
         {
          "learner": "SAL",
          "loss": 0.4255189470246385,
          "n_iter": 90
         },
         {
          "learner": "SAL",
          "loss": 0.42556591453452236,
          "n_iter": 91
         },
         {
          "learner": "SAL",
          "loss": 0.42560152014171626,
          "n_iter": 92
         },
         {
          "learner": "SAL",
          "loss": 0.42518761271108874,
          "n_iter": 93
         },
         {
          "learner": "SAL",
          "loss": 0.4250000146191134,
          "n_iter": 94
         },
         {
          "learner": "SAL",
          "loss": 0.4249288259017529,
          "n_iter": 95
         },
         {
          "learner": "SAL",
          "loss": 0.42491257489074913,
          "n_iter": 96
         },
         {
          "learner": "SAL",
          "loss": 0.42428008073135737,
          "n_iter": 97
         },
         {
          "learner": "SAL",
          "loss": 0.4238338491518596,
          "n_iter": 98
         },
         {
          "learner": "SAL",
          "loss": 0.4232616992028364,
          "n_iter": 99
         },
         {
          "learner": "SAL",
          "loss": 0.4229590682066861,
          "n_iter": 100
         },
         {
          "learner": "SAL",
          "loss": 0.4228344118442204,
          "n_iter": 101
         },
         {
          "learner": "SAL",
          "loss": 0.42248706480906106,
          "n_iter": 102
         },
         {
          "learner": "SAL",
          "loss": 0.4222484197487655,
          "n_iter": 103
         },
         {
          "learner": "SAL",
          "loss": 0.42207141283002847,
          "n_iter": 104
         },
         {
          "learner": "SAL",
          "loss": 0.4219444979780861,
          "n_iter": 105
         },
         {
          "learner": "SAL",
          "loss": 0.42220308434414583,
          "n_iter": 106
         },
         {
          "learner": "SAL",
          "loss": 0.4223287868911448,
          "n_iter": 107
         },
         {
          "learner": "SAL",
          "loss": 0.42240757515567573,
          "n_iter": 108
         },
         {
          "learner": "SAL",
          "loss": 0.42246876628674085,
          "n_iter": 109
         },
         {
          "learner": "SAL",
          "loss": 0.4225303803122483,
          "n_iter": 110
         },
         {
          "learner": "SAL",
          "loss": 0.42259898806217633,
          "n_iter": 111
         },
         {
          "learner": "SAL",
          "loss": 0.4226757104339473,
          "n_iter": 112
         },
         {
          "learner": "SAL",
          "loss": 0.4227650305194181,
          "n_iter": 113
         },
         {
          "learner": "SAL",
          "loss": 0.42287922867743627,
          "n_iter": 114
         },
         {
          "learner": "SAL",
          "loss": 0.4230016518193262,
          "n_iter": 115
         },
         {
          "learner": "SAL",
          "loss": 0.42284217325450674,
          "n_iter": 116
         },
         {
          "learner": "SAL",
          "loss": 0.4228807202896099,
          "n_iter": 117
         },
         {
          "learner": "SAL",
          "loss": 0.42272176216479446,
          "n_iter": 118
         },
         {
          "learner": "SAL",
          "loss": 0.4222028384530787,
          "n_iter": 119
         },
         {
          "learner": "SAL",
          "loss": 0.42195696746680184,
          "n_iter": 120
         },
         {
          "learner": "SAL",
          "loss": 0.42161672659279653,
          "n_iter": 121
         },
         {
          "learner": "SAL",
          "loss": 0.4212731302290094,
          "n_iter": 122
         },
         {
          "learner": "SAL",
          "loss": 0.4209620631118794,
          "n_iter": 123
         },
         {
          "learner": "SAL",
          "loss": 0.42060849947668494,
          "n_iter": 124
         },
         {
          "learner": "SAL",
          "loss": 0.4203590790651504,
          "n_iter": 125
         },
         {
          "learner": "SAL",
          "loss": 0.420266879730417,
          "n_iter": 126
         },
         {
          "learner": "SAL",
          "loss": 0.4202722303071259,
          "n_iter": 127
         },
         {
          "learner": "SAL",
          "loss": 0.4202131079920274,
          "n_iter": 128
         },
         {
          "learner": "SAL",
          "loss": 0.42015469125718286,
          "n_iter": 129
         },
         {
          "learner": "SAL",
          "loss": 0.4201079726119461,
          "n_iter": 130
         },
         {
          "learner": "SAL",
          "loss": 0.42000319388285406,
          "n_iter": 131
         },
         {
          "learner": "SAL",
          "loss": 0.42467832720354887,
          "n_iter": 132
         },
         {
          "learner": "SAL",
          "loss": 0.42570125113175344,
          "n_iter": 133
         },
         {
          "learner": "SAL",
          "loss": 0.42647255312808224,
          "n_iter": 134
         },
         {
          "learner": "SAL",
          "loss": 0.42699285752036004,
          "n_iter": 135
         },
         {
          "learner": "SAL",
          "loss": 0.42735019249707884,
          "n_iter": 136
         },
         {
          "learner": "SAL",
          "loss": 0.4275865252323976,
          "n_iter": 137
         },
         {
          "learner": "SAL",
          "loss": 0.4276004619299091,
          "n_iter": 138
         },
         {
          "learner": "SAL",
          "loss": 0.42799510527260154,
          "n_iter": 139
         },
         {
          "learner": "SAL",
          "loss": 0.4281363754907514,
          "n_iter": 140
         },
         {
          "learner": "SAL",
          "loss": 0.4281738668895866,
          "n_iter": 141
         },
         {
          "learner": "SAL",
          "loss": 0.4281685376755132,
          "n_iter": 142
         },
         {
          "learner": "SAL",
          "loss": 0.4280790516061554,
          "n_iter": 143
         },
         {
          "learner": "SAL",
          "loss": 0.4279989540655719,
          "n_iter": 144
         },
         {
          "learner": "SAL",
          "loss": 0.4279769810262839,
          "n_iter": 145
         },
         {
          "learner": "SAL",
          "loss": 0.4279717303474091,
          "n_iter": 146
         },
         {
          "learner": "SAL",
          "loss": 0.4279358524800089,
          "n_iter": 147
         },
         {
          "learner": "SAL",
          "loss": 0.4278122218742211,
          "n_iter": 148
         },
         {
          "learner": "SAL",
          "loss": 0.4278481662835763,
          "n_iter": 149
         },
         {
          "learner": "SAL",
          "loss": 0.42806238943988945,
          "n_iter": 150
         },
         {
          "learner": "SAL",
          "loss": 0.42829862095607163,
          "n_iter": 151
         },
         {
          "learner": "SAL",
          "loss": 0.42849765934821155,
          "n_iter": 152
         },
         {
          "learner": "SAL",
          "loss": 0.4286532369811224,
          "n_iter": 153
         },
         {
          "learner": "SAL",
          "loss": 0.4287329716830361,
          "n_iter": 154
         },
         {
          "learner": "SAL",
          "loss": 0.4288003758778583,
          "n_iter": 155
         },
         {
          "learner": "SAL",
          "loss": 0.428863027984379,
          "n_iter": 156
         },
         {
          "learner": "SAL",
          "loss": 0.42892099039034015,
          "n_iter": 157
         },
         {
          "learner": "SAL",
          "loss": 0.4291106540882357,
          "n_iter": 158
         },
         {
          "learner": "SAL",
          "loss": 0.4293040012272165,
          "n_iter": 159
         },
         {
          "learner": "SAL",
          "loss": 0.42942315010150706,
          "n_iter": 160
         },
         {
          "learner": "SAL",
          "loss": 0.4294971706631914,
          "n_iter": 161
         },
         {
          "learner": "SAL",
          "loss": 0.4295458878892211,
          "n_iter": 162
         },
         {
          "learner": "SAL",
          "loss": 0.4295800620854843,
          "n_iter": 163
         },
         {
          "learner": "SAL",
          "loss": 0.42961404548293003,
          "n_iter": 164
         },
         {
          "learner": "SAL",
          "loss": 0.4264548488902248,
          "n_iter": 165
         },
         {
          "learner": "SAL",
          "loss": 0.4252961672608891,
          "n_iter": 166
         },
         {
          "learner": "SAL",
          "loss": 0.42478532953081705,
          "n_iter": 167
         },
         {
          "learner": "SAL",
          "loss": 0.42449050463800186,
          "n_iter": 168
         },
         {
          "learner": "SAL",
          "loss": 0.4243082020919398,
          "n_iter": 169
         },
         {
          "learner": "SAL",
          "loss": 0.4241582698869588,
          "n_iter": 170
         },
         {
          "learner": "SAL",
          "loss": 0.4240528834683305,
          "n_iter": 171
         },
         {
          "learner": "SAL",
          "loss": 0.42400073010811007,
          "n_iter": 172
         },
         {
          "learner": "SAL",
          "loss": 0.4239023260006075,
          "n_iter": 173
         },
         {
          "learner": "SAL",
          "loss": 0.42387358714554624,
          "n_iter": 174
         },
         {
          "learner": "SAL",
          "loss": 0.42388563348642544,
          "n_iter": 175
         },
         {
          "learner": "SAL",
          "loss": 0.4239175261523139,
          "n_iter": 176
         },
         {
          "learner": "SAL",
          "loss": 0.4239602427274942,
          "n_iter": 177
         },
         {
          "learner": "SAL",
          "loss": 0.42400962008388604,
          "n_iter": 178
         },
         {
          "learner": "SAL",
          "loss": 0.4240630502413086,
          "n_iter": 179
         },
         {
          "learner": "SAL",
          "loss": 0.4241188216805432,
          "n_iter": 180
         },
         {
          "learner": "SAL",
          "loss": 0.42444386033134385,
          "n_iter": 181
         },
         {
          "learner": "SAL",
          "loss": 0.4244517038201882,
          "n_iter": 182
         },
         {
          "learner": "SAL",
          "loss": 0.4244470399788923,
          "n_iter": 183
         },
         {
          "learner": "SAL",
          "loss": 0.4244550577436927,
          "n_iter": 184
         },
         {
          "learner": "SAL",
          "loss": 0.42448363963687663,
          "n_iter": 185
         },
         {
          "learner": "SAL",
          "loss": 0.4245329184633417,
          "n_iter": 186
         },
         {
          "learner": "SAL",
          "loss": 0.42457903230603233,
          "n_iter": 187
         },
         {
          "learner": "SAL",
          "loss": 0.4242676233704802,
          "n_iter": 188
         },
         {
          "learner": "SAL",
          "loss": 0.4243896732721747,
          "n_iter": 189
         },
         {
          "learner": "SAL",
          "loss": 0.4246606924104927,
          "n_iter": 190
         },
         {
          "learner": "SAL",
          "loss": 0.42494454123901754,
          "n_iter": 191
         },
         {
          "learner": "SAL",
          "loss": 0.42523860939246483,
          "n_iter": 192
         },
         {
          "learner": "SAL",
          "loss": 0.4255168953847771,
          "n_iter": 193
         },
         {
          "learner": "SAL",
          "loss": 0.4257756906863521,
          "n_iter": 194
         },
         {
          "learner": "SAL",
          "loss": 0.42606284247428194,
          "n_iter": 195
         },
         {
          "learner": "SAL",
          "loss": 0.42628071858198324,
          "n_iter": 196
         },
         {
          "learner": "SAL",
          "loss": 0.4264323795865983,
          "n_iter": 197
         },
         {
          "learner": "SAL",
          "loss": 0.4266297694359278,
          "n_iter": 198
         },
         {
          "learner": "SAL",
          "loss": 0.4268160613097086,
          "n_iter": 199
         },
         {
          "learner": "SAL",
          "loss": 0.42712629853614076,
          "n_iter": 200
         },
         {
          "learner": "SAL",
          "loss": 0.4271979059295724,
          "n_iter": 201
         },
         {
          "learner": "SAL",
          "loss": 0.42728453563121754,
          "n_iter": 202
         },
         {
          "learner": "SAL",
          "loss": 0.4272468367142996,
          "n_iter": 203
         },
         {
          "learner": "SAL",
          "loss": 0.42730721783246467,
          "n_iter": 204
         },
         {
          "learner": "SAL",
          "loss": 0.4272992822217436,
          "n_iter": 205
         },
         {
          "learner": "SAL",
          "loss": 0.427356154508152,
          "n_iter": 206
         },
         {
          "learner": "SAL",
          "loss": 0.427417977446754,
          "n_iter": 207
         },
         {
          "learner": "SAL",
          "loss": 0.4274642235663299,
          "n_iter": 208
         },
         {
          "learner": "SAL",
          "loss": 0.42732921857288025,
          "n_iter": 209
         },
         {
          "learner": "SAL",
          "loss": 0.4271903376256824,
          "n_iter": 210
         },
         {
          "learner": "SAL",
          "loss": 0.4271306693927053,
          "n_iter": 211
         },
         {
          "learner": "SAL",
          "loss": 0.4268723079626364,
          "n_iter": 212
         },
         {
          "learner": "SAL",
          "loss": 0.4267810620523555,
          "n_iter": 213
         },
         {
          "learner": "SAL",
          "loss": 0.426774377263457,
          "n_iter": 214
         },
         {
          "learner": "SAL",
          "loss": 0.4267311735399694,
          "n_iter": 215
         },
         {
          "learner": "SAL",
          "loss": 0.4267130094216354,
          "n_iter": 216
         },
         {
          "learner": "SAL",
          "loss": 0.4267060447946752,
          "n_iter": 217
         },
         {
          "learner": "SAL",
          "loss": 0.426748420516434,
          "n_iter": 218
         },
         {
          "learner": "SAL",
          "loss": 0.42679123939708646,
          "n_iter": 219
         },
         {
          "learner": "SAL",
          "loss": 0.4268266448263504,
          "n_iter": 220
         },
         {
          "learner": "SAL",
          "loss": 0.4268549238451023,
          "n_iter": 221
         },
         {
          "learner": "SAL",
          "loss": 0.4268788583604097,
          "n_iter": 222
         },
         {
          "learner": "SAL",
          "loss": 0.4269004388568274,
          "n_iter": 223
         },
         {
          "learner": "SAL",
          "loss": 0.42692116877824093,
          "n_iter": 224
         },
         {
          "learner": "SAL",
          "loss": 0.42694215899605575,
          "n_iter": 225
         },
         {
          "learner": "SAL",
          "loss": 0.42696413634565467,
          "n_iter": 226
         },
         {
          "learner": "SAL",
          "loss": 0.4267867518123358,
          "n_iter": 227
         },
         {
          "learner": "SAL",
          "loss": 0.4267335999459357,
          "n_iter": 228
         },
         {
          "learner": "SAL",
          "loss": 0.4267272687199013,
          "n_iter": 229
         },
         {
          "learner": "SAL",
          "loss": 0.4267445554109481,
          "n_iter": 230
         },
         {
          "learner": "SAL",
          "loss": 0.4267753091980616,
          "n_iter": 231
         },
         {
          "learner": "SAL",
          "loss": 0.42682527301218054,
          "n_iter": 232
         },
         {
          "learner": "SAL",
          "loss": 0.42686295827171333,
          "n_iter": 233
         },
         {
          "learner": "SAL",
          "loss": 0.42689902107083355,
          "n_iter": 234
         },
         {
          "learner": "SAL",
          "loss": 0.42693487432519106,
          "n_iter": 235
         },
         {
          "learner": "SAL",
          "loss": 0.42697079086650835,
          "n_iter": 236
         },
         {
          "learner": "SAL",
          "loss": 0.42698828788281046,
          "n_iter": 237
         },
         {
          "learner": "SAL",
          "loss": 0.4270029170694783,
          "n_iter": 238
         },
         {
          "learner": "SAL",
          "loss": 0.42702013632728913,
          "n_iter": 239
         },
         {
          "learner": "SAL",
          "loss": 0.42637033646572076,
          "n_iter": 240
         },
         {
          "learner": "SAL",
          "loss": 0.42607205207748755,
          "n_iter": 241
         },
         {
          "learner": "SAL",
          "loss": 0.4259589584425811,
          "n_iter": 242
         },
         {
          "learner": "SAL",
          "loss": 0.42593089649926497,
          "n_iter": 243
         },
         {
          "learner": "SAL",
          "loss": 0.4259481501519378,
          "n_iter": 244
         },
         {
          "learner": "SAL",
          "loss": 0.42598572951301444,
          "n_iter": 245
         },
         {
          "learner": "SAL",
          "loss": 0.42603270480632277,
          "n_iter": 246
         },
         {
          "learner": "SAL",
          "loss": 0.42611738497832563,
          "n_iter": 247
         },
         {
          "learner": "SAL",
          "loss": 0.42615855829643906,
          "n_iter": 248
         },
         {
          "learner": "SAL",
          "loss": 0.4262003405744321,
          "n_iter": 249
         },
         {
          "learner": "SAL",
          "loss": 0.4262348619123481,
          "n_iter": 250
         },
         {
          "learner": "SAL",
          "loss": 0.426262422667089,
          "n_iter": 251
         },
         {
          "learner": "SAL",
          "loss": 0.42628829313058714,
          "n_iter": 252
         },
         {
          "learner": "SAL",
          "loss": 0.42631288422225916,
          "n_iter": 253
         },
         {
          "learner": "SAL",
          "loss": 0.42206225708764583,
          "n_iter": 254
         },
         {
          "learner": "SAL",
          "loss": 0.422233675908031,
          "n_iter": 255
         },
         {
          "learner": "SAL",
          "loss": 0.4223296569362232,
          "n_iter": 256
         },
         {
          "learner": "SAL",
          "loss": 0.422363254602338,
          "n_iter": 257
         },
         {
          "learner": "SAL",
          "loss": 0.422407430689449,
          "n_iter": 258
         },
         {
          "learner": "SAL",
          "loss": 0.42243986683027346,
          "n_iter": 259
         },
         {
          "learner": "SAL",
          "loss": 0.422448710649136,
          "n_iter": 260
         },
         {
          "learner": "SAL",
          "loss": 0.4218390068166138,
          "n_iter": 261
         },
         {
          "learner": "SAL",
          "loss": 0.4214487610475662,
          "n_iter": 262
         },
         {
          "learner": "SAL",
          "loss": 0.4212728387248271,
          "n_iter": 263
         },
         {
          "learner": "SAL",
          "loss": 0.42123404630159256,
          "n_iter": 264
         },
         {
          "learner": "SAL",
          "loss": 0.4212636016316393,
          "n_iter": 265
         },
         {
          "learner": "SAL",
          "loss": 0.42127110227654635,
          "n_iter": 266
         },
         {
          "learner": "SAL",
          "loss": 0.4212548816886122,
          "n_iter": 267
         },
         {
          "learner": "SAL",
          "loss": 0.42120710992815785,
          "n_iter": 268
         },
         {
          "learner": "SAL",
          "loss": 0.4211850937778472,
          "n_iter": 269
         },
         {
          "learner": "SAL",
          "loss": 0.4213906608258924,
          "n_iter": 270
         },
         {
          "learner": "SAL",
          "loss": 0.42134232440582303,
          "n_iter": 271
         },
         {
          "learner": "SAL",
          "loss": 0.42133340935878727,
          "n_iter": 272
         },
         {
          "learner": "SAL",
          "loss": 0.42134559767203505,
          "n_iter": 273
         },
         {
          "learner": "SAL",
          "loss": 0.4213677532354708,
          "n_iter": 274
         },
         {
          "learner": "SAL",
          "loss": 0.42139329156678795,
          "n_iter": 275
         },
         {
          "learner": "SAL",
          "loss": 0.42142008396234254,
          "n_iter": 276
         },
         {
          "learner": "SAL",
          "loss": 0.4214310732360921,
          "n_iter": 277
         },
         {
          "learner": "SAL",
          "loss": 0.42143643028695993,
          "n_iter": 278
         },
         {
          "learner": "SAL",
          "loss": 0.42144482736387034,
          "n_iter": 279
         },
         {
          "learner": "SAL",
          "loss": 0.42145396751084035,
          "n_iter": 280
         },
         {
          "learner": "SAL",
          "loss": 0.4214642998923574,
          "n_iter": 281
         },
         {
          "learner": "SAL",
          "loss": 0.42147574724152265,
          "n_iter": 282
         },
         {
          "learner": "SAL",
          "loss": 0.4214880376905732,
          "n_iter": 283
         },
         {
          "learner": "SAL",
          "loss": 0.4215008918237572,
          "n_iter": 284
         },
         {
          "learner": "SAL",
          "loss": 0.4215140767918635,
          "n_iter": 285
         },
         {
          "learner": "SAL",
          "loss": 0.4215274108746268,
          "n_iter": 286
         },
         {
          "learner": "SAL",
          "loss": 0.42154075447559486,
          "n_iter": 287
         },
         {
          "learner": "SAL",
          "loss": 0.42155400007699806,
          "n_iter": 288
         },
         {
          "learner": "SAL",
          "loss": 0.4215670643744236,
          "n_iter": 289
         },
         {
          "learner": "SAL",
          "loss": 0.42194491580243576,
          "n_iter": 290
         },
         {
          "learner": "SAL",
          "loss": 0.42188520795880863,
          "n_iter": 291
         },
         {
          "learner": "SAL",
          "loss": 0.42184603722952546,
          "n_iter": 292
         },
         {
          "learner": "SAL",
          "loss": 0.42181818548372296,
          "n_iter": 293
         },
         {
          "learner": "SAL",
          "loss": 0.4218130507813017,
          "n_iter": 294
         },
         {
          "learner": "SAL",
          "loss": 0.42182976558103874,
          "n_iter": 295
         },
         {
          "learner": "SAL",
          "loss": 0.4218506042448912,
          "n_iter": 296
         },
         {
          "learner": "SAL",
          "loss": 0.42187453814959874,
          "n_iter": 297
         },
         {
          "learner": "SAL",
          "loss": 0.4218991478816925,
          "n_iter": 298
         },
         {
          "learner": "SAL",
          "loss": 0.42192271286940924,
          "n_iter": 299
         },
         {
          "learner": "SAL",
          "loss": 0.42195803529955644,
          "n_iter": 300
         },
         {
          "learner": "SAL",
          "loss": 0.4219827935090089,
          "n_iter": 301
         },
         {
          "learner": "SAL",
          "loss": 0.4219992399678027,
          "n_iter": 302
         },
         {
          "learner": "SAL",
          "loss": 0.42201106738375593,
          "n_iter": 303
         },
         {
          "learner": "SAL",
          "loss": 0.42201998985102074,
          "n_iter": 304
         },
         {
          "learner": "SAL",
          "loss": 0.42204529810308666,
          "n_iter": 305
         },
         {
          "learner": "SAL",
          "loss": 0.4220719605475643,
          "n_iter": 306
         },
         {
          "learner": "SAL",
          "loss": 0.4220926040784262,
          "n_iter": 307
         },
         {
          "learner": "SAL",
          "loss": 0.42210618469672206,
          "n_iter": 308
         },
         {
          "learner": "SAL",
          "loss": 0.42211607561712733,
          "n_iter": 309
         },
         {
          "learner": "SAL",
          "loss": 0.4221239316717425,
          "n_iter": 310
         },
         {
          "learner": "SAL",
          "loss": 0.4221243404954224,
          "n_iter": 311
         },
         {
          "learner": "SAL",
          "loss": 0.42211753606255514,
          "n_iter": 312
         },
         {
          "learner": "SAL",
          "loss": 0.42211185834982085,
          "n_iter": 313
         },
         {
          "learner": "SAL",
          "loss": 0.42210670839974945,
          "n_iter": 314
         },
         {
          "learner": "SAL",
          "loss": 0.4221026406378626,
          "n_iter": 315
         },
         {
          "learner": "SAL",
          "loss": 0.42209977785113284,
          "n_iter": 316
         },
         {
          "learner": "SAL",
          "loss": 0.4220980916358104,
          "n_iter": 317
         },
         {
          "learner": "SAL",
          "loss": 0.42209755673206595,
          "n_iter": 318
         },
         {
          "learner": "SAL",
          "loss": 0.42209794694311115,
          "n_iter": 319
         },
         {
          "learner": "SAL",
          "loss": 0.42209869974704156,
          "n_iter": 320
         },
         {
          "learner": "SAL",
          "loss": 0.42210002448839995,
          "n_iter": 321
         },
         {
          "learner": "SAL",
          "loss": 0.42182958515032665,
          "n_iter": 322
         },
         {
          "learner": "SAL",
          "loss": 0.4216169148815949,
          "n_iter": 323
         },
         {
          "learner": "SAL",
          "loss": 0.42145224083552923,
          "n_iter": 324
         },
         {
          "learner": "SAL",
          "loss": 0.42132710930946765,
          "n_iter": 325
         },
         {
          "learner": "SAL",
          "loss": 0.42123452613607254,
          "n_iter": 326
         },
         {
          "learner": "SAL",
          "loss": 0.4211159781974949,
          "n_iter": 327
         },
         {
          "learner": "SAL",
          "loss": 0.42193695805230613,
          "n_iter": 328
         },
         {
          "learner": "SAL",
          "loss": 0.4213577448202489,
          "n_iter": 329
         },
         {
          "learner": "SAL",
          "loss": 0.42046948719804567,
          "n_iter": 330
         },
         {
          "learner": "SAL",
          "loss": 0.4200252175583059,
          "n_iter": 331
         },
         {
          "learner": "SAL",
          "loss": 0.4197828436760037,
          "n_iter": 332
         },
         {
          "learner": "SAL",
          "loss": 0.41964425934835403,
          "n_iter": 333
         },
         {
          "learner": "SAL",
          "loss": 0.4195669212322127,
          "n_iter": 334
         },
         {
          "learner": "SAL",
          "loss": 0.4195071146429541,
          "n_iter": 335
         },
         {
          "learner": "SAL",
          "loss": 0.41945794795118024,
          "n_iter": 336
         },
         {
          "learner": "SAL",
          "loss": 0.4195018089507794,
          "n_iter": 337
         },
         {
          "learner": "SAL",
          "loss": 0.4194794488126678,
          "n_iter": 338
         },
         {
          "learner": "SAL",
          "loss": 0.4194522961736814,
          "n_iter": 339
         },
         {
          "learner": "SAL",
          "loss": 0.41943494255091907,
          "n_iter": 340
         },
         {
          "learner": "SAL",
          "loss": 0.419428031388656,
          "n_iter": 341
         },
         {
          "learner": "SAL",
          "loss": 0.41943042745516174,
          "n_iter": 342
         },
         {
          "learner": "SAL",
          "loss": 0.4194438277571399,
          "n_iter": 343
         },
         {
          "learner": "SAL",
          "loss": 0.41945732964605736,
          "n_iter": 344
         },
         {
          "learner": "SAL",
          "loss": 0.4194406906534242,
          "n_iter": 345
         },
         {
          "learner": "SAL",
          "loss": 0.4194246998981712,
          "n_iter": 346
         },
         {
          "learner": "SAL",
          "loss": 0.4194167043644446,
          "n_iter": 347
         },
         {
          "learner": "SAL",
          "loss": 0.41941313796649815,
          "n_iter": 348
         },
         {
          "learner": "SAL",
          "loss": 0.41941220589419076,
          "n_iter": 349
         },
         {
          "learner": "SAL",
          "loss": 0.41941880142113047,
          "n_iter": 350
         },
         {
          "learner": "SAL",
          "loss": 0.4194097969824324,
          "n_iter": 351
         },
         {
          "learner": "SAL",
          "loss": 0.4193850669071585,
          "n_iter": 352
         },
         {
          "learner": "SAL",
          "loss": 0.4193697810524623,
          "n_iter": 353
         },
         {
          "learner": "SAL",
          "loss": 0.4193489356351845,
          "n_iter": 354
         },
         {
          "learner": "SAL",
          "loss": 0.4193284660281764,
          "n_iter": 355
         },
         {
          "learner": "SAL",
          "loss": 0.4193103478236981,
          "n_iter": 356
         },
         {
          "learner": "SAL",
          "loss": 0.41929504851038346,
          "n_iter": 357
         },
         {
          "learner": "SAL",
          "loss": 0.4192823708818551,
          "n_iter": 358
         },
         {
          "learner": "SAL",
          "loss": 0.4192718727125944,
          "n_iter": 359
         },
         {
          "learner": "SAL",
          "loss": 0.4192761020779788,
          "n_iter": 360
         },
         {
          "learner": "SAL",
          "loss": 0.41927954545519547,
          "n_iter": 361
         },
         {
          "learner": "SAL",
          "loss": 0.41927462376849756,
          "n_iter": 362
         },
         {
          "learner": "SAL",
          "loss": 0.4192661320418429,
          "n_iter": 363
         },
         {
          "learner": "SAL",
          "loss": 0.4192573358679274,
          "n_iter": 364
         },
         {
          "learner": "SAL",
          "loss": 0.4192484357014235,
          "n_iter": 365
         },
         {
          "learner": "SAL",
          "loss": 0.41923899318176316,
          "n_iter": 366
         },
         {
          "learner": "SAL",
          "loss": 0.4192378666800195,
          "n_iter": 367
         },
         {
          "learner": "SAL",
          "loss": 0.41919746560401194,
          "n_iter": 368
         },
         {
          "learner": "SAL",
          "loss": 0.41919433600758177,
          "n_iter": 369
         },
         {
          "learner": "SAL",
          "loss": 0.41917899536800063,
          "n_iter": 370
         },
         {
          "learner": "SAL",
          "loss": 0.4191568869615521,
          "n_iter": 371
         },
         {
          "learner": "SAL",
          "loss": 0.419129626394661,
          "n_iter": 372
         },
         {
          "learner": "SAL",
          "loss": 0.4190904305278884,
          "n_iter": 373
         },
         {
          "learner": "SAL",
          "loss": 0.41904982750383707,
          "n_iter": 374
         },
         {
          "learner": "SAL",
          "loss": 0.4190309730932231,
          "n_iter": 375
         },
         {
          "learner": "SAL",
          "loss": 0.41909308102533216,
          "n_iter": 376
         },
         {
          "learner": "SAL",
          "loss": 0.4190976276800098,
          "n_iter": 377
         },
         {
          "learner": "SAL",
          "loss": 0.41895426136594055,
          "n_iter": 378
         },
         {
          "learner": "SAL",
          "loss": 0.4188976980165329,
          "n_iter": 379
         },
         {
          "learner": "SAL",
          "loss": 0.4188117061884087,
          "n_iter": 380
         },
         {
          "learner": "SAL",
          "loss": 0.41873441357239427,
          "n_iter": 381
         },
         {
          "learner": "SAL",
          "loss": 0.4186672837608659,
          "n_iter": 382
         },
         {
          "learner": "SAL",
          "loss": 0.41861645180645807,
          "n_iter": 383
         },
         {
          "learner": "SAL",
          "loss": 0.4185744089892897,
          "n_iter": 384
         },
         {
          "learner": "SAL",
          "loss": 0.4185438743134313,
          "n_iter": 385
         },
         {
          "learner": "SAL",
          "loss": 0.41852125061307954,
          "n_iter": 386
         },
         {
          "learner": "SAL",
          "loss": 0.41850425597654994,
          "n_iter": 387
         },
         {
          "learner": "SAL",
          "loss": 0.4185367582645502,
          "n_iter": 388
         },
         {
          "learner": "SAL",
          "loss": 0.4185526236269081,
          "n_iter": 389
         },
         {
          "learner": "SAL",
          "loss": 0.41857548247155485,
          "n_iter": 390
         },
         {
          "learner": "SAL",
          "loss": 0.4185962709672592,
          "n_iter": 391
         },
         {
          "learner": "SAL",
          "loss": 0.41861398803206945,
          "n_iter": 392
         },
         {
          "learner": "SAL",
          "loss": 0.4185136593232549,
          "n_iter": 393
         },
         {
          "learner": "SAL",
          "loss": 0.41835886831381336,
          "n_iter": 394
         },
         {
          "learner": "SAL",
          "loss": 0.4181918845823209,
          "n_iter": 395
         },
         {
          "learner": "SAL",
          "loss": 0.41803716347265557,
          "n_iter": 396
         },
         {
          "learner": "SAL",
          "loss": 0.4178966436424199,
          "n_iter": 397
         },
         {
          "learner": "SAL",
          "loss": 0.4177781819066708,
          "n_iter": 398
         },
         {
          "learner": "SAL",
          "loss": 0.4176781776502024,
          "n_iter": 399
         },
         {
          "learner": "SAL",
          "loss": 0.41759441584325985,
          "n_iter": 400
         },
         {
          "learner": "SAL",
          "loss": 0.41752563298798095,
          "n_iter": 401
         },
         {
          "learner": "SAL",
          "loss": 0.41745050702951153,
          "n_iter": 402
         },
         {
          "learner": "SAL",
          "loss": 0.4174599094014985,
          "n_iter": 403
         },
         {
          "learner": "SAL",
          "loss": 0.4174001111418119,
          "n_iter": 404
         },
         {
          "learner": "SAL",
          "loss": 0.4173599880025358,
          "n_iter": 405
         },
         {
          "learner": "SAL",
          "loss": 0.4173272695225181,
          "n_iter": 406
         },
         {
          "learner": "SAL",
          "loss": 0.4173026694492134,
          "n_iter": 407
         },
         {
          "learner": "SAL",
          "loss": 0.4172863640594059,
          "n_iter": 408
         },
         {
          "learner": "SAL",
          "loss": 0.41722585742613155,
          "n_iter": 409
         },
         {
          "learner": "SAL",
          "loss": 0.41659075326502004,
          "n_iter": 410
         },
         {
          "learner": "SAL",
          "loss": 0.4165974584002489,
          "n_iter": 411
         },
         {
          "learner": "SAL",
          "loss": 0.4163572556724342,
          "n_iter": 412
         },
         {
          "learner": "SAL",
          "loss": 0.416296095143531,
          "n_iter": 413
         },
         {
          "learner": "SAL",
          "loss": 0.4162352639030953,
          "n_iter": 414
         },
         {
          "learner": "SAL",
          "loss": 0.4162094876450304,
          "n_iter": 415
         },
         {
          "learner": "SAL",
          "loss": 0.4161845431092431,
          "n_iter": 416
         },
         {
          "learner": "SAL",
          "loss": 0.4162102619311542,
          "n_iter": 417
         },
         {
          "learner": "SAL",
          "loss": 0.41625669057817477,
          "n_iter": 418
         },
         {
          "learner": "SAL",
          "loss": 0.416305967394765,
          "n_iter": 419
         },
         {
          "learner": "SAL",
          "loss": 0.4163654913969691,
          "n_iter": 420
         },
         {
          "learner": "SAL",
          "loss": 0.41641512689115273,
          "n_iter": 421
         },
         {
          "learner": "SAL",
          "loss": 0.416457148030695,
          "n_iter": 422
         },
         {
          "learner": "SAL",
          "loss": 0.4165056428976044,
          "n_iter": 423
         },
         {
          "learner": "SAL",
          "loss": 0.41657223634086826,
          "n_iter": 424
         },
         {
          "learner": "SAL",
          "loss": 0.41661967876250455,
          "n_iter": 425
         },
         {
          "learner": "SAL",
          "loss": 0.41665234399776435,
          "n_iter": 426
         },
         {
          "learner": "SAL",
          "loss": 0.4166915080009814,
          "n_iter": 427
         },
         {
          "learner": "SAL",
          "loss": 0.41672131730056533,
          "n_iter": 428
         },
         {
          "learner": "SAL",
          "loss": 0.41674117716529474,
          "n_iter": 429
         },
         {
          "learner": "SAL",
          "loss": 0.4167739425308883,
          "n_iter": 430
         },
         {
          "learner": "SAL",
          "loss": 0.41680324508196537,
          "n_iter": 431
         },
         {
          "learner": "SAL",
          "loss": 0.41681110363873636,
          "n_iter": 432
         },
         {
          "learner": "SAL",
          "loss": 0.41681346363495,
          "n_iter": 433
         },
         {
          "learner": "SAL",
          "loss": 0.4168116124756209,
          "n_iter": 434
         },
         {
          "learner": "SAL",
          "loss": 0.4168075360368863,
          "n_iter": 435
         },
         {
          "learner": "SAL",
          "loss": 0.4168006419376981,
          "n_iter": 436
         },
         {
          "learner": "SAL",
          "loss": 0.4167914891034687,
          "n_iter": 437
         },
         {
          "learner": "SAL",
          "loss": 0.41678092537681727,
          "n_iter": 438
         },
         {
          "learner": "SAL",
          "loss": 0.4167696496986926,
          "n_iter": 439
         },
         {
          "learner": "SAL",
          "loss": 0.4167582116154378,
          "n_iter": 440
         },
         {
          "learner": "SAL",
          "loss": 0.4167463471941206,
          "n_iter": 441
         },
         {
          "learner": "SAL",
          "loss": 0.41673313823681,
          "n_iter": 442
         },
         {
          "learner": "SAL",
          "loss": 0.4167209767880091,
          "n_iter": 443
         },
         {
          "learner": "SAL",
          "loss": 0.4167098306401344,
          "n_iter": 444
         },
         {
          "learner": "SAL",
          "loss": 0.41669959246909266,
          "n_iter": 445
         },
         {
          "learner": "SAL",
          "loss": 0.41669017390793406,
          "n_iter": 446
         },
         {
          "learner": "SAL",
          "loss": 0.4166815113379724,
          "n_iter": 447
         },
         {
          "learner": "SAL",
          "loss": 0.4166735542467336,
          "n_iter": 448
         },
         {
          "learner": "SAL",
          "loss": 0.4173512324846049,
          "n_iter": 449
         },
         {
          "learner": "SAL",
          "loss": 0.4176296506917438,
          "n_iter": 450
         },
         {
          "learner": "SAL",
          "loss": 0.41764264037950766,
          "n_iter": 451
         },
         {
          "learner": "SAL",
          "loss": 0.4175058948999126,
          "n_iter": 452
         },
         {
          "learner": "SAL",
          "loss": 0.41745537030728774,
          "n_iter": 453
         },
         {
          "learner": "SAL",
          "loss": 0.4174537973543828,
          "n_iter": 454
         },
         {
          "learner": "SAL",
          "loss": 0.4174663583948016,
          "n_iter": 455
         },
         {
          "learner": "SAL",
          "loss": 0.4174795172565859,
          "n_iter": 456
         },
         {
          "learner": "SAL",
          "loss": 0.4174849803995756,
          "n_iter": 457
         },
         {
          "learner": "SAL",
          "loss": 0.41748644832456977,
          "n_iter": 458
         },
         {
          "learner": "SAL",
          "loss": 0.4174852920391091,
          "n_iter": 459
         },
         {
          "learner": "SAL",
          "loss": 0.4174865782137499,
          "n_iter": 460
         },
         {
          "learner": "SAL",
          "loss": 0.4174853672882559,
          "n_iter": 461
         },
         {
          "learner": "SAL",
          "loss": 0.41748248381262515,
          "n_iter": 462
         },
         {
          "learner": "SAL",
          "loss": 0.41747888646608106,
          "n_iter": 463
         },
         {
          "learner": "SAL",
          "loss": 0.4174749236275118,
          "n_iter": 464
         },
         {
          "learner": "SAL",
          "loss": 0.41756615245840956,
          "n_iter": 465
         },
         {
          "learner": "SAL",
          "loss": 0.4175971631316178,
          "n_iter": 466
         },
         {
          "learner": "SAL",
          "loss": 0.417602523955825,
          "n_iter": 467
         },
         {
          "learner": "SAL",
          "loss": 0.4175877193767723,
          "n_iter": 468
         },
         {
          "learner": "SAL",
          "loss": 0.41757363135658593,
          "n_iter": 469
         },
         {
          "learner": "SAL",
          "loss": 0.4175617360617602,
          "n_iter": 470
         },
         {
          "learner": "SAL",
          "loss": 0.41755156590459136,
          "n_iter": 471
         },
         {
          "learner": "SAL",
          "loss": 0.4175430785786787,
          "n_iter": 472
         },
         {
          "learner": "SAL",
          "loss": 0.4175354841749656,
          "n_iter": 473
         },
         {
          "learner": "SAL",
          "loss": 0.4175287629186477,
          "n_iter": 474
         },
         {
          "learner": "SAL",
          "loss": 0.417522821902074,
          "n_iter": 475
         },
         {
          "learner": "SAL",
          "loss": 0.41751757957316504,
          "n_iter": 476
         },
         {
          "learner": "SAL",
          "loss": 0.4175129677975287,
          "n_iter": 477
         },
         {
          "learner": "SAL",
          "loss": 0.41750898306513795,
          "n_iter": 478
         },
         {
          "learner": "SAL",
          "loss": 0.41750553141108915,
          "n_iter": 479
         },
         {
          "learner": "SAL",
          "loss": 0.41750254998573816,
          "n_iter": 480
         },
         {
          "learner": "SAL",
          "loss": 0.417499996735119,
          "n_iter": 481
         },
         {
          "learner": "SAL",
          "loss": 0.4174978389989857,
          "n_iter": 482
         },
         {
          "learner": "SAL",
          "loss": 0.41749604927193523,
          "n_iter": 483
         },
         {
          "learner": "SAL",
          "loss": 0.41749317936749747,
          "n_iter": 484
         },
         {
          "learner": "SAL",
          "loss": 0.4174907511421266,
          "n_iter": 485
         },
         {
          "learner": "SAL",
          "loss": 0.4174889299519314,
          "n_iter": 486
         },
         {
          "learner": "SAL",
          "loss": 0.4174848372788869,
          "n_iter": 487
         },
         {
          "learner": "SAL",
          "loss": 0.4174822375924724,
          "n_iter": 488
         },
         {
          "learner": "SAL",
          "loss": 0.41748080585891434,
          "n_iter": 489
         },
         {
          "learner": "SAL",
          "loss": 0.4174801493353519,
          "n_iter": 490
         },
         {
          "learner": "SAL",
          "loss": 0.41747997219803323,
          "n_iter": 491
         },
         {
          "learner": "SAL",
          "loss": 0.4174801595570883,
          "n_iter": 492
         },
         {
          "learner": "SAL",
          "loss": 0.41748078113902115,
          "n_iter": 493
         },
         {
          "learner": "SAL",
          "loss": 0.41748164338360205,
          "n_iter": 494
         },
         {
          "learner": "SAL",
          "loss": 0.417487478425963,
          "n_iter": 495
         },
         {
          "learner": "SAL",
          "loss": 0.41663329723325765,
          "n_iter": 496
         },
         {
          "learner": "SAL",
          "loss": 0.416460816776503,
          "n_iter": 497
         },
         {
          "learner": "SAL",
          "loss": 0.4166641087969154,
          "n_iter": 498
         },
         {
          "learner": "SAL",
          "loss": 0.4169753300654605,
          "n_iter": 499
         },
         {
          "learner": "SAL",
          "loss": 0.4172361686515274,
          "n_iter": 500
         },
         {
          "learner": "SAL",
          "loss": 0.4174292492058742,
          "n_iter": 501
         },
         {
          "learner": "SAL",
          "loss": 0.4175545651196702,
          "n_iter": 502
         },
         {
          "learner": "SAL",
          "loss": 0.4176401306037781,
          "n_iter": 503
         },
         {
          "learner": "SAL",
          "loss": 0.4176989723649354,
          "n_iter": 504
         },
         {
          "learner": "SAL",
          "loss": 0.41773574983242556,
          "n_iter": 505
         },
         {
          "learner": "SAL",
          "loss": 0.4165908318945978,
          "n_iter": 506
         },
         {
          "learner": "SAL",
          "loss": 0.4165625797902084,
          "n_iter": 507
         },
         {
          "learner": "SAL",
          "loss": 0.4163807113088126,
          "n_iter": 508
         },
         {
          "learner": "SAL",
          "loss": 0.4160616234248551,
          "n_iter": 509
         },
         {
          "learner": "SAL",
          "loss": 0.41580751144320255,
          "n_iter": 510
         },
         {
          "learner": "SAL",
          "loss": 0.41570845915501226,
          "n_iter": 511
         },
         {
          "learner": "SAL",
          "loss": 0.41561857564019,
          "n_iter": 512
         },
         {
          "learner": "SAL",
          "loss": 0.4155624852676326,
          "n_iter": 513
         },
         {
          "learner": "SAL",
          "loss": 0.4155315549085114,
          "n_iter": 514
         },
         {
          "learner": "SAL",
          "loss": 0.4155172295047271,
          "n_iter": 515
         },
         {
          "learner": "SAL",
          "loss": 0.4155105773932018,
          "n_iter": 516
         },
         {
          "learner": "SAL",
          "loss": 0.41550995750197883,
          "n_iter": 517
         },
         {
          "learner": "SAL",
          "loss": 0.4155131042338626,
          "n_iter": 518
         },
         {
          "learner": "SAL",
          "loss": 0.41553487639602876,
          "n_iter": 519
         },
         {
          "learner": "SAL",
          "loss": 0.4155431520697002,
          "n_iter": 520
         },
         {
          "learner": "SAL",
          "loss": 0.41553533295994627,
          "n_iter": 521
         },
         {
          "learner": "SAL",
          "loss": 0.41551869050183626,
          "n_iter": 522
         },
         {
          "learner": "SAL",
          "loss": 0.4155000134743345,
          "n_iter": 523
         },
         {
          "learner": "SAL",
          "loss": 0.4154809493847659,
          "n_iter": 524
         },
         {
          "learner": "SAL",
          "loss": 0.415513847353094,
          "n_iter": 525
         },
         {
          "learner": "SAL",
          "loss": 0.415549096262422,
          "n_iter": 526
         },
         {
          "learner": "SAL",
          "loss": 0.41559668221313795,
          "n_iter": 527
         },
         {
          "learner": "SAL",
          "loss": 0.41564769693979287,
          "n_iter": 528
         },
         {
          "learner": "SAL",
          "loss": 0.41569056531562554,
          "n_iter": 529
         },
         {
          "learner": "SAL",
          "loss": 0.41572026672879564,
          "n_iter": 530
         },
         {
          "learner": "SAL",
          "loss": 0.4157383614796288,
          "n_iter": 531
         },
         {
          "learner": "SAL",
          "loss": 0.4157488006114486,
          "n_iter": 532
         },
         {
          "learner": "SAL",
          "loss": 0.4158288514181136,
          "n_iter": 533
         },
         {
          "learner": "SAL",
          "loss": 0.4158694321138241,
          "n_iter": 534
         },
         {
          "learner": "SAL",
          "loss": 0.41588088171294374,
          "n_iter": 535
         },
         {
          "learner": "SAL",
          "loss": 0.4158715921380478,
          "n_iter": 536
         },
         {
          "learner": "SAL",
          "loss": 0.4158486593637826,
          "n_iter": 537
         },
         {
          "learner": "SAL",
          "loss": 0.41581661160484906,
          "n_iter": 538
         },
         {
          "learner": "SAL",
          "loss": 0.4157745646005,
          "n_iter": 539
         },
         {
          "learner": "SAL",
          "loss": 0.41573718913526847,
          "n_iter": 540
         },
         {
          "learner": "SAL",
          "loss": 0.415697517968793,
          "n_iter": 541
         },
         {
          "learner": "SAL",
          "loss": 0.41565837099854486,
          "n_iter": 542
         },
         {
          "learner": "SAL",
          "loss": 0.4156901624730526,
          "n_iter": 543
         },
         {
          "learner": "SAL",
          "loss": 0.41567095968879586,
          "n_iter": 544
         },
         {
          "learner": "SAL",
          "loss": 0.41564205034178725,
          "n_iter": 545
         },
         {
          "learner": "SAL",
          "loss": 0.415612001873542,
          "n_iter": 546
         },
         {
          "learner": "SAL",
          "loss": 0.41558159683636137,
          "n_iter": 547
         },
         {
          "learner": "SAL",
          "loss": 0.41554977312007624,
          "n_iter": 548
         },
         {
          "learner": "SAL",
          "loss": 0.41551651933725436,
          "n_iter": 549
         },
         {
          "learner": "SAL",
          "loss": 0.41548127897254616,
          "n_iter": 550
         },
         {
          "learner": "SAL",
          "loss": 0.4154452095529198,
          "n_iter": 551
         },
         {
          "learner": "SAL",
          "loss": 0.4147428100284995,
          "n_iter": 552
         },
         {
          "learner": "SAL",
          "loss": 0.4146727724838232,
          "n_iter": 553
         },
         {
          "learner": "SAL",
          "loss": 0.4146787400752595,
          "n_iter": 554
         },
         {
          "learner": "SAL",
          "loss": 0.41473012771740786,
          "n_iter": 555
         },
         {
          "learner": "SAL",
          "loss": 0.4148116542655873,
          "n_iter": 556
         },
         {
          "learner": "SAL",
          "loss": 0.41482690128310595,
          "n_iter": 557
         },
         {
          "learner": "SAL",
          "loss": 0.41505553019218383,
          "n_iter": 558
         },
         {
          "learner": "SAL",
          "loss": 0.4152591606827376,
          "n_iter": 559
         },
         {
          "learner": "SAL",
          "loss": 0.41541610496545667,
          "n_iter": 560
         },
         {
          "learner": "SAL",
          "loss": 0.4153784481146024,
          "n_iter": 561
         },
         {
          "learner": "SAL",
          "loss": 0.41523170742736715,
          "n_iter": 562
         },
         {
          "learner": "SAL",
          "loss": 0.41516223513136674,
          "n_iter": 563
         },
         {
          "learner": "SAL",
          "loss": 0.4151589969055019,
          "n_iter": 564
         },
         {
          "learner": "SAL",
          "loss": 0.4149269561388759,
          "n_iter": 565
         },
         {
          "learner": "SAL",
          "loss": 0.4148091930568304,
          "n_iter": 566
         },
         {
          "learner": "SAL",
          "loss": 0.4147492192583635,
          "n_iter": 567
         },
         {
          "learner": "SAL",
          "loss": 0.414637973174058,
          "n_iter": 568
         },
         {
          "learner": "SAL",
          "loss": 0.4145553786625429,
          "n_iter": 569
         },
         {
          "learner": "SAL",
          "loss": 0.4145220251207574,
          "n_iter": 570
         },
         {
          "learner": "SAL",
          "loss": 0.4145769503032442,
          "n_iter": 571
         },
         {
          "learner": "SAL",
          "loss": 0.4146315943581593,
          "n_iter": 572
         },
         {
          "learner": "SAL",
          "loss": 0.41476005918448267,
          "n_iter": 573
         },
         {
          "learner": "SAL",
          "loss": 0.4148139315881017,
          "n_iter": 574
         },
         {
          "learner": "SAL",
          "loss": 0.4148515720663623,
          "n_iter": 575
         },
         {
          "learner": "SAL",
          "loss": 0.41488952370898596,
          "n_iter": 576
         },
         {
          "learner": "SAL",
          "loss": 0.41493000564906135,
          "n_iter": 577
         },
         {
          "learner": "SAL",
          "loss": 0.41497258464486014,
          "n_iter": 578
         },
         {
          "learner": "SAL",
          "loss": 0.41501417655685047,
          "n_iter": 579
         },
         {
          "learner": "SAL",
          "loss": 0.415055933632558,
          "n_iter": 580
         },
         {
          "learner": "SAL",
          "loss": 0.415219957043135,
          "n_iter": 581
         },
         {
          "learner": "SAL",
          "loss": 0.4153342385473314,
          "n_iter": 582
         },
         {
          "learner": "SAL",
          "loss": 0.4154110084789795,
          "n_iter": 583
         },
         {
          "learner": "SAL",
          "loss": 0.41546483342307283,
          "n_iter": 584
         },
         {
          "learner": "SAL",
          "loss": 0.4155052510382975,
          "n_iter": 585
         },
         {
          "learner": "SAL",
          "loss": 0.4155369082724343,
          "n_iter": 586
         },
         {
          "learner": "SAL",
          "loss": 0.4162171768892052,
          "n_iter": 587
         },
         {
          "learner": "SAL",
          "loss": 0.4164550029563361,
          "n_iter": 588
         },
         {
          "learner": "SAL",
          "loss": 0.41660892882980405,
          "n_iter": 589
         },
         {
          "learner": "SAL",
          "loss": 0.41675369587641065,
          "n_iter": 590
         },
         {
          "learner": "SAL",
          "loss": 0.41685108800510456,
          "n_iter": 591
         },
         {
          "learner": "SAL",
          "loss": 0.4169067989057937,
          "n_iter": 592
         },
         {
          "learner": "SAL",
          "loss": 0.41696585972185674,
          "n_iter": 593
         },
         {
          "learner": "SAL",
          "loss": 0.41703113367010153,
          "n_iter": 594
         },
         {
          "learner": "SAL",
          "loss": 0.41709963027167185,
          "n_iter": 595
         },
         {
          "learner": "SAL",
          "loss": 0.4171538505791682,
          "n_iter": 596
         },
         {
          "learner": "SAL",
          "loss": 0.4172026449213066,
          "n_iter": 597
         },
         {
          "learner": "SAL",
          "loss": 0.4172459959055568,
          "n_iter": 598
         },
         {
          "learner": "SAL",
          "loss": 0.4172829396228714,
          "n_iter": 599
         },
         {
          "learner": "SAL",
          "loss": 0.417314255204351,
          "n_iter": 600
         },
         {
          "learner": "SAL",
          "loss": 0.41733178188425774,
          "n_iter": 601
         },
         {
          "learner": "SAL",
          "loss": 0.41734923887026226,
          "n_iter": 602
         },
         {
          "learner": "SAL",
          "loss": 0.41737246397500327,
          "n_iter": 603
         },
         {
          "learner": "SAL",
          "loss": 0.4173560285275013,
          "n_iter": 604
         },
         {
          "learner": "SAL",
          "loss": 0.41734746557013275,
          "n_iter": 605
         },
         {
          "learner": "SAL",
          "loss": 0.41734854332435,
          "n_iter": 606
         },
         {
          "learner": "SAL",
          "loss": 0.41735259666089086,
          "n_iter": 607
         },
         {
          "learner": "SAL",
          "loss": 0.4173572493572068,
          "n_iter": 608
         },
         {
          "learner": "SAL",
          "loss": 0.4173612656886055,
          "n_iter": 609
         },
         {
          "learner": "SAL",
          "loss": 0.417365381496529,
          "n_iter": 610
         },
         {
          "learner": "SAL",
          "loss": 0.4173718883361081,
          "n_iter": 611
         },
         {
          "learner": "SAL",
          "loss": 0.41737455768762544,
          "n_iter": 612
         },
         {
          "learner": "SAL",
          "loss": 0.41737274376275885,
          "n_iter": 613
         },
         {
          "learner": "SAL",
          "loss": 0.41736847631415414,
          "n_iter": 614
         },
         {
          "learner": "SAL",
          "loss": 0.41721879703162484,
          "n_iter": 615
         },
         {
          "learner": "SAL",
          "loss": 0.4171138338968777,
          "n_iter": 616
         },
         {
          "learner": "SAL",
          "loss": 0.41703157213476827,
          "n_iter": 617
         },
         {
          "learner": "SAL",
          "loss": 0.41697942711416525,
          "n_iter": 618
         },
         {
          "learner": "SAL",
          "loss": 0.41695224446684037,
          "n_iter": 619
         },
         {
          "learner": "SAL",
          "loss": 0.4169408757733127,
          "n_iter": 620
         },
         {
          "learner": "SAL",
          "loss": 0.41693962405087326,
          "n_iter": 621
         },
         {
          "learner": "SAL",
          "loss": 0.4169430490893713,
          "n_iter": 622
         },
         {
          "learner": "SAL",
          "loss": 0.41695109571707323,
          "n_iter": 623
         },
         {
          "learner": "SAL",
          "loss": 0.4170384555909703,
          "n_iter": 624
         },
         {
          "learner": "SAL",
          "loss": 0.41712574058536944,
          "n_iter": 625
         },
         {
          "learner": "SAL",
          "loss": 0.41720116919948746,
          "n_iter": 626
         },
         {
          "learner": "SAL",
          "loss": 0.4172556342099565,
          "n_iter": 627
         },
         {
          "learner": "SAL",
          "loss": 0.4172992568239431,
          "n_iter": 628
         },
         {
          "learner": "SAL",
          "loss": 0.41734366441649373,
          "n_iter": 629
         },
         {
          "learner": "SAL",
          "loss": 0.4173745803108026,
          "n_iter": 630
         },
         {
          "learner": "SAL",
          "loss": 0.4174376652884153,
          "n_iter": 631
         },
         {
          "learner": "SAL",
          "loss": 0.41752497772753244,
          "n_iter": 632
         },
         {
          "learner": "SAL",
          "loss": 0.417578217910398,
          "n_iter": 633
         },
         {
          "learner": "SAL",
          "loss": 0.41761218610664114,
          "n_iter": 634
         },
         {
          "learner": "SAL",
          "loss": 0.4176332576849009,
          "n_iter": 635
         },
         {
          "learner": "SAL",
          "loss": 0.4176464931476851,
          "n_iter": 636
         },
         {
          "learner": "SAL",
          "loss": 0.41765709785193095,
          "n_iter": 637
         },
         {
          "learner": "SAL",
          "loss": 0.4176632682912899,
          "n_iter": 638
         },
         {
          "learner": "SAL",
          "loss": 0.41766420916696445,
          "n_iter": 639
         },
         {
          "learner": "SAL",
          "loss": 0.4176580701955446,
          "n_iter": 640
         },
         {
          "learner": "SAL",
          "loss": 0.4176471543069526,
          "n_iter": 641
         },
         {
          "learner": "SAL",
          "loss": 0.4176338265570824,
          "n_iter": 642
         },
         {
          "learner": "SAL",
          "loss": 0.4176058185198197,
          "n_iter": 643
         },
         {
          "learner": "SAL",
          "loss": 0.4175768768297425,
          "n_iter": 644
         },
         {
          "learner": "SAL",
          "loss": 0.4175560452630336,
          "n_iter": 645
         },
         {
          "learner": "SAL",
          "loss": 0.4175387352834513,
          "n_iter": 646
         },
         {
          "learner": "SAL",
          "loss": 0.41752446403664906,
          "n_iter": 647
         },
         {
          "learner": "SAL",
          "loss": 0.4175101252168936,
          "n_iter": 648
         },
         {
          "learner": "SAL",
          "loss": 0.41749648787555016,
          "n_iter": 649
         },
         {
          "learner": "SAL",
          "loss": 0.4174736931556642,
          "n_iter": 650
         },
         {
          "learner": "SAL",
          "loss": 0.41744908277594556,
          "n_iter": 651
         },
         {
          "learner": "SAL",
          "loss": 0.4174236449140532,
          "n_iter": 652
         },
         {
          "learner": "SAL",
          "loss": 0.4174002453285667,
          "n_iter": 653
         },
         {
          "learner": "SAL",
          "loss": 0.4173792244340617,
          "n_iter": 654
         },
         {
          "learner": "SAL",
          "loss": 0.41735525945164764,
          "n_iter": 655
         },
         {
          "learner": "SAL",
          "loss": 0.41732511029067,
          "n_iter": 656
         },
         {
          "learner": "SAL",
          "loss": 0.41730757894419745,
          "n_iter": 657
         },
         {
          "learner": "SAL",
          "loss": 0.4172899490555919,
          "n_iter": 658
         },
         {
          "learner": "SAL",
          "loss": 0.41727461670302574,
          "n_iter": 659
         },
         {
          "learner": "SAL",
          "loss": 0.41726112013226957,
          "n_iter": 660
         },
         {
          "learner": "SAL",
          "loss": 0.4172497484830307,
          "n_iter": 661
         },
         {
          "learner": "SAL",
          "loss": 0.4172390421238294,
          "n_iter": 662
         },
         {
          "learner": "SAL",
          "loss": 0.417229261569969,
          "n_iter": 663
         },
         {
          "learner": "SAL",
          "loss": 0.4172960573125975,
          "n_iter": 664
         },
         {
          "learner": "SAL",
          "loss": 0.41732585257701177,
          "n_iter": 665
         },
         {
          "learner": "SAL",
          "loss": 0.41733749823126476,
          "n_iter": 666
         },
         {
          "learner": "SAL",
          "loss": 0.41734546668194406,
          "n_iter": 667
         },
         {
          "learner": "SAL",
          "loss": 0.41735262752209223,
          "n_iter": 668
         },
         {
          "learner": "SAL",
          "loss": 0.4173591228201003,
          "n_iter": 669
         },
         {
          "learner": "SAL",
          "loss": 0.4173653890778766,
          "n_iter": 670
         },
         {
          "learner": "SAL",
          "loss": 0.4173691076341579,
          "n_iter": 671
         },
         {
          "learner": "SAL",
          "loss": 0.41737145582616036,
          "n_iter": 672
         },
         {
          "learner": "SAL",
          "loss": 0.41745651962764574,
          "n_iter": 673
         },
         {
          "learner": "SAL",
          "loss": 0.4175327521805944,
          "n_iter": 674
         },
         {
          "learner": "SAL",
          "loss": 0.41758977083505644,
          "n_iter": 675
         },
         {
          "learner": "SAL",
          "loss": 0.4177182683816057,
          "n_iter": 676
         },
         {
          "learner": "SAL",
          "loss": 0.41775751801639077,
          "n_iter": 677
         },
         {
          "learner": "SAL",
          "loss": 0.41778657049265144,
          "n_iter": 678
         },
         {
          "learner": "SAL",
          "loss": 0.41781177373868517,
          "n_iter": 679
         },
         {
          "learner": "SAL",
          "loss": 0.41783554899476016,
          "n_iter": 680
         },
         {
          "learner": "SAL",
          "loss": 0.4178521335432494,
          "n_iter": 681
         },
         {
          "learner": "SAL",
          "loss": 0.41786431812826713,
          "n_iter": 682
         },
         {
          "learner": "SAL",
          "loss": 0.41787364576236136,
          "n_iter": 683
         },
         {
          "learner": "SAL",
          "loss": 0.41794167809364213,
          "n_iter": 684
         },
         {
          "learner": "SAL",
          "loss": 0.4179804460487908,
          "n_iter": 685
         },
         {
          "learner": "SAL",
          "loss": 0.4179851063931482,
          "n_iter": 686
         },
         {
          "learner": "SAL",
          "loss": 0.4179741199472412,
          "n_iter": 687
         },
         {
          "learner": "SAL",
          "loss": 0.4179576562450351,
          "n_iter": 688
         },
         {
          "learner": "SAL",
          "loss": 0.41794059537139894,
          "n_iter": 689
         },
         {
          "learner": "SAL",
          "loss": 0.4179239874272227,
          "n_iter": 690
         },
         {
          "learner": "SAL",
          "loss": 0.4179088484897877,
          "n_iter": 691
         },
         {
          "learner": "SAL",
          "loss": 0.41789578316880244,
          "n_iter": 692
         },
         {
          "learner": "SAL",
          "loss": 0.41788498583563166,
          "n_iter": 693
         },
         {
          "learner": "SAL",
          "loss": 0.41739691525193,
          "n_iter": 694
         },
         {
          "learner": "SAL",
          "loss": 0.4169956589160965,
          "n_iter": 695
         },
         {
          "learner": "SAL",
          "loss": 0.41666755551572465,
          "n_iter": 696
         },
         {
          "learner": "SAL",
          "loss": 0.4163224917592949,
          "n_iter": 697
         },
         {
          "learner": "SAL",
          "loss": 0.4160215450463736,
          "n_iter": 698
         },
         {
          "learner": "SAL",
          "loss": 0.4158227613030444,
          "n_iter": 699
         },
         {
          "learner": "SAL",
          "loss": 0.41570009550114667,
          "n_iter": 700
         },
         {
          "learner": "SAL",
          "loss": 0.41561743830065884,
          "n_iter": 701
         },
         {
          "learner": "SAL",
          "loss": 0.4155573200931938,
          "n_iter": 702
         },
         {
          "learner": "SAL",
          "loss": 0.4155237623135315,
          "n_iter": 703
         },
         {
          "learner": "SAL",
          "loss": 0.4155128118853305,
          "n_iter": 704
         },
         {
          "learner": "SAL",
          "loss": 0.4150260327720695,
          "n_iter": 705
         },
         {
          "learner": "SAL",
          "loss": 0.4148384612929735,
          "n_iter": 706
         },
         {
          "learner": "SAL",
          "loss": 0.41477528859106116,
          "n_iter": 707
         },
         {
          "learner": "SAL",
          "loss": 0.4147484927628791,
          "n_iter": 708
         },
         {
          "learner": "SAL",
          "loss": 0.4147407133246249,
          "n_iter": 709
         },
         {
          "learner": "SAL",
          "loss": 0.41476834362450193,
          "n_iter": 710
         },
         {
          "learner": "SAL",
          "loss": 0.4148687701735642,
          "n_iter": 711
         },
         {
          "learner": "SAL",
          "loss": 0.41497141914520547,
          "n_iter": 712
         },
         {
          "learner": "SAL",
          "loss": 0.41505696853691765,
          "n_iter": 713
         },
         {
          "learner": "SAL",
          "loss": 0.41512697123471903,
          "n_iter": 714
         },
         {
          "learner": "SAL",
          "loss": 0.41518303558871394,
          "n_iter": 715
         },
         {
          "learner": "SAL",
          "loss": 0.41523976030735044,
          "n_iter": 716
         },
         {
          "learner": "SAL",
          "loss": 0.4153051967564108,
          "n_iter": 717
         },
         {
          "learner": "SAL",
          "loss": 0.4153614197666725,
          "n_iter": 718
         },
         {
          "learner": "SAL",
          "loss": 0.4154108599794565,
          "n_iter": 719
         },
         {
          "learner": "SAL",
          "loss": 0.4154539768397176,
          "n_iter": 720
         },
         {
          "learner": "SAL",
          "loss": 0.4155755617417505,
          "n_iter": 721
         },
         {
          "learner": "SAL",
          "loss": 0.4156103665360018,
          "n_iter": 722
         },
         {
          "learner": "SAL",
          "loss": 0.4156422278780145,
          "n_iter": 723
         },
         {
          "learner": "SAL",
          "loss": 0.4156689029218853,
          "n_iter": 724
         },
         {
          "learner": "SAL",
          "loss": 0.41569019737323315,
          "n_iter": 725
         },
         {
          "learner": "SAL",
          "loss": 0.4157066248238045,
          "n_iter": 726
         },
         {
          "learner": "SAL",
          "loss": 0.4157190616598105,
          "n_iter": 727
         },
         {
          "learner": "SAL",
          "loss": 0.4159432821865529,
          "n_iter": 728
         },
         {
          "learner": "SAL",
          "loss": 0.416043381811675,
          "n_iter": 729
         },
         {
          "learner": "SAL",
          "loss": 0.4160867153936927,
          "n_iter": 730
         },
         {
          "learner": "SAL",
          "loss": 0.4161089890864465,
          "n_iter": 731
         },
         {
          "learner": "SAL",
          "loss": 0.41610974824018226,
          "n_iter": 732
         },
         {
          "learner": "SAL",
          "loss": 0.4160882834908691,
          "n_iter": 733
         },
         {
          "learner": "SAL",
          "loss": 0.41605509244519817,
          "n_iter": 734
         },
         {
          "learner": "SAL",
          "loss": 0.41601500999512586,
          "n_iter": 735
         },
         {
          "learner": "SAL",
          "loss": 0.41598331671745725,
          "n_iter": 736
         },
         {
          "learner": "SAL",
          "loss": 0.4159671546382586,
          "n_iter": 737
         },
         {
          "learner": "SAL",
          "loss": 0.4159693443221991,
          "n_iter": 738
         },
         {
          "learner": "SAL",
          "loss": 0.4159799993878115,
          "n_iter": 739
         },
         {
          "learner": "SAL",
          "loss": 0.41599428996844895,
          "n_iter": 740
         },
         {
          "learner": "SAL",
          "loss": 0.416011058674286,
          "n_iter": 741
         },
         {
          "learner": "SAL",
          "loss": 0.41602788362046916,
          "n_iter": 742
         },
         {
          "learner": "SAL",
          "loss": 0.4160626628168643,
          "n_iter": 743
         },
         {
          "learner": "SAL",
          "loss": 0.4161072695722876,
          "n_iter": 744
         },
         {
          "learner": "SAL",
          "loss": 0.41616613847186207,
          "n_iter": 745
         },
         {
          "learner": "SAL",
          "loss": 0.4162276747083187,
          "n_iter": 746
         },
         {
          "learner": "SAL",
          "loss": 0.41629740616289257,
          "n_iter": 747
         },
         {
          "learner": "SAL",
          "loss": 0.4164196338626798,
          "n_iter": 748
         },
         {
          "learner": "SAL",
          "loss": 0.4165193598555112,
          "n_iter": 749
         },
         {
          "learner": "SAL",
          "loss": 0.41658037351837984,
          "n_iter": 750
         },
         {
          "learner": "SAL",
          "loss": 0.4166308613127655,
          "n_iter": 751
         },
         {
          "learner": "SAL",
          "loss": 0.4166725217614626,
          "n_iter": 752
         },
         {
          "learner": "SAL",
          "loss": 0.41670136518484485,
          "n_iter": 753
         },
         {
          "learner": "SAL",
          "loss": 0.416715363014853,
          "n_iter": 754
         },
         {
          "learner": "SAL",
          "loss": 0.4167211105150993,
          "n_iter": 755
         },
         {
          "learner": "SAL",
          "loss": 0.41691156104708427,
          "n_iter": 756
         },
         {
          "learner": "SAL",
          "loss": 0.416973159511832,
          "n_iter": 757
         },
         {
          "learner": "SAL",
          "loss": 0.41700390808069143,
          "n_iter": 758
         },
         {
          "learner": "SAL",
          "loss": 0.41703481119696645,
          "n_iter": 759
         },
         {
          "learner": "SAL",
          "loss": 0.4170693682555091,
          "n_iter": 760
         },
         {
          "learner": "SAL",
          "loss": 0.41709385095757495,
          "n_iter": 761
         },
         {
          "learner": "SAL",
          "loss": 0.416968558296892,
          "n_iter": 762
         },
         {
          "learner": "SAL",
          "loss": 0.4164225040084428,
          "n_iter": 763
         },
         {
          "learner": "SAL",
          "loss": 0.4161406440086819,
          "n_iter": 764
         },
         {
          "learner": "SAL",
          "loss": 0.4160128069705074,
          "n_iter": 765
         },
         {
          "learner": "SAL",
          "loss": 0.4158779877749581,
          "n_iter": 766
         },
         {
          "learner": "SAL",
          "loss": 0.4158039264581548,
          "n_iter": 767
         },
         {
          "learner": "SAL",
          "loss": 0.41575817350579447,
          "n_iter": 768
         },
         {
          "learner": "SAL",
          "loss": 0.41571225511045184,
          "n_iter": 769
         },
         {
          "learner": "SAL",
          "loss": 0.4157401120966007,
          "n_iter": 770
         },
         {
          "learner": "SAL",
          "loss": 0.4157712259255596,
          "n_iter": 771
         },
         {
          "learner": "SAL",
          "loss": 0.41581099227633345,
          "n_iter": 772
         },
         {
          "learner": "SAL",
          "loss": 0.4158607863308192,
          "n_iter": 773
         },
         {
          "learner": "SAL",
          "loss": 0.4158988065111198,
          "n_iter": 774
         },
         {
          "learner": "SAL",
          "loss": 0.415929397684573,
          "n_iter": 775
         },
         {
          "learner": "SAL",
          "loss": 0.4159385560365184,
          "n_iter": 776
         },
         {
          "learner": "SAL",
          "loss": 0.4159413522100895,
          "n_iter": 777
         },
         {
          "learner": "SAL",
          "loss": 0.415939544362662,
          "n_iter": 778
         },
         {
          "learner": "SAL",
          "loss": 0.4159349182173014,
          "n_iter": 779
         },
         {
          "learner": "SAL",
          "loss": 0.41592887832853953,
          "n_iter": 780
         },
         {
          "learner": "SAL",
          "loss": 0.41592211287295155,
          "n_iter": 781
         },
         {
          "learner": "SAL",
          "loss": 0.41591894371242705,
          "n_iter": 782
         },
         {
          "learner": "SAL",
          "loss": 0.41592391900574105,
          "n_iter": 783
         },
         {
          "learner": "SAL",
          "loss": 0.41592847085841483,
          "n_iter": 784
         },
         {
          "learner": "SAL",
          "loss": 0.4159312446692736,
          "n_iter": 785
         },
         {
          "learner": "SAL",
          "loss": 0.41593246834722025,
          "n_iter": 786
         },
         {
          "learner": "SAL",
          "loss": 0.4159326199259268,
          "n_iter": 787
         },
         {
          "learner": "SAL",
          "loss": 0.41593209303986106,
          "n_iter": 788
         },
         {
          "learner": "SAL",
          "loss": 0.4159312099003336,
          "n_iter": 789
         },
         {
          "learner": "SAL",
          "loss": 0.41593020519827995,
          "n_iter": 790
         },
         {
          "learner": "SAL",
          "loss": 0.41586864444083865,
          "n_iter": 791
         },
         {
          "learner": "SAL",
          "loss": 0.4158863435732587,
          "n_iter": 792
         },
         {
          "learner": "SAL",
          "loss": 0.4159116762432928,
          "n_iter": 793
         },
         {
          "learner": "SAL",
          "loss": 0.4159584928812077,
          "n_iter": 794
         },
         {
          "learner": "SAL",
          "loss": 0.4159960109220255,
          "n_iter": 795
         },
         {
          "learner": "SAL",
          "loss": 0.4160301744914638,
          "n_iter": 796
         },
         {
          "learner": "SAL",
          "loss": 0.4160613954713541,
          "n_iter": 797
         },
         {
          "learner": "SAL",
          "loss": 0.4160902596367191,
          "n_iter": 798
         },
         {
          "learner": "SAL",
          "loss": 0.4161170405662575,
          "n_iter": 799
         },
         {
          "learner": "SAL",
          "loss": 0.4161424008962642,
          "n_iter": 800
         },
         {
          "learner": "SAL",
          "loss": 0.41616851086301715,
          "n_iter": 801
         },
         {
          "learner": "SAL",
          "loss": 0.4161919555545359,
          "n_iter": 802
         },
         {
          "learner": "SAL",
          "loss": 0.4162135767497323,
          "n_iter": 803
         },
         {
          "learner": "SAL",
          "loss": 0.4162337156782282,
          "n_iter": 804
         },
         {
          "learner": "SAL",
          "loss": 0.41625226735113274,
          "n_iter": 805
         },
         {
          "learner": "SAL",
          "loss": 0.41620141298040025,
          "n_iter": 806
         },
         {
          "learner": "SAL",
          "loss": 0.41619619561026355,
          "n_iter": 807
         },
         {
          "learner": "SAL",
          "loss": 0.416081365877087,
          "n_iter": 808
         },
         {
          "learner": "SAL",
          "loss": 0.41592856400796874,
          "n_iter": 809
         },
         {
          "learner": "SAL",
          "loss": 0.41577367588783276,
          "n_iter": 810
         },
         {
          "learner": "SAL",
          "loss": 0.41568001026500156,
          "n_iter": 811
         },
         {
          "learner": "SAL",
          "loss": 0.4155954104781673,
          "n_iter": 812
         },
         {
          "learner": "SAL",
          "loss": 0.41552548500982744,
          "n_iter": 813
         },
         {
          "learner": "SAL",
          "loss": 0.4154614749039203,
          "n_iter": 814
         },
         {
          "learner": "SAL",
          "loss": 0.41540630791297495,
          "n_iter": 815
         },
         {
          "learner": "SAL",
          "loss": 0.41537934650434927,
          "n_iter": 816
         },
         {
          "learner": "SAL",
          "loss": 0.41533603012272124,
          "n_iter": 817
         },
         {
          "learner": "SAL",
          "loss": 0.4152844651765985,
          "n_iter": 818
         },
         {
          "learner": "SAL",
          "loss": 0.4152348860570496,
          "n_iter": 819
         },
         {
          "learner": "SAL",
          "loss": 0.4151881417510681,
          "n_iter": 820
         },
         {
          "learner": "SAL",
          "loss": 0.41514473401802604,
          "n_iter": 821
         },
         {
          "learner": "SAL",
          "loss": 0.4150799295044707,
          "n_iter": 822
         },
         {
          "learner": "SAL",
          "loss": 0.4147326306046811,
          "n_iter": 823
         },
         {
          "learner": "SAL",
          "loss": 0.4146240956158054,
          "n_iter": 824
         },
         {
          "learner": "SAL",
          "loss": 0.4145731486266742,
          "n_iter": 825
         },
         {
          "learner": "SAL",
          "loss": 0.4145307056276563,
          "n_iter": 826
         },
         {
          "learner": "SAL",
          "loss": 0.41449037002102307,
          "n_iter": 827
         },
         {
          "learner": "SAL",
          "loss": 0.4144535819303514,
          "n_iter": 828
         },
         {
          "learner": "SAL",
          "loss": 0.4144400110937409,
          "n_iter": 829
         },
         {
          "learner": "SAL",
          "loss": 0.41442988772561246,
          "n_iter": 830
         },
         {
          "learner": "SAL",
          "loss": 0.4144431075597554,
          "n_iter": 831
         },
         {
          "learner": "SAL",
          "loss": 0.4144511541572774,
          "n_iter": 832
         },
         {
          "learner": "SAL",
          "loss": 0.41445828801686246,
          "n_iter": 833
         },
         {
          "learner": "SAL",
          "loss": 0.41448481786884434,
          "n_iter": 834
         },
         {
          "learner": "SAL",
          "loss": 0.4146926137834096,
          "n_iter": 835
         },
         {
          "learner": "SAL",
          "loss": 0.4146747668187214,
          "n_iter": 836
         },
         {
          "learner": "SAL",
          "loss": 0.4147121840168464,
          "n_iter": 837
         },
         {
          "learner": "SAL",
          "loss": 0.4148405982962343,
          "n_iter": 838
         },
         {
          "learner": "SAL",
          "loss": 0.4149637426153027,
          "n_iter": 839
         },
         {
          "learner": "SAL",
          "loss": 0.4150676623928869,
          "n_iter": 840
         },
         {
          "learner": "SAL",
          "loss": 0.41515014318366644,
          "n_iter": 841
         },
         {
          "learner": "SAL",
          "loss": 0.41521329638188836,
          "n_iter": 842
         },
         {
          "learner": "SAL",
          "loss": 0.4152601627739989,
          "n_iter": 843
         },
         {
          "learner": "SAL",
          "loss": 0.41529288450944013,
          "n_iter": 844
         },
         {
          "learner": "SAL",
          "loss": 0.41565332784840997,
          "n_iter": 845
         },
         {
          "learner": "SAL",
          "loss": 0.415592274510375,
          "n_iter": 846
         },
         {
          "learner": "SAL",
          "loss": 0.41548187196820374,
          "n_iter": 847
         },
         {
          "learner": "SAL",
          "loss": 0.4153767632686913,
          "n_iter": 848
         },
         {
          "learner": "SAL",
          "loss": 0.41528354132920314,
          "n_iter": 849
         },
         {
          "learner": "SAL",
          "loss": 0.41515760149320685,
          "n_iter": 850
         },
         {
          "learner": "SAL",
          "loss": 0.4150320484041457,
          "n_iter": 851
         },
         {
          "learner": "SAL",
          "loss": 0.41491854882345414,
          "n_iter": 852
         },
         {
          "learner": "SAL",
          "loss": 0.41481603052221944,
          "n_iter": 853
         },
         {
          "learner": "SAL",
          "loss": 0.4147294779093545,
          "n_iter": 854
         },
         {
          "learner": "SAL",
          "loss": 0.4146593517079449,
          "n_iter": 855
         },
         {
          "learner": "SAL",
          "loss": 0.4146059088786792,
          "n_iter": 856
         },
         {
          "learner": "SAL",
          "loss": 0.41456251305593433,
          "n_iter": 857
         },
         {
          "learner": "SAL",
          "loss": 0.4145254136233259,
          "n_iter": 858
         },
         {
          "learner": "SAL",
          "loss": 0.41449300096373803,
          "n_iter": 859
         },
         {
          "learner": "SAL",
          "loss": 0.41446900631804956,
          "n_iter": 860
         },
         {
          "learner": "SAL",
          "loss": 0.4144507839910732,
          "n_iter": 861
         },
         {
          "learner": "SAL",
          "loss": 0.41443662498141426,
          "n_iter": 862
         },
         {
          "learner": "SAL",
          "loss": 0.4144276825514299,
          "n_iter": 863
         },
         {
          "learner": "SAL",
          "loss": 0.41442377909327704,
          "n_iter": 864
         },
         {
          "learner": "SAL",
          "loss": 0.4144259837224131,
          "n_iter": 865
         },
         {
          "learner": "SAL",
          "loss": 0.41443262578971946,
          "n_iter": 866
         },
         {
          "learner": "SAL",
          "loss": 0.4144402223452399,
          "n_iter": 867
         },
         {
          "learner": "SAL",
          "loss": 0.41444906755868216,
          "n_iter": 868
         },
         {
          "learner": "SAL",
          "loss": 0.4148292743083066,
          "n_iter": 869
         },
         {
          "learner": "SAL",
          "loss": 0.41496414984067553,
          "n_iter": 870
         },
         {
          "learner": "SAL",
          "loss": 0.4151473786000264,
          "n_iter": 871
         },
         {
          "learner": "SAL",
          "loss": 0.4152744825897545,
          "n_iter": 872
         },
         {
          "learner": "SAL",
          "loss": 0.41535831629176995,
          "n_iter": 873
         },
         {
          "learner": "SAL",
          "loss": 0.4154140381299674,
          "n_iter": 874
         },
         {
          "learner": "SAL",
          "loss": 0.4154778900165341,
          "n_iter": 875
         },
         {
          "learner": "SAL",
          "loss": 0.415528783021631,
          "n_iter": 876
         },
         {
          "learner": "SAL",
          "loss": 0.4155666658670016,
          "n_iter": 877
         },
         {
          "learner": "SAL",
          "loss": 0.41559553387401116,
          "n_iter": 878
         },
         {
          "learner": "SAL",
          "loss": 0.4156186764212217,
          "n_iter": 879
         },
         {
          "learner": "SAL",
          "loss": 0.4156390313769375,
          "n_iter": 880
         },
         {
          "learner": "SAL",
          "loss": 0.4156553623556899,
          "n_iter": 881
         },
         {
          "learner": "SAL",
          "loss": 0.4156690655823606,
          "n_iter": 882
         },
         {
          "learner": "SAL",
          "loss": 0.41567830719197274,
          "n_iter": 883
         },
         {
          "learner": "SAL",
          "loss": 0.41568892424763854,
          "n_iter": 884
         },
         {
          "learner": "SAL",
          "loss": 0.41570445078153845,
          "n_iter": 885
         },
         {
          "learner": "SAL",
          "loss": 0.41571936732766773,
          "n_iter": 886
         },
         {
          "learner": "SAL",
          "loss": 0.4157309158885875,
          "n_iter": 887
         },
         {
          "learner": "SAL",
          "loss": 0.41573991596999865,
          "n_iter": 888
         },
         {
          "learner": "SAL",
          "loss": 0.4157473663799221,
          "n_iter": 889
         },
         {
          "learner": "SAL",
          "loss": 0.4157531086687235,
          "n_iter": 890
         },
         {
          "learner": "SAL",
          "loss": 0.41575950370718884,
          "n_iter": 891
         },
         {
          "learner": "SAL",
          "loss": 0.41576617665709553,
          "n_iter": 892
         },
         {
          "learner": "SAL",
          "loss": 0.415772588193011,
          "n_iter": 893
         },
         {
          "learner": "SAL",
          "loss": 0.41577875346623017,
          "n_iter": 894
         },
         {
          "learner": "SAL",
          "loss": 0.4157847482969764,
          "n_iter": 895
         },
         {
          "learner": "SAL",
          "loss": 0.415790708321011,
          "n_iter": 896
         },
         {
          "learner": "SAL",
          "loss": 0.4157964422786284,
          "n_iter": 897
         },
         {
          "learner": "SAL",
          "loss": 0.41580192487684925,
          "n_iter": 898
         },
         {
          "learner": "SAL",
          "loss": 0.4158043700824586,
          "n_iter": 899
         },
         {
          "learner": "SAL",
          "loss": 0.41580485746299367,
          "n_iter": 900
         },
         {
          "learner": "SAL",
          "loss": 0.4158066035416425,
          "n_iter": 901
         },
         {
          "learner": "SAL",
          "loss": 0.41580268618875416,
          "n_iter": 902
         },
         {
          "learner": "SAL",
          "loss": 0.4157997002960198,
          "n_iter": 903
         },
         {
          "learner": "SAL",
          "loss": 0.41579924386848544,
          "n_iter": 904
         },
         {
          "learner": "SAL",
          "loss": 0.41580040590653405,
          "n_iter": 905
         },
         {
          "learner": "SAL",
          "loss": 0.4158024789112267,
          "n_iter": 906
         },
         {
          "learner": "SAL",
          "loss": 0.4158051743526081,
          "n_iter": 907
         },
         {
          "learner": "SAL",
          "loss": 0.41580809808814734,
          "n_iter": 908
         },
         {
          "learner": "SAL",
          "loss": 0.4158110362810797,
          "n_iter": 909
         },
         {
          "learner": "SAL",
          "loss": 0.4158138666242948,
          "n_iter": 910
         },
         {
          "learner": "SAL",
          "loss": 0.41581652175801226,
          "n_iter": 911
         },
         {
          "learner": "SAL",
          "loss": 0.41581870768992407,
          "n_iter": 912
         },
         {
          "learner": "SAL",
          "loss": 0.41582034378849875,
          "n_iter": 913
         },
         {
          "learner": "SAL",
          "loss": 0.4158214118972942,
          "n_iter": 914
         },
         {
          "learner": "SAL",
          "loss": 0.41582205144021145,
          "n_iter": 915
         },
         {
          "learner": "SAL",
          "loss": 0.41582235530643685,
          "n_iter": 916
         },
         {
          "learner": "SAL",
          "loss": 0.4158223718433727,
          "n_iter": 917
         },
         {
          "learner": "SAL",
          "loss": 0.41582205787870913,
          "n_iter": 918
         },
         {
          "learner": "SAL",
          "loss": 0.41582147529754576,
          "n_iter": 919
         },
         {
          "learner": "SAL",
          "loss": 0.41582071471587545,
          "n_iter": 920
         },
         {
          "learner": "SAL",
          "loss": 0.41581984454413884,
          "n_iter": 921
         },
         {
          "learner": "SAL",
          "loss": 0.415818920398696,
          "n_iter": 922
         },
         {
          "learner": "SAL",
          "loss": 0.41581797791850517,
          "n_iter": 923
         },
         {
          "learner": "SAL",
          "loss": 0.41581703109585094,
          "n_iter": 924
         },
         {
          "learner": "SAL",
          "loss": 0.4158160943586108,
          "n_iter": 925
         },
         {
          "learner": "SAL",
          "loss": 0.4158151823037957,
          "n_iter": 926
         },
         {
          "learner": "SAL",
          "loss": 0.41581430820207865,
          "n_iter": 927
         },
         {
          "learner": "SAL",
          "loss": 0.4158134831342344,
          "n_iter": 928
         },
         {
          "learner": "SAL",
          "loss": 0.4158127157052924,
          "n_iter": 929
         },
         {
          "learner": "SAL",
          "loss": 0.4158120121107048,
          "n_iter": 930
         },
         {
          "learner": "SAL",
          "loss": 0.4158113763786278,
          "n_iter": 931
         },
         {
          "learner": "SAL",
          "loss": 0.41581081068073245,
          "n_iter": 932
         },
         {
          "learner": "SAL",
          "loss": 0.4158103156525969,
          "n_iter": 933
         },
         {
          "learner": "SAL",
          "loss": 0.4158098906939739,
          "n_iter": 934
         },
         {
          "learner": "SAL",
          "loss": 0.4158070124617278,
          "n_iter": 935
         },
         {
          "learner": "SAL",
          "loss": 0.4158044411471025,
          "n_iter": 936
         },
         {
          "learner": "SAL",
          "loss": 0.41580326977237514,
          "n_iter": 937
         },
         {
          "learner": "SAL",
          "loss": 0.4158022439735101,
          "n_iter": 938
         },
         {
          "learner": "SAL",
          "loss": 0.41580132590530633,
          "n_iter": 939
         },
         {
          "learner": "SAL",
          "loss": 0.415800523218653,
          "n_iter": 940
         },
         {
          "learner": "SAL",
          "loss": 0.41579983522577657,
          "n_iter": 941
         },
         {
          "learner": "SAL",
          "loss": 0.4162100229437311,
          "n_iter": 942
         },
         {
          "learner": "SAL",
          "loss": 0.4162921056794883,
          "n_iter": 943
         },
         {
          "learner": "SAL",
          "loss": 0.4162780837581226,
          "n_iter": 944
         },
         {
          "learner": "SAL",
          "loss": 0.41623512431719545,
          "n_iter": 945
         },
         {
          "learner": "SAL",
          "loss": 0.4165696825985839,
          "n_iter": 946
         },
         {
          "learner": "SAL",
          "loss": 0.4168156336933238,
          "n_iter": 947
         },
         {
          "learner": "SAL",
          "loss": 0.41708747660268086,
          "n_iter": 948
         },
         {
          "learner": "SAL",
          "loss": 0.4173373485034002,
          "n_iter": 949
         },
         {
          "learner": "SAL",
          "loss": 0.41759762014225754,
          "n_iter": 950
         },
         {
          "learner": "SAL",
          "loss": 0.4178492373363589,
          "n_iter": 951
         },
         {
          "learner": "SAL",
          "loss": 0.41808885851695854,
          "n_iter": 952
         },
         {
          "learner": "SAL",
          "loss": 0.41830641826869763,
          "n_iter": 953
         },
         {
          "learner": "SAL",
          "loss": 0.41850984391344753,
          "n_iter": 954
         },
         {
          "learner": "SAL",
          "loss": 0.41869903511273526,
          "n_iter": 955
         },
         {
          "learner": "SAL",
          "loss": 0.4188757681185094,
          "n_iter": 956
         },
         {
          "learner": "SAL",
          "loss": 0.4190739135647988,
          "n_iter": 957
         },
         {
          "learner": "SAL",
          "loss": 0.4191965507581449,
          "n_iter": 958
         },
         {
          "learner": "SAL",
          "loss": 0.4192952006948959,
          "n_iter": 959
         },
         {
          "learner": "SAL",
          "loss": 0.4193766198922416,
          "n_iter": 960
         },
         {
          "learner": "SAL",
          "loss": 0.4194479073594225,
          "n_iter": 961
         },
         {
          "learner": "SAL",
          "loss": 0.4195043989226315,
          "n_iter": 962
         },
         {
          "learner": "SAL",
          "loss": 0.419540111429437,
          "n_iter": 963
         },
         {
          "learner": "SAL",
          "loss": 0.419564888330722,
          "n_iter": 964
         },
         {
          "learner": "SAL",
          "loss": 0.4195850771938949,
          "n_iter": 965
         },
         {
          "learner": "SAL",
          "loss": 0.4196038855531841,
          "n_iter": 966
         },
         {
          "learner": "SAL",
          "loss": 0.4195917311714723,
          "n_iter": 967
         },
         {
          "learner": "SAL",
          "loss": 0.4196197502755705,
          "n_iter": 968
         },
         {
          "learner": "SAL",
          "loss": 0.4196441646679668,
          "n_iter": 969
         },
         {
          "learner": "SAL",
          "loss": 0.4196532940947481,
          "n_iter": 970
         },
         {
          "learner": "SAL",
          "loss": 0.41966099348141866,
          "n_iter": 971
         },
         {
          "learner": "SAL",
          "loss": 0.419667617659102,
          "n_iter": 972
         },
         {
          "learner": "SAL",
          "loss": 0.4197054962499183,
          "n_iter": 973
         },
         {
          "learner": "SAL",
          "loss": 0.41971828823383894,
          "n_iter": 974
         },
         {
          "learner": "SAL",
          "loss": 0.4197287822119582,
          "n_iter": 975
         },
         {
          "learner": "SAL",
          "loss": 0.41973363028541866,
          "n_iter": 976
         },
         {
          "learner": "SAL",
          "loss": 0.41973088188337776,
          "n_iter": 977
         },
         {
          "learner": "SAL",
          "loss": 0.4197311407681482,
          "n_iter": 978
         },
         {
          "learner": "SAL",
          "loss": 0.41973617794286433,
          "n_iter": 979
         },
         {
          "learner": "SAL",
          "loss": 0.41974291600389263,
          "n_iter": 980
         },
         {
          "learner": "SAL",
          "loss": 0.4197386543656305,
          "n_iter": 981
         },
         {
          "learner": "SAL",
          "loss": 0.4197441294272878,
          "n_iter": 982
         },
         {
          "learner": "SAL",
          "loss": 0.4197535471394193,
          "n_iter": 983
         },
         {
          "learner": "SAL",
          "loss": 0.4197631956205508,
          "n_iter": 984
         },
         {
          "learner": "SAL",
          "loss": 0.4197735615297399,
          "n_iter": 985
         },
         {
          "learner": "SAL",
          "loss": 0.41978499532381036,
          "n_iter": 986
         },
         {
          "learner": "SAL",
          "loss": 0.41979589380003995,
          "n_iter": 987
         },
         {
          "learner": "SAL",
          "loss": 0.41980538725460376,
          "n_iter": 988
         },
         {
          "learner": "SAL",
          "loss": 0.41981362303554015,
          "n_iter": 989
         },
         {
          "learner": "SAL",
          "loss": 0.4198202823825989,
          "n_iter": 990
         },
         {
          "learner": "SAL",
          "loss": 0.4198257051504375,
          "n_iter": 991
         },
         {
          "learner": "SAL",
          "loss": 0.41982879432265574,
          "n_iter": 992
         },
         {
          "learner": "SAL",
          "loss": 0.41983036428918075,
          "n_iter": 993
         },
         {
          "learner": "SAL",
          "loss": 0.4198341266147848,
          "n_iter": 994
         },
         {
          "learner": "SAL",
          "loss": 0.4198396106395488,
          "n_iter": 995
         },
         {
          "learner": "SAL",
          "loss": 0.4198454748238132,
          "n_iter": 996
         },
         {
          "learner": "SAL",
          "loss": 0.41985258848234636,
          "n_iter": 997
         },
         {
          "learner": "SAL",
          "loss": 0.41985786893654764,
          "n_iter": 998
         },
         {
          "learner": "SAL",
          "loss": 0.419862599813404,
          "n_iter": 999
         },
         {
          "learner": "SAL",
          "loss": 0.4198670184556358,
          "n_iter": 1000
         },
         {
          "learner": "SAL",
          "loss": 0.4198711719354439,
          "n_iter": 1001
         },
         {
          "learner": "SAL",
          "loss": 0.41987506064073576,
          "n_iter": 1002
         }
        ]
       },
       "encoding": {
        "color": {
         "field": "learner",
         "type": "nominal"
        },
        "x": {
         "field": "n_iter",
         "type": "quantitative"
        },
        "y": {
         "field": "loss",
         "type": "quantitative"
        }
       },
       "height": 200,
       "mark": "line",
       "width": 400
      },
      "image/png": "[encoded data removed]",
      "image/svg+xml": [
       "<?xml version=\"1.0\" encoding=\"utf-8\"?>\n",
       "<!DOCTYPE svg PUBLIC \"-//W3C//DTD SVG 1.1//EN\" \"http://www.w3.org/Graphics/SVG/1.1/DTD/svg11.dtd\">\n",
       "<svg xmlns=\"http://www.w3.org/2000/svg\" xmlns:xlink=\"http://www.w3.org/1999/xlink\" version=\"1.1\" class=\"marks\" width=\"523\" height=\"247\" viewBox=\"0 0 523 247\"><rect width=\"523\" height=\"247\" fill=\"white\"/><g fill=\"none\" stroke-miterlimit=\"10\" transform=\"translate(42,10)\"><g class=\"mark-group role-frame root\" role=\"graphics-object\" aria-roledescription=\"group mark container\"><g transform=\"translate(0,0)\"><path class=\"background\" aria-hidden=\"true\" d=\"M0.5,0.5h400v200h-400Z\" stroke=\"#ddd\"/><g><g class=\"mark-group role-axis\" aria-hidden=\"true\"><g transform=\"translate(0.5,200.5)\"><path class=\"background\" aria-hidden=\"true\" d=\"M0,0h0v0h0Z\" pointer-events=\"none\"/><g><g class=\"mark-rule role-axis-grid\" pointer-events=\"none\"><line transform=\"translate(0,-200)\" x2=\"0\" y2=\"200\" stroke=\"#ddd\" stroke-width=\"1\" opacity=\"1\"/><line transform=\"translate(36,-200)\" x2=\"0\" y2=\"200\" stroke=\"#ddd\" stroke-width=\"1\" opacity=\"1\"/><line transform=\"translate(73,-200)\" x2=\"0\" y2=\"200\" stroke=\"#ddd\" stroke-width=\"1\" opacity=\"1\"/><line transform=\"translate(109,-200)\" x2=\"0\" y2=\"200\" stroke=\"#ddd\" stroke-width=\"1\" opacity=\"1\"/><line transform=\"translate(145,-200)\" x2=\"0\" y2=\"200\" stroke=\"#ddd\" stroke-width=\"1\" opacity=\"1\"/><line transform=\"translate(182,-200)\" x2=\"0\" y2=\"200\" stroke=\"#ddd\" stroke-width=\"1\" opacity=\"1\"/><line transform=\"translate(218,-200)\" x2=\"0\" y2=\"200\" stroke=\"#ddd\" stroke-width=\"1\" opacity=\"1\"/><line transform=\"translate(255,-200)\" x2=\"0\" y2=\"200\" stroke=\"#ddd\" stroke-width=\"1\" opacity=\"1\"/><line transform=\"translate(291,-200)\" x2=\"0\" y2=\"200\" stroke=\"#ddd\" stroke-width=\"1\" opacity=\"1\"/><line transform=\"translate(327,-200)\" x2=\"0\" y2=\"200\" stroke=\"#ddd\" stroke-width=\"1\" opacity=\"1\"/><line transform=\"translate(364,-200)\" x2=\"0\" y2=\"200\" stroke=\"#ddd\" stroke-width=\"1\" opacity=\"1\"/><line transform=\"translate(400,-200)\" x2=\"0\" y2=\"200\" stroke=\"#ddd\" stroke-width=\"1\" opacity=\"1\"/></g></g><path class=\"foreground\" aria-hidden=\"true\" d=\"\" pointer-events=\"none\" display=\"none\"/></g></g><g class=\"mark-group role-axis\" aria-hidden=\"true\"><g transform=\"translate(0.5,0.5)\"><path class=\"background\" aria-hidden=\"true\" d=\"M0,0h0v0h0Z\" pointer-events=\"none\"/><g><g class=\"mark-rule role-axis-grid\" pointer-events=\"none\"><line transform=\"translate(0,200)\" x2=\"400\" y2=\"0\" stroke=\"#ddd\" stroke-width=\"1\" opacity=\"1\"/><line transform=\"translate(0,160)\" x2=\"400\" y2=\"0\" stroke=\"#ddd\" stroke-width=\"1\" opacity=\"1\"/><line transform=\"translate(0,120)\" x2=\"400\" y2=\"0\" stroke=\"#ddd\" stroke-width=\"1\" opacity=\"1\"/><line transform=\"translate(0,80)\" x2=\"400\" y2=\"0\" stroke=\"#ddd\" stroke-width=\"1\" opacity=\"1\"/><line transform=\"translate(0,40)\" x2=\"400\" y2=\"0\" stroke=\"#ddd\" stroke-width=\"1\" opacity=\"1\"/><line transform=\"translate(0,0)\" x2=\"400\" y2=\"0\" stroke=\"#ddd\" stroke-width=\"1\" opacity=\"1\"/></g></g><path class=\"foreground\" aria-hidden=\"true\" d=\"\" pointer-events=\"none\" display=\"none\"/></g></g><g class=\"mark-group role-axis\" role=\"graphics-symbol\" aria-roledescription=\"axis\" aria-label=\"X-axis titled 'n_iter' for a linear scale with values from 0 to 1,100\"><g transform=\"translate(0.5,200.5)\"><path class=\"background\" aria-hidden=\"true\" d=\"M0,0h0v0h0Z\" pointer-events=\"none\"/><g><g class=\"mark-rule role-axis-tick\" pointer-events=\"none\"><line transform=\"translate(0,0)\" x2=\"0\" y2=\"5\" stroke=\"#888\" stroke-width=\"1\" opacity=\"1\"/><line transform=\"translate(36,0)\" x2=\"0\" y2=\"5\" stroke=\"#888\" stroke-width=\"1\" opacity=\"1\"/><line transform=\"translate(73,0)\" x2=\"0\" y2=\"5\" stroke=\"#888\" stroke-width=\"1\" opacity=\"1\"/><line transform=\"translate(109,0)\" x2=\"0\" y2=\"5\" stroke=\"#888\" stroke-width=\"1\" opacity=\"1\"/><line transform=\"translate(145,0)\" x2=\"0\" y2=\"5\" stroke=\"#888\" stroke-width=\"1\" opacity=\"1\"/><line transform=\"translate(182,0)\" x2=\"0\" y2=\"5\" stroke=\"#888\" stroke-width=\"1\" opacity=\"1\"/><line transform=\"translate(218,0)\" x2=\"0\" y2=\"5\" stroke=\"#888\" stroke-width=\"1\" opacity=\"1\"/><line transform=\"translate(255,0)\" x2=\"0\" y2=\"5\" stroke=\"#888\" stroke-width=\"1\" opacity=\"1\"/><line transform=\"translate(291,0)\" x2=\"0\" y2=\"5\" stroke=\"#888\" stroke-width=\"1\" opacity=\"1\"/><line transform=\"translate(327,0)\" x2=\"0\" y2=\"5\" stroke=\"#888\" stroke-width=\"1\" opacity=\"1\"/><line transform=\"translate(364,0)\" x2=\"0\" y2=\"5\" stroke=\"#888\" stroke-width=\"1\" opacity=\"1\"/><line transform=\"translate(400,0)\" x2=\"0\" y2=\"5\" stroke=\"#888\" stroke-width=\"1\" opacity=\"1\"/></g><g class=\"mark-text role-axis-label\" pointer-events=\"none\"><text text-anchor=\"start\" transform=\"translate(0,15)\" font-family=\"sans-serif\" font-size=\"10px\" fill=\"#000\" opacity=\"1\">0</text><text text-anchor=\"middle\" transform=\"translate(36.36363636363637,15)\" font-family=\"sans-serif\" font-size=\"10px\" fill=\"#000\" opacity=\"0\">100</text><text text-anchor=\"middle\" transform=\"translate(72.72727272727273,15)\" font-family=\"sans-serif\" font-size=\"10px\" fill=\"#000\" opacity=\"1\">200</text><text text-anchor=\"middle\" transform=\"translate(109.09090909090908,15)\" font-family=\"sans-serif\" font-size=\"10px\" fill=\"#000\" opacity=\"0\">300</text><text text-anchor=\"middle\" transform=\"translate(145.45454545454547,15)\" font-family=\"sans-serif\" font-size=\"10px\" fill=\"#000\" opacity=\"1\">400</text><text text-anchor=\"middle\" transform=\"translate(181.8181818181818,15)\" font-family=\"sans-serif\" font-size=\"10px\" fill=\"#000\" opacity=\"0\">500</text><text text-anchor=\"middle\" transform=\"translate(218.18181818181816,15)\" font-family=\"sans-serif\" font-size=\"10px\" fill=\"#000\" opacity=\"1\">600</text><text text-anchor=\"middle\" transform=\"translate(254.54545454545453,15)\" font-family=\"sans-serif\" font-size=\"10px\" fill=\"#000\" opacity=\"0\">700</text><text text-anchor=\"middle\" transform=\"translate(290.90909090909093,15)\" font-family=\"sans-serif\" font-size=\"10px\" fill=\"#000\" opacity=\"1\">800</text><text text-anchor=\"middle\" transform=\"translate(327.2727272727273,15)\" font-family=\"sans-serif\" font-size=\"10px\" fill=\"#000\" opacity=\"0\">900</text><text text-anchor=\"middle\" transform=\"translate(363.6363636363636,15)\" font-family=\"sans-serif\" font-size=\"10px\" fill=\"#000\" opacity=\"1\">1,000</text><text text-anchor=\"end\" transform=\"translate(400,15)\" font-family=\"sans-serif\" font-size=\"10px\" fill=\"#000\" opacity=\"0\">1,100</text></g><g class=\"mark-rule role-axis-domain\" pointer-events=\"none\"><line transform=\"translate(0,0)\" x2=\"400\" y2=\"0\" stroke=\"#888\" stroke-width=\"1\" opacity=\"1\"/></g><g class=\"mark-text role-axis-title\" pointer-events=\"none\"><text text-anchor=\"middle\" transform=\"translate(200,30)\" font-family=\"sans-serif\" font-size=\"11px\" font-weight=\"bold\" fill=\"#000\" opacity=\"1\">n_iter</text></g></g><path class=\"foreground\" aria-hidden=\"true\" d=\"\" pointer-events=\"none\" display=\"none\"/></g></g><g class=\"mark-group role-axis\" role=\"graphics-symbol\" aria-roledescription=\"axis\" aria-label=\"Y-axis titled 'loss' for a linear scale with values from 0.0 to 1.0\"><g transform=\"translate(0.5,0.5)\"><path class=\"background\" aria-hidden=\"true\" d=\"M0,0h0v0h0Z\" pointer-events=\"none\"/><g><g class=\"mark-rule role-axis-tick\" pointer-events=\"none\"><line transform=\"translate(0,200)\" x2=\"-5\" y2=\"0\" stroke=\"#888\" stroke-width=\"1\" opacity=\"1\"/><line transform=\"translate(0,160)\" x2=\"-5\" y2=\"0\" stroke=\"#888\" stroke-width=\"1\" opacity=\"1\"/><line transform=\"translate(0,120)\" x2=\"-5\" y2=\"0\" stroke=\"#888\" stroke-width=\"1\" opacity=\"1\"/><line transform=\"translate(0,80)\" x2=\"-5\" y2=\"0\" stroke=\"#888\" stroke-width=\"1\" opacity=\"1\"/><line transform=\"translate(0,40)\" x2=\"-5\" y2=\"0\" stroke=\"#888\" stroke-width=\"1\" opacity=\"1\"/><line transform=\"translate(0,0)\" x2=\"-5\" y2=\"0\" stroke=\"#888\" stroke-width=\"1\" opacity=\"1\"/></g><g class=\"mark-text role-axis-label\" pointer-events=\"none\"><text text-anchor=\"end\" transform=\"translate(-7,203)\" font-family=\"sans-serif\" font-size=\"10px\" fill=\"#000\" opacity=\"1\">0.0</text><text text-anchor=\"end\" transform=\"translate(-7,163)\" font-family=\"sans-serif\" font-size=\"10px\" fill=\"#000\" opacity=\"1\">0.2</text><text text-anchor=\"end\" transform=\"translate(-7,123)\" font-family=\"sans-serif\" font-size=\"10px\" fill=\"#000\" opacity=\"1\">0.4</text><text text-anchor=\"end\" transform=\"translate(-7,83)\" font-family=\"sans-serif\" font-size=\"10px\" fill=\"#000\" opacity=\"1\">0.6</text><text text-anchor=\"end\" transform=\"translate(-7,42.99999999999999)\" font-family=\"sans-serif\" font-size=\"10px\" fill=\"#000\" opacity=\"1\">0.8</text><text text-anchor=\"end\" transform=\"translate(-7,3)\" font-family=\"sans-serif\" font-size=\"10px\" fill=\"#000\" opacity=\"1\">1.0</text></g><g class=\"mark-rule role-axis-domain\" pointer-events=\"none\"><line transform=\"translate(0,200)\" x2=\"0\" y2=\"-200\" stroke=\"#888\" stroke-width=\"1\" opacity=\"1\"/></g><g class=\"mark-text role-axis-title\" pointer-events=\"none\"><text text-anchor=\"middle\" transform=\"translate(-26,100) rotate(-90) translate(0,-2)\" font-family=\"sans-serif\" font-size=\"11px\" font-weight=\"bold\" fill=\"#000\" opacity=\"1\">loss</text></g></g><path class=\"foreground\" aria-hidden=\"true\" d=\"\" pointer-events=\"none\" display=\"none\"/></g></g><g class=\"mark-group role-scope pathgroup\" role=\"graphics-object\" aria-roledescription=\"group mark container\"><g transform=\"translate(0,0)\"><path class=\"background\" aria-hidden=\"true\" d=\"M0,0h400v200h-400Z\"/><g><g class=\"mark-line role-mark marks\" role=\"graphics-object\" aria-roledescription=\"line mark container\"><path aria-label=\"n_iter: 1; loss: 0.922541771457; learner: XGBoost\" role=\"graphics-symbol\" aria-roledescription=\"line mark\" d=\"M0.36363636363636365,15.491645708521329L0.7272727272727273,17.531946704157786L1.090909090909091,19.561494013840818L1.4545454545454546,21.516759156642973L1.8181818181818181,23.282476017277265L2.181818181818182,25.216580238188335L2.5454545454545454,26.95528563333369L2.909090909090909,28.607582692975054L3.272727272727273,30.3340194498692L3.6363636363636362,31.923173141085638L4,33.585107254322445L4.363636363636364,35.3721958540556L4.7272727272727275,36.96468830104518L5.090909090909091,38.59960398772435L5.454545454545454,40.123043528569305L5.818181818181818,41.58051035009991L6.181818181818182,43.05548365181815L6.545454545454546,44.6517407261591L6.909090909090909,46.06034691506622L7.2727272727272725,47.563379222570475L7.636363636363637,48.935711783545365L8,50.25846864418424L8.363636363636363,51.657757577785056L8.727272727272728,52.97320733208637L9.090909090909092,54.19315149737256L9.454545454545455,55.41588070105754L9.818181818181818,56.7292395230248L10.181818181818182,57.931280251652865L10.545454545454545,59.044624867958426L10.909090909090908,60.21787604537221L11.272727272727273,61.37279553012374L11.636363636363637,62.543619768079985L12,63.65066790435592L12.363636363636363,64.69309586879623L12.727272727272727,65.70726623264123L13.090909090909092,66.76407431972355L13.454545454545455,67.80612859950335L13.818181818181818,68.7982564832225L14.181818181818182,69.72898084940753L14.545454545454545,70.71084038488297L14.909090909090908,71.66304356708355L15.272727272727273,72.539835912275L15.636363636363637,73.43955267100566L16,74.35168378335324L16.363636363636363,75.17883110526793L16.727272727272727,76.0437225415769L17.09090909090909,76.9564206407557L17.454545454545457,77.72354615953063L17.81818181818182,78.54397943238529L18.181818181818183,79.31399785228533L18.545454545454547,80.15936337995333L18.90909090909091,80.88267202314495L19.272727272727273,81.61557178029094L19.636363636363637,82.39484238843322L20,83.13078733576815L20.363636363636363,83.91954436939196L20.727272727272727,84.60311251054384L21.09090909090909,85.35989212619202L21.454545454545453,86.01426916155128L21.818181818181817,86.61558040822558L22.181818181818183,87.26014693439022L22.545454545454547,87.85649187296247L22.90909090909091,88.49140695508197L23.272727272727273,89.15677680086267L23.636363636363637,89.74063901578396L24,90.38777127084634L24.363636363636363,90.93425734582968L24.727272727272727,91.46230137456719L25.09090909090909,92.02261007320163L25.454545454545453,92.58667290360675L25.818181818181817,93.126395137146L26.181818181818183,93.60982852459765L26.545454545454543,94.16873846758523L26.90909090909091,94.67234086640075L27.27272727272727,95.14835558946359L27.636363636363637,95.65987241128515L28.000000000000004,96.18273508903805L28.363636363636363,96.65667554591084L28.72727272727273,97.08784167821997L29.09090909090909,97.57372001956793L29.454545454545457,98.02216657643716L29.818181818181817,98.40200957641191L30.181818181818183,98.83365537673912L30.545454545454547,99.26122664882145L30.909090909090907,99.70885513030869L31.272727272727273,100.08496779055523L31.636363636363633,100.44344423119603L32,100.83726404253879L32.36363636363636,101.20701356884712L32.72727272727273,101.5679572146557L33.09090909090909,101.96751250694282L33.45454545454545,102.28453449647236L33.81818181818182,102.61174528753696L34.18181818181818,102.9570241634322L34.54545454545455,103.28662417592409L34.909090909090914,103.61592479627038L35.27272727272727,103.9351616760362L35.63636363636364,104.23400537432808L36,104.5452650563247L36.36363636363637,104.83120892639266L36.72727272727273,105.11726885927423L37.09090909090909,105.41045658213943L37.45454545454546,105.6817183398223L37.81818181818182,105.95100109441415L38.18181818181819,106.24481510885641L38.54545454545455,106.47107797650715L38.90909090909091,106.75550549650458L39.27272727272727,106.98088885261447L39.63636363636363,107.23796055292092L40,107.4856009967021L40.36363636363636,107.71929598749298L40.72727272727273,107.94535828998124L41.090909090909086,108.24005662377618L41.45454545454545,108.4235026274059L41.81818181818181,108.63426465759831L42.18181818181818,108.91434259927415L42.54545454545455,109.11425332145568L42.90909090909091,109.38386786570366L43.27272727272727,109.56444596053392L43.63636363636363,109.74991031270163L44,110.0047510249978L44.36363636363637,110.1549229789935L44.72727272727273,110.32074001091728L45.09090909090909,110.56876760905976L45.45454545454545,110.74220624744146L45.81818181818182,110.87710244057347L46.18181818181818,111.10798337891725L46.54545454545455,111.24404467980477L46.909090909090914,111.37274008198142L47.27272727272727,111.55522183074265L47.63636363636364,111.70514498200768L48,111.87936115916865L48.36363636363637,112.03300014312534L48.72727272727273,112.14153902028465L49.09090909090909,112.30896531617019L49.45454545454545,112.46686594337825L49.81818181818182,112.62327517571684L50.18181818181818,112.78868943090173L50.54545454545455,112.94243125576664L50.90909090909091,113.04650673890868L51.272727272727266,113.17907546887884L51.63636363636363,113.31904428163271L52,113.4047215668403L52.36363636363637,113.53847540824606L52.72727272727272,113.63096114917587L53.090909090909086,113.71420398316383L53.45454545454545,113.88627097351089L53.81818181818182,113.99509091356492L54.18181818181819,114.06024811616209L54.54545454545454,114.18974320580936L54.90909090909091,114.25325259452546L55.27272727272727,114.42449374586401L55.63636363636364,114.5218240030065L56.00000000000001,114.58216268666655L56.36363636363636,114.68895845004619L56.72727272727273,114.79815828189992L57.09090909090909,114.92135086294992L57.45454545454546,115.01743271824174L57.81818181818181,115.07278200137688L58.18181818181818,115.15678837431298L58.54545454545455,115.30695313507051L58.909090909090914,115.36792864079268L59.27272727272728,115.41662210011985L59.63636363636363,115.50255676055853L60,115.606272132126L60.36363636363637,115.6613519516334L60.72727272727273,115.71944951565155L61.09090909090909,115.75672155657024L61.45454545454545,115.85197057156378L61.81818181818181,115.90135664296182L62.18181818181818,115.93772240368376L62.54545454545455,115.97187585565551L62.909090909090914,116.09713152121972L63.272727272727266,116.14153790445113L63.63636363636363,116.16910005672932L64,116.22255297472057L64.36363636363637,116.2661702603681L64.72727272727272,116.3283040224637L65.0909090909091,116.37370331561578L65.45454545454545,116.44968158305467L65.81818181818181,116.47683706329886L66.18181818181819,116.5337540866592L66.54545454545455,116.63443172494397L66.9090909090909,116.66711319068158L67.27272727272727,116.68677699161698L67.63636363636364,116.8082676336283L68,116.84545806977928L68.36363636363636,116.96314838479131L68.72727272727272,117.01233870127967L69.0909090909091,117.05987680703554L69.45454545454545,117.12584612673437L69.81818181818183,117.2212264797982L70.18181818181817,117.28430419578393L70.54545454545455,117.39334878219809L70.9090909090909,117.40620841262705L71.27272727272728,117.4658078024668L71.63636363636363,117.51022396149185L72,117.56726748612158L72.36363636363636,117.60197782674031L72.72727272727273,117.62697331930185L73.0909090909091,117.65810896679423L73.45454545454545,117.70465606599791L73.81818181818181,117.75399870648369L74.18181818181819,117.7906472298631L74.54545454545455,117.89093428942188L74.90909090909092,117.9372696315441L75.27272727272727,117.94445057018916L75.63636363636364,117.97835972038604L76,118.04499475694055L76.36363636363637,118.09334794093354L76.72727272727272,118.11649819977019L77.0909090909091,118.14495256812938L77.45454545454545,118.18675087321341L77.81818181818181,118.22753689731327L78.18181818181819,118.26342365297857L78.54545454545455,118.27897243059462L78.9090909090909,118.29152330696226L79.27272727272727,118.31581637769202L79.63636363636364,118.35315767110086L80,118.38325440691663L80.36363636363636,118.41480072902044L80.72727272727272,118.45314357047516L81.0909090909091,118.46414986149938L81.45454545454545,118.54289566442422L81.81818181818183,118.57913858641469L82.18181818181817,118.60698194102196L82.54545454545455,118.64176890769822L82.9090909090909,118.6676082976021L83.27272727272728,118.73717064246199L83.63636363636363,118.79081928481207L84,118.81987232096142L84.36363636363636,118.89155006921395L84.72727272727273,118.9232008338021L85.0909090909091,118.90105439071554L85.45454545454545,118.97047816923694L85.81818181818181,118.98482569435687L86.18181818181819,118.96015753138609L86.54545454545455,118.97863390352454L86.9090909090909,119.04136239341649L87.27272727272727,119.09856864658646L87.63636363636364,119.06252990052346L88,119.07297575335613L88.36363636363636,119.08203226540567L88.72727272727273,119.14165625957507L89.0909090909091,119.1490688251692L89.45454545454545,119.22569359965709L89.81818181818181,119.18567413387906L90.18181818181819,119.18051592577832L90.54545454545455,119.1485604300988L90.9090909090909,119.22175929022087L91.27272727272727,119.27819520557092L91.63636363636364,119.28068347230769L92,119.28089716050007L92.36363636363636,119.27349970178831L92.72727272727272,119.32311219742542L93.0909090909091,119.27882764689777L93.45454545454545,119.27895721362319L93.81818181818183,119.27920834359202L94.18181818181817,119.34714419336679L94.54545454545455,119.40746484411173L94.9090909090909,119.39566602478115L95.27272727272728,119.46131704591335L95.63636363636364,119.41401876474833L96,119.41086304207178L96.36363636363636,119.3619223280336L96.72727272727273,119.4096506990149L97.0909090909091,119.45012949128557L97.45454545454545,119.4555103199594L97.81818181818181,119.4148091040756L98.18181818181819,119.47603792980574L98.54545454545455,119.50974224646207L98.9090909090909,119.50303338732996L99.27272727272727,119.49748737237668L99.63636363636364,119.53989234651874L100,119.58150113045801L100.36363636363636,119.52882968207503L100.72727272727273,119.56967282294566L101.0909090909091,119.56257264213485L101.45454545454547,119.56161732111438L101.81818181818181,119.50758099737928L102.18181818181817,119.56061072095214L102.54545454545453,119.55350524363261L102.9090909090909,119.54154948970037L103.27272727272727,119.49607177635957L103.63636363636364,119.55583833343061L104,119.57920863255542L104.36363636363637,119.57102970085273L104.72727272727273,119.62412464919589L105.09090909090911,119.61529490745484L105.45454545454544,119.675627808012L105.81818181818181,119.67772149532632L106.18181818181817,119.62030521822149L106.54545454545455,119.66426372301373L106.9090909090909,119.66100178707055L107.27272727272728,119.71498964893112L107.63636363636364,119.72218048595393L108,119.71213451511078L108.36363636363637,119.74704524133864L108.72727272727272,119.68327537475938L109.09090909090908,119.73430201054391L109.45454545454545,119.66982371472761L109.81818181818181,119.70884062968317L110.18181818181819,119.76277603384548L110.54545454545455,119.75772060853818L110.9090909090909,119.7567853868763L111.27272727272728,119.69469476866546L111.63636363636364,119.73225967995984L112.00000000000001,119.72650271205094L112.36363636363636,119.7628194962578L112.72727272727272,119.69695103311705L113.0909090909091,119.7484158616013L113.45454545454545,119.73572376592733L113.81818181818181,119.75195356389578L114.18181818181819,119.7473854258202L114.54545454545455,119.74440789968092L114.90909090909092,119.67771880489941L115.27272727272728,119.70552176014245L115.63636363636363,119.64141077066022L115.99999999999999,119.63438915758171L116.36363636363636,119.6682226506193L116.72727272727272,119.6750547452873L117.0909090909091,119.60516530441137L117.45454545454545,119.65386531564528L117.81818181818183,119.68043437924223L118.18181818181819,119.67864991993311L118.54545454545456,119.66427018372383L118.90909090909092,119.6156421217637L119.27272727272727,119.61322202367049L119.63636363636363,119.61945541168981L120,119.57008353855598L120.36363636363636,119.50136590902751L120.72727272727273,119.5272293175242L121.0909090909091,119.52711378162186L121.45454545454545,119.5414415824061L121.81818181818183,119.49097912463493L122.18181818181819,119.51753763966835L122.54545454545453,119.52311707456016L122.9090909090909,119.52283254070237L123.27272727272727,119.52118218231465L123.63636363636363,119.5154266620801L124,119.5450144267498L124.36363636363636,119.52877504064736L124.72727272727273,119.5276924693005L125.0909090909091,119.52112968575099L125.45454545454547,119.54471883425788L125.81818181818183,119.53581084293081L126.18181818181817,119.56373435158274L126.54545454545453,119.54675329142685L126.9090909090909,119.54644442384091L127.27272727272727,119.56876120291322L127.63636363636364,119.56676487802534L128,119.55864264117993L128.36363636363637,119.54207592323036L128.72727272727275,119.5244160049927L129.0909090909091,119.52179001717052L129.45454545454544,119.52025396335446L129.8181818181818,119.50415823119833L130.1818181818182,119.48598145581424L130.54545454545453,119.4697054723664L130.9090909090909,119.46642347651242L131.27272727272728,119.44895392804733L131.63636363636363,119.46085659582906L132,119.45712941661124L132.36363636363637,119.43851184524057L132.72727272727275,119.46905293690222L133.0909090909091,119.45858876168805L133.45454545454544,119.4417924856668L133.8181818181818,119.42271625860408L134.1818181818182,119.4136097649285L134.54545454545453,119.39663370752021L134.9090909090909,119.40090261042428L135.27272727272728,119.39636699111932L135.63636363636365,119.38580846807216L136,119.38554835994645L136.36363636363635,119.4141582439764L136.72727272727272,119.39466076095924L137.0909090909091,119.38514057969005L137.45454545454544,119.38960085196449L137.8181818181818,119.36972109722184L138.1818181818182,119.35220169418992L138.54545454545456,119.34119753516752L138.9090909090909,119.34499258493973L139.27272727272728,119.33939718611295L139.63636363636365,119.30991978606369L140,119.29810143686686L140.36363636363635,119.31376502239866L140.72727272727272,119.30109696431181L141.0909090909091,119.3044962181427L141.45454545454547,119.30813482668157L141.8181818181818,119.30363239676929L142.1818181818182,119.32449052845008L142.54545454545456,119.31424890717508L142.9090909090909,119.31418210609101L143.27272727272725,119.29607222253308L143.63636363636363,119.27685825550678L144,119.28012430991627L144.36363636363637,119.28269478261488L144.72727272727272,119.27630650970191L145.0909090909091,119.25643508615562L145.45454545454547,119.2398875990758L145.8181818181818,119.23303882732976L146.1818181818182,119.24624979208969L146.54545454545456,119.24786701110239L146.9090909090909,119.23595761817118L147.27272727272725,119.25703352351991L147.63636363636363,119.23836906314227L148,119.24303893578627L148.36363636363637,119.2591355252403L148.72727272727272,119.22988975246791L149.0909090909091,119.24222927442436L149.45454545454547,119.23723278670803L149.81818181818184,119.25288231917324L150.18181818181816,119.2551315457288L150.54545454545453,119.26704612438942L150.9090909090909,119.2322997180201L151.27272727272728,119.23366195553584L151.63636363636363,119.22348028857508L152,119.2349263653343L152.36363636363637,119.20545629623342L152.72727272727275,119.19909879596358L153.0909090909091,119.1947759743968L153.45454545454544,119.23505905103839L153.8181818181818,119.23734053758106L154.1818181818182,119.24821348519244L154.54545454545453,119.26300585246511L154.9090909090909,119.25849059771303L155.27272727272728,119.26186025260219L155.63636363636363,119.27237307772984L156,119.25615110621224L156.36363636363637,119.26518879215702L156.72727272727275,119.26697189382529L157.0909090909091,119.22744223663824L157.45454545454544,119.26125053171037L157.8181818181818,119.25654330438857L158.1818181818182,119.26396099520065L158.54545454545453,119.27374488928275L158.9090909090909,119.2718174183389L159.27272727272728,119.26686947935663L159.63636363636365,119.29989449243601L160,119.29742168341701L160.36363636363635,119.30308446638L160.72727272727272,119.3124043052021L161.0909090909091,119.2725723012888L161.45454545454544,119.26745601462683L161.8181818181818,119.28393534117615L162.1818181818182,119.28795931880371L162.54545454545456,119.28258956634615L162.9090909090909,119.31910724142298L163.27272727272728,119.290509504547L163.63636363636365,119.29927555054927L164,119.29377876812595L164.36363636363635,119.2961084395201L164.72727272727272,119.29378781016351L165.0909090909091,119.32554875426335L165.45454545454547,119.3244083340009L165.8181818181818,119.32821971935748L166.1818181818182,119.34501940107131L166.54545454545456,119.33936499901274L166.9090909090909,119.3400720074258L167.27272727272725,119.32663584877281L167.63636363636363,119.3578690312254L168,119.35445363708897L168.36363636363637,119.3485737507449L168.72727272727272,119.35635165539252L169.0909090909091,119.35921569574207L169.45454545454547,119.36554577510874L169.8181818181818,119.33582834023775L170.1818181818182,119.33924490037225L170.54545454545456,119.33887864914779L170.9090909090909,119.32503223630336L171.27272727272725,119.29484029082262L171.63636363636363,119.30996789382351L172,119.31244534093564L172.36363636363637,119.31504931008234L172.72727272727272,119.30908665771862L173.0909090909091,119.30757477209966L173.45454545454547,119.3197831130154L173.8181818181818,119.30415689983063L174.18181818181816,119.31841409346617L174.54545454545453,119.31608652352838L174.9090909090909,119.31743326749529L175.27272727272728,119.32220845181594L175.63636363636363,119.31613181099449L176,119.31430384680799L176.36363636363637,119.30002173761957L176.72727272727272,119.28137334891338L177.0909090909091,119.27803876214844L177.45454545454547,119.29353457663008L177.8181818181818,119.28985091285176L178.1818181818182,119.29814575069067L178.54545454545453,119.30401350213033L178.9090909090909,119.30151975553997L179.27272727272728,119.31393308480804L179.63636363636363,119.30352571363593L180,119.30078744191937L180.36363636363637,119.29469186009456L180.72727272727275,119.30890025687546L181.0909090909091,119.30673022159768L181.45454545454544,119.30766272535244L181.8181818181818,119.2971292652926L182.1818181818182,119.30420691952715L182.54545454545453,119.31576321632964L182.9090909090909,119.31196157249684L183.27272727272728,119.31964228178464L183.63636363636365,119.2830917251353L184,119.29407724472046L184.36363636363637,119.29142285689794L184.72727272727272,119.28779921985347L185.0909090909091,119.28167321702286L185.45454545454544,119.29217383623123L185.8181818181818,119.30472264414907L186.1818181818182,119.30195790591225L186.54545454545456,119.29568428706192L186.9090909090909,119.29441550908066L187.27272727272728,119.30986548018683L187.63636363636365,119.32780975498281L188,119.31302115966452L188.36363636363635,119.2862316716234L188.72727272727272,119.28311920135278L189.0909090909091,119.29476823189518L189.45454545454544,119.28838633260774L189.8181818181818,119.2858053843837L190.1818181818182,119.28351497745122L190.54545454545456,119.24807897116678L190.9090909090909,119.25366083205513L191.27272727272728,119.24982904319963L191.63636363636363,119.24151695811425L192,119.25394748283264L192.36363636363635,119.25489933960111L192.72727272727272,119.24840735333007L193.0909090909091,119.26221641499097L193.45454545454547,119.2361953881548L193.8181818181818,119.19829989371216L194.1818181818182,119.20913284978707L194.54545454545456,119.21414061092986L194.9090909090909,119.17460448240398L195.27272727272725,119.17522750366483L195.63636363636363,119.18646182045025L196,119.17986955568938L196.36363636363637,119.17826877313735L196.72727272727272,119.19120162825539L197.0909090909091,119.19223771774546L197.45454545454547,119.16610694446612L197.8181818181818,119.15763314121386L198.1818181818182,119.1603548490384L198.54545454545453,119.15367748668619L198.9090909090909,119.15067678406359L199.27272727272728,119.16663868204502L199.63636363636363,119.14048753085076L200,119.14080803110201L200.36363636363635,119.11917282049399L200.72727272727272,119.11580337797733L201.09090909090907,119.08962605170059L201.45454545454547,119.06244457084622L201.8181818181818,119.06700195461737L202.1818181818182,119.06322401580529L202.54545454545453,119.05654364837706L202.90909090909093,119.08161171183815L203.27272727272728,119.05548078365752L203.63636363636363,119.04902996709109L204,119.06073584349302L204.36363636363635,119.08420392104055L204.72727272727275,119.04334679150132L205.09090909090907,119.03685168523053L205.45454545454547,118.99940307379975L205.8181818181818,118.97714642387567L206.1818181818182,118.98080217404541L206.54545454545453,118.97950871745537L206.90909090909088,118.98673791054053L207.27272727272728,119.00860482388893L207.63636363636363,118.99268778635275L208,118.99994676971686L208.36363636363635,118.98235091894085L208.72727272727275,118.95728509941883L209.0909090909091,118.95048517519311L209.45454545454547,118.97071035380735L209.8181818181818,118.96312947331494L210.18181818181822,118.97390853688611L210.54545454545456,118.96249204918075L210.90909090909088,118.9250147307055L211.27272727272728,118.94369900279149L211.63636363636363,118.92439228360014L212,118.92289635247018L212.36363636363635,118.919523494263L212.72727272727275,118.89440200415966L213.0909090909091,118.91062147057715L213.45454545454547,118.89460020377534L213.8181818181818,118.9026001809907L214.18181818181816,118.89211957388824L214.54545454545456,118.88027746522782L214.9090909090909,118.87902284403889L215.27272727272728,118.88931992693385L215.63636363636363,118.89042785375455L216,118.84796670160773L216.36363636363635,118.81330433465511L216.72727272727275,118.82333880437739L217.0909090909091,118.80737460785724L217.45454545454544,118.76981795141765L217.8181818181818,118.766166888374L218.18181818181816,118.7260658844711L218.54545454545456,118.72942622258071L218.9090909090909,118.71741870437562L219.27272727272728,118.71265627188521L219.63636363636363,118.6801765081058L220.00000000000003,118.68578097589757L220.36363636363637,118.66628168861865L220.7272727272727,118.67592889147262L221.0909090909091,118.66518840534677L221.45454545454544,118.67056742791124L221.8181818181818,118.67086883940705L222.18181818181816,118.6586170509333L222.54545454545456,118.6622381799546L222.9090909090909,118.63445237371644L223.27272727272728,118.6376154520334L223.63636363636363,118.60479815679001L224.00000000000003,118.58524463442603L224.36363636363637,118.57284583123327L224.72727272727272,118.58164077191292L225.0909090909091,118.60137005907767L225.45454545454544,118.60648106724506L225.81818181818184,118.60674732038218L226.1818181818182,118.61592113753616L226.54545454545456,118.5767198704017L226.9090909090909,118.58242280439666L227.27272727272728,118.56283082704948L227.63636363636363,118.55034546956789L227.99999999999997,118.53944679894906L228.36363636363637,118.54428114382904L228.72727272727272,118.54718083985145L229.0909090909091,118.54515622847828L229.45454545454544,118.52821365285547L229.81818181818184,118.50153991798788L230.1818181818182,118.51376918210849L230.54545454545456,118.51042144246478L230.9090909090909,118.47015575958673L231.27272727272725,118.45749119011279L231.63636363636363,118.47356096274406L231.99999999999997,118.47816494692935L232.36363636363637,118.4621026741705L232.72727272727272,118.4684421594574L233.0909090909091,118.45741740955238L233.45454545454544,118.46182137526387L233.81818181818184,118.44373397202345L234.1818181818182,118.4408733096447L234.54545454545453,118.43750375488402L234.9090909090909,118.43862158533453L235.27272727272725,118.44878535217953L235.63636363636365,118.43554749177206L236,118.41947394776939L236.36363636363637,118.40838473101032L236.72727272727272,118.40812930561037L237.09090909090912,118.40471373598625L237.45454545454544,118.387185461559L237.81818181818184,118.38819784306706L238.1818181818182,118.38609978585765L238.54545454545453,118.37006640861678L238.9090909090909,118.33281308276283L239.27272727272725,118.31873558485712L239.63636363636365,118.30590821741676L240,118.28793497991197L240.36363636363637,118.27672822466637L240.72727272727272,118.28445769585679L241.09090909090912,118.28536009900712L241.45454545454547,118.29034680908607L241.8181818181818,118.2723064761659L242.1818181818182,118.27658422635783L242.54545454545453,118.27908042344038L242.9090909090909,118.26618132240378L243.27272727272725,118.25137069432171L243.63636363636365,118.23191475199049L244,118.19606648862325L244.36363636363637,118.18499752672544L244.72727272727272,118.17324849232942L245.09090909090907,118.17403565010292L245.45454545454547,118.16033417805411L245.8181818181818,118.14166767115223L246.1818181818182,118.14163168247904L246.54545454545453,118.12621367115437L246.90909090909093,118.13385122883994L247.27272727272725,118.12363247369815L247.63636363636365,118.12431671341173L248,118.10542488663076L248.36363636363635,118.081965590403L248.72727272727272,118.04379822484283L249.09090909090907,118.05103322735393L249.45454545454547,118.05094250789536L249.8181818181818,118.05497953463502L250.1818181818182,118.04250589711938L250.54545454545453,118.03711821181966L250.90909090909093,118.03772710726915L251.27272727272728,118.04451290135827L251.63636363636365,118.03422331060003L252,118.01483496062315L252.36363636363635,118.00848281262404L252.72727272727275,117.98210633627436L253.09090909090907,117.9466276577378L253.45454545454547,117.94219193141546L253.8181818181818,117.94201332522591L254.1818181818182,117.9422153424954L254.54545454545453,117.94272547520413L254.90909090909093,117.92035419675942L255.27272727272728,117.91735268140312L255.63636363636363,117.89782479670123L256,117.90498289805433L256.3636363636364,117.88119596315296L256.72727272727275,117.88162522289383L257.09090909090907,117.85666590164068L257.4545454545455,117.85350190358663L257.8181818181818,117.85316336276983L258.1818181818182,117.8593490988582L258.54545454545456,117.84599168096794L258.9090909090909,117.81304023005971L259.27272727272725,117.80077672744203L259.6363636363636,117.77878996663725L260,117.77553662098646L260.3636363636364,117.75051521385097L260.72727272727275,117.74676691068827L261.09090909090907,117.72708544808692L261.4545454545455,117.7071180498105L261.8181818181818,117.68046805402284L262.1818181818182,117.68619094656647L262.54545454545456,117.66230865906748L262.9090909090909,117.66057299189758L263.27272727272725,117.6603337928536L263.6363636363636,117.65995627961897L264,117.6362480373459L264.3636363636364,117.6219056179161L264.72727272727275,117.62693011443184L265.09090909090907,117.6273570240586L265.4545454545455,117.60232222811453L265.8181818181818,117.60192942119913L266.1818181818182,117.59861088061368L266.54545454545456,117.578496053003L266.9090909090909,117.54902454132178L267.2727272727273,117.55512777858917L267.6363636363636,117.54150770160861L268,117.54648779002363L268.3636363636364,117.51995448942327L268.72727272727275,117.50185362471544L269.09090909090907,117.50220446784874L269.45454545454544,117.48307792536386L269.8181818181818,117.48247577851343L270.1818181818182,117.4767628158361L270.54545454545456,117.46824814418571L270.9090909090909,117.45619170499388L271.2727272727273,117.4358628106177L271.6363636363636,117.4293605725228L272,117.41568193256171L272.3636363636364,117.39074422312487L272.7272727272727,117.38698624592136L273.0909090909091,117.37144864129907L273.45454545454544,117.3523448487729L273.8181818181818,117.34299864692596L274.1818181818182,117.34751309404707L274.54545454545456,117.32106219523683L274.9090909090909,117.32067255709939L275.2727272727273,117.32024955681091L275.6363636363636,117.32053929874837L276,117.30398287950166L276.3636363636364,117.28033296884672L276.7272727272727,117.26655820174068L277.0909090909091,117.25935915027044L277.45454545454544,117.24032927288218L277.8181818181818,117.23989438996286L278.1818181818182,117.24423988144265L278.54545454545456,117.24441734519795L278.9090909090909,117.22362885090618L279.2727272727273,117.21016669842558L279.6363636363636,117.20698141599199L280,117.20643232140056L280.3636363636364,117.17919922105145L280.7272727272727,117.18450092927743L281.0909090909091,117.17052177186366L281.45454545454544,117.16487072308178L281.8181818181818,117.1459453330636L282.1818181818182,117.12416956156342L282.54545454545456,117.12423347675617L282.90909090909093,117.09693066453393L283.27272727272725,117.08286784011715L283.6363636363636,117.08845893234864L284,117.08927704398815L284.3636363636364,117.08601553498434L284.7272727272727,117.0670706202225L285.0909090909091,117.054870808838L285.45454545454544,117.0441736604835L285.8181818181818,117.04348657706636L286.1818181818182,117.02979706154275L286.5454545454545,117.02249111493457L286.90909090909093,117.02246073403231L287.27272727272725,117.00559672385083L287.6363636363636,116.99996890787313L288,116.98718122019736L288.3636363636364,116.98638982203758L288.72727272727275,116.97101400461203L289.0909090909091,116.9671431630335L289.45454545454544,116.95687906973116L289.8181818181818,116.95600646647655L290.1818181818182,116.94246492701023L290.5454545454545,116.9431577659438L290.90909090909093,116.9221481324507L291.27272727272725,116.91242005387923L291.6363636363636,116.88629111653235L292,116.88680626907141L292.3636363636364,116.8780659370656L292.72727272727275,116.86740778345022L293.0909090909091,116.85336512240308L293.45454545454544,116.85237673535562L293.8181818181818,116.83860959534348L294.1818181818182,116.82414586074547L294.5454545454545,116.809355100997L294.90909090909093,116.78695193256452L295.27272727272725,116.78177867851431L295.6363636363636,116.7859852905654L296,116.77212448515051L296.3636363636364,116.75750964036683L296.72727272727275,116.75017346225205L297.09090909090907,116.7490844450308L297.45454545454544,116.72705158471773L297.8181818181818,116.72376637808131L298.1818181818182,116.70503902815939L298.54545454545456,116.69161513660345L298.90909090909093,116.69044927742517L299.27272727272725,116.68990716166523L299.6363636363637,116.69366670168952L300,116.68456914986925L300.3636363636363,116.68809553207966L300.72727272727275,116.66516127779984L301.09090909090907,116.64269191372998L301.45454545454544,116.62738071312747L301.8181818181818,116.6072522885631L302.1818181818182,116.59185079617305L302.54545454545456,116.58292792669762L302.90909090909093,116.5832543607912L303.27272727272725,116.58369954851007L303.6363636363636,116.55159266334229L304,116.54560418735814L304.3636363636364,116.5612478386399L304.72727272727275,116.55760176296401L305.09090909090907,116.5462561105108L305.4545454545455,116.5448059541117L305.8181818181818,116.54360622717716L306.1818181818182,116.52498347201062L306.54545454545456,116.50970371425306L306.9090909090909,116.49381503974432L307.27272727272725,116.50338601312309L307.6363636363636,116.50200517624145L308,116.47981352778585L308.3636363636364,116.45262876353277L308.72727272727275,116.44831898228338L309.09090909090907,116.43684463686353L309.4545454545455,116.45172505544572L309.8181818181818,116.4518195657521L310.1818181818182,116.43770753657141L310.54545454545456,116.41552169256717L310.9090909090909,116.4158624235289L311.27272727272725,116.41619514984005L311.6363636363636,116.4164275954012L312,116.39780986037702L312.3636363636364,116.37504711670302L312.72727272727275,116.3666781681306L313.09090909090907,116.35142171619846L313.4545454545455,116.32120512374131L313.8181818181818,116.30655736328919L314.1818181818182,116.30457997761803L314.54545454545456,116.30238945989966L314.9090909090909,116.29869391926147L315.2727272727273,116.28010597327112L315.6363636363636,116.28217333791295L316,116.26521597617794L316.3636363636364,116.25354039075053L316.72727272727275,116.2566448512515L317.09090909090907,116.23822817773313L317.45454545454544,116.21597405718549L317.8181818181818,116.21176349393045L318.1818181818182,116.18926673364109L318.54545454545456,116.18005791488119L318.9090909090909,116.1634429018175L319.2727272727273,116.1550869132033L319.6363636363636,116.16769693278721L320,116.16919958033371L320.3636363636364,116.13776708786112L320.7272727272727,116.1236153411036L321.0909090909091,116.09372990716666L321.45454545454544,116.08795869419812L321.8181818181818,116.06846725900586L322.1818181818182,116.05080093131264L322.54545454545456,116.05748564648522L322.9090909090909,116.05370352956679L323.2727272727273,116.04743463517994L323.6363636363636,116.0288005518559L324,116.03677902278591L324.3636363636364,116.01282480608792L324.7272727272727,116.00094262364826L325.0909090909091,116.01726500669609L325.45454545454544,116.02149405570094L325.8181818181818,116.014706911217L326.1818181818182,116.01140770070674L326.54545454545456,116.00035763501033L326.9090909090909,116.00013941909478L327.2727272727273,115.9817197864641L327.6363636363636,115.96289897455176L328,115.96431813734202L328.3636363636364,115.96369656434327L328.7272727272727,115.96014060179773L329.0909090909091,115.96125057072837L329.45454545454544,115.94236730077773L329.8181818181818,115.94328262497054L330.1818181818182,115.92989438995396L330.54545454545456,115.94005410576646L330.90909090909093,115.93114454180605L331.27272727272725,115.91249885495193L331.6363636363636,115.88992925481318L332,115.89037837146796L332.3636363636364,115.8977723709799L332.7272727272727,115.87926766368764L333.0909090909091,115.87893863007821L333.45454545454544,115.88957103708952L333.8181818181818,115.857840885145L334.1818181818182,115.84866683416242L334.5454545454545,115.8309728410748L334.90909090909093,115.82519058787213L335.27272727272725,115.82389960589931L335.6363636363636,115.78549613210059L336,115.78505737264186L336.3636363636364,115.79563518862179L336.72727272727275,115.78978950606881L337.0909090909091,115.77042041074064L337.45454545454544,115.7610015915674L337.8181818181818,115.75567668223007L338.1818181818182,115.74144755002575L338.5454545454545,115.71877005057385L338.90909090909093,115.7035547492142L339.27272727272725,115.69292134175113L339.6363636363636,115.70191979036899L340,115.69746553041207L340.3636363636364,115.67813781788558L340.72727272727275,115.65985254459746L341.0909090909091,115.64166707949389L341.45454545454544,115.63358472155687L341.8181818181818,115.61471315860592L342.1818181818182,115.61457930985006L342.5454545454545,115.62904314873867L342.90909090909093,115.6272925902023L343.27272727272725,115.62180577452827L343.6363636363636,115.61670258312819L344,115.62263467482819L344.3636363636364,115.62986909263819L344.72727272727275,115.62604707935276L345.09090909090907,115.62554597305197L345.45454545454544,115.62242398349116L345.8181818181818,115.60215213853999L346.1818181818182,115.61368513856793L346.54545454545456,115.60361182358774L346.90909090909093,115.61023490883696L347.27272727272725,115.61635485766308L347.6363636363636,115.60728869051627L348,115.61830492593239L348.3636363636363,115.59602021102313L348.72727272727275,115.57971217045278L349.09090909090907,115.58557752841034L349.45454545454544,115.58501017346126L349.8181818181818,115.58423626165361L350.1818181818182,115.59071345670138L350.54545454545456,115.59608671931336L350.90909090909093,115.60864509945172L351.27272727272725,115.59898820735918L351.6363636363637,115.60407730115898L352,115.58286004887796L352.3636363636364,115.56424692542654L352.72727272727275,115.54026106733859L353.09090909090907,115.52206199381834L353.45454545454544,115.511624019262L353.8181818181818,115.49579630600606L354.1818181818182,115.50147595604705L354.54545454545456,115.49565216637694L354.90909090909093,115.50193128726538L355.27272727272725,115.48052158945632L355.6363636363636,115.48292941803768L356,115.45893808308645L356.3636363636364,115.43740134659149L356.72727272727275,115.41926496627259L357.09090909090907,115.41363126068245L357.4545454545455,115.4035969956096L357.8181818181818,115.38136701230981L358.1818181818182,115.38075487026747L358.54545454545456,115.38584863540802L358.9090909090909,115.39023785892688L359.27272727272725,115.37645940419274L359.6363636363636,115.3824150183583L360,115.37370898878616L360.3636363636364,115.35930234195344L360.72727272727275,115.33762185839969L361.09090909090907,115.3343800950001L361.4545454545455,115.3121820292478L361.8181818181818,115.31084727283229L362.1818181818182,115.29615661520634L362.54545454545456,115.29342800493781L362.9090909090909,115.29011220426706L363.27272727272725,115.25449111199868L363.6363636363636,115.24874216606706L364,115.23818377210269\" stroke=\"#f58518\" stroke-width=\"2\"/></g></g><path class=\"foreground\" aria-hidden=\"true\" d=\"\" display=\"none\"/></g><g transform=\"translate(0,0)\"><path class=\"background\" aria-hidden=\"true\" d=\"M0,0h400v200h-400Z\"/><g><g class=\"mark-line role-mark marks\" role=\"graphics-object\" aria-roledescription=\"line mark container\"><path aria-label=\"n_iter: 1; loss: 0.61311900717; learner: SAL\" role=\"graphics-symbol\" aria-roledescription=\"line mark\" d=\"M0.36363636363636365,77.37619856590877L0.7272727272727273,94.36752075914234L1.090909090909091,100.53998742138899L1.4545454545454546,100.81021044046174L1.8181818181818181,103.8462367205419L2.181818181818182,103.91653747612963L2.5454545454545454,104.63281412771508L2.909090909090909,105.2527731998349L3.272727272727273,105.2143459686524L3.6363636363636362,105.20090218852427L4,105.21362052896035L4.363636363636364,105.22173942754716L4.7272727272727275,105.22900485229502L5.090909090909091,105.23640329674731L5.454545454545454,105.24382213091195L5.818181818181818,105.25097039029798L6.181818181818182,105.37388482934536L6.545454545454546,105.36687487534111L6.909090909090909,105.35992222996002L7.2727272727272725,105.36168609923615L7.636363636363637,106.69055207539114L8,106.91065707164451L8.363636363636363,107.09904855959336L8.727272727272728,107.76023035123406L9.090909090909092,108.17025403342919L9.454545454545455,108.35222880476465L9.818181818181818,108.47944751539131L10.181818181818182,107.88388614504159L10.545454545454545,107.71534064836182L10.909090909090908,107.64791242633822L11.272727272727273,107.63571651078247L11.636363636363637,107.58360741304722L12,107.51437629624272L12.363636363636363,107.45934353946309L12.727272727272727,107.4231024143944L13.090909090909092,107.36738602178477L13.454545454545455,107.2487226436971L13.818181818181818,107.1079148515619L14.181818181818182,106.93868045270627L14.545454545454545,106.77951795700852L14.909090909090908,106.63588480321286L15.272727272727273,106.50741933931742L15.636363636363637,106.34731686262933L16,106.25142085949004L16.363636363636363,106.15957646442398L16.727272727272727,106.09313233284934L17.09090909090909,107.19592116670664L17.454545454545457,108.12979296398386L17.81818181818182,108.93487076525936L18.181818181818183,109.48617551884068L18.545454545454547,109.8595194242559L18.90909090909091,111.72374725747135L19.272727272727273,111.9672524293215L19.636363636363637,112.14830610509792L20,112.26746619256396L20.363636363636363,114.69704074798503L20.727272727272727,114.76210386586723L21.09090909090909,114.82342235508314L21.454545454545453,114.43696456346797L21.818181818181817,114.76884070084203L22.181818181818183,114.81168475508166L22.545454545454547,114.91838309631734L22.90909090909091,115.13261547684675L23.272727272727273,115.17855176447145L23.636363636363637,115.18341608999472L24,115.09206932608637L24.363636363636363,115.07746130206029L24.727272727272727,115.07318938292947L25.09090909090909,115.11265821754351L25.454545454545453,115.16625093321575L25.818181818181817,115.18694743867333L26.181818181818183,115.20221205686497L26.545454545454543,115.22768107254025L26.90909090909091,115.49439892625553L27.27272727272727,115.43612737936306L27.636363636363637,115.60011081263895L28.000000000000004,115.7368856890908L28.363636363636363,115.61828451393525L28.72727272727273,115.50047600524604L29.09090909090909,115.41915495069458L29.454545454545457,115.36826761823731L29.818181818181817,115.31057737840966L30.181818181818183,115.22525417123144L30.545454545454547,115.11262485812411L30.909090909090907,115.04521048356202L31.272727272727273,114.98787749039867L31.636363636363633,114.95226681134784L32,114.92698884442261L32.36363636363636,114.90886846346409L32.72727272727273,114.89621059507229L33.09090909090909,114.88681709309554L33.45454545454545,114.87969597165674L33.81818181818182,114.96247745778226L34.18181818181818,114.99999707617732L34.54545454545455,115.0142348196494L34.909090909090914,115.01748502185016L35.27272727272727,115.14398385372853L35.63636363636364,115.23323016962807L36,115.34766015943272L36.36363636363637,115.40818635866276L36.72727272727273,115.43311763115591L37.09090909090909,115.50258703818778L37.45454545454546,115.5503160502469L37.81818181818182,115.5857174339943L38.18181818181819,115.61110040438278L38.54545454545455,115.55938313117085L38.90909090909091,115.53424262177106L39.27272727272727,115.51848496886485L39.63636363636363,115.50624674265184L40,115.49392393755033L40.36363636363636,115.48020238756473L40.72727272727273,115.46485791321052L41.090909090909086,115.44699389611637L41.45454545454545,115.42415426451274L41.81818181818181,115.39966963613475L42.18181818181818,115.43156534909866L42.54545454545455,115.42385594207802L42.90909090909091,115.4556475670411L43.27272727272727,115.55943230938426L43.63636363636363,115.60860650663965L44,115.67665468144068L44.36363636363637,115.74537395419813L44.72727272727273,115.80758737762413L45.09090909090909,115.878300104663L45.45454545454545,115.92818418696993L45.81818181818182,115.94662405391661L46.18181818181818,115.94555393857482L46.54545454545455,115.95737840159453L46.909090909090914,115.96906174856343L47.27272727272727,115.97840547761078L47.63636363636364,115.99936122342918L48,115.06433455929024L48.36363636363637,114.8597497736493L48.72727272727273,114.70548937438356L49.09090909090909,114.60142849592798L49.45454545454545,114.52996150058424L49.81818181818182,114.48269495352048L50.18181818181818,114.47990761401819L50.54545454545455,114.4009789454797L50.90909090909091,114.37272490184971L51.272727272727266,114.36522662208269L51.63636363636363,114.36629246489736L52,114.3841896787689L52.36363636363637,114.4002091868856L52.72727272727272,114.40460379474322L53.090909090909086,114.40565393051818L53.45454545454545,114.41282950399821L53.81818181818182,114.43755562515578L54.18181818181819,114.43036674328475L54.54545454545454,114.38752211202213L54.90909090909091,114.34027580878568L55.27272727272727,114.3004681303577L55.63636363636364,114.2693526037755L56.00000000000001,114.25340566339277L56.36363636363636,114.23992482442836L56.72727272727273,114.2273944031242L57.09090909090909,114.21580192193197L57.45454545454546,114.17786918235286L57.81818181818181,114.13919975455671L58.18181818181818,114.11536997969858L58.54545454545455,114.10056586736172L58.909090909090914,114.09082242215578L59.27272727272728,114.08398758290312L59.63636363636363,114.07719090341399L60,114.70903022195505L60.36363636363637,114.9407665478222L60.72727272727273,115.04293409383659L61.09090909090909,115.10189907239963L61.45454545454545,115.13835958161205L61.81818181818181,115.16834602260823L62.18181818181818,115.18942330633391L62.54545454545455,115.19985397837797L62.909090909090914,115.2195347998785L63.272727272727266,115.22528257089076L63.63636363636363,115.22287330271493L64,115.21649476953723L64.36363636363637,115.20795145450116L64.72727272727272,115.19807598322278L65.0909090909091,115.1873899517383L65.45454545454545,115.17623566389136L65.81818181818181,115.11122793373123L66.18181818181819,115.10965923596234L66.54545454545455,115.11059200422153L66.9090909090909,115.10898845126145L67.27272727272727,115.10327207262468L67.63636363636364,115.09341630733165L68,115.08419353879353L68.36363636363636,115.14647532590396L68.72727272727272,115.12206534556506L69.0909090909091,115.06786151790145L69.45454545454545,115.01109175219648L69.81818181818183,114.95227812150704L70.18181818181817,114.89662092304458L70.54545454545455,114.84486186272957L70.9090909090909,114.78743150514362L71.27272727272728,114.74385628360335L71.63636363636363,114.71352408268034L72,114.67404611281444L72.36363636363636,114.63678773805827L72.72727272727273,114.57474029277184L73.0909090909091,114.56041881408552L73.45454545454545,114.54309287375648L73.81818181818181,114.55063265714007L74.18181818181819,114.53855643350708L74.54545454545455,114.54014355565127L74.90909090909092,114.5287690983696L75.27272727272727,114.5164045106492L75.63636363636364,114.507155286734L76,114.53415628542393L76.36363636363637,114.56193247486351L76.72727272727272,114.57386612145895L77.0909090909091,114.62553840747272L77.45454545454545,114.64378758952888L77.81818181818181,114.6451245473086L78.18181818181819,114.6537652920061L78.54545454545455,114.65739811567292L78.9090909090909,114.65879104106496L79.27272727272727,114.6503158967132L79.63636363636364,114.6417521205827L80,114.6346710347299L80.36363636363636,114.62901523097955L80.72727272727272,114.62422832791805L81.0909090909091,114.61991222863452L81.45454545454545,114.61576624435182L81.81818181818183,114.61156820078884L82.18181818181817,114.60717273086907L82.54545454545455,114.64264963753283L82.9090909090909,114.65328001081288L83.27272727272728,114.65454625601974L83.63636363636363,114.65108891781037L84,114.64493816038768L84.36363636363636,114.6349453975639L84.72727272727273,114.62740834565733L85.0909090909091,114.62019578583329L85.45454545454545,114.61302513496179L85.81818181818181,114.60584182669832L86.18181818181819,114.60234242343792L86.54545454545455,114.59941658610435L86.9090909090909,114.59597273454216L87.27272727272727,114.72593270685584L87.63636363636364,114.78558958450249L88,114.80820831148377L88.36363636363636,114.813820700147L88.72727272727273,114.81036996961245L89.0909090909091,114.8028540973971L89.45454545454545,114.79345903873543L89.81818181818181,114.77652300433488L90.18181818181819,114.76828834071217L90.54545454545455,114.75993188511357L90.9090909090909,114.75302761753036L91.27272727272727,114.7475154665822L91.63636363636364,114.74234137388257L92,114.73742315554816L92.36363636363636,115.58754858247084L92.72727272727272,115.55326481839381L93.0909090909091,115.53406861275536L93.45454545454545,115.52734907953241L93.81818181818183,115.51851386211021L94.18181818181817,115.51202663394531L94.54545454545455,115.51025787017282L94.9090909090909,115.63219863667724L95.27272727272728,115.71024779048678L95.63636363636364,115.74543225503457L96,115.75319073968149L96.36363636363636,115.74727967367212L96.72727272727273,115.74577954469075L97.0909090909091,115.74902366227758L97.45454545454545,115.75857801436844L97.81818181818181,115.76298124443056L98.18181818181819,115.72186783482152L98.54545454545455,115.73153511883541L98.9090909090909,115.73331812824254L99.27272727272727,115.73088046559299L99.63636363636364,115.72644935290583L100,115.7213416866424L100.36363636363636,115.7159832075315L100.72727272727273,115.71378535278158L101.0909090909091,115.712713942608L101.45454545454547,115.71103452722593L101.81818181818181,115.70920649783191L102.18181818181817,115.70714002152852L102.54545454545453,115.70485055169546L102.9090909090909,115.70239246188537L103.27272727272727,115.69982163524854L103.63636363636364,115.6971846416273L104,115.69451782507466L104.36363636363637,115.69184910488102L104.72727272727273,115.68919998460039L105.09090909090911,115.68658712511528L105.45454545454544,115.61101683951284L105.81818181818181,115.62295840823826L106.18181818181817,115.63079255409492L106.54545454545455,115.6363629032554L106.9090909090909,115.63738984373965L107.27272727272728,115.63404688379224L107.63636363636364,115.62987915102177L108,115.62509237008025L108.36363636363637,115.6201704236615L108.72727272727272,115.61545742611816L109.09090909090908,115.6083929400887L109.45454545454545,115.60344129819822L109.81818181818181,115.60015200643944L110.18181818181819,115.59778652324881L110.54545454545455,115.59600202979586L110.9090909090909,115.59094037938267L111.27272727272728,115.58560789048715L111.63636363636364,115.58147918431476L112.00000000000001,115.5787630606556L112.36363636363636,115.57678487657452L112.72727272727272,115.57521366565152L113.0909090909091,115.57513190091551L113.45454545454545,115.57649278748899L113.81818181818181,115.57762833003582L114.18181818181819,115.57865832005012L114.54545454545455,115.57947187242748L114.90909090909092,115.58004442977344L115.27272727272728,115.58038167283793L115.63636363636363,115.58048865358681L115.99999999999999,115.58041061137776L116.36363636363636,115.5802600505917L116.72727272727272,115.57999510232003L117.0909090909091,115.63408296993467L117.45454545454545,115.67661702368102L117.81818181818183,115.70955183289415L118.18181818181819,115.73457813810646L118.54545454545456,115.75309477278549L118.90909090909092,115.77680436050102L119.27272727272727,115.61260838953878L119.63636363636363,115.72845103595021L120,115.90610256039086L120.36363636363636,115.99495648833881L120.72727272727273,116.04343126479925L121.0909090909091,116.07114813032919L121.45454545454545,116.08661575355748L121.81818181818183,116.09857707140918L122.18181818181819,116.10841040976396L122.54545454545453,116.09963820984413L122.9090909090909,116.10411023746643L123.27272727272727,116.10954076526372L123.63636363636363,116.11301148981619L124,116.1143937222688L124.36363636363636,116.11391450896767L124.72727272727273,116.111234448572L125.0909090909091,116.10853407078854L125.45454545454547,116.11186186931515L125.81818181818183,116.11506002036576L126.18181818181817,116.11665912711109L126.54545454545453,116.11737240670037L126.9090909090909,116.11755882116186L127.27272727272727,116.11623971577392L127.63636363636364,116.11804060351352L128,116.1229866185683L128.36363636363637,116.12604378950752L128.72727272727275,116.1302128729631L129.0909090909091,116.13430679436472L129.45454545454544,116.13793043526037L129.8181818181818,116.14099029792331L130.1818181818182,116.14352582362896L130.54545454545453,116.14562545748113L130.9090909090909,116.14477958440426L131.27272727272728,116.14409090896092L131.63636363636363,116.1450752463005L132,116.14677359163142L132.36363636363637,116.14853282641451L132.72727272727275,116.15031285971531L133.0909090909091,116.15220136364736L133.45454545454544,116.1524266639961L133.8181818181818,116.16050687919761L134.1818181818182,116.16113279848364L134.54545454545453,116.16420092639987L134.9090909090909,116.16862260768958L135.27272727272728,116.1740747210678L135.63636363636365,116.18191389442232L136,116.1900344992326L136.36363636363635,116.19380538135538L136.72727272727272,116.18138379493357L137.0909090909091,116.18047446399804L137.45454545454544,116.2091477268119L137.8181818181818,116.22046039669343L138.1818181818182,116.23765876231826L138.54545454545456,116.25311728552114L138.9090909090909,116.26654324782682L139.27272727272728,116.27670963870838L139.63636363636365,116.28511820214204L140,116.29122513731373L140.36363636363635,116.2957498773841L140.72727272727272,116.29914880469L141.0909090909091,116.29264834708994L141.45454545454547,116.28947527461837L141.8181818181818,116.28490350568903L142.1818181818182,116.28074580654814L142.54545454545456,116.27720239358612L142.9090909090909,116.29726813534901L143.27272727272725,116.32822633723734L143.63636363636363,116.36162308353582L144,116.39256730546887L144.36363636363637,116.42067127151603L144.72727272727272,116.44436361866583L145.0909090909091,116.46436446995953L145.45454545454547,116.48111683134803L145.8181818181818,116.49487340240381L146.1818181818182,116.50989859409768L146.54545454545456,116.50801811970028L146.9090909090909,116.5199777716376L147.27272727272725,116.52800239949283L147.63636363636363,116.53454609549638L148,116.5394661101573L148.36363636363637,116.54272718811882L148.72727272727272,116.55482851477367L149.0909090909091,116.68184934699599L149.45454545454547,116.6805083199502L149.81818181818184,116.72854886551316L150.18181818181816,116.74078097129379L150.54545454545453,116.75294721938094L150.9090909090909,116.75810247099392L151.27272727272728,116.7630913781514L151.63636363636363,116.75794761376916L152,116.74866188436503L152.36363636363637,116.738806521047L152.72727272727275,116.72690172060618L153.0909090909091,116.71697462176947L153.45454545454544,116.708570393861L153.8181818181818,116.69887142047912L154.1818181818182,116.68555273182635L154.54545454545453,116.6760642474991L154.9090909090909,116.66953120044714L155.27272727272728,116.66169839980371L155.63636363636363,116.65573653988695L156,116.65176456694107L156.36363636363637,116.64521149382234L156.72727272727275,116.63935098360692L157.0909090909091,116.63777927225274L157.45454545454544,116.63730727301001L157.8181818181818,116.63767750487581L158.1818181818182,116.63849279262273L158.54545454545453,116.63987161246037L158.9090909090909,116.64170217930625L159.27272727272728,116.64381492463653L159.63636363636365,116.64607006026148L160,116.64835767691244L160.36363636363635,116.65073056117588L160.72727272727272,116.653372352638L161.0909090909091,116.65580464239818L161.45454545454544,116.65803387197312L161.8181818181818,116.66008150618148L162.1818181818182,116.66196521841319L162.54545454545456,116.66369773240552L162.9090909090909,116.66528915065328L163.27272727272728,116.52975350307901L163.63636363636365,116.47406986165123L164,116.47147192409845L164.36363636363635,116.49882102001747L164.72727272727272,116.50892593854245L165.0909090909091,116.50924052912343L165.45454545454547,116.50672832103967L165.8181818181818,116.50409654868281L166.1818181818182,116.50300392008488L166.54545454545456,116.50271033508605L166.9090909090909,116.50294159217817L167.27272727272725,116.50268435725002L167.63636363636363,116.50292654234882L168,116.50350323747496L168.36363636363637,116.50422270678379L168.72727272727272,116.50501527449764L169.0909090909091,116.48676950831809L169.45454545454547,116.48056737367645L169.8181818181818,116.479495208835L170.1818181818182,116.48245612464554L170.54545454545456,116.48527372868283L170.9090909090909,116.48765278764795L171.27272727272725,116.48968681908171L171.63636363636363,116.49138428426427L172,116.49290316500687L172.36363636363637,116.49424741627045L172.72727272727272,116.4954356195852L173.0909090909091,116.49648408536699L173.45454545454547,116.49740644049427L173.8181818181818,116.4982033869724L174.18181818181816,116.49889371778217L174.54545454545453,116.49949000285238L174.9090909090909,116.50000065297621L175.27272727272728,116.50043220020288L175.63636363636363,116.50079014561294L176,116.50136412650052L176.36363636363637,116.50184977157467L176.72727272727272,116.50221400961374L177.0909090909091,116.50303254422263L177.45454545454547,116.50355248150552L177.8181818181818,116.50383882821713L178.1818181818182,116.50397013292961L178.54545454545453,116.50400556039335L178.9090909090909,116.50396808858234L179.27272727272728,116.50384377219578L179.63636363636363,116.50367132327959L180,116.5025043148074L180.36363636363637,116.67334055334848L180.72727272727275,116.70783664469941L181.0909090909091,116.66717824061692L181.45454545454544,116.6049339869079L181.8181818181818,116.55276626969453L182.1818181818182,116.51415015882516L182.54545454545453,116.48908697606598L182.9090909090909,116.47197387924439L183.27272727272728,116.46020552701293L183.63636363636365,116.45285003351489L184,116.68183362108044L184.36363636363637,116.68748404195833L184.72727272727272,116.72385773823748L185.0909090909091,116.78767531502898L185.45454545454544,116.83849771135951L185.8181818181818,116.85830816899755L186.1818181818182,116.876284871962L186.54545454545456,116.88750294647348L186.9090909090909,116.8936890182977L187.27272727272728,116.89655409905457L187.63636363636365,116.89788452135966L188,116.89800849960423L188.36363636363635,116.89737915322746L188.72727272727272,116.89302472079426L189.0909090909091,116.89136958605997L189.45454545454544,116.89293340801075L189.8181818181818,116.89626189963276L190.1818181818182,116.8999973051331L190.54545454545456,116.90381012304682L190.9090909090909,116.89723052938122L191.27272727272728,116.8901807475156L191.63636363636363,116.88066355737242L192,116.87046061204143L192.36363636363635,116.8618869368749L192.72727272727272,116.85594665424088L193.0909090909091,116.85232770407423L193.45454545454547,116.85023987771028L193.8181818181818,116.83422971637727L194.1818181818182,116.82611357723518L194.54545454545456,116.82382365741124L194.9090909090909,116.82568157239044L195.27272727272725,116.83026812724347L195.63636363636363,116.83667767903019L196,116.8450870799L196.36363636363637,116.8525621729463L196.72727272727272,116.86049640624141L197.0909090909091,116.86832580029103L197.45454545454547,116.86196750538946L197.8181818181818,116.86580806224083L198.1818181818182,116.87158993164255L198.54545454545453,116.87759962529158L198.9090909090909,116.88368063272772L199.27272727272728,116.89004537598476L199.63636363636363,116.89669613254914L200,116.90374420549077L200.36363636363635,116.91095808941606L200.72727272727272,117.05143799430009L201.09090909090907,117.06544550323534L201.45454545454547,117.0642519849481L201.8181818181818,117.05397445651843L202.1818181818182,117.03766914688254L202.54545454545453,117.03461974337881L202.90909090909093,116.98889396156322L203.27272727272728,116.94816786345248L203.63636363636363,116.91677900690867L204,116.92431037707954L204.36363636363635,116.95365851452657L204.72727272727275,116.96755297372665L205.09090909090907,116.96820061889963L205.45454545454547,117.0146087722248L205.8181818181818,117.03816138863392L206.1818181818182,117.0501561483273L206.54545454545453,117.07240536518842L206.90909090909088,117.08892426749142L207.27272727272728,117.09559497584851L207.63636363636363,117.08460993935117L208,117.07368112836814L208.36363636363635,117.04798816310347L208.72727272727275,117.03721368237967L209.0909090909091,117.02968558672752L209.45454545454547,117.0220952582028L209.8181818181818,117.01399887018773L210.18181818181822,117.00548307102795L210.54545454545456,116.99716468862991L210.90909090909088,116.9888132734884L211.27272727272728,116.956008591373L211.63636363636363,116.93315229053371L212,116.9177983042041L212.36363636363635,116.90703331538543L212.72727272727275,116.8989497923405L213.0909090909091,116.89261834551314L213.45454545454547,116.75656462215898L213.8181818181818,116.70899940873278L214.18181818181816,116.67821423403919L214.54545454545456,116.64926082471787L214.9090909090909,116.62978239897907L215.27272727272728,116.61864021884125L215.63636363636363,116.60682805562865L216,116.59377326597968L216.36363636363635,116.58007394566563L216.72727272727275,116.56922988416636L217.0909090909091,116.55947101573867L217.45454545454544,116.55080081888865L217.8181818181818,116.5434120754257L218.18181818181816,116.53714895912981L218.54545454545456,116.53364362314846L218.9090909090909,116.53015222594756L219.27272727272728,116.52550720499934L219.63636363636363,116.52879429449973L220.00000000000003,116.53050688597344L220.36363636363637,116.53029133513L220.7272727272727,116.52948066782183L221.0909090909091,116.52855012855863L221.45454545454544,116.52774686227892L221.8181818181818,116.5269237006942L222.18181818181816,116.52562233277837L222.54545454545456,116.52508846247491L222.9090909090909,116.52545124744825L223.27272727272728,116.52630473716918L223.63636363636363,116.55624059367504L224.00000000000003,116.57723322062448L224.36363636363637,116.59368557304634L224.72727272727272,116.60411457716695L225.0909090909091,116.60955110663194L225.45454545454544,116.61182484533748L225.81818181818184,116.61207518982535L226.1818181818182,116.61139018212575L226.54545454545456,116.60978085658536L226.9090909090909,116.59230888180593L227.27272727272728,116.57485188292611L227.63636363636363,116.55976616010251L227.99999999999997,116.5488731580087L228.36363636363637,116.54014863521138L228.72727272727272,116.53126711670126L229.0909090909091,116.52508393783947L229.45454545454544,116.51246694231693L229.81818181818184,116.4950044544935L230.1818181818182,116.48435641792041L230.54545454545456,116.47756277867178L230.9090909090909,116.47334846301982L231.27272727272725,116.47070137046298L231.63636363636363,116.46858042961381L231.99999999999997,116.467346341742L232.36363636363637,116.4671581666071L232.72727272727272,116.46838596089108L233.0909090909091,116.47056913860948L233.45454545454544,116.4732346885835L233.81818181818184,116.47883629603606L234.1818181818182,116.4846246340515L234.54545454545453,116.48879094739328L234.9090909090909,116.49225294330974L235.27272727272725,116.49510719267018L235.63636363636365,116.49797495662129L236,116.50070242488997L236.36363636363637,116.50526136886717L236.72727272727272,116.51018344481088L237.09090909090912,116.51527101718938L237.45454545454544,116.51995093428667L237.81818181818184,116.52415511318766L238.1818181818182,116.52894810967047L238.54545454545453,116.534977941866L238.9090909090909,116.53848421116051L239.27272727272725,116.54201018888162L239.63636363636365,116.54507665939487L240,116.54777597354608L240.36363636363637,116.55005030339387L240.72727272727272,116.5521915752341L241.09090909090912,116.5541476860062L241.45454545454547,116.54078853748051L241.8181818181818,116.53482948459764L242.1818181818182,116.53250035374705L242.54545454545453,116.53090666361119L242.9090909090909,116.52947449558155L243.27272727272725,116.52817543597993L243.63636363636365,116.52692218442469L244,116.52617847316841L244.36363636363637,116.52570883476794L244.72727272727272,116.50869607447085L245.09090909090907,116.49344956388113L245.45454545454547,116.48204583298872L245.8181818181818,116.45634632367887L246.1818181818182,116.44849639672184L246.54545454545453,116.44268590146972L246.90909090909093,116.43764525226297L247.27272727272725,116.43289020104797L247.63636363636365,116.42957329135011L248,116.42713637434659L248.36363636363635,116.42527084752774L248.72727272727272,116.41166438127158L249.09090909090907,116.40391079024184L249.45454545454547,116.40297872137037L249.8181818181818,116.40517601055176L250.1818181818182,116.40846875099298L250.54545454545453,116.41188092572021L250.90909090909093,116.41520251455546L251.27272727272728,116.41823030204246L251.63636363636365,116.42084336623952L252,116.42300283287366L252.36363636363635,116.520616949614L252.72727272727275,116.60086821678068L253.09090909090907,116.66648889685507L253.45454545454547,116.73550164814101L253.8181818181818,116.79569099072529L254.1818181818182,116.83544773939111L254.54545454545453,116.85998089977065L254.90909090909093,116.87651233986824L255.27272727272728,116.88853598136124L255.63636363636363,116.8952475372937L256,116.8974376229339L256.3636363636364,116.9947934455861L256.72727272727275,117.03230774140529L257.09090909090907,117.04494228178777L257.4545454545455,117.05030144742419L257.8181818181818,117.05185733507501L258.1818181818182,117.0463312750996L258.54545454545456,117.02624596528715L258.9090909090909,117.00571617095892L259.27272727272725,116.98860629261647L259.6363636363636,116.97460575305621L260,116.96339288225721L260.3636363636364,116.95204793852992L260.72727272727275,116.93896064871785L261.09090909090907,116.9277160466655L261.4545454545455,116.9178280041087L261.8181818181818,116.90920463205647L262.1818181818182,116.8848876516499L262.54545454545456,116.87792669279963L262.9090909090909,116.87155442439709L263.27272727272725,116.86621941562294L263.6363636363636,116.86196052535335L264,116.8586750352391L264.3636363636364,116.85618766803789L264.72727272727275,116.8113435626894L265.09090909090907,116.791323637665L265.4545454545455,116.78265692126146L265.8181818181818,116.77820218271071L266.1818181818182,116.77805035196354L266.54545454545456,116.78234330182617L266.9090909090909,116.78898151096035L267.2727272727273,116.79699800097482L267.6363636363636,116.80333665650855L268,116.80656907234828L268.3636363636364,116.80613113556018L268.72727272727275,116.8040001224377L269.09090909090907,116.8011420063102L269.45454545454544,116.7977882651428L269.8181818181818,116.79442327590617L270.1818181818182,116.78746743662714L270.54545454545456,116.77854608554247L270.9090909090909,116.7667723056276L271.2727272727273,116.75446505833627L271.6363636363636,116.74051876742149L272,116.71607322746405L272.3636363636364,116.69612802889775L272.7272727272727,116.68392529632403L273.0909090909091,116.6738277374469L273.45454545454544,116.66549564770747L273.8181818181818,116.65972696303103L274.1818181818182,116.65692739702939L274.54545454545456,116.65577789698014L274.9090909090909,116.61768779058315L275.2727272727273,116.6053680976336L275.6363636363636,116.59921838386171L276,116.59303776060672L276.3636363636364,116.58612634889818L276.7272727272727,116.581229808485L277.0909090909091,116.60628834062159L277.45454545454544,116.71549919831143L277.8181818181818,116.77187119826363L278.1818181818182,116.79743860589853L278.54545454545456,116.82440244500837L278.9090909090909,116.83921470836904L279.2727272727273,116.8483652988411L279.6363636363636,116.85754897790963L280,116.85197758067987L280.3636363636364,116.84575481488808L280.7272727272727,116.83780154473331L281.0909090909091,116.82784273383615L281.45454545454544,116.82023869777605L281.8181818181818,116.81412046308539L282.1818181818182,116.81228879269632L282.54545454545456,116.81172955798212L282.90909090909093,116.8120911274676L283.27272727272725,116.81301635653973L283.6363636363636,116.81422433429209L284,116.81557742540969L284.3636363636364,116.81621125751458L284.7272727272727,116.81521619885177L285.0909090909091,116.81430582831705L285.45454545454544,116.81375106614529L285.8181818181818,116.81350633055594L286.1818181818182,116.81347601481464L286.5454545454545,116.81358139202777L286.90909090909093,116.81375801993327L287.27272727272725,116.81395896034401L287.6363636363636,116.82627111183228L288,116.82273128534825L288.3636363636364,116.81766475134143L288.72727272727275,116.80830142375846L289.0909090909091,116.80079781559489L289.45454545454544,116.79396510170723L289.8181818181818,116.78772090572917L290.1818181818182,116.78194807265618L290.5454545454545,116.77659188674849L290.90909090909093,116.77151982074716L291.27272727272725,116.76629782739658L291.6363636363636,116.76160888909281L292,116.75728465005352L292.3636363636364,116.75325686435436L292.72727272727275,116.74954652977345L293.0909090909091,116.75971740391995L293.45454545454544,116.76076087794729L293.8181818181818,116.7837268245826L294.1818181818182,116.81428719840625L294.5454545454545,116.84526482243345L294.90909090909093,116.86399794699969L295.27272727272725,116.88091790436654L295.6363636363636,116.89490299803451L296,116.90770501921594L296.3636363636364,116.91873841740501L296.72727272727275,116.92413069913015L297.09090909090907,116.93279397545575L297.45454545454544,116.94310696468028L297.8181818181818,116.95302278859008L298.1818181818182,116.96237164978638L298.54545454545456,116.97105319639478L298.90909090909093,116.98401409910586L299.27272727272725,117.0534738790638L299.6363636363637,117.07518087683893L300,117.08537027466517L300.3636363636363,117.09385887446872L300.72727272727275,117.10192599579538L301.09090909090907,117.10928361392972L301.45454545454544,117.1119977812518L301.8181818181818,117.1140224548775L302.1818181818182,117.11137848804891L302.54545454545456,117.10976916854452L302.90909090909093,117.1083423966275L303.27272727272725,117.10303642623114L303.6363636363636,117.06147724331808L304,117.06504663625572L304.3636363636364,117.05756319663072L304.72727272727275,117.03188034075313L305.09090909090907,117.00725147693944L305.4545454545455,116.98646752142264L305.8181818181818,116.96997136326672L306.1818181818182,116.95734072362231L306.54545454545456,116.94796744520022L306.9090909090909,116.94142309811197L307.27272727272725,116.86933443031799L307.6363636363636,116.88154509792498L308,116.90362560635926L308.3636363636364,116.92464734626174L308.72727272727275,116.94329173415939L309.09090909090907,116.96847970135865L309.4545454545455,116.99359031917086L309.8181818181818,117.01629023530917L310.1818181818182,117.0367938955561L310.54545454545456,117.05410441812911L310.9090909090909,117.06812965841102L311.27272727272725,117.07881822426415L311.6363636363636,117.08749738881315L312,117.09491727533484L312.3636363636364,117.1013998072524L312.72727272727275,117.10619873639007L313.09090909090907,117.10984320178537L313.4545454545455,117.11267500371716L313.8181818181818,117.11446348971401L314.1818181818182,117.11524418134461L314.54545454545456,117.11480325551737L314.9090909090909,117.11347484205609L315.2727272727273,117.11195553095202L315.6363636363636,117.11018648826357L316,117.03414513833867L316.3636363636364,117.00717003186489L316.72727272727275,116.97052427999472L317.09090909090907,116.94510348204909L317.45454545454544,116.928336741646L317.8181818181818,116.91719237400653L318.1818181818182,116.90442199669317L318.54545454545456,116.8942433956738L318.9090909090909,116.88666682659968L319.2727272727273,116.88089322519777L319.6363636363636,116.87626471575565L320,116.8721937246125L320.3636363636364,116.86892752886202L320.7272727272727,116.86618688352787L321.0909090909091,116.86433856160545L321.45454545454544,116.86221515047231L321.8181818181818,116.85910984369232L322.1818181818182,116.85612653446644L322.54545454545456,116.85381682228248L322.9090909090909,116.85201680600028L323.2727272727273,116.8505267240156L323.6363636363636,116.8493782662553L324,116.84809925856223L324.3636363636364,116.8467646685809L324.7272727272727,116.8454823613978L325.0909090909091,116.84424930675397L325.45454545454544,116.84305034060472L325.8181818181818,116.84185833579778L326.1818181818182,116.84071154427431L326.54545454545456,116.83961502463016L326.9090909090909,116.8391259835083L327.2727272727273,116.83902850740127L327.6363636363636,116.83867929167148L328,116.83946276224917L328.3636363636364,116.84005994079602L328.7272727272727,116.84015122630291L329.0909090909091,116.83991881869318L329.45454545454544,116.83950421775467L329.8181818181818,116.83896512947838L330.1818181818182,116.83838038237053L330.54545454545456,116.83779274378408L330.90909090909093,116.83722667514105L331.27272727272725,116.83669564839754L331.6363636363636,116.8362584620152L332,116.83593124230025L332.3636363636364,116.83571762054115L332.7272727272727,116.83558971195771L333.0909090909091,116.83552893871263L333.45454545454544,116.83552563132547L333.8181818181818,116.83558842425819L334.1818181818182,116.83570494049084L334.5454545454545,116.8358570568249L334.90909090909093,116.83603109117225L335.27272727272725,116.83621592026081L335.6363636363636,116.83640441629896L336,116.83659378082982L336.3636363636364,116.83678112827785L336.72727272727275,116.83696353924087L337.0909090909091,116.83713835958427L337.45454545454544,116.83730337315312L337.8181818181818,116.83745685894151L338.1818181818182,116.83759757785906L338.5454545454545,116.83772472427445L338.90909090909093,116.83783786385351L339.27272727272725,116.83793686948061L339.6363636363636,116.83802186120522L340,116.83859750765444L340.3636363636364,116.8391117705795L340.72727272727275,116.83934604552498L341.0909090909091,116.839551205298L341.45454545454544,116.83973481893872L341.8181818181818,116.8398953562694L342.1818181818182,116.84003295484469L342.5454545454545,116.75799541125377L342.90909090909093,116.74157886410232L343.27272727272725,116.74438324837548L343.6363636363636,116.7529751365609L344,116.68606348028322L344.3636363636364,116.63687326133525L344.72727272727275,116.58250467946382L345.09090909090907,116.53253029931996L345.45454545454544,116.48047597154849L345.8181818181818,116.43015253272821L346.1818181818182,116.38222829660829L346.54545454545456,116.33871634626047L346.90909090909093,116.29803121731048L347.27272727272725,116.26019297745293L347.6363636363636,116.22484637629813L348,116.18521728704026L348.3636363636363,116.16068984837102L348.72727272727275,116.14095986102082L349.09090909090907,116.12467602155168L349.45454545454544,116.1104185281155L349.8181818181818,116.0991202154737L350.1818181818182,116.09197771411259L350.54545454545456,116.08702233385561L350.90909090909093,116.08298456122101L351.27272727272725,116.0792228893632L351.6363636363637,116.08165376570554L352,116.0760499448859L352.3636363636364,116.07116706640666L352.72727272727275,116.06934118105036L353.09090909090907,116.06780130371628L353.45454545454544,116.0664764681796L353.8181818181818,116.05890075001635L354.1818181818182,116.05634235323221L354.54545454545456,116.05424355760836L354.90909090909093,116.05327394291626L355.27272727272725,116.05382362332443L355.6363636363636,116.05377184637035L356,116.05276441142713L356.3636363636364,116.05141679922149L356.72727272727275,116.0522691268739L357.09090909090907,116.05117411454245L357.4545454545455,116.04929057211612L357.8181818181818,116.04736087588985L358.1818181818182,116.04528769405202L358.54545454545456,116.04300093523791L358.9090909090909,116.04082123999203L359.27272727272725,116.03892254907926L359.6363636363636,116.03727539289197L360,116.03594352348021L360.3636363636364,116.0348589699125L360.72727272727275,116.03424113546885L361.09090909090907,116.03392714216385L361.4545454545455,116.03317467704304L361.8181818181818,116.03207787209024L362.1818181818182,116.03090503523737L362.54545454545456,116.02948230353074L362.9090909090909,116.02842621269048L363.27272727272725,116.0274800373192L363.6363636363636,116.02659630887284L364,116.02576561291123L364.3636363636364,116.02498787185284\" stroke=\"#4c78a8\" stroke-width=\"2\"/></g></g><path class=\"foreground\" aria-hidden=\"true\" d=\"\" display=\"none\"/></g></g><g class=\"mark-group role-legend\" role=\"graphics-symbol\" aria-roledescription=\"legend\" aria-label=\"Symbol legend titled 'learner' for stroke color with 2 values: SAL, XGBoost\"><g transform=\"translate(418,0)\"><path class=\"background\" aria-hidden=\"true\" d=\"M0,0h58v40h-58Z\" pointer-events=\"none\"/><g><g class=\"mark-group role-legend-entry\"><g transform=\"translate(0,16)\"><path class=\"background\" aria-hidden=\"true\" d=\"M0,0h0v0h0Z\" pointer-events=\"none\"/><g><g class=\"mark-group role-scope\" role=\"graphics-object\" aria-roledescription=\"group mark container\"><g transform=\"translate(0,0)\"><path class=\"background\" aria-hidden=\"true\" d=\"M0,0h58v11h-58Z\" pointer-events=\"none\" opacity=\"1\"/><g><g class=\"mark-symbol role-legend-symbol\" pointer-events=\"none\"><path transform=\"translate(6,6)\" d=\"M-5,0L5,0\" stroke=\"#4c78a8\" stroke-width=\"1.5\" opacity=\"1\"/></g><g class=\"mark-text role-legend-label\" pointer-events=\"none\"><text text-anchor=\"start\" transform=\"translate(16,9)\" font-family=\"sans-serif\" font-size=\"10px\" fill=\"#000\" opacity=\"1\">SAL</text></g></g><path class=\"foreground\" aria-hidden=\"true\" d=\"\" pointer-events=\"none\" display=\"none\"/></g><g transform=\"translate(0,13)\"><path class=\"background\" aria-hidden=\"true\" d=\"M0,0h58v11h-58Z\" pointer-events=\"none\" opacity=\"1\"/><g><g class=\"mark-symbol role-legend-symbol\" pointer-events=\"none\"><path transform=\"translate(6,6)\" d=\"M-5,0L5,0\" stroke=\"#f58518\" stroke-width=\"1.5\" opacity=\"1\"/></g><g class=\"mark-text role-legend-label\" pointer-events=\"none\"><text text-anchor=\"start\" transform=\"translate(16,9)\" font-family=\"sans-serif\" font-size=\"10px\" fill=\"#000\" opacity=\"1\">XGBoost</text></g></g><path class=\"foreground\" aria-hidden=\"true\" d=\"\" pointer-events=\"none\" display=\"none\"/></g></g></g><path class=\"foreground\" aria-hidden=\"true\" d=\"\" pointer-events=\"none\" display=\"none\"/></g></g><g class=\"mark-text role-legend-title\" pointer-events=\"none\"><text text-anchor=\"start\" transform=\"translate(0,9)\" font-family=\"sans-serif\" font-size=\"11px\" font-weight=\"bold\" fill=\"#000\" opacity=\"1\">learner</text></g></g><path class=\"foreground\" aria-hidden=\"true\" d=\"\" pointer-events=\"none\" display=\"none\"/></g></g></g><path class=\"foreground\" aria-hidden=\"true\" d=\"\" display=\"none\"/></g></g></g></svg>\n"
      ],
      "text/plain": [
       "@vlplot(\n",
       "    width=400,\n",
       "    height=200,\n",
       "    mark=\"line\",\n",
       "    encoding={\n",
       "        x={\n",
       "            field=\"n_iter\"\n",
       "        },\n",
       "        y={\n",
       "            field=\"loss\"\n",
       "        },\n",
       "        color={\n",
       "            field=\"learner\"\n",
       "        }\n",
       "    },\n",
       "    data={\n",
       "        values=...\n",
       "    }\n",
       ")"
      ]
     },
     "execution_count": 92,
     "metadata": {},
     "output_type": "execute_result"
    }
   ],
   "source": [
    "df = vcat(df_xgb, df_sal);\n",
    "df |>\n",
    "@vlplot(\n",
    "    :line,\n",
    "    x=:n_iter,\n",
    "    y=:loss,\n",
    "    color=:learner,\n",
    "    width=400,\n",
    "    height=200\n",
    ")"
   ]
  },
  {
   "cell_type": "code",
   "execution_count": null,
   "id": "19087454-d6dd-4608-affb-8f4c4f7a5457",
   "metadata": {},
   "outputs": [],
   "source": []
  }
 ],
 "metadata": {
  "kernelspec": {
   "display_name": "Julia 1.6.3",
   "language": "julia",
   "name": "julia-1.6"
  },
  "language_info": {
   "file_extension": ".jl",
   "mimetype": "application/julia",
   "name": "julia",
   "version": "1.6.3"
  }
 },
 "nbformat": 4,
 "nbformat_minor": 5
}
