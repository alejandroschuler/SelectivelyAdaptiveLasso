{
 "cells": [
  {
   "cell_type": "code",
   "execution_count": 1,
   "id": "0a0b8858-e530-4f24-979a-eda8295481ff",
   "metadata": {},
   "outputs": [
    {
     "name": "stderr",
     "output_type": "stream",
     "text": [
      "\u001b[32m\u001b[1m  Activating\u001b[22m\u001b[39m environment at `~/Desktop/SelectivelyAdaptiveLasso/Project.toml`\n"
     ]
    }
   ],
   "source": [
    "using Pkg, Revise\n",
    "Pkg.activate(\".\")"
   ]
  },
  {
   "cell_type": "code",
   "execution_count": 2,
   "id": "cc871c5c-b1f4-4da9-b74b-ddec089c413a",
   "metadata": {},
   "outputs": [
    {
     "name": "stderr",
     "output_type": "stream",
     "text": [
      "┌ Info: Precompiling SelectivelyAdaptiveLasso [52f33b2b-83b2-4cfe-8aa4-4763af86ef4f]\n",
      "└ @ Base loading.jl:1342\n"
     ]
    }
   ],
   "source": [
    "import SelectivelyAdaptiveLasso as SAL"
   ]
  },
  {
   "cell_type": "code",
   "execution_count": 3,
   "id": "ca93938e-0ecf-44fe-983f-95d7060797c8",
   "metadata": {},
   "outputs": [],
   "source": [
    "import Statistics: mean\n",
    "import Distributions as Dist\n",
    "import LinearAlgebra: diagm\n",
    "\n",
    "n, p = 5000, 10\n",
    "\n",
    "X_dist = Dist.reshape(\n",
    "    Dist.MvNormal(zeros(p), 0.1ones(p,p) + 0.9diagm(ones(p))), \n",
    "    (1,p)\n",
    ")\n",
    "\n",
    "X = vcat(rand(X_dist, n)...);\n",
    "# Y = rand(n)\n",
    "Y = 5X[:,1] + X[:,2].^2 - 3X[:,3].*X[:,4]\n",
    "Y = Y .- mean(Y)\n",
    "\n",
    "n_val = Int(round(n/2))\n",
    "X_val, Y_val = X[1:n_val,:], Y[1:n_val]\n",
    "X, Y = X[(n_val+1):end,:], Y[(n_val+1):end];"
   ]
  },
  {
   "cell_type": "code",
   "execution_count": 9,
   "id": "c4aea174-511c-4e4f-bd2d-2bec3998cc78",
   "metadata": {
    "collapsed": true,
    "jupyter": {
     "outputs_hidden": true
    },
    "tags": []
   },
   "outputs": [
    {
     "name": "stdout",
     "output_type": "stream",
     "text": [
      "(18.850426792376467, 16.222242585626624, 0.02, Set([1]))\n",
      "(18.851653834856858, 16.229862813853586, 0.02, Set([4]))\n",
      "(18.85019012203149, 16.90558876435196, 0.02, Set([6, 1]))\n",
      "(18.850230129047763, 16.90616814119545, 0.02, Set([3]))\n",
      "(18.837747589553427, 16.908212741695216, 0.02, Set([10]))\n",
      "(18.808117570684782, 19.061064933272426, 0.02, Set([10, 1]))\n",
      "(18.79304337661477, 22.31000526167395, 0.02, Set([3, 1]))\n",
      "(18.7918248026099, 22.139761593142875, 0.02, Set([9]))\n",
      "(18.161313530249217, 22.320869855462842, 0.02, Set([2]))\n",
      "(18.139811031361297, 25.269178774851063, 0.02, Set([5, 8, 1]))\n",
      "(17.914265239304417, 25.209808876069328, 0.02, Set([4, 3]))\n",
      "(17.91426901986092, 25.211383634498663, 0.02, Set([2, 1]))\n",
      "(17.914340754784302, 25.213685917799, 0.02, Set([2, 10, 1]))\n",
      "(17.840248591869084, 25.59550595290499, 0.02, Set([5, 4, 1]))\n",
      "(17.840385926701806, 25.601628680296546, 0.02, Set([4, 2, 3]))\n",
      "(17.84046931270551, 25.60785856111278, 0.02, Set([6, 7, 10]))\n",
      "(17.840898384330835, 25.61021639548203, 0.02, Set([4, 7, 3]))\n",
      "(17.840787892707432, 25.6248748114478, 0.02, Set([7]))\n",
      "(17.84126256658791, 25.62730664265937, 0.02, Set([2, 3, 1]))\n",
      "(17.84147707304145, 25.629844383265503, 0.02, Set([9, 3]))\n",
      "(17.841599222627135, 25.63238221787188, 0.02, Set([4, 2]))\n",
      "(17.84168071170031, 25.634863622088467, 0.02, Set([5, 4, 3]))\n",
      "(17.809671615263674, 25.22850163510069, 0.02, Set([4, 2, 1]))\n",
      "(17.809691412529403, 25.232719963810123, 0.02, Set([5, 1]))\n",
      "(17.809684225053637, 25.236535577851587, 0.02, Set([6, 3]))\n",
      "(17.809677902463342, 25.24004056462727, 0.02, Set([2, 9]))\n",
      "(17.809675778152872, 25.243310444761985, 0.02, Set([5, 3]))\n",
      "(17.807695493638143, 25.275124531116198, 0.02, Set([9, 1]))\n",
      "(17.80555393838422, 25.31473256422166, 0.02, Set([5, 2]))\n",
      "(17.80555272167211, 25.31675865342299, 0.02, Set([5, 2, 3]))\n",
      "(17.80550657639018, 25.318485680913305, 0.02, Set([5]))\n",
      "(17.80545563226907, 25.319981562626456, 0.02, Set([4, 9, 3]))\n",
      "(17.805407922027882, 25.321308491548034, 0.02, Set([4, 9]))\n",
      "(17.805365481209638, 25.3225148698128, 0.02, Set([4, 2, 9, 1]))\n",
      "(17.805328551281313, 25.323636421263465, 0.02, Set([2, 3]))\n",
      "(17.805296805002186, 25.32469906446691, 0.02, Set([4, 10]))\n",
      "(17.803720722523042, 25.643302044151607, 0.02, Set([8, 3, 1]))\n",
      "(17.804398389923335, 25.41536412929662, 0.02, Set([4, 3, 1]))\n",
      "(17.802310159513944, 25.3806431018083, 0.02, Set([2, 8, 1]))\n",
      "(17.80233732553933, 25.37658228717343, 0.02, Set([5, 4, 2]))\n",
      "(17.802351901149766, 25.37215167167094, 0.02, Set([5, 4, 3, 1]))\n"
     ]
    }
   ],
   "source": [
    "sal_spec = SAL.SALSpec(\n",
    "    max_iter=40,\n",
    "    λ_max = 0.02,\n",
    "    m_subsample=400,\n",
    "    n_subsample=400,\n",
    ")\n",
    "sal_fit, log = SAL.fit(\n",
    "    sal_spec, \n",
    "    X, Y, \n",
    "    X_val=X_val, Y_val=Y_val\n",
    ")\n",
    "loss, loss_val, _, _ = log;"
   ]
  },
  {
   "cell_type": "code",
   "execution_count": 12,
   "id": "8c715a52-4543-40ba-8052-a63940a9fcac",
   "metadata": {},
   "outputs": [
    {
     "data": {
      "text/plain": [
       "15.371760625259258"
      ]
     },
     "execution_count": 12,
     "metadata": {},
     "output_type": "execute_result"
    }
   ],
   "source": [
    "Ŷ = SAL.predict(sal_fit, X_val)\n",
    "mean((Y_val - Ŷ).^2)"
   ]
  },
  {
   "cell_type": "code",
   "execution_count": 13,
   "id": "ed9036c3-17ef-4718-9b8f-a6a42cd0ca22",
   "metadata": {},
   "outputs": [],
   "source": [
    "using XGBoost"
   ]
  },
  {
   "cell_type": "code",
   "execution_count": 14,
   "id": "36c88d86-4ab5-4a47-bf31-18a880f0d502",
   "metadata": {
    "collapsed": true,
    "jupyter": {
     "outputs_hidden": true
    },
    "tags": []
   },
   "outputs": [
    {
     "name": "stderr",
     "output_type": "stream",
     "text": [
      "[1]\ttrain-rmse:5.667721\n",
      "[2]\ttrain-rmse:5.306073\n",
      "[3]\ttrain-rmse:4.987460\n",
      "[4]\ttrain-rmse:4.705669\n",
      "[5]\ttrain-rmse:4.462399\n",
      "[6]\ttrain-rmse:4.246899\n",
      "[7]\ttrain-rmse:4.056801\n",
      "[8]\ttrain-rmse:3.888477\n",
      "[9]\ttrain-rmse:3.748150\n",
      "[10]\ttrain-rmse:3.620879\n",
      "[11]\ttrain-rmse:3.513781\n",
      "[12]\ttrain-rmse:3.416229\n",
      "[13]\ttrain-rmse:3.314048\n",
      "[14]\ttrain-rmse:3.229013\n",
      "[15]\ttrain-rmse:3.148196\n",
      "[16]\ttrain-rmse:3.089708\n",
      "[17]\ttrain-rmse:3.038271\n",
      "[18]\ttrain-rmse:2.968949\n",
      "[19]\ttrain-rmse:2.920964\n",
      "[20]\ttrain-rmse:2.856219\n",
      "[21]\ttrain-rmse:2.822420\n",
      "[22]\ttrain-rmse:2.780844\n",
      "[23]\ttrain-rmse:2.751428\n",
      "[24]\ttrain-rmse:2.726351\n",
      "[25]\ttrain-rmse:2.691620\n",
      "[26]\ttrain-rmse:2.619180\n",
      "[27]\ttrain-rmse:2.601338\n",
      "[28]\ttrain-rmse:2.487532\n",
      "[29]\ttrain-rmse:2.472124\n",
      "[30]\ttrain-rmse:2.447840\n",
      "[31]\ttrain-rmse:2.431276\n",
      "[32]\ttrain-rmse:2.413248\n",
      "[33]\ttrain-rmse:2.395501\n",
      "[34]\ttrain-rmse:2.374310\n",
      "[35]\ttrain-rmse:2.359915\n",
      "[36]\ttrain-rmse:2.341735\n",
      "[37]\ttrain-rmse:2.324453\n",
      "[38]\ttrain-rmse:2.311752\n",
      "[39]\ttrain-rmse:2.214253\n",
      "[40]\ttrain-rmse:2.180028\n",
      "[41]\ttrain-rmse:2.163296\n",
      "[42]\ttrain-rmse:2.136703\n",
      "[43]\ttrain-rmse:2.052886\n",
      "[44]\ttrain-rmse:2.042864\n",
      "[45]\ttrain-rmse:2.036436\n",
      "[46]\ttrain-rmse:2.027131\n",
      "[47]\ttrain-rmse:1.998787\n",
      "[48]\ttrain-rmse:1.983480\n",
      "[49]\ttrain-rmse:1.977534\n",
      "[50]\ttrain-rmse:1.963118\n",
      "[51]\ttrain-rmse:1.958960\n",
      "[52]\ttrain-rmse:1.943568\n",
      "[53]\ttrain-rmse:1.936306\n",
      "[54]\ttrain-rmse:1.930448\n",
      "[55]\ttrain-rmse:1.918018\n",
      "[56]\ttrain-rmse:1.868377\n",
      "[57]\ttrain-rmse:1.863877\n",
      "[58]\ttrain-rmse:1.860650\n",
      "[59]\ttrain-rmse:1.810272\n",
      "[60]\ttrain-rmse:1.792020\n",
      "[61]\ttrain-rmse:1.789896\n",
      "[62]\ttrain-rmse:1.784906\n",
      "[63]\ttrain-rmse:1.781312\n",
      "[64]\ttrain-rmse:1.773875\n",
      "[65]\ttrain-rmse:1.754253\n",
      "[66]\ttrain-rmse:1.749483\n",
      "[67]\ttrain-rmse:1.743857\n",
      "[68]\ttrain-rmse:1.692254\n",
      "[69]\ttrain-rmse:1.688961\n",
      "[70]\ttrain-rmse:1.687281\n",
      "[71]\ttrain-rmse:1.667055\n",
      "[72]\ttrain-rmse:1.606518\n",
      "[73]\ttrain-rmse:1.601333\n",
      "[74]\ttrain-rmse:1.599821\n",
      "[75]\ttrain-rmse:1.598400\n",
      "[76]\ttrain-rmse:1.596328\n",
      "[77]\ttrain-rmse:1.594103\n",
      "[78]\ttrain-rmse:1.527022\n",
      "[79]\ttrain-rmse:1.523156\n",
      "[80]\ttrain-rmse:1.521823\n",
      "[81]\ttrain-rmse:1.472367\n",
      "[82]\ttrain-rmse:1.467098\n",
      "[83]\ttrain-rmse:1.465356\n",
      "[84]\ttrain-rmse:1.443466\n",
      "[85]\ttrain-rmse:1.440124\n",
      "[86]\ttrain-rmse:1.436332\n",
      "[87]\ttrain-rmse:1.426383\n",
      "[88]\ttrain-rmse:1.425456\n",
      "[89]\ttrain-rmse:1.415918\n",
      "[90]\ttrain-rmse:1.408589\n",
      "[91]\ttrain-rmse:1.369232\n",
      "[92]\ttrain-rmse:1.365943\n",
      "[93]\ttrain-rmse:1.364551\n",
      "[94]\ttrain-rmse:1.352206\n",
      "[95]\ttrain-rmse:1.349060\n",
      "[96]\ttrain-rmse:1.273371\n",
      "[97]\ttrain-rmse:1.271608\n",
      "[98]\ttrain-rmse:1.268994\n",
      "[99]\ttrain-rmse:1.267252\n",
      "[100]\ttrain-rmse:1.255012\n"
     ]
    },
    {
     "data": {
      "text/plain": [
       "2500-element Vector{Float32}:\n",
       "  2.125951\n",
       " -0.8188777\n",
       "  1.3464571\n",
       "  1.9144443\n",
       "  1.0231552\n",
       " -1.1149218\n",
       " -5.366417\n",
       "  1.8568602\n",
       " -4.266981\n",
       " -5.026776\n",
       "  1.9554496\n",
       "  1.887693\n",
       " -9.90477\n",
       "  ⋮\n",
       "  1.2130193\n",
       " -5.3429523\n",
       " -5.8551846\n",
       " -2.3047516\n",
       " -4.913264\n",
       "  6.933373\n",
       " -1.7384822\n",
       " -4.6576014\n",
       "  0.6591926\n",
       "  3.2764697\n",
       "  7.2495575\n",
       "  1.667335"
      ]
     },
     "execution_count": 14,
     "metadata": {},
     "output_type": "execute_result"
    }
   ],
   "source": [
    "bst = xgboost(X, 100, label = Y, eta = 0.1, max_depth = 4)\n",
    "Ŷ = predict(bst, X_val)"
   ]
  },
  {
   "cell_type": "code",
   "execution_count": 15,
   "id": "65c85585-ff6e-4627-8cf0-d16e053bf6e5",
   "metadata": {},
   "outputs": [
    {
     "data": {
      "text/plain": [
       "2.850314579614823"
      ]
     },
     "execution_count": 15,
     "metadata": {},
     "output_type": "execute_result"
    }
   ],
   "source": [
    "mean((Y_val - Ŷ).^2)"
   ]
  },
  {
   "cell_type": "code",
   "execution_count": null,
   "id": "8a28bfa5-08c7-45ee-95c3-9294e4e9be4e",
   "metadata": {},
   "outputs": [],
   "source": []
  }
 ],
 "metadata": {
  "kernelspec": {
   "display_name": "Julia 1.6.3",
   "language": "julia",
   "name": "julia-1.6"
  },
  "language_info": {
   "file_extension": ".jl",
   "mimetype": "application/julia",
   "name": "julia",
   "version": "1.6.3"
  }
 },
 "nbformat": 4,
 "nbformat_minor": 5
}
